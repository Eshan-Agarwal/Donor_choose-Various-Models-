{
 "cells": [
  {
   "cell_type": "markdown",
   "metadata": {},
   "source": [
    "# DonorsChoose"
   ]
  },
  {
   "cell_type": "markdown",
   "metadata": {},
   "source": [
    "<p>\n",
    "DonorsChoose.org receives hundreds of thousands of project proposals each year for classroom projects in need of funding. Right now, a large number of volunteers is needed to manually screen each submission before it's approved to be posted on the DonorsChoose.org website.\n",
    "</p>\n",
    "<p>\n",
    "    Next year, DonorsChoose.org expects to receive close to 500,000 project proposals. As a result, there are three main problems they need to solve:\n",
    "<ul>\n",
    "<li>\n",
    "    How to scale current manual processes and resources to screen 500,000 projects so that they can be posted as quickly and as efficiently as possible</li>\n",
    "    <li>How to increase the consistency of project vetting across different volunteers to improve the experience for teachers</li>\n",
    "    <li>How to focus volunteer time on the applications that need the most assistance</li>\n",
    "    </ul>\n",
    "</p>    \n",
    "<p>\n",
    "The goal of the competition is to predict whether or not a DonorsChoose.org project proposal submitted by a teacher will be approved, using the text of project descriptions as well as additional metadata about the project, teacher, and school. DonorsChoose.org can then use this information to identify projects most likely to need further review before approval.\n",
    "</p>"
   ]
  },
  {
   "cell_type": "markdown",
   "metadata": {},
   "source": [
    "## About the DonorsChoose Data Set\n",
    "\n",
    "The `train.csv` data set provided by DonorsChoose contains the following features:\n",
    "\n",
    "Feature | Description \n",
    "----------|---------------\n",
    "**`project_id`** | A unique identifier for the proposed project. **Example:** `p036502`   \n",
    "**`project_title`**    | Title of the project. **Examples:**<br><ul><li><code>Art Will Make You Happy!</code></li><li><code>First Grade Fun</code></li></ul> \n",
    "**`project_grade_category`** | Grade level of students for which the project is targeted. One of the following enumerated values: <br/><ul><li><code>Grades PreK-2</code></li><li><code>Grades 3-5</code></li><li><code>Grades 6-8</code></li><li><code>Grades 9-12</code></li></ul>  \n",
    " **`project_subject_categories`** | One or more (comma-separated) subject categories for the project from the following enumerated list of values:  <br/><ul><li><code>Applied Learning</code></li><li><code>Care &amp; Hunger</code></li><li><code>Health &amp; Sports</code></li><li><code>History &amp; Civics</code></li><li><code>Literacy &amp; Language</code></li><li><code>Math &amp; Science</code></li><li><code>Music &amp; The Arts</code></li><li><code>Special Needs</code></li><li><code>Warmth</code></li></ul><br/> **Examples:** <br/><ul><li><code>Music &amp; The Arts</code></li><li><code>Literacy &amp; Language, Math &amp; Science</code></li>  \n",
    "  **`school_state`** | State where school is located ([Two-letter U.S. postal code](https://en.wikipedia.org/wiki/List_of_U.S._state_abbreviations#Postal_codes)). **Example:** `WY`\n",
    "**`project_subject_subcategories`** | One or more (comma-separated) subject subcategories for the project. **Examples:** <br/><ul><li><code>Literacy</code></li><li><code>Literature &amp; Writing, Social Sciences</code></li></ul> \n",
    "**`project_resource_summary`** | An explanation of the resources needed for the project. **Example:** <br/><ul><li><code>My students need hands on literacy materials to manage sensory needs!</code</li></ul> \n",
    "**`project_essay_1`**    | First application essay<sup>*</sup>  \n",
    "**`project_essay_2`**    | Second application essay<sup>*</sup> \n",
    "**`project_essay_3`**    | Third application essay<sup>*</sup> \n",
    "**`project_essay_4`**    | Fourth application essay<sup>*</sup> \n",
    "**`project_submitted_datetime`** | Datetime when project application was submitted. **Example:** `2016-04-28 12:43:56.245`   \n",
    "**`teacher_id`** | A unique identifier for the teacher of the proposed project. **Example:** `bdf8baa8fedef6bfeec7ae4ff1c15c56`  \n",
    "**`teacher_prefix`** | Teacher's title. One of the following enumerated values: <br/><ul><li><code>nan</code></li><li><code>Dr.</code></li><li><code>Mr.</code></li><li><code>Mrs.</code></li><li><code>Ms.</code></li><li><code>Teacher.</code></li></ul>  \n",
    "**`teacher_number_of_previously_posted_projects`** | Number of project applications previously submitted by the same teacher. **Example:** `2` \n",
    "\n",
    "<sup>*</sup> See the section <b>Notes on the Essay Data</b> for more details about these features.\n",
    "\n",
    "Additionally, the `resources.csv` data set provides more data about the resources required for each project. Each line in this file represents a resource required by a project:\n",
    "\n",
    "Feature | Description \n",
    "----------|---------------\n",
    "**`id`** | A `project_id` value from the `train.csv` file.  **Example:** `p036502`   \n",
    "**`description`** | Desciption of the resource. **Example:** `Tenor Saxophone Reeds, Box of 25`   \n",
    "**`quantity`** | Quantity of the resource required. **Example:** `3`   \n",
    "**`price`** | Price of the resource required. **Example:** `9.95`   \n",
    "\n",
    "**Note:** Many projects require multiple resources. The `id` value corresponds to a `project_id` in train.csv, so you use it as a key to retrieve all resources needed for a project:\n",
    "\n",
    "The data set contains the following label (the value you will attempt to predict):\n",
    "\n",
    "Label | Description\n",
    "----------|---------------\n",
    "`project_is_approved` | A binary flag indicating whether DonorsChoose approved the project. A value of `0` indicates the project was not approved, and a value of `1` indicates the project was approve"
   ]
  },
  {
   "cell_type": "markdown",
   "metadata": {},
   "source": [
    "### Notes on the Essay Data\n",
    "\n",
    "<ul>\n",
    "Prior to May 17, 2016, the prompts for the essays were as follows:\n",
    "<li>__project_essay_1:__ \"Introduce us to your classroom\"</li>\n",
    "<li>__project_essay_2:__ \"Tell us more about your students\"</li>\n",
    "<li>__project_essay_3:__ \"Describe how your students will use the materials you're requesting\"</li>\n",
    "<li>__project_essay_3:__ \"Close by sharing why your project will make a difference\"</li>\n",
    "</ul>\n",
    "\n",
    "\n",
    "<ul>\n",
    "Starting on May 17, 2016, the number of essays was reduced from 4 to 2, and the prompts for the first 2 essays were changed to the following:<br>\n",
    "<li>__project_essay_1:__ \"Describe your students: What makes your students special? Specific details about their background, your neighborhood, and your school are all helpful.\"</li>\n",
    "<li>__project_essay_2:__ \"About your project: How will these materials make a difference in your students' learning and improve their school lives?\"</li>\n",
    "<br>For all projects with project_submitted_datetime of 2016-05-17 and later, the values of project_essay_3 and project_essay_4 will be NaN.\n",
    "</ul>\n"
   ]
  },
  {
   "cell_type": "markdown",
   "metadata": {},
   "source": [
    "# Import some useful Libraries"
   ]
  },
  {
   "cell_type": "code",
   "execution_count": 1,
   "metadata": {},
   "outputs": [],
   "source": [
    "%matplotlib inline\n",
    "import warnings\n",
    "warnings.filterwarnings(\"ignore\")\n",
    "\n",
    "\n",
    "\n",
    "import sqlite3\n",
    "import pandas as pd\n",
    "import numpy as np\n",
    "import nltk\n",
    "import string\n",
    "import matplotlib.pyplot as plt\n",
    "import seaborn as sns\n",
    "from sklearn.feature_extraction.text import TfidfTransformer\n",
    "from sklearn.feature_extraction.text import TfidfVectorizer\n",
    "\n",
    "from sklearn.feature_extraction.text import CountVectorizer\n",
    "from sklearn.metrics import confusion_matrix\n",
    "from sklearn import metrics\n",
    "from sklearn.metrics import roc_curve, auc\n",
    "from nltk.stem.porter import PorterStemmer\n",
    "\n",
    "import re\n",
    "# Tutorial about Python regular expressions: https://pymotw.com/2/re/\n",
    "import string\n",
    "from nltk.corpus import stopwords\n",
    "from nltk.stem import PorterStemmer\n",
    "from nltk.stem.wordnet import WordNetLemmatizer\n",
    "\n",
    "from gensim.models import Word2Vec\n",
    "from gensim.models import KeyedVectors\n",
    "import pickle\n",
    "\n",
    "from tqdm import tqdm\n",
    "import os"
   ]
  },
  {
   "cell_type": "markdown",
   "metadata": {},
   "source": [
    "## 1.1 Reading Data"
   ]
  },
  {
   "cell_type": "code",
   "execution_count": 2,
   "metadata": {},
   "outputs": [],
   "source": [
    "import pandas as pd\n",
    "\n",
    "project_data=pd.read_csv(\"train_data.csv\")\n",
    "resource_data=pd.read_csv(\"resources.csv\")"
   ]
  },
  {
   "cell_type": "code",
   "execution_count": 3,
   "metadata": {},
   "outputs": [
    {
     "data": {
      "text/html": [
       "<div>\n",
       "<style scoped>\n",
       "    .dataframe tbody tr th:only-of-type {\n",
       "        vertical-align: middle;\n",
       "    }\n",
       "\n",
       "    .dataframe tbody tr th {\n",
       "        vertical-align: top;\n",
       "    }\n",
       "\n",
       "    .dataframe thead th {\n",
       "        text-align: right;\n",
       "    }\n",
       "</style>\n",
       "<table border=\"1\" class=\"dataframe\">\n",
       "  <thead>\n",
       "    <tr style=\"text-align: right;\">\n",
       "      <th></th>\n",
       "      <th>Unnamed: 0</th>\n",
       "      <th>id</th>\n",
       "      <th>teacher_id</th>\n",
       "      <th>teacher_prefix</th>\n",
       "      <th>school_state</th>\n",
       "      <th>project_submitted_datetime</th>\n",
       "      <th>project_grade_category</th>\n",
       "      <th>project_subject_categories</th>\n",
       "      <th>project_subject_subcategories</th>\n",
       "      <th>project_title</th>\n",
       "      <th>project_essay_1</th>\n",
       "      <th>project_essay_2</th>\n",
       "      <th>project_essay_3</th>\n",
       "      <th>project_essay_4</th>\n",
       "      <th>project_resource_summary</th>\n",
       "      <th>teacher_number_of_previously_posted_projects</th>\n",
       "      <th>project_is_approved</th>\n",
       "    </tr>\n",
       "  </thead>\n",
       "  <tbody>\n",
       "    <tr>\n",
       "      <th>0</th>\n",
       "      <td>160221</td>\n",
       "      <td>p253737</td>\n",
       "      <td>c90749f5d961ff158d4b4d1e7dc665fc</td>\n",
       "      <td>Mrs.</td>\n",
       "      <td>IN</td>\n",
       "      <td>2016-12-05 13:43:57</td>\n",
       "      <td>Grades PreK-2</td>\n",
       "      <td>Literacy &amp; Language</td>\n",
       "      <td>ESL, Literacy</td>\n",
       "      <td>Educational Support for English Learners at Home</td>\n",
       "      <td>My students are English learners that are work...</td>\n",
       "      <td>\\\"The limits of your language are the limits o...</td>\n",
       "      <td>NaN</td>\n",
       "      <td>NaN</td>\n",
       "      <td>My students need opportunities to practice beg...</td>\n",
       "      <td>0</td>\n",
       "      <td>0</td>\n",
       "    </tr>\n",
       "    <tr>\n",
       "      <th>1</th>\n",
       "      <td>140945</td>\n",
       "      <td>p258326</td>\n",
       "      <td>897464ce9ddc600bced1151f324dd63a</td>\n",
       "      <td>Mr.</td>\n",
       "      <td>FL</td>\n",
       "      <td>2016-10-25 09:22:10</td>\n",
       "      <td>Grades 6-8</td>\n",
       "      <td>History &amp; Civics, Health &amp; Sports</td>\n",
       "      <td>Civics &amp; Government, Team Sports</td>\n",
       "      <td>Wanted: Projector for Hungry Learners</td>\n",
       "      <td>Our students arrive to our school eager to lea...</td>\n",
       "      <td>The projector we need for our school is very c...</td>\n",
       "      <td>NaN</td>\n",
       "      <td>NaN</td>\n",
       "      <td>My students need a projector to help with view...</td>\n",
       "      <td>7</td>\n",
       "      <td>1</td>\n",
       "    </tr>\n",
       "    <tr>\n",
       "      <th>2</th>\n",
       "      <td>21895</td>\n",
       "      <td>p182444</td>\n",
       "      <td>3465aaf82da834c0582ebd0ef8040ca0</td>\n",
       "      <td>Ms.</td>\n",
       "      <td>AZ</td>\n",
       "      <td>2016-08-31 12:03:56</td>\n",
       "      <td>Grades 6-8</td>\n",
       "      <td>Health &amp; Sports</td>\n",
       "      <td>Health &amp; Wellness, Team Sports</td>\n",
       "      <td>Soccer Equipment for AWESOME Middle School Stu...</td>\n",
       "      <td>\\r\\n\\\"True champions aren't always the ones th...</td>\n",
       "      <td>The students on the campus come to school know...</td>\n",
       "      <td>NaN</td>\n",
       "      <td>NaN</td>\n",
       "      <td>My students need shine guards, athletic socks,...</td>\n",
       "      <td>1</td>\n",
       "      <td>0</td>\n",
       "    </tr>\n",
       "  </tbody>\n",
       "</table>\n",
       "</div>"
      ],
      "text/plain": [
       "   Unnamed: 0       id                        teacher_id teacher_prefix  \\\n",
       "0      160221  p253737  c90749f5d961ff158d4b4d1e7dc665fc           Mrs.   \n",
       "1      140945  p258326  897464ce9ddc600bced1151f324dd63a            Mr.   \n",
       "2       21895  p182444  3465aaf82da834c0582ebd0ef8040ca0            Ms.   \n",
       "\n",
       "  school_state project_submitted_datetime project_grade_category  \\\n",
       "0           IN        2016-12-05 13:43:57          Grades PreK-2   \n",
       "1           FL        2016-10-25 09:22:10             Grades 6-8   \n",
       "2           AZ        2016-08-31 12:03:56             Grades 6-8   \n",
       "\n",
       "          project_subject_categories     project_subject_subcategories  \\\n",
       "0                Literacy & Language                     ESL, Literacy   \n",
       "1  History & Civics, Health & Sports  Civics & Government, Team Sports   \n",
       "2                    Health & Sports    Health & Wellness, Team Sports   \n",
       "\n",
       "                                       project_title  \\\n",
       "0   Educational Support for English Learners at Home   \n",
       "1              Wanted: Projector for Hungry Learners   \n",
       "2  Soccer Equipment for AWESOME Middle School Stu...   \n",
       "\n",
       "                                     project_essay_1  \\\n",
       "0  My students are English learners that are work...   \n",
       "1  Our students arrive to our school eager to lea...   \n",
       "2  \\r\\n\\\"True champions aren't always the ones th...   \n",
       "\n",
       "                                     project_essay_2 project_essay_3  \\\n",
       "0  \\\"The limits of your language are the limits o...             NaN   \n",
       "1  The projector we need for our school is very c...             NaN   \n",
       "2  The students on the campus come to school know...             NaN   \n",
       "\n",
       "  project_essay_4                           project_resource_summary  \\\n",
       "0             NaN  My students need opportunities to practice beg...   \n",
       "1             NaN  My students need a projector to help with view...   \n",
       "2             NaN  My students need shine guards, athletic socks,...   \n",
       "\n",
       "   teacher_number_of_previously_posted_projects  project_is_approved  \n",
       "0                                             0                    0  \n",
       "1                                             7                    1  \n",
       "2                                             1                    0  "
      ]
     },
     "execution_count": 3,
     "metadata": {},
     "output_type": "execute_result"
    }
   ],
   "source": [
    "project_data.head(3)"
   ]
  },
  {
   "cell_type": "code",
   "execution_count": 4,
   "metadata": {},
   "outputs": [
    {
     "name": "stdout",
     "output_type": "stream",
     "text": [
      "Number of data points in train data (109248, 17)\n",
      "--------------------------------------------------\n",
      "The attributes of data : ['Unnamed: 0' 'id' 'teacher_id' 'teacher_prefix' 'school_state'\n",
      " 'project_submitted_datetime' 'project_grade_category'\n",
      " 'project_subject_categories' 'project_subject_subcategories'\n",
      " 'project_title' 'project_essay_1' 'project_essay_2' 'project_essay_3'\n",
      " 'project_essay_4' 'project_resource_summary'\n",
      " 'teacher_number_of_previously_posted_projects' 'project_is_approved']\n"
     ]
    }
   ],
   "source": [
    "print(\"Number of data points in train data\", project_data.shape)\n",
    "print('-'*50)\n",
    "print(\"The attributes of data :\", project_data.columns.values)"
   ]
  },
  {
   "cell_type": "code",
   "execution_count": 5,
   "metadata": {},
   "outputs": [
    {
     "name": "stdout",
     "output_type": "stream",
     "text": [
      "Number of data points in resources data (1541272, 4)\n",
      "['id' 'description' 'quantity' 'price']\n"
     ]
    },
    {
     "data": {
      "text/html": [
       "<div>\n",
       "<style scoped>\n",
       "    .dataframe tbody tr th:only-of-type {\n",
       "        vertical-align: middle;\n",
       "    }\n",
       "\n",
       "    .dataframe tbody tr th {\n",
       "        vertical-align: top;\n",
       "    }\n",
       "\n",
       "    .dataframe thead th {\n",
       "        text-align: right;\n",
       "    }\n",
       "</style>\n",
       "<table border=\"1\" class=\"dataframe\">\n",
       "  <thead>\n",
       "    <tr style=\"text-align: right;\">\n",
       "      <th></th>\n",
       "      <th>id</th>\n",
       "      <th>description</th>\n",
       "      <th>quantity</th>\n",
       "      <th>price</th>\n",
       "    </tr>\n",
       "  </thead>\n",
       "  <tbody>\n",
       "    <tr>\n",
       "      <th>0</th>\n",
       "      <td>p233245</td>\n",
       "      <td>LC652 - Lakeshore Double-Space Mobile Drying Rack</td>\n",
       "      <td>1</td>\n",
       "      <td>149.00</td>\n",
       "    </tr>\n",
       "    <tr>\n",
       "      <th>1</th>\n",
       "      <td>p069063</td>\n",
       "      <td>Bouncy Bands for Desks (Blue support pipes)</td>\n",
       "      <td>3</td>\n",
       "      <td>14.95</td>\n",
       "    </tr>\n",
       "  </tbody>\n",
       "</table>\n",
       "</div>"
      ],
      "text/plain": [
       "        id                                        description  quantity  \\\n",
       "0  p233245  LC652 - Lakeshore Double-Space Mobile Drying Rack         1   \n",
       "1  p069063        Bouncy Bands for Desks (Blue support pipes)         3   \n",
       "\n",
       "    price  \n",
       "0  149.00  \n",
       "1   14.95  "
      ]
     },
     "execution_count": 5,
     "metadata": {},
     "output_type": "execute_result"
    }
   ],
   "source": [
    "print(\"Number of data points in resources data\", resource_data.shape)\n",
    "print(resource_data.columns.values)\n",
    "resource_data.head(2)"
   ]
  },
  {
   "cell_type": "code",
   "execution_count": 6,
   "metadata": {},
   "outputs": [
    {
     "data": {
      "text/html": [
       "<div>\n",
       "<style scoped>\n",
       "    .dataframe tbody tr th:only-of-type {\n",
       "        vertical-align: middle;\n",
       "    }\n",
       "\n",
       "    .dataframe tbody tr th {\n",
       "        vertical-align: top;\n",
       "    }\n",
       "\n",
       "    .dataframe thead th {\n",
       "        text-align: right;\n",
       "    }\n",
       "</style>\n",
       "<table border=\"1\" class=\"dataframe\">\n",
       "  <thead>\n",
       "    <tr style=\"text-align: right;\">\n",
       "      <th></th>\n",
       "      <th>Unnamed: 0</th>\n",
       "      <th>id</th>\n",
       "      <th>teacher_id</th>\n",
       "      <th>teacher_prefix</th>\n",
       "      <th>school_state</th>\n",
       "      <th>project_submitted_datetime</th>\n",
       "      <th>project_grade_category</th>\n",
       "      <th>project_subject_categories</th>\n",
       "      <th>project_subject_subcategories</th>\n",
       "      <th>project_title</th>\n",
       "      <th>project_essay_1</th>\n",
       "      <th>project_essay_2</th>\n",
       "      <th>project_essay_3</th>\n",
       "      <th>project_essay_4</th>\n",
       "      <th>project_resource_summary</th>\n",
       "      <th>teacher_number_of_previously_posted_projects</th>\n",
       "      <th>project_is_approved</th>\n",
       "    </tr>\n",
       "  </thead>\n",
       "  <tbody>\n",
       "    <tr>\n",
       "      <th>0</th>\n",
       "      <td>160221</td>\n",
       "      <td>p253737</td>\n",
       "      <td>c90749f5d961ff158d4b4d1e7dc665fc</td>\n",
       "      <td>Mrs.</td>\n",
       "      <td>IN</td>\n",
       "      <td>2016-12-05 13:43:57</td>\n",
       "      <td>Grades PreK-2</td>\n",
       "      <td>Literacy &amp; Language</td>\n",
       "      <td>ESL, Literacy</td>\n",
       "      <td>Educational Support for English Learners at Home</td>\n",
       "      <td>My students are English learners that are work...</td>\n",
       "      <td>\\\"The limits of your language are the limits o...</td>\n",
       "      <td>NaN</td>\n",
       "      <td>NaN</td>\n",
       "      <td>My students need opportunities to practice beg...</td>\n",
       "      <td>0</td>\n",
       "      <td>0</td>\n",
       "    </tr>\n",
       "    <tr>\n",
       "      <th>1</th>\n",
       "      <td>140945</td>\n",
       "      <td>p258326</td>\n",
       "      <td>897464ce9ddc600bced1151f324dd63a</td>\n",
       "      <td>Mr.</td>\n",
       "      <td>FL</td>\n",
       "      <td>2016-10-25 09:22:10</td>\n",
       "      <td>Grades 6-8</td>\n",
       "      <td>History &amp; Civics, Health &amp; Sports</td>\n",
       "      <td>Civics &amp; Government, Team Sports</td>\n",
       "      <td>Wanted: Projector for Hungry Learners</td>\n",
       "      <td>Our students arrive to our school eager to lea...</td>\n",
       "      <td>The projector we need for our school is very c...</td>\n",
       "      <td>NaN</td>\n",
       "      <td>NaN</td>\n",
       "      <td>My students need a projector to help with view...</td>\n",
       "      <td>7</td>\n",
       "      <td>1</td>\n",
       "    </tr>\n",
       "    <tr>\n",
       "      <th>2</th>\n",
       "      <td>21895</td>\n",
       "      <td>p182444</td>\n",
       "      <td>3465aaf82da834c0582ebd0ef8040ca0</td>\n",
       "      <td>Ms.</td>\n",
       "      <td>AZ</td>\n",
       "      <td>2016-08-31 12:03:56</td>\n",
       "      <td>Grades 6-8</td>\n",
       "      <td>Health &amp; Sports</td>\n",
       "      <td>Health &amp; Wellness, Team Sports</td>\n",
       "      <td>Soccer Equipment for AWESOME Middle School Stu...</td>\n",
       "      <td>\\r\\n\\\"True champions aren't always the ones th...</td>\n",
       "      <td>The students on the campus come to school know...</td>\n",
       "      <td>NaN</td>\n",
       "      <td>NaN</td>\n",
       "      <td>My students need shine guards, athletic socks,...</td>\n",
       "      <td>1</td>\n",
       "      <td>0</td>\n",
       "    </tr>\n",
       "  </tbody>\n",
       "</table>\n",
       "</div>"
      ],
      "text/plain": [
       "   Unnamed: 0       id                        teacher_id teacher_prefix  \\\n",
       "0      160221  p253737  c90749f5d961ff158d4b4d1e7dc665fc           Mrs.   \n",
       "1      140945  p258326  897464ce9ddc600bced1151f324dd63a            Mr.   \n",
       "2       21895  p182444  3465aaf82da834c0582ebd0ef8040ca0            Ms.   \n",
       "\n",
       "  school_state project_submitted_datetime project_grade_category  \\\n",
       "0           IN        2016-12-05 13:43:57          Grades PreK-2   \n",
       "1           FL        2016-10-25 09:22:10             Grades 6-8   \n",
       "2           AZ        2016-08-31 12:03:56             Grades 6-8   \n",
       "\n",
       "          project_subject_categories     project_subject_subcategories  \\\n",
       "0                Literacy & Language                     ESL, Literacy   \n",
       "1  History & Civics, Health & Sports  Civics & Government, Team Sports   \n",
       "2                    Health & Sports    Health & Wellness, Team Sports   \n",
       "\n",
       "                                       project_title  \\\n",
       "0   Educational Support for English Learners at Home   \n",
       "1              Wanted: Projector for Hungry Learners   \n",
       "2  Soccer Equipment for AWESOME Middle School Stu...   \n",
       "\n",
       "                                     project_essay_1  \\\n",
       "0  My students are English learners that are work...   \n",
       "1  Our students arrive to our school eager to lea...   \n",
       "2  \\r\\n\\\"True champions aren't always the ones th...   \n",
       "\n",
       "                                     project_essay_2 project_essay_3  \\\n",
       "0  \\\"The limits of your language are the limits o...             NaN   \n",
       "1  The projector we need for our school is very c...             NaN   \n",
       "2  The students on the campus come to school know...             NaN   \n",
       "\n",
       "  project_essay_4                           project_resource_summary  \\\n",
       "0             NaN  My students need opportunities to practice beg...   \n",
       "1             NaN  My students need a projector to help with view...   \n",
       "2             NaN  My students need shine guards, athletic socks,...   \n",
       "\n",
       "   teacher_number_of_previously_posted_projects  project_is_approved  \n",
       "0                                             0                    0  \n",
       "1                                             7                    1  \n",
       "2                                             1                    0  "
      ]
     },
     "execution_count": 6,
     "metadata": {},
     "output_type": "execute_result"
    }
   ],
   "source": [
    "# Print some train dataframe\n",
    "\n",
    "project_data.head(3)"
   ]
  },
  {
   "cell_type": "markdown",
   "metadata": {},
   "source": [
    "## 1.2 preprocessing of `project_subject_categories`"
   ]
  },
  {
   "cell_type": "code",
   "execution_count": 7,
   "metadata": {},
   "outputs": [
    {
     "name": "stdout",
     "output_type": "stream",
     "text": [
      "{'Warmth': 1388, 'Care_Hunger': 1388, 'History_Civics': 5914, 'Music_Arts': 10293, 'AppliedLearning': 12135, 'SpecialNeeds': 13642, 'Health_Sports': 14223, 'Math_Science': 41421, 'Literacy_Language': 52239}\n"
     ]
    },
    {
     "data": {
      "text/html": [
       "<div>\n",
       "<style scoped>\n",
       "    .dataframe tbody tr th:only-of-type {\n",
       "        vertical-align: middle;\n",
       "    }\n",
       "\n",
       "    .dataframe tbody tr th {\n",
       "        vertical-align: top;\n",
       "    }\n",
       "\n",
       "    .dataframe thead th {\n",
       "        text-align: right;\n",
       "    }\n",
       "</style>\n",
       "<table border=\"1\" class=\"dataframe\">\n",
       "  <thead>\n",
       "    <tr style=\"text-align: right;\">\n",
       "      <th></th>\n",
       "      <th>Unnamed: 0</th>\n",
       "      <th>id</th>\n",
       "      <th>teacher_id</th>\n",
       "      <th>teacher_prefix</th>\n",
       "      <th>school_state</th>\n",
       "      <th>project_submitted_datetime</th>\n",
       "      <th>project_grade_category</th>\n",
       "      <th>project_subject_subcategories</th>\n",
       "      <th>project_title</th>\n",
       "      <th>project_essay_1</th>\n",
       "      <th>project_essay_2</th>\n",
       "      <th>project_essay_3</th>\n",
       "      <th>project_essay_4</th>\n",
       "      <th>project_resource_summary</th>\n",
       "      <th>teacher_number_of_previously_posted_projects</th>\n",
       "      <th>project_is_approved</th>\n",
       "      <th>clean_categories</th>\n",
       "    </tr>\n",
       "  </thead>\n",
       "  <tbody>\n",
       "    <tr>\n",
       "      <th>0</th>\n",
       "      <td>160221</td>\n",
       "      <td>p253737</td>\n",
       "      <td>c90749f5d961ff158d4b4d1e7dc665fc</td>\n",
       "      <td>Mrs.</td>\n",
       "      <td>IN</td>\n",
       "      <td>2016-12-05 13:43:57</td>\n",
       "      <td>Grades PreK-2</td>\n",
       "      <td>ESL, Literacy</td>\n",
       "      <td>Educational Support for English Learners at Home</td>\n",
       "      <td>My students are English learners that are work...</td>\n",
       "      <td>\\\"The limits of your language are the limits o...</td>\n",
       "      <td>NaN</td>\n",
       "      <td>NaN</td>\n",
       "      <td>My students need opportunities to practice beg...</td>\n",
       "      <td>0</td>\n",
       "      <td>0</td>\n",
       "      <td>Literacy_Language</td>\n",
       "    </tr>\n",
       "    <tr>\n",
       "      <th>1</th>\n",
       "      <td>140945</td>\n",
       "      <td>p258326</td>\n",
       "      <td>897464ce9ddc600bced1151f324dd63a</td>\n",
       "      <td>Mr.</td>\n",
       "      <td>FL</td>\n",
       "      <td>2016-10-25 09:22:10</td>\n",
       "      <td>Grades 6-8</td>\n",
       "      <td>Civics &amp; Government, Team Sports</td>\n",
       "      <td>Wanted: Projector for Hungry Learners</td>\n",
       "      <td>Our students arrive to our school eager to lea...</td>\n",
       "      <td>The projector we need for our school is very c...</td>\n",
       "      <td>NaN</td>\n",
       "      <td>NaN</td>\n",
       "      <td>My students need a projector to help with view...</td>\n",
       "      <td>7</td>\n",
       "      <td>1</td>\n",
       "      <td>History_Civics Health_Sports</td>\n",
       "    </tr>\n",
       "    <tr>\n",
       "      <th>2</th>\n",
       "      <td>21895</td>\n",
       "      <td>p182444</td>\n",
       "      <td>3465aaf82da834c0582ebd0ef8040ca0</td>\n",
       "      <td>Ms.</td>\n",
       "      <td>AZ</td>\n",
       "      <td>2016-08-31 12:03:56</td>\n",
       "      <td>Grades 6-8</td>\n",
       "      <td>Health &amp; Wellness, Team Sports</td>\n",
       "      <td>Soccer Equipment for AWESOME Middle School Stu...</td>\n",
       "      <td>\\r\\n\\\"True champions aren't always the ones th...</td>\n",
       "      <td>The students on the campus come to school know...</td>\n",
       "      <td>NaN</td>\n",
       "      <td>NaN</td>\n",
       "      <td>My students need shine guards, athletic socks,...</td>\n",
       "      <td>1</td>\n",
       "      <td>0</td>\n",
       "      <td>Health_Sports</td>\n",
       "    </tr>\n",
       "    <tr>\n",
       "      <th>3</th>\n",
       "      <td>45</td>\n",
       "      <td>p246581</td>\n",
       "      <td>f3cb9bffbba169bef1a77b243e620b60</td>\n",
       "      <td>Mrs.</td>\n",
       "      <td>KY</td>\n",
       "      <td>2016-10-06 21:16:17</td>\n",
       "      <td>Grades PreK-2</td>\n",
       "      <td>Literacy, Mathematics</td>\n",
       "      <td>Techie Kindergarteners</td>\n",
       "      <td>I work at a unique school filled with both ESL...</td>\n",
       "      <td>My students live in high poverty conditions wi...</td>\n",
       "      <td>NaN</td>\n",
       "      <td>NaN</td>\n",
       "      <td>My students need to engage in Reading and Math...</td>\n",
       "      <td>4</td>\n",
       "      <td>1</td>\n",
       "      <td>Literacy_Language Math_Science</td>\n",
       "    </tr>\n",
       "    <tr>\n",
       "      <th>4</th>\n",
       "      <td>172407</td>\n",
       "      <td>p104768</td>\n",
       "      <td>be1f7507a41f8479dc06f047086a39ec</td>\n",
       "      <td>Mrs.</td>\n",
       "      <td>TX</td>\n",
       "      <td>2016-07-11 01:10:09</td>\n",
       "      <td>Grades PreK-2</td>\n",
       "      <td>Mathematics</td>\n",
       "      <td>Interactive Math Tools</td>\n",
       "      <td>Our second grade classroom next year will be m...</td>\n",
       "      <td>For many students, math is a subject that does...</td>\n",
       "      <td>NaN</td>\n",
       "      <td>NaN</td>\n",
       "      <td>My students need hands on practice in mathemat...</td>\n",
       "      <td>1</td>\n",
       "      <td>1</td>\n",
       "      <td>Math_Science</td>\n",
       "    </tr>\n",
       "  </tbody>\n",
       "</table>\n",
       "</div>"
      ],
      "text/plain": [
       "   Unnamed: 0       id                        teacher_id teacher_prefix  \\\n",
       "0      160221  p253737  c90749f5d961ff158d4b4d1e7dc665fc           Mrs.   \n",
       "1      140945  p258326  897464ce9ddc600bced1151f324dd63a            Mr.   \n",
       "2       21895  p182444  3465aaf82da834c0582ebd0ef8040ca0            Ms.   \n",
       "3          45  p246581  f3cb9bffbba169bef1a77b243e620b60           Mrs.   \n",
       "4      172407  p104768  be1f7507a41f8479dc06f047086a39ec           Mrs.   \n",
       "\n",
       "  school_state project_submitted_datetime project_grade_category  \\\n",
       "0           IN        2016-12-05 13:43:57          Grades PreK-2   \n",
       "1           FL        2016-10-25 09:22:10             Grades 6-8   \n",
       "2           AZ        2016-08-31 12:03:56             Grades 6-8   \n",
       "3           KY        2016-10-06 21:16:17          Grades PreK-2   \n",
       "4           TX        2016-07-11 01:10:09          Grades PreK-2   \n",
       "\n",
       "      project_subject_subcategories  \\\n",
       "0                     ESL, Literacy   \n",
       "1  Civics & Government, Team Sports   \n",
       "2    Health & Wellness, Team Sports   \n",
       "3             Literacy, Mathematics   \n",
       "4                       Mathematics   \n",
       "\n",
       "                                       project_title  \\\n",
       "0   Educational Support for English Learners at Home   \n",
       "1              Wanted: Projector for Hungry Learners   \n",
       "2  Soccer Equipment for AWESOME Middle School Stu...   \n",
       "3                             Techie Kindergarteners   \n",
       "4                             Interactive Math Tools   \n",
       "\n",
       "                                     project_essay_1  \\\n",
       "0  My students are English learners that are work...   \n",
       "1  Our students arrive to our school eager to lea...   \n",
       "2  \\r\\n\\\"True champions aren't always the ones th...   \n",
       "3  I work at a unique school filled with both ESL...   \n",
       "4  Our second grade classroom next year will be m...   \n",
       "\n",
       "                                     project_essay_2 project_essay_3  \\\n",
       "0  \\\"The limits of your language are the limits o...             NaN   \n",
       "1  The projector we need for our school is very c...             NaN   \n",
       "2  The students on the campus come to school know...             NaN   \n",
       "3  My students live in high poverty conditions wi...             NaN   \n",
       "4  For many students, math is a subject that does...             NaN   \n",
       "\n",
       "  project_essay_4                           project_resource_summary  \\\n",
       "0             NaN  My students need opportunities to practice beg...   \n",
       "1             NaN  My students need a projector to help with view...   \n",
       "2             NaN  My students need shine guards, athletic socks,...   \n",
       "3             NaN  My students need to engage in Reading and Math...   \n",
       "4             NaN  My students need hands on practice in mathemat...   \n",
       "\n",
       "   teacher_number_of_previously_posted_projects  project_is_approved  \\\n",
       "0                                             0                    0   \n",
       "1                                             7                    1   \n",
       "2                                             1                    0   \n",
       "3                                             4                    1   \n",
       "4                                             1                    1   \n",
       "\n",
       "                 clean_categories  \n",
       "0               Literacy_Language  \n",
       "1    History_Civics Health_Sports  \n",
       "2                   Health_Sports  \n",
       "3  Literacy_Language Math_Science  \n",
       "4                    Math_Science  "
      ]
     },
     "execution_count": 7,
     "metadata": {},
     "output_type": "execute_result"
    }
   ],
   "source": [
    "catogories = list(project_data[\"project_subject_categories\"].values)\n",
    "\n",
    "# remove special characters from list of strings\n",
    "\n",
    "cat_list = []\n",
    "for i in catogories:\n",
    "    temp = \"\"\n",
    "    # consider we have text like this \"Math & Science, Warmth, Care & Hunger\"\n",
    "    for j in i.split(','): # it will split it in three parts [\"Math & Science\", \"Warmth\", \"Care & Hunger\"]\n",
    "        if 'The' in j.split(): # this will split each of the catogory based on space \"Math & Science\"=> \"Math\",\"&\", \"Science\"\n",
    "            j=j.replace('The','') # if we have the words \"The\" we are going to replace it with ''(i.e removing 'The')\n",
    "        j = j.replace(' ','') # we are placeing all the ' '(space) with ''(empty) ex:\"Math & Science\"=>\"Math&Science\"\n",
    "        temp+=j.strip()+\" \" #\" abc \".strip() will return \"abc\", remove the trailing spaces\n",
    "        temp = temp.replace('&','_') # we are replacing the & value into \n",
    "    cat_list.append(temp.strip())\n",
    "    \n",
    "project_data['clean_categories'] = cat_list\n",
    "project_data.drop(['project_subject_categories'], axis=1, inplace=True)\n",
    "\n",
    "from collections import Counter\n",
    "my_counter = Counter()\n",
    "for word in project_data['clean_categories'].values:\n",
    "    my_counter.update(word.split())\n",
    "\n",
    "cat_dict = dict(my_counter)\n",
    "sorted_cat_dict = dict(sorted(cat_dict.items(), key=lambda kv: kv[1]))\n",
    "print(sorted_cat_dict)\n",
    "\n",
    "project_data.head()"
   ]
  },
  {
   "cell_type": "markdown",
   "metadata": {},
   "source": [
    "## 1.3 preprocessing of `project_subject_subcategories`"
   ]
  },
  {
   "cell_type": "code",
   "execution_count": 8,
   "metadata": {},
   "outputs": [
    {
     "name": "stdout",
     "output_type": "stream",
     "text": [
      "{'Economics': 269, 'CommunityService': 441, 'FinancialLiteracy': 568, 'ParentInvolvement': 677, 'Extracurricular': 810, 'Civics_Government': 815, 'ForeignLanguages': 890, 'NutritionEducation': 1355, 'Warmth': 1388, 'Care_Hunger': 1388, 'SocialSciences': 1920, 'PerformingArts': 1961, 'CharacterEducation': 2065, 'TeamSports': 2192, 'Other': 2372, 'College_CareerPrep': 2568, 'Music': 3145, 'History_Geography': 3171, 'Health_LifeScience': 4235, 'EarlyDevelopment': 4254, 'ESL': 4367, 'Gym_Fitness': 4509, 'EnvironmentalScience': 5591, 'VisualArts': 6278, 'Health_Wellness': 10234, 'AppliedSciences': 10816, 'SpecialNeeds': 13642, 'Literature_Writing': 22179, 'Mathematics': 28074, 'Literacy': 33700}\n"
     ]
    },
    {
     "data": {
      "text/html": [
       "<div>\n",
       "<style scoped>\n",
       "    .dataframe tbody tr th:only-of-type {\n",
       "        vertical-align: middle;\n",
       "    }\n",
       "\n",
       "    .dataframe tbody tr th {\n",
       "        vertical-align: top;\n",
       "    }\n",
       "\n",
       "    .dataframe thead th {\n",
       "        text-align: right;\n",
       "    }\n",
       "</style>\n",
       "<table border=\"1\" class=\"dataframe\">\n",
       "  <thead>\n",
       "    <tr style=\"text-align: right;\">\n",
       "      <th></th>\n",
       "      <th>Unnamed: 0</th>\n",
       "      <th>id</th>\n",
       "      <th>teacher_id</th>\n",
       "      <th>teacher_prefix</th>\n",
       "      <th>school_state</th>\n",
       "      <th>project_submitted_datetime</th>\n",
       "      <th>project_grade_category</th>\n",
       "      <th>project_title</th>\n",
       "      <th>project_essay_1</th>\n",
       "      <th>project_essay_2</th>\n",
       "      <th>project_essay_3</th>\n",
       "      <th>project_essay_4</th>\n",
       "      <th>project_resource_summary</th>\n",
       "      <th>teacher_number_of_previously_posted_projects</th>\n",
       "      <th>project_is_approved</th>\n",
       "      <th>clean_categories</th>\n",
       "      <th>clean_subcategories</th>\n",
       "    </tr>\n",
       "  </thead>\n",
       "  <tbody>\n",
       "    <tr>\n",
       "      <th>0</th>\n",
       "      <td>160221</td>\n",
       "      <td>p253737</td>\n",
       "      <td>c90749f5d961ff158d4b4d1e7dc665fc</td>\n",
       "      <td>Mrs.</td>\n",
       "      <td>IN</td>\n",
       "      <td>2016-12-05 13:43:57</td>\n",
       "      <td>Grades PreK-2</td>\n",
       "      <td>Educational Support for English Learners at Home</td>\n",
       "      <td>My students are English learners that are work...</td>\n",
       "      <td>\\\"The limits of your language are the limits o...</td>\n",
       "      <td>NaN</td>\n",
       "      <td>NaN</td>\n",
       "      <td>My students need opportunities to practice beg...</td>\n",
       "      <td>0</td>\n",
       "      <td>0</td>\n",
       "      <td>Literacy_Language</td>\n",
       "      <td>ESL Literacy</td>\n",
       "    </tr>\n",
       "    <tr>\n",
       "      <th>1</th>\n",
       "      <td>140945</td>\n",
       "      <td>p258326</td>\n",
       "      <td>897464ce9ddc600bced1151f324dd63a</td>\n",
       "      <td>Mr.</td>\n",
       "      <td>FL</td>\n",
       "      <td>2016-10-25 09:22:10</td>\n",
       "      <td>Grades 6-8</td>\n",
       "      <td>Wanted: Projector for Hungry Learners</td>\n",
       "      <td>Our students arrive to our school eager to lea...</td>\n",
       "      <td>The projector we need for our school is very c...</td>\n",
       "      <td>NaN</td>\n",
       "      <td>NaN</td>\n",
       "      <td>My students need a projector to help with view...</td>\n",
       "      <td>7</td>\n",
       "      <td>1</td>\n",
       "      <td>History_Civics Health_Sports</td>\n",
       "      <td>Civics_Government TeamSports</td>\n",
       "    </tr>\n",
       "    <tr>\n",
       "      <th>2</th>\n",
       "      <td>21895</td>\n",
       "      <td>p182444</td>\n",
       "      <td>3465aaf82da834c0582ebd0ef8040ca0</td>\n",
       "      <td>Ms.</td>\n",
       "      <td>AZ</td>\n",
       "      <td>2016-08-31 12:03:56</td>\n",
       "      <td>Grades 6-8</td>\n",
       "      <td>Soccer Equipment for AWESOME Middle School Stu...</td>\n",
       "      <td>\\r\\n\\\"True champions aren't always the ones th...</td>\n",
       "      <td>The students on the campus come to school know...</td>\n",
       "      <td>NaN</td>\n",
       "      <td>NaN</td>\n",
       "      <td>My students need shine guards, athletic socks,...</td>\n",
       "      <td>1</td>\n",
       "      <td>0</td>\n",
       "      <td>Health_Sports</td>\n",
       "      <td>Health_Wellness TeamSports</td>\n",
       "    </tr>\n",
       "    <tr>\n",
       "      <th>3</th>\n",
       "      <td>45</td>\n",
       "      <td>p246581</td>\n",
       "      <td>f3cb9bffbba169bef1a77b243e620b60</td>\n",
       "      <td>Mrs.</td>\n",
       "      <td>KY</td>\n",
       "      <td>2016-10-06 21:16:17</td>\n",
       "      <td>Grades PreK-2</td>\n",
       "      <td>Techie Kindergarteners</td>\n",
       "      <td>I work at a unique school filled with both ESL...</td>\n",
       "      <td>My students live in high poverty conditions wi...</td>\n",
       "      <td>NaN</td>\n",
       "      <td>NaN</td>\n",
       "      <td>My students need to engage in Reading and Math...</td>\n",
       "      <td>4</td>\n",
       "      <td>1</td>\n",
       "      <td>Literacy_Language Math_Science</td>\n",
       "      <td>Literacy Mathematics</td>\n",
       "    </tr>\n",
       "    <tr>\n",
       "      <th>4</th>\n",
       "      <td>172407</td>\n",
       "      <td>p104768</td>\n",
       "      <td>be1f7507a41f8479dc06f047086a39ec</td>\n",
       "      <td>Mrs.</td>\n",
       "      <td>TX</td>\n",
       "      <td>2016-07-11 01:10:09</td>\n",
       "      <td>Grades PreK-2</td>\n",
       "      <td>Interactive Math Tools</td>\n",
       "      <td>Our second grade classroom next year will be m...</td>\n",
       "      <td>For many students, math is a subject that does...</td>\n",
       "      <td>NaN</td>\n",
       "      <td>NaN</td>\n",
       "      <td>My students need hands on practice in mathemat...</td>\n",
       "      <td>1</td>\n",
       "      <td>1</td>\n",
       "      <td>Math_Science</td>\n",
       "      <td>Mathematics</td>\n",
       "    </tr>\n",
       "  </tbody>\n",
       "</table>\n",
       "</div>"
      ],
      "text/plain": [
       "   Unnamed: 0       id                        teacher_id teacher_prefix  \\\n",
       "0      160221  p253737  c90749f5d961ff158d4b4d1e7dc665fc           Mrs.   \n",
       "1      140945  p258326  897464ce9ddc600bced1151f324dd63a            Mr.   \n",
       "2       21895  p182444  3465aaf82da834c0582ebd0ef8040ca0            Ms.   \n",
       "3          45  p246581  f3cb9bffbba169bef1a77b243e620b60           Mrs.   \n",
       "4      172407  p104768  be1f7507a41f8479dc06f047086a39ec           Mrs.   \n",
       "\n",
       "  school_state project_submitted_datetime project_grade_category  \\\n",
       "0           IN        2016-12-05 13:43:57          Grades PreK-2   \n",
       "1           FL        2016-10-25 09:22:10             Grades 6-8   \n",
       "2           AZ        2016-08-31 12:03:56             Grades 6-8   \n",
       "3           KY        2016-10-06 21:16:17          Grades PreK-2   \n",
       "4           TX        2016-07-11 01:10:09          Grades PreK-2   \n",
       "\n",
       "                                       project_title  \\\n",
       "0   Educational Support for English Learners at Home   \n",
       "1              Wanted: Projector for Hungry Learners   \n",
       "2  Soccer Equipment for AWESOME Middle School Stu...   \n",
       "3                             Techie Kindergarteners   \n",
       "4                             Interactive Math Tools   \n",
       "\n",
       "                                     project_essay_1  \\\n",
       "0  My students are English learners that are work...   \n",
       "1  Our students arrive to our school eager to lea...   \n",
       "2  \\r\\n\\\"True champions aren't always the ones th...   \n",
       "3  I work at a unique school filled with both ESL...   \n",
       "4  Our second grade classroom next year will be m...   \n",
       "\n",
       "                                     project_essay_2 project_essay_3  \\\n",
       "0  \\\"The limits of your language are the limits o...             NaN   \n",
       "1  The projector we need for our school is very c...             NaN   \n",
       "2  The students on the campus come to school know...             NaN   \n",
       "3  My students live in high poverty conditions wi...             NaN   \n",
       "4  For many students, math is a subject that does...             NaN   \n",
       "\n",
       "  project_essay_4                           project_resource_summary  \\\n",
       "0             NaN  My students need opportunities to practice beg...   \n",
       "1             NaN  My students need a projector to help with view...   \n",
       "2             NaN  My students need shine guards, athletic socks,...   \n",
       "3             NaN  My students need to engage in Reading and Math...   \n",
       "4             NaN  My students need hands on practice in mathemat...   \n",
       "\n",
       "   teacher_number_of_previously_posted_projects  project_is_approved  \\\n",
       "0                                             0                    0   \n",
       "1                                             7                    1   \n",
       "2                                             1                    0   \n",
       "3                                             4                    1   \n",
       "4                                             1                    1   \n",
       "\n",
       "                 clean_categories           clean_subcategories  \n",
       "0               Literacy_Language                  ESL Literacy  \n",
       "1    History_Civics Health_Sports  Civics_Government TeamSports  \n",
       "2                   Health_Sports    Health_Wellness TeamSports  \n",
       "3  Literacy_Language Math_Science          Literacy Mathematics  \n",
       "4                    Math_Science                   Mathematics  "
      ]
     },
     "execution_count": 8,
     "metadata": {},
     "output_type": "execute_result"
    }
   ],
   "source": [
    "sub_catogories = list(project_data['project_subject_subcategories'].values)\n",
    "# remove special characters from list of strings python: https://stackoverflow.com/a/47301924/4084039\n",
    "\n",
    "# https://www.geeksforgeeks.org/removing-stop-words-nltk-python/\n",
    "# https://stackoverflow.com/questions/23669024/how-to-strip-a-specific-word-from-a-string\n",
    "# https://stackoverflow.com/questions/8270092/remove-all-whitespace-in-a-string-in-python\n",
    "\n",
    "sub_cat_list = []\n",
    "for i in sub_catogories:\n",
    "    temp = \"\"\n",
    "    # consider we have text like this \"Math & Science, Warmth, Care & Hunger\"\n",
    "    for j in i.split(','): # it will split it in three parts [\"Math & Science\", \"Warmth\", \"Care & Hunger\"]\n",
    "        if 'The' in j.split(): # this will split each of the catogory based on space \"Math & Science\"=> \"Math\",\"&\", \"Science\"\n",
    "            j=j.replace('The','') # if we have the words \"The\" we are going to replace it with ''(i.e removing 'The')\n",
    "        j = j.replace(' ','') # we are placeing all the ' '(space) with ''(empty) ex:\"Math & Science\"=>\"Math&Science\"\n",
    "        temp +=j.strip()+\" \"#\" abc \".strip() will return \"abc\", remove the trailing spaces\n",
    "        temp = temp.replace('&','_')\n",
    "    sub_cat_list.append(temp.strip())\n",
    "\n",
    "project_data['clean_subcategories'] = sub_cat_list\n",
    "project_data.drop(['project_subject_subcategories'], axis=1, inplace=True)\n",
    "\n",
    "# count of all the words in corpus python: https://stackoverflow.com/a/22898595/4084039\n",
    "my_counter = Counter()\n",
    "for word in project_data['clean_subcategories'].values:\n",
    "    my_counter.update(word.split())\n",
    "    \n",
    "sub_cat_dict = dict(my_counter)\n",
    "sorted_sub_cat_dict = dict(sorted(sub_cat_dict.items(), key=lambda kv: kv[1]))\n",
    "\n",
    "print(sorted_sub_cat_dict)\n",
    "\n",
    "project_data.head()"
   ]
  },
  {
   "cell_type": "markdown",
   "metadata": {},
   "source": [
    "\n",
    "## 1.3 Text preprocessing"
   ]
  },
  {
   "cell_type": "markdown",
   "metadata": {},
   "source": [
    "# [1.3.1] Essays"
   ]
  },
  {
   "cell_type": "code",
   "execution_count": 9,
   "metadata": {},
   "outputs": [],
   "source": [
    "# merge two column text dataframe: \n",
    "project_data[\"essay\"] = project_data[\"project_essay_1\"].map(str) +\\\n",
    "                        project_data[\"project_essay_2\"].map(str) + \\\n",
    "                        project_data[\"project_essay_3\"].map(str) + \\\n",
    "                        project_data[\"project_essay_4\"].map(str)"
   ]
  },
  {
   "cell_type": "code",
   "execution_count": 10,
   "metadata": {},
   "outputs": [
    {
     "data": {
      "text/html": [
       "<div>\n",
       "<style scoped>\n",
       "    .dataframe tbody tr th:only-of-type {\n",
       "        vertical-align: middle;\n",
       "    }\n",
       "\n",
       "    .dataframe tbody tr th {\n",
       "        vertical-align: top;\n",
       "    }\n",
       "\n",
       "    .dataframe thead th {\n",
       "        text-align: right;\n",
       "    }\n",
       "</style>\n",
       "<table border=\"1\" class=\"dataframe\">\n",
       "  <thead>\n",
       "    <tr style=\"text-align: right;\">\n",
       "      <th></th>\n",
       "      <th>Unnamed: 0</th>\n",
       "      <th>id</th>\n",
       "      <th>teacher_id</th>\n",
       "      <th>teacher_prefix</th>\n",
       "      <th>school_state</th>\n",
       "      <th>project_submitted_datetime</th>\n",
       "      <th>project_grade_category</th>\n",
       "      <th>project_title</th>\n",
       "      <th>project_essay_1</th>\n",
       "      <th>project_essay_2</th>\n",
       "      <th>project_essay_3</th>\n",
       "      <th>project_essay_4</th>\n",
       "      <th>project_resource_summary</th>\n",
       "      <th>teacher_number_of_previously_posted_projects</th>\n",
       "      <th>project_is_approved</th>\n",
       "      <th>clean_categories</th>\n",
       "      <th>clean_subcategories</th>\n",
       "      <th>essay</th>\n",
       "    </tr>\n",
       "  </thead>\n",
       "  <tbody>\n",
       "    <tr>\n",
       "      <th>0</th>\n",
       "      <td>160221</td>\n",
       "      <td>p253737</td>\n",
       "      <td>c90749f5d961ff158d4b4d1e7dc665fc</td>\n",
       "      <td>Mrs.</td>\n",
       "      <td>IN</td>\n",
       "      <td>2016-12-05 13:43:57</td>\n",
       "      <td>Grades PreK-2</td>\n",
       "      <td>Educational Support for English Learners at Home</td>\n",
       "      <td>My students are English learners that are work...</td>\n",
       "      <td>\\\"The limits of your language are the limits o...</td>\n",
       "      <td>NaN</td>\n",
       "      <td>NaN</td>\n",
       "      <td>My students need opportunities to practice beg...</td>\n",
       "      <td>0</td>\n",
       "      <td>0</td>\n",
       "      <td>Literacy_Language</td>\n",
       "      <td>ESL Literacy</td>\n",
       "      <td>My students are English learners that are work...</td>\n",
       "    </tr>\n",
       "    <tr>\n",
       "      <th>1</th>\n",
       "      <td>140945</td>\n",
       "      <td>p258326</td>\n",
       "      <td>897464ce9ddc600bced1151f324dd63a</td>\n",
       "      <td>Mr.</td>\n",
       "      <td>FL</td>\n",
       "      <td>2016-10-25 09:22:10</td>\n",
       "      <td>Grades 6-8</td>\n",
       "      <td>Wanted: Projector for Hungry Learners</td>\n",
       "      <td>Our students arrive to our school eager to lea...</td>\n",
       "      <td>The projector we need for our school is very c...</td>\n",
       "      <td>NaN</td>\n",
       "      <td>NaN</td>\n",
       "      <td>My students need a projector to help with view...</td>\n",
       "      <td>7</td>\n",
       "      <td>1</td>\n",
       "      <td>History_Civics Health_Sports</td>\n",
       "      <td>Civics_Government TeamSports</td>\n",
       "      <td>Our students arrive to our school eager to lea...</td>\n",
       "    </tr>\n",
       "  </tbody>\n",
       "</table>\n",
       "</div>"
      ],
      "text/plain": [
       "   Unnamed: 0       id                        teacher_id teacher_prefix  \\\n",
       "0      160221  p253737  c90749f5d961ff158d4b4d1e7dc665fc           Mrs.   \n",
       "1      140945  p258326  897464ce9ddc600bced1151f324dd63a            Mr.   \n",
       "\n",
       "  school_state project_submitted_datetime project_grade_category  \\\n",
       "0           IN        2016-12-05 13:43:57          Grades PreK-2   \n",
       "1           FL        2016-10-25 09:22:10             Grades 6-8   \n",
       "\n",
       "                                      project_title  \\\n",
       "0  Educational Support for English Learners at Home   \n",
       "1             Wanted: Projector for Hungry Learners   \n",
       "\n",
       "                                     project_essay_1  \\\n",
       "0  My students are English learners that are work...   \n",
       "1  Our students arrive to our school eager to lea...   \n",
       "\n",
       "                                     project_essay_2 project_essay_3  \\\n",
       "0  \\\"The limits of your language are the limits o...             NaN   \n",
       "1  The projector we need for our school is very c...             NaN   \n",
       "\n",
       "  project_essay_4                           project_resource_summary  \\\n",
       "0             NaN  My students need opportunities to practice beg...   \n",
       "1             NaN  My students need a projector to help with view...   \n",
       "\n",
       "   teacher_number_of_previously_posted_projects  project_is_approved  \\\n",
       "0                                             0                    0   \n",
       "1                                             7                    1   \n",
       "\n",
       "               clean_categories           clean_subcategories  \\\n",
       "0             Literacy_Language                  ESL Literacy   \n",
       "1  History_Civics Health_Sports  Civics_Government TeamSports   \n",
       "\n",
       "                                               essay  \n",
       "0  My students are English learners that are work...  \n",
       "1  Our students arrive to our school eager to lea...  "
      ]
     },
     "execution_count": 10,
     "metadata": {},
     "output_type": "execute_result"
    }
   ],
   "source": [
    "project_data.head(2)"
   ]
  },
  {
   "cell_type": "code",
   "execution_count": 11,
   "metadata": {},
   "outputs": [
    {
     "name": "stdout",
     "output_type": "stream",
     "text": [
      "My students are English learners that are working on English as their second or third languages. We are a melting pot of refugees, immigrants, and native-born Americans bringing the gift of language to our school. \\r\\n\\r\\n We have over 24 languages represented in our English Learner program with students at every level of mastery.  We also have over 40 countries represented with the families within our school.  Each student brings a wealth of knowledge and experiences to us that open our eyes to new cultures, beliefs, and respect.\\\"The limits of your language are the limits of your world.\\\"-Ludwig Wittgenstein  Our English learner's have a strong support system at home that begs for more resources.  Many times our parents are learning to read and speak English along side of their children.  Sometimes this creates barriers for parents to be able to help their child learn phonetics, letter recognition, and other reading skills.\\r\\n\\r\\nBy providing these dvd's and players, students are able to continue their mastery of the English language even if no one at home is able to assist.  All families with students within the Level 1 proficiency status, will be a offered to be a part of this program.  These educational videos will be specially chosen by the English Learner Teacher and will be sent home regularly to watch.  The videos are to help the child develop early reading skills.\\r\\n\\r\\nParents that do not have access to a dvd player will have the opportunity to check out a dvd player to use for the year.  The plan is to use these videos and educational dvd's for the years to come for other EL students.\\r\\nnannan\n",
      "==================================================\n",
      "The 51 fifth grade students that will cycle through my classroom this year all love learning, at least most of the time. At our school, 97.3% of the students receive free or reduced price lunch. Of the 560 students, 97.3% are minority students. \\r\\nThe school has a vibrant community that loves to get together and celebrate. Around Halloween there is a whole school parade to show off the beautiful costumes that students wear. On Cinco de Mayo we put on a big festival with crafts made by the students, dances, and games. At the end of the year the school hosts a carnival to celebrate the hard work put in during the school year, with a dunk tank being the most popular activity.My students will use these five brightly colored Hokki stools in place of regular, stationary, 4-legged chairs. As I will only have a total of ten in the classroom and not enough for each student to have an individual one, they will be used in a variety of ways. During independent reading time they will be used as special chairs students will each use on occasion. I will utilize them in place of chairs at my small group tables during math and reading times. The rest of the day they will be used by the students who need the highest amount of movement in their life in order to stay focused on school.\\r\\n\\r\\nWhenever asked what the classroom is missing, my students always say more Hokki Stools. They can't get their fill of the 5 stools we already have. When the students are sitting in group with me on the Hokki Stools, they are always moving, but at the same time doing their work. Anytime the students get to pick where they can sit, the Hokki Stools are the first to be taken. There are always students who head over to the kidney table to get one of the stools who are disappointed as there are not enough of them. \\r\\n\\r\\nWe ask a lot of students to sit for 7 hours a day. The Hokki stools will be a compromise that allow my students to do desk work and move at the same time. These stools will help students to meet their 60 minutes a day of movement by allowing them to activate their core muscles for balance while they sit. For many of my students, these chairs will take away the barrier that exists in schools for a child who can't sit still.nannan\n",
      "==================================================\n",
      "How do you remember your days of school? Was it in a sterile environment with plain walls, rows of desks, and a teacher in front of the room? A typical day in our room is nothing like that. I work hard to create a warm inviting themed room for my students look forward to coming to each day.\\r\\n\\r\\nMy class is made up of 28 wonderfully unique boys and girls of mixed races in Arkansas.\\r\\nThey attend a Title I school, which means there is a high enough percentage of free and reduced-price lunch to qualify. Our school is an \\\"open classroom\\\" concept, which is very unique as there are no walls separating the classrooms. These 9 and 10 year-old students are very eager learners; they are like sponges, absorbing all the information and experiences and keep on wanting more.With these resources such as the comfy red throw pillows and the whimsical nautical hanging decor and the blue fish nets, I will be able to help create the mood in our classroom setting to be one of a themed nautical environment. Creating a classroom environment is very important in the success in each and every child's education. The nautical photo props will be used with each child as they step foot into our classroom for the first time on Meet the Teacher evening. I'll take pictures of each child with them, have them developed, and then hung in our classroom ready for their first day of 4th grade.  This kind gesture will set the tone before even the first day of school! The nautical thank you cards will be used throughout the year by the students as they create thank you cards to their team groups.\\r\\n\\r\\nYour generous donations will help me to help make our classroom a fun, inviting, learning environment from day one.\\r\\n\\r\\nIt costs lost of money out of my own pocket on resources to get our classroom ready. Please consider helping with this project to make our new school year a very successful one. Thank you!nannan\n",
      "==================================================\n",
      "My kindergarten students have varied disabilities ranging from speech and language delays, cognitive delays, gross/fine motor delays, to autism. They are eager beavers and always strive to work their hardest working past their limitations. \\r\\n\\r\\nThe materials we have are the ones I seek out for my students. I teach in a Title I school where most of the students receive free or reduced price lunch.  Despite their disabilities and limitations, my students love coming to school and come eager to learn and explore.Have you ever felt like you had ants in your pants and you needed to groove and move as you were in a meeting? This is how my kids feel all the time. The want to be able to move as they learn or so they say.Wobble chairs are the answer and I love then because they develop their core, which enhances gross motor and in Turn fine motor skills. \\r\\nThey also want to learn through games, my kids don't want to sit and do worksheets. They want to learn to count by jumping and playing. Physical engagement is the key to our success. The number toss and color and shape mats can make that happen. My students will forget they are doing work and just have the fun a 6 year old deserves.nannan\n",
      "==================================================\n"
     ]
    },
    {
     "name": "stdout",
     "output_type": "stream",
     "text": [
      "The mediocre teacher tells. The good teacher explains. The superior teacher demonstrates. The great teacher inspires. -William A. Ward\\r\\n\\r\\nMy school has 803 students which is makeup is 97.6% African-American, making up the largest segment of the student body. A typical school in Dallas is made up of 23.2% African-American students. Most of the students are on free or reduced lunch. We aren't receiving doctors, lawyers, or engineers children from rich backgrounds or neighborhoods. As an educator I am inspiring minds of young children and we focus not only on academics but one smart, effective, efficient, and disciplined students with good character.In our classroom we can utilize the Bluetooth for swift transitions during class. I use a speaker which doesn't amplify the sound enough to receive the message. Due to the volume of my speaker my students can't hear videos or books clearly and it isn't making the lessons as meaningful. But with the bluetooth speaker my students will be able to hear and I can stop, pause and replay it at any time.\\r\\nThe cart will allow me to have more room for storage of things that are needed for the day and has an extra part to it I can use.  The table top chart has all of the letter, words and pictures for students to learn about different letters and it is more accessible.nannan\n",
      "==================================================\n"
     ]
    }
   ],
   "source": [
    "# printing some random reviews\n",
    "print(project_data['essay'].values[0])\n",
    "print(\"=\"*50)\n",
    "print(project_data['essay'].values[150])\n",
    "print(\"=\"*50)\n",
    "print(project_data['essay'].values[1000])\n",
    "print(\"=\"*50)\n",
    "print(project_data['essay'].values[20000])\n",
    "print(\"=\"*50)\n",
    "print(project_data['essay'].values[99999])\n",
    "print(\"=\"*50)"
   ]
  },
  {
   "cell_type": "code",
   "execution_count": 12,
   "metadata": {},
   "outputs": [],
   "source": [
    "# https://stackoverflow.com/a/47091490/4084039\n",
    "import re\n",
    "\n",
    "def decontracted(phrase):\n",
    "    # specific\n",
    "    phrase = re.sub(r\"won't\", \"will not\", phrase)\n",
    "    phrase = re.sub(r\"can\\'t\", \"can not\", phrase)\n",
    "\n",
    "    # general\n",
    "    phrase = re.sub(r\"n\\'t\", \" not\", phrase)\n",
    "    phrase = re.sub(r\"\\'re\", \" are\", phrase)\n",
    "    phrase = re.sub(r\"\\'s\", \" is\", phrase)\n",
    "    phrase = re.sub(r\"\\'d\", \" would\", phrase)\n",
    "    phrase = re.sub(r\"\\'ll\", \" will\", phrase)\n",
    "    phrase = re.sub(r\"\\'t\", \" not\", phrase)\n",
    "    phrase = re.sub(r\"\\'ve\", \" have\", phrase)\n",
    "    phrase = re.sub(r\"\\'m\", \" am\", phrase)\n",
    "    return phrase"
   ]
  },
  {
   "cell_type": "code",
   "execution_count": 13,
   "metadata": {},
   "outputs": [
    {
     "name": "stdout",
     "output_type": "stream",
     "text": [
      "My kindergarten students have varied disabilities ranging from speech and language delays, cognitive delays, gross/fine motor delays, to autism. They are eager beavers and always strive to work their hardest working past their limitations. \\r\\n\\r\\nThe materials we have are the ones I seek out for my students. I teach in a Title I school where most of the students receive free or reduced price lunch.  Despite their disabilities and limitations, my students love coming to school and come eager to learn and explore.Have you ever felt like you had ants in your pants and you needed to groove and move as you were in a meeting? This is how my kids feel all the time. The want to be able to move as they learn or so they say.Wobble chairs are the answer and I love then because they develop their core, which enhances gross motor and in Turn fine motor skills. \\r\\nThey also want to learn through games, my kids do not want to sit and do worksheets. They want to learn to count by jumping and playing. Physical engagement is the key to our success. The number toss and color and shape mats can make that happen. My students will forget they are doing work and just have the fun a 6 year old deserves.nannan\n",
      "==================================================\n"
     ]
    }
   ],
   "source": [
    "sent = decontracted(project_data['essay'].values[20000])\n",
    "print(sent)\n",
    "print(\"=\"*50)"
   ]
  },
  {
   "cell_type": "code",
   "execution_count": 14,
   "metadata": {},
   "outputs": [
    {
     "name": "stdout",
     "output_type": "stream",
     "text": [
      "My kindergarten students have varied disabilities ranging from speech and language delays, cognitive delays, gross/fine motor delays, to autism. They are eager beavers and always strive to work their hardest working past their limitations.     The materials we have are the ones I seek out for my students. I teach in a Title I school where most of the students receive free or reduced price lunch.  Despite their disabilities and limitations, my students love coming to school and come eager to learn and explore.Have you ever felt like you had ants in your pants and you needed to groove and move as you were in a meeting? This is how my kids feel all the time. The want to be able to move as they learn or so they say.Wobble chairs are the answer and I love then because they develop their core, which enhances gross motor and in Turn fine motor skills.   They also want to learn through games, my kids do not want to sit and do worksheets. They want to learn to count by jumping and playing. Physical engagement is the key to our success. The number toss and color and shape mats can make that happen. My students will forget they are doing work and just have the fun a 6 year old deserves.nannan\n"
     ]
    }
   ],
   "source": [
    "# \\r \\n \\t remove from string python: http://texthandler.com/info/remove-line-breaks-python/\n",
    "sent = sent.replace('\\\\r', ' ')\n",
    "sent = sent.replace('\\\\\"', ' ')\n",
    "sent = sent.replace('\\\\n', ' ')\n",
    "print(sent)"
   ]
  },
  {
   "cell_type": "code",
   "execution_count": 15,
   "metadata": {},
   "outputs": [
    {
     "name": "stdout",
     "output_type": "stream",
     "text": [
      "My kindergarten students have varied disabilities ranging from speech and language delays cognitive delays gross fine motor delays to autism They are eager beavers and always strive to work their hardest working past their limitations The materials we have are the ones I seek out for my students I teach in a Title I school where most of the students receive free or reduced price lunch Despite their disabilities and limitations my students love coming to school and come eager to learn and explore Have you ever felt like you had ants in your pants and you needed to groove and move as you were in a meeting This is how my kids feel all the time The want to be able to move as they learn or so they say Wobble chairs are the answer and I love then because they develop their core which enhances gross motor and in Turn fine motor skills They also want to learn through games my kids do not want to sit and do worksheets They want to learn to count by jumping and playing Physical engagement is the key to our success The number toss and color and shape mats can make that happen My students will forget they are doing work and just have the fun a 6 year old deserves nannan\n"
     ]
    }
   ],
   "source": [
    "#remove spacial character: https://stackoverflow.com/a/5843547/4084039\n",
    "sent = re.sub('[^A-Za-z0-9]+', ' ', sent)\n",
    "print(sent)"
   ]
  },
  {
   "cell_type": "code",
   "execution_count": 16,
   "metadata": {},
   "outputs": [],
   "source": [
    "# https://gist.github.com/sebleier/554280\n",
    "# we are removing the words from the stop words list: 'no', 'nor', 'not'\n",
    "stopwords= ['i', 'me', 'my', 'myself', 'we', 'our', 'ours', 'ourselves', 'you', \"you're\", \"you've\",\\\n",
    "            \"you'll\", \"you'd\", 'your', 'yours', 'yourself', 'yourselves', 'he', 'him', 'his', 'himself', \\\n",
    "            'she', \"she's\", 'her', 'hers', 'herself', 'it', \"it's\", 'its', 'itself', 'they', 'them', 'their',\\\n",
    "            'theirs', 'themselves', 'what', 'which', 'who', 'whom', 'this', 'that', \"that'll\", 'these', 'those', \\\n",
    "            'am', 'is', 'are', 'was', 'were', 'be', 'been', 'being', 'have', 'has', 'had', 'having', 'do', 'does', \\\n",
    "            'did', 'doing', 'a', 'an', 'the', 'and', 'but', 'if', 'or', 'because', 'as', 'until', 'while', 'of', \\\n",
    "            'at', 'by', 'for', 'with', 'about', 'against', 'between', 'into', 'through', 'during', 'before', 'after',\\\n",
    "            'above', 'below', 'to', 'from', 'up', 'down', 'in', 'out', 'on', 'off', 'over', 'under', 'again', 'further',\\\n",
    "            'then', 'once', 'here', 'there', 'when', 'where', 'why', 'how', 'all', 'any', 'both', 'each', 'few', 'more',\\\n",
    "            'most', 'other', 'some', 'such', 'only', 'own', 'same', 'so', 'than', 'too', 'very', \\\n",
    "            's', 't', 'can', 'will', 'just', 'don', \"don't\", 'should', \"should've\", 'now', 'd', 'll', 'm', 'o', 're', \\\n",
    "            've', 'y', 'ain', 'aren', \"aren't\", 'couldn', \"couldn't\", 'didn', \"didn't\", 'doesn', \"doesn't\", 'hadn',\\\n",
    "            \"hadn't\", 'hasn', \"hasn't\", 'haven', \"haven't\", 'isn', \"isn't\", 'ma', 'mightn', \"mightn't\", 'mustn',\\\n",
    "            \"mustn't\", 'needn', \"needn't\", 'shan', \"shan't\", 'shouldn', \"shouldn't\", 'wasn', \"wasn't\", 'weren', \"weren't\", \\\n",
    "            'won', \"won't\", 'wouldn', \"wouldn't\"]"
   ]
  },
  {
   "cell_type": "code",
   "execution_count": 17,
   "metadata": {},
   "outputs": [
    {
     "name": "stderr",
     "output_type": "stream",
     "text": [
      "100%|██████████| 109248/109248 [00:50<00:00, 2177.14it/s]\n"
     ]
    }
   ],
   "source": [
    "# Combining all the above stundents \n",
    "from tqdm import tqdm\n",
    "preprocessed_essays = []\n",
    "# tqdm is for printing the status bar\n",
    "for sentance in tqdm(project_data['essay'].values):\n",
    "    sent = decontracted(sentance)\n",
    "    sent = sent.replace('\\\\r', ' ')\n",
    "    sent = sent.replace('\\\\\"', ' ')\n",
    "    sent = sent.replace('\\\\n', ' ')\n",
    "    sent = re.sub('[^A-Za-z0-9]+', ' ', sent)\n",
    "    # https://gist.github.com/sebleier/554280\n",
    "    sent = ' '.join(e for e in sent.split() if e not in stopwords)\n",
    "    preprocessed_essays.append(sent.lower().strip())"
   ]
  },
  {
   "cell_type": "code",
   "execution_count": 18,
   "metadata": {},
   "outputs": [],
   "source": [
    "project_data[\"cleaned_essay\"] = preprocessed_essays"
   ]
  },
  {
   "cell_type": "markdown",
   "metadata": {},
   "source": [
    "# [1.3.2] Title"
   ]
  },
  {
   "cell_type": "code",
   "execution_count": 19,
   "metadata": {},
   "outputs": [
    {
     "name": "stderr",
     "output_type": "stream",
     "text": [
      "100%|██████████| 109248/109248 [00:02<00:00, 38408.13it/s]\n"
     ]
    }
   ],
   "source": [
    "\n",
    "\n",
    "# Data preprocessing on title text\n",
    "from tqdm import tqdm\n",
    "import re\n",
    "import string\n",
    "from bs4 import BeautifulSoup\n",
    "preprocessed_title_text = []\n",
    "# tqdm is for printing the status bar\n",
    "for sentance in tqdm(project_data['project_title'].values):\n",
    "    sent = decontracted(sentance)\n",
    "    sent = sent.replace('\\\\r', ' ')\n",
    "    sent = sent.replace('\\\\\"', ' ')\n",
    "    sent = sent.replace('\\\\n', ' ')\n",
    "    sent = re.sub('[^A-Za-z0-9]+', ' ', sent)\n",
    "    sent = re.sub(\"\\S*\\d\\S*\", \"\", sent).strip()\n",
    "    # https://gist.github.com/sebleier/554280\n",
    "    sent = ' '.join(e for e in sent.split() if e not in stopwords)\n",
    "    preprocessed_title_text.append(sent.lower().strip())"
   ]
  },
  {
   "cell_type": "code",
   "execution_count": 20,
   "metadata": {},
   "outputs": [
    {
     "data": {
      "text/html": [
       "<div>\n",
       "<style scoped>\n",
       "    .dataframe tbody tr th:only-of-type {\n",
       "        vertical-align: middle;\n",
       "    }\n",
       "\n",
       "    .dataframe tbody tr th {\n",
       "        vertical-align: top;\n",
       "    }\n",
       "\n",
       "    .dataframe thead th {\n",
       "        text-align: right;\n",
       "    }\n",
       "</style>\n",
       "<table border=\"1\" class=\"dataframe\">\n",
       "  <thead>\n",
       "    <tr style=\"text-align: right;\">\n",
       "      <th></th>\n",
       "      <th>Unnamed: 0</th>\n",
       "      <th>id</th>\n",
       "      <th>teacher_id</th>\n",
       "      <th>teacher_prefix</th>\n",
       "      <th>school_state</th>\n",
       "      <th>project_submitted_datetime</th>\n",
       "      <th>project_grade_category</th>\n",
       "      <th>project_title</th>\n",
       "      <th>project_essay_1</th>\n",
       "      <th>project_essay_2</th>\n",
       "      <th>project_essay_3</th>\n",
       "      <th>project_essay_4</th>\n",
       "      <th>project_resource_summary</th>\n",
       "      <th>teacher_number_of_previously_posted_projects</th>\n",
       "      <th>project_is_approved</th>\n",
       "      <th>clean_categories</th>\n",
       "      <th>clean_subcategories</th>\n",
       "      <th>essay</th>\n",
       "      <th>cleaned_essay</th>\n",
       "      <th>cleaned_title_text</th>\n",
       "    </tr>\n",
       "  </thead>\n",
       "  <tbody>\n",
       "    <tr>\n",
       "      <th>0</th>\n",
       "      <td>160221</td>\n",
       "      <td>p253737</td>\n",
       "      <td>c90749f5d961ff158d4b4d1e7dc665fc</td>\n",
       "      <td>Mrs.</td>\n",
       "      <td>IN</td>\n",
       "      <td>2016-12-05 13:43:57</td>\n",
       "      <td>Grades PreK-2</td>\n",
       "      <td>Educational Support for English Learners at Home</td>\n",
       "      <td>My students are English learners that are work...</td>\n",
       "      <td>\\\"The limits of your language are the limits o...</td>\n",
       "      <td>NaN</td>\n",
       "      <td>NaN</td>\n",
       "      <td>My students need opportunities to practice beg...</td>\n",
       "      <td>0</td>\n",
       "      <td>0</td>\n",
       "      <td>Literacy_Language</td>\n",
       "      <td>ESL Literacy</td>\n",
       "      <td>My students are English learners that are work...</td>\n",
       "      <td>my students english learners working english s...</td>\n",
       "      <td>educational support english learners home</td>\n",
       "    </tr>\n",
       "    <tr>\n",
       "      <th>1</th>\n",
       "      <td>140945</td>\n",
       "      <td>p258326</td>\n",
       "      <td>897464ce9ddc600bced1151f324dd63a</td>\n",
       "      <td>Mr.</td>\n",
       "      <td>FL</td>\n",
       "      <td>2016-10-25 09:22:10</td>\n",
       "      <td>Grades 6-8</td>\n",
       "      <td>Wanted: Projector for Hungry Learners</td>\n",
       "      <td>Our students arrive to our school eager to lea...</td>\n",
       "      <td>The projector we need for our school is very c...</td>\n",
       "      <td>NaN</td>\n",
       "      <td>NaN</td>\n",
       "      <td>My students need a projector to help with view...</td>\n",
       "      <td>7</td>\n",
       "      <td>1</td>\n",
       "      <td>History_Civics Health_Sports</td>\n",
       "      <td>Civics_Government TeamSports</td>\n",
       "      <td>Our students arrive to our school eager to lea...</td>\n",
       "      <td>our students arrive school eager learn they po...</td>\n",
       "      <td>wanted projector hungry learners</td>\n",
       "    </tr>\n",
       "  </tbody>\n",
       "</table>\n",
       "</div>"
      ],
      "text/plain": [
       "   Unnamed: 0       id                        teacher_id teacher_prefix  \\\n",
       "0      160221  p253737  c90749f5d961ff158d4b4d1e7dc665fc           Mrs.   \n",
       "1      140945  p258326  897464ce9ddc600bced1151f324dd63a            Mr.   \n",
       "\n",
       "  school_state project_submitted_datetime project_grade_category  \\\n",
       "0           IN        2016-12-05 13:43:57          Grades PreK-2   \n",
       "1           FL        2016-10-25 09:22:10             Grades 6-8   \n",
       "\n",
       "                                      project_title  \\\n",
       "0  Educational Support for English Learners at Home   \n",
       "1             Wanted: Projector for Hungry Learners   \n",
       "\n",
       "                                     project_essay_1  \\\n",
       "0  My students are English learners that are work...   \n",
       "1  Our students arrive to our school eager to lea...   \n",
       "\n",
       "                                     project_essay_2 project_essay_3  \\\n",
       "0  \\\"The limits of your language are the limits o...             NaN   \n",
       "1  The projector we need for our school is very c...             NaN   \n",
       "\n",
       "  project_essay_4                           project_resource_summary  \\\n",
       "0             NaN  My students need opportunities to practice beg...   \n",
       "1             NaN  My students need a projector to help with view...   \n",
       "\n",
       "   teacher_number_of_previously_posted_projects  project_is_approved  \\\n",
       "0                                             0                    0   \n",
       "1                                             7                    1   \n",
       "\n",
       "               clean_categories           clean_subcategories  \\\n",
       "0             Literacy_Language                  ESL Literacy   \n",
       "1  History_Civics Health_Sports  Civics_Government TeamSports   \n",
       "\n",
       "                                               essay  \\\n",
       "0  My students are English learners that are work...   \n",
       "1  Our students arrive to our school eager to lea...   \n",
       "\n",
       "                                       cleaned_essay  \\\n",
       "0  my students english learners working english s...   \n",
       "1  our students arrive school eager learn they po...   \n",
       "\n",
       "                          cleaned_title_text  \n",
       "0  educational support english learners home  \n",
       "1           wanted projector hungry learners  "
      ]
     },
     "execution_count": 20,
     "metadata": {},
     "output_type": "execute_result"
    }
   ],
   "source": [
    "project_data = pd.DataFrame(project_data)\n",
    "project_data['cleaned_title_text'] = preprocessed_title_text\n",
    "\n",
    "project_data.head(2)"
   ]
  },
  {
   "cell_type": "markdown",
   "metadata": {},
   "source": [
    "# [1.4] Process Resource Data"
   ]
  },
  {
   "cell_type": "code",
   "execution_count": 21,
   "metadata": {},
   "outputs": [
    {
     "data": {
      "text/html": [
       "<div>\n",
       "<style scoped>\n",
       "    .dataframe tbody tr th:only-of-type {\n",
       "        vertical-align: middle;\n",
       "    }\n",
       "\n",
       "    .dataframe tbody tr th {\n",
       "        vertical-align: top;\n",
       "    }\n",
       "\n",
       "    .dataframe thead th {\n",
       "        text-align: right;\n",
       "    }\n",
       "</style>\n",
       "<table border=\"1\" class=\"dataframe\">\n",
       "  <thead>\n",
       "    <tr style=\"text-align: right;\">\n",
       "      <th></th>\n",
       "      <th>id</th>\n",
       "      <th>description</th>\n",
       "      <th>quantity</th>\n",
       "      <th>price</th>\n",
       "    </tr>\n",
       "  </thead>\n",
       "  <tbody>\n",
       "    <tr>\n",
       "      <th>0</th>\n",
       "      <td>p233245</td>\n",
       "      <td>LC652 - Lakeshore Double-Space Mobile Drying Rack</td>\n",
       "      <td>1</td>\n",
       "      <td>149.00</td>\n",
       "    </tr>\n",
       "    <tr>\n",
       "      <th>1</th>\n",
       "      <td>p069063</td>\n",
       "      <td>Bouncy Bands for Desks (Blue support pipes)</td>\n",
       "      <td>3</td>\n",
       "      <td>14.95</td>\n",
       "    </tr>\n",
       "  </tbody>\n",
       "</table>\n",
       "</div>"
      ],
      "text/plain": [
       "        id                                        description  quantity  \\\n",
       "0  p233245  LC652 - Lakeshore Double-Space Mobile Drying Rack         1   \n",
       "1  p069063        Bouncy Bands for Desks (Blue support pipes)         3   \n",
       "\n",
       "    price  \n",
       "0  149.00  \n",
       "1   14.95  "
      ]
     },
     "execution_count": 21,
     "metadata": {},
     "output_type": "execute_result"
    }
   ],
   "source": [
    "# we get the cost of the project using resource.csv file\n",
    "resource_data.head(2)"
   ]
  },
  {
   "cell_type": "code",
   "execution_count": 22,
   "metadata": {},
   "outputs": [
    {
     "data": {
      "text/html": [
       "<div>\n",
       "<style scoped>\n",
       "    .dataframe tbody tr th:only-of-type {\n",
       "        vertical-align: middle;\n",
       "    }\n",
       "\n",
       "    .dataframe tbody tr th {\n",
       "        vertical-align: top;\n",
       "    }\n",
       "\n",
       "    .dataframe thead th {\n",
       "        text-align: right;\n",
       "    }\n",
       "</style>\n",
       "<table border=\"1\" class=\"dataframe\">\n",
       "  <thead>\n",
       "    <tr style=\"text-align: right;\">\n",
       "      <th></th>\n",
       "      <th>id</th>\n",
       "      <th>price</th>\n",
       "      <th>quantity</th>\n",
       "    </tr>\n",
       "  </thead>\n",
       "  <tbody>\n",
       "    <tr>\n",
       "      <th>0</th>\n",
       "      <td>p000001</td>\n",
       "      <td>459.56</td>\n",
       "      <td>7</td>\n",
       "    </tr>\n",
       "    <tr>\n",
       "      <th>1</th>\n",
       "      <td>p000002</td>\n",
       "      <td>515.89</td>\n",
       "      <td>21</td>\n",
       "    </tr>\n",
       "  </tbody>\n",
       "</table>\n",
       "</div>"
      ],
      "text/plain": [
       "        id   price  quantity\n",
       "0  p000001  459.56         7\n",
       "1  p000002  515.89        21"
      ]
     },
     "execution_count": 22,
     "metadata": {},
     "output_type": "execute_result"
    }
   ],
   "source": [
    "price_data = resource_data.groupby('id').agg({'price':'sum', 'quantity':'sum'}).reset_index()\n",
    "price_data.head(2)"
   ]
  },
  {
   "cell_type": "code",
   "execution_count": 23,
   "metadata": {},
   "outputs": [
    {
     "data": {
      "text/plain": [
       "False"
      ]
     },
     "execution_count": 23,
     "metadata": {},
     "output_type": "execute_result"
    }
   ],
   "source": [
    "# Check for Null values in price data\n",
    "price_data.isnull().any().any()"
   ]
  },
  {
   "cell_type": "code",
   "execution_count": 24,
   "metadata": {},
   "outputs": [
    {
     "data": {
      "text/html": [
       "<div>\n",
       "<style scoped>\n",
       "    .dataframe tbody tr th:only-of-type {\n",
       "        vertical-align: middle;\n",
       "    }\n",
       "\n",
       "    .dataframe tbody tr th {\n",
       "        vertical-align: top;\n",
       "    }\n",
       "\n",
       "    .dataframe thead th {\n",
       "        text-align: right;\n",
       "    }\n",
       "</style>\n",
       "<table border=\"1\" class=\"dataframe\">\n",
       "  <thead>\n",
       "    <tr style=\"text-align: right;\">\n",
       "      <th></th>\n",
       "      <th>Unnamed: 0</th>\n",
       "      <th>id</th>\n",
       "      <th>teacher_id</th>\n",
       "      <th>teacher_prefix</th>\n",
       "      <th>school_state</th>\n",
       "      <th>project_submitted_datetime</th>\n",
       "      <th>project_grade_category</th>\n",
       "      <th>project_title</th>\n",
       "      <th>project_essay_1</th>\n",
       "      <th>project_essay_2</th>\n",
       "      <th>project_essay_3</th>\n",
       "      <th>project_essay_4</th>\n",
       "      <th>project_resource_summary</th>\n",
       "      <th>teacher_number_of_previously_posted_projects</th>\n",
       "      <th>project_is_approved</th>\n",
       "      <th>clean_categories</th>\n",
       "      <th>clean_subcategories</th>\n",
       "      <th>essay</th>\n",
       "      <th>cleaned_essay</th>\n",
       "      <th>cleaned_title_text</th>\n",
       "    </tr>\n",
       "  </thead>\n",
       "  <tbody>\n",
       "    <tr>\n",
       "      <th>0</th>\n",
       "      <td>160221</td>\n",
       "      <td>p253737</td>\n",
       "      <td>c90749f5d961ff158d4b4d1e7dc665fc</td>\n",
       "      <td>Mrs.</td>\n",
       "      <td>IN</td>\n",
       "      <td>2016-12-05 13:43:57</td>\n",
       "      <td>Grades PreK-2</td>\n",
       "      <td>Educational Support for English Learners at Home</td>\n",
       "      <td>My students are English learners that are work...</td>\n",
       "      <td>\\\"The limits of your language are the limits o...</td>\n",
       "      <td>NaN</td>\n",
       "      <td>NaN</td>\n",
       "      <td>My students need opportunities to practice beg...</td>\n",
       "      <td>0</td>\n",
       "      <td>0</td>\n",
       "      <td>Literacy_Language</td>\n",
       "      <td>ESL Literacy</td>\n",
       "      <td>My students are English learners that are work...</td>\n",
       "      <td>my students english learners working english s...</td>\n",
       "      <td>educational support english learners home</td>\n",
       "    </tr>\n",
       "    <tr>\n",
       "      <th>1</th>\n",
       "      <td>140945</td>\n",
       "      <td>p258326</td>\n",
       "      <td>897464ce9ddc600bced1151f324dd63a</td>\n",
       "      <td>Mr.</td>\n",
       "      <td>FL</td>\n",
       "      <td>2016-10-25 09:22:10</td>\n",
       "      <td>Grades 6-8</td>\n",
       "      <td>Wanted: Projector for Hungry Learners</td>\n",
       "      <td>Our students arrive to our school eager to lea...</td>\n",
       "      <td>The projector we need for our school is very c...</td>\n",
       "      <td>NaN</td>\n",
       "      <td>NaN</td>\n",
       "      <td>My students need a projector to help with view...</td>\n",
       "      <td>7</td>\n",
       "      <td>1</td>\n",
       "      <td>History_Civics Health_Sports</td>\n",
       "      <td>Civics_Government TeamSports</td>\n",
       "      <td>Our students arrive to our school eager to lea...</td>\n",
       "      <td>our students arrive school eager learn they po...</td>\n",
       "      <td>wanted projector hungry learners</td>\n",
       "    </tr>\n",
       "  </tbody>\n",
       "</table>\n",
       "</div>"
      ],
      "text/plain": [
       "   Unnamed: 0       id                        teacher_id teacher_prefix  \\\n",
       "0      160221  p253737  c90749f5d961ff158d4b4d1e7dc665fc           Mrs.   \n",
       "1      140945  p258326  897464ce9ddc600bced1151f324dd63a            Mr.   \n",
       "\n",
       "  school_state project_submitted_datetime project_grade_category  \\\n",
       "0           IN        2016-12-05 13:43:57          Grades PreK-2   \n",
       "1           FL        2016-10-25 09:22:10             Grades 6-8   \n",
       "\n",
       "                                      project_title  \\\n",
       "0  Educational Support for English Learners at Home   \n",
       "1             Wanted: Projector for Hungry Learners   \n",
       "\n",
       "                                     project_essay_1  \\\n",
       "0  My students are English learners that are work...   \n",
       "1  Our students arrive to our school eager to lea...   \n",
       "\n",
       "                                     project_essay_2 project_essay_3  \\\n",
       "0  \\\"The limits of your language are the limits o...             NaN   \n",
       "1  The projector we need for our school is very c...             NaN   \n",
       "\n",
       "  project_essay_4                           project_resource_summary  \\\n",
       "0             NaN  My students need opportunities to practice beg...   \n",
       "1             NaN  My students need a projector to help with view...   \n",
       "\n",
       "   teacher_number_of_previously_posted_projects  project_is_approved  \\\n",
       "0                                             0                    0   \n",
       "1                                             7                    1   \n",
       "\n",
       "               clean_categories           clean_subcategories  \\\n",
       "0             Literacy_Language                  ESL Literacy   \n",
       "1  History_Civics Health_Sports  Civics_Government TeamSports   \n",
       "\n",
       "                                               essay  \\\n",
       "0  My students are English learners that are work...   \n",
       "1  Our students arrive to our school eager to lea...   \n",
       "\n",
       "                                       cleaned_essay  \\\n",
       "0  my students english learners working english s...   \n",
       "1  our students arrive school eager learn they po...   \n",
       "\n",
       "                          cleaned_title_text  \n",
       "0  educational support english learners home  \n",
       "1           wanted projector hungry learners  "
      ]
     },
     "execution_count": 24,
     "metadata": {},
     "output_type": "execute_result"
    }
   ],
   "source": [
    "project_data['teacher_prefix'] = project_data['teacher_prefix'].fillna('null')\n",
    " \n",
    "project_data.head(2)\n"
   ]
  },
  {
   "cell_type": "markdown",
   "metadata": {},
   "source": [
    "# Join train & Resource dataset"
   ]
  },
  {
   "cell_type": "code",
   "execution_count": 25,
   "metadata": {},
   "outputs": [],
   "source": [
    "# join two dataframes in python: \n",
    "data = pd.merge(project_data, price_data, on='id', how='left')"
   ]
  },
  {
   "cell_type": "code",
   "execution_count": 26,
   "metadata": {},
   "outputs": [],
   "source": [
    "approved_price = data[data['project_is_approved']==1]['price'].values\n",
    "\n",
    "rejected_price = data[data['project_is_approved']==0]['price'].values"
   ]
  },
  {
   "cell_type": "code",
   "execution_count": 27,
   "metadata": {},
   "outputs": [
    {
     "name": "stdout",
     "output_type": "stream",
     "text": [
      "+------------+-------------------+-----------------------+\n",
      "| Percentile | Approved Projects | Not Approved Projects |\n",
      "+------------+-------------------+-----------------------+\n",
      "|     0      |        0.66       |          1.97         |\n",
      "|     5      |       13.59       |          41.9         |\n",
      "|     10     |       33.88       |         73.67         |\n",
      "|     15     |        58.0       |         99.109        |\n",
      "|     20     |       77.38       |         118.56        |\n",
      "|     25     |       99.95       |        140.892        |\n",
      "|     30     |       116.68      |         162.23        |\n",
      "|     35     |      137.232      |        184.014        |\n",
      "|     40     |       157.0       |        208.632        |\n",
      "|     45     |      178.265      |        235.106        |\n",
      "|     50     |       198.99      |        263.145        |\n",
      "|     55     |       223.99      |         292.61        |\n",
      "|     60     |       255.63      |        325.144        |\n",
      "|     65     |      285.412      |         362.39        |\n",
      "|     70     |      321.225      |         399.99        |\n",
      "|     75     |      366.075      |        449.945        |\n",
      "|     80     |       411.67      |        519.282        |\n",
      "|     85     |       479.0       |        618.276        |\n",
      "|     90     |       593.11      |        739.356        |\n",
      "|     95     |      801.598      |        992.486        |\n",
      "|    100     |       9999.0      |         9999.0        |\n",
      "+------------+-------------------+-----------------------+\n"
     ]
    }
   ],
   "source": [
    "# http://zetcode.com/python/prettytable/\n",
    "from prettytable import PrettyTable\n",
    "import numpy as np\n",
    "\n",
    "\n",
    "t = PrettyTable()\n",
    "t.field_names = [\"Percentile\", \"Approved Projects\", \"Not Approved Projects\"]\n",
    "\n",
    "for i in range(0,101,5):\n",
    "    t.add_row([i,np.round(np.percentile(approved_price,i), 3), np.round(np.percentile(rejected_price,i), 3)])\n",
    "print(t)"
   ]
  },
  {
   "cell_type": "code",
   "execution_count": 28,
   "metadata": {},
   "outputs": [
    {
     "data": {
      "text/html": [
       "<div>\n",
       "<style scoped>\n",
       "    .dataframe tbody tr th:only-of-type {\n",
       "        vertical-align: middle;\n",
       "    }\n",
       "\n",
       "    .dataframe tbody tr th {\n",
       "        vertical-align: top;\n",
       "    }\n",
       "\n",
       "    .dataframe thead th {\n",
       "        text-align: right;\n",
       "    }\n",
       "</style>\n",
       "<table border=\"1\" class=\"dataframe\">\n",
       "  <thead>\n",
       "    <tr style=\"text-align: right;\">\n",
       "      <th></th>\n",
       "      <th>Unnamed: 0</th>\n",
       "      <th>id</th>\n",
       "      <th>teacher_id</th>\n",
       "      <th>teacher_prefix</th>\n",
       "      <th>school_state</th>\n",
       "      <th>project_submitted_datetime</th>\n",
       "      <th>project_grade_category</th>\n",
       "      <th>project_title</th>\n",
       "      <th>project_essay_1</th>\n",
       "      <th>project_essay_2</th>\n",
       "      <th>...</th>\n",
       "      <th>project_resource_summary</th>\n",
       "      <th>teacher_number_of_previously_posted_projects</th>\n",
       "      <th>project_is_approved</th>\n",
       "      <th>clean_categories</th>\n",
       "      <th>clean_subcategories</th>\n",
       "      <th>essay</th>\n",
       "      <th>cleaned_essay</th>\n",
       "      <th>cleaned_title_text</th>\n",
       "      <th>price</th>\n",
       "      <th>quantity</th>\n",
       "    </tr>\n",
       "  </thead>\n",
       "  <tbody>\n",
       "    <tr>\n",
       "      <th>0</th>\n",
       "      <td>160221</td>\n",
       "      <td>p253737</td>\n",
       "      <td>c90749f5d961ff158d4b4d1e7dc665fc</td>\n",
       "      <td>Mrs.</td>\n",
       "      <td>IN</td>\n",
       "      <td>2016-12-05 13:43:57</td>\n",
       "      <td>Grades PreK-2</td>\n",
       "      <td>Educational Support for English Learners at Home</td>\n",
       "      <td>My students are English learners that are work...</td>\n",
       "      <td>\\\"The limits of your language are the limits o...</td>\n",
       "      <td>...</td>\n",
       "      <td>My students need opportunities to practice beg...</td>\n",
       "      <td>0</td>\n",
       "      <td>0</td>\n",
       "      <td>Literacy_Language</td>\n",
       "      <td>ESL Literacy</td>\n",
       "      <td>My students are English learners that are work...</td>\n",
       "      <td>my students english learners working english s...</td>\n",
       "      <td>educational support english learners home</td>\n",
       "      <td>154.6</td>\n",
       "      <td>23</td>\n",
       "    </tr>\n",
       "    <tr>\n",
       "      <th>1</th>\n",
       "      <td>140945</td>\n",
       "      <td>p258326</td>\n",
       "      <td>897464ce9ddc600bced1151f324dd63a</td>\n",
       "      <td>Mr.</td>\n",
       "      <td>FL</td>\n",
       "      <td>2016-10-25 09:22:10</td>\n",
       "      <td>Grades 6-8</td>\n",
       "      <td>Wanted: Projector for Hungry Learners</td>\n",
       "      <td>Our students arrive to our school eager to lea...</td>\n",
       "      <td>The projector we need for our school is very c...</td>\n",
       "      <td>...</td>\n",
       "      <td>My students need a projector to help with view...</td>\n",
       "      <td>7</td>\n",
       "      <td>1</td>\n",
       "      <td>History_Civics Health_Sports</td>\n",
       "      <td>Civics_Government TeamSports</td>\n",
       "      <td>Our students arrive to our school eager to lea...</td>\n",
       "      <td>our students arrive school eager learn they po...</td>\n",
       "      <td>wanted projector hungry learners</td>\n",
       "      <td>299.0</td>\n",
       "      <td>1</td>\n",
       "    </tr>\n",
       "  </tbody>\n",
       "</table>\n",
       "<p>2 rows × 22 columns</p>\n",
       "</div>"
      ],
      "text/plain": [
       "   Unnamed: 0       id                        teacher_id teacher_prefix  \\\n",
       "0      160221  p253737  c90749f5d961ff158d4b4d1e7dc665fc           Mrs.   \n",
       "1      140945  p258326  897464ce9ddc600bced1151f324dd63a            Mr.   \n",
       "\n",
       "  school_state project_submitted_datetime project_grade_category  \\\n",
       "0           IN        2016-12-05 13:43:57          Grades PreK-2   \n",
       "1           FL        2016-10-25 09:22:10             Grades 6-8   \n",
       "\n",
       "                                      project_title  \\\n",
       "0  Educational Support for English Learners at Home   \n",
       "1             Wanted: Projector for Hungry Learners   \n",
       "\n",
       "                                     project_essay_1  \\\n",
       "0  My students are English learners that are work...   \n",
       "1  Our students arrive to our school eager to lea...   \n",
       "\n",
       "                                     project_essay_2  ...  \\\n",
       "0  \\\"The limits of your language are the limits o...  ...   \n",
       "1  The projector we need for our school is very c...  ...   \n",
       "\n",
       "                            project_resource_summary  \\\n",
       "0  My students need opportunities to practice beg...   \n",
       "1  My students need a projector to help with view...   \n",
       "\n",
       "  teacher_number_of_previously_posted_projects project_is_approved  \\\n",
       "0                                            0                   0   \n",
       "1                                            7                   1   \n",
       "\n",
       "               clean_categories           clean_subcategories  \\\n",
       "0             Literacy_Language                  ESL Literacy   \n",
       "1  History_Civics Health_Sports  Civics_Government TeamSports   \n",
       "\n",
       "                                               essay  \\\n",
       "0  My students are English learners that are work...   \n",
       "1  Our students arrive to our school eager to lea...   \n",
       "\n",
       "                                       cleaned_essay  \\\n",
       "0  my students english learners working english s...   \n",
       "1  our students arrive school eager learn they po...   \n",
       "\n",
       "                          cleaned_title_text  price quantity  \n",
       "0  educational support english learners home  154.6       23  \n",
       "1           wanted projector hungry learners  299.0        1  \n",
       "\n",
       "[2 rows x 22 columns]"
      ]
     },
     "execution_count": 28,
     "metadata": {},
     "output_type": "execute_result"
    }
   ],
   "source": [
    "data.head(2)"
   ]
  },
  {
   "cell_type": "markdown",
   "metadata": {},
   "source": [
    "# <h1> Train Test split</h1>"
   ]
  },
  {
   "cell_type": "code",
   "execution_count": 29,
   "metadata": {},
   "outputs": [
    {
     "name": "stdout",
     "output_type": "stream",
     "text": [
      "Shape of data is :  (109248, 22)\n"
     ]
    },
    {
     "data": {
      "text/plain": [
       "1    92706\n",
       "0    16542\n",
       "Name: project_is_approved, dtype: int64"
      ]
     },
     "execution_count": 29,
     "metadata": {},
     "output_type": "execute_result"
    }
   ],
   "source": [
    "print(\"Shape of data is : \",data.shape)\n",
    "project_data[\"project_is_approved\"].value_counts()"
   ]
  },
  {
   "cell_type": "code",
   "execution_count": 30,
   "metadata": {},
   "outputs": [],
   "source": [
    "data = data.sample(n=50000)"
   ]
  },
  {
   "cell_type": "code",
   "execution_count": 31,
   "metadata": {},
   "outputs": [],
   "source": [
    "# Define x & y for splitting\n",
    "\n",
    "y=data['project_is_approved'].values\n",
    "data.drop(['project_is_approved'], axis=1, inplace=True)      # drop project is approved columns  \n",
    "\n",
    "x=data"
   ]
  },
  {
   "cell_type": "code",
   "execution_count": 32,
   "metadata": {},
   "outputs": [],
   "source": [
    "# break in train test\n",
    "\n",
    "from sklearn.model_selection import train_test_split\n",
    "\n",
    "x_train,x_test,y_train,y_test= train_test_split(x,y,test_size=0.2,random_state=2,stratify = y)\n",
    "\n",
    "# now break trainig data further in train and cv\n",
    "#x_train,x_cv,y_train,y_cv= train_test_split(x_train, y_train, test_size=0.3 ,random_state=2,stratify=y_train)"
   ]
  },
  {
   "cell_type": "markdown",
   "metadata": {},
   "source": [
    "# One Hot Encoding of Categorical Data"
   ]
  },
  {
   "cell_type": "code",
   "execution_count": 33,
   "metadata": {},
   "outputs": [
    {
     "name": "stdout",
     "output_type": "stream",
     "text": [
      "After vectorizations\n",
      "(40000, 9) (40000,)\n",
      "(10000, 9) (10000,)\n",
      "['appliedlearning', 'care_hunger', 'health_sports', 'history_civics', 'literacy_language', 'math_science', 'music_arts', 'specialneeds', 'warmth']\n",
      "====================================================================================================\n"
     ]
    }
   ],
   "source": [
    "# OHE of subject category\n",
    "from sklearn.feature_extraction.text import CountVectorizer\n",
    "vectorizer1 = CountVectorizer()\n",
    "vectorizer1.fit(x_train['clean_categories'].values) # fit has to happen only on train data\n",
    "\n",
    "\n",
    "# we use the fitted CountVectorizer to convert the text to vector\n",
    "x_train_clean_cat_ohe = vectorizer1.transform(x_train['clean_categories'].values)\n",
    "#x_cv_clean_cat_ohe = vectorizer.transform(x_cv['clean_categories'].values)\n",
    "x_test_clean_cat_ohe = vectorizer1.transform(x_test['clean_categories'].values)\n",
    "\n",
    "print(\"After vectorizations\")\n",
    "print(x_train_clean_cat_ohe.shape, y_train.shape)\n",
    "#print(x_cv_clean_cat_ohe.shape, y_cv.shape)\n",
    "print(x_test_clean_cat_ohe.shape, y_test.shape)\n",
    "print(vectorizer1.get_feature_names())\n",
    "print(\"=\"*100)"
   ]
  },
  {
   "cell_type": "code",
   "execution_count": 34,
   "metadata": {},
   "outputs": [
    {
     "name": "stdout",
     "output_type": "stream",
     "text": [
      "After vectorizations\n",
      "(40000, 9) (40000,)\n",
      "(10000, 9) (10000,)\n",
      "['appliedsciences', 'care_hunger', 'charactereducation', 'civics_government', 'college_careerprep', 'communityservice', 'earlydevelopment', 'economics', 'environmentalscience', 'esl', 'extracurricular', 'financialliteracy', 'foreignlanguages', 'gym_fitness', 'health_lifescience', 'health_wellness', 'history_geography', 'literacy', 'literature_writing', 'mathematics', 'music', 'nutritioneducation', 'other', 'parentinvolvement', 'performingarts', 'socialsciences', 'specialneeds', 'teamsports', 'visualarts', 'warmth']\n",
      "====================================================================================================\n"
     ]
    }
   ],
   "source": [
    "# ONE of subject subcategory\n",
    "\n",
    "vectorizer2 = CountVectorizer()\n",
    "vectorizer2.fit(x_train['clean_subcategories'].values) # fit has to happen only on train data\n",
    "\n",
    "\n",
    "# we use the fitted CountVectorizer to convert the text to vector\n",
    "x_train_clean_subcat_ohe = vectorizer2.transform(x_train['clean_subcategories'].values)\n",
    "#x_cv_clean_subcat_ohe = vectorizer.transform(x_cv['clean_subcategories'].values)\n",
    "x_test_clean_subcat_ohe = vectorizer2.transform(x_test['clean_subcategories'].values)\n",
    "\n",
    "print(\"After vectorizations\")\n",
    "print(x_train_clean_cat_ohe.shape, y_train.shape)\n",
    "#print(x_cv_clean_cat_ohe.shape, y_cv.shape)\n",
    "print(x_test_clean_cat_ohe.shape, y_test.shape)\n",
    "print(vectorizer2.get_feature_names())\n",
    "print(\"=\"*100)"
   ]
  },
  {
   "cell_type": "code",
   "execution_count": 35,
   "metadata": {},
   "outputs": [
    {
     "name": "stdout",
     "output_type": "stream",
     "text": [
      "After vectorizations\n",
      "(40000, 6) (40000,)\n",
      "(10000, 6) (10000,)\n",
      "['dr', 'mr', 'mrs', 'ms', 'null', 'teacher']\n",
      "====================================================================================================\n"
     ]
    }
   ],
   "source": [
    "# one hot encoding the catogorical features: categorical_categories\n",
    "# teacher_prefix\n",
    "\n",
    "vectorizer3 = CountVectorizer()\n",
    "vectorizer3.fit(x_train['teacher_prefix'].values) # fit has to happen only on train data\n",
    "\n",
    "# we use the fitted CountVectorizer to convert the text to vector\n",
    "x_train_teacher_pre = vectorizer3.transform(x_train['teacher_prefix'].values)\n",
    "\n",
    "x_test_teacher_pre = vectorizer3.transform(x_test['teacher_prefix'].values)\n",
    "\n",
    "print(\"After vectorizations\")\n",
    "print(x_train_teacher_pre.shape, y_train.shape)\n",
    "#print(x_cv_teacher_pre.shape, y_cv.shape)\n",
    "print(x_test_teacher_pre.shape, y_test.shape)\n",
    "print(vectorizer3.get_feature_names())\n",
    "print(\"=\"*100)\n"
   ]
  },
  {
   "cell_type": "code",
   "execution_count": 36,
   "metadata": {},
   "outputs": [
    {
     "name": "stdout",
     "output_type": "stream",
     "text": [
      "After vectorizations\n",
      "(40000, 51) (40000,)\n",
      "(10000, 51) (10000,)\n",
      "['ak', 'al', 'ar', 'az', 'ca', 'co', 'ct', 'dc', 'de', 'fl', 'ga', 'hi', 'ia', 'id', 'il', 'in', 'ks', 'ky', 'la', 'ma', 'md', 'me', 'mi', 'mn', 'mo', 'ms', 'mt', 'nc', 'nd', 'ne', 'nh', 'nj', 'nm', 'nv', 'ny', 'oh', 'ok', 'or', 'pa', 'ri', 'sc', 'sd', 'tn', 'tx', 'ut', 'va', 'vt', 'wa', 'wi', 'wv', 'wy']\n",
      "====================================================================================================\n"
     ]
    }
   ],
   "source": [
    "# school_state\n",
    "\n",
    "vectorizer4 = CountVectorizer()\n",
    "vectorizer4.fit(x_train['school_state'].values) # fit has to happen only on train data\n",
    "\n",
    "# we use the fitted CountVectorizer to convert the text to vector\n",
    "x_train_state_ohe = vectorizer4.transform(x_train['school_state'].values)\n",
    "#x_cv_state_ohe = vectorizer.transform(x_cv['school_state'].values)\n",
    "x_test_state_ohe = vectorizer4.transform(x_test['school_state'].values)\n",
    "\n",
    "print(\"After vectorizations\")\n",
    "print(x_train_state_ohe.shape, y_train.shape)\n",
    "#print(x_cv_state_ohe.shape, y_cv.shape)\n",
    "print(x_test_state_ohe.shape, y_test.shape)\n",
    "print(vectorizer4.get_feature_names())\n",
    "print(\"=\"*100)"
   ]
  },
  {
   "cell_type": "code",
   "execution_count": 37,
   "metadata": {},
   "outputs": [],
   "source": [
    "project_grade_category= x_train['project_grade_category'].unique()"
   ]
  },
  {
   "cell_type": "code",
   "execution_count": 38,
   "metadata": {},
   "outputs": [
    {
     "name": "stdout",
     "output_type": "stream",
     "text": [
      "After vectorizations\n",
      "(40000, 4) (40000,)\n",
      "(10000, 4) (10000,)\n",
      "['Grades 3-5', 'Grades 9-12', 'Grades 6-8', 'Grades PreK-2']\n",
      "====================================================================================================\n"
     ]
    }
   ],
   "source": [
    "vectorizer5 = CountVectorizer(vocabulary=list(project_grade_category), lowercase=False, binary=True)\n",
    "vectorizer5.fit(x_train['project_grade_category'].values) # fit has to happen only on train data\n",
    "\n",
    "# we use the fitted CountVectorizer to convert the text to vector\n",
    "x_train_grade_ohe = vectorizer5.transform(x_train['project_grade_category'].values)\n",
    "#x_cv_grade_ohe = vectorizer.transform(x_cv['project_grade_category'].values)\n",
    "x_test_grade_ohe = vectorizer5.transform(x_test['project_grade_category'].values)\n",
    "\n",
    "print(\"After vectorizations\")\n",
    "print(x_train_grade_ohe.shape, y_train.shape)\n",
    "#print(x_cv_grade_ohe.shape, y_cv.shape)\n",
    "print(x_test_grade_ohe.shape, y_test.shape)\n",
    "print(vectorizer5.get_feature_names())\n",
    "print(\"=\"*100)\n"
   ]
  },
  {
   "cell_type": "markdown",
   "metadata": {},
   "source": [
    "# Standardize Numerical data"
   ]
  },
  {
   "cell_type": "code",
   "execution_count": 39,
   "metadata": {},
   "outputs": [
    {
     "name": "stdout",
     "output_type": "stream",
     "text": [
      "After vectorizations\n",
      "(40000, 1) (40000,)\n",
      "(10000, 1) (10000,)\n",
      "====================================================================================================\n"
     ]
    }
   ],
   "source": [
    "from sklearn.preprocessing import Normalizer\n",
    "normalizer = Normalizer()\n",
    "\n",
    "normalizer.fit(x_train['price'].values.reshape(-1,1))\n",
    "\n",
    "x_train_price_norm = normalizer.transform(x_train['price'].values.reshape(-1,1))\n",
    "\n",
    "x_test_price_norm = normalizer.transform(x_test['price'].values.reshape(-1,1))\n",
    "\n",
    "print(\"After vectorizations\")\n",
    "print(x_train_price_norm.shape, y_train.shape)\n",
    "\n",
    "print(x_test_price_norm.shape, y_test.shape)\n",
    "print(\"=\"*100)"
   ]
  },
  {
   "cell_type": "code",
   "execution_count": 40,
   "metadata": {},
   "outputs": [
    {
     "name": "stdout",
     "output_type": "stream",
     "text": [
      "After vectorizations\n",
      "(40000, 1) (40000,)\n",
      "(10000, 1) (10000,)\n",
      "====================================================================================================\n"
     ]
    }
   ],
   "source": [
    "from sklearn.preprocessing import Normalizer\n",
    "normalizer = Normalizer()\n",
    "\n",
    "normalizer.fit(x_train['teacher_number_of_previously_posted_projects'].values.reshape(-1,1))\n",
    "\n",
    "x_train_teacher_previously_norm = normalizer.transform(x_train['teacher_number_of_previously_posted_projects'].values.reshape(-1,1))\n",
    "\n",
    "x_test_teacher_previously_norm = normalizer.transform(x_test['teacher_number_of_previously_posted_projects'].values.reshape(-1,1))\n",
    "\n",
    "print(\"After vectorizations\")\n",
    "print(x_train_teacher_previously_norm.shape, y_train.shape)\n",
    "\n",
    "print(x_test_teacher_previously_norm.shape, y_test.shape)\n",
    "print(\"=\"*100)"
   ]
  },
  {
   "cell_type": "code",
   "execution_count": 41,
   "metadata": {},
   "outputs": [
    {
     "name": "stdout",
     "output_type": "stream",
     "text": [
      "After vectorizations\n",
      "(40000, 1) (40000,)\n",
      "(10000, 1) (10000,)\n",
      "====================================================================================================\n"
     ]
    }
   ],
   "source": [
    "from sklearn.preprocessing import Normalizer\n",
    "normalizer = Normalizer()\n",
    "\n",
    "normalizer.fit(x_train['quantity'].values.reshape(-1,1))\n",
    "\n",
    "x_train_quantity_norm = normalizer.transform(x_train['quantity'].values.reshape(-1,1))\n",
    "\n",
    "x_test_quantity_norm = normalizer.transform(x_test['quantity'].values.reshape(-1,1))\n",
    "\n",
    "print(\"After vectorizations\")\n",
    "print(x_train_quantity_norm.shape, y_train.shape)\n",
    "\n",
    "print(x_test_quantity_norm.shape, y_test.shape)\n",
    "print(\"=\"*100)"
   ]
  },
  {
   "cell_type": "markdown",
   "metadata": {},
   "source": [
    "# Set 1 : Apply BOW "
   ]
  },
  {
   "cell_type": "code",
   "execution_count": 42,
   "metadata": {},
   "outputs": [
    {
     "name": "stdout",
     "output_type": "stream",
     "text": [
      "After vectorizations\n",
      "(40000, 10000) (40000,)\n",
      "(10000, 10000) (10000,)\n",
      "====================================================================================================\n"
     ]
    },
    {
     "name": "stdout",
     "output_type": "stream",
     "text": [
      "['00', '000', '000 students', '10', '10 students', '10 years', '100', '100 free', '100 percent', '100 students', '10th', '11', '11th', '12', '120', '12th', '12th grade', '13', '14', '15', '15 minutes', '150', '16', '17', '18', '19', '1st', '1st grade', '1st graders', '20', '20 minutes', '20 students', '20 years', '200', '200 students', '2015', '2016', '2016 2017', '2017', '2017 school', '21', '21 students', '21st', '21st century', '22', '22 students', '23', '23 students', '24', '24 students', '25', '25 students', '26', '27', '28', '29', '2nd', '2nd grade', '2nd graders', '30', '30 minutes', '30 students', '300', '300 students', '32', '35', '3d', '3d printer', '3d printing', '3doodler', '3rd', '3rd 4th', '3rd grade', '3rd graders', '40', '40 students', '400', '400 students', '45', '45 minutes', '450', '4th', '4th 5th', '4th grade', '4th graders', '50', '50 students', '500', '500 students', '5th', '5th 6th', '5th grade', '5th graders', '60', '60 minutes', '60 students', '600', '600 students', '65', '6th', '6th 7th', '6th grade', '6th graders', '70', '70 students', '700', '700 students', '75', '75 students', '7th', '7th 8th', '7th grade', '7th graders', '80', '80 students', '800', '800 students', '85', '85 students', '8th', '8th grade', '8th graders', '90', '90 students', '900', '900 students', '95', '95 students', '96', '97', '98', '98 students', '99', '9th', '9th grade', 'abilities', 'ability', 'ability focus', 'ability learn', 'ability levels', 'ability move', 'ability read', 'ability use', 'ability work', 'able', 'able access', 'able afford', 'able apply', 'able better', 'able bring', 'able build', 'able choose', 'able come', 'able communicate', 'able complete', 'able concentrate', 'able continue', 'able control', 'able create', 'able develop', 'able engage', 'able enjoy', 'able experience', 'able explore', 'able express', 'able find', 'able focus', 'able get', 'able give', 'able go', 'able hear', 'able help', 'able interact', 'able keep', 'able learn', 'able listen', 'able make', 'able meet', 'able move', 'able offer', 'able participate', 'able play', 'able practice', 'able print', 'able provide', 'able purchase', 'able put', 'able reach', 'able read', 'able research', 'able see', 'able share', 'able show', 'able sit', 'able stay', 'able take', 'able teach', 'able use', 'able utilize', 'able wiggle', 'able work', 'able write', 'about', 'absolute', 'absolutely', 'absolutely love', 'absorb', 'abstract', 'abundance', 'abuse', 'academic', 'academic abilities', 'academic achievement', 'academic areas', 'academic excellence', 'academic goals', 'academic growth', 'academic learning', 'academic levels', 'academic needs', 'academic performance', 'academic skills', 'academic social', 'academic success', 'academically', 'academically socially', 'academics', 'academy', 'accelerated', 'accelerated reader', 'accept', 'acceptance', 'accepted', 'accepting', 'access', 'access books', 'access chromebooks', 'access computer', 'access computers', 'access curriculum', 'access educational', 'access home', 'access information', 'access internet', 'access learning', 'access many', 'access materials', 'access new', 'access online', 'access quality', 'access reading', 'access resources', 'access students', 'access technology', 'access variety', 'accessibility', 'accessible', 'accessible students', 'accessing', 'accessories', 'accommodate', 'accommodations', 'accompany', 'accomplish', 'accomplish goal', 'accomplished', 'accomplishment', 'accomplishments', 'according', 'account', 'accountability', 'accountable', 'accounts', 'accuracy', 'accurate', 'accurately', 'achieve', 'achieve academic', 'achieve goal', 'achieve goals', 'achieve success', 'achieved', 'achievement', 'achievement gap', 'achievements', 'achievers', 'achieving', 'acquire', 'acquired', 'acquiring', 'acquisition', 'across', 'across curriculum', 'act', 'acting', 'action', 'actions', 'active', 'active classroom', 'active engaged', 'active learners', 'active learning', 'active participants', 'active play', 'active seating', 'active students', 'active they', 'active throughout', 'actively', 'actively engage', 'actively engaged', 'actively involved', 'activities', 'activities allow', 'activities classroom', 'activities help', 'activities keep', 'activities learning', 'activities my', 'activities nannan', 'activities our', 'activities students', 'activities the', 'activities these', 'activities they', 'activities this', 'activities throughout', 'activities we', 'activities would', 'activity', 'activity day', 'activity students', 'actual', 'actually', 'adapt', 'adapted', 'adaptive', 'add', 'add adhd', 'add subtract', 'added', 'adding', 'addition', 'addition classroom', 'addition students', 'addition subtraction', 'additional', 'additional resources', 'additional support', 'additionally', 'additionally students', 'address', 'adds', 'adequate', 'adhd', 'adjust', 'administration', 'administrators', 'adopted', 'adult', 'adulthood', 'adults', 'advance', 'advanced', 'advantage', 'advantages', 'adventure', 'adventures', 'adversity', 'advocate', 'affect', 'affected', 'affects', 'affluent', 'afford', 'afford buy', 'afford purchase', 'afforded', 'afraid', 'africa', 'african', 'african american', 'after', 'afternoon', 'age', 'age appropriate', 'age group', 'age students', 'aged', 'ages', 'ago', 'agree', 'agricultural', 'agriculture', 'ahead', 'ahead early', 'aid', 'aide', 'aids', 'aim', 'air', 'alabama', 'alert', 'algebra', 'aligned', 'alike', 'alive', 'all', 'all children', 'all items', 'all materials', 'all students', 'alleviate', 'allow', 'allow access', 'allow children', 'allow create', 'allow kids', 'allow learn', 'allow move', 'allow movement', 'allow provide', 'allow student', 'allow students', 'allow us', 'allow use', 'allow work', 'allowed', 'allowing', 'allowing students', 'allows', 'allows children', 'allows students', 'allows us', 'almost', 'almost every', 'almost students', 'alone', 'along', 'along way', 'alongside', 'aloud', 'alouds', 'alphabet', 'already', 'also', 'also able', 'also access', 'also allow', 'also allows', 'also asking', 'also benefit', 'also come', 'also create', 'also enjoy', 'also get', 'also give', 'also great', 'also help', 'also helps', 'also learn', 'also learning', 'also like', 'also love', 'also make', 'also many', 'also need', 'also not', 'also opportunity', 'also provide', 'also provides', 'also receive', 'also requested', 'also requesting', 'also serve', 'also students', 'also teach', 'also use', 'also used', 'also want', 'also work', 'alternate', 'alternative', 'alternative seating', 'alternatives', 'although', 'although many', 'although school', 'although students', 'always', 'always access', 'always asking', 'always best', 'always come', 'always eager', 'always excited', 'always looking', 'always ready', 'always try', 'always trying', 'always want', 'always willing', 'amaze', 'amazed', 'amazing', 'amazing group', 'amazing kids', 'amazing see', 'amazing students', 'amazing they', 'amazing things', 'amazingly', 'amazon', 'ambitious', 'america', 'american', 'american hispanic', 'american students', 'americans', 'among', 'among students', 'amongst', 'amount', 'amount time', 'amounts', 'ample', 'an', 'an ipad', 'analysis', 'analyze', 'analyzing', 'anchor', 'anchor charts', 'ancient', 'and', 'angeles', 'animal', 'animals', 'animation', 'annual', 'another', 'another language', 'another student', 'another way', 'answer', 'answer questions', 'answering', 'answers', 'answers questions', 'anxiety', 'anxious', 'any', 'anymore', 'anyone', 'anything', 'anytime', 'anywhere', 'ap', 'apart', 'apartment', 'apartments', 'app', 'apparent', 'appeal', 'appealing', 'apple', 'apple tv', 'application', 'applications', 'applied', 'apply', 'apply knowledge', 'applying', 'appreciate', 'appreciate help', 'appreciated', 'appreciated nannan', 'appreciation', 'appreciative', 'approach', 'approach learning', 'approaches', 'appropriate', 'appropriately', 'approximately', 'apps', 'apps available', 'apps help', 'ar', 'arabic', 'are', 'area', 'area city', 'area classroom', 'area high', 'area many', 'area my', 'area not', 'area our', 'area students', 'area the', 'area they', 'area we', 'areas', 'areas my', 'areas students', 'arizona', 'arms', 'around', 'around classroom', 'around my', 'around room', 'around school', 'around students', 'around the', 'around they', 'around us', 'around we', 'around world', 'arrangement', 'arrangements', 'array', 'arrive', 'arrive school', 'arrived', 'art', 'art class', 'art classroom', 'art materials', 'art math', 'art music', 'art program', 'art projects', 'art room', 'art students', 'art supplies', 'art teacher', 'art work', 'article', 'articles', 'artist', 'artistic', 'artists', 'arts', 'arts math', 'arts students', 'artwork', 'as', 'as class', 'as educator', 'as first', 'as new', 'as part', 'as result', 'as school', 'as special', 'as students', 'as teacher', 'as teachers', 'as title', 'asian', 'aside', 'ask', 'ask questions', 'ask students', 'asked', 'asked could', 'asked students', 'asking', 'asking help', 'asking questions', 'aspect', 'aspects', 'aspirations', 'aspire', 'assess', 'assessment', 'assessments', 'asset', 'assign', 'assigned', 'assignment', 'assignments', 'assist', 'assist students', 'assistance', 'associated', 'assortment', 'at', 'at beginning', 'at end', 'at school', 'at time', 'athletes', 'athletic', 'athletics', 'atlanta', 'atmosphere', 'attached', 'attain', 'attempt', 'attend', 'attend college', 'attend school', 'attend title', 'attendance', 'attended', 'attending', 'attending school', 'attention', 'attention deficit', 'attention focus', 'attention many', 'attention span', 'attentive', 'attitude', 'attitudes', 'audience', 'audio', 'audio books', 'auditory', 'august', 'authentic', 'authentic learning', 'author', 'authors', 'autism', 'autism spectrum', 'autistic', 'availability', 'available', 'available classroom', 'available students', 'avenue', 'avenues', 'average', 'avid', 'avid readers', 'avoid', 'award', 'award winning', 'awards', 'aware', 'awareness', 'away', 'away home', 'awesome', 'babies', 'baby', 'baccalaureate', 'back', 'back classroom', 'back forth', 'back school', 'background', 'background knowledge', 'backgrounds', 'backgrounds cultures', 'backgrounds different', 'backgrounds experiences', 'backgrounds many', 'backgrounds my', 'backgrounds one', 'backgrounds our', 'backgrounds some', 'backgrounds students', 'backgrounds the', 'backgrounds they', 'backgrounds we', 'backpack', 'backpack food', 'backpacks', 'backs', 'bad', 'bag', 'bag chairs', 'bags', 'balance', 'balance ball', 'balance balls', 'balanced', 'balancing', 'ball', 'ball chair', 'ball chairs', 'balls', 'balls allow', 'balls help', 'baltimore', 'band', 'band program', 'bands', 'bank', 'bar', 'bare', 'barely', 'barrier', 'barriers', 'bars', 'base', 'baseball', 'based', 'based learning', 'based socioeconomic', 'basic', 'basic math', 'basic necessities', 'basic needs', 'basic school', 'basic skills', 'basic supplies', 'basics', 'basis', 'basis my', 'basis students', 'basis the', 'basketball', 'basketballs', 'baskets', 'bass', 'batteries', 'battle', 'bay', 'be', 'beach', 'beads', 'bean', 'bean bag', 'bean bags', 'beanbag', 'beat', 'beautiful', 'beauty', 'became', 'because', 'because students', 'become', 'become active', 'become best', 'become better', 'become confident', 'become engaged', 'become excited', 'become familiar', 'become fluent', 'become great', 'become independent', 'become life', 'become lifelong', 'become part', 'become productive', 'become proficient', 'become successful', 'becomes', 'becoming', 'bed', 'bee', 'before', 'beg', 'began', 'begging', 'begin', 'beginning', 'beginning school', 'beginning year', 'begins', 'begun', 'behavior', 'behavior issues', 'behavioral', 'behavioral issues', 'behaviors', 'behind', 'being', 'being able', 'beings', 'belief', 'believe', 'believe anything', 'believe every', 'believe students', 'believes', 'believing', 'bell', 'belong', 'belonging', 'belongings', 'bench', 'beneficial', 'beneficial students', 'benefit', 'benefit greatly', 'benefit students', 'benefits', 'benefits students', 'benjamin', 'benjamin franklin', 'besides', 'best', 'best ability', 'best education', 'best effort', 'best every', 'best hands', 'best help', 'best learning', 'best make', 'best my', 'best nannan', 'best part', 'best possible', 'best provide', 'best school', 'best students', 'best the', 'best they', 'best way', 'best ways', 'best we', 'best work', 'better', 'better able', 'better focus', 'better future', 'better learning', 'better life', 'better oxygen', 'better place', 'better prepare', 'better prepared', 'better readers', 'better students', 'better teacher', 'better they', 'better understand', 'better understanding', 'better way', 'beyond', 'beyond classroom', 'big', 'big books', 'big difference', 'big part', 'bigger', 'biggest', 'biggest challenge', 'bike', 'bikes', 'bilingual', 'bilingual students', 'bin', 'binder', 'binders', 'bins', 'biology', 'bit', 'black', 'black white', 'blank', 'blend', 'blended', 'blended learning', 'blessed', 'blessing', 'block', 'blocks', 'blog', 'blood', 'blood flow', 'blossom', 'blue', 'board', 'board games', 'boards', 'bodies', 'bodies minds', 'body', 'bond', 'bonus', 'boogie', 'boogie boards', 'book', 'book bins', 'book boxes', 'book club', 'book clubs', 'book nannan', 'book read', 'book reading', 'book series', 'book students', 'book the', 'books', 'books able', 'books allow', 'books also', 'books available', 'books books', 'books cd', 'books choose', 'books class', 'books classroom', 'books give', 'books hands', 'books help', 'books home', 'books interest', 'books level', 'books library', 'books make', 'books many', 'books my', 'books nannan', 'books not', 'books provide', 'books read', 'books reading', 'books school', 'books students', 'books take', 'books the', 'books these', 'books they', 'books this', 'books used', 'books want', 'books we', 'books would', 'bookshelf', 'bookshelves', 'boost', 'bored', 'boring', 'born', 'borrow', 'boston', 'both', 'bottles', 'bottom', 'bought', 'bounce', 'bouncing', 'bouncy', 'bouncy bands', 'bound', 'boundaries', 'box', 'boxes', 'boy', 'boys', 'boys girls', 'brain', 'brain breaks', 'brains', 'brainstorm', 'brainstorming', 'brand', 'brand new', 'brave', 'break', 'breakfast', 'breakfast free', 'breakfast lunch', 'breaking', 'breakout', 'breakout edu', 'breaks', 'bridge', 'bridge gap', 'bridges', 'bright', 'bright energetic', 'bright future', 'brighten', 'brighter', 'brightest', 'brilliant', 'bring', 'bring classroom', 'bring home', 'bring new', 'bring students', 'bringing', 'brings', 'broad', 'broaden', 'broken', 'broken homes', 'bronx', 'brooklyn', 'brought', 'brushes', 'bucket', 'buddies', 'budding', 'buddy', 'budget', 'budget cuts', 'budgets', 'build', 'build classroom', 'build community', 'build confidence', 'build fluency', 'build foundation', 'build reading', 'build self', 'build skills', 'build strong', 'build students', 'build upon', 'build vocabulary', 'builders', 'building', 'building blocks', 'buildings', 'builds', 'built', 'bulletin', 'bullying', 'bunch', 'bunch kids', 'bundle', 'burden', 'burn', 'burning', 'bus', 'business', 'businesses', 'busy', 'but', 'but not', 'butterflies', 'butterfly', 'button', 'buy', 'buying', 'by', 'by adding', 'by allowing', 'by creating', 'by creative', 'by donating', 'by end', 'by funding', 'by giving', 'by helping', 'by providing', 'by using', 'ca', 'cafeteria', 'calculator', 'calculators', 'calendar', 'california', 'call', 'called', 'calm', 'calming', 'calories', 'came', 'camera', 'cameras', 'camp', 'campus', 'can', 'can imagine', 'candy', 'cannot', 'cannot afford', 'cannot wait', 'canvas', 'capabilities', 'capability', 'capable', 'capacity', 'capture', 'car', 'card', 'card stock', 'cardboard', 'cards', 'care', 'cared', 'career', 'career readiness', 'career ready', 'careers', 'carefully', 'cares', 'caring', 'carolina', 'carpet', 'carry', 'carrying', 'cars', 'cart', 'cartridges', 'carts', 'case', 'cases', 'catch', 'catching', 'caucasian', 'caught', 'cause', 'cause effect', 'caused', 'causes', 'causing', 'cd', 'cd player', 'cd players', 'cds', 'celebrate', 'celebrated', 'celebrating', 'celebration', 'cell', 'cells', 'center', 'center activities', 'center classroom', 'center students', 'center the', 'center time', 'center would', 'centered', 'centers', 'centers help', 'centers students', 'central', 'century', 'century classroom', 'century learners', 'century learning', 'century skills', 'century technology', 'certain', 'certainly', 'certainly control', 'certified', 'chair', 'chair day', 'chairs', 'chairs allow', 'chairs classroom', 'chairs help', 'chairs not', 'chairs provide', 'chairs students', 'chairs would', 'chalk', 'challenge', 'challenge students', 'challenged', 'challenges', 'challenges classroom', 'challenges come', 'challenges daily', 'challenges face', 'challenges home', 'challenges many', 'challenges my', 'challenges outside', 'challenges school', 'challenges students', 'challenging', 'challenging students', 'chance', 'chance experience', 'chance explore', 'chance get', 'chance learn', 'chance move', 'chance use', 'chances', 'change', 'change lives', 'change students', 'change way', 'change world', 'changed', 'changes', 'changing', 'changing world', 'channel', 'chaos', 'chapter', 'chapter books', 'character', 'characteristics', 'characters', 'charge', 'charge learning', 'charged', 'charging', 'charging station', 'chart', 'chart paper', 'charter', 'charter school', 'charts', 'check', 'check books', 'checking', 'cheer', 'chemical', 'chemistry', 'chess', 'chicago', 'child', 'child education', 'child learning', 'child not', 'childhood', 'children', 'children able', 'children autism', 'children become', 'children class', 'children classroom', 'children come', 'children deserve', 'children eager', 'children get', 'children learn', 'children learning', 'children love', 'children many', 'children my', 'children need', 'children not', 'children our', 'children read', 'children receive', 'children school', 'children special', 'children the', 'children they', 'children use', 'children want', 'children work', 'china', 'chinese', 'choice', 'choice seating', 'choice sit', 'choice time', 'choices', 'choices students', 'choir', 'choose', 'choose books', 'choose project', 'choose seat', 'choose seating', 'choose sit', 'choose work', 'choosing', 'chose', 'chosen', 'chrome', 'chrome book', 'chrome books', 'chromebook', 'chromebooks', 'chromebooks allow', 'chromebooks classroom', 'chromebooks help', 'chromebooks students', 'chromebooks used', 'chromebooks would', 'circle', 'circle time', 'circles', 'circuit', 'circuits', 'circumstances', 'cities', 'citizens', 'citizenship', 'city', 'city public', 'city school', 'city students', 'civil', 'class', 'class able', 'class also', 'class come', 'class comprised', 'class consists', 'class day', 'class discussions', 'class diverse', 'class every', 'class excited', 'class families', 'class full', 'class help', 'class in', 'class it', 'class learn', 'class learning', 'class library', 'class love', 'class made', 'class many', 'class my', 'class nannan', 'class need', 'class needs', 'class not', 'class one', 'class our', 'class period', 'class ready', 'class school', 'class set', 'class size', 'class sizes', 'class students', 'class the', 'class these', 'class they', 'class this', 'class time', 'class use', 'class want', 'class we', 'class well', 'class work', 'class would', 'class year', 'classes', 'classes students', 'classes the', 'classic', 'classics', 'classified', 'classmates', 'classroom', 'classroom able', 'classroom activities', 'classroom all', 'classroom allow', 'classroom allows', 'classroom also', 'classroom always', 'classroom as', 'classroom become', 'classroom believe', 'classroom building', 'classroom by', 'classroom carpet', 'classroom children', 'classroom come', 'classroom community', 'classroom computers', 'classroom consists', 'classroom currently', 'classroom daily', 'classroom day', 'classroom despite', 'classroom diverse', 'classroom door', 'classroom each', 'classroom eager', 'classroom environment', 'classroom every', 'classroom everyday', 'classroom excited', 'classroom experience', 'classroom family', 'classroom feel', 'classroom filled', 'classroom first', 'classroom flexible', 'classroom focus', 'classroom full', 'classroom fun', 'classroom give', 'classroom great', 'classroom having', 'classroom help', 'classroom home', 'classroom however', 'classroom if', 'classroom in', 'classroom instruction', 'classroom it', 'classroom know', 'classroom learn', 'classroom learning', 'classroom library', 'classroom like', 'classroom love', 'classroom made', 'classroom make', 'classroom management', 'classroom many', 'classroom materials', 'classroom my', 'classroom nannan', 'classroom need', 'classroom needs', 'classroom new', 'classroom no', 'classroom not', 'classroom often', 'classroom one', 'classroom order', 'classroom our', 'classroom place', 'classroom provide', 'classroom providing', 'classroom reading', 'classroom ready', 'classroom resources', 'classroom rug', 'classroom safe', 'classroom school', 'classroom seating', 'classroom see', 'classroom set', 'classroom setting', 'classroom small', 'classroom space', 'classroom special', 'classroom student', 'classroom students', 'classroom supplies', 'classroom teach', 'classroom teacher', 'classroom teachers', 'classroom technology', 'classroom the', 'classroom there', 'classroom these', 'classroom they', 'classroom this', 'classroom time', 'classroom use', 'classroom using', 'classroom want', 'classroom we', 'classroom well', 'classroom when', 'classroom with', 'classroom without', 'classroom work', 'classroom would', 'classroom year', 'classrooms', 'classrooms not', 'classrooms students', 'classwork', 'clay', 'clean', 'cleaning', 'clear', 'clearly', 'clever', 'clever spontaneous', 'click', 'climate', 'clip', 'clipboards', 'clips', 'close', 'close achievement', 'close gap', 'close knit', 'close reading', 'closely', 'closer', 'closet', 'closing', 'clothes', 'clothing', 'club', 'club students', 'clubs', 'clues', 'co', 'co teaching', 'coach', 'coaches', 'code', 'codes', 'coding', 'coding skills', 'coffee', 'cognitive', 'cold', 'collaborate', 'collaborate peers', 'collaborating', 'collaboration', 'collaboration communication', 'collaborative', 'collaborative groups', 'collaborative learning', 'collaboratively', 'colleagues', 'collect', 'collection', 'college', 'college bound', 'college career', 'college level', 'college prep', 'college ready', 'colleges', 'color', 'color printer', 'colored', 'colored paper', 'colored pencils', 'colorful', 'coloring', 'colors', 'com', 'combination', 'combine', 'combined', 'combining', 'come', 'come alive', 'come back', 'come bilingual', 'come broken', 'come class', 'come classroom', 'come day', 'come different', 'come diverse', 'come economically', 'come every', 'come everyday', 'come families', 'come high', 'come homes', 'come kindergarten', 'come learn', 'come life', 'come low', 'come lower', 'come many', 'come nannan', 'come poverty', 'come ready', 'come room', 'come school', 'come single', 'come small', 'come together', 'come true', 'come us', 'come variety', 'come various', 'come walks', 'come wide', 'comes', 'comes learning', 'comes school', 'comfort', 'comfortable', 'comfortable classroom', 'comfortable environment', 'comfortable learning', 'comfortable place', 'comfortable safe', 'comfortable seating', 'comfortably', 'comfy', 'comic', 'comics', 'coming', 'coming low', 'coming school', 'commitment', 'committed', 'common', 'common core', 'common goal', 'common love', 'communicate', 'communicating', 'communication', 'communication skills', 'communities', 'community', 'community classroom', 'community learners', 'community many', 'community members', 'community my', 'community nannan', 'community our', 'community school', 'community students', 'community the', 'community they', 'community we', 'compare', 'compare contrast', 'compared', 'comparing', 'compassion', 'compassionate', 'compete', 'competing', 'competition', 'competitions', 'competitive', 'complain', 'complete', 'complete assignments', 'complete projects', 'complete research', 'complete tasks', 'complete work', 'completed', 'completely', 'completing', 'completing work', 'completion', 'complex', 'complicated', 'component', 'components', 'compose', 'composed', 'composition', 'comprehend', 'comprehension', 'comprehension skills', 'comprehensive', 'comprised', 'computer', 'computer based', 'computer coding', 'computer home', 'computer lab', 'computer programming', 'computer programs', 'computer science', 'computer skills', 'computers', 'computers classroom', 'computers home', 'computers students', 'concentrate', 'concentration', 'concept', 'concepts', 'concepts students', 'concepts taught', 'concepts the', 'concern', 'concerned', 'concerns', 'concert', 'concerts', 'concrete', 'condition', 'conditions', 'conducive', 'conducive learning', 'conduct', 'conduct research', 'conducting', 'conference', 'confidence', 'confident', 'confined', 'conflict', 'conjunction', 'connect', 'connected', 'connecting', 'connection', 'connections', 'connects', 'conquer', 'consider', 'consider donating', 'consider helping', 'consideration', 'consideration nannan', 'considered', 'considered high', 'considered low', 'considering', 'considering project', 'consist', 'consistency', 'consistent', 'consistently', 'consists', 'constant', 'constantly', 'constantly asking', 'constantly looking', 'constantly moving', 'construct', 'construction', 'construction paper', 'contact', 'contagious', 'contain', 'contained', 'contained classroom', 'containers', 'contains', 'content', 'content areas', 'context', 'continually', 'continue', 'continue grow', 'continue learn', 'continue learning', 'continue path', 'continue work', 'continued', 'continues', 'continuing', 'continuously', 'contrast', 'contribute', 'contributing', 'contribution', 'contributions', 'control', 'control experience', 'control home', 'control learning', 'controlled', 'conversation', 'conversations', 'cook', 'cooking', 'cool', 'cooperate', 'cooperation', 'cooperative', 'cooperative learning', 'cooperatively', 'coordination', 'cope', 'copies', 'coping', 'copy', 'copy paper', 'cords', 'core', 'core curriculum', 'core muscles', 'core standards', 'core state', 'core strength', 'core subjects', 'corner', 'correct', 'correctly', 'cost', 'costs', 'costumes', 'couch', 'could', 'could also', 'could get', 'could help', 'could make', 'could not', 'could use', 'counseling', 'counselor', 'count', 'counters', 'counting', 'countless', 'countries', 'country', 'county', 'couple', 'courage', 'course', 'courses', 'court', 'cover', 'covered', 'covering', 'covers', 'cozy', 'craft', 'crafts', 'crave', 'crayons', 'crazy', 'create', 'create art', 'create classroom', 'create digital', 'create engaging', 'create environment', 'create fun', 'create learning', 'create new', 'create positive', 'create presentations', 'create projects', 'create safe', 'create something', 'create space', 'created', 'creates', 'creating', 'creating art', 'creation', 'creations', 'creative', 'creative clever', 'creative learning', 'creative meaningful', 'creative minds', 'creative positive', 'creative problem', 'creative students', 'creative they', 'creative thinkers', 'creative thinking', 'creative way', 'creative ways', 'creative writing', 'creatively', 'creativity', 'creativity critical', 'creators', 'credit', 'crew', 'cricut', 'crime', 'crisis', 'critical', 'critical thinkers', 'critical thinking', 'critically', 'cross', 'cross curricular', 'crowded', 'crucial', 'cube', 'cubes', 'cultivate', 'cultural', 'cultural backgrounds', 'culturally', 'culturally diverse', 'culture', 'cultures', 'cultures backgrounds', 'cups', 'curiosity', 'curious', 'curious creative', 'curious eager', 'curious world', 'current', 'current events', 'current technology', 'currently', 'currently classroom', 'currently not', 'currently students', 'currently teach', 'currently use', 'curricular', 'curricular activities', 'curriculum', 'curriculum my', 'curriculum students', 'curriculum the', 'cushion', 'cushions', 'cut', 'cuts', 'cutting', 'cutting edge', 'cycle', 'cycles', 'dad', 'daily', 'daily access', 'daily activities', 'daily basis', 'daily challenges', 'daily classroom', 'daily learning', 'daily lessons', 'daily life', 'daily lives', 'daily living', 'daily math', 'daily my', 'daily reading', 'daily routine', 'daily students', 'daily the', 'daily work', 'damaged', 'dance', 'dancing', 'dangerous', 'dash', 'dash dot', 'data', 'date', 'day', 'day age', 'day also', 'day as', 'day by', 'day class', 'day classroom', 'day come', 'day day', 'day despite', 'day eager', 'day every', 'day excited', 'day full', 'day get', 'day help', 'day in', 'day it', 'day kindergarten', 'day learn', 'day learning', 'day long', 'day make', 'day many', 'day my', 'day nannan', 'day new', 'day not', 'day one', 'day our', 'day ready', 'day school', 'day see', 'day smile', 'day students', 'day teach', 'day the', 'day these', 'day they', 'day this', 'day want', 'day we', 'day with', 'day work', 'day would', 'days', 'days week', 'dc', 'deaf', 'deal', 'dealing', 'debate', 'decide', 'decided', 'decision', 'decisions', 'decoding', 'decorate', 'decrease', 'dedicated', 'dedication', 'deep', 'deepen', 'deepen understanding', 'deeper', 'deeper understanding', 'deeply', 'deficit', 'deficits', 'define', 'defined', 'definitely', 'degree', 'degrees', 'delays', 'deliver', 'delve', 'demand', 'demands', 'demographic', 'demographics', 'demonstrate', 'demonstrating', 'demonstrations', 'department', 'depend', 'dependent', 'depending', 'depth', 'describe', 'describe students', 'described', 'deserve', 'deserve best', 'deserve chance', 'deserve every', 'deserve opportunity', 'deserves', 'deserving', 'design', 'design create', 'design process', 'designated', 'designed', 'designing', 'designs', 'desire', 'desire learn', 'desired', 'desk', 'desk chair', 'desk day', 'desks', 'desks chairs', 'desktop', 'desktop computers', 'desperate', 'desperate need', 'desperately', 'desperately need', 'despite', 'despite challenges', 'despite hardships', 'despite many', 'despite obstacles', 'detail', 'detailed', 'details', 'determination', 'determine', 'determined', 'detroit', 'develop', 'develop critical', 'develop love', 'develop reading', 'develop skills', 'developed', 'developing', 'development', 'developmental', 'developmental delays', 'developmentally', 'developmentally appropriate', 'develops', 'device', 'devices', 'diagnosed', 'diagnosis', 'diagrams', 'dice', 'dictionaries', 'dictionary', 'did', 'difference', 'difference classroom', 'difference lives', 'difference students', 'difference world', 'differences', 'different', 'different activities', 'different areas', 'different backgrounds', 'different countries', 'different cultural', 'different cultures', 'different economic', 'different experiences', 'different genres', 'different languages', 'different learning', 'different levels', 'different materials', 'different needs', 'different options', 'different places', 'different reading', 'different seating', 'different students', 'different things', 'different types', 'different way', 'different ways', 'differentiate', 'differentiate instruction', 'differentiated', 'differentiated instruction', 'differentiation', 'differently', 'differing', 'difficult', 'difficult home', 'difficult students', 'difficult time', 'difficulties', 'difficulty', 'dig', 'digital', 'digital age', 'digital world', 'digitally', 'diligently', 'dimensional', 'dinner', 'diploma', 'dire', 'direct', 'direct instruction', 'directed', 'direction', 'directions', 'directly', 'dirty', 'disabilities', 'disabilities autism', 'disabilities emotional', 'disabilities including', 'disabilities my', 'disabilities the', 'disabilities they', 'disability', 'disabled', 'disadvantage', 'disadvantaged', 'disadvantages', 'discipline', 'disciplines', 'discover', 'discover new', 'discovered', 'discoveries', 'discovering', 'discovery', 'discs', 'discuss', 'discussed', 'discussing', 'discussion', 'discussions', 'disorder', 'disorders', 'display', 'displayed', 'displaying', 'displays', 'disrupting', 'disruptive', 'distance', 'distract', 'distracted', 'distracting', 'distracting others', 'distraction', 'distractions', 'district', 'district many', 'district my', 'district not', 'district our', 'district students', 'district the', 'district we', 'districts', 'disturbance', 'disturbing', 'dive', 'diverse', 'diverse background', 'diverse backgrounds', 'diverse classroom', 'diverse community', 'diverse group', 'diverse learners', 'diverse learning', 'diverse many', 'diverse needs', 'diverse population', 'diverse school', 'diverse student', 'diverse students', 'diversity', 'divide', 'division', 'do', 'do remember', 'docs', 'doctors', 'document', 'document camera', 'documents', 'dollar', 'dollars', 'donate', 'donated', 'donating', 'donating project', 'donation', 'donation help', 'donation project', 'donation students', 'donation would', 'donations', 'donations help', 'donations project', 'done', 'donor', 'donor choose', 'donors', 'donors choose', 'donorschoose', 'donorschoose org', 'door', 'door classroom', 'doors', 'dot', 'dots', 'double', 'doubt', 'dough', 'down', 'down syndrome', 'download', 'downtown', 'dr', 'dr seuss', 'drama', 'dramatic', 'dramatic play', 'dramatically', 'drastically', 'draw', 'drawing', 'drawings', 'drawn', 'dream', 'dream big', 'dreamers', 'dreamers thinkers', 'dreams', 'dress', 'drills', 'drink', 'drive', 'driven', 'drives', 'drone', 'drop', 'drugs', 'drum', 'drumming', 'drums', 'dry', 'dry erase', 'dual', 'dual language', 'due', 'due budget', 'due fact', 'due high', 'due lack', 'due limited', 'dull', 'durable', 'during', 'during time', 'duty', 'dvd', 'dynamic', 'dynamics', 'dyslexia', 'each', 'each child', 'each day', 'each every', 'each one', 'each student', 'each students', 'each week', 'each year', 'eager', 'eager excited', 'eager explore', 'eager learn', 'eager learners', 'eager read', 'eager ready', 'eager students', 'eagerly', 'eagerness', 'eagerness learn', 'ear', 'earbuds', 'earlier', 'earliest', 'earliest learners', 'early', 'early age', 'early childhood', 'early life', 'early literacy', 'earn', 'earned', 'earning', 'ears', 'earth', 'ease', 'easel', 'easier', 'easier students', 'easily', 'easily accessible', 'east', 'eastern', 'easy', 'easy access', 'eat', 'eating', 'ebooks', 'economic', 'economic area', 'economic background', 'economic backgrounds', 'economic status', 'economical', 'economically', 'economically disadvantaged', 'economics', 'economy', 'ecosystem', 'ecosystems', 'ed', 'edge', 'edit', 'editing', 'edu', 'educate', 'educated', 'educating', 'education', 'education class', 'education classes', 'education classroom', 'education classrooms', 'education deserve', 'education my', 'education nannan', 'education not', 'education our', 'education possible', 'education program', 'education services', 'education students', 'education teacher', 'education the', 'education they', 'education we', 'educational', 'educational apps', 'educational career', 'educational experience', 'educational experiences', 'educational games', 'educational journey', 'educational needs', 'educational opportunities', 'educational resources', 'educational websites', 'educator', 'educators', 'effect', 'effective', 'effectively', 'effects', 'efficient', 'efficiently', 'effort', 'efforts', 'eggs', 'eight', 'eighth', 'eighth grade', 'eighty', 'einstein', 'either', 'el', 'ela', 'elective', 'electric', 'electrical', 'electricity', 'electronic', 'electronics', 'element', 'elementary', 'elementary school', 'elementary schools', 'elementary students', 'elements', 'eligible', 'eligible free', 'eliminate', 'ell', 'ell students', 'ells', 'elmo', 'else', 'embark', 'embrace', 'emergent', 'emerging', 'emotional', 'emotional behavioral', 'emotional disabilities', 'emotional disturbance', 'emotional learning', 'emotional needs', 'emotional skills', 'emotionally', 'emotions', 'empathy', 'emphasis', 'emphasize', 'employment', 'empower', 'empower students', 'empowered', 'empowering', 'empowering students', 'empowers', 'empty', 'enable', 'enable students', 'enables', 'enabling', 'encounter', 'encourage', 'encourage love', 'encourage students', 'encouraged', 'encouragement', 'encourages', 'encourages students', 'encouraging', 'encouraging students', 'end', 'end day', 'end school', 'end year', 'endeavor', 'endeavors', 'ended', 'ending', 'endless', 'endless possibilities', 'ends', 'ends meet', 'energetic', 'energetic eager', 'energetic enthusiastic', 'energetic excited', 'energetic group', 'energetic students', 'energized', 'energy', 'energy they', 'engage', 'engage learning', 'engage students', 'engaged', 'engaged excited', 'engaged focused', 'engaged learners', 'engaged learning', 'engaged reading', 'engaged students', 'engagement', 'engagement learning', 'engages', 'engaging', 'engaging activities', 'engaging books', 'engaging environment', 'engaging fun', 'engaging hands', 'engaging learning', 'engaging lessons', 'engaging students', 'engaging way', 'engaging ways', 'engineer', 'engineering', 'engineering art', 'engineering arts', 'engineering design', 'engineering math', 'engineering mathematics', 'engineers', 'english', 'english class', 'english first', 'english home', 'english language', 'english learners', 'english not', 'english second', 'english spanish', 'english speakers', 'english speaking', 'english they', 'enhance', 'enhance learning', 'enhance reading', 'enhance student', 'enhance students', 'enhanced', 'enhances', 'enhancing', 'enjoy', 'enjoy coming', 'enjoy hands', 'enjoy learning', 'enjoy reading', 'enjoy school', 'enjoy using', 'enjoy working', 'enjoyable', 'enjoyed', 'enjoying', 'enjoyment', 'enormous', 'enough', 'enough books', 'enough students', 'enough time', 'enrich', 'enrich learning', 'enrich students', 'enriched', 'enriching', 'enrichment', 'enrolled', 'enrollment', 'ensemble', 'ensure', 'ensure every', 'ensure student', 'ensure students', 'ensure success', 'ensures', 'ensuring', 'enter', 'enter classroom', 'enter room', 'enter school', 'entered', 'entering', 'entertaining', 'enthusiasm', 'enthusiasm learning', 'enthusiastic', 'enthusiastic learners', 'enthusiastic learning', 'entire', 'entire class', 'entire school', 'entrepreneurs', 'environment', 'environment allows', 'environment classroom', 'environment conducive', 'environment feel', 'environment learn', 'environment learning', 'environment my', 'environment nannan', 'environment our', 'environment students', 'environment the', 'environment they', 'environment we', 'environmental', 'environmental science', 'environments', 'envision', 'epic', 'equal', 'equally', 'equations', 'equip', 'equipment', 'equipment help', 'equipment students', 'equipped', 'era', 'erase', 'erase board', 'erase boards', 'erase markers', 'erasers', 'error', 'escape', 'ese', 'esl', 'esl students', 'esol', 'especially', 'especially important', 'especially love', 'especially students', 'essay', 'essays', 'essential', 'essential part', 'essential skills', 'essential students', 'essentials', 'establish', 'established', 'esteem', 'etc', 'ethic', 'ethnic', 'ethnic backgrounds', 'ethnically', 'ethnically diverse', 'ethnicities', 'ethnicity', 'evaluate', 'even', 'even basic', 'even better', 'even earliest', 'even know', 'even not', 'even realize', 'even students', 'even though', 'event', 'events', 'eventually', 'ever', 'ever changing', 'ever meet', 'ever met', 'every', 'every aspect', 'every child', 'every class', 'every classroom', 'every day', 'every lesson', 'every minute', 'every morning', 'every one', 'every opportunity', 'every single', 'every student', 'every subject', 'every teacher', 'every time', 'every way', 'every week', 'every year', 'everybody', 'everyday', 'everyday classroom', 'everyday learning', 'everyday life', 'everyday lives', 'everyday my', 'everyday ready', 'everyday students', 'everyday they', 'everyone', 'everything', 'everything need', 'everywhere', 'evidence', 'evident', 'evolving', 'exactly', 'exam', 'examine', 'example', 'example students', 'examples', 'exams', 'exceed', 'excel', 'excellence', 'excellent', 'except', 'exceptional', 'excess', 'excess energy', 'excite', 'excited', 'excited able', 'excited come', 'excited eager', 'excited explore', 'excited get', 'excited learn', 'excited learning', 'excited new', 'excited read', 'excited reading', 'excited ready', 'excited school', 'excited see', 'excited start', 'excited store', 'excited students', 'excited use', 'excitement', 'excitement learning', 'exciting', 'exciting new', 'exciting students', 'exciting way', 'exciting ways', 'exercise', 'exercise ball', 'exercise balls', 'exercises', 'exercising', 'exhibit', 'exist', 'existing', 'expand', 'expand knowledge', 'expand learning', 'expanding', 'expect', 'expect students', 'expectation', 'expectations', 'expectations students', 'expected', 'expensive', 'experience', 'experience classroom', 'experience learning', 'experience many', 'experience my', 'experience nannan', 'experience new', 'experience possible', 'experience school', 'experience students', 'experience success', 'experience technology', 'experience the', 'experience they', 'experience using', 'experience world', 'experienced', 'experiences', 'experiences classroom', 'experiences help', 'experiences many', 'experiences my', 'experiences our', 'experiences school', 'experiences students', 'experiences the', 'experiences they', 'experiences we', 'experiencing', 'experiment', 'experimenting', 'experiments', 'experts', 'explain', 'exploration', 'explore', 'explore create', 'explore different', 'explore discover', 'explore learn', 'explore learning', 'explore new', 'explore science', 'explore world', 'explorers', 'exploring', 'exploring new', 'exploring world', 'expo', 'expose', 'expose students', 'exposed', 'exposing', 'exposure', 'exposure technology', 'express', 'expressed', 'expressing', 'expression', 'expressive', 'extend', 'extend learning', 'extended', 'extension', 'extensive', 'extra', 'extra curricular', 'extra energy', 'extra help', 'extra practice', 'extra support', 'extracurricular', 'extracurricular activities', 'extraordinary', 'extras', 'extreme', 'extremely', 'extremely difficult', 'extremely diverse', 'extremely hard', 'extremely important', 'eye', 'eye coordination', 'eyed', 'eyes', 'eyes light', 'fabulous', 'face', 'face challenges', 'face daily', 'face home', 'face looking', 'face many', 'face students', 'faced', 'faced challenges', 'faced many', 'faced several', 'faces', 'faces light', 'faces ready', 'facilitate', 'facilitate learning', 'facing', 'fact', 'fact fluency', 'factor', 'factors', 'facts', 'faculty', 'fail', 'failure', 'fair', 'fairly', 'fairy', 'fairy tales', 'fall', 'fall love', 'falling', 'falling apart', 'falls', 'familiar', 'families', 'families cannot', 'families community', 'families live', 'families low', 'families many', 'families my', 'families not', 'families our', 'families school', 'families struggle', 'families students', 'families the', 'families they', 'families we', 'families work', 'family', 'family homes', 'family members', 'family my', 'family we', 'famous', 'fantastic', 'far', 'farm', 'farming', 'farming community', 'farms', 'fascinated', 'fascinating', 'fashion', 'fast', 'fast paced', 'faster', 'favorite', 'favorite books', 'favorite part', 'favorites', 'fear', 'feature', 'features', 'federal', 'feed', 'feedback', 'feel', 'feel comfortable', 'feel confident', 'feel good', 'feel important', 'feel like', 'feel loved', 'feel safe', 'feel students', 'feel success', 'feel successful', 'feeling', 'feelings', 'feels', 'feels like', 'feet', 'fellow', 'felt', 'female', 'fewer', 'fiction', 'fiction books', 'fiction non', 'fiction nonfiction', 'fiction text', 'fiction texts', 'fictional', 'fidget', 'fidget toys', 'fidgeting', 'fidgets', 'fidgety', 'field', 'field trip', 'field trips', 'fields', 'fifteen', 'fifth', 'fifth grade', 'fifth graders', 'fifty', 'fight', 'fighting', 'figure', 'figures', 'file', 'fill', 'filled', 'filling', 'film', 'final', 'finally', 'financial', 'financial literacy', 'financially', 'find', 'find answers', 'find books', 'find new', 'find students', 'find success', 'find way', 'find ways', 'finding', 'findings', 'fine', 'fine arts', 'fine motor', 'finger', 'fingers', 'fingertips', 'finish', 'finished', 'fire', 'fire tablets', 'fires', 'firm', 'first', 'first day', 'first experience', 'first family', 'first generation', 'first grade', 'first graders', 'first hand', 'first language', 'first school', 'first second', 'first step', 'first time', 'first year', 'fish', 'fit', 'fitbit', 'fitbits', 'fitness', 'fits', 'five', 'five percent', 'five six', 'five year', 'five years', 'fix', 'flash', 'flexibility', 'flexible', 'flexible seating', 'flip', 'flood', 'flooded', 'flooding', 'floor', 'florida', 'flourish', 'flow', 'flow brain', 'flowers', 'fluency', 'fluency comprehension', 'fluent', 'fluent readers', 'fluent reading', 'fluently', 'fly', 'foam', 'focus', 'focus academic', 'focus attention', 'focus better', 'focus classroom', 'focus learn', 'focus learning', 'focus potential', 'focus reading', 'focus school', 'focus students', 'focus task', 'focus work', 'focused', 'focused engaged', 'focused learning', 'focused task', 'focuses', 'focusing', 'folder', 'folders', 'follow', 'follow along', 'following', 'food', 'food pantry', 'food weekend', 'foods', 'foot', 'football', 'for', 'for example', 'for many', 'for reason', 'for students', 'force', 'forced', 'forces', 'foreign', 'foreign language', 'forever', 'forget', 'forget teach', 'forgotten', 'form', 'formal', 'format', 'former', 'forms', 'forth', 'fortunate', 'fortunate enough', 'forty', 'forward', 'forward coming', 'foster', 'foster care', 'foster love', 'fostering', 'fosters', 'found', 'found students', 'foundation', 'foundational', 'foundational skills', 'foundations', 'four', 'four five', 'four year', 'four years', 'fourth', 'fourth fifth', 'fourth grade', 'fourth graders', 'fraction', 'fractions', 'frame', 'frames', 'franklin', 'free', 'free breakfast', 'free choice', 'free lunch', 'free lunches', 'free reduce', 'free reduced', 'free time', 'freedom', 'freely', 'french', 'frequent', 'frequently', 'fresh', 'freshman', 'friday', 'friend', 'friendly', 'friends', 'friendship', 'friendships', 'from', 'from minute', 'front', 'fruit', 'fruits', 'fruits vegetables', 'frustrated', 'frustrating', 'frustration', 'fuel', 'fulfill', 'fulfilling', 'full', 'full day', 'full energy', 'full life', 'full potential', 'full students', 'full time', 'fullest', 'fullest potential', 'fully', 'fully engaged', 'fun', 'fun activities', 'fun creative', 'fun energetic', 'fun engaging', 'fun exciting', 'fun hands', 'fun interactive', 'fun learn', 'fun learning', 'fun loving', 'fun my', 'fun nannan', 'fun students', 'fun the', 'fun they', 'fun time', 'fun way', 'fun we', 'function', 'functional', 'functioning', 'functions', 'fund', 'fund project', 'fundamental', 'fundamentals', 'funded', 'funded students', 'funding', 'funding project', 'funds', 'funny', 'furniture', 'furthermore', 'future', 'future careers', 'future leaders', 'future my', 'future nannan', 'future students', 'future success', 'future the', 'future these', 'future they', 'future want', 'future we', 'futures', 'gain', 'gain confidence', 'gain knowledge', 'gain skills', 'gained', 'gaining', 'gains', 'game', 'games', 'games activities', 'games help', 'games students', 'gaming', 'gang', 'gap', 'gap students', 'gaps', 'garden', 'gardening', 'gather', 'gathering', 'gave', 'gear', 'geared', 'gender', 'general', 'general education', 'generally', 'generate', 'generation', 'generation science', 'generations', 'generosity', 'generous', 'generous donation', 'generous donations', 'generous donors', 'genius', 'genre', 'genres', 'genuine', 'genuinely', 'geography', 'geometric', 'geometry', 'georgia', 'germs', 'get', 'get along', 'get back', 'get best', 'get better', 'get chance', 'get comfortable', 'get creative', 'get energy', 'get enough', 'get excited', 'get experience', 'get free', 'get hands', 'get home', 'get involved', 'get kids', 'get know', 'get lost', 'get move', 'get moving', 'get new', 'get opportunity', 'get ready', 'get school', 'get see', 'get started', 'get students', 'get supplies', 'get use', 'get way', 'get wiggles', 'get work', 'gets', 'getting', 'getting ahead', 'getting students', 'giant', 'gift', 'gifted', 'gifted students', 'gifted talented', 'gifts', 'girl', 'girls', 'give', 'give access', 'give back', 'give best', 'give chance', 'give children', 'give every', 'give great', 'give kids', 'give many', 'give opportunities', 'give opportunity', 'give student', 'give students', 'give tools', 'give us', 'given', 'given chance', 'given opportunities', 'given opportunity', 'gives', 'gives opportunity', 'gives students', 'giving', 'giving opportunity', 'giving students', 'glasses', 'global', 'global citizens', 'globe', 'gloves', 'glue', 'glue sticks', 'go', 'go along', 'go around', 'go back', 'go beyond', 'go college', 'go home', 'go long', 'go outside', 'go school', 'goal', 'goal classroom', 'goal create', 'goal every', 'goal get', 'goal give', 'goal help', 'goal make', 'goal nannan', 'goal prepare', 'goal project', 'goal provide', 'goal students', 'goal teacher', 'goal year', 'goals', 'goals my', 'goals nannan', 'goals set', 'goals students', 'goals the', 'goals they', 'goes', 'going', 'gold', 'golf', 'gone', 'good', 'good book', 'good education', 'google', 'google apps', 'google classroom', 'google docs', 'got', 'gotten', 'government', 'grab', 'grade', 'grade class', 'grade classes', 'grade classroom', 'grade english', 'grade level', 'grade levels', 'grade math', 'grade my', 'grade our', 'grade reading', 'grade school', 'grade science', 'grade special', 'grade students', 'grade teacher', 'grade the', 'grade they', 'grade title', 'grade we', 'grade year', 'grader', 'graders', 'graders attend', 'graders come', 'graders eager', 'graders love', 'graders my', 'graders need', 'graders they', 'graders we', 'grades', 'grades 12', 'grades kindergarten', 'grades pre', 'graduate', 'graduate high', 'graduated', 'graduates', 'graduating', 'graduation', 'grammar', 'grandparents', 'grant', 'granted', 'grants', 'graph', 'graphic', 'graphic novel', 'graphic novels', 'graphic organizers', 'graphics', 'graphing', 'graphing calculators', 'graphs', 'grasp', 'grateful', 'great', 'great addition', 'great book', 'great books', 'great deal', 'great group', 'great kids', 'great learning', 'great need', 'great opportunity', 'great place', 'great resource', 'great school', 'great start', 'great students', 'great things', 'great tool', 'great way', 'greater', 'greatest', 'greatly', 'greatly appreciate', 'greatly appreciated', 'greatly benefit', 'greatly help', 'greatly improve', 'greatness', 'green', 'greet', 'greeted', 'grew', 'grit', 'grocery', 'gross', 'gross motor', 'ground', 'group', 'group activities', 'group children', 'group diverse', 'group first', 'group instruction', 'group kids', 'group learners', 'group learning', 'group lessons', 'group projects', 'group reading', 'group second', 'group setting', 'group small', 'group students', 'group table', 'group third', 'group time', 'group work', 'group year', 'group young', 'groups', 'groups students', 'groups the', 'grow', 'grow academically', 'grow learn', 'grow learners', 'grow my', 'grow nannan', 'grow readers', 'grow together', 'growing', 'growing learning', 'grown', 'grows', 'growth', 'growth may', 'growth mindset', 'growth students', 'guidance', 'guide', 'guide students', 'guided', 'guided math', 'guided reading', 'guides', 'guitar', 'gym', 'habit', 'habitat', 'habitats', 'habits', 'half', 'half class', 'half day', 'half students', 'hall', 'halls', 'hallway', 'hallways', 'hand', 'hand eye', 'hand hand', 'handed', 'handful', 'handle', 'hands', 'hands activities', 'hands approach', 'hands engaging', 'hands experience', 'hands experiences', 'hands learners', 'hands learning', 'hands manipulatives', 'hands materials', 'hands project', 'hands projects', 'hands science', 'hands students', 'hands way', 'handwriting', 'handy', 'hang', 'hanging', 'happen', 'happened', 'happening', 'happens', 'happier', 'happiness', 'happy', 'hard', 'hard achieve', 'hard chair', 'hard chairs', 'hard day', 'hard every', 'hard everyday', 'hard get', 'hard learn', 'hard make', 'hard meet', 'hard plastic', 'hard provide', 'hard students', 'hard time', 'hard work', 'hard workers', 'hard working', 'harder', 'hardest', 'hardest working', 'hardship', 'hardships', 'hardships students', 'hardworking', 'harsh', 'hate', 'have', 'have ever', 'having', 'having access', 'having books', 'having chromebooks', 'having classroom', 'having ipad', 'having ipads', 'having materials', 'having new', 'having set', 'having technology', 'he', 'head', 'head start', 'headphones', 'headphones allow', 'headphones help', 'headphones students', 'headphones would', 'heads', 'headsets', 'health', 'health fitness', 'health impairments', 'health wellness', 'healthier', 'healthy', 'healthy eating', 'healthy food', 'healthy foods', 'healthy habits', 'healthy lifestyle', 'healthy snack', 'healthy snacks', 'hear', 'hear students', 'heard', 'hearing', 'heart', 'heart rate', 'hearts', 'heat', 'heavily', 'heavy', 'height', 'heights', 'held', 'hello', 'help', 'help able', 'help achieve', 'help become', 'help better', 'help bring', 'help build', 'help child', 'help children', 'help class', 'help classroom', 'help close', 'help continue', 'help create', 'help develop', 'help encourage', 'help engage', 'help enhance', 'help ensure', 'help feel', 'help find', 'help focus', 'help foster', 'help fund', 'help get', 'help getting', 'help give', 'help grow', 'help help', 'help improve', 'help increase', 'help keep', 'help kids', 'help learn', 'help learning', 'help make', 'help many', 'help meet', 'help motivate', 'help my', 'help nannan', 'help not', 'help one', 'help organize', 'help others', 'help practice', 'help prepare', 'help promote', 'help provide', 'help reach', 'help reading', 'help reinforce', 'help school', 'help see', 'help stay', 'help strengthen', 'help struggling', 'help student', 'help students', 'help succeed', 'help successful', 'help support', 'help teach', 'help understand', 'help us', 'help we', 'help work', 'helped', 'helpful', 'helping', 'helping students', 'helping us', 'helps', 'helps students', 'helps us', 'here', 'heritage', 'heroes', 'hidden', 'high', 'high achieving', 'high crime', 'high energy', 'high expectations', 'high interest', 'high level', 'high levels', 'high need', 'high needs', 'high number', 'high percentage', 'high population', 'high poverty', 'high quality', 'high school', 'high schools', 'high standards', 'higher', 'higher education', 'higher level', 'higher order', 'highest', 'highest potential', 'highest poverty', 'highlight', 'highlighters', 'highly', 'highly engaging', 'highly motivated', 'hinder', 'hispanic', 'hispanic students', 'historic', 'historical', 'history', 'hit', 'hokki', 'hokki stool', 'hokki stools', 'hold', 'holding', 'holds', 'holidays', 'home', 'home away', 'home classroom', 'home help', 'home in', 'home it', 'home life', 'home lives', 'home many', 'home my', 'home nannan', 'home not', 'home our', 'home parents', 'home read', 'home school', 'home share', 'home situations', 'home students', 'home the', 'home these', 'home they', 'home this', 'home want', 'home we', 'home would', 'homeless', 'homelessness', 'homeroom', 'homes', 'homes english', 'homes many', 'homes not', 'homes parents', 'homework', 'honor', 'honored', 'honors', 'hook', 'hooked', 'hoops', 'hope', 'hope able', 'hope help', 'hope inspire', 'hope provide', 'hope students', 'hopeful', 'hopeful inspire', 'hopefully', 'hopes', 'hopes dreams', 'hoping', 'horizons', 'host', 'hot', 'hour', 'hours', 'hours day', 'house', 'household', 'households', 'households receive', 'houses', 'housing', 'houston', 'how', 'however', 'however certainly', 'however many', 'however need', 'however not', 'however school', 'however students', 'hp', 'hug', 'huge', 'huge difference', 'huge impact', 'huge part', 'hugs', 'hula', 'hula hoops', 'human', 'humans', 'humble', 'hundred', 'hundred percent', 'hundreds', 'hunger', 'hungry', 'hungry knowledge', 'hungry learn', 'hurdles', 'hydrated', 'hygiene', 'hyperactivity', 'ib', 'ice', 'ict', 'idea', 'ideal', 'ideas', 'identification', 'identified', 'identify', 'identifying', 'identity', 'iep', 'ieps', 'if', 'if able', 'if not', 'if project', 'if students', 'ignite', 'illinois', 'illustrate', 'illustrations', 'image', 'images', 'imagination', 'imaginations', 'imaginative', 'imagine', 'imagined', 'immediate', 'immediate feedback', 'immediately', 'immensely', 'immerse', 'immersed', 'immersion', 'immigrant', 'immigrants', 'impact', 'impact learning', 'impact lives', 'impact students', 'impacted', 'impacts', 'impaired', 'impairments', 'imperative', 'implement', 'implementation', 'implemented', 'implementing', 'importance', 'important', 'important life', 'important part', 'important provide', 'important skill', 'important skills', 'important students', 'importantly', 'impossible', 'impoverished', 'impress', 'impressed', 'improve', 'improve classroom', 'improve increase', 'improve learning', 'improve lives', 'improve reading', 'improve skills', 'improve student', 'improve students', 'improved', 'improvement', 'improvements', 'improves', 'improving', 'in', 'in addition', 'in class', 'in classroom', 'in fact', 'in first', 'in kindergarten', 'in math', 'in order', 'in past', 'in school', 'in spite', 'in today', 'in world', 'incentive', 'incentives', 'include', 'included', 'includes', 'including', 'inclusion', 'inclusion classroom', 'inclusive', 'income', 'income area', 'income community', 'income families', 'income high', 'income homes', 'income households', 'income neighborhood', 'income school', 'income students', 'incomes', 'incoming', 'incorporate', 'incorporate movement', 'incorporate technology', 'incorporated', 'incorporates', 'incorporating', 'incorporating technology', 'increase', 'increase academic', 'increase engagement', 'increase focus', 'increase knowledge', 'increase learning', 'increase reading', 'increase student', 'increase students', 'increased', 'increases', 'increasing', 'increasingly', 'incredible', 'incredibly', 'independence', 'independent', 'independent learners', 'independent learning', 'independent practice', 'independent reading', 'independent work', 'independently', 'indian', 'indiana', 'individual', 'individual learning', 'individual needs', 'individual student', 'individual students', 'individualize', 'individualized', 'individualized education', 'individualized instruction', 'individualized learning', 'individually', 'individuals', 'individuals they', 'indoor', 'indoor recess', 'indoors', 'industry', 'influence', 'information', 'informational', 'informational text', 'informed', 'initiative', 'ink', 'inner', 'inner city', 'innovation', 'innovative', 'innovative ways', 'innovators', 'input', 'inquiry', 'inquiry based', 'inquisitive', 'insects', 'inside', 'inside classroom', 'inside outside', 'insight', 'inspiration', 'inspirational', 'inspire', 'inspire even', 'inspire students', 'inspired', 'inspired project', 'inspires', 'inspiring', 'instant', 'instantly', 'instead', 'instill', 'instill love', 'instruction', 'instruction my', 'instruction nannan', 'instruction students', 'instruction the', 'instruction time', 'instructional', 'instructional time', 'instructions', 'instrument', 'instrumental', 'instruments', 'integral', 'integral part', 'integrate', 'integrate technology', 'integrated', 'integrating', 'integrating technology', 'integration', 'intellectual', 'intellectual disabilities', 'intellectually', 'intelligence', 'intelligent', 'intend', 'intense', 'intensive', 'interact', 'interacting', 'interaction', 'interactions', 'interactive', 'interactive activities', 'interactive learning', 'interactive notebooks', 'interactive way', 'interactive whiteboard', 'interest', 'interest books', 'interest reading', 'interest students', 'interested', 'interested learning', 'interested reading', 'interesting', 'interests', 'intermediate', 'international', 'international baccalaureate', 'internet', 'internet access', 'internet home', 'interpret', 'intervention', 'interventions', 'intrigued', 'introduce', 'introduce new', 'introduce students', 'introduced', 'introducing', 'introduction', 'invaluable', 'invent', 'inventions', 'inventors', 'inventory', 'invest', 'invested', 'investigate', 'investigating', 'investigation', 'investigations', 'investment', 'invite', 'invited', 'inviting', 'inviting place', 'involve', 'involve learn', 'involved', 'involved learning', 'involvement', 'involves', 'involving', 'ipad', 'ipad classroom', 'ipad help', 'ipad mini', 'ipad minis', 'ipad students', 'ipad would', 'ipads', 'ipads allow', 'ipads classroom', 'ipads help', 'ipads students', 'ipads used', 'ipads would', 'ipod', 'is', 'island', 'issue', 'issues', 'it', 'it allow', 'it allows', 'it also', 'it amazing', 'it difficult', 'it essential', 'it exciting', 'it give', 'it goal', 'it great', 'it hard', 'it help', 'it helps', 'it hope', 'it important', 'it job', 'it makes', 'it not', 'it takes', 'it time', 'it would', 'item', 'items', 'items allow', 'items classroom', 'items help', 'items requested', 'items students', 'items would', 'jazz', 'jersey', 'job', 'job help', 'job make', 'job teacher', 'jobs', 'john', 'join', 'journal', 'journalism', 'journals', 'journey', 'joy', 'joy learning', 'joyful', 'jr', 'jump', 'jump ropes', 'jumping', 'junior', 'junior high', 'just', 'justice', 'kahoot', 'keep', 'keep active', 'keep bodies', 'keep classroom', 'keep engaged', 'keep focused', 'keep kids', 'keep learning', 'keep materials', 'keep moving', 'keep students', 'keep things', 'keep track', 'keep us', 'keeping', 'keeping students', 'keeps', 'kept', 'key', 'key success', 'keyboard', 'keyboarding', 'keyboards', 'keys', 'khan', 'kick', 'kid', 'kid friendly', 'kid inspired', 'kiddos', 'kidney', 'kids', 'kids able', 'kids come', 'kids deserve', 'kids excited', 'kids get', 'kids learn', 'kids love', 'kids my', 'kids need', 'kids not', 'kids school', 'kids they', 'kids want', 'kids work', 'kids would', 'kind', 'kinder', 'kindergarten', 'kindergarten 5th', 'kindergarten class', 'kindergarten classroom', 'kindergarten fifth', 'kindergarten first', 'kindergarten students', 'kindergarten teacher', 'kindergarteners', 'kindergartners', 'kinders', 'kindle', 'kindle fire', 'kindle fires', 'kindles', 'kindness', 'kinds', 'kinesthetic', 'kinesthetic learners', 'king', 'kit', 'kitchen', 'kits', 'knew', 'knit', 'knit community', 'know', 'know believe', 'know exactly', 'know important', 'know not', 'know students', 'know the', 'know use', 'know would', 'know yet', 'knowing', 'knowledge', 'knowledge my', 'knowledge skills', 'knowledge they', 'knowledgeable', 'known', 'knows', 'kore', 'kore wobble', 'lab', 'label', 'labeled', 'labels', 'laboratory', 'labs', 'lack', 'lack access', 'lack funding', 'lack resources', 'lack technology', 'lacking', 'lacks', 'lakeshore', 'laminate', 'laminated', 'laminating', 'laminator', 'land', 'language', 'language acquisition', 'language arts', 'language barriers', 'language development', 'language english', 'language learner', 'language learners', 'language learning', 'language many', 'language my', 'language not', 'language program', 'language skills', 'language students', 'language the', 'language they', 'languages', 'languages spoken', 'lap', 'lap desks', 'laptop', 'laptops', 'large', 'large city', 'large group', 'large number', 'large percentage', 'large population', 'large portion', 'large school', 'large urban', 'largely', 'larger', 'largest', 'last', 'last lifetime', 'last school', 'last year', 'last years', 'lasting', 'lastly', 'late', 'later', 'latest', 'latest technology', 'latin', 'latino', 'laugh', 'laughter', 'lay', 'laying', 'lead', 'leader', 'leaders', 'leadership', 'leading', 'leads', 'league', 'leaning', 'learn', 'learn achieve', 'learn also', 'learn always', 'learn as', 'learn basic', 'learn become', 'learn best', 'learn better', 'learn classroom', 'learn come', 'learn create', 'learn day', 'learn despite', 'learn different', 'learn differently', 'learn english', 'learn enjoy', 'learn even', 'learn every', 'learn everyday', 'learn everything', 'learn excited', 'learn experience', 'learn explore', 'learn fun', 'learn grow', 'learn hands', 'learn help', 'learn however', 'learn important', 'learn in', 'learn it', 'learn life', 'learn love', 'learn make', 'learn many', 'learn math', 'learn much', 'learn music', 'learn my', 'learn nannan', 'learn need', 'learn new', 'learn not', 'learn one', 'learn our', 'learn pace', 'learn places', 'learn play', 'learn practice', 'learn read', 'learn reading', 'learn ready', 'learn school', 'learn science', 'learn share', 'learn skills', 'learn something', 'learn students', 'learn succeed', 'learn successful', 'learn take', 'learn teach', 'learn technology', 'learn the', 'learn their', 'learn these', 'learn they', 'learn things', 'learn this', 'learn time', 'learn together', 'learn try', 'learn use', 'learn using', 'learn variety', 'learn want', 'learn way', 'learn we', 'learn with', 'learn work', 'learn world', 'learn would', 'learned', 'learned class', 'learner', 'learners', 'learners as', 'learners classroom', 'learners come', 'learners continue', 'learners love', 'learners many', 'learners my', 'learners nannan', 'learners need', 'learners our', 'learners special', 'learners students', 'learners the', 'learners these', 'learners they', 'learners this', 'learners want', 'learners we', 'learning', 'learning abilities', 'learning able', 'learning activities', 'learning also', 'learning always', 'learning as', 'learning become', 'learning by', 'learning center', 'learning centers', 'learning class', 'learning classroom', 'learning community', 'learning day', 'learning different', 'learning disabilities', 'learning disability', 'learning each', 'learning engaging', 'learning english', 'learning environment', 'learning environments', 'learning even', 'learning every', 'learning exciting', 'learning experience', 'learning experiences', 'learning fun', 'learning games', 'learning goals', 'learning growing', 'learning hands', 'learning having', 'learning help', 'learning home', 'learning important', 'learning in', 'learning it', 'learning letters', 'learning levels', 'learning life', 'learning love', 'learning make', 'learning many', 'learning materials', 'learning math', 'learning meaningful', 'learning much', 'learning my', 'learning nannan', 'learning need', 'learning needs', 'learning new', 'learning not', 'learning one', 'learning opportunities', 'learning opportunity', 'learning our', 'learning play', 'learning potential', 'learning process', 'learning programs', 'learning providing', 'learning read', 'learning reading', 'learning real', 'learning research', 'learning school', 'learning science', 'learning skills', 'learning something', 'learning space', 'learning stations', 'learning students', 'learning style', 'learning styles', 'learning take', 'learning takes', 'learning teach', 'learning technology', 'learning the', 'learning these', 'learning they', 'learning this', 'learning throughout', 'learning time', 'learning together', 'learning tool', 'learning tools', 'learning use', 'learning using', 'learning want', 'learning we', 'learning well', 'learning when', 'learning with', 'learning work', 'learning working', 'learning world', 'learning would', 'learns', 'least', 'least 60', 'least one', 'leave', 'leave classroom', 'leaves', 'leaving', 'lecture', 'led', 'left', 'left behind', 'leg', 'lego', 'legos', 'legs', 'lend', 'lens', 'less', 'less time', 'lesson', 'lesson plans', 'lessons', 'lessons activities', 'lessons nannan', 'lessons students', 'lessons the', 'let', 'let alone', 'let students', 'lets', 'letter', 'letter recognition', 'letter sounds', 'letters', 'letters numbers', 'letters sounds', 'letting', 'level', 'level books', 'level learning', 'level many', 'level my', 'level nannan', 'level our', 'level playing', 'level reading', 'level standards', 'level students', 'level the', 'level these', 'level they', 'level thinking', 'level this', 'level we', 'leveled', 'leveled books', 'leveled library', 'leveled readers', 'levels', 'levels learning', 'levels my', 'levels students', 'levels the', 'levels they', 'lexia', 'librarian', 'libraries', 'library', 'library books', 'library help', 'library my', 'library not', 'library students', 'library the', 'life', 'life cycle', 'life cycles', 'life experiences', 'life lessons', 'life long', 'life many', 'life may', 'life my', 'life nannan', 'life not', 'life our', 'life ready', 'life science', 'life situations', 'life skill', 'life skills', 'life students', 'life the', 'life they', 'life want', 'life we', 'lifelong', 'lifelong learners', 'lifelong love', 'lifelong readers', 'lifestyle', 'lifestyles', 'lifetime', 'light', 'light table', 'lighting', 'lights', 'like', 'like able', 'like add', 'like classroom', 'like create', 'like family', 'like get', 'like give', 'like help', 'like home', 'like learn', 'like make', 'like many', 'like move', 'like provide', 'like read', 'like sit', 'like sponges', 'like students', 'like use', 'likely', 'likes', 'limit', 'limitations', 'limited', 'limited access', 'limited amount', 'limited english', 'limited funding', 'limited resources', 'limited technology', 'limitless', 'limits', 'line', 'lines', 'link', 'linked', 'list', 'listed', 'listen', 'listen books', 'listen read', 'listen reading', 'listen stories', 'listen story', 'listening', 'listening center', 'listening reading', 'listening skills', 'listening speaking', 'listening station', 'listening stories', 'literacy', 'literacy block', 'literacy centers', 'literacy math', 'literacy skills', 'literally', 'literary', 'literate', 'literature', 'literature circles', 'little', 'little bit', 'little bodies', 'little extra', 'little hands', 'little help', 'little learners', 'little minds', 'little no', 'little ones', 'little people', 'little sponges', 'live', 'live high', 'live low', 'live poverty', 'live rural', 'live small', 'lived', 'lively', 'lives', 'lives better', 'lives however', 'lives many', 'lives my', 'lives nannan', 'lives students', 'lives the', 'lives these', 'lives they', 'lives we', 'living', 'living poverty', 'living skills', 'load', 'local', 'locate', 'located', 'located heart', 'located high', 'located low', 'located rural', 'located small', 'located urban', 'location', 'locations', 'locks', 'log', 'logic', 'long', 'long hours', 'long learners', 'long love', 'long periods', 'long readers', 'long term', 'long time', 'long way', 'longer', 'longer periods', 'look', 'look forward', 'look like', 'looked', 'looking', 'looking forward', 'looking keep', 'looking new', 'looking provide', 'looking ways', 'looks', 'looks like', 'loose', 'los', 'los angeles', 'lose', 'losing', 'loss', 'lost', 'lot', 'lot energy', 'lot students', 'lot time', 'lots', 'lots positive', 'loud', 'louisiana', 'love', 'love able', 'love active', 'love art', 'love books', 'love come', 'love coming', 'love create', 'love explore', 'love get', 'love give', 'love hands', 'love help', 'love learn', 'love learning', 'love lots', 'love math', 'love move', 'love music', 'love new', 'love opportunity', 'love play', 'love playing', 'love provide', 'love read', 'love reading', 'love school', 'love science', 'love see', 'love seeing', 'love share', 'love students', 'love support', 'love teaching', 'love technology', 'love use', 'love using', 'love work', 'love working', 'loved', 'lovers', 'loves', 'loving', 'low', 'low economic', 'low income', 'low socio', 'low socioeconomic', 'lower', 'lower income', 'lower socioeconomic', 'lowest', 'lucky', 'lucky enough', 'lunch', 'lunch based', 'lunch breakfast', 'lunch daily', 'lunch despite', 'lunch due', 'lunch in', 'lunch many', 'lunch most', 'lunch my', 'lunch our', 'lunch program', 'lunch rate', 'lunch school', 'lunch some', 'lunch students', 'lunch the', 'lunch these', 'lunch they', 'lunch we', 'lunches', 'luxury', 'macbook', 'machine', 'machines', 'made', 'made students', 'magazine', 'magazines', 'magic', 'magical', 'magna', 'magnet', 'magnet school', 'magnetic', 'magnetic letters', 'magnets', 'main', 'mainly', 'mainstream', 'maintain', 'maintain focus', 'maintaining', 'major', 'majority', 'majority day', 'majority students', 'make', 'make best', 'make better', 'make big', 'make choices', 'make class', 'make classroom', 'make connections', 'make difference', 'make easier', 'make ends', 'make every', 'make feel', 'make good', 'make great', 'make happen', 'make huge', 'make learning', 'make math', 'make mistakes', 'make music', 'make positive', 'make possible', 'make reading', 'make real', 'make school', 'make sense', 'make students', 'make successful', 'make sure', 'make work', 'make world', 'maker', 'maker space', 'makers', 'makerspace', 'makes', 'makes difficult', 'makes hard', 'makes learning', 'makes school', 'makes students', 'makey', 'makey makey', 'making', 'making connections', 'making learning', 'making sure', 'man', 'manage', 'management', 'manipulate', 'manipulating', 'manipulative', 'manipulatives', 'manipulatives help', 'manner', 'many', 'many activities', 'many apps', 'many benefits', 'many books', 'many challenges', 'many children', 'many come', 'many different', 'many diverse', 'many english', 'many families', 'many first', 'many great', 'many hands', 'many hardships', 'many kids', 'many learning', 'many live', 'many low', 'many materials', 'many needs', 'many never', 'many new', 'many not', 'many obstacles', 'many opportunities', 'many others', 'many parents', 'many people', 'many projects', 'many raised', 'many receive', 'many resources', 'many school', 'many schools', 'many skills', 'many struggle', 'many student', 'many students', 'many supplies', 'many things', 'many times', 'many us', 'many ways', 'many wonderful', 'many years', 'map', 'maps', 'marching', 'mark', 'marker', 'markers', 'market', 'master', 'mastered', 'mastering', 'masterpieces', 'mastery', 'mat', 'match', 'matching', 'material', 'materials', 'materials able', 'materials allow', 'materials also', 'materials available', 'materials classroom', 'materials create', 'materials enhance', 'materials give', 'materials help', 'materials home', 'materials like', 'materials make', 'materials my', 'materials nannan', 'materials need', 'materials needed', 'materials not', 'materials project', 'materials provide', 'materials requested', 'materials requesting', 'materials resources', 'materials students', 'materials supplies', 'materials support', 'materials the', 'materials they', 'materials use', 'materials used', 'materials we', 'materials would', 'math', 'math activities', 'math center', 'math centers', 'math class', 'math classes', 'math classroom', 'math concepts', 'math curriculum', 'math facts', 'math fun', 'math games', 'math instruction', 'math language', 'math learning', 'math lessons', 'math literacy', 'math manipulatives', 'math materials', 'math my', 'math nannan', 'math practice', 'math problem', 'math problems', 'math program', 'math programs', 'math reading', 'math science', 'math skills', 'math social', 'math stations', 'math students', 'math the', 'math they', 'math we', 'math writing', 'mathematical', 'mathematical concepts', 'mathematicians', 'mathematicians scientists', 'mathematics', 'mats', 'matter', 'matters', 'mature', 'maximize', 'maximize learning', 'maximum', 'may', 'may face', 'may need', 'may never', 'may not', 'may prevent', 'may seem', 'maybe', 'me', 'meal', 'meals', 'mean', 'meaning', 'meaningful', 'meaningful learning', 'meaningful way', 'means', 'means students', 'meant', 'measure', 'measurement', 'measuring', 'media', 'media center', 'media literacy', 'medical', 'medicine', 'medium', 'mediums', 'meet', 'meet goals', 'meet individual', 'meet needs', 'meet students', 'meeting', 'meeting needs', 'meetings', 'meets', 'meets needs', 'melting', 'melting pot', 'member', 'members', 'members community', 'members society', 'memorable', 'memories', 'memory', 'men', 'mental', 'mentally', 'mention', 'mentioned', 'mentor', 'mentor texts', 'message', 'messages', 'messy', 'met', 'metal', 'method', 'methods', 'mexico', 'mice', 'michigan', 'microphone', 'microphones', 'microscope', 'microscopes', 'mid', 'middle', 'middle class', 'middle high', 'middle school', 'middle schoolers', 'might', 'might not', 'migrant', 'mild', 'mile', 'miles', 'military', 'military families', 'million', 'mind', 'minded', 'mindful', 'mindfulness', 'minds', 'minds bodies', 'mindset', 'mine', 'mini', 'mini lessons', 'minimal', 'minimize', 'minimum', 'minis', 'minorities', 'minority', 'minority students', 'minute', 'minute walk', 'minutes', 'minutes day', 'minutes per', 'miss', 'missed', 'missing', 'mission', 'mississippi', 'missouri', 'mistakes', 'mix', 'mixed', 'mixture', 'mobile', 'mobility', 'modalities', 'model', 'modeling', 'models', 'moderate', 'moderate severe', 'modern', 'modified', 'mold', 'mom', 'moment', 'moments', 'monday', 'money', 'money purchase', 'monitor', 'monitoring', 'montessori', 'month', 'monthly', 'months', 'moon', 'more', 'more half', 'morning', 'morning meeting', 'morning students', 'most', 'most children', 'most come', 'most importantly', 'most not', 'most students', 'mostly', 'mother', 'motion', 'motivate', 'motivate students', 'motivated', 'motivated learn', 'motivated learners', 'motivated students', 'motivates', 'motivating', 'motivation', 'motivation engagement', 'motor', 'motor skills', 'motto', 'mountains', 'mouse', 'move', 'move around', 'move bodies', 'move classroom', 'move forward', 'move learn', 'move learning', 'move love', 'move they', 'move throughout', 'move wiggle', 'move without', 'move work', 'move working', 'moved', 'movement', 'movement breaks', 'movement classroom', 'movement learning', 'movement students', 'movement throughout', 'movements', 'moves', 'movie', 'movies', 'moving', 'moving around', 'moving learning', 'mr', 'mrs', 'ms', 'much', 'much better', 'much easier', 'much fun', 'much nannan', 'much needed', 'much possible', 'much students', 'much they', 'much time', 'multi', 'multi sensory', 'multicultural', 'multimedia', 'multiple', 'multiple disabilities', 'multiple jobs', 'multiple opportunities', 'multiple times', 'multiple ways', 'multiplication', 'multiplication division', 'multitude', 'muscle', 'muscles', 'museum', 'museums', 'music', 'music class', 'music classroom', 'music education', 'music program', 'music students', 'musical', 'musicians', 'must', 'my', 'my 2nd', 'my 3rd', 'my 4th', 'my 5th', 'my 6th', 'my children', 'my class', 'my classes', 'my classroom', 'my fifth', 'my first', 'my fourth', 'my goal', 'my hope', 'my job', 'my kiddos', 'my kids', 'my kindergarten', 'my kindergarteners', 'my kindergartners', 'my middle', 'my project', 'my scholars', 'my school', 'my second', 'my special', 'my student', 'my students', 'my third', 'my young', 'myriad', 'mystery', 'name', 'named', 'names', 'nannan', 'narrative', 'nation', 'national', 'nationalities', 'native', 'native american', 'native english', 'native language', 'natural', 'natural curiosity', 'naturally', 'nature', 'navigate', 'navigating', 'nc', 'near', 'nearby', 'nearly', 'neat', 'necessarily', 'necessary', 'necessary materials', 'necessary skills', 'necessary supplies', 'necessary tools', 'necessities', 'necessity', 'need', 'need able', 'need access', 'need additional', 'need assistance', 'need basic', 'need become', 'need books', 'need chromebooks', 'need classroom', 'need comfortable', 'need different', 'need exposure', 'need extra', 'need feel', 'need get', 'need hands', 'need headphones', 'need help', 'need keep', 'need know', 'need learn', 'need little', 'need lot', 'need lots', 'need make', 'need many', 'need materials', 'need move', 'need movement', 'need much', 'need my', 'need nannan', 'need new', 'need one', 'need opportunities', 'need opportunity', 'need order', 'need place', 'need practice', 'need provide', 'need read', 'need resources', 'need school', 'need see', 'need something', 'need students', 'need succeed', 'need successful', 'need supplies', 'need support', 'need technology', 'need the', 'need time', 'need tools', 'need use', 'need variety', 'need way', 'need we', 'need wiggle', 'need work', 'needed', 'needed classroom', 'needed help', 'needed students', 'needed successful', 'needed supplies', 'needing', 'needs', 'needs children', 'needs classroom', 'needs diverse', 'needs every', 'needs learners', 'needs learning', 'needs many', 'needs met', 'needs my', 'needs nannan', 'needs not', 'needs our', 'needs school', 'needs student', 'needs students', 'needs the', 'needs these', 'needs they', 'needs this', 'needs we', 'negative', 'neighborhood', 'neighborhood school', 'neighborhood students', 'neighborhoods', 'neighboring', 'neighbors', 'nervous', 'nestled', 'never', 'never give', 'never know', 'never seen', 'new', 'new adventure', 'new book', 'new books', 'new challenges', 'new classroom', 'new concepts', 'new country', 'new day', 'new equipment', 'new exciting', 'new experiences', 'new group', 'new ideas', 'new information', 'new innovative', 'new knowledge', 'new language', 'new learning', 'new level', 'new material', 'new materials', 'new math', 'new opportunities', 'new reading', 'new school', 'new skills', 'new students', 'new supplies', 'new teacher', 'new technology', 'new things', 'new topics', 'new vocabulary', 'new way', 'new ways', 'new words', 'new world', 'new year', 'new york', 'newer', 'newest', 'newly', 'news', 'newspaper', 'nex', 'next', 'next generation', 'next level', 'next school', 'next year', 'nice', 'night', 'nine', 'ninety', 'no', 'no access', 'no english', 'no longer', 'no matter', 'no one', 'noise', 'non', 'non english', 'non fiction', 'non traditional', 'non verbal', 'none', 'nonfiction', 'nonfiction books', 'nook', 'nor', 'norm', 'normal', 'normally', 'north', 'north carolina', 'northern', 'not', 'not able', 'not access', 'not afford', 'not afraid', 'not allow', 'not always', 'not available', 'not best', 'not books', 'not classroom', 'not come', 'not comfortable', 'not computer', 'not computers', 'not currently', 'not easy', 'not enough', 'not even', 'not every', 'not exposed', 'not feel', 'not first', 'not fit', 'not fun', 'not funds', 'not get', 'not getting', 'not give', 'not given', 'not go', 'not good', 'not help', 'not home', 'not internet', 'not keep', 'not know', 'not knowing', 'not learn', 'not learning', 'not let', 'not like', 'not limited', 'not lot', 'not love', 'not make', 'not many', 'not materials', 'not mean', 'not means', 'not mention', 'not met', 'not money', 'not much', 'not necessary', 'not need', 'not one', 'not opportunities', 'not opportunity', 'not otherwise', 'not possible', 'not provide', 'not read', 'not reading', 'not realize', 'not receive', 'not resources', 'not school', 'not see', 'not seem', 'not sit', 'not something', 'not speak', 'not stop', 'not students', 'not take', 'not teach', 'not technology', 'not think', 'not time', 'not understand', 'not use', 'not used', 'not wait', 'not want', 'not work', 'not working', 'not worry', 'not yet', 'note', 'notebook', 'notebooks', 'notes', 'nothing', 'notice', 'noticed', 'noticed students', 'novel', 'novels', 'now', 'number', 'number one', 'number sense', 'number students', 'numbers', 'numerous', 'nurture', 'nurturing', 'nurturing environment', 'nutrition', 'nutritious', 'ny', 'nyc', 'oakland', 'obesity', 'object', 'objective', 'objectives', 'objects', 'observations', 'observe', 'observed', 'observing', 'obstacle', 'obstacles', 'obstacles students', 'obtain', 'obtaining', 'occupational', 'occur', 'occurs', 'ocean', 'odds', 'of', 'of course', 'offer', 'offer students', 'offered', 'offering', 'offers', 'office', 'often', 'often come', 'often difficult', 'often get', 'often need', 'often not', 'often struggle', 'often students', 'often times', 'oh', 'ohio', 'oil', 'okay', 'oklahoma', 'old', 'old children', 'old students', 'older', 'older students', 'olds', 'on', 'once', 'once students', 'one', 'one another', 'one area', 'one best', 'one biggest', 'one book', 'one class', 'one classroom', 'one computer', 'one day', 'one diverse', 'one favorite', 'one goals', 'one hundred', 'one important', 'one ipad', 'one kind', 'one largest', 'one many', 'one one', 'one parent', 'one place', 'one school', 'one step', 'one student', 'one students', 'one thing', 'one time', 'one top', 'one two', 'one way', 'one year', 'ones', 'ongoing', 'online', 'online learning', 'online programs', 'online resources', 'only', 'onto', 'open', 'open doors', 'open ended', 'open minds', 'open new', 'open world', 'opened', 'opening', 'opens', 'operate', 'opinion', 'opinions', 'opportunities', 'opportunities explore', 'opportunities learn', 'opportunities learning', 'opportunities move', 'opportunities possible', 'opportunities practice', 'opportunities students', 'opportunities use', 'opportunities work', 'opportunity', 'opportunity access', 'opportunity become', 'opportunity choose', 'opportunity create', 'opportunity engage', 'opportunity experience', 'opportunity explore', 'opportunity get', 'opportunity learn', 'opportunity make', 'opportunity move', 'opportunity participate', 'opportunity play', 'opportunity practice', 'opportunity read', 'opportunity see', 'opportunity students', 'opportunity succeed', 'opportunity take', 'opportunity teach', 'opportunity use', 'opportunity work', 'optimal', 'option', 'option students', 'options', 'options allow', 'options classroom', 'options help', 'options seating', 'options students', 'or', 'oral', 'oral language', 'orchestra', 'order', 'order become', 'order create', 'order get', 'order help', 'order keep', 'order learn', 'order make', 'order meet', 'order provide', 'order reach', 'order students', 'order succeed', 'order successful', 'order thinking', 'ordered', 'org', 'organisms', 'organization', 'organizational', 'organizational skills', 'organizations', 'organize', 'organized', 'organizer', 'organizers', 'organizing', 'oriented', 'original', 'osmo', 'other', 'others', 'others around', 'others my', 'others need', 'others not', 'others they', 'otherwise', 'our', 'our children', 'our class', 'our classroom', 'our classrooms', 'our community', 'our current', 'our district', 'our elementary', 'our goal', 'our kids', 'our library', 'our middle', 'our program', 'our school', 'our student', 'our students', 'our teachers', 'our title', 'out', 'outcome', 'outcomes', 'outdated', 'outdoor', 'outdoors', 'outlet', 'outlets', 'outlook', 'outside', 'outside box', 'outside classroom', 'outside school', 'outside world', 'outstanding', 'over', 'over half', 'overall', 'overcome', 'overcome challenges', 'overcome many', 'overcome obstacles', 'overcoming', 'overlooked', 'overwhelmed', 'overwhelming', 'owl', 'ownership', 'ownership learning', 'oxygen', 'oxygen flow', 'ozobots', 'pace', 'paced', 'pacific', 'pack', 'packed', 'packs', 'pad', 'pads', 'page', 'pages', 'paint', 'painting', 'paintings', 'paints', 'pair', 'paired', 'pairs', 'pantry', 'paper', 'paper pencil', 'paper pencils', 'papers', 'parent', 'parent families', 'parent homes', 'parent households', 'parent involvement', 'parental', 'parents', 'parents community', 'parents not', 'parents students', 'parents teachers', 'parents work', 'parents working', 'park', 'part', 'part classroom', 'part daily', 'part day', 'part learning', 'part school', 'part students', 'participants', 'participate', 'participating', 'participation', 'particular', 'particularly', 'partner', 'partners', 'parts', 'pass', 'passages', 'passed', 'passing', 'passion', 'passion learning', 'passion reading', 'passionate', 'passions', 'past', 'past year', 'past years', 'path', 'path academic', 'paths', 'pathway', 'patience', 'pattern', 'patterns', 'pay', 'pay attention', 'paying', 'pe', 'peace', 'pedometers', 'peer', 'peers', 'peers my', 'peers nannan', 'peers the', 'peers they', 'pen', 'pencil', 'pencil paper', 'pencil sharpener', 'pencils', 'pencils erasers', 'pencils paper', 'pens', 'people', 'per', 'per day', 'per week', 'percent', 'percent students', 'percentage', 'percentage students', 'percussion', 'perfect', 'perfectly', 'perform', 'perform better', 'performance', 'performances', 'performing', 'performing arts', 'perhaps', 'period', 'period time', 'periods', 'periods time', 'permanent', 'perseverance', 'persevere', 'person', 'personal', 'personal best', 'personal space', 'personalities', 'personality', 'personalized', 'personalized learning', 'personally', 'perspective', 'perspectives', 'pet', 'phenomenal', 'philadelphia', 'philosophy', 'phone', 'phonemic', 'phonemic awareness', 'phones', 'phonics', 'phonics skills', 'photo', 'photographs', 'photography', 'photos', 'physical', 'physical activities', 'physical activity', 'physical education', 'physical fitness', 'physical movement', 'physical science', 'physically', 'physically active', 'physics', 'piano', 'pick', 'picked', 'picking', 'picture', 'picture books', 'pictures', 'piece', 'piece technology', 'pieces', 'pillow', 'pillows', 'pizza', 'place', 'place classroom', 'place come', 'place feel', 'place learn', 'place learning', 'place my', 'place sit', 'place store', 'place students', 'place value', 'place work', 'placed', 'placement', 'places', 'places go', 'plan', 'plan use', 'plan using', 'planet', 'planned', 'planning', 'plans', 'plant', 'planting', 'plants', 'plastic', 'plastic chairs', 'plates', 'platform', 'play', 'play dough', 'play games', 'play instruments', 'play learn', 'play learning', 'play music', 'play my', 'play outside', 'play the', 'play they', 'play time', 'played', 'player', 'players', 'playful', 'playground', 'playground equipment', 'playing', 'playing field', 'playing games', 'playing instruments', 'plays', 'please', 'please consider', 'please help', 'pleasure', 'pleasure teaching', 'plenty', 'plethora', 'plot', 'plus', 'pocket', 'pockets', 'poems', 'poetry', 'point', 'points', 'poor', 'poorest', 'pop', 'popular', 'population', 'population english', 'population many', 'population receives', 'population school', 'population students', 'populations', 'portable', 'portfolio', 'portfolios', 'portion', 'poses', 'position', 'positions', 'positive', 'positive attention', 'positive attitude', 'positive attitudes', 'positive behavior', 'positive environment', 'positive impact', 'positive learning', 'positive way', 'positively', 'possess', 'possibilities', 'possibilities endless', 'possibility', 'possible', 'possible my', 'possible nannan', 'possible students', 'possible the', 'possible we', 'possibly', 'post', 'post secondary', 'poster', 'posters', 'posture', 'pot', 'potential', 'potential growth', 'potential my', 'pouches', 'poverty', 'poverty area', 'poverty community', 'poverty high', 'poverty level', 'poverty line', 'poverty low', 'poverty many', 'poverty neighborhood', 'poverty rate', 'poverty school', 'poverty stricken', 'poverty students', 'power', 'powerful', 'powerpoint', 'practical', 'practice', 'practice math', 'practice reading', 'practice skills', 'practice writing', 'practiced', 'practices', 'practicing', 'pre', 'pre 5th', 'pre kindergarten', 'pre school', 'pre students', 'precious', 'predominantly', 'predominately', 'prefer', 'prek', 'prep', 'preparation', 'prepare', 'prepare college', 'prepare future', 'prepare students', 'prepared', 'prepares', 'preparing', 'preparing students', 'preschool', 'preschool students', 'preschoolers', 'present', 'presentation', 'presentations', 'presented', 'presenting', 'presents', 'preserve', 'pressure', 'pretend', 'pretty', 'prevent', 'prevent getting', 'previous', 'previously', 'price', 'price lunch', 'price lunches', 'priced', 'priced lunch', 'priceless', 'pride', 'pride work', 'primarily', 'primary', 'primary language', 'principal', 'principles', 'print', 'printed', 'printer', 'printer classroom', 'printer ink', 'printers', 'printing', 'printmaking', 'prior', 'priority', 'privacy', 'private', 'privilege', 'privilege teaching', 'privileged', 'prize', 'prizes', 'pro', 'probably', 'problem', 'problem solve', 'problem solvers', 'problem solving', 'problems', 'problems students', 'procedures', 'process', 'process students', 'processes', 'processing', 'produce', 'producing', 'product', 'production', 'productive', 'productive citizens', 'productive members', 'productivity', 'products', 'professional', 'professionals', 'proficiency', 'proficient', 'profound', 'program', 'program called', 'program help', 'program many', 'program my', 'program our', 'program school', 'program students', 'program the', 'program this', 'program we', 'programming', 'programs', 'programs help', 'programs students', 'progress', 'project', 'project allow', 'project also', 'project based', 'project funded', 'project give', 'project help', 'project helping', 'project improve', 'project make', 'project my', 'project nannan', 'project not', 'project provide', 'project students', 'project the', 'project would', 'projected', 'projector', 'projects', 'projects my', 'projects nannan', 'projects students', 'projects the', 'projects they', 'projects using', 'projects we', 'promise', 'promote', 'promotes', 'promoting', 'proper', 'proper tools', 'properly', 'properties', 'proposal', 'props', 'protect', 'protected', 'protective', 'protectors', 'proud', 'proud teacher', 'proudly', 'prove', 'proven', 'provide', 'provide access', 'provide additional', 'provide basic', 'provide best', 'provide children', 'provide classroom', 'provide engaging', 'provide every', 'provide fun', 'provide hands', 'provide learning', 'provide life', 'provide many', 'provide materials', 'provide much', 'provide necessary', 'provide new', 'provide opportunities', 'provide opportunity', 'provide resources', 'provide safe', 'provide student', 'provide students', 'provide supplies', 'provide tools', 'provide us', 'provide variety', 'provided', 'provided school', 'provides', 'provides rigorous', 'provides students', 'providing', 'providing students', 'public', 'public charter', 'public elementary', 'public library', 'public school', 'public schools', 'publish', 'published', 'publishing', 'pull', 'pulled', 'puppets', 'purchase', 'purchased', 'purchasing', 'purpose', 'purposeful', 'purposes', 'pursue', 'push', 'push students', 'pushed', 'pushing', 'put', 'put forth', 'put together', 'puts', 'putting', 'puzzle', 'puzzles', 'qr', 'qr codes', 'qualifies', 'qualifies free', 'qualify', 'qualify free', 'qualifying', 'qualifying free', 'qualities', 'quality', 'quality education', 'quality literature', 'quality work', 'quarter', 'quest', 'question', 'questioners', 'questioning', 'questions', 'quick', 'quicker', 'quickly', 'quiet', 'quietly', 'quite', 'quiz', 'quizzes', 'quote', 'race', 'races', 'racial', 'rack', 'rain', 'rainbow', 'rainy', 'raise', 'raised', 'raised single', 'raising', 'range', 'range abilities', 'range age', 'range backgrounds', 'range disabilities', 'range learning', 'range students', 'ranges', 'ranging', 'rapidly', 'rarely', 'rate', 'rates', 'rather', 'ratio', 'raz', 'raz kids', 'reach', 'reach full', 'reach goal', 'reach goals', 'reach potential', 'reach stars', 'reach students', 'reached', 'reaching', 'read', 'read along', 'read aloud', 'read alouds', 'read book', 'read books', 'read class', 'read grade', 'read home', 'read independently', 'read it', 'read learn', 'read love', 'read many', 'read my', 'read nannan', 'read not', 'read read', 'read reading', 'read self', 'read stories', 'read students', 'read the', 'read they', 'read things', 'read this', 'read together', 'read want', 'read we', 'read write', 'reader', 'reader workshop', 'readers', 'readers my', 'readers nannan', 'readers need', 'readers students', 'readers the', 'readers they', 'readers writers', 'readily', 'readily available', 'readiness', 'reading', 'reading abilities', 'reading ability', 'reading also', 'reading area', 'reading book', 'reading books', 'reading center', 'reading centers', 'reading class', 'reading classroom', 'reading comprehension', 'reading corner', 'reading fluency', 'reading fun', 'reading goals', 'reading grade', 'reading groups', 'reading help', 'reading important', 'reading instruction', 'reading intervention', 'reading language', 'reading learn', 'reading learning', 'reading level', 'reading levels', 'reading listening', 'reading many', 'reading material', 'reading materials', 'reading math', 'reading my', 'reading nannan', 'reading not', 'reading one', 'reading program', 'reading programs', 'reading reading', 'reading science', 'reading skills', 'reading stamina', 'reading strategies', 'reading students', 'reading the', 'reading these', 'reading they', 'reading this', 'reading time', 'reading want', 'reading we', 'reading well', 'reading workshop', 'reading writing', 'readings', 'reads', 'ready', 'ready eager', 'ready go', 'ready learn', 'ready take', 'ready willing', 'ready work', 'real', 'real life', 'real time', 'real world', 'realistic', 'reality', 'realize', 'realized', 'realizing', 'really', 'really enjoy', 'really hard', 'really help', 'really need', 'really want', 'reason', 'reasoning', 'reasons', 'receive', 'receive backpack', 'receive free', 'receive special', 'received', 'receives', 'receives free', 'receiving', 'receiving free', 'recent', 'recently', 'recess', 'recess equipment', 'recess time', 'recipes', 'recognition', 'recognize', 'recognized', 'recognizing', 'recommended', 'record', 'recorded', 'recorder', 'recording', 'recycling', 'red', 'reduce', 'reduced', 'reduced breakfast', 'reduced lunch', 'reduced lunches', 'reduced meals', 'reduced price', 'reduced priced', 'reducing', 'reeds', 'refer', 'reference', 'reflect', 'reflection', 'reflects', 'refugee', 'refugees', 'regarding', 'regardless', 'region', 'regular', 'regular basis', 'regular classroom', 'regular education', 'regularly', 'regulate', 'regulation', 'reinforce', 'reinforce skills', 'reinforcement', 'reinforcing', 'relate', 'related', 'relates', 'relationship', 'relationships', 'relatively', 'relax', 'relaxed', 'relaxing', 'release', 'release energy', 'relevant', 'reliable', 'relief', 'relieve', 'reluctant', 'reluctant readers', 'rely', 'remain', 'remain focused', 'remaining', 'remarkable', 'remediation', 'remember', 'remember involve', 'remind', 'remove', 'repair', 'repetition', 'replace', 'replaced', 'replacement', 'replacing', 'report', 'reports', 'represent', 'representation', 'representations', 'represented', 'representing', 'represents', 'request', 'requested', 'requested help', 'requested materials', 'requested project', 'requested used', 'requesting', 'requesting help', 'requesting students', 'requests', 'require', 'require students', 'required', 'requirements', 'requires', 'requires students', 'requiring', 'research', 'research based', 'research create', 'research projects', 'research shown', 'research shows', 'research skills', 'research topics', 'researched', 'researchers', 'researching', 'reservation', 'reside', 'resilience', 'resilient', 'resource', 'resource room', 'resource students', 'resourceful', 'resources', 'resources allow', 'resources available', 'resources classroom', 'resources help', 'resources home', 'resources limited', 'resources make', 'resources my', 'resources need', 'resources needed', 'resources not', 'resources provide', 'resources students', 'resources the', 'resources would', 'respect', 'respected', 'respectful', 'respond', 'response', 'responses', 'responsibilities', 'responsibility', 'responsibility learning', 'responsible', 'rest', 'rest class', 'rest lives', 'restless', 'result', 'result students', 'resulting', 'results', 'retain', 'retain information', 'retell', 'retelling', 'retention', 'return', 'reusable', 'review', 'reward', 'rewarded', 'rewarding', 'rewards', 'rhyming', 'rhythm', 'rhythms', 'rich', 'rich environment', 'rid', 'ride', 'right', 'right students', 'right tools', 'rights', 'rigor', 'rigorous', 'rigorous academics', 'rings', 'rise', 'risk', 'risk students', 'risks', 'river', 'road', 'robot', 'robotic', 'robotics', 'robots', 'rock', 'rocking', 'rocks', 'role', 'role models', 'roles', 'roll', 'roller', 'rolling', 'room', 'room my', 'room nannan', 'room not', 'room students', 'room the', 'room we', 'rooms', 'rope', 'ropes', 'rotate', 'rotating', 'rotation', 'rotations', 'rough', 'roughly', 'round', 'rounded', 'routine', 'routines', 'row', 'rows', 'rug', 'rug would', 'rugs', 'rules', 'run', 'running', 'runs', 'rural', 'rural area', 'rural community', 'rural school', 'rural town', 'sacks', 'sad', 'sadly', 'safe', 'safe comfortable', 'safe environment', 'safe fun', 'safe learning', 'safe loved', 'safe nurturing', 'safe place', 'safe space', 'safely', 'safer', 'safety', 'said', 'san', 'sand', 'sat', 'save', 'saving', 'savvy', 'saw', 'say', 'saying', 'says', 'scale', 'scarce', 'scenarios', 'schedule', 'schedules', 'scholar', 'scholars', 'scholastic', 'scholastic news', 'school', 'school 100', 'school 80', 'school 90', 'school 98', 'school able', 'school activities', 'school all', 'school almost', 'school also', 'school always', 'school amazing', 'school approximately', 'school as', 'school best', 'school beyond', 'school budget', 'school building', 'school career', 'school children', 'school classroom', 'school college', 'school come', 'school community', 'school considered', 'school culture', 'school currently', 'school daily', 'school day', 'school despite', 'school district', 'school districts', 'school diverse', 'school due', 'school eager', 'school environment', 'school even', 'school every', 'school everyday', 'school excited', 'school experience', 'school family', 'school feel', 'school filled', 'school first', 'school focuses', 'school for', 'school free', 'school full', 'school fun', 'school funding', 'school garden', 'school get', 'school great', 'school help', 'school high', 'school home', 'school houses', 'school however', 'school hungry', 'school in', 'school inner', 'school it', 'school kids', 'school kindergarten', 'school know', 'school lacks', 'school large', 'school learn', 'school learning', 'school level', 'school library', 'school life', 'school like', 'school limited', 'school little', 'school lives', 'school located', 'school love', 'school low', 'school lunch', 'school made', 'school majority', 'school many', 'school meaning', 'school means', 'school most', 'school motto', 'school my', 'school nannan', 'school need', 'school neighborhood', 'school new', 'school no', 'school north', 'school not', 'school offers', 'school often', 'school one', 'school our', 'school part', 'school place', 'school population', 'school positive', 'school program', 'school programs', 'school provide', 'school provides', 'school public', 'school qualify', 'school ready', 'school receive', 'school receives', 'school recently', 'school rural', 'school safe', 'school school', 'school science', 'school see', 'school serves', 'school services', 'school serving', 'school setting', 'school small', 'school smile', 'school some', 'school south', 'school special', 'school strive', 'school strives', 'school student', 'school students', 'school supplies', 'school system', 'school teach', 'school teacher', 'school teachers', 'school the', 'school these', 'school they', 'school this', 'school time', 'school title', 'school unique', 'school urban', 'school want', 'school we', 'school well', 'school wide', 'school with', 'school without', 'school wonderful', 'school work', 'school working', 'school would', 'school year', 'school years', 'schoolers', 'schooling', 'schools', 'schools district', 'science', 'science activities', 'science class', 'science classes', 'science classroom', 'science concepts', 'science curriculum', 'science engineering', 'science experiments', 'science fair', 'science lab', 'science learning', 'science lessons', 'science materials', 'science math', 'science my', 'science projects', 'science reading', 'science skills', 'science social', 'science standards', 'science students', 'science teacher', 'science technology', 'science the', 'science they', 'science topics', 'sciences', 'scientific', 'scientist', 'scientists', 'scissors', 'scope', 'score', 'scores', 'scratch', 'screen', 'screens', 'search', 'searching', 'season', 'seat', 'seat sacks', 'seated', 'seating', 'seating allow', 'seating allows', 'seating arrangement', 'seating arrangements', 'seating choices', 'seating classroom', 'seating help', 'seating option', 'seating options', 'seating students', 'seats', 'seats allow', 'second', 'second grade', 'second graders', 'second home', 'second language', 'second third', 'second year', 'secondary', 'section', 'sections', 'secure', 'security', 'sedentary', 'see', 'see children', 'see many', 'see much', 'see students', 'see typical', 'see work', 'see world', 'seeds', 'seeing', 'seeing students', 'seek', 'seeking', 'seem', 'seem like', 'seems', 'seen', 'seen students', 'seesaw', 'select', 'selected', 'selection', 'self', 'self confidence', 'self contained', 'self directed', 'self esteem', 'self motivated', 'self regulation', 'semester', 'send', 'send home', 'senior', 'seniors', 'sense', 'sense community', 'sense pride', 'senses', 'sensitive', 'sensory', 'sensory input', 'sensory needs', 'sensory processing', 'sent', 'sentence', 'sentences', 'separate', 'september', 'series', 'serious', 'seriously', 'serve', 'serve students', 'served', 'serves', 'serves students', 'service', 'services', 'services students', 'serving', 'ses', 'session', 'sessions', 'set', 'set books', 'set chromebooks', 'set classroom', 'set goals', 'set headphones', 'set high', 'set ipads', 'set students', 'sets', 'setting', 'setting my', 'setting students', 'settings', 'seuss', 'seven', 'seven year', 'seventh', 'seventh grade', 'seventy', 'several', 'several challenges', 'several different', 'several students', 'several times', 'several years', 'severe', 'severely', 'shakespeare', 'shape', 'shaped', 'shapes', 'share', 'share families', 'share ideas', 'share knowledge', 'share learning', 'share love', 'share one', 'share students', 'share work', 'shared', 'shared reading', 'sharing', 'sharpen', 'sharpener', 'sharpeners', 'she', 'sheet', 'sheets', 'shelf', 'shelter', 'shelters', 'shelves', 'shift', 'shine', 'shirts', 'shoes', 'shop', 'shopping', 'short', 'show', 'show know', 'show learning', 'show school', 'show students', 'show work', 'showcase', 'showed', 'showing', 'shown', 'shown students', 'shows', 'shows students', 'shy', 'siblings', 'side', 'side chicago', 'sides', 'sight', 'sight word', 'sight words', 'sign', 'significant', 'significantly', 'signs', 'silent', 'silly', 'similar', 'simple', 'simple provide', 'simply', 'simply not', 'simulations', 'simultaneously', 'since', 'since many', 'since not', 'since school', 'since students', 'sing', 'sing dance', 'singing', 'single', 'single day', 'single family', 'single parent', 'single parents', 'sit', 'sit chair', 'sit comfortably', 'sit desk', 'sit floor', 'sit hard', 'sit read', 'sit still', 'sit work', 'site', 'sites', 'sits', 'sitting', 'sitting chair', 'sitting desk', 'sitting desks', 'sitting floor', 'sitting hard', 'sitting still', 'situation', 'situations', 'six', 'six seven', 'six year', 'six years', 'sixth', 'sixth grade', 'sixth graders', 'sixty', 'size', 'sized', 'sizes', 'skill', 'skill students', 'skills', 'skills also', 'skills become', 'skills classroom', 'skills fun', 'skills help', 'skills in', 'skills it', 'skills knowledge', 'skills learn', 'skills learned', 'skills learning', 'skills like', 'skills many', 'skills math', 'skills my', 'skills nannan', 'skills necessary', 'skills need', 'skills needed', 'skills not', 'skills our', 'skills problem', 'skills reading', 'skills social', 'skills students', 'skills taught', 'skills the', 'skills these', 'skills they', 'skills this', 'skills use', 'skills using', 'skills we', 'skills well', 'skills with', 'skills work', 'skills working', 'sky', 'sky limit', 'sleep', 'slide', 'slides', 'slow', 'slowly', 'small', 'small community', 'small group', 'small groups', 'small rural', 'small school', 'small town', 'smaller', 'smallest', 'smart', 'smart board', 'smartboard', 'smile', 'smile face', 'smile faces', 'smiles', 'smiles faces', 'smiling', 'smiling faces', 'smooth', 'smoothly', 'snack', 'snacks', 'snap', 'so', 'so many', 'soak', 'soar', 'soccer', 'soccer balls', 'social', 'social academic', 'social economic', 'social emotional', 'social media', 'social skills', 'social studies', 'socialize', 'socially', 'socially emotionally', 'society', 'socio', 'socio economic', 'socioeconomic', 'socioeconomic area', 'socioeconomic background', 'socioeconomic backgrounds', 'socioeconomic status', 'socioeconomically', 'socioeconomically disadvantaged', 'socks', 'soft', 'softball', 'software', 'soil', 'solar', 'solar system', 'solid', 'solid foundation', 'solution', 'solutions', 'solve', 'solve math', 'solve problem', 'solve problems', 'solve real', 'solvers', 'solving', 'solving problems', 'solving skills', 'some', 'some children', 'some come', 'some students', 'someone', 'something', 'something new', 'something students', 'sometimes', 'sometimes hard', 'sometimes need', 'sometimes not', 'sometimes students', 'somewhere', 'song', 'songs', 'soon', 'sort', 'sorting', 'sorts', 'sound', 'sounds', 'source', 'sources', 'south', 'south bronx', 'south carolina', 'south side', 'southern', 'southern california', 'southwest', 'space', 'space classroom', 'space students', 'spaces', 'span', 'spanish', 'spanish english', 'spanish speaking', 'spans', 'spark', 'spark interest', 'spatial', 'speak', 'speak english', 'speak language', 'speak spanish', 'speaker', 'speakers', 'speaking', 'speaking listening', 'speaks', 'special', 'special ed', 'special education', 'special needs', 'special place', 'special they', 'specialist', 'specialized', 'specially', 'specific', 'specific learning', 'specific needs', 'specifically', 'spectrum', 'spectrum disorder', 'speech', 'speech language', 'speed', 'spell', 'spelling', 'spelling words', 'spend', 'spend day', 'spend lot', 'spend much', 'spend time', 'spending', 'spending time', 'spent', 'sphero', 'spin', 'spirit', 'spite', 'split', 'spoken', 'sponges', 'spontaneous', 'spontaneous they', 'sport', 'sports', 'sports equipment', 'sportsmanship', 'spot', 'spots', 'spread', 'spring', 'square', 'squares', 'st', 'stability', 'stability ball', 'stability balls', 'stable', 'stacked', 'staff', 'staff members', 'stage', 'stages', 'stamina', 'stamps', 'stand', 'stand desks', 'standard', 'standardized', 'standardized testing', 'standardized tests', 'standards', 'standards students', 'standing', 'standing desk', 'standing desks', 'stands', 'star', 'stars', 'start', 'start day', 'start learning', 'start new', 'start school', 'start year', 'started', 'starting', 'starts', 'state', 'state standards', 'state testing', 'stated', 'statement', 'states', 'station', 'station students', 'stationary', 'stations', 'stations students', 'statistics', 'status', 'status these', 'statuses', 'stay', 'stay active', 'stay engaged', 'stay focused', 'stay healthy', 'stay organized', 'stay school', 'stay task', 'staying', 'staying focused', 'steam', 'stem', 'stem activities', 'stem education', 'stem kits', 'stem projects', 'stem school', 'stem science', 'step', 'stepping', 'steps', 'stick', 'stickers', 'sticks', 'sticky', 'still', 'still able', 'still come', 'still learning', 'still long', 'still need', 'stimulate', 'stimulating', 'stimulation', 'stock', 'stocked', 'stone', 'stool', 'stools', 'stools allow', 'stools classroom', 'stools help', 'stools provide', 'stools students', 'stools would', 'stop', 'storage', 'store', 'store day', 'stored', 'stories', 'stories read', 'story', 'story time', 'storytelling', 'storyworks', 'straight', 'strategies', 'strategy', 'street', 'strength', 'strengthen', 'strengthen core', 'strengthening', 'strengths', 'stress', 'stressed', 'stressful', 'stretch', 'stretching', 'stricken', 'string', 'strings', 'strips', 'strive', 'strive best', 'strive create', 'strive give', 'strive make', 'strive provide', 'strives', 'striving', 'strong', 'strong desire', 'strong foundation', 'stronger', 'stronger readers', 'strongly', 'structure', 'structured', 'structures', 'struggle', 'struggle basic', 'struggle reading', 'struggled', 'struggles', 'struggling', 'struggling learners', 'struggling readers', 'struggling students', 'stuck', 'student', 'student able', 'student access', 'student achievement', 'student athletes', 'student attention', 'student body', 'student centered', 'student choice', 'student class', 'student classroom', 'student engagement', 'student individual', 'student interest', 'student learn', 'student learning', 'student led', 'student need', 'student needs', 'student not', 'student opportunity', 'student population', 'student reading', 'student school', 'student success', 'student teacher', 'student unique', 'student use', 'student work', 'student would', 'students', 'students 21st', 'students 6th', 'students abilities', 'students ability', 'students able', 'students absolutely', 'students academic', 'students academically', 'students access', 'students achieve', 'students active', 'students actively', 'students actually', 'students add', 'students adhd', 'students african', 'students age', 'students ages', 'students all', 'students allow', 'students allowed', 'students allowing', 'students already', 'students also', 'students alternative', 'students always', 'students amazing', 'students another', 'students apply', 'students appreciate', 'students around', 'students arrive', 'students art', 'students as', 'students ask', 'students asked', 'students asking', 'students attend', 'students attention', 'students autism', 'students awesome', 'students basic', 'students become', 'students becoming', 'students begin', 'students beginning', 'students believe', 'students benefit', 'students best', 'students better', 'students bilingual', 'students books', 'students bright', 'students bring', 'students build', 'students building', 'students by', 'students came', 'students cannot', 'students capable', 'students challenged', 'students chance', 'students children', 'students choice', 'students choices', 'students choose', 'students class', 'students classes', 'students classroom', 'students collaborate', 'students college', 'students come', 'students comfortable', 'students coming', 'students community', 'students complete', 'students confidence', 'students connect', 'students considered', 'students constantly', 'students continue', 'students could', 'students crave', 'students create', 'students created', 'students creating', 'students creative', 'students curious', 'students currently', 'students daily', 'students day', 'students dedicated', 'students demonstrate', 'students deserve', 'students design', 'students desire', 'students develop', 'students developing', 'students diagnosed', 'students different', 'students difficult', 'students difficulty', 'students disabilities', 'students discover', 'students district', 'students diverse', 'students each', 'students eager', 'students easily', 'students economically', 'students education', 'students educational', 'students either', 'students eligible', 'students emotional', 'students encouraged', 'students energetic', 'students engage', 'students engaged', 'students engaging', 'students english', 'students enjoy', 'students enrolled', 'students enter', 'students enthusiastic', 'students especially', 'students even', 'students ever', 'students every', 'students everyday', 'students everything', 'students excel', 'students excited', 'students expand', 'students expected', 'students experience', 'students experiences', 'students explore', 'students exposed', 'students express', 'students extremely', 'students face', 'students faced', 'students fall', 'students families', 'students favorite', 'students feel', 'students find', 'students first', 'students flexible', 'students focus', 'students focused', 'students follow', 'students for', 'students free', 'students freedom', 'students full', 'students fully', 'students fun', 'students future', 'students gain', 'students general', 'students get', 'students getting', 'students gifted', 'students give', 'students given', 'students giving', 'students go', 'students going', 'students grade', 'students grades', 'students great', 'students greatly', 'students group', 'students grow', 'students growing', 'students hands', 'students happy', 'students hard', 'students hardworking', 'students having', 'students healthy', 'students hear', 'students help', 'students high', 'students highly', 'students hispanic', 'students homeless', 'students however', 'students hungry', 'students identified', 'students important', 'students improve', 'students in', 'students including', 'students increase', 'students incredible', 'students incredibly', 'students independent', 'students individual', 'students inner', 'students inquisitive', 'students inspire', 'students inspired', 'students interact', 'students interest', 'students interested', 'students involved', 'students it', 'students keep', 'students kind', 'students kindergarten', 'students know', 'students knowledge', 'students lack', 'students last', 'students learn', 'students learned', 'students learning', 'students leave', 'students level', 'students life', 'students like', 'students limited', 'students listen', 'students little', 'students live', 'students lives', 'students living', 'students look', 'students looking', 'students lot', 'students love', 'students loved', 'students loving', 'students low', 'students made', 'students make', 'students making', 'students many', 'students master', 'students materials', 'students math', 'students may', 'students meaningful', 'students meet', 'students middle', 'students might', 'students minds', 'students most', 'students mostly', 'students motivated', 'students move', 'students moving', 'students much', 'students multiple', 'students must', 'students my', 'students nannan', 'students necessary', 'students need', 'students needs', 'students never', 'students new', 'students no', 'students non', 'students not', 'students often', 'students one', 'students opportunities', 'students opportunity', 'students option', 'students options', 'students organized', 'students our', 'students overcome', 'students parents', 'students part', 'students participate', 'students passion', 'students passionate', 'students per', 'students perform', 'students physical', 'students pick', 'students place', 'students play', 'students positive', 'students practice', 'students pre', 'students prefer', 'students prepare', 'students prepared', 'students primarily', 'students program', 'students proud', 'students provide', 'students provided', 'students providing', 'students put', 'students qualify', 'students qualifying', 'students raised', 'students range', 'students ranging', 'students reach', 'students read', 'students reading', 'students ready', 'students real', 'students realize', 'students really', 'students receive', 'students receiving', 'students recently', 'students regardless', 'students remain', 'students represent', 'students requested', 'students requesting', 'students require', 'students required', 'students research', 'students resources', 'students respond', 'students responsible', 'students risk', 'students room', 'students rotate', 'students rural', 'students safe', 'students said', 'students say', 'students school', 'students second', 'students see', 'students self', 'students sensory', 'students serve', 'students set', 'students several', 'students severe', 'students share', 'students show', 'students simply', 'students sit', 'students sitting', 'students skills', 'students small', 'students smart', 'students some', 'students sometimes', 'students speak', 'students special', 'students spend', 'students staff', 'students start', 'students started', 'students stay', 'students still', 'students strive', 'students strong', 'students struggle', 'students struggling', 'students students', 'students succeed', 'students success', 'students successful', 'students supplies', 'students sweet', 'students take', 'students taking', 'students talented', 'students taught', 'students teach', 'students teacher', 'students teachers', 'students teaching', 'students technology', 'students tend', 'students thank', 'students the', 'students there', 'students these', 'students they', 'students think', 'students this', 'students thrive', 'students throughout', 'students time', 'students title', 'students today', 'students tools', 'students travel', 'students trouble', 'students truly', 'students try', 'students trying', 'students two', 'students unable', 'students understand', 'students understanding', 'students unique', 'students urban', 'students use', 'students used', 'students using', 'students utilize', 'students variety', 'students various', 'students varying', 'students view', 'students visit', 'students visual', 'students walk', 'students want', 'students way', 'students we', 'students well', 'students when', 'students whose', 'students wide', 'students wiggle', 'students willing', 'students with', 'students within', 'students without', 'students wonderful', 'students work', 'students working', 'students world', 'students would', 'students write', 'students writing', 'students year', 'students years', 'students young', 'studies', 'studies science', 'studies show', 'studies shown', 'studio', 'study', 'studying', 'stuff', 'sturdy', 'style', 'styles', 'subject', 'subject area', 'subject areas', 'subject matter', 'subjects', 'submit', 'subscription', 'subscriptions', 'subtract', 'subtraction', 'suburb', 'suburban', 'succeed', 'succeed classroom', 'succeed life', 'succeed my', 'succeed nannan', 'succeed school', 'succeed the', 'succeed they', 'succeeding', 'success', 'success classroom', 'success my', 'success nannan', 'success our', 'success school', 'success students', 'success the', 'success we', 'successes', 'successful', 'successful classroom', 'successful future', 'successful learners', 'successful learning', 'successful life', 'successful my', 'successful nannan', 'successful one', 'successful readers', 'successful school', 'successful students', 'successful the', 'successful these', 'successful they', 'successful we', 'successfully', 'suffer', 'sufficient', 'suggested', 'suits', 'summer', 'sun', 'super', 'supplement', 'supplemental', 'supplied', 'supplies', 'supplies allow', 'supplies classroom', 'supplies help', 'supplies like', 'supplies make', 'supplies materials', 'supplies my', 'supplies need', 'supplies needed', 'supplies not', 'supplies requesting', 'supplies school', 'supplies students', 'supplies the', 'supplies used', 'supplies we', 'supplies would', 'supply', 'supply students', 'supplying', 'support', 'support classroom', 'support help', 'support home', 'support learning', 'support nannan', 'support need', 'support project', 'support school', 'support student', 'support students', 'supported', 'supporting', 'supporting project', 'supportive', 'supports', 'supposed', 'sure', 'sure every', 'sure students', 'surely', 'surface', 'surprise', 'surprised', 'surrounded', 'surrounding', 'surroundings', 'survive', 'sustain', 'sweet', 'sweetest', 'swing', 'switch', 'syndrome', 'system', 'systems', 'table', 'table students', 'tables', 'tables chairs', 'tablet', 'tablets', 'tablets allow', 'tablets classroom', 'tablets help', 'tablets students', 'tablets would', 'tackle', 'tactile', 'tailored', 'take', 'take advantage', 'take care', 'take charge', 'take control', 'take granted', 'take great', 'take home', 'take learning', 'take new', 'take notes', 'take ownership', 'take part', 'take pictures', 'take place', 'take pride', 'take responsibility', 'take risks', 'take students', 'take turns', 'taken', 'takes', 'takes place', 'taking', 'taking care', 'taking place', 'taking time', 'taking turns', 'tale', 'talent', 'talented', 'talented students', 'talents', 'tales', 'talk', 'talked', 'talkers', 'talking', 'talks', 'tall', 'tangible', 'tap', 'tape', 'target', 'targeted', 'targets', 'task', 'task hand', 'tasks', 'taught', 'taught classroom', 'teach', 'teach amazing', 'teach children', 'teach class', 'teach diverse', 'teach every', 'teach first', 'teach group', 'teach high', 'teach kids', 'teach kindergarten', 'teach low', 'teach math', 'teach reading', 'teach remember', 'teach school', 'teach science', 'teach small', 'teach special', 'teach students', 'teach title', 'teach wonderful', 'teacher', 'teacher high', 'teacher job', 'teacher low', 'teacher my', 'teacher not', 'teacher provide', 'teacher school', 'teacher students', 'teacher they', 'teacher title', 'teacher want', 'teachers', 'teachers parents', 'teachers safe', 'teachers school', 'teachers staff', 'teachers students', 'teachers use', 'teachers work', 'teaches', 'teaches students', 'teaching', 'teaching kindergarten', 'teaching learning', 'teaching school', 'teaching students', 'team', 'team building', 'team sports', 'team work', 'teams', 'teamwork', 'tear', 'tech', 'tech savvy', 'technical', 'technique', 'techniques', 'technological', 'technological world', 'technologically', 'technologies', 'technology', 'technology able', 'technology access', 'technology allow', 'technology also', 'technology available', 'technology based', 'technology become', 'technology center', 'technology class', 'technology classroom', 'technology daily', 'technology driven', 'technology engineering', 'technology enhance', 'technology every', 'technology great', 'technology hands', 'technology help', 'technology home', 'technology important', 'technology it', 'technology learn', 'technology learning', 'technology many', 'technology my', 'technology nannan', 'technology need', 'technology not', 'technology one', 'technology order', 'technology our', 'technology outside', 'technology resources', 'technology school', 'technology skills', 'technology students', 'technology the', 'technology they', 'technology this', 'technology tool', 'technology tools', 'technology use', 'technology used', 'technology want', 'technology we', 'technology with', 'technology would', 'teenagers', 'teens', 'television', 'tell', 'tell forget', 'tell students', 'telling', 'tells', 'temperature', 'ten', 'tend', 'tennessee', 'tennis', 'term', 'terms', 'terrific', 'test', 'test scores', 'tested', 'testing', 'tests', 'texas', 'text', 'textbook', 'textbooks', 'texts', 'thank', 'thank advance', 'thank consideration', 'thank considering', 'thank helping', 'thank much', 'thank nannan', 'thank support', 'thank taking', 'thankful', 'thanks', 'that', 'that means', 'the', 'the ability', 'the addition', 'the art', 'the best', 'the book', 'the books', 'the carpet', 'the chairs', 'the children', 'the chromebooks', 'the class', 'the classroom', 'the community', 'the donation', 'the donations', 'the easel', 'the families', 'the first', 'the games', 'the goal', 'the headphones', 'the hokki', 'the ipad', 'the ipads', 'the items', 'the kids', 'the learn', 'the learning', 'the library', 'the magnetic', 'the majority', 'the materials', 'the math', 'the neighborhood', 'the new', 'the one', 'the osmo', 'the parents', 'the possibilities', 'the problem', 'the program', 'the project', 'the purpose', 'the read', 'the reading', 'the requested', 'the resources', 'the rug', 'the school', 'the stem', 'the stools', 'the storage', 'the student', 'the students', 'the supplies', 'the tablets', 'the teachers', 'the technology', 'the use', 'the way', 'the wobble', 'the world', 'theater', 'theatre', 'their', 'their families', 'their parents', 'theme', 'themed', 'themes', 'then', 'theory', 'therapeutic', 'therapy', 'there', 'there also', 'there many', 'there no', 'there not', 'there nothing', 'therefore', 'therefore students', 'these', 'these activities', 'these books', 'these chairs', 'these children', 'these chromebooks', 'these donations', 'these games', 'these headphones', 'these ipads', 'these items', 'these kids', 'these kits', 'these magazines', 'these materials', 'these new', 'these resources', 'these seats', 'these skills', 'these stools', 'these students', 'these supplies', 'these tablets', 'these things', 'these tools', 'these wobble', 'these young', 'they', 'they able', 'they active', 'they also', 'they always', 'they amazing', 'they ask', 'they asked', 'they attend', 'they become', 'they bright', 'they bring', 'they come', 'they constantly', 'they could', 'they create', 'they creative', 'they curious', 'they deserve', 'they different', 'they diverse', 'they eager', 'they energetic', 'they enjoy', 'they enter', 'they enthusiastic', 'they especially', 'they excited', 'they face', 'they feel', 'they full', 'they fun', 'they future', 'they get', 'they great', 'they hard', 'they help', 'they inquisitive', 'they inspire', 'they kind', 'they know', 'they learn', 'they learning', 'they like', 'they live', 'they look', 'they love', 'they make', 'they many', 'they may', 'they motivated', 'they much', 'they need', 'they not', 'they often', 'they range', 'they ready', 'they really', 'they receive', 'they see', 'they smart', 'they special', 'they strive', 'they struggle', 'they students', 'they sweet', 'they take', 'they thrive', 'they truly', 'they try', 'they understand', 'they unique', 'they use', 'they used', 'they walk', 'they want', 'they wonderful', 'they work', 'they would', 'thing', 'thing common', 'thing students', 'things', 'things classroom', 'things know', 'things like', 'things may', 'things my', 'things need', 'things not', 'things simple', 'things students', 'things they', 'things work', 'think', 'think critically', 'think outside', 'think students', 'thinkers', 'thinking', 'thinking problem', 'thinking skills', 'third', 'third fourth', 'third grade', 'third graders', 'third year', 'thirst', 'thirst knowledge', 'thirsty', 'thirty', 'this', 'this allow', 'this allows', 'this also', 'this book', 'this change', 'this class', 'this donation', 'this equipment', 'this especially', 'this first', 'this give', 'this gives', 'this grant', 'this great', 'this group', 'this help', 'this helps', 'this important', 'this includes', 'this ipad', 'this kid', 'this make', 'this makes', 'this means', 'this new', 'this not', 'this one', 'this past', 'this program', 'this project', 'this quote', 'this rug', 'this school', 'this second', 'this technology', 'this type', 'this way', 'this would', 'this year', 'thoroughly', 'those', 'though', 'though many', 'though students', 'thought', 'thought would', 'thoughtful', 'thoughts', 'thousand', 'thousands', 'three', 'three four', 'three years', 'thrilled', 'thrive', 'thriving', 'through', 'through use', 'throughout', 'throughout classroom', 'throughout day', 'throughout entire', 'throughout lives', 'throughout school', 'throughout year', 'throw', 'throwing', 'thus', 'tie', 'tied', 'tight', 'tight knit', 'tile', 'tiles', 'time', 'time class', 'time classroom', 'time day', 'time focusing', 'time get', 'time help', 'time it', 'time kids', 'time learn', 'time learning', 'time many', 'time my', 'time nannan', 'time need', 'time not', 'time our', 'time read', 'time reading', 'time school', 'time sitting', 'time spent', 'time students', 'time the', 'time these', 'time they', 'time this', 'time time', 'time together', 'time use', 'time we', 'time work', 'time working', 'time would', 'timely', 'timer', 'timers', 'times', 'times day', 'times not', 'times students', 'times throughout', 'times week', 'tiny', 'tips', 'tired', 'tissues', 'title', 'title elementary', 'title one', 'title school', 'titles', 'tk', 'to', 'to help', 'today', 'today society', 'today students', 'today world', 'toes', 'together', 'together class', 'together create', 'together help', 'together learn', 'together make', 'together my', 'together solve', 'together students', 'together team', 'together the', 'together they', 'together we', 'told', 'tomorrow', 'tone', 'toner', 'tons', 'too', 'took', 'tool', 'tool help', 'tool students', 'tools', 'tools allow', 'tools help', 'tools make', 'tools necessary', 'tools need', 'tools needed', 'tools resources', 'tools students', 'top', 'topic', 'topics', 'topics interest', 'torn', 'total', 'totally', 'touch', 'touch screen', 'touching', 'tough', 'toward', 'towards', 'town', 'towns', 'toy', 'toys', 'track', 'track progress', 'trackers', 'tracking', 'trade', 'tradition', 'traditional', 'traditional classroom', 'traditional desk', 'traditional desks', 'traditional seating', 'traditions', 'train', 'training', 'traits', 'transfer', 'transform', 'transient', 'transition', 'transitional', 'transitional kindergarten', 'transitioning', 'transitions', 'translate', 'transport', 'transportation', 'trauma', 'travel', 'traveled', 'traveling', 'trays', 'treasure', 'treat', 'tree', 'trees', 'tremendous', 'tremendously', 'trial', 'tried', 'trip', 'trips', 'trouble', 'true', 'truly', 'truly believe', 'truly enjoy', 'truly love', 'trust', 'try', 'try best', 'try create', 'try hard', 'try hardest', 'try make', 'try new', 'try provide', 'trying', 'trying best', 'trying find', 'trying get', 'trying make', 'trying new', 'tubs', 'tune', 'turn', 'turned', 'turning', 'turns', 'tutoring', 'tv', 'twelve', 'twenty', 'twenty first', 'twenty five', 'twice', 'twice week', 'two', 'two classes', 'two different', 'two languages', 'two students', 'two three', 'two years', 'type', 'type learning', 'type seating', 'types', 'types learners', 'typical', 'typical day', 'typical from', 'typically', 'typing', 'typing skills', 'ukulele', 'ukuleles', 'ultimate', 'ultimate goal', 'ultimately', 'ultimately help', 'unable', 'unable provide', 'uncomfortable', 'underprivileged', 'understand', 'understand concepts', 'understand importance', 'understand world', 'understanding', 'understanding concepts', 'understanding world', 'unfortunately', 'unfortunately many', 'unfortunately not', 'unfortunately school', 'unfortunately students', 'uniforms', 'unique', 'unique learning', 'unique needs', 'unique special', 'unique way', 'unit', 'unit students', 'united', 'united states', 'units', 'universal', 'university', 'unknown', 'unless', 'unlike', 'unlimited', 'unlock', 'up', 'upcoming', 'upcoming school', 'update', 'updated', 'upon', 'upper', 'ups', 'urban', 'urban area', 'urban community', 'urban district', 'urban neighborhood', 'urban public', 'urban school', 'urban setting', 'us', 'us create', 'us get', 'us keep', 'us learn', 'us make', 'us nannan', 'us reach', 'us see', 'us take', 'us use', 'us we', 'usage', 'use', 'use apps', 'use art', 'use books', 'use chrome', 'use chromebooks', 'use class', 'use classroom', 'use computer', 'use computers', 'use creativity', 'use daily', 'use different', 'use dry', 'use equipment', 'use every', 'use google', 'use hands', 'use headphones', 'use help', 'use imagination', 'use interactive', 'use ipad', 'use ipads', 'use items', 'use laptops', 'use learning', 'use manipulatives', 'use many', 'use materials', 'use math', 'use my', 'use nannan', 'use new', 'use one', 'use online', 'use reading', 'use resources', 'use school', 'use small', 'use students', 'use supplies', 'use tablets', 'use technology', 'use the', 'use throughout', 'use time', 'use tools', 'use variety', 'use various', 'used', 'used classroom', 'used create', 'used daily', 'used every', 'used help', 'used many', 'used math', 'used small', 'used students', 'used teach', 'used throughout', 'useful', 'uses', 'using', 'using books', 'using chromebooks', 'using computer', 'using computers', 'using different', 'using google', 'using hands', 'using ipad', 'using ipads', 'using materials', 'using new', 'using technology', 'using various', 'usually', 'utilize', 'utilize technology', 'utilized', 'utilizing', 'valley', 'valuable', 'value', 'value education', 'valued', 'values', 'varied', 'variety', 'variety activities', 'variety backgrounds', 'variety books', 'variety cultures', 'variety different', 'variety learning', 'variety materials', 'variety needs', 'variety seating', 'variety students', 'variety ways', 'various', 'various backgrounds', 'various learning', 'various levels', 'various types', 'various ways', 'vary', 'varying', 'varying levels', 'vast', 'vast majority', 'vegetable', 'vegetables', 'verbal', 'version', 'versions', 'very', 'via', 'vibrant', 'video', 'video games', 'videos', 'view', 'viewing', 'village', 'violence', 'violin', 'virginia', 'virtual', 'virtual field', 'virtual reality', 'virtually', 'visible', 'vision', 'visit', 'visiting', 'visual', 'visual aids', 'visual arts', 'visual auditory', 'visual learners', 'visualize', 'visually', 'visuals', 'vital', 'vocabulary', 'vocabulary words', 'vocal', 'vocational', 'voice', 'voices', 'volleyball', 'volume', 'volunteer', 'volunteers', 'wait', 'wait get', 'wait see', 'waiting', 'wake', 'walk', 'walk around', 'walk classroom', 'walk door', 'walk room', 'walk school', 'walked', 'walking', 'walks', 'walks life', 'wall', 'walls', 'walls classroom', 'want', 'want able', 'want become', 'want best', 'want bring', 'want change', 'want children', 'want classroom', 'want come', 'want continue', 'want create', 'want encourage', 'want ensure', 'want feel', 'want get', 'want give', 'want go', 'want help', 'want keep', 'want kids', 'want know', 'want learn', 'want make', 'want move', 'want provide', 'want read', 'want school', 'want see', 'want show', 'want sit', 'want students', 'want succeed', 'want successful', 'want take', 'want teach', 'want use', 'want work', 'wanted', 'wanting', 'wanting learn', 'wants', 'war', 'warm', 'warm inviting', 'washington', 'waste', 'wasted', 'watch', 'watch students', 'watched', 'watching', 'watching students', 'water', 'water bottles', 'watercolor', 'way', 'way engage', 'way get', 'way help', 'way hopeful', 'way keep', 'way learn', 'way learning', 'way make', 'way my', 'way nannan', 'way not', 'way possible', 'way students', 'way teach', 'way the', 'way they', 'way this', 'way we', 'ways', 'ways engage', 'ways help', 'ways keep', 'ways learn', 'ways learning', 'ways make', 'ways my', 'ways students', 'ways teach', 'ways the', 'ways they', 'ways use', 'ways we', 'we', 'we able', 'we already', 'we also', 'we always', 'we asking', 'we believe', 'we come', 'we community', 'we constantly', 'we could', 'we create', 'we currently', 'we diverse', 'we excited', 'we family', 'we focus', 'we fortunate', 'we great', 'we high', 'we hope', 'we know', 'we large', 'we learn', 'we learning', 'we like', 'we limited', 'we live', 'we located', 'we looking', 'we lot', 'we love', 'we low', 'we lucky', 'we make', 'we many', 'we need', 'we not', 'we often', 'we one', 'we part', 'we plan', 'we provide', 'we read', 'we recently', 'we requesting', 'we rural', 'we school', 'we serve', 'we small', 'we spend', 'we start', 'we started', 'we strive', 'we students', 'we take', 'we teach', 'we title', 'we try', 'we trying', 'we use', 'we using', 'we want', 'we work', 'we working', 'we would', 'weaknesses', 'wealth', 'wear', 'wearing', 'weather', 'web', 'web based', 'website', 'websites', 'week', 'week students', 'weekend', 'weekends', 'weekly', 'weekly basis', 'weeks', 'weight', 'weighted', 'welcome', 'welcomed', 'welcoming', 'welcoming environment', 'well', 'well help', 'well learning', 'well many', 'well my', 'well nannan', 'well provide', 'well rounded', 'well school', 'well students', 'well the', 'well they', 'well this', 'well we', 'wellness', 'went', 'west', 'western', 'what', 'what better', 'what makes', 'whatever', 'wheel', 'wheels', 'when', 'when asked', 'when children', 'when come', 'when students', 'when walk', 'whenever', 'where', 'wherever', 'whether', 'which', 'while', 'while many', 'while students', 'white', 'white board', 'white boards', 'whiteboard', 'whiteboards', 'who', 'whole', 'whole child', 'whole class', 'whole group', 'whole new', 'whole school', 'whole world', 'whose', 'why', 'why not', 'wide', 'wide range', 'wide variety', 'wider', 'wiggle', 'wiggle move', 'wiggle seats', 'wiggle work', 'wiggles', 'wiggling', 'wiggly', 'wild', 'will', 'willing', 'willing learn', 'willing work', 'willingness', 'willingness learn', 'win', 'win win', 'wind', 'window', 'windows', 'winning', 'winter', 'wipe', 'wipes', 'wireless', 'wish', 'with', 'with addition', 'with chromebooks', 'with donation', 'with help', 'with many', 'with materials', 'with new', 'with project', 'with said', 'with students', 'with support', 'with technology', 'with use', 'within', 'within classroom', 'within school', 'without', 'without basic', 'without disrupting', 'without distracting', 'without disturbing', 'without help', 'witness', 'witnessed', 'wobble', 'wobble chair', 'wobble chairs', 'wobble cushions', 'wobble seats', 'wobble stools', 'wobbly', 'women', 'wonder', 'wonderful', 'wonderful group', 'wonderful school', 'wonderful students', 'wonderfully', 'wonders', 'wood', 'wooden', 'word', 'word processing', 'word work', 'words', 'work', 'work best', 'work better', 'work class', 'work classroom', 'work collaboratively', 'work cooperatively', 'work daily', 'work day', 'work different', 'work diligently', 'work done', 'work ethic', 'work every', 'work extremely', 'work group', 'work groups', 'work hard', 'work harder', 'work help', 'work high', 'work independently', 'work it', 'work learn', 'work low', 'work many', 'work math', 'work my', 'work nannan', 'work not', 'work one', 'work others', 'work pace', 'work projects', 'work reading', 'work school', 'work skills', 'work small', 'work space', 'work stations', 'work students', 'work team', 'work the', 'work these', 'work they', 'work this', 'work time', 'work title', 'work together', 'work towards', 'work two', 'work we', 'work well', 'workbooks', 'worked', 'worked hard', 'workers', 'workforce', 'working', 'working class', 'working families', 'working groups', 'working hard', 'working independently', 'working small', 'working students', 'working they', 'working together', 'working towards', 'workout', 'workplace', 'works', 'works art', 'works best', 'works hard', 'worksheet', 'worksheets', 'workshop', 'workstations', 'world', 'world around', 'world better', 'world beyond', 'world difference', 'world experiences', 'world it', 'world learning', 'world live', 'world many', 'world my', 'world nannan', 'world our', 'world outside', 'world problems', 'world science', 'world students', 'world technology', 'world the', 'world these', 'world they', 'world this', 'world today', 'world want', 'world we', 'worlds', 'worn', 'worries', 'worry', 'worrying', 'worth', 'would', 'would able', 'would allow', 'would also', 'would amazing', 'would beneficial', 'would benefit', 'would enable', 'would enhance', 'would get', 'would give', 'would great', 'would greatly', 'would help', 'would like', 'would love', 'would make', 'would mean', 'would never', 'would not', 'would perfect', 'would provide', 'would really', 'would use', 'would used', 'would wonderful', 'wow', 'write', 'write stories', 'writer', 'writer workshop', 'writers', 'writing', 'writing center', 'writing math', 'writing my', 'writing nannan', 'writing pieces', 'writing process', 'writing reading', 'writing science', 'writing skills', 'writing students', 'writing the', 'written', 'wrong', 'wrote', 'year', 'year class', 'year classroom', 'year first', 'year help', 'year in', 'year it', 'year learning', 'year long', 'year many', 'year my', 'year nannan', 'year new', 'year not', 'year old', 'year olds', 'year our', 'year reading', 'year school', 'year students', 'year teach', 'year teacher', 'year teaching', 'year the', 'year these', 'year they', 'year this', 'year want', 'year we', 'year would', 'year year', 'yearbook', 'yearn', 'years', 'years ago', 'years come', 'years old', 'years students', 'years teaching', 'yes', 'yet', 'yoga', 'yoga ball', 'yoga balls', 'yoga mats', 'york', 'york city', 'you', 'you help', 'young', 'young adults', 'young age', 'young children', 'young learners', 'young men', 'young minds', 'young people', 'young readers', 'young students', 'younger', 'younger siblings', 'younger students', 'youngest', 'your', 'your donation', 'your donations', 'your generous', 'your help', 'your support', 'youth', 'youtube', 'zip', 'zone']\n"
     ]
    }
   ],
   "source": [
    "from sklearn.feature_extraction.text import CountVectorizer\n",
    "# Vectorizing text data\n",
    "# We are considering only the words which appeared in at least 10 documents(rows or projects).\n",
    "vectorizer7 = CountVectorizer(min_df=10,ngram_range=(1,2),max_features=10000)\n",
    "vectorizer7.fit(x_train[\"cleaned_essay\"].values)\n",
    "\n",
    "x_train_essay_bow = vectorizer7.transform(x_train['cleaned_essay'].values)\n",
    "#x_cv_essay_bow = vectorizer.transform(x_cv['cleaned_essays'].values)\n",
    "x_test_essay_bow = vectorizer7.transform(x_test['cleaned_essay'].values)\n",
    "\n",
    "print(\"After vectorizations\")\n",
    "print(x_train_essay_bow.shape, y_train.shape)\n",
    "#print(x_cv_essay_bow.shape, y_cv.shape)\n",
    "print(x_test_essay_bow.shape, y_test.shape)\n",
    "print(\"=\"*100)\n",
    "print(vectorizer7.get_feature_names())"
   ]
  },
  {
   "cell_type": "code",
   "execution_count": 43,
   "metadata": {},
   "outputs": [
    {
     "name": "stdout",
     "output_type": "stream",
     "text": [
      "After vectorizations\n",
      "(40000, 3136) (40000,)\n",
      "(10000, 3136) (10000,)\n",
      "====================================================================================================\n"
     ]
    },
    {
     "name": "stdout",
     "output_type": "stream",
     "text": [
      "['abc', 'aboard', 'about', 'about it', 'about our', 'about reading', 'about science', 'about that', 'about world', 'above', 'academic', 'academic success', 'academics', 'access', 'access technology', 'accessible', 'accessing', 'accessories', 'achieve', 'achievement', 'achieving', 'across', 'action', 'active', 'active bodies', 'active kids', 'active learners', 'active learning', 'active minds', 'active play', 'active seating', 'active students', 'actively', 'activities', 'activity', 'add', 'adding', 'adhd', 'advanced', 'advancing', 'adventure', 'adventures', 'after', 'after flood', 'after school', 'again', 'age', 'ahead', 'aid', 'aids', 'air', 'alexa', 'algebra', 'alive', 'all', 'all aboard', 'all about', 'all around', 'all day', 'all hands', 'all learners', 'all students', 'all the', 'all we', 'allow', 'along', 'aloud', 'alouds', 'alphabet', 'alternative', 'alternative seating', 'always', 'am', 'amazing', 'amazon', 'america', 'american', 'an', 'an active', 'an apple', 'an ear', 'an easel', 'an ipad', 'analysis', 'anchor', 'ancient', 'and', 'animal', 'another', 'ants', 'any', 'anything', 'anywhere', 'ap', 'app', 'apple', 'apple day', 'apple today', 'apples', 'approach', 'apps', 'archery', 'architects', 'are', 'are leaders', 'are learning', 'are not', 'are ready', 'area', 'around', 'around us', 'around world', 'art', 'art class', 'art room', 'art science', 'art supplies', 'art technology', 'artist', 'artistic', 'artists', 'arts', 'artwork', 'as', 'aspiring', 'assistance', 'at', 'at risk', 'at time', 'athletes', 'atpe', 'atpe member', 'attention', 'audio', 'audio books', 'authentic', 'author', 'author study', 'authors', 'autism', 'autistic', 'avid', 'award', 'awareness', 'away', 'awesome', 'baby', 'back', 'back basics', 'back school', 'backpack', 'backpacks', 'bag', 'bags', 'balance', 'balanced', 'balancing', 'ball', 'ball chairs', 'balls', 'band', 'bands', 'bare', 'bare necessities', 'baseball', 'based', 'based learning', 'basic', 'basic classroom', 'basic needs', 'basic school', 'basic supplies', 'basics', 'basketball', 'basketball team', 'basketballs', 'bass', 'battle', 'battle books', 'bay', 'be', 'be fun', 'be heard', 'bean', 'bean bag', 'beat', 'beautiful', 'beauty', 'because', 'become', 'become better', 'becoming', 'becoming better', 'bee', 'bees', 'before', 'begin', 'beginning', 'beginnings', 'begins', 'behavior', 'behind', 'being', 'believe', 'believing', 'bellies', 'best', 'better', 'better learning', 'better readers', 'between', 'beyond', 'beyond classroom', 'big', 'big books', 'big ideas', 'big learning', 'bigger', 'bilingual', 'binders', 'bins', 'biographies', 'biology', 'bit', 'bits', 'black', 'blast', 'blended', 'blended learning', 'block', 'blocks', 'blue', 'blues', 'board', 'board games', 'boards', 'bodies', 'bodies active', 'bodies healthy', 'bodies minds', 'body', 'body mind', 'boogie', 'boogie boards', 'book', 'book bags', 'book bins', 'book boxes', 'book club', 'book clubs', 'book lovers', 'book nook', 'book time', 'books', 'books all', 'books are', 'books books', 'books build', 'books cd', 'books classroom', 'books for', 'books grade', 'books help', 'books inspire', 'books little', 'books make', 'books more', 'books needed', 'books our', 'books please', 'books read', 'books that', 'books we', 'bookshelf', 'bookworms', 'boom', 'boost', 'boredom', 'boring', 'bots', 'bounce', 'bounce learn', 'bouncing', 'bouncy', 'bouncy bands', 'bound', 'box', 'boxes', 'boys', 'brain', 'brain food', 'brain power', 'brains', 'brand', 'brand new', 'break', 'breaking', 'breakout', 'breakout edu', 'breakoutedu', 'bridge', 'bridges', 'bridging', 'bright', 'brighten', 'brighter', 'brighter future', 'brilliant', 'bring', 'bring technology', 'bring us', 'bringing', 'bringing books', 'bringing learning', 'bringing science', 'bringing technology', 'bringing world', 'brings', 'broken', 'bronx', 'buddies', 'budding', 'buddy', 'bug', 'build', 'build it', 'build our', 'builders', 'building', 'building better', 'building blocks', 'building classroom', 'building community', 'building future', 'building literacy', 'building love', 'building our', 'building reading', 'business', 'busy', 'busy bees', 'busy bodies', 'but', 'butterflies', 'butterfly', 'by', 'ca', 'ca not', 'calculating', 'calculator', 'calculators', 'call', 'calling', 'calling all', 'calm', 'calming', 'camera', 'camera action', 'cameras', 'can', 'can be', 'can code', 'can do', 'can hear', 'can help', 'can learn', 'can read', 'can see', 'can we', 'can you', 'canvas', 'captivating', 'capture', 'capturing', 'cardboard', 'care', 'career', 'careers', 'caring', 'carpet', 'carpet ride', 'carpet time', 'cart', 'case', 'cases', 'catch', 'catching', 'cause', 'cd', 'celebrate', 'celebration', 'center', 'center time', 'centered', 'centered classroom', 'centered learning', 'centers', 'century', 'century classroom', 'century learners', 'century learning', 'century skills', 'century students', 'century technology', 'ceramics', 'chair', 'chair pockets', 'chairs', 'challenge', 'challenges', 'challenging', 'change', 'change world', 'changes', 'changing', 'chaos', 'chapter', 'chapter books', 'character', 'characters', 'charge', 'charged', 'charging', 'chart', 'charts', 'check', 'cheer', 'cheese', 'chemistry', 'chess', 'chevron', 'child', 'childhood', 'children', 'choice', 'choice seating', 'choices', 'choose', 'choose your', 'christmas', 'chrome', 'chrome book', 'chrome books', 'chromebook', 'chromebook for', 'chromebooks', 'chromebooks all', 'chromebooks century', 'chromebooks classroom', 'chromebooks create', 'chromebooks for', 'chromebooks make', 'chromebooks needed', 'chromebooks our', 'chromebooks part', 'circle', 'circle time', 'circles', 'circuits', 'citizens', 'city', 'civil', 'class', 'class library', 'class needs', 'class set', 'classes', 'classic', 'classics', 'classroom', 'classroom carpet', 'classroom chromebooks', 'classroom community', 'classroom environment', 'classroom essentials', 'classroom learning', 'classroom library', 'classroom materials', 'classroom needs', 'classroom project', 'classroom rug', 'classroom seating', 'classroom supplies', 'classroom technology', 'classroom with', 'classrooms', 'clay', 'clean', 'cleaning', 'clear', 'clearly', 'click', 'close', 'close reading', 'closer', 'closing', 'club', 'clubs', 'clutter', 'code', 'coders', 'coding', 'coding our', 'coding with', 'coffee', 'cold', 'collaborate', 'collaborating', 'collaboration', 'collaboration station', 'collaborative', 'collaborative learning', 'collection', 'college', 'college bound', 'college culture', 'college signing', 'color', 'color our', 'color printer', 'colored', 'colorful', 'colorful world', 'colors', 'come', 'come alive', 'come life', 'comes', 'comes alive', 'comfort', 'comfortable', 'comfortable classroom', 'comfortable learning', 'comfortable place', 'comfortable seating', 'comfy', 'comfy cozy', 'comfy reading', 'comic', 'comic books', 'comics', 'coming', 'common', 'common core', 'communicate', 'communicating', 'communication', 'community', 'complete', 'comprehension', 'computer', 'computer lab', 'computer programming', 'computer science', 'computers', 'concepts', 'confidence', 'connect', 'connected', 'connecting', 'connection', 'connections', 'construction', 'content', 'continued', 'cooking', 'cooking up', 'cool', 'cooperative', 'cooperative learning', 'copy', 'core', 'corner', 'costumes', 'could', 'counseling', 'count', 'counting', 'counts', 'covers', 'cozy', 'cozy classroom', 'cozy reading', 'craft', 'crafting', 'crafts', 'crafty', 'crayons', 'crazy', 'crazy chromebooks', 'create', 'creates', 'creating', 'creating century', 'creating future', 'creation', 'creations', 'creative', 'creative classroom', 'creative kids', 'creative learning', 'creative minds', 'creative writers', 'creatively', 'creativity', 'creators', 'cricut', 'critical', 'critical thinkers', 'critical thinking', 'cross', 'cubbies', 'cube', 'cubes', 'cultivating', 'cultural', 'culturally', 'culture', 'culture classroom', 'curiosity', 'curious', 'curl', 'current', 'current events', 'curriculum', 'cushions', 'cut', 'cutting', 'cycle', 'cycles', 'daily', 'dance', 'dancing', 'dash', 'dash dot', 'data', 'day', 'day keeps', 'days', 'de', 'deaf', 'deck', 'deeper', 'demand', 'den', 'deserve', 'deserving', 'design', 'designers', 'designing', 'desire', 'desk', 'desks', 'desperate', 'desperately', 'destination', 'develop', 'developing', 'development', 'devices', 'dictionaries', 'did', 'difference', 'different', 'differentiated', 'differentiation', 'digging', 'digital', 'digital age', 'digital divide', 'digital learning', 'digital literacy', 'digital world', 'disabilities', 'discover', 'discovering', 'discovery', 'display', 'dissection', 'dive', 'diverse', 'diverse books', 'diverse learners', 'diversity', 'divide', 'diving', 'do', 'do it', 'do not', 'do we', 'do you', 'document', 'document camera', 'does', 'does not', 'doing', 'done', 'doodling', 'doors', 'dot', 'dots', 'down', 'dr', 'drama', 'dramatic', 'dramatic play', 'draw', 'drawing', 'dream', 'dreaming', 'dreams', 'dress', 'driven', 'drives', 'drone', 'drones', 'drop', 'drum', 'drumming', 'drums', 'dry', 'dry erase', 'drying', 'dual', 'dual language', 'during', 'dynamic', 'each', 'eager', 'eager learners', 'eager readers', 'ear', 'ear resistable', 'earbuds', 'early', 'ears', 'earth', 'earth day', 'easel', 'easier', 'easy', 'eat', 'eating', 'echo', 'economics', 'ed', 'edge', 'edu', 'education', 'education class', 'education classroom', 'education students', 'educational', 'effective', 'efficient', 'egg', 'ela', 'electricity', 'electronic', 'elementary', 'elementary students', 'ell', 'elmo', 'em', 'embracing', 'emerging', 'emotional', 'emotions', 'empathy', 'empower', 'empowering', 'empowering students', 'empowerment', 'empty', 'encourage', 'encouraging', 'end', 'endless', 'energetic', 'energy', 'engage', 'engage students', 'engaged', 'engaged learners', 'engaged learning', 'engagement', 'engaging', 'engaging books', 'engaging students', 'engineering', 'engineering math', 'engineers', 'english', 'english language', 'english learners', 'enhance', 'enhance learning', 'enhance our', 'enhances', 'enhancing', 'enhancing learning', 'enjoy', 'enough', 'enrich', 'enriching', 'enrichment', 'enthusiastic', 'environment', 'environmental', 'environmental science', 'epic', 'equal', 'equals', 'equations', 'equipment', 'equity', 'erase', 'erase boards', 'escape', 'esl', 'esl students', 'espa', 'espa ol', 'essential', 'essentials', 'even', 'events', 'ever', 'every', 'every child', 'every day', 'every student', 'everybody', 'everyday', 'everyone', 'everything', 'everywhere', 'excel', 'excellence', 'exceptional', 'exceptional students', 'excited', 'excited about', 'excitement', 'exciting', 'exercise', 'exercising', 'expand', 'expand our', 'expanding', 'expanding our', 'experience', 'experiences', 'experiencing', 'experiments', 'experts', 'exploration', 'explore', 'explore world', 'explorers', 'exploring', 'exploring science', 'exploring world', 'express', 'expressing', 'expression', 'extra', 'extra extra', 'extra read', 'extreme', 'eye', 'eyes', 'fabulous', 'face', 'fact', 'facts', 'fair', 'fairy', 'fall', 'fall down', 'families', 'family', 'family fun', 'fantastic', 'farm', 'favorite', 'fear', 'feed', 'feeding', 'feel', 'feeling', 'feet', 'few', 'fiction', 'fiction books', 'fidget', 'fidgeting', 'fidgets', 'fidgety', 'field', 'field trips', 'fifth', 'fifth grade', 'fifth graders', 'fill', 'filling', 'film', 'final', 'financial', 'financial literacy', 'find', 'find out', 'finding', 'fine', 'fine motor', 'fingers', 'fingertips', 'fire', 'fire learning', 'fire tablets', 'fire up', 'fired', 'fired up', 'fires', 'first', 'first grade', 'first graders', 'first year', 'firsties', 'fish', 'fit', 'fitbit', 'fitbits', 'fitness', 'five', 'flash', 'flex', 'flex seating', 'flexibility', 'flexible', 'flexible classroom', 'flexible learners', 'flexible learning', 'flexible minds', 'flexible seating', 'flip', 'flood', 'flooded', 'flooding', 'floor', 'fluency', 'fluent', 'focus', 'focus learning', 'focused', 'focusing', 'folders', 'food', 'foods', 'football', 'for', 'for all', 'for everyone', 'for kids', 'for learning', 'for love', 'for my', 'for our', 'for reading', 'for science', 'for special', 'for students', 'for success', 'for the', 'force', 'forever', 'forward', 'foster', 'fostering', 'fostering love', 'foundation', 'four', 'fourth', 'fourth grade', 'fourth graders', 'fraction', 'fractions', 'free', 'freedom', 'french', 'fresh', 'fresh start', 'friendly', 'friends', 'from', 'fuel', 'fuel our', 'fueling', 'full', 'full ahead', 'full steam', 'full stem', 'fun', 'fun again', 'fun everyone', 'fun games', 'fun learning', 'fun with', 'functional', 'fund', 'fundamental', 'furniture', 'future', 'future engineers', 'future leaders', 'future scientists', 'future with', 'futures', 'gain', 'gaining', 'gallery', 'galore', 'game', 'games', 'gaming', 'gap', 'gaps', 'garden', 'garden grow', 'gardening', 'gateway', 'gather', 'gathering', 'gear', 'gearing', 'generation', 'generation science', 'genius', 'geniuses', 'geography', 'geometry', 'germs', 'get', 'get active', 'get comfy', 'get creative', 'get fit', 'get flexible', 'get healthy', 'get moving', 'get organized', 'get our', 'get physical', 'get us', 'get wiggles', 'get your', 'gets', 'getting', 'getting active', 'getting comfy', 'getting fit', 'getting organized', 'getting our', 'getting ready', 'getting wiggles', 'gift', 'gifted', 'girls', 'give', 'give me', 'give us', 'giving', 'global', 'glue', 'go', 'go green', 'go hand', 'go round', 'go with', 'goal', 'goals', 'goes', 'going', 'going green', 'gold', 'golden', 'golf', 'gone', 'gonna', 'good', 'good book', 'good books', 'good health', 'google', 'google classroom', 'got', 'gotta', 'grab', 'grade', 'grade class', 'grade classroom', 'grade math', 'grade needs', 'grade readers', 'grade reading', 'grade scholars', 'grade science', 'grade students', 'grade success', 'grader', 'graders', 'graders love', 'graders need', 'grades', 'graphic', 'graphic novel', 'graphic novels', 'graphics', 'graphing', 'graphing calculators', 'great', 'great book', 'great books', 'great readers', 'greater', 'greatness', 'green', 'green screen', 'groovin', 'grooving', 'ground', 'group', 'group instruction', 'group learning', 'groups', 'grow', 'growing', 'growing minds', 'growing our', 'growing readers', 'grows', 'growth', 'growth mindset', 'guided', 'guided reading', 'guitar', 'habits', 'hand', 'hand hand', 'hands', 'hands learning', 'hands math', 'hands on', 'hands science', 'happen', 'happening', 'happiness', 'happy', 'hard', 'harry', 'harry potter', 'has', 'hatching', 'have', 'have fun', 'have seat', 'having', 'head', 'headphones', 'headphones for', 'headphones help', 'headphones needed', 'heads', 'health', 'health fitness', 'health wellness', 'healthier', 'healthy', 'healthy active', 'healthy bodies', 'healthy body', 'healthy choices', 'healthy eating', 'healthy habits', 'healthy happy', 'healthy kids', 'healthy lifestyle', 'healthy living', 'healthy mind', 'healthy minds', 'healthy snacks', 'hear', 'hear it', 'hear me', 'hear us', 'hear what', 'hear ye', 'hear you', 'heard', 'hearing', 'heart', 'hearts', 'heights', 'hello', 'help', 'help bring', 'help build', 'help create', 'help keep', 'help make', 'help me', 'help my', 'help our', 'help special', 'help students', 'help us', 'help we', 'helping', 'helping students', 'helps', 'helps us', 'here', 'here we', 'hero', 'heroes', 'hey', 'high', 'high interest', 'high school', 'high tech', 'higher', 'historical', 'history', 'hocus', 'hocus pocus', 'hokki', 'hokki stools', 'holocaust', 'home', 'home school', 'hook', 'hooked', 'hoops', 'hooray', 'hop', 'hope', 'hot', 'hot dots', 'house', 'how', 'how does', 'human', 'hunger', 'hungry', 'hydrated', 'hygiene', 'ican', 'ideas', 'if', 'if you', 'ignite', 'igniting', 'ii', 'iii', 'ilearn', 'ilearn ipad', 'ilearn ipads', 'illiteracy', 'imagination', 'imaginations', 'imagine', 'important', 'improve', 'improving', 'in', 'in kindergarten', 'in my', 'in need', 'in our', 'in reading', 'in the', 'incentives', 'inclusion', 'inclusive', 'income', 'incorporating', 'increase', 'increase student', 'increasing', 'independence', 'independent', 'independent reading', 'individual', 'individualized', 'individualized instruction', 'individualized learning', 'indoor', 'indoor recess', 'ineed', 'information', 'informational', 'informed', 'ing', 'initiative', 'ink', 'inner', 'inner city', 'innovating', 'innovation', 'innovative', 'innovators', 'inquiring', 'inquiry', 'inquiry based', 'inside', 'inspiration', 'inspire', 'inspired', 'inspires', 'inspiring', 'instruction', 'instrument', 'instruments', 'integrating', 'integrating technology', 'integration', 'interactive', 'interactive learning', 'interactive math', 'interactive notebooks', 'interest', 'interest books', 'interesting', 'intervention', 'interventions', 'into', 'into learning', 'into our', 'into reading', 'into the', 'inventors', 'investigating', 'inviting', 'ipad', 'ipad mini', 'ipad minis', 'ipad pro', 'ipads', 'ipads classroom', 'ipads for', 'ipads make', 'iread', 'is', 'is believing', 'is fun', 'is not', 'is our', 'is the', 'issues', 'it', 'it all', 'it learn', 'it move', 'it out', 'it read', 'it they', 'it time', 'it up', 'items', 'its', 'journalism', 'journals', 'journey', 'joy', 'jr', 'jump', 'jumping', 'junior', 'just', 'just right', 'justice', 'keep', 'keep calm', 'keep moving', 'keep our', 'keep us', 'keeping', 'keeping our', 'keeping students', 'keeping up', 'keeps', 'key', 'key success', 'keyboards', 'keys', 'kick', 'kicking', 'kid', 'kid inspired', 'kiddos', 'kids', 'kids can', 'kids learn', 'kids learning', 'kids love', 'kids need', 'kids want', 'kind', 'kinder', 'kindergarten', 'kindergarten class', 'kindergarten classroom', 'kindergarten kids', 'kindergarten learning', 'kindergarten students', 'kindergarteners', 'kindergarteners need', 'kindergartners', 'kindergartners need', 'kinders', 'kindle', 'kindle fire', 'kindle fires', 'kindles', 'kindness', 'kinesthetic', 'kit', 'kitchen', 'kits', 'know', 'knowledge', 'kore', 'lab', 'labs', 'lacrosse', 'lady', 'laminate', 'language', 'language arts', 'language learners', 'language learning', 'language skills', 'laptop', 'laptops', 'last', 'lead', 'leader', 'leaders', 'leading', 'leads', 'leap', 'leaping', 'learn', 'learn about', 'learn better', 'learn english', 'learn grow', 'learn it', 'learn math', 'learn more', 'learn play', 'learn read', 'learn through', 'learn together', 'learn with', 'learner', 'learners', 'learners need', 'learning', 'learning about', 'learning all', 'learning can', 'learning centers', 'learning century', 'learning chromebooks', 'learning classroom', 'learning code', 'learning english', 'learning environment', 'learning experience', 'learning fun', 'learning in', 'learning ipads', 'learning is', 'learning kindergarten', 'learning life', 'learning literacy', 'learning love', 'learning materials', 'learning math', 'learning motion', 'learning move', 'learning part', 'learning play', 'learning read', 'learning science', 'learning space', 'learning stations', 'learning styles', 'learning technology', 'learning through', 'learning to', 'learning tools', 'learning using', 'learning while', 'learning with', 'leave', 'leaving', 'led', 'lego', 'lego wall', 'legos', 'lens', 'less', 'lesson', 'lessons', 'let', 'let be', 'let build', 'let create', 'let find', 'let get', 'let go', 'let learn', 'let make', 'let me', 'let move', 'let play', 'let read', 'let talk', 'let them', 'let there', 'let us', 'lets', 'letter', 'letters', 'level', 'leveled', 'leveled books', 'leveled library', 'leveled readers', 'levels', 'library', 'library makerspace', 'life', 'life cycle', 'life cycles', 'life essentials', 'life long', 'life science', 'life skills', 'life through', 'life with', 'lifelong', 'lifelong readers', 'lifestyle', 'lifetime', 'lift', 'light', 'light up', 'lighting', 'lights', 'lights camera', 'like', 'like move', 'like to', 'list', 'listen', 'listen learn', 'listen up', 'listeners', 'listening', 'listening center', 'listening centers', 'listening learn', 'listening learning', 'listening reading', 'listening station', 'literacy', 'literacy center', 'literacy centers', 'literacy learning', 'literacy math', 'literacy skills', 'literacy through', 'literary', 'literate', 'literature', 'literature circles', 'little', 'little bit', 'little bits', 'little bodies', 'little hands', 'little learners', 'little minds', 'little ones', 'little readers', 'littlebits', 'live', 'lives', 'living', 'long', 'long readers', 'look', 'looking', 'lost', 'lots', 'loud', 'louisiana', 'lounge', 'love', 'love books', 'love learn', 'love learning', 'love literacy', 'love read', 'love reading', 'love technology', 'love to', 'lovers', 'loves', 'loving', 'low', 'low income', 'lunch', 'macbook', 'machine', 'machines', 'mad', 'made', 'made easy', 'made fun', 'madness', 'magazine', 'magazines', 'magic', 'magic carpet', 'magical', 'magnetic', 'magnets', 'magnificent', 'magnificent math', 'make', 'make difference', 'make it', 'make learning', 'make math', 'make our', 'make reading', 'make us', 'makeover', 'maker', 'maker space', 'makers', 'makerspace', 'makes', 'makes learning', 'makes perfect', 'makey', 'makey makey', 'making', 'making connections', 'making learning', 'making math', 'making music', 'making our', 'making reading', 'making technology', 'management', 'mania', 'manipulating', 'manipulative', 'manipulatives', 'many', 'march', 'marching', 'mark', 'markers', 'market', 'marvelous', 'master', 'mastering', 'mastering math', 'masterpieces', 'masters', 'mastery', 'materials', 'materials for', 'materials needed', 'math', 'math art', 'math center', 'math centers', 'math class', 'math classroom', 'math facts', 'math fun', 'math games', 'math is', 'math learning', 'math literacy', 'math manipulatives', 'math materials', 'math matters', 'math reading', 'math science', 'math skills', 'math supplies', 'math technology', 'math through', 'math with', 'mathematical', 'mathematicians', 'mathematicians need', 'mathematics', 'mats', 'matter', 'matters', 'maximize', 'may', 'me', 'me learn', 'me now', 'me up', 'mean', 'meaningful', 'means', 'measuring', 'media', 'media literacy', 'meet', 'meeting', 'meeting needs', 'meets', 'member', 'memories', 'mentor', 'mentor texts', 'mice', 'microscope', 'microscopes', 'microscopic', 'middle', 'middle school', 'middle schoolers', 'mighty', 'mind', 'mind body', 'mindful', 'mindfulness', 'minds', 'minds bodies', 'minds need', 'minds through', 'minds with', 'mindset', 'mini', 'mini ipads', 'minis', 'minutes', 'miss', 'missing', 'mission', 'mistakes', 'mo', 'mobile', 'modeling', 'models', 'modern', 'money', 'more', 'more books', 'more math', 'more technology', 'more than', 'more you', 'morning', 'most', 'motion', 'motivate', 'motivated', 'motivating', 'motivation', 'motor', 'motor skills', 'mouse', 'move', 'move it', 'move learn', 'move move', 'movement', 'movement learning', 'movers', 'movers shakers', 'moves', 'movie', 'movies', 'movin', 'movin groovin', 'moving', 'moving bodies', 'moving grooving', 'moving learn', 'moving learning', 'moving while', 'mr', 'mrs', 'ms', 'much', 'much needed', 'multi', 'multi sensory', 'multicultural', 'multiple', 'multiplication', 'muscles', 'music', 'music class', 'music classroom', 'music room', 'music stands', 'musical', 'musicians', 'must', 'my', 'my class', 'my classroom', 'my first', 'my kids', 'my little', 'my students', 'my way', 'myself', 'mystery', 'native', 'nature', 'necessary', 'necessities', 'need', 'need art', 'need books', 'need chromebooks', 'need classroom', 'need flexible', 'need headphones', 'need help', 'need ink', 'need ipad', 'need ipads', 'need math', 'need more', 'need move', 'need new', 'need of', 'need printer', 'need read', 'need rug', 'need some', 'need supplies', 'need technology', 'need to', 'need wiggle', 'need your', 'needed', 'needed for', 'needing', 'needs', 'needs new', 'needs students', 'needs supplies', 'never', 'new', 'new books', 'new classroom', 'new heights', 'new rug', 'new school', 'new supplies', 'new teacher', 'new technology', 'new world', 'new year', 'news', 'next', 'next generation', 'next level', 'nice', 'night', 'no', 'no more', 'noise', 'non', 'non fiction', 'nonfiction', 'nonfiction books', 'nook', 'not', 'not be', 'not fall', 'not have', 'not hear', 'not just', 'not sit', 'not stop', 'note', 'notebook', 'notebooks', 'notes', 'nothing', 'novel', 'novel study', 'novels', 'now', 'number', 'number sense', 'numbers', 'nutrition', 'odds', 'of', 'of the', 'off', 'off right', 'oh', 'oh my', 'oh places', 'oh the', 'ol', 'old', 'olympics', 'on', 'on fire', 'on learning', 'on math', 'on our', 'on science', 'on target', 'on the', 'one', 'one book', 'one one', 'ones', 'online', 'only', 'open', 'opening', 'opens', 'operation', 'opportunities', 'opportunity', 'optimal', 'optimal learning', 'options', 'orchestra', 'order', 'orff', 'organization', 'organization key', 'organizational', 'organize', 'organize our', 'organized', 'organizing', 'organizing our', 'osmo', 'osmos', 'other', 'others', 'our', 'our bodies', 'our books', 'our brains', 'our class', 'our classroom', 'our day', 'our ears', 'our fingertips', 'our future', 'our hands', 'our ipads', 'our kids', 'our learning', 'our library', 'our love', 'our minds', 'our new', 'our own', 'our reading', 'our room', 'our school', 'our science', 'our students', 'our target', 'our technology', 'our way', 'our wiggles', 'our work', 'our world', 'ourselves', 'out', 'out our', 'out with', 'outdoor', 'outdoors', 'outside', 'outside box', 'outstanding', 'over', 'owl', 'own', 'ozobots', 'pad', 'pads', 'page', 'paint', 'painting', 'pair', 'pants', 'paper', 'paperless', 'papers', 'paradise', 'parent', 'parents', 'park', 'part', 'part ii', 'part two', 'party', 'pass', 'passion', 'past', 'path', 'pe', 'peace', 'pen', 'pencil', 'pencils', 'pens', 'people', 'percussion', 'perfect', 'performance', 'personal', 'personalized', 'personalized learning', 'pet', 'phase', 'phones', 'phonics', 'photography', 'physical', 'physical activity', 'physical education', 'physical fitness', 'physics', 'piano', 'picasso', 'pick', 'pick seat', 'picture', 'picture books', 'picture this', 'picture worth', 'pictures', 'pieces', 'place', 'place everyone', 'place for', 'place learn', 'place sit', 'place to', 'places', 'places we', 'places you', 'plan', 'planet', 'plant', 'planting', 'plants', 'play', 'play learn', 'players', 'playground', 'playing', 'please', 'please help', 'plus', 'pocket', 'pockets', 'pocus', 'poetry', 'pokey', 'pop', 'portable', 'portfolios', 'positive', 'positive behavior', 'possibilities', 'possible', 'post', 'posters', 'potential', 'potter', 'power', 'power choice', 'powerful', 'practice', 'practice makes', 'pre', 'prek', 'prep', 'prepare', 'prepared', 'preparing', 'preschool', 'preschoolers', 'present', 'presentations', 'pretty', 'pride', 'primary', 'print', 'printer', 'printer ink', 'printing', 'printmaking', 'privacy', 'prize', 'pro', 'problem', 'problem solvers', 'problem solving', 'problems', 'production', 'productive', 'professional', 'program', 'programmers', 'programming', 'progress', 'project', 'project based', 'projecting', 'projector', 'projects', 'promote', 'promoting', 'protect', 'protect our', 'protecting', 'protecting our', 'protection', 'proud', 'provide', 'providing', 'pt', 'publish', 'publishing', 'pump', 'puppets', 'purpose', 'purposeful', 'put', 'putting', 'puzzles', 'quality', 'quest', 'quiet', 'quill', 'race', 'racing', 'rack', 'rain', 'rainbow', 'rainy', 'raise', 'raising', 're', 'reach', 'reaching', 'read', 'read all', 'read aloud', 'read alouds', 'read book', 'read it', 'read learn', 'read more', 'read read', 'read succeed', 'read we', 'read write', 'reader', 'reader tomorrow', 'readers', 'readers are', 'readers need', 'readers through', 'readers with', 'readers writers', 'readiness', 'reading', 'reading books', 'reading center', 'reading centers', 'reading comprehension', 'reading corner', 'reading fun', 'reading intervention', 'reading is', 'reading learn', 'reading materials', 'reading math', 'reading nook', 'reading our', 'reading rocks', 'reading skills', 'reading success', 'reading through', 'reading time', 'reading with', 'reading writing', 'reads', 'ready', 'ready learn', 'ready read', 'ready set', 'real', 'real life', 'real world', 'reality', 'really', 'recess', 'recess equipment', 'record', 'recording', 'recycling', 'red', 'reeds', 'relationships', 'relax', 'relaxing', 'relevant', 'relief', 'reluctant', 'reluctant readers', 'remember', 'renewable', 'repeat', 'replace', 'replacing', 'request', 'rescue', 'research', 'researchers', 'researching', 'resistable', 'resource', 'resources', 'responsibility', 'rest', 'revolution', 'reward', 'rewarding', 'rewards', 'rhythm', 'rich', 'ride', 'right', 'right books', 'rights', 'rise', 'rising', 'risk', 'river', 'road', 'robot', 'robotics', 'robotics classroom', 'robots', 'rock', 'rock roll', 'rocket', 'rockin', 'rockin readers', 'rocking', 'rocks', 'roll', 'roller', 'rolling', 'room', 'round', 'rug', 'rugs', 'rules', 'run', 'running', 'rural', 'sacks', 'safe', 'safety', 'sand', 'save', 'saving', 'savvy', 'savy', 'say', 'scholars', 'scholars need', 'scholastic', 'scholastic magazines', 'scholastic news', 'school', 'school garden', 'school home', 'school library', 'school needs', 'school store', 'school students', 'school supplies', 'school year', 'schoolers', 'science', 'science classroom', 'science exploration', 'science fair', 'science fun', 'science lab', 'science learning', 'science materials', 'science math', 'science reading', 'science social', 'science supplies', 'science technology', 'science through', 'scientific', 'scientist', 'scientists', 'scientists need', 'scissors', 'score', 'scream', 'screen', 'searching', 'season', 'seat', 'seat sacks', 'seating', 'seating active', 'seating all', 'seating century', 'seating choices', 'seating classroom', 'seating engaged', 'seating fantastic', 'seating first', 'seating flexible', 'seating for', 'seating grade', 'seating help', 'seating kindergarten', 'seating learning', 'seating mrs', 'seating options', 'seating paradise', 'seating part', 'seating project', 'seating student', 'seating students', 'seating success', 'seats', 'seats wiggly', 'second', 'second grade', 'second graders', 'secret', 'secure', 'see', 'see it', 'see what', 'see world', 'seeds', 'seeing', 'seeing is', 'seek', 'seeking', 'self', 'seniors', 'sensational', 'sense', 'senses', 'sensory', 'sensory needs', 'sensory play', 'sensory tools', 'series', 'serious', 'set', 'set read', 'sets', 'setting', 'sew', 'shake', 'shakers', 'shakespeare', 'shaking', 'shape', 'shapes', 'share', 'sharing', 'sharp', 'sharpen', 'sharpener', 'shelf', 'shelves', 'shine', 'shirts', 'shoes', 'shoot', 'shop', 'should', 'show', 'show me', 'side', 'sight', 'sight word', 'sight words', 'signing', 'signing day', 'simple', 'sims', 'sing', 'sit', 'sit stand', 'sit still', 'sitting', 'sitting still', 'sixth', 'skill', 'skills', 'skills through', 'small', 'small group', 'small groups', 'smart', 'smarter', 'smile', 'smiles', 'snack', 'snacks', 'snap', 'so', 'so we', 'soar', 'soaring', 'soccer', 'soccer team', 'social', 'social emotional', 'social skills', 'social studies', 'socks', 'soft', 'softball', 'solar', 'solutions', 'solve', 'solvers', 'solving', 'some', 'something', 'soul', 'sound', 'sounds', 'south', 'space', 'spaces', 'spanish', 'spark', 'speak', 'speakers', 'speaking', 'special', 'special ed', 'special education', 'special learners', 'special needs', 'special students', 'spectacular', 'speech', 'speech language', 'speed', 'spell', 'sphero', 'spin', 'sport', 'sports', 'sports equipment', 'spot', 'spring', 'stability', 'stability balls', 'stage', 'stamina', 'stand', 'stand up', 'standards', 'standing', 'standing desks', 'standing up', 'stands', 'star', 'stars', 'start', 'start year', 'started', 'starting', 'starts', 'state', 'station', 'stations', 'stay', 'stay active', 'stay focused', 'stay healthy', 'staying', 'staying active', 'steam', 'steam ahead', 'steam learning', 'steaming', 'stem', 'stem activities', 'stem ahead', 'stem classroom', 'stem learning', 'stem materials', 'stem projects', 'stem science', 'stem students', 'step', 'stepping', 'steps', 'stick', 'sticks', 'still', 'stock', 'stool', 'stools', 'stools active', 'stop', 'storage', 'store', 'stories', 'story', 'storytelling', 'storyworks', 'straight', 'strength', 'strengthen', 'strengthening', 'stress', 'stretch', 'strings', 'strong', 'strong readers', 'stronger', 'structured', 'struggling', 'struggling readers', 'student', 'student achievement', 'student centered', 'student choice', 'student engagement', 'student learning', 'student led', 'student success', 'students', 'students are', 'students art', 'students autism', 'students become', 'students can', 'students disabilities', 'students engaged', 'students get', 'students in', 'students learn', 'students learning', 'students love', 'students need', 'students read', 'students special', 'students technology', 'students through', 'students to', 'students want', 'students with', 'studies', 'studio', 'study', 'stuff', 'style', 'styles', 'subjects', 'succeed', 'success', 'success reading', 'success with', 'successful', 'successful students', 'summer', 'sun', 'sunshine', 'super', 'super readers', 'super science', 'super scientists', 'super students', 'super supplies', 'superheroes', 'superstars', 'supplies', 'supplies for', 'supplies needed', 'supplies new', 'supplies students', 'supplies success', 'supplies super', 'supplies supplies', 'supply', 'supplying', 'support', 'support our', 'supporting', 'supports', 'surface', 'sweet', 'system', 'table', 'tables', 'tablet', 'tablets', 'tablets for', 'take', 'take home', 'take seat', 'take stand', 'take us', 'takes', 'taking', 'tale', 'talented', 'tales', 'talk', 'talking', 'tall', 'target', 'target healthy', 'targeting', 'tastic', 'teach', 'teacher', 'teacher needs', 'teachers', 'teaching', 'teaching technology', 'teaching through', 'teaching with', 'team', 'team building', 'teamwork', 'tech', 'tech savvy', 'techie', 'techies', 'technical', 'techno', 'technological', 'technology', 'technology all', 'technology art', 'technology center', 'technology century', 'technology classroom', 'technology engineering', 'technology enhance', 'technology for', 'technology future', 'technology help', 'technology in', 'technology integration', 'technology is', 'technology kindergarten', 'technology learning', 'technology math', 'technology needed', 'technology our', 'technology special', 'technology to', 'technology today', 'technology tools', 'techy', 'teens', 'tell', 'telling', 'tennis', 'terrific', 'terrific technology', 'test', 'testing', 'text', 'texts', 'than', 'than just', 'that', 'the', 'the art', 'the basics', 'the best', 'the books', 'the century', 'the classroom', 'the future', 'the great', 'the key', 'the library', 'the magic', 'the more', 'the new', 'the next', 'the places', 'the power', 'the right', 'the science', 'the way', 'the world', 'the write', 'theater', 'their', 'their own', 'their world', 'them', 'themselves', 'therapy', 'there', 'there be', 'there no', 'these', 'they', 'they will', 'they work', 'thing', 'things', 'think', 'thinkers', 'thinking', 'thinking through', 'third', 'third grade', 'third graders', 'this', 'those', 'thought', 'thoughts', 'thousand', 'thousand words', 'three', 'thrive', 'through', 'through art', 'through books', 'through literacy', 'through literature', 'through movement', 'through play', 'through reading', 'through stem', 'through technology', 'tidy', 'tigers', 'tiles', 'time', 'time for', 'time kids', 'time to', 'times', 'tiny', 'title', 'tk', 'to', 'to be', 'to go', 'to help', 'to learn', 'to make', 'to move', 'to read', 'to succeed', 'to success', 'to the', 'today', 'today keeps', 'today reader', 'together', 'tomorrow', 'tomorrow leader', 'too', 'tool', 'tools', 'tools success', 'toon', 'toon books', 'toon graphics', 'top', 'totally', 'tots', 'touch', 'toward', 'towards', 'toys', 'track', 'tracking', 'traditional', 'train', 'training', 'transform', 'transforming', 'travel', 'traveling', 'treasure', 'tree', 'trip', 'trips', 'true', 'trying', 'tummies', 'tune', 'turn', 'turning', 'tv', 'twenty', 'twist', 'two', 'type', 'ukulele', 'ukuleles', 'ultimate', 'under', 'understand', 'understanding', 'unique', 'unit', 'unite', 'up', 'up close', 'up for', 'up learn', 'up learning', 'up our', 'up reading', 'up with', 'update', 'upgrade', 'urban', 'us', 'us become', 'us build', 'us create', 'us focus', 'us get', 'us grow', 'us learn', 'us make', 'us move', 'us moving', 'us play', 'us read', 'us stay', 'us succeed', 'us with', 'use', 'use technology', 'using', 'using ipads', 'using technology', 'utilizing', 'very', 'vex', 'via', 'video', 'videos', 'view', 'virtual', 'virtual reality', 'visual', 'visual learners', 'visualize', 'visualizing', 'visuals', 'vocabulary', 'voice', 'voices', 'volleyball', 'wait', 'walk', 'walking', 'wall', 'walls', 'want', 'want learn', 'want read', 'want to', 'wanted', 'wants', 'war', 'warm', 'was', 'watch', 'watch me', 'watch us', 'water', 'wave', 'way', 'way into', 'way learn', 'way learning', 'way success', 'way through', 'way to', 'ways', 'we', 'we all', 'we are', 'we ca', 'we can', 'we come', 'we do', 'we go', 'we got', 'we have', 'we just', 'we learn', 'we like', 'we love', 'we move', 'we need', 'we read', 'we want', 'we will', 'we work', 'we would', 'weather', 'weight', 'welcome', 'welcoming', 'well', 'wellness', 'what', 'what hear', 'what see', 'what we', 'what you', 'wheels', 'when', 'when you', 'where', 'while', 'while learning', 'while they', 'while we', 'while you', 'white', 'white boards', 'whiteboard', 'whiteboards', 'who', 'whole', 'why', 'wide', 'wiggle', 'wiggle learn', 'wiggle room', 'wiggle seats', 'wiggle while', 'wiggle wiggle', 'wiggle wobble', 'wiggle work', 'wiggle worms', 'wiggles', 'wiggles out', 'wiggling', 'wiggling our', 'wiggling while', 'wiggly', 'wiggly students', 'wii', 'wild', 'will', 'will be', 'will go', 'will help', 'will learn', 'win', 'wind', 'window', 'winning', 'winter', 'wireless', 'wish', 'with', 'with art', 'with autism', 'with books', 'with chrome', 'with chromebooks', 'with flexible', 'with good', 'with ipad', 'with ipads', 'with it', 'with learning', 'with legos', 'with movement', 'with my', 'with new', 'with osmo', 'with our', 'with reading', 'with special', 'with stem', 'with supplies', 'with technology', 'with the', 'with us', 'within', 'without', 'wizards', 'wo', 'wo not', 'wobble', 'wobble baby', 'wobble chairs', 'wobble learn', 'wobble stools', 'wobble while', 'wobble wobble', 'wobble work', 'wobbles', 'wobbling', 'wobbling our', 'wobbly', 'women', 'wonder', 'wonderful', 'wonderful world', 'wonders', 'word', 'words', 'work', 'work space', 'workers', 'working', 'works', 'worksheets', 'workshop', 'world', 'world around', 'world history', 'world our', 'world technology', 'world through', 'world with', 'worlds', 'worms', 'worth', 'worth thousand', 'would', 'would love', 'wow', 'write', 'write it', 'write on', 'write stuff', 'writer', 'writers', 'writers need', 'writing', 'writing center', 'writing skills', 'written', 'xylophone', 'ye', 'ye hear', 'year', 'year new', 'year off', 'year right', 'year teacher', 'yearbook', 'yes', 'yes please', 'yes we', 'yoga', 'yoga ball', 'you', 'you ca', 'you can', 'you go', 'you hear', 'you help', 'you know', 'you learn', 'you read', 'you see', 'you will', 'you work', 'young', 'young artists', 'young authors', 'young learners', 'young minds', 'young readers', 'young scientists', 'your', 'your help', 'your mind', 'your own', 'your seat', 'your way', 'yourself', 'youth', 'zone']\n"
     ]
    }
   ],
   "source": [
    "# BOW on clean_titles\n",
    "\n",
    "from sklearn.feature_extraction.text import CountVectorizer\n",
    "vectorizer8 = CountVectorizer(min_df=10,ngram_range=(1,2),max_features=10000)\n",
    "vectorizer8.fit(x_train['cleaned_title_text'].values) # fit has to happen only on train data\n",
    "\n",
    "# we use the fitted CountVectorizer to convert the text to vector\n",
    "x_train_titles_bow = vectorizer8.transform(x_train['cleaned_title_text'].values)\n",
    "#x_cv_titles_bow = vectorizer.transform(x_cv['cleaned_title_text'].values)\n",
    "x_test_titles_bow = vectorizer8.transform(x_test['cleaned_title_text'].values)\n",
    "\n",
    "print(\"After vectorizations\")\n",
    "print(x_train_titles_bow.shape, y_train.shape)\n",
    "#print(x_cv_titles_bow.shape, y_cv.shape)\n",
    "print(x_test_titles_bow.shape, y_test.shape)\n",
    "print(\"=\"*100)\n",
    "print(vectorizer8.get_feature_names())"
   ]
  },
  {
   "cell_type": "code",
   "execution_count": 44,
   "metadata": {},
   "outputs": [
    {
     "name": "stdout",
     "output_type": "stream",
     "text": [
      "Final Data matrix\n",
      "(40000, 13239) (40000,)\n",
      "(10000, 13239) (10000,)\n",
      "====================================================================================================\n"
     ]
    }
   ],
   "source": [
    "# CONCATINATE all features of BOW\n",
    "\n",
    "\n",
    "from scipy.sparse import hstack\n",
    "X_train_bow = hstack((x_train_essay_bow,x_train_titles_bow,x_train_clean_cat_ohe,x_train_clean_subcat_ohe, x_train_state_ohe, x_train_teacher_pre, x_train_grade_ohe, x_train_price_norm,x_train_teacher_previously_norm,x_train_quantity_norm)).tocsr()\n",
    "\n",
    "X_test_bow = hstack((x_test_essay_bow,x_test_titles_bow,x_test_clean_cat_ohe,x_test_clean_subcat_ohe, x_test_state_ohe, x_test_teacher_pre, x_test_grade_ohe, x_test_price_norm,x_test_teacher_previously_norm,x_test_quantity_norm)).tocsr()\n",
    "\n",
    "print(\"Final Data matrix\")\n",
    "print(X_train_bow.shape, y_train.shape)\n",
    "#print(X_cv.shape, y_cv.shape)\n",
    "print(X_test_bow.shape, y_test.shape)\n",
    "print(\"=\"*100)"
   ]
  },
  {
   "cell_type": "code",
   "execution_count": 45,
   "metadata": {
    "scrolled": true
   },
   "outputs": [
    {
     "name": "stdout",
     "output_type": "stream",
     "text": [
      "Fitting 5 folds for each of 9 candidates, totalling 45 fits\n"
     ]
    },
    {
     "name": "stderr",
     "output_type": "stream",
     "text": [
      "[Parallel(n_jobs=4)]: Using backend LokyBackend with 4 concurrent workers.\n",
      "[Parallel(n_jobs=4)]: Done   1 tasks      | elapsed:  3.9min\n",
      "[Parallel(n_jobs=4)]: Done   2 tasks      | elapsed:  4.0min\n",
      "[Parallel(n_jobs=4)]: Done   3 tasks      | elapsed:  4.1min\n",
      "[Parallel(n_jobs=4)]: Done   4 tasks      | elapsed:  4.1min\n",
      "[Parallel(n_jobs=4)]: Done   5 tasks      | elapsed:  7.2min\n",
      "[Parallel(n_jobs=4)]: Done   6 tasks      | elapsed:  7.4min\n",
      "[Parallel(n_jobs=4)]: Done   7 tasks      | elapsed:  7.5min\n",
      "[Parallel(n_jobs=4)]: Done   8 tasks      | elapsed:  7.6min\n",
      "[Parallel(n_jobs=4)]: Done   9 tasks      | elapsed: 10.5min\n",
      "[Parallel(n_jobs=4)]: Done  10 tasks      | elapsed: 10.8min\n",
      "[Parallel(n_jobs=4)]: Done  11 tasks      | elapsed: 10.9min\n",
      "[Parallel(n_jobs=4)]: Done  12 tasks      | elapsed: 11.0min\n",
      "[Parallel(n_jobs=4)]: Done  13 tasks      | elapsed: 13.9min\n",
      "[Parallel(n_jobs=4)]: Done  14 tasks      | elapsed: 14.1min\n",
      "[Parallel(n_jobs=4)]: Done  15 tasks      | elapsed: 14.2min\n",
      "[Parallel(n_jobs=4)]: Done  16 tasks      | elapsed: 14.3min\n",
      "[Parallel(n_jobs=4)]: Done  17 tasks      | elapsed: 17.4min\n",
      "[Parallel(n_jobs=4)]: Done  18 tasks      | elapsed: 17.5min\n",
      "[Parallel(n_jobs=4)]: Done  19 tasks      | elapsed: 17.6min\n",
      "[Parallel(n_jobs=4)]: Done  20 tasks      | elapsed: 17.8min\n",
      "[Parallel(n_jobs=4)]: Done  21 tasks      | elapsed: 21.2min\n",
      "[Parallel(n_jobs=4)]: Done  22 tasks      | elapsed: 21.4min\n",
      "[Parallel(n_jobs=4)]: Done  23 tasks      | elapsed: 21.4min\n",
      "[Parallel(n_jobs=4)]: Done  24 tasks      | elapsed: 21.6min\n",
      "[Parallel(n_jobs=4)]: Done  25 tasks      | elapsed: 24.9min\n",
      "[Parallel(n_jobs=4)]: Done  26 tasks      | elapsed: 24.9min\n",
      "[Parallel(n_jobs=4)]: Done  27 tasks      | elapsed: 25.0min\n",
      "[Parallel(n_jobs=4)]: Done  28 tasks      | elapsed: 25.2min\n",
      "[Parallel(n_jobs=4)]: Done  29 tasks      | elapsed: 28.3min\n",
      "[Parallel(n_jobs=4)]: Done  30 tasks      | elapsed: 28.5min\n",
      "[Parallel(n_jobs=4)]: Done  31 tasks      | elapsed: 28.5min\n",
      "[Parallel(n_jobs=4)]: Done  32 tasks      | elapsed: 28.8min\n",
      "[Parallel(n_jobs=4)]: Done  33 tasks      | elapsed: 32.0min\n",
      "[Parallel(n_jobs=4)]: Done  34 tasks      | elapsed: 32.0min\n",
      "[Parallel(n_jobs=4)]: Done  35 tasks      | elapsed: 32.1min\n",
      "[Parallel(n_jobs=4)]: Done  36 tasks      | elapsed: 32.5min\n",
      "[Parallel(n_jobs=4)]: Done  37 tasks      | elapsed: 36.0min\n",
      "[Parallel(n_jobs=4)]: Done  38 tasks      | elapsed: 36.0min\n",
      "[Parallel(n_jobs=4)]: Done  41 out of  45 | elapsed: 40.3min remaining:  3.9min\n",
      "[Parallel(n_jobs=4)]: Done  45 out of  45 | elapsed: 42.5min finished\n"
     ]
    },
    {
     "data": {
      "text/plain": [
       "GridSearchCV(cv=5, error_score='raise-deprecating',\n",
       "       estimator=KNeighborsClassifier(algorithm='auto', leaf_size=30, metric='minkowski',\n",
       "           metric_params=None, n_jobs=None, n_neighbors=5, p=2,\n",
       "           weights='uniform'),\n",
       "       fit_params=None, iid='warn', n_jobs=4,\n",
       "       param_grid={'n_neighbors': [1, 5, 10, 15, 21, 31, 41, 51, 60]},\n",
       "       pre_dispatch='2*n_jobs', refit=True, return_train_score='warn',\n",
       "       scoring='roc_auc', verbose=22)"
      ]
     },
     "execution_count": 45,
     "metadata": {},
     "output_type": "execute_result"
    }
   ],
   "source": [
    "from sklearn.model_selection import GridSearchCV\n",
    "from sklearn.neighbors import KNeighborsClassifier\n",
    "\n",
    "params ={ 'n_neighbors': [1, 5, 10, 15, 21, 31, 41, 51, 60]}\n",
    "\n",
    "estimator1 = KNeighborsClassifier()\n",
    "Research1 =GridSearchCV(estimator1,param_grid = params,cv= 5,scoring = 'roc_auc',verbose=22,n_jobs=4)\n",
    "Research1.fit(X_train_bow,y_train)"
   ]
  },
  {
   "cell_type": "code",
   "execution_count": 47,
   "metadata": {},
   "outputs": [
    {
     "name": "stdout",
     "output_type": "stream",
     "text": [
      "0.6158171196398929\n",
      "best  k =  60\n"
     ]
    }
   ],
   "source": [
    "print(Research1.best_score_)\n",
    "n1=Research1.best_params_['n_neighbors']\n",
    "print('best  k = ',n1)"
   ]
  },
  {
   "cell_type": "markdown",
   "metadata": {},
   "source": [
    "# Performance Plot"
   ]
  },
  {
   "cell_type": "code",
   "execution_count": 48,
   "metadata": {},
   "outputs": [
    {
     "data": {
      "image/png": "[encoded data removed]",
      "text/plain": [
       "<Figure size 432x288 with 1 Axes>"
      ]
     },
     "metadata": {
      "needs_background": "light"
     },
     "output_type": "display_data"
    }
   ],
   "source": [
    "train_auc1= Research1.cv_results_['mean_train_score']\n",
    "train_auc_std1= Research1.cv_results_['std_train_score']\n",
    "cv_auc1 = Research1.cv_results_['mean_test_score'] \n",
    "cv_auc_std1= Research1.cv_results_['std_test_score']\n",
    "\n",
    "plt.plot(params['n_neighbors'], train_auc1, label='Train AUC')\n",
    "\n",
    "# this code is copied from here: https://stackoverflow.com/a/48803361/4084039\n",
    "plt.gca().fill_between(params['n_neighbors'],train_auc1 - train_auc_std1,train_auc1 + train_auc_std1,alpha=0.2,color='darkblue')\n",
    "# create a shaded area between [mean - std, mean + std]\n",
    "\n",
    "plt.plot(params['n_neighbors'], cv_auc1, label='CV AUC')\n",
    "# this code is copied from here: https://stackoverflow.com/a/48803361/4084039\n",
    "plt.gca().fill_between(params['n_neighbors'],cv_auc1 - cv_auc_std1,cv_auc1 + cv_auc_std1,alpha=0.2,color='darkorange')\n",
    "\n",
    "plt.scatter(params['n_neighbors'], train_auc1, label='Train AUC points')\n",
    "plt.scatter(params['n_neighbors'], cv_auc1, label='CV AUC points')\n",
    "\n",
    "\n",
    "plt.legend()\n",
    "plt.xlabel(\"K: hyperparameter\")\n",
    "plt.ylabel(\"AUC\")\n",
    "plt.title(\"ERROR PLOTS\")\n",
    "plt.grid()\n",
    "plt.show()"
   ]
  },
  {
   "cell_type": "markdown",
   "metadata": {},
   "source": [
    "<h1>Train new model on best params"
   ]
  },
  {
   "cell_type": "code",
   "execution_count": 47,
   "metadata": {},
   "outputs": [
    {
     "data": {
      "text/plain": [
       "KNeighborsClassifier(algorithm='auto', leaf_size=30, metric='minkowski',\n",
       "           metric_params=None, n_jobs=None, n_neighbors=60, p=2,\n",
       "           weights='uniform')"
      ]
     },
     "execution_count": 47,
     "metadata": {},
     "output_type": "execute_result"
    }
   ],
   "source": [
    "from sklearn.neighbors import KNeighborsClassifier\n",
    "\n",
    "model_new1 = KNeighborsClassifier(n_neighbors = n1)\n",
    "model_new1.fit(X_train_bow,y_train)"
   ]
  },
  {
   "cell_type": "markdown",
   "metadata": {},
   "source": [
    "# ROC Curve"
   ]
  },
  {
   "cell_type": "code",
   "execution_count": 48,
   "metadata": {},
   "outputs": [
    {
     "data": {
      "image/png": "[encoded data removed]",
      "text/plain": [
       "<Figure size 432x288 with 1 Axes>"
      ]
     },
     "metadata": {
      "needs_background": "light"
     },
     "output_type": "display_data"
    }
   ],
   "source": [
    "from  sklearn.metrics import roc_curve\n",
    "from sklearn.metrics import auc\n",
    "import matplotlib.pyplot as plt\n",
    "\n",
    "\n",
    "score_roc_train = model_new1.predict_proba(X_train_bow)\n",
    "fpr_train, tpr_train, threshold_train = roc_curve(y_train, score_roc_train[:,1])\n",
    "roc_auc_train = auc(fpr_train, tpr_train)\n",
    "\n",
    "score_roc_test = model_new1.predict_proba(X_test_bow)\n",
    "fpr_test, tpr_test, threshold_test = roc_curve(y_test, score_roc_test[:,1])\n",
    "roc_auc_test = auc(fpr_test, tpr_test)\n",
    "\n",
    "\n",
    "plt.plot(fpr_train, tpr_train, label = \"Train_AUC\"+str(auc(fpr_train, tpr_train)))\n",
    "plt.plot(fpr_test, tpr_test, label = \"Test_AUC\"+str(auc(fpr_test, tpr_test)))\n",
    "plt.legend(loc = 'lower right')\n",
    "\n",
    "plt.plot([0, 1], [0, 1],'r--')\n",
    "plt.xlim([0, 1])\n",
    "plt.ylim([0, 1])\n",
    "\n",
    "plt.ylabel('True Positive Rate')\n",
    "plt.xlabel('False Positive Rate')\n",
    "plt.title('ROC Curve of KNN ')\n",
    "plt.show()\n"
   ]
  },
  {
   "cell_type": "markdown",
   "metadata": {},
   "source": [
    "<h1>Confusion_Matrix"
   ]
  },
  {
   "cell_type": "code",
   "execution_count": 49,
   "metadata": {},
   "outputs": [],
   "source": [
    "y_train_pred = model_new1.predict(X_train_bow)\n",
    "\n",
    "y_test_pred = model_new1.predict(X_test_bow)"
   ]
  },
  {
   "cell_type": "code",
   "execution_count": 50,
   "metadata": {},
   "outputs": [],
   "source": [
    "# we are defining are own function for use probabilities to plot confusion matrix\n",
    "# we have to plot confusion matrix at least fpr and high tpr values\n",
    "\n",
    "def predict(proba,threshold,fpr,tpr):\n",
    "    \n",
    "    t = threshold[np.argmax(tpr*(1-fpr))]\n",
    "    # (tpr*(1-fpr)) will be maximum if your fpr is very low and tpr is very high\n",
    "     \n",
    "    print(\"the maximum value of tpr*(1-fpr)\", max(tpr*(1-fpr)), \"for threshold\", np.round(t,3))\n",
    "    \n",
    "\n",
    "    predictions = []\n",
    "    for i in proba:\n",
    "        if i>=t:\n",
    "            predictions.append(1)\n",
    "        else:\n",
    "            predictions.append(0)\n",
    "    return predictions\n",
    "    \n"
   ]
  },
  {
   "cell_type": "code",
   "execution_count": 51,
   "metadata": {},
   "outputs": [
    {
     "name": "stdout",
     "output_type": "stream",
     "text": [
      "Train confusion matrix\n",
      "the maximum value of tpr*(1-fpr) 0.4025260897956219 for threshold 0.8\n"
     ]
    },
    {
     "data": {
      "text/plain": [
       "Text(0.5, 1.0, 'Confusion Matrix\\n')"
      ]
     },
     "execution_count": 51,
     "metadata": {},
     "output_type": "execute_result"
    },
    {
     "data": {
      "image/png": "[encoded data removed]",
      "text/plain": [
       "<Figure size 432x288 with 2 Axes>"
      ]
     },
     "metadata": {
      "needs_background": "light"
     },
     "output_type": "display_data"
    }
   ],
   "source": [
    "from sklearn.metrics import confusion_matrix\n",
    "\n",
    "ax = plt.subplot()\n",
    "\n",
    "print(\"Train confusion matrix\")\n",
    "cnn_train = confusion_matrix(y_train, predict(y_train_pred, threshold_train, fpr_train, tpr_train))\n",
    "sns.heatmap(cnn_train,annot = True,ax=ax,fmt='d')\n",
    "\n",
    "\n",
    "\n",
    "\n",
    "ax.set_xlabel('Predicted label')\n",
    "ax.set_ylabel('True label')\n",
    "ax.xaxis.set_ticklabels(['negative','positive'])\n",
    "ax.yaxis.set_ticklabels(['negative','positive'])\n",
    "plt.title('Confusion Matrix\\n')"
   ]
  },
  {
   "cell_type": "code",
   "execution_count": 52,
   "metadata": {},
   "outputs": [
    {
     "name": "stdout",
     "output_type": "stream",
     "text": [
      "Test confusion matrix\n",
      "the maximum value of tpr*(1-fpr) 0.3360621005737634 for threshold 0.817\n"
     ]
    },
    {
     "data": {
      "text/plain": [
       "Text(0.5, 1.0, 'Confusion Matrix\\n')"
      ]
     },
     "execution_count": 52,
     "metadata": {},
     "output_type": "execute_result"
    },
    {
     "data": {
      "image/png": "[encoded data removed]",
      "text/plain": [
       "<Figure size 432x288 with 2 Axes>"
      ]
     },
     "metadata": {
      "needs_background": "light"
     },
     "output_type": "display_data"
    }
   ],
   "source": [
    "ax = plt.subplot()\n",
    "\n",
    "print(\"Test confusion matrix\")\n",
    "cnn_test = confusion_matrix(y_test, predict(y_test_pred, threshold_test, fpr_test, tpr_test))\n",
    "sns.heatmap(cnn_test,annot = True,ax=ax,fmt='d')\n",
    "\n",
    "ax.set_xlabel('Predicted label')\n",
    "ax.set_ylabel('True label')\n",
    "ax.xaxis.set_ticklabels(['negative','positive'])\n",
    "ax.yaxis.set_ticklabels(['negative','positive'])\n",
    "plt.title('Confusion Matrix\\n')"
   ]
  },
  {
   "cell_type": "markdown",
   "metadata": {},
   "source": [
    "<h1>Classification Report"
   ]
  },
  {
   "cell_type": "code",
   "execution_count": 53,
   "metadata": {},
   "outputs": [
    {
     "name": "stdout",
     "output_type": "stream",
     "text": [
      "_____________________________________________________________________________________________________\n",
      "Classification Report: \n",
      "\n"
     ]
    },
    {
     "name": "stderr",
     "output_type": "stream",
     "text": [
      "C:\\Users\\MERCER\\Anaconda3\\lib\\site-packages\\sklearn\\metrics\\classification.py:1143: UndefinedMetricWarning: Precision and F-score are ill-defined and being set to 0.0 in labels with no predicted samples.\n",
      "  'precision', 'predicted', average, warn_for)\n",
      "C:\\Users\\MERCER\\Anaconda3\\lib\\site-packages\\sklearn\\metrics\\classification.py:1143: UndefinedMetricWarning: Precision and F-score are ill-defined and being set to 0.0 in labels with no predicted samples.\n",
      "  'precision', 'predicted', average, warn_for)\n",
      "C:\\Users\\MERCER\\Anaconda3\\lib\\site-packages\\sklearn\\metrics\\classification.py:1143: UndefinedMetricWarning: Precision and F-score are ill-defined and being set to 0.0 in labels with no predicted samples.\n",
      "  'precision', 'predicted', average, warn_for)\n"
     ]
    },
    {
     "name": "stdout",
     "output_type": "stream",
     "text": [
      "              precision    recall  f1-score   support\n",
      "\n",
      "           0       0.00      0.00      0.00      1514\n",
      "           1       0.85      1.00      0.92      8486\n",
      "\n",
      "   micro avg       0.85      0.85      0.85     10000\n",
      "   macro avg       0.42      0.50      0.46     10000\n",
      "weighted avg       0.72      0.85      0.78     10000\n",
      "\n",
      "_____________________________________________________________________________________________________\n"
     ]
    }
   ],
   "source": [
    "from sklearn.metrics import classification_report\n",
    "print(\"_\" * 101)\n",
    "print(\"Classification Report: \\n\")\n",
    "print(classification_report(y_test,y_test_pred))\n",
    "print(\"_\" * 101)\n"
   ]
  },
  {
   "cell_type": "markdown",
   "metadata": {},
   "source": [
    "# SET 2 : TF-IDF"
   ]
  },
  {
   "cell_type": "code",
   "execution_count": 54,
   "metadata": {},
   "outputs": [
    {
     "name": "stdout",
     "output_type": "stream",
     "text": [
      "Shape of matrix after one hot encodig  (40000, 10000)\n",
      "Shape of matrix after one hot encodig  (10000, 10000)\n"
     ]
    }
   ],
   "source": [
    "# On Clean Essay\n",
    "\n",
    "from sklearn.feature_extraction.text import TfidfVectorizer\n",
    "vectorizer8 = TfidfVectorizer(min_df=10,ngram_range = (1,2),max_features=10000)\n",
    "preprocessed_essays_xtr_tfidf = vectorizer8.fit_transform(x_train['cleaned_essay'])\n",
    "print(\"Shape of matrix after one hot encodig \",preprocessed_essays_xtr_tfidf.shape)\n",
    "\n",
    "preprocessed_essays_xtest_tfidf = vectorizer8.transform(x_test['cleaned_essay'])\n",
    "print(\"Shape of matrix after one hot encodig \",preprocessed_essays_xtest_tfidf.shape)"
   ]
  },
  {
   "cell_type": "code",
   "execution_count": 55,
   "metadata": {},
   "outputs": [
    {
     "name": "stdout",
     "output_type": "stream",
     "text": [
      "Shape of matrix after one hot encodig  (40000, 3136)\n",
      "Shape of matrix after one hot encodig  (10000, 3136)\n"
     ]
    }
   ],
   "source": [
    "# On Clean_title \n",
    "\n",
    "vectorizer9 = TfidfVectorizer(min_df=10,ngram_range = (1,2),max_features=10000)\n",
    "preprocessed_title_xtr_tfidf = vectorizer9.fit_transform(x_train['cleaned_title_text'])\n",
    "print(\"Shape of matrix after one hot encodig \",preprocessed_title_xtr_tfidf.shape)\n",
    "\n",
    "preprocessed_title_xtest_tfidf = vectorizer9.transform(x_test['cleaned_title_text'])\n",
    "print(\"Shape of matrix after one hot encodig \",preprocessed_title_xtest_tfidf.shape)"
   ]
  },
  {
   "cell_type": "code",
   "execution_count": 93,
   "metadata": {},
   "outputs": [],
   "source": [
    "# Concatenate TFIDF\n",
    "\n",
    "X_train_tfidf=hstack((preprocessed_essays_xtr_tfidf,preprocessed_title_xtr_tfidf,x_train_clean_cat_ohe,x_train_clean_subcat_ohe,x_train_state_ohe,x_train_teacher_pre,x_train_grade_ohe,x_train_price_norm,x_train_teacher_previously_norm\n",
    "                   ,x_train_quantity_norm )).tocsr()\n",
    "#X_cv_tfidf=hstack((preprocessed_essays_xcv_tfidf,preprocessed_title_xcv_tfidf,x_cv_clean_cat_ohe,x_cv_clean_subcat_ohe, x_cv_state_ohe, x_cv_teacher_pre, x_cv_grade_ohe, x_cv_price_std,x_cv_teacher_previously_std))\n",
    "                 \n",
    "X_test_tfidf=hstack((preprocessed_essays_xtest_tfidf,preprocessed_title_xtest_tfidf,x_test_clean_cat_ohe,x_test_clean_subcat_ohe, x_test_state_ohe, x_test_teacher_pre, x_test_grade_ohe, x_test_price_norm,x_test_teacher_previously_norm\n",
    "                    \n",
    "                ,x_test_quantity_norm   )).tocsr()"
   ]
  },
  {
   "cell_type": "code",
   "execution_count": 49,
   "metadata": {},
   "outputs": [
    {
     "name": "stdout",
     "output_type": "stream",
     "text": [
      "Fitting 5 folds for each of 9 candidates, totalling 45 fits\n"
     ]
    },
    {
     "name": "stderr",
     "output_type": "stream",
     "text": [
      "[Parallel(n_jobs=3)]: Using backend LokyBackend with 3 concurrent workers.\n",
      "[Parallel(n_jobs=3)]: Done   1 tasks      | elapsed:  3.5min\n",
      "[Parallel(n_jobs=3)]: Done   2 tasks      | elapsed:  3.6min\n",
      "[Parallel(n_jobs=3)]: Done   3 tasks      | elapsed:  3.6min\n",
      "[Parallel(n_jobs=3)]: Done   4 tasks      | elapsed:  6.3min\n",
      "[Parallel(n_jobs=3)]: Done   5 tasks      | elapsed:  6.4min\n",
      "[Parallel(n_jobs=3)]: Done   6 tasks      | elapsed:  6.6min\n",
      "[Parallel(n_jobs=3)]: Done   7 tasks      | elapsed:  9.0min\n",
      "[Parallel(n_jobs=3)]: Done   8 tasks      | elapsed:  9.1min\n",
      "[Parallel(n_jobs=3)]: Done   9 tasks      | elapsed:  9.3min\n",
      "[Parallel(n_jobs=3)]: Done  10 tasks      | elapsed: 12.1min\n",
      "[Parallel(n_jobs=3)]: Done  11 tasks      | elapsed: 12.2min\n",
      "[Parallel(n_jobs=3)]: Done  12 tasks      | elapsed: 12.3min\n",
      "[Parallel(n_jobs=3)]: Done  13 tasks      | elapsed: 15.1min\n",
      "[Parallel(n_jobs=3)]: Done  14 tasks      | elapsed: 15.2min\n",
      "[Parallel(n_jobs=3)]: Done  15 tasks      | elapsed: 15.3min\n",
      "[Parallel(n_jobs=3)]: Done  16 tasks      | elapsed: 18.1min\n",
      "[Parallel(n_jobs=3)]: Done  17 tasks      | elapsed: 18.1min\n",
      "[Parallel(n_jobs=3)]: Done  18 tasks      | elapsed: 18.3min\n",
      "[Parallel(n_jobs=3)]: Done  19 tasks      | elapsed: 21.1min\n",
      "[Parallel(n_jobs=3)]: Done  20 tasks      | elapsed: 21.2min\n",
      "[Parallel(n_jobs=3)]: Done  21 tasks      | elapsed: 21.3min\n",
      "[Parallel(n_jobs=3)]: Done  22 tasks      | elapsed: 24.2min\n",
      "[Parallel(n_jobs=3)]: Done  23 tasks      | elapsed: 24.3min\n",
      "[Parallel(n_jobs=3)]: Done  24 tasks      | elapsed: 24.4min\n",
      "[Parallel(n_jobs=3)]: Done  25 tasks      | elapsed: 27.2min\n",
      "[Parallel(n_jobs=3)]: Done  26 tasks      | elapsed: 27.2min\n",
      "[Parallel(n_jobs=3)]: Done  27 tasks      | elapsed: 27.3min\n",
      "[Parallel(n_jobs=3)]: Done  28 tasks      | elapsed: 29.5min\n",
      "[Parallel(n_jobs=3)]: Done  29 tasks      | elapsed: 29.6min\n",
      "[Parallel(n_jobs=3)]: Done  30 tasks      | elapsed: 29.7min\n",
      "[Parallel(n_jobs=3)]: Done  31 tasks      | elapsed: 31.8min\n",
      "[Parallel(n_jobs=3)]: Done  32 tasks      | elapsed: 31.9min\n",
      "[Parallel(n_jobs=3)]: Done  33 tasks      | elapsed: 32.0min\n",
      "[Parallel(n_jobs=3)]: Done  34 tasks      | elapsed: 34.2min\n",
      "[Parallel(n_jobs=3)]: Done  35 tasks      | elapsed: 34.2min\n",
      "[Parallel(n_jobs=3)]: Done  36 tasks      | elapsed: 34.3min\n",
      "[Parallel(n_jobs=3)]: Done  37 tasks      | elapsed: 36.5min\n",
      "[Parallel(n_jobs=3)]: Done  38 tasks      | elapsed: 36.5min\n",
      "[Parallel(n_jobs=3)]: Done  39 tasks      | elapsed: 36.6min\n",
      "[Parallel(n_jobs=3)]: Done  40 tasks      | elapsed: 38.8min\n",
      "[Parallel(n_jobs=3)]: Done  43 out of  45 | elapsed: 41.3min remaining:  1.9min\n",
      "[Parallel(n_jobs=3)]: Done  45 out of  45 | elapsed: 41.4min finished\n"
     ]
    },
    {
     "data": {
      "text/plain": [
       "GridSearchCV(cv=5, error_score='raise-deprecating',\n",
       "       estimator=KNeighborsClassifier(algorithm='auto', leaf_size=30, metric='minkowski',\n",
       "           metric_params=None, n_jobs=None, n_neighbors=5, p=2,\n",
       "           weights='uniform'),\n",
       "       fit_params=None, iid='warn', n_jobs=3,\n",
       "       param_grid={'n_neighbors': [1, 5, 10, 15, 21, 31, 41, 51, 60]},\n",
       "       pre_dispatch='2*n_jobs', refit=True, return_train_score='warn',\n",
       "       scoring='roc_auc', verbose=22)"
      ]
     },
     "execution_count": 49,
     "metadata": {},
     "output_type": "execute_result"
    }
   ],
   "source": [
    "from sklearn.model_selection import GridSearchCV\n",
    "from sklearn.neighbors import KNeighborsClassifier\n",
    "\n",
    "params ={ 'n_neighbors': [1, 5, 10, 15, 21, 31, 41, 51, 60]}\n",
    "\n",
    "estimator2 = KNeighborsClassifier()\n",
    "Research2 =GridSearchCV(estimator2 ,param_grid = params,cv= 5 ,scoring = 'roc_auc',verbose=22,n_jobs=3)\n",
    "Research2.fit(X_train_tfidf,y_train)"
   ]
  },
  {
   "cell_type": "code",
   "execution_count": 50,
   "metadata": {},
   "outputs": [
    {
     "name": "stdout",
     "output_type": "stream",
     "text": [
      "0.5701250908593548\n",
      "best  k =  60\n"
     ]
    }
   ],
   "source": [
    "print(Research2.best_score_)\n",
    "n2=Research2.best_params_['n_neighbors']\n",
    "print('best  k = ',n2)"
   ]
  },
  {
   "cell_type": "markdown",
   "metadata": {},
   "source": [
    "# Performance Plot"
   ]
  },
  {
   "cell_type": "code",
   "execution_count": 51,
   "metadata": {},
   "outputs": [
    {
     "data": {
      "image/png": "[encoded data removed]",
      "text/plain": [
       "<Figure size 432x288 with 1 Axes>"
      ]
     },
     "metadata": {
      "needs_background": "light"
     },
     "output_type": "display_data"
    }
   ],
   "source": [
    "train_auc2= Research2.cv_results_['mean_train_score']\n",
    "train_auc_std2= Research2.cv_results_['std_train_score']\n",
    "cv_auc2 = Research2.cv_results_['mean_test_score'] \n",
    "cv_auc_std2 = Research2.cv_results_['std_test_score']\n",
    "\n",
    "plt.plot(params['n_neighbors'], train_auc2, label='Train AUC')\n",
    "\n",
    "# this code is copied from here: https://stackoverflow.com/a/48803361/4084039\n",
    "plt.gca().fill_between(params['n_neighbors'],train_auc2 - train_auc_std2,train_auc2 + train_auc_std2,alpha=0.2,color='darkblue')\n",
    "# create a shaded area between [mean - std, mean + std]\n",
    "\n",
    "plt.plot(params['n_neighbors'], cv_auc2, label='CV AUC')\n",
    "# this code is copied from here: https://stackoverflow.com/a/48803361/4084039\n",
    "plt.gca().fill_between(params['n_neighbors'],cv_auc2 - cv_auc_std2,cv_auc2 + cv_auc_std2,alpha=0.2,color='darkorange')\n",
    "\n",
    "plt.scatter(params['n_neighbors'], train_auc2, label='Train AUC points')\n",
    "plt.scatter(params['n_neighbors'], cv_auc2, label='CV AUC points')\n",
    "\n",
    "\n",
    "plt.legend()\n",
    "plt.xlabel(\"K: hyperparameter\")\n",
    "plt.ylabel(\"AUC\")\n",
    "plt.title(\"ERROR PLOTS\")\n",
    "plt.grid()\n",
    "plt.show()"
   ]
  },
  {
   "cell_type": "markdown",
   "metadata": {},
   "source": [
    "<h1>Train new model on best params"
   ]
  },
  {
   "cell_type": "code",
   "execution_count": 57,
   "metadata": {},
   "outputs": [
    {
     "data": {
      "text/plain": [
       "KNeighborsClassifier(algorithm='auto', leaf_size=30, metric='minkowski',\n",
       "           metric_params=None, n_jobs=None, n_neighbors=60, p=2,\n",
       "           weights='uniform')"
      ]
     },
     "execution_count": 57,
     "metadata": {},
     "output_type": "execute_result"
    }
   ],
   "source": [
    "model_new_tfidf = KNeighborsClassifier(n_neighbors = n2)\n",
    "model_new_tfidf.fit(X_train_tfidf,y_train)"
   ]
  },
  {
   "cell_type": "markdown",
   "metadata": {},
   "source": [
    "# ROC curve"
   ]
  },
  {
   "cell_type": "code",
   "execution_count": 58,
   "metadata": {},
   "outputs": [
    {
     "data": {
      "image/png": "[encoded data removed]",
      "text/plain": [
       "<Figure size 432x288 with 1 Axes>"
      ]
     },
     "metadata": {
      "needs_background": "light"
     },
     "output_type": "display_data"
    }
   ],
   "source": [
    "from  sklearn.metrics import roc_curve\n",
    "from sklearn.metrics import auc\n",
    "import matplotlib.pyplot as plt\n",
    "\n",
    "\n",
    "score_roc_train = model_new_tfidf.predict_proba(X_train_tfidf)\n",
    "fpr_train, tpr_train, threshold_train = roc_curve(y_train, score_roc_train[:,1])\n",
    "roc_auc_train = auc(fpr_train, tpr_train)\n",
    "\n",
    "score_roc_test = model_new_tfidf.predict_proba(X_test_tfidf)\n",
    "fpr_test, tpr_test, threshold_test = roc_curve(y_test, score_roc_test[:,1])\n",
    "roc_auc_test = auc(fpr_test, tpr_test)\n",
    "\n",
    "\n",
    "plt.plot(fpr_train, tpr_train, label = \"Train_AUC\"+str(auc(fpr_train, tpr_train)))\n",
    "plt.plot(fpr_test, tpr_test, label = \"Test_AUC\"+str(auc(fpr_test, tpr_test)))\n",
    "plt.legend(loc = 'lower right')\n",
    "\n",
    "plt.plot([0, 1], [0, 1],'r--')\n",
    "plt.xlim([0, 1])\n",
    "plt.ylim([0, 1])\n",
    "\n",
    "plt.ylabel('True Positive Rate')\n",
    "plt.xlabel('False Positive Rate')\n",
    "plt.title('ROC Curve of KNN ')\n",
    "plt.show()\n"
   ]
  },
  {
   "cell_type": "markdown",
   "metadata": {},
   "source": [
    "<h1>Confusion_Matrix"
   ]
  },
  {
   "cell_type": "code",
   "execution_count": 59,
   "metadata": {},
   "outputs": [],
   "source": [
    "y_train_pred_tfidf = model_new_tfidf.predict(X_train_tfidf)\n",
    "\n",
    "y_test_pred_tfidf = model_new_tfidf.predict(X_test_tfidf)"
   ]
  },
  {
   "cell_type": "code",
   "execution_count": 60,
   "metadata": {},
   "outputs": [
    {
     "name": "stdout",
     "output_type": "stream",
     "text": [
      "Train confusion matrix\n",
      "the maximum value of tpr*(1-fpr) 0.36479879400367526 for threshold 0.85\n"
     ]
    },
    {
     "data": {
      "text/plain": [
       "Text(0.5, 1.0, 'Confusion Matrix\\n')"
      ]
     },
     "execution_count": 60,
     "metadata": {},
     "output_type": "execute_result"
    },
    {
     "data": {
      "image/png": "[encoded data removed]",
      "text/plain": [
       "<Figure size 432x288 with 2 Axes>"
      ]
     },
     "metadata": {
      "needs_background": "light"
     },
     "output_type": "display_data"
    }
   ],
   "source": [
    "from sklearn.metrics import confusion_matrix\n",
    "\n",
    "ax = plt.subplot()\n",
    "\n",
    "print(\"Train confusion matrix\")\n",
    "cnn_train = confusion_matrix(y_train, predict(y_train_pred_tfidf, threshold_train, fpr_train, tpr_train))\n",
    "sns.heatmap(cnn_train,annot = True,ax=ax,fmt='d')\n",
    "\n",
    "\n",
    "\n",
    "\n",
    "ax.set_xlabel('Predicted label')\n",
    "ax.set_ylabel('True label')\n",
    "ax.xaxis.set_ticklabels(['negative','positive'])\n",
    "ax.yaxis.set_ticklabels(['negative','positive'])\n",
    "plt.title('Confusion Matrix\\n')"
   ]
  },
  {
   "cell_type": "code",
   "execution_count": 61,
   "metadata": {},
   "outputs": [
    {
     "name": "stdout",
     "output_type": "stream",
     "text": [
      "Test confusion matrix\n",
      "the maximum value of tpr*(1-fpr) 0.30551197698844096 for threshold 0.867\n"
     ]
    },
    {
     "data": {
      "text/plain": [
       "Text(0.5, 1.0, 'Confusion Matrix\\n')"
      ]
     },
     "execution_count": 61,
     "metadata": {},
     "output_type": "execute_result"
    },
    {
     "data": {
      "image/png": "[encoded data removed]",
      "text/plain": [
       "<Figure size 432x288 with 2 Axes>"
      ]
     },
     "metadata": {
      "needs_background": "light"
     },
     "output_type": "display_data"
    }
   ],
   "source": [
    "ax = plt.subplot()\n",
    "\n",
    "print(\"Test confusion matrix\")\n",
    "cnn_test = confusion_matrix(y_test, predict(y_test_pred_tfidf, threshold_test, fpr_test, tpr_test))\n",
    "sns.heatmap(cnn_test,annot = True,ax=ax,fmt='d')\n",
    "\n",
    "ax.set_xlabel('Predicted label')\n",
    "ax.set_ylabel('True label')\n",
    "ax.xaxis.set_ticklabels(['negative','positive'])\n",
    "ax.yaxis.set_ticklabels(['negative','positive'])\n",
    "plt.title('Confusion Matrix\\n')"
   ]
  },
  {
   "cell_type": "markdown",
   "metadata": {},
   "source": [
    "# Classification Report"
   ]
  },
  {
   "cell_type": "code",
   "execution_count": 62,
   "metadata": {},
   "outputs": [
    {
     "name": "stdout",
     "output_type": "stream",
     "text": [
      "_____________________________________________________________________________________________________\n",
      "Classification Report: \n",
      "\n"
     ]
    },
    {
     "name": "stderr",
     "output_type": "stream",
     "text": [
      "C:\\Users\\MERCER\\Anaconda3\\lib\\site-packages\\sklearn\\metrics\\classification.py:1143: UndefinedMetricWarning: Precision and F-score are ill-defined and being set to 0.0 in labels with no predicted samples.\n",
      "  'precision', 'predicted', average, warn_for)\n",
      "C:\\Users\\MERCER\\Anaconda3\\lib\\site-packages\\sklearn\\metrics\\classification.py:1143: UndefinedMetricWarning: Precision and F-score are ill-defined and being set to 0.0 in labels with no predicted samples.\n",
      "  'precision', 'predicted', average, warn_for)\n",
      "C:\\Users\\MERCER\\Anaconda3\\lib\\site-packages\\sklearn\\metrics\\classification.py:1143: UndefinedMetricWarning: Precision and F-score are ill-defined and being set to 0.0 in labels with no predicted samples.\n",
      "  'precision', 'predicted', average, warn_for)\n"
     ]
    },
    {
     "name": "stdout",
     "output_type": "stream",
     "text": [
      "              precision    recall  f1-score   support\n",
      "\n",
      "           0       0.00      0.00      0.00      1514\n",
      "           1       0.85      1.00      0.92      8486\n",
      "\n",
      "   micro avg       0.85      0.85      0.85     10000\n",
      "   macro avg       0.42      0.50      0.46     10000\n",
      "weighted avg       0.72      0.85      0.78     10000\n",
      "\n",
      "_____________________________________________________________________________________________________\n"
     ]
    }
   ],
   "source": [
    "from sklearn.metrics import classification_report\n",
    "print(\"_\" * 101)\n",
    "print(\"Classification Report: \\n\")\n",
    "print(classification_report(y_test,y_test_pred_tfidf))\n",
    "print(\"_\" * 101)\n"
   ]
  },
  {
   "cell_type": "markdown",
   "metadata": {},
   "source": [
    "# SET : 3 [AVG -W2V]"
   ]
  },
  {
   "cell_type": "code",
   "execution_count": 63,
   "metadata": {},
   "outputs": [],
   "source": [
    "list_preprocessed_essays_xtr = []\n",
    "for e in x_train['cleaned_essay'].values:\n",
    "    list_preprocessed_essays_xtr.append(e.split())\n",
    "    \n",
    "from gensim.models import Word2Vec\n",
    "preprocessed_essays_xtr_w2v=Word2Vec(list_preprocessed_essays_xtr,min_count=10,size=100,workers = 8)"
   ]
  },
  {
   "cell_type": "code",
   "execution_count": 64,
   "metadata": {},
   "outputs": [
    {
     "name": "stderr",
     "output_type": "stream",
     "text": [
      "100%|██████████| 40000/40000 [00:46<00:00, 855.02it/s]\n"
     ]
    },
    {
     "name": "stdout",
     "output_type": "stream",
     "text": [
      "40000\n",
      "100\n"
     ]
    }
   ],
   "source": [
    "# average Word2Vec\n",
    "# compute average word2vec for each review.\n",
    "preprocessed_essays_xtr_avg_w2v_vectors = []; # the avg-w2v for each sentence/review is stored in this list\n",
    "for sentence in tqdm(x_train['cleaned_essay']): # for each review/sentence\n",
    "    vector = np.zeros(100) # as word vectors are of zero length\n",
    "    cnt_words =0; # num of words with a valid vector in the sentence/review\n",
    "    for word in sentence.split(): # for each word in a review/sentence\n",
    "        if word in preprocessed_essays_xtr_w2v.wv.vocab:\n",
    "            vector += preprocessed_essays_xtr_w2v[word]\n",
    "            cnt_words += 1\n",
    "    if cnt_words != 0:\n",
    "        vector /= cnt_words\n",
    "    preprocessed_essays_xtr_avg_w2v_vectors.append(vector)\n",
    "\n",
    "print(len(preprocessed_essays_xtr_avg_w2v_vectors))\n",
    "print(len(preprocessed_essays_xtr_avg_w2v_vectors[0]))"
   ]
  },
  {
   "cell_type": "code",
   "execution_count": 65,
   "metadata": {},
   "outputs": [
    {
     "name": "stderr",
     "output_type": "stream",
     "text": [
      "100%|██████████| 10000/10000 [00:11<00:00, 844.20it/s]\n"
     ]
    },
    {
     "name": "stdout",
     "output_type": "stream",
     "text": [
      "10000\n",
      "100\n"
     ]
    }
   ],
   "source": [
    "preprocessed_essays_xtest_avg_w2v_vectors = []; # the avg-w2v for each sentence/review is stored in this list\n",
    "for sentence in tqdm(x_test['cleaned_essay']): # for each review/sentence\n",
    "    vector = np.zeros(100) # as word vectors are of zero length\n",
    "    cnt_words =0; # num of words with a valid vector in the sentence/review\n",
    "    for word in sentence.split(): # for each word in a review/sentence\n",
    "        if word in preprocessed_essays_xtr_w2v.wv.vocab:\n",
    "            vector += preprocessed_essays_xtr_w2v[word]\n",
    "            cnt_words += 1\n",
    "    if cnt_words != 0:\n",
    "        vector /= cnt_words\n",
    "    preprocessed_essays_xtest_avg_w2v_vectors.append(vector)\n",
    "\n",
    "print(len(preprocessed_essays_xtest_avg_w2v_vectors))\n",
    "print(len(preprocessed_essays_xtest_avg_w2v_vectors[0]))"
   ]
  },
  {
   "cell_type": "code",
   "execution_count": 66,
   "metadata": {},
   "outputs": [],
   "source": [
    "list_preprocessed_title_xtr = []\n",
    "for e in x_train['cleaned_title_text'].values:\n",
    "    list_preprocessed_title_xtr.append(e.split())"
   ]
  },
  {
   "cell_type": "code",
   "execution_count": 67,
   "metadata": {},
   "outputs": [],
   "source": [
    "preprocessed_title_xtr_w2v=Word2Vec(list_preprocessed_title_xtr,min_count=10,size=100,workers = 8)"
   ]
  },
  {
   "cell_type": "code",
   "execution_count": 68,
   "metadata": {},
   "outputs": [
    {
     "name": "stderr",
     "output_type": "stream",
     "text": [
      "100%|██████████| 40000/40000 [00:01<00:00, 27462.60it/s]\n"
     ]
    },
    {
     "name": "stdout",
     "output_type": "stream",
     "text": [
      "40000\n",
      "100\n"
     ]
    }
   ],
   "source": [
    "preprocessed_title_xtr_avg_w2v_vectors = []; # the avg-w2v for each sentence/review is stored in this list\n",
    "for sentence in tqdm(x_train['cleaned_title_text']): # for each review/sentence\n",
    "    vector = np.zeros(100) # as word vectors are of zero length\n",
    "    cnt_words =0; # num of words with a valid vector in the sentence/review\n",
    "    for word in sentence.split(): # for each word in a review/sentence\n",
    "        if word in preprocessed_title_xtr_w2v.wv.vocab:\n",
    "            vector += preprocessed_title_xtr_w2v[word]\n",
    "            cnt_words += 1\n",
    "    if cnt_words != 0:\n",
    "        vector /= cnt_words\n",
    "    preprocessed_title_xtr_avg_w2v_vectors.append(vector)\n",
    "\n",
    "print(len(preprocessed_title_xtr_avg_w2v_vectors))\n",
    "print(len(preprocessed_title_xtr_avg_w2v_vectors[0]))"
   ]
  },
  {
   "cell_type": "code",
   "execution_count": 69,
   "metadata": {},
   "outputs": [
    {
     "name": "stderr",
     "output_type": "stream",
     "text": [
      "100%|██████████| 10000/10000 [00:00<00:00, 26203.67it/s]\n"
     ]
    },
    {
     "name": "stdout",
     "output_type": "stream",
     "text": [
      "10000\n",
      "100\n"
     ]
    }
   ],
   "source": [
    "preprocessed_title_xtest_avg_w2v_vectors = []; # the avg-w2v for each sentence/review is stored in this list\n",
    "for sentence in tqdm(x_test['cleaned_title_text']): # for each review/sentence\n",
    "    vector = np.zeros(100) # as word vectors are of zero length\n",
    "    cnt_words =0; # num of words with a valid vector in the sentence/review\n",
    "    for word in sentence.split(): # for each word in a review/sentence\n",
    "        if word in preprocessed_title_xtr_w2v.wv.vocab:\n",
    "            vector += preprocessed_title_xtr_w2v[word]\n",
    "            cnt_words += 1\n",
    "    if cnt_words != 0:\n",
    "        vector /= cnt_words\n",
    "    preprocessed_title_xtest_avg_w2v_vectors.append(vector)\n",
    "\n",
    "print(len(preprocessed_title_xtest_avg_w2v_vectors))\n",
    "print(len(preprocessed_title_xtest_avg_w2v_vectors[0]))"
   ]
  },
  {
   "cell_type": "code",
   "execution_count": 70,
   "metadata": {},
   "outputs": [],
   "source": [
    "\n",
    "X_train_w2v=hstack((preprocessed_essays_xtr_avg_w2v_vectors,preprocessed_title_xtr_avg_w2v_vectors,x_train_clean_cat_ohe,x_train_clean_subcat_ohe,x_train_state_ohe,x_train_teacher_pre,x_train_grade_ohe,x_train_price_norm,x_train_teacher_previously_norm\n",
    "                   ,x_train_quantity_norm ))\n",
    "#X_cv_tfidf=hstack((preprocessed_essays_xcv_tfidf,preprocessed_title_xcv_tfidf,x_cv_clean_cat_ohe,x_cv_clean_subcat_ohe, x_cv_state_ohe, x_cv_teacher_pre, x_cv_grade_ohe, x_cv_price_std,x_cv_teacher_previously_std))\n",
    "                 \n",
    "X_test_w2v=hstack((preprocessed_essays_xtest_avg_w2v_vectors,preprocessed_essays_xtest_avg_w2v_vectors,x_test_clean_cat_ohe,x_test_clean_subcat_ohe, x_test_state_ohe, x_test_teacher_pre, x_test_grade_ohe, x_test_price_norm,x_test_teacher_previously_norm\n",
    "                    \n",
    "                   ,x_test_quantity_norm))"
   ]
  },
  {
   "cell_type": "code",
   "execution_count": 70,
   "metadata": {
    "scrolled": true
   },
   "outputs": [
    {
     "name": "stdout",
     "output_type": "stream",
     "text": [
      "Fitting 5 folds for each of 9 candidates, totalling 45 fits\n"
     ]
    },
    {
     "name": "stderr",
     "output_type": "stream",
     "text": [
      "[Parallel(n_jobs=3)]: Using backend LokyBackend with 3 concurrent workers.\n",
      "[Parallel(n_jobs=3)]: Done   1 tasks      | elapsed: 14.2min\n",
      "[Parallel(n_jobs=3)]: Done   2 tasks      | elapsed: 14.6min\n",
      "[Parallel(n_jobs=3)]: Done   3 tasks      | elapsed: 14.6min\n",
      "[Parallel(n_jobs=3)]: Done   4 tasks      | elapsed: 28.4min\n",
      "[Parallel(n_jobs=3)]: Done   5 tasks      | elapsed: 29.3min\n",
      "[Parallel(n_jobs=3)]: Done   6 tasks      | elapsed: 29.8min\n",
      "[Parallel(n_jobs=3)]: Done   7 tasks      | elapsed: 42.6min\n",
      "[Parallel(n_jobs=3)]: Done   8 tasks      | elapsed: 42.9min\n",
      "[Parallel(n_jobs=3)]: Done   9 tasks      | elapsed: 43.4min\n",
      "[Parallel(n_jobs=3)]: Done  10 tasks      | elapsed: 57.7min\n",
      "[Parallel(n_jobs=3)]: Done  11 tasks      | elapsed: 58.2min\n",
      "[Parallel(n_jobs=3)]: Done  12 tasks      | elapsed: 58.8min\n",
      "[Parallel(n_jobs=3)]: Done  13 tasks      | elapsed: 72.0min\n",
      "[Parallel(n_jobs=3)]: Done  14 tasks      | elapsed: 72.6min\n",
      "[Parallel(n_jobs=3)]: Done  15 tasks      | elapsed: 72.9min\n",
      "[Parallel(n_jobs=3)]: Done  16 tasks      | elapsed: 86.0min\n",
      "[Parallel(n_jobs=3)]: Done  17 tasks      | elapsed: 86.6min\n",
      "[Parallel(n_jobs=3)]: Done  18 tasks      | elapsed: 87.9min\n",
      "[Parallel(n_jobs=3)]: Done  19 tasks      | elapsed: 106.8min\n",
      "[Parallel(n_jobs=3)]: Done  20 tasks      | elapsed: 107.0min\n",
      "[Parallel(n_jobs=3)]: Done  21 tasks      | elapsed: 107.5min\n",
      "[Parallel(n_jobs=3)]: Done  22 tasks      | elapsed: 120.3min\n",
      "[Parallel(n_jobs=3)]: Done  23 tasks      | elapsed: 121.0min\n",
      "[Parallel(n_jobs=3)]: Done  24 tasks      | elapsed: 121.2min\n",
      "[Parallel(n_jobs=3)]: Done  25 tasks      | elapsed: 135.2min\n",
      "[Parallel(n_jobs=3)]: Done  26 tasks      | elapsed: 135.8min\n",
      "[Parallel(n_jobs=3)]: Done  27 tasks      | elapsed: 136.6min\n",
      "[Parallel(n_jobs=3)]: Done  28 tasks      | elapsed: 150.7min\n",
      "[Parallel(n_jobs=3)]: Done  29 tasks      | elapsed: 150.9min\n",
      "[Parallel(n_jobs=3)]: Done  30 tasks      | elapsed: 151.3min\n",
      "[Parallel(n_jobs=3)]: Done  31 tasks      | elapsed: 164.1min\n",
      "[Parallel(n_jobs=3)]: Done  32 tasks      | elapsed: 164.8min\n",
      "[Parallel(n_jobs=3)]: Done  33 tasks      | elapsed: 165.1min\n",
      "[Parallel(n_jobs=3)]: Done  34 tasks      | elapsed: 177.7min\n",
      "[Parallel(n_jobs=3)]: Done  35 tasks      | elapsed: 177.9min\n",
      "[Parallel(n_jobs=3)]: Done  36 tasks      | elapsed: 178.6min\n",
      "[Parallel(n_jobs=3)]: Done  37 tasks      | elapsed: 191.1min\n",
      "[Parallel(n_jobs=3)]: Done  38 tasks      | elapsed: 191.6min\n",
      "[Parallel(n_jobs=3)]: Done  39 tasks      | elapsed: 191.9min\n",
      "[Parallel(n_jobs=3)]: Done  40 tasks      | elapsed: 204.4min\n",
      "[Parallel(n_jobs=3)]: Done  43 out of  45 | elapsed: 218.2min remaining: 10.1min\n",
      "[Parallel(n_jobs=3)]: Done  45 out of  45 | elapsed: 218.5min finished\n"
     ]
    },
    {
     "data": {
      "text/plain": [
       "GridSearchCV(cv=5, error_score='raise-deprecating',\n",
       "       estimator=KNeighborsClassifier(algorithm='auto', leaf_size=30, metric='minkowski',\n",
       "           metric_params=None, n_jobs=None, n_neighbors=5, p=2,\n",
       "           weights='uniform'),\n",
       "       fit_params=None, iid='warn', n_jobs=3,\n",
       "       param_grid={'n_neighbors': [1, 5, 10, 15, 21, 31, 41, 51, 60]},\n",
       "       pre_dispatch='2*n_jobs', refit=True, return_train_score='warn',\n",
       "       scoring='roc_auc', verbose=22)"
      ]
     },
     "execution_count": 70,
     "metadata": {},
     "output_type": "execute_result"
    }
   ],
   "source": [
    "from sklearn.model_selection import GridSearchCV\n",
    "from sklearn.neighbors import KNeighborsClassifier\n",
    "\n",
    "params ={ 'n_neighbors': [1, 5, 10, 15, 21, 31, 41, 51, 60]}\n",
    "\n",
    "estimator3 = KNeighborsClassifier()\n",
    "Research3 =GridSearchCV(estimator3 ,param_grid = params,cv= 5 ,scoring = 'roc_auc',verbose=22,n_jobs=3)\n",
    "Research3.fit(X_train_w2v,y_train)"
   ]
  },
  {
   "cell_type": "code",
   "execution_count": 71,
   "metadata": {},
   "outputs": [
    {
     "name": "stdout",
     "output_type": "stream",
     "text": [
      "0.623057528437459\n",
      "best  k =  60\n"
     ]
    }
   ],
   "source": [
    "print(Research3.best_score_)\n",
    "n3=Research3.best_params_['n_neighbors']\n",
    "print('best  k = ',n3)"
   ]
  },
  {
   "cell_type": "markdown",
   "metadata": {},
   "source": [
    "# Performance Plot"
   ]
  },
  {
   "cell_type": "code",
   "execution_count": 72,
   "metadata": {},
   "outputs": [
    {
     "data": {
      "image/png": "[encoded data removed]",
      "text/plain": [
       "<Figure size 432x288 with 1 Axes>"
      ]
     },
     "metadata": {
      "needs_background": "light"
     },
     "output_type": "display_data"
    }
   ],
   "source": [
    "train_auc3= Research3.cv_results_['mean_train_score']\n",
    "train_auc_std3= Research3.cv_results_['std_train_score']\n",
    "cv_auc3 = Research3.cv_results_['mean_test_score'] \n",
    "cv_auc_std3 = Research3.cv_results_['std_test_score']\n",
    "\n",
    "plt.plot(params['n_neighbors'], train_auc3, label='Train AUC')\n",
    "\n",
    "# this code is copied from here: https://stackoverflow.com/a/48803361/4084039\n",
    "plt.gca().fill_between(params['n_neighbors'],train_auc3 - train_auc_std3,train_auc3 + train_auc_std3,alpha=0.2,color='darkblue')\n",
    "# create a shaded area between [mean - std, mean + std]\n",
    "\n",
    "plt.plot(params['n_neighbors'], cv_auc3, label='CV AUC')\n",
    "# this code is copied from here: https://stackoverflow.com/a/48803361/4084039\n",
    "plt.gca().fill_between(params['n_neighbors'],cv_auc3 - cv_auc_std3,cv_auc3 + cv_auc_std3,alpha=0.2,color='darkorange')\n",
    "\n",
    "plt.scatter(params['n_neighbors'], train_auc3, label='Train AUC points')\n",
    "plt.scatter(params['n_neighbors'], cv_auc3, label='CV AUC points')\n",
    "\n",
    "\n",
    "plt.legend()\n",
    "plt.xlabel(\"K: hyperparameter\")\n",
    "plt.ylabel(\"AUC\")\n",
    "plt.title(\"ERROR PLOTS\")\n",
    "plt.grid()\n",
    "plt.show()"
   ]
  },
  {
   "cell_type": "markdown",
   "metadata": {},
   "source": [
    "<h1>Train new model on best params"
   ]
  },
  {
   "cell_type": "code",
   "execution_count": 71,
   "metadata": {},
   "outputs": [
    {
     "data": {
      "text/plain": [
       "KNeighborsClassifier(algorithm='auto', leaf_size=30, metric='minkowski',\n",
       "           metric_params=None, n_jobs=None, n_neighbors=60, p=2,\n",
       "           weights='uniform')"
      ]
     },
     "execution_count": 71,
     "metadata": {},
     "output_type": "execute_result"
    }
   ],
   "source": [
    "model_new_w2v = KNeighborsClassifier(n_neighbors = n3)\n",
    "model_new_w2v.fit(X_train_w2v,y_train)"
   ]
  },
  {
   "cell_type": "markdown",
   "metadata": {},
   "source": [
    "# Roc Curve"
   ]
  },
  {
   "cell_type": "code",
   "execution_count": 72,
   "metadata": {},
   "outputs": [
    {
     "data": {
      "image/png": "[encoded data removed]",
      "text/plain": [
       "<Figure size 432x288 with 1 Axes>"
      ]
     },
     "metadata": {
      "needs_background": "light"
     },
     "output_type": "display_data"
    }
   ],
   "source": [
    "from  sklearn.metrics import roc_curve\n",
    "from sklearn.metrics import auc\n",
    "import matplotlib.pyplot as plt\n",
    "\n",
    "\n",
    "score_roc_train = model_new_w2v.predict_proba(X_train_w2v)\n",
    "fpr_train, tpr_train, threshold_train = roc_curve(y_train, score_roc_train[:,1])\n",
    "roc_auc_train = auc(fpr_train, tpr_train)\n",
    "\n",
    "score_roc_test = model_new_w2v.predict_proba(X_test_w2v)\n",
    "fpr_test, tpr_test, threshold_test = roc_curve(y_test, score_roc_test[:,1])\n",
    "roc_auc_test = auc(fpr_test, tpr_test)\n",
    "\n",
    "\n",
    "plt.plot(fpr_train, tpr_train, label = \"Train_AUC\"+str(auc(fpr_train, tpr_train)))\n",
    "plt.plot(fpr_test, tpr_test, label = \"Test_AUC\"+str(auc(fpr_test, tpr_test)))\n",
    "plt.legend(loc = 'lower right')\n",
    "\n",
    "plt.plot([0, 1], [0, 1],'r--')\n",
    "plt.xlim([0, 1])\n",
    "plt.ylim([0, 1])\n",
    "\n",
    "\n",
    "plt.ylabel('True Positive Rate')\n",
    "plt.xlabel('False Positive Rate')\n",
    "plt.title('ROC Curve of KNN ')\n",
    "plt.show()\n"
   ]
  },
  {
   "cell_type": "markdown",
   "metadata": {},
   "source": [
    "# Confusion Matrix"
   ]
  },
  {
   "cell_type": "code",
   "execution_count": 73,
   "metadata": {},
   "outputs": [],
   "source": [
    "y_train_pred_w2v = model_new_w2v.predict(X_train_w2v)\n",
    "\n",
    "y_test_pred_w2v = model_new_w2v.predict(X_test_w2v)"
   ]
  },
  {
   "cell_type": "code",
   "execution_count": 74,
   "metadata": {},
   "outputs": [
    {
     "name": "stdout",
     "output_type": "stream",
     "text": [
      "Train confusion matrix\n",
      "the maximum value of tpr*(1-fpr) 0.4176636688235154 for threshold 0.867\n"
     ]
    },
    {
     "data": {
      "text/plain": [
       "Text(0.5, 1.0, 'Confusion Matrix\\n')"
      ]
     },
     "execution_count": 74,
     "metadata": {},
     "output_type": "execute_result"
    },
    {
     "data": {
      "image/png": "[encoded data removed]",
      "text/plain": [
       "<Figure size 432x288 with 2 Axes>"
      ]
     },
     "metadata": {
      "needs_background": "light"
     },
     "output_type": "display_data"
    }
   ],
   "source": [
    "from sklearn.metrics import confusion_matrix\n",
    "\n",
    "ax = plt.subplot()\n",
    "\n",
    "print(\"Train confusion matrix\")\n",
    "cnn_train = confusion_matrix(y_train, predict(y_train_pred_w2v, threshold_train, fpr_train, tpr_train))\n",
    "sns.heatmap(cnn_train,annot = True,ax=ax,fmt='d')\n",
    "\n",
    "\n",
    "\n",
    "\n",
    "ax.set_xlabel('Predicted label')\n",
    "ax.set_ylabel('True label')\n",
    "ax.xaxis.set_ticklabels(['negative','positive'])\n",
    "ax.yaxis.set_ticklabels(['negative','positive'])\n",
    "plt.title('Confusion Matrix\\n')"
   ]
  },
  {
   "cell_type": "code",
   "execution_count": 75,
   "metadata": {},
   "outputs": [
    {
     "name": "stdout",
     "output_type": "stream",
     "text": [
      "Test confusion matrix\n",
      "the maximum value of tpr*(1-fpr) 0.27856589343984384 for threshold 0.867\n"
     ]
    },
    {
     "data": {
      "text/plain": [
       "Text(0.5, 1.0, 'Confusion Matrix\\n')"
      ]
     },
     "execution_count": 75,
     "metadata": {},
     "output_type": "execute_result"
    },
    {
     "data": {
      "image/png": "[encoded data removed]",
      "text/plain": [
       "<Figure size 432x288 with 2 Axes>"
      ]
     },
     "metadata": {
      "needs_background": "light"
     },
     "output_type": "display_data"
    }
   ],
   "source": [
    "ax = plt.subplot()\n",
    "\n",
    "print(\"Test confusion matrix\")\n",
    "cnn_test = confusion_matrix(y_test, predict(y_test_pred_w2v, threshold_test, fpr_test, tpr_test))\n",
    "sns.heatmap(cnn_test,annot = True,ax=ax,fmt='d')\n",
    "\n",
    "ax.set_xlabel('Predicted label')\n",
    "ax.set_ylabel('True label')\n",
    "ax.xaxis.set_ticklabels(['negative','positive'])\n",
    "ax.yaxis.set_ticklabels(['negative','positive'])\n",
    "plt.title('Confusion Matrix\\n')"
   ]
  },
  {
   "cell_type": "markdown",
   "metadata": {},
   "source": [
    "# Classification report"
   ]
  },
  {
   "cell_type": "code",
   "execution_count": 76,
   "metadata": {},
   "outputs": [
    {
     "name": "stdout",
     "output_type": "stream",
     "text": [
      "_____________________________________________________________________________________________________\n",
      "Classification Report: \n",
      "\n"
     ]
    },
    {
     "name": "stderr",
     "output_type": "stream",
     "text": [
      "C:\\Users\\MERCER\\Anaconda3\\lib\\site-packages\\sklearn\\metrics\\classification.py:1143: UndefinedMetricWarning: Precision and F-score are ill-defined and being set to 0.0 in labels with no predicted samples.\n",
      "  'precision', 'predicted', average, warn_for)\n",
      "C:\\Users\\MERCER\\Anaconda3\\lib\\site-packages\\sklearn\\metrics\\classification.py:1143: UndefinedMetricWarning: Precision and F-score are ill-defined and being set to 0.0 in labels with no predicted samples.\n",
      "  'precision', 'predicted', average, warn_for)\n",
      "C:\\Users\\MERCER\\Anaconda3\\lib\\site-packages\\sklearn\\metrics\\classification.py:1143: UndefinedMetricWarning: Precision and F-score are ill-defined and being set to 0.0 in labels with no predicted samples.\n",
      "  'precision', 'predicted', average, warn_for)\n"
     ]
    },
    {
     "name": "stdout",
     "output_type": "stream",
     "text": [
      "              precision    recall  f1-score   support\n",
      "\n",
      "           0       0.00      0.00      0.00      1514\n",
      "           1       0.85      1.00      0.92      8486\n",
      "\n",
      "   micro avg       0.85      0.85      0.85     10000\n",
      "   macro avg       0.42      0.50      0.46     10000\n",
      "weighted avg       0.72      0.85      0.78     10000\n",
      "\n",
      "_____________________________________________________________________________________________________\n"
     ]
    }
   ],
   "source": [
    "from sklearn.metrics import classification_report\n",
    "print(\"_\" * 101)\n",
    "print(\"Classification Report: \\n\")\n",
    "print(classification_report(y_test,y_test_pred_w2v))\n",
    "print(\"_\" * 101)\n"
   ]
  },
  {
   "cell_type": "markdown",
   "metadata": {},
   "source": [
    "# SET 4 : [TFIDF-W2V]"
   ]
  },
  {
   "cell_type": "code",
   "execution_count": 77,
   "metadata": {},
   "outputs": [],
   "source": [
    "# S = [\"abc def pqr\", \"def def def abc\", \"pqr pqr def\"]\n",
    "tfidf_model1 = TfidfVectorizer()\n",
    "tfidf_model1.fit(x_train['cleaned_essay'])\n",
    "# we are converting a dictionary with word as a key, and the idf as a value\n",
    "dictionary = dict(zip(tfidf_model1.get_feature_names(), list(tfidf_model1.idf_)))\n",
    "tfidf_words = set(tfidf_model1.get_feature_names())"
   ]
  },
  {
   "cell_type": "code",
   "execution_count": 78,
   "metadata": {
    "scrolled": true
   },
   "outputs": [
    {
     "name": "stderr",
     "output_type": "stream",
     "text": [
      "100%|██████████| 40000/40000 [18:11<00:00, 36.66it/s]\n"
     ]
    },
    {
     "name": "stdout",
     "output_type": "stream",
     "text": [
      "40000\n",
      "100\n"
     ]
    }
   ],
   "source": [
    "# average Word2Vec\n",
    "# compute average word2vec for each review.\n",
    "preprocessed_essays_xtr_tfidf_w2v_vectors = []; # the avg-w2v for each sentence/review is stored in this list\n",
    "for sentence in tqdm(x_train['cleaned_essay']): # for each review/sentence\n",
    "    vector = np.zeros(100) # as word vectors are of zero length\n",
    "    tf_idf_weight =0; # num of words with a valid vector in the sentence/review\n",
    "    for word in sentence.split(): # for each word in a review/sentence\n",
    "        if (word in list(preprocessed_essays_xtr_w2v.wv.vocab)) and (word in tfidf_words):\n",
    "            vec = preprocessed_essays_xtr_w2v[word] # getting the vector for each word\n",
    "            # here we are multiplying idf value(dictionary[word]) and the tf value((sentence.count(word)/len(sentence.split())))\n",
    "            tf_idf = dictionary[word]*(sentence.count(word)/len(sentence.split())) # getting the tfidf value for each word\n",
    "            vector += (vec * tf_idf) # calculating tfidf weighted w2v\n",
    "            tf_idf_weight += tf_idf\n",
    "    if tf_idf_weight != 0:\n",
    "        vector /= tf_idf_weight\n",
    "    preprocessed_essays_xtr_tfidf_w2v_vectors.append(vector)\n",
    "\n",
    "print(len(preprocessed_essays_xtr_tfidf_w2v_vectors))\n",
    "print(len(preprocessed_essays_xtr_tfidf_w2v_vectors[0]))"
   ]
  },
  {
   "cell_type": "code",
   "execution_count": 79,
   "metadata": {
    "scrolled": true
   },
   "outputs": [
    {
     "name": "stderr",
     "output_type": "stream",
     "text": [
      "100%|██████████| 10000/10000 [04:40<00:00, 38.59it/s]\n"
     ]
    },
    {
     "name": "stdout",
     "output_type": "stream",
     "text": [
      "10000\n",
      "100\n"
     ]
    }
   ],
   "source": [
    "preprocessed_essays_xtest_tfidf_w2v_vectors = []; # the avg-w2v for each sentence/review is stored in this list\n",
    "for sentence in tqdm(x_test['cleaned_essay']): # for each review/sentence\n",
    "    vector = np.zeros(100) # as word vectors are of zero length\n",
    "    tf_idf_weight =0; # num of words with a valid vector in the sentence/review\n",
    "    for word in sentence.split(): # for each word in a review/sentence\n",
    "        if (word in list(preprocessed_essays_xtr_w2v.wv.vocab)) and (word in tfidf_words):\n",
    "            vec = preprocessed_essays_xtr_w2v[word] # getting the vector for each word\n",
    "            # here we are multiplying idf value(dictionary[word]) and the tf value((sentence.count(word)/len(sentence.split())))\n",
    "            tf_idf = dictionary[word]*(sentence.count(word)/len(sentence.split())) # getting the tfidf value for each word\n",
    "            vector += (vec * tf_idf) # calculating tfidf weighted w2v\n",
    "            tf_idf_weight += tf_idf\n",
    "    if tf_idf_weight != 0:\n",
    "        vector /= tf_idf_weight\n",
    "    preprocessed_essays_xtest_tfidf_w2v_vectors.append(vector)\n",
    "\n",
    "print(len(preprocessed_essays_xtest_tfidf_w2v_vectors))\n",
    "print(len(preprocessed_essays_xtest_tfidf_w2v_vectors[0]))"
   ]
  },
  {
   "cell_type": "code",
   "execution_count": 80,
   "metadata": {},
   "outputs": [],
   "source": [
    "# Similarly you can vectorize for title also\n",
    "tfidf_model2 = TfidfVectorizer()\n",
    "tfidf_model2.fit(x_train['cleaned_title_text'])\n",
    "# we are converting a dictionary with word as a key, and the idf as a value\n",
    "dictionary = dict(zip(tfidf_model2.get_feature_names(), list(tfidf_model2.idf_)))\n",
    "tfidf_words = set(tfidf_model2.get_feature_names())"
   ]
  },
  {
   "cell_type": "code",
   "execution_count": 81,
   "metadata": {},
   "outputs": [
    {
     "name": "stderr",
     "output_type": "stream",
     "text": [
      "100%|██████████| 40000/40000 [00:05<00:00, 6762.57it/s]\n"
     ]
    },
    {
     "name": "stdout",
     "output_type": "stream",
     "text": [
      "40000\n",
      "100\n"
     ]
    }
   ],
   "source": [
    "preprocessed_title_xtr_tfidf_w2v_vectors = []; # the avg-w2v for each sentence/review is stored in this list\n",
    "for sentence in tqdm(x_train['cleaned_title_text']): # for each review/sentence\n",
    "    vector = np.zeros(100) # as word vectors are of zero length\n",
    "    tf_idf_weight =0; # num of words with a valid vector in the sentence/review\n",
    "    for word in sentence.split(): # for each word in a review/sentence\n",
    "        if (word in list(preprocessed_title_xtr_w2v.wv.vocab)) and (word in tfidf_words):\n",
    "            vec = preprocessed_title_xtr_w2v[word] # getting the vector for each word\n",
    "            # here we are multiplying idf value(dictionary[word]) and the tf value((sentence.count(word)/len(sentence.split())))\n",
    "            tf_idf = dictionary[word]*(sentence.count(word)/len(sentence.split())) # getting the tfidf value for each word\n",
    "            vector += (vec * tf_idf) # calculating tfidf weighted w2v\n",
    "            tf_idf_weight += tf_idf\n",
    "    if tf_idf_weight != 0:\n",
    "        vector /= tf_idf_weight\n",
    "    preprocessed_title_xtr_tfidf_w2v_vectors.append(vector)\n",
    "\n",
    "print(len(preprocessed_title_xtr_tfidf_w2v_vectors))\n",
    "print(len(preprocessed_title_xtr_tfidf_w2v_vectors[0]))"
   ]
  },
  {
   "cell_type": "code",
   "execution_count": 82,
   "metadata": {},
   "outputs": [
    {
     "name": "stderr",
     "output_type": "stream",
     "text": [
      "100%|██████████| 10000/10000 [00:01<00:00, 6919.69it/s]\n"
     ]
    },
    {
     "name": "stdout",
     "output_type": "stream",
     "text": [
      "10000\n",
      "100\n"
     ]
    }
   ],
   "source": [
    "preprocessed_title_xtest_tfidf_w2v_vectors = []; # the avg-w2v for each sentence/review is stored in this list\n",
    "for sentence in tqdm(x_test['cleaned_title_text']): # for each review/sentence\n",
    "    vector = np.zeros(100) # as word vectors are of zero length\n",
    "    tf_idf_weight =0; # num of words with a valid vector in the sentence/review\n",
    "    for word in sentence.split(): # for each word in a review/sentence\n",
    "        if (word in list(preprocessed_title_xtr_w2v.wv.vocab)) and (word in tfidf_words):\n",
    "            vec = preprocessed_title_xtr_w2v[word] # getting the vector for each word\n",
    "            # here we are multiplying idf value(dictionary[word]) and the tf value((sentence.count(word)/len(sentence.split())))\n",
    "            tf_idf = dictionary[word]*(sentence.count(word)/len(sentence.split())) # getting the tfidf value for each word\n",
    "            vector += (vec * tf_idf) # calculating tfidf weighted w2v\n",
    "            tf_idf_weight += tf_idf\n",
    "    if tf_idf_weight != 0:\n",
    "        vector /= tf_idf_weight\n",
    "    preprocessed_title_xtest_tfidf_w2v_vectors.append(vector)\n",
    "\n",
    "print(len(preprocessed_title_xtest_tfidf_w2v_vectors))\n",
    "print(len(preprocessed_title_xtest_tfidf_w2v_vectors[0]))"
   ]
  },
  {
   "cell_type": "code",
   "execution_count": 83,
   "metadata": {},
   "outputs": [],
   "source": [
    "from scipy.sparse import hstack\n",
    "X_train_tfidf_w2v=hstack((preprocessed_essays_xtr_tfidf_w2v_vectors,preprocessed_title_xtr_tfidf_w2v_vectors,x_train_clean_cat_ohe,x_train_clean_subcat_ohe,x_train_state_ohe,x_train_teacher_pre,x_train_grade_ohe,x_train_price_norm,x_train_teacher_previously_norm\n",
    "                   ,x_train_quantity_norm))\n",
    "#X_cv_tfidf=hstack((preprocessed_essays_xcv_tfidf,preprocessed_title_xcv_tfidf,x_cv_clean_cat_ohe,x_cv_clean_subcat_ohe, x_cv_state_ohe, x_cv_teacher_pre, x_cv_grade_ohe, x_cv_price_std,x_cv_teacher_previously_std))\n",
    "                 \n",
    "X_test_tfidf_w2v=hstack((preprocessed_essays_xtest_tfidf_w2v_vectors,preprocessed_title_xtest_tfidf_w2v_vectors,x_test_clean_cat_ohe,x_test_clean_subcat_ohe, x_test_state_ohe, x_test_teacher_pre, x_test_grade_ohe, x_test_price_norm,x_test_teacher_previously_norm\n",
    "                    \n",
    "                  ,x_test_quantity_norm ))"
   ]
  },
  {
   "cell_type": "code",
   "execution_count": 86,
   "metadata": {
    "scrolled": true
   },
   "outputs": [
    {
     "name": "stdout",
     "output_type": "stream",
     "text": [
      "Fitting 5 folds for each of 9 candidates, totalling 45 fits\n"
     ]
    },
    {
     "name": "stderr",
     "output_type": "stream",
     "text": [
      "[Parallel(n_jobs=3)]: Using backend LokyBackend with 3 concurrent workers.\n",
      "[Parallel(n_jobs=3)]: Done   1 tasks      | elapsed: 17.7min\n",
      "[Parallel(n_jobs=3)]: Done   2 tasks      | elapsed: 17.7min\n",
      "[Parallel(n_jobs=3)]: Done   3 tasks      | elapsed: 17.8min\n",
      "[Parallel(n_jobs=3)]: Done   4 tasks      | elapsed: 34.4min\n",
      "[Parallel(n_jobs=3)]: Done   5 tasks      | elapsed: 34.4min\n",
      "[Parallel(n_jobs=3)]: Done   6 tasks      | elapsed: 34.4min\n",
      "[Parallel(n_jobs=3)]: Done   7 tasks      | elapsed: 48.8min\n",
      "[Parallel(n_jobs=3)]: Done   8 tasks      | elapsed: 48.9min\n",
      "[Parallel(n_jobs=3)]: Done   9 tasks      | elapsed: 48.9min\n",
      "[Parallel(n_jobs=3)]: Done  10 tasks      | elapsed: 63.0min\n",
      "[Parallel(n_jobs=3)]: Done  11 tasks      | elapsed: 63.3min\n",
      "[Parallel(n_jobs=3)]: Done  12 tasks      | elapsed: 63.4min\n",
      "[Parallel(n_jobs=3)]: Done  13 tasks      | elapsed: 76.7min\n",
      "[Parallel(n_jobs=3)]: Done  14 tasks      | elapsed: 77.7min\n",
      "[Parallel(n_jobs=3)]: Done  15 tasks      | elapsed: 77.8min\n",
      "[Parallel(n_jobs=3)]: Done  16 tasks      | elapsed: 90.9min\n",
      "[Parallel(n_jobs=3)]: Done  17 tasks      | elapsed: 91.9min\n",
      "[Parallel(n_jobs=3)]: Done  18 tasks      | elapsed: 92.4min\n",
      "[Parallel(n_jobs=3)]: Done  19 tasks      | elapsed: 105.3min\n",
      "[Parallel(n_jobs=3)]: Done  20 tasks      | elapsed: 105.6min\n",
      "[Parallel(n_jobs=3)]: Done  21 tasks      | elapsed: 106.2min\n",
      "[Parallel(n_jobs=3)]: Done  22 tasks      | elapsed: 118.8min\n",
      "[Parallel(n_jobs=3)]: Done  23 tasks      | elapsed: 119.1min\n",
      "[Parallel(n_jobs=3)]: Done  24 tasks      | elapsed: 119.4min\n",
      "[Parallel(n_jobs=3)]: Done  25 tasks      | elapsed: 133.7min\n",
      "[Parallel(n_jobs=3)]: Done  26 tasks      | elapsed: 134.2min\n",
      "[Parallel(n_jobs=3)]: Done  27 tasks      | elapsed: 134.6min\n",
      "[Parallel(n_jobs=3)]: Done  28 tasks      | elapsed: 148.4min\n",
      "[Parallel(n_jobs=3)]: Done  29 tasks      | elapsed: 148.9min\n",
      "[Parallel(n_jobs=3)]: Done  30 tasks      | elapsed: 149.7min\n",
      "[Parallel(n_jobs=3)]: Done  31 tasks      | elapsed: 164.2min\n",
      "[Parallel(n_jobs=3)]: Done  32 tasks      | elapsed: 164.7min\n",
      "[Parallel(n_jobs=3)]: Done  33 tasks      | elapsed: 165.1min\n",
      "[Parallel(n_jobs=3)]: Done  34 tasks      | elapsed: 179.1min\n",
      "[Parallel(n_jobs=3)]: Done  35 tasks      | elapsed: 179.4min\n",
      "[Parallel(n_jobs=3)]: Done  36 tasks      | elapsed: 179.8min\n",
      "[Parallel(n_jobs=3)]: Done  37 tasks      | elapsed: 194.3min\n",
      "[Parallel(n_jobs=3)]: Done  38 tasks      | elapsed: 194.9min\n",
      "[Parallel(n_jobs=3)]: Done  39 tasks      | elapsed: 195.3min\n",
      "[Parallel(n_jobs=3)]: Done  40 tasks      | elapsed: 210.4min\n",
      "[Parallel(n_jobs=3)]: Done  43 out of  45 | elapsed: 226.8min remaining: 10.5min\n",
      "[Parallel(n_jobs=3)]: Done  45 out of  45 | elapsed: 227.2min finished\n"
     ]
    },
    {
     "data": {
      "text/plain": [
       "GridSearchCV(cv=5, error_score='raise-deprecating',\n",
       "       estimator=KNeighborsClassifier(algorithm='auto', leaf_size=30, metric='minkowski',\n",
       "           metric_params=None, n_jobs=None, n_neighbors=5, p=2,\n",
       "           weights='uniform'),\n",
       "       fit_params=None, iid='warn', n_jobs=3,\n",
       "       param_grid={'n_neighbors': [1, 5, 10, 15, 21, 31, 41, 51, 60]},\n",
       "       pre_dispatch='2*n_jobs', refit=True, return_train_score='warn',\n",
       "       scoring='roc_auc', verbose=22)"
      ]
     },
     "execution_count": 86,
     "metadata": {},
     "output_type": "execute_result"
    }
   ],
   "source": [
    "from sklearn.model_selection import GridSearchCV\n",
    "from sklearn.neighbors import KNeighborsClassifier\n",
    "\n",
    "params ={ 'n_neighbors': [1, 5, 10, 15, 21, 31, 41, 51, 60]}\n",
    "\n",
    "estimator4 = KNeighborsClassifier()\n",
    "Research4 =GridSearchCV(estimator4 ,param_grid = params,cv= 5 ,scoring = 'roc_auc',verbose=22,n_jobs=3)\n",
    "Research4.fit(X_train_tfidf_w2v,y_train)"
   ]
  },
  {
   "cell_type": "code",
   "execution_count": 87,
   "metadata": {},
   "outputs": [
    {
     "name": "stdout",
     "output_type": "stream",
     "text": [
      "0.6485102176773646\n",
      "best  k =  60\n"
     ]
    }
   ],
   "source": [
    "print(Research4.best_score_)\n",
    "n4=Research4.best_params_['n_neighbors']\n",
    "print('best  k = ',n4)"
   ]
  },
  {
   "cell_type": "markdown",
   "metadata": {},
   "source": [
    "# Performance Plot"
   ]
  },
  {
   "cell_type": "code",
   "execution_count": 88,
   "metadata": {},
   "outputs": [
    {
     "data": {
      "image/png": "[encoded data removed]",
      "text/plain": [
       "<Figure size 432x288 with 1 Axes>"
      ]
     },
     "metadata": {
      "needs_background": "light"
     },
     "output_type": "display_data"
    }
   ],
   "source": [
    "train_auc4 = Research2.cv_results_['mean_train_score']\n",
    "train_auc_std4 = Research4.cv_results_['std_train_score']\n",
    "cv_auc4 = Research4.cv_results_['mean_test_score'] \n",
    "cv_auc_std4 = Research4.cv_results_['std_test_score']\n",
    "\n",
    "plt.plot(params['n_neighbors'], train_auc4, label='Train AUC')\n",
    "\n",
    "# this code is copied from here: https://stackoverflow.com/a/48803361/4084039\n",
    "plt.gca().fill_between(params['n_neighbors'],train_auc4 - train_auc_std4,train_auc4 + train_auc_std4,alpha=0.2,color='darkblue')\n",
    "# create a shaded area between [mean - std, mean + std]\n",
    "\n",
    "plt.plot(params['n_neighbors'], cv_auc4, label='CV AUC')\n",
    "# this code is copied from here: https://stackoverflow.com/a/48803361/4084039\n",
    "plt.gca().fill_between(params['n_neighbors'],cv_auc4 - cv_auc_std4,cv_auc4 + cv_auc_std4,alpha=0.2,color='darkorange')\n",
    "\n",
    "plt.scatter(params['n_neighbors'], train_auc4, label='Train AUC points')\n",
    "plt.scatter(params['n_neighbors'], cv_auc4, label='CV AUC points')\n",
    "\n",
    "\n",
    "\n",
    "plt.legend()\n",
    "plt.xlabel(\"K: hyperparameter\")\n",
    "plt.ylabel(\"AUC\")\n",
    "plt.title(\"ERROR PLOTS\")\n",
    "plt.grid()\n",
    "plt.show()"
   ]
  },
  {
   "cell_type": "markdown",
   "metadata": {},
   "source": [
    "# Train new model on best params"
   ]
  },
  {
   "cell_type": "code",
   "execution_count": 89,
   "metadata": {},
   "outputs": [
    {
     "data": {
      "text/plain": [
       "KNeighborsClassifier(algorithm='auto', leaf_size=30, metric='minkowski',\n",
       "           metric_params=None, n_jobs=None, n_neighbors=60, p=2,\n",
       "           weights='uniform')"
      ]
     },
     "execution_count": 89,
     "metadata": {},
     "output_type": "execute_result"
    }
   ],
   "source": [
    "model_new__tfidf_w2v = KNeighborsClassifier(n_neighbors = n4)\n",
    "model_new__tfidf_w2v.fit(X_train_tfidf_w2v,y_train)"
   ]
  },
  {
   "cell_type": "markdown",
   "metadata": {},
   "source": [
    "# ROC Curve"
   ]
  },
  {
   "cell_type": "code",
   "execution_count": 90,
   "metadata": {},
   "outputs": [
    {
     "data": {
      "image/png": "[encoded data removed]",
      "text/plain": [
       "<Figure size 432x288 with 1 Axes>"
      ]
     },
     "metadata": {
      "needs_background": "light"
     },
     "output_type": "display_data"
    }
   ],
   "source": [
    "from  sklearn.metrics import roc_curve\n",
    "from sklearn.metrics import auc\n",
    "import matplotlib.pyplot as plt\n",
    "\n",
    "\n",
    "score_roc_train = model_new__tfidf_w2v.predict_proba(X_train_tfidf_w2v)\n",
    "fpr_train, tpr_train, threshold_train = roc_curve(y_train, score_roc_train[:,1])\n",
    "roc_auc_train = auc(fpr_train, tpr_train)\n",
    "\n",
    "score_roc_test = model_new__tfidf_w2v.predict_proba(X_test_tfidf_w2v)\n",
    "fpr_test, tpr_test, threshold_test = roc_curve(y_test, score_roc_test[:,1])\n",
    "roc_auc_test = auc(fpr_test, tpr_test)\n",
    "\n",
    "\n",
    "plt.plot(fpr_train, tpr_train, label = \"Train_AUC\"+str(auc(fpr_train, tpr_train)))\n",
    "plt.plot(fpr_test, tpr_test, label = \"Test_AUC\"+str(auc(fpr_test, tpr_test)))\n",
    "plt.legend(loc = 'lower right')\n",
    "\n",
    "plt.plot([0, 1], [0, 1],'r--')\n",
    "plt.xlim([0, 1])\n",
    "plt.ylim([0, 1])\n",
    "\n",
    "plt.ylabel('True Positive Rate')\n",
    "plt.xlabel('False Positive Rate')\n",
    "plt.title('ROC Curve of KNN ')\n",
    "plt.show()\n"
   ]
  },
  {
   "cell_type": "markdown",
   "metadata": {},
   "source": [
    "# Confusion Matrix"
   ]
  },
  {
   "cell_type": "code",
   "execution_count": 91,
   "metadata": {},
   "outputs": [],
   "source": [
    "y_train_pred_tfidf_w2v = model_new__tfidf_w2v.predict(X_train_tfidf_w2v)\n",
    "\n",
    "y_test_pred_tfidf_w2v = model_new__tfidf_w2v.predict(X_test_tfidf_w2v)"
   ]
  },
  {
   "cell_type": "code",
   "execution_count": 92,
   "metadata": {},
   "outputs": [
    {
     "name": "stdout",
     "output_type": "stream",
     "text": [
      "Train confusion matrix\n",
      "the maximum value of tpr*(1-fpr) 0.4252198547662453 for threshold 0.867\n"
     ]
    },
    {
     "data": {
      "text/plain": [
       "Text(0.5, 1.0, 'Confusion Matrix\\n')"
      ]
     },
     "execution_count": 92,
     "metadata": {},
     "output_type": "execute_result"
    },
    {
     "data": {
      "image/png": "[encoded data removed]",
      "text/plain": [
       "<Figure size 432x288 with 2 Axes>"
      ]
     },
     "metadata": {
      "needs_background": "light"
     },
     "output_type": "display_data"
    }
   ],
   "source": [
    "from sklearn.metrics import confusion_matrix\n",
    "\n",
    "ax = plt.subplot()\n",
    "\n",
    "print(\"Train confusion matrix\")\n",
    "cnn_train = confusion_matrix(y_train, predict(y_train_pred_tfidf_w2v, threshold_train, fpr_train, tpr_train))\n",
    "sns.heatmap(cnn_train,annot = True,ax=ax,fmt='d')\n",
    "\n",
    "\n",
    "\n",
    "\n",
    "ax.set_xlabel('Predicted label')\n",
    "ax.set_ylabel('True label')\n",
    "ax.xaxis.set_ticklabels(['negative','positive'])\n",
    "ax.yaxis.set_ticklabels(['negative','positive'])\n",
    "plt.title('Confusion Matrix\\n')"
   ]
  },
  {
   "cell_type": "code",
   "execution_count": 93,
   "metadata": {},
   "outputs": [
    {
     "name": "stdout",
     "output_type": "stream",
     "text": [
      "Test confusion matrix\n",
      "the maximum value of tpr*(1-fpr) 0.37838322732160057 for threshold 0.867\n"
     ]
    },
    {
     "data": {
      "text/plain": [
       "Text(0.5, 1.0, 'Confusion Matrix\\n')"
      ]
     },
     "execution_count": 93,
     "metadata": {},
     "output_type": "execute_result"
    },
    {
     "data": {
      "image/png": "[encoded data removed]",
      "text/plain": [
       "<Figure size 432x288 with 2 Axes>"
      ]
     },
     "metadata": {
      "needs_background": "light"
     },
     "output_type": "display_data"
    }
   ],
   "source": [
    "ax = plt.subplot()\n",
    "\n",
    "print(\"Test confusion matrix\")\n",
    "cnn_test = confusion_matrix(y_test, predict(y_test_pred_tfidf_w2v, threshold_test, fpr_test, tpr_test))\n",
    "sns.heatmap(cnn_test,annot = True,ax=ax,fmt='d')\n",
    "\n",
    "ax.set_xlabel('Predicted label')\n",
    "ax.set_ylabel('True label')\n",
    "ax.xaxis.set_ticklabels(['negative','positive'])\n",
    "ax.yaxis.set_ticklabels(['negative','positive'])\n",
    "plt.title('Confusion Matrix\\n')"
   ]
  },
  {
   "cell_type": "markdown",
   "metadata": {},
   "source": [
    "# Classification Report"
   ]
  },
  {
   "cell_type": "code",
   "execution_count": 94,
   "metadata": {},
   "outputs": [
    {
     "name": "stdout",
     "output_type": "stream",
     "text": [
      "_____________________________________________________________________________________________________\n",
      "Classification Report: \n",
      "\n"
     ]
    },
    {
     "name": "stderr",
     "output_type": "stream",
     "text": [
      "C:\\Users\\MERCER\\Anaconda3\\lib\\site-packages\\sklearn\\metrics\\classification.py:1143: UndefinedMetricWarning: Precision and F-score are ill-defined and being set to 0.0 in labels with no predicted samples.\n",
      "  'precision', 'predicted', average, warn_for)\n",
      "C:\\Users\\MERCER\\Anaconda3\\lib\\site-packages\\sklearn\\metrics\\classification.py:1143: UndefinedMetricWarning: Precision and F-score are ill-defined and being set to 0.0 in labels with no predicted samples.\n",
      "  'precision', 'predicted', average, warn_for)\n",
      "C:\\Users\\MERCER\\Anaconda3\\lib\\site-packages\\sklearn\\metrics\\classification.py:1143: UndefinedMetricWarning: Precision and F-score are ill-defined and being set to 0.0 in labels with no predicted samples.\n",
      "  'precision', 'predicted', average, warn_for)\n"
     ]
    },
    {
     "name": "stdout",
     "output_type": "stream",
     "text": [
      "              precision    recall  f1-score   support\n",
      "\n",
      "           0       0.00      0.00      0.00      1502\n",
      "           1       0.85      1.00      0.92      8498\n",
      "\n",
      "   micro avg       0.85      0.85      0.85     10000\n",
      "   macro avg       0.42      0.50      0.46     10000\n",
      "weighted avg       0.72      0.85      0.78     10000\n",
      "\n",
      "_____________________________________________________________________________________________________\n"
     ]
    }
   ],
   "source": [
    "from sklearn.metrics import classification_report\n",
    "print(\"_\" * 101)\n",
    "print(\"Classification Report: \\n\")\n",
    "print(classification_report(y_test,y_test_pred_tfidf_w2v))\n",
    "print(\"_\" * 101)\n"
   ]
  },
  {
   "cell_type": "markdown",
   "metadata": {},
   "source": [
    "# TASK - 2 @ SET-2"
   ]
  },
  {
   "cell_type": "markdown",
   "metadata": {},
   "source": [
    "Select top 2000 features from feature Set 2 using `SelectKBest` and then apply KNN on top of these features"
   ]
  },
  {
   "cell_type": "code",
   "execution_count": 101,
   "metadata": {},
   "outputs": [],
   "source": [
    "\n",
    "from sklearn.feature_selection import SelectKBest, chi2\n",
    "\n",
    "Selector = SelectKBest(chi2,k=2000)\n",
    "Selector.fit(X_train_tfidf,y_train)\n",
    "\n",
    "X_train_new = Selector.transform(X_train_tfidf)\n",
    "X_test_new  = Selector.transform(X_test_tfidf)"
   ]
  },
  {
   "cell_type": "code",
   "execution_count": 114,
   "metadata": {},
   "outputs": [
    {
     "name": "stdout",
     "output_type": "stream",
     "text": [
      "(40000, 2000)\n",
      "(10000, 2000)\n"
     ]
    }
   ],
   "source": [
    "print(X_train_new.shape)\n",
    "print(X_test_new.shape)"
   ]
  },
  {
   "cell_type": "markdown",
   "metadata": {},
   "source": [
    "# Hyper-Parameter Tunning"
   ]
  },
  {
   "cell_type": "code",
   "execution_count": 102,
   "metadata": {
    "scrolled": true
   },
   "outputs": [
    {
     "name": "stdout",
     "output_type": "stream",
     "text": [
      "Fitting 5 folds for each of 9 candidates, totalling 45 fits\n"
     ]
    },
    {
     "name": "stderr",
     "output_type": "stream",
     "text": [
      "[Parallel(n_jobs=4)]: Using backend LokyBackend with 4 concurrent workers.\n",
      "[Parallel(n_jobs=4)]: Done   1 tasks      | elapsed:  1.9min\n",
      "[Parallel(n_jobs=4)]: Done   2 tasks      | elapsed:  2.3min\n",
      "[Parallel(n_jobs=4)]: Done   3 tasks      | elapsed:  2.3min\n",
      "[Parallel(n_jobs=4)]: Done   4 tasks      | elapsed:  2.3min\n",
      "[Parallel(n_jobs=4)]: Done   5 tasks      | elapsed:  3.5min\n",
      "[Parallel(n_jobs=4)]: Done   6 tasks      | elapsed:  3.9min\n",
      "[Parallel(n_jobs=4)]: Done   7 tasks      | elapsed:  4.0min\n",
      "[Parallel(n_jobs=4)]: Done   8 tasks      | elapsed:  4.0min\n",
      "[Parallel(n_jobs=4)]: Done   9 tasks      | elapsed:  5.2min\n",
      "[Parallel(n_jobs=4)]: Done  10 tasks      | elapsed:  5.6min\n",
      "[Parallel(n_jobs=4)]: Done  11 tasks      | elapsed:  5.7min\n",
      "[Parallel(n_jobs=4)]: Done  12 tasks      | elapsed:  5.8min\n",
      "[Parallel(n_jobs=4)]: Done  13 tasks      | elapsed:  6.9min\n",
      "[Parallel(n_jobs=4)]: Done  14 tasks      | elapsed:  7.4min\n",
      "[Parallel(n_jobs=4)]: Done  15 tasks      | elapsed:  7.4min\n",
      "[Parallel(n_jobs=4)]: Done  16 tasks      | elapsed:  7.5min\n",
      "[Parallel(n_jobs=4)]: Done  17 tasks      | elapsed:  8.7min\n",
      "[Parallel(n_jobs=4)]: Done  18 tasks      | elapsed:  9.2min\n",
      "[Parallel(n_jobs=4)]: Done  19 tasks      | elapsed:  9.3min\n",
      "[Parallel(n_jobs=4)]: Done  20 tasks      | elapsed:  9.4min\n",
      "[Parallel(n_jobs=4)]: Done  21 tasks      | elapsed: 10.6min\n",
      "[Parallel(n_jobs=4)]: Done  22 tasks      | elapsed: 11.1min\n",
      "[Parallel(n_jobs=4)]: Done  23 tasks      | elapsed: 11.2min\n",
      "[Parallel(n_jobs=4)]: Done  24 tasks      | elapsed: 11.2min\n",
      "[Parallel(n_jobs=4)]: Done  25 tasks      | elapsed: 12.9min\n",
      "[Parallel(n_jobs=4)]: Done  26 tasks      | elapsed: 13.5min\n",
      "[Parallel(n_jobs=4)]: Done  27 tasks      | elapsed: 13.7min\n",
      "[Parallel(n_jobs=4)]: Done  28 tasks      | elapsed: 13.8min\n",
      "[Parallel(n_jobs=4)]: Done  29 tasks      | elapsed: 15.0min\n",
      "[Parallel(n_jobs=4)]: Done  30 tasks      | elapsed: 15.3min\n",
      "[Parallel(n_jobs=4)]: Done  31 tasks      | elapsed: 15.5min\n",
      "[Parallel(n_jobs=4)]: Done  32 tasks      | elapsed: 15.5min\n",
      "[Parallel(n_jobs=4)]: Done  33 tasks      | elapsed: 16.8min\n",
      "[Parallel(n_jobs=4)]: Done  34 tasks      | elapsed: 17.2min\n",
      "[Parallel(n_jobs=4)]: Done  35 tasks      | elapsed: 17.5min\n",
      "[Parallel(n_jobs=4)]: Done  36 tasks      | elapsed: 17.7min\n",
      "[Parallel(n_jobs=4)]: Done  37 tasks      | elapsed: 18.8min\n",
      "[Parallel(n_jobs=4)]: Done  38 tasks      | elapsed: 19.2min\n",
      "[Parallel(n_jobs=4)]: Done  41 out of  45 | elapsed: 20.8min remaining:  2.0min\n",
      "[Parallel(n_jobs=4)]: Done  45 out of  45 | elapsed: 22.2min finished\n"
     ]
    },
    {
     "data": {
      "text/plain": [
       "GridSearchCV(cv=5, error_score='raise-deprecating',\n",
       "       estimator=KNeighborsClassifier(algorithm='auto', leaf_size=30, metric='minkowski',\n",
       "           metric_params=None, n_jobs=None, n_neighbors=5, p=2,\n",
       "           weights='uniform'),\n",
       "       fit_params=None, iid='warn', n_jobs=4,\n",
       "       param_grid={'n_neighbors': [1, 5, 10, 15, 21, 31, 41, 51, 60]},\n",
       "       pre_dispatch='2*n_jobs', refit=True, return_train_score='warn',\n",
       "       scoring='roc_auc', verbose=22)"
      ]
     },
     "execution_count": 102,
     "metadata": {},
     "output_type": "execute_result"
    }
   ],
   "source": [
    "from sklearn.model_selection import GridSearchCV\n",
    "from sklearn.neighbors import KNeighborsClassifier\n",
    "\n",
    "params ={ 'n_neighbors': [1, 5, 10, 15, 21, 31, 41, 51, 60]}\n",
    "\n",
    "estimator5 = KNeighborsClassifier()\n",
    "Research5 =GridSearchCV(estimator5 ,param_grid = params,cv= 5 ,scoring = 'roc_auc',verbose=22,n_jobs=4)\n",
    "Research5.fit(X_train_new,y_train)"
   ]
  },
  {
   "cell_type": "code",
   "execution_count": 105,
   "metadata": {},
   "outputs": [
    {
     "name": "stdout",
     "output_type": "stream",
     "text": [
      "0.5454695568857282\n",
      "best  k =  51\n"
     ]
    }
   ],
   "source": [
    "print(Research5.best_score_)\n",
    "n5=Research5.best_params_['n_neighbors']\n",
    "print('best  k = ',n5)"
   ]
  },
  {
   "cell_type": "markdown",
   "metadata": {},
   "source": [
    "# Performance Plot"
   ]
  },
  {
   "cell_type": "code",
   "execution_count": 106,
   "metadata": {},
   "outputs": [
    {
     "data": {
      "image/png": "[encoded data removed]",
      "text/plain": [
       "<Figure size 432x288 with 1 Axes>"
      ]
     },
     "metadata": {
      "needs_background": "light"
     },
     "output_type": "display_data"
    }
   ],
   "source": [
    "train_auc5 = Research5.cv_results_['mean_train_score']\n",
    "train_auc_std5 = Research5.cv_results_['std_train_score']\n",
    "cv_auc5 = Research5.cv_results_['mean_test_score'] \n",
    "cv_auc_std5 = Research5.cv_results_['std_test_score']\n",
    "\n",
    "plt.plot(params['n_neighbors'], train_auc5, label='Train AUC')\n",
    "\n",
    "# this code is copied from here: https://stackoverflow.com/a/48803361/4084039\n",
    "plt.gca().fill_between(params['n_neighbors'],train_auc5 - train_auc_std5,train_auc5 + train_auc_std5,alpha=0.2,color='darkblue')\n",
    "# create a shaded area between [mean - std, mean + std]\n",
    "\n",
    "plt.plot(params['n_neighbors'], cv_auc5, label='CV AUC')\n",
    "# this code is copied from here: https://stackoverflow.com/a/48803361/4084039\n",
    "plt.gca().fill_between(params['n_neighbors'],cv_auc5 - cv_auc_std5,cv_auc5 + cv_auc_std5,alpha=0.2,color='darkorange')\n",
    "\n",
    "plt.scatter(params['n_neighbors'], train_auc5, label='Train AUC points')\n",
    "plt.scatter(params['n_neighbors'], cv_auc5, label='CV AUC points')\n",
    "\n",
    "\n",
    "\n",
    "plt.legend()\n",
    "plt.xlabel(\"K: hyperparameter\")\n",
    "plt.ylabel(\"AUC\")\n",
    "plt.title(\"ERROR PLOTS\")\n",
    "plt.grid()\n",
    "plt.show()"
   ]
  },
  {
   "cell_type": "markdown",
   "metadata": {},
   "source": [
    "# Train Model on best params"
   ]
  },
  {
   "cell_type": "code",
   "execution_count": 107,
   "metadata": {},
   "outputs": [
    {
     "data": {
      "text/plain": [
       "KNeighborsClassifier(algorithm='auto', leaf_size=30, metric='minkowski',\n",
       "           metric_params=None, n_jobs=None, n_neighbors=51, p=2,\n",
       "           weights='uniform')"
      ]
     },
     "execution_count": 107,
     "metadata": {},
     "output_type": "execute_result"
    }
   ],
   "source": [
    "model_new5 = KNeighborsClassifier(n_neighbors = n5)\n",
    "model_new5.fit(X_train_new,y_train)"
   ]
  },
  {
   "cell_type": "markdown",
   "metadata": {},
   "source": [
    "# ROC Curve"
   ]
  },
  {
   "cell_type": "code",
   "execution_count": 108,
   "metadata": {},
   "outputs": [
    {
     "data": {
      "image/png": "[encoded data removed]",
      "text/plain": [
       "<Figure size 432x288 with 1 Axes>"
      ]
     },
     "metadata": {
      "needs_background": "light"
     },
     "output_type": "display_data"
    }
   ],
   "source": [
    "from  sklearn.metrics import roc_curve\n",
    "from sklearn.metrics import auc\n",
    "import matplotlib.pyplot as plt\n",
    "\n",
    "\n",
    "score_roc_train = model_new5.predict_proba(X_train_new)\n",
    "fpr_train, tpr_train, threshold_train = roc_curve(y_train, score_roc_train[:,1])\n",
    "roc_auc_train = auc(fpr_train, tpr_train)\n",
    "\n",
    "score_roc_test = model_new5.predict_proba(X_test_new)\n",
    "fpr_test, tpr_test, threshold_test = roc_curve(y_test, score_roc_test[:,1])\n",
    "roc_auc_test = auc(fpr_test, tpr_test)\n",
    "\n",
    "\n",
    "plt.plot(fpr_train, tpr_train, label = \"Train_AUC\"+str(auc(fpr_train, tpr_train)))\n",
    "plt.plot(fpr_test, tpr_test, label = \"Test_AUC\"+str(auc(fpr_test, tpr_test)))\n",
    "plt.legend(loc = 'lower right')\n",
    "\n",
    "plt.plot([0, 1], [0, 1],'r--')\n",
    "plt.xlim([0, 1])\n",
    "plt.ylim([0, 1])\n",
    "\n",
    "plt.ylabel('True Positive Rate')\n",
    "plt.xlabel('False Positive Rate')\n",
    "plt.title('ROC Curve of KNN ')\n",
    "plt.show()\n"
   ]
  },
  {
   "cell_type": "markdown",
   "metadata": {},
   "source": [
    "# Confusion Matrix"
   ]
  },
  {
   "cell_type": "code",
   "execution_count": 109,
   "metadata": {},
   "outputs": [],
   "source": [
    "y_train_pred_new = model_new5.predict(X_train_new)\n",
    "\n",
    "y_test_pred_new = model_new5.predict(X_test_new)"
   ]
  },
  {
   "cell_type": "code",
   "execution_count": 110,
   "metadata": {},
   "outputs": [
    {
     "name": "stdout",
     "output_type": "stream",
     "text": [
      "Train confusion matrix\n",
      "the maximum value of tpr*(1-fpr) 0.3578837566129194 for threshold 0.843\n"
     ]
    },
    {
     "data": {
      "text/plain": [
       "Text(0.5, 1.0, 'Confusion Matrix\\n')"
      ]
     },
     "execution_count": 110,
     "metadata": {},
     "output_type": "execute_result"
    },
    {
     "data": {
      "image/png": "[encoded data removed]",
      "text/plain": [
       "<Figure size 432x288 with 2 Axes>"
      ]
     },
     "metadata": {
      "needs_background": "light"
     },
     "output_type": "display_data"
    }
   ],
   "source": [
    "from sklearn.metrics import confusion_matrix\n",
    "\n",
    "ax = plt.subplot()\n",
    "\n",
    "print(\"Train confusion matrix\")\n",
    "cnn_train = confusion_matrix(y_train, predict(y_train_pred_new, threshold_train, fpr_train, tpr_train))\n",
    "sns.heatmap(cnn_train,annot = True,ax=ax,fmt='d')\n",
    "\n",
    "\n",
    "\n",
    "\n",
    "ax.set_xlabel('Predicted label')\n",
    "ax.set_ylabel('True label')\n",
    "ax.xaxis.set_ticklabels(['negative','positive'])\n",
    "ax.yaxis.set_ticklabels(['negative','positive'])\n",
    "plt.title('Confusion Matrix\\n')"
   ]
  },
  {
   "cell_type": "code",
   "execution_count": 111,
   "metadata": {},
   "outputs": [
    {
     "name": "stdout",
     "output_type": "stream",
     "text": [
      "Test confusion matrix\n",
      "the maximum value of tpr*(1-fpr) 0.2921093752675555 for threshold 0.843\n"
     ]
    },
    {
     "data": {
      "text/plain": [
       "Text(0.5, 1.0, 'Confusion Matrix\\n')"
      ]
     },
     "execution_count": 111,
     "metadata": {},
     "output_type": "execute_result"
    },
    {
     "data": {
      "image/png": "[encoded data removed]",
      "text/plain": [
       "<Figure size 432x288 with 2 Axes>"
      ]
     },
     "metadata": {
      "needs_background": "light"
     },
     "output_type": "display_data"
    }
   ],
   "source": [
    "ax = plt.subplot()\n",
    "\n",
    "print(\"Test confusion matrix\")\n",
    "cnn_test = confusion_matrix(y_test, predict(y_test_pred_new, threshold_test, fpr_test, tpr_test))\n",
    "sns.heatmap(cnn_test,annot = True,ax=ax,fmt='d')\n",
    "\n",
    "ax.set_xlabel('Predicted label')\n",
    "ax.set_ylabel('True label')\n",
    "ax.xaxis.set_ticklabels(['negative','positive'])\n",
    "ax.yaxis.set_ticklabels(['negative','positive'])\n",
    "plt.title('Confusion Matrix\\n')"
   ]
  },
  {
   "cell_type": "markdown",
   "metadata": {},
   "source": [
    "# Classification Report"
   ]
  },
  {
   "cell_type": "code",
   "execution_count": 112,
   "metadata": {},
   "outputs": [
    {
     "name": "stdout",
     "output_type": "stream",
     "text": [
      "_____________________________________________________________________________________________________\n",
      "Classification Report: \n",
      "\n"
     ]
    },
    {
     "name": "stderr",
     "output_type": "stream",
     "text": [
      "C:\\Users\\MERCER\\Anaconda3\\lib\\site-packages\\sklearn\\metrics\\classification.py:1143: UndefinedMetricWarning: Precision and F-score are ill-defined and being set to 0.0 in labels with no predicted samples.\n",
      "  'precision', 'predicted', average, warn_for)\n",
      "C:\\Users\\MERCER\\Anaconda3\\lib\\site-packages\\sklearn\\metrics\\classification.py:1143: UndefinedMetricWarning: Precision and F-score are ill-defined and being set to 0.0 in labels with no predicted samples.\n",
      "  'precision', 'predicted', average, warn_for)\n",
      "C:\\Users\\MERCER\\Anaconda3\\lib\\site-packages\\sklearn\\metrics\\classification.py:1143: UndefinedMetricWarning: Precision and F-score are ill-defined and being set to 0.0 in labels with no predicted samples.\n",
      "  'precision', 'predicted', average, warn_for)\n"
     ]
    },
    {
     "name": "stdout",
     "output_type": "stream",
     "text": [
      "              precision    recall  f1-score   support\n",
      "\n",
      "           0       0.00      0.00      0.00      1514\n",
      "           1       0.85      1.00      0.92      8486\n",
      "\n",
      "   micro avg       0.85      0.85      0.85     10000\n",
      "   macro avg       0.42      0.50      0.46     10000\n",
      "weighted avg       0.72      0.85      0.78     10000\n",
      "\n",
      "_____________________________________________________________________________________________________\n"
     ]
    }
   ],
   "source": [
    "from sklearn.metrics import classification_report\n",
    "print(\"_\" * 101)\n",
    "print(\"Classification Report: \\n\")\n",
    "print(classification_report(y_test,y_test_pred_new))\n",
    "print(\"_\" * 101)\n"
   ]
  },
  {
   "cell_type": "markdown",
   "metadata": {},
   "source": [
    "# Conclusion"
   ]
  },
  {
   "cell_type": "code",
   "execution_count": 115,
   "metadata": {},
   "outputs": [
    {
     "name": "stdout",
     "output_type": "stream",
     "text": [
      "+-----------------+----------------------------+-----------+----------+\n",
      "|    Vectorizer   | Hyperparameter_n_neighbors | AUC_train | AUC_test |\n",
      "+-----------------+----------------------------+-----------+----------+\n",
      "|       BOW       |             60             |    0.68   |   0.60   |\n",
      "|      TF-IDF     |             60             |    0.65   |   0.57   |\n",
      "|     AVG-W2V     |             60             |    0.70   |   0.53   |\n",
      "| TF-IDF WEIGHTED |             60             |     71    |   0.64   |\n",
      "|      Task 2     |             51             |    0.64   |   0.56   |\n",
      "+-----------------+----------------------------+-----------+----------+\n"
     ]
    }
   ],
   "source": [
    "from prettytable import PrettyTable\n",
    "\n",
    "pretty = PrettyTable()\n",
    "\n",
    "pretty.field_names = ['Vectorizer','Hyperparameter_n_neighbors','AUC_train','AUC_test']\n",
    "\n",
    "pretty.add_row(['BOW','60','0.68','0.60'])\n",
    "pretty.add_row(['TF-IDF','60','0.65','0.57'])\n",
    "pretty.add_row(['AVG-W2V','60','0.70','0.53'])\n",
    "pretty.add_row(['TF-IDF WEIGHTED','60','71','0.64'])\n",
    "pretty.add_row(['Task 2','51','0.64','0.56'])\n",
    "\n",
    "\n",
    "print(pretty)"
   ]
  },
  {
   "cell_type": "code",
   "execution_count": null,
   "metadata": {},
   "outputs": [],
   "source": []
  }
 ],
 "metadata": {
  "kernelspec": {
   "display_name": "Python 3",
   "language": "python",
   "name": "python3"
  },
  "language_info": {
   "codemirror_mode": {
    "name": "ipython",
    "version": 3
   },
   "file_extension": ".py",
   "mimetype": "text/x-python",
   "name": "python",
   "nbconvert_exporter": "python",
   "pygments_lexer": "ipython3",
   "version": "3.7.3"
  }
 },
 "nbformat": 4,
 "nbformat_minor": 2
}

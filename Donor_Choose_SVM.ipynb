{
 "cells": [
  {
   "cell_type": "markdown",
   "metadata": {},
   "source": [
    "# ASSIGNMENT - SUPPORT VECTOR MACHINE( SVM )"
   ]
  },
  {
   "cell_type": "markdown",
   "metadata": {},
   "source": [
    "<h1><font color = \"red\">[1] READING DATA </font></h1>"
   ]
  },
  {
   "cell_type": "code",
   "execution_count": 1,
   "metadata": {},
   "outputs": [],
   "source": [
    "import pandas as pd\n",
    "\n",
    "project_data=pd.read_csv(\"Donor_choose/train_data.csv\")\n",
    "resource_data=pd.read_csv(\"Donor_choose/resources.csv\")"
   ]
  },
  {
   "cell_type": "markdown",
   "metadata": {},
   "source": [
    "# [2] Sorting data according to time [TBS]"
   ]
  },
  {
   "cell_type": "code",
   "execution_count": 2,
   "metadata": {},
   "outputs": [
    {
     "name": "stdout",
     "output_type": "stream",
     "text": [
      "['Unnamed: 0', 'id', 'teacher_id', 'teacher_prefix', 'school_state', 'Date', 'project_grade_category', 'project_subject_categories', 'project_subject_subcategories', 'project_title', 'project_essay_1', 'project_essay_2', 'project_essay_3', 'project_essay_4', 'project_resource_summary', 'teacher_number_of_previously_posted_projects', 'project_is_approved']\n"
     ]
    },
    {
     "data": {
      "text/html": [
       "<div>\n",
       "<style scoped>\n",
       "    .dataframe tbody tr th:only-of-type {\n",
       "        vertical-align: middle;\n",
       "    }\n",
       "\n",
       "    .dataframe tbody tr th {\n",
       "        vertical-align: top;\n",
       "    }\n",
       "\n",
       "    .dataframe thead th {\n",
       "        text-align: right;\n",
       "    }\n",
       "</style>\n",
       "<table border=\"1\" class=\"dataframe\">\n",
       "  <thead>\n",
       "    <tr style=\"text-align: right;\">\n",
       "      <th></th>\n",
       "      <th>Unnamed: 0</th>\n",
       "      <th>id</th>\n",
       "      <th>teacher_id</th>\n",
       "      <th>teacher_prefix</th>\n",
       "      <th>school_state</th>\n",
       "      <th>Date</th>\n",
       "      <th>project_grade_category</th>\n",
       "      <th>project_subject_categories</th>\n",
       "      <th>project_subject_subcategories</th>\n",
       "      <th>project_title</th>\n",
       "      <th>project_essay_1</th>\n",
       "      <th>project_essay_2</th>\n",
       "      <th>project_essay_3</th>\n",
       "      <th>project_essay_4</th>\n",
       "      <th>project_resource_summary</th>\n",
       "      <th>teacher_number_of_previously_posted_projects</th>\n",
       "      <th>project_is_approved</th>\n",
       "    </tr>\n",
       "  </thead>\n",
       "  <tbody>\n",
       "    <tr>\n",
       "      <th>55660</th>\n",
       "      <td>8393</td>\n",
       "      <td>p205479</td>\n",
       "      <td>2bf07ba08945e5d8b2a3f269b2b3cfe5</td>\n",
       "      <td>Mrs.</td>\n",
       "      <td>CA</td>\n",
       "      <td>2016-04-27 00:27:36</td>\n",
       "      <td>Grades PreK-2</td>\n",
       "      <td>Math &amp; Science</td>\n",
       "      <td>Applied Sciences, Health &amp; Life Science</td>\n",
       "      <td>Engineering STEAM into the Primary Classroom</td>\n",
       "      <td>I have been fortunate enough to use the Fairy ...</td>\n",
       "      <td>My students come from a variety of backgrounds...</td>\n",
       "      <td>Each month I try to do several science or STEM...</td>\n",
       "      <td>It is challenging to develop high quality scie...</td>\n",
       "      <td>My students need STEM kits to learn critical s...</td>\n",
       "      <td>53</td>\n",
       "      <td>1</td>\n",
       "    </tr>\n",
       "    <tr>\n",
       "      <th>76127</th>\n",
       "      <td>37728</td>\n",
       "      <td>p043609</td>\n",
       "      <td>3f60494c61921b3b43ab61bdde2904df</td>\n",
       "      <td>Ms.</td>\n",
       "      <td>UT</td>\n",
       "      <td>2016-04-27 00:31:25</td>\n",
       "      <td>Grades 3-5</td>\n",
       "      <td>Special Needs</td>\n",
       "      <td>Special Needs</td>\n",
       "      <td>Sensory Tools for Focus</td>\n",
       "      <td>Imagine being 8-9 years old. You're in your th...</td>\n",
       "      <td>Most of my students have autism, anxiety, anot...</td>\n",
       "      <td>It is tough to do more than one thing at a tim...</td>\n",
       "      <td>When my students are able to calm themselves d...</td>\n",
       "      <td>My students need Boogie Boards for quiet senso...</td>\n",
       "      <td>4</td>\n",
       "      <td>1</td>\n",
       "    </tr>\n",
       "  </tbody>\n",
       "</table>\n",
       "</div>"
      ],
      "text/plain": [
       "       Unnamed: 0       id                        teacher_id teacher_prefix  \\\n",
       "55660        8393  p205479  2bf07ba08945e5d8b2a3f269b2b3cfe5           Mrs.   \n",
       "76127       37728  p043609  3f60494c61921b3b43ab61bdde2904df            Ms.   \n",
       "\n",
       "      school_state                Date project_grade_category  \\\n",
       "55660           CA 2016-04-27 00:27:36          Grades PreK-2   \n",
       "76127           UT 2016-04-27 00:31:25             Grades 3-5   \n",
       "\n",
       "      project_subject_categories            project_subject_subcategories  \\\n",
       "55660             Math & Science  Applied Sciences, Health & Life Science   \n",
       "76127              Special Needs                            Special Needs   \n",
       "\n",
       "                                      project_title  \\\n",
       "55660  Engineering STEAM into the Primary Classroom   \n",
       "76127                       Sensory Tools for Focus   \n",
       "\n",
       "                                         project_essay_1  \\\n",
       "55660  I have been fortunate enough to use the Fairy ...   \n",
       "76127  Imagine being 8-9 years old. You're in your th...   \n",
       "\n",
       "                                         project_essay_2  \\\n",
       "55660  My students come from a variety of backgrounds...   \n",
       "76127  Most of my students have autism, anxiety, anot...   \n",
       "\n",
       "                                         project_essay_3  \\\n",
       "55660  Each month I try to do several science or STEM...   \n",
       "76127  It is tough to do more than one thing at a tim...   \n",
       "\n",
       "                                         project_essay_4  \\\n",
       "55660  It is challenging to develop high quality scie...   \n",
       "76127  When my students are able to calm themselves d...   \n",
       "\n",
       "                                project_resource_summary  \\\n",
       "55660  My students need STEM kits to learn critical s...   \n",
       "76127  My students need Boogie Boards for quiet senso...   \n",
       "\n",
       "       teacher_number_of_previously_posted_projects  project_is_approved  \n",
       "55660                                            53                    1  \n",
       "76127                                             4                    1  "
      ]
     },
     "execution_count": 2,
     "metadata": {},
     "output_type": "execute_result"
    }
   ],
   "source": [
    "# how to replace elements in list python: https://stackoverflow.com/a/2582163/4084039\n",
    "cols=['Date' if x=='project_submitted_datetime'else x for x in list(project_data.columns)]\n",
    "\n",
    "#sort dataframe based on time pandas python: https://stackoverflow.com/a/49702492/4084039\n",
    "project_data['Date'] = pd.to_datetime(project_data['project_submitted_datetime'])\n",
    "project_data.drop('project_submitted_datetime', axis=1, inplace=True)\n",
    "project_data.sort_values(by=['Date'], inplace=True)\n",
    "\n",
    "# how to reorder columns pandas python: https://stackoverflow.com/a/13148611/4084039\n",
    "project_data = project_data[cols]\n",
    "\n",
    "print(cols)\n",
    "project_data.head(2)"
   ]
  },
  {
   "cell_type": "code",
   "execution_count": 3,
   "metadata": {},
   "outputs": [
    {
     "name": "stdout",
     "output_type": "stream",
     "text": [
      "(109248, 17)\n",
      "====================================================================================================\n",
      "['Unnamed: 0' 'id' 'teacher_id' 'teacher_prefix' 'school_state' 'Date'\n",
      " 'project_grade_category' 'project_subject_categories'\n",
      " 'project_subject_subcategories' 'project_title' 'project_essay_1'\n",
      " 'project_essay_2' 'project_essay_3' 'project_essay_4'\n",
      " 'project_resource_summary' 'teacher_number_of_previously_posted_projects'\n",
      " 'project_is_approved']\n",
      "====================================================================================================\n",
      "(1541272, 4)\n",
      "====================================================================================================\n",
      "['id' 'description' 'quantity' 'price']\n"
     ]
    }
   ],
   "source": [
    "print(project_data.shape)\n",
    "print(\"=\"*100)\n",
    "print(project_data.columns.values)\n",
    "print(\"=\"*100)\n",
    "print(resource_data.shape)\n",
    "print(\"=\"*100)\n",
    "print(resource_data.columns.values)"
   ]
  },
  {
   "cell_type": "markdown",
   "metadata": {},
   "source": [
    "# [3] Preproccesing Steps"
   ]
  },
  {
   "cell_type": "code",
   "execution_count": 4,
   "metadata": {},
   "outputs": [],
   "source": [
    "categories=list(project_data['project_subject_categories'].values)\n",
    "# remove special characters from list of strings python: https://stackoverflow.com/a/47301924/4084039\n",
    "cat_list = []\n",
    "for i in categories:\n",
    "    temp = \"\"\n",
    "    # consider we have text like this \"Math & Science, Warmth, Care & Hunger\"\n",
    "    for j in i.split(','): # it will split it in three parts [\"Math & Science\", \"Warmth\", \"Care & Hunger\"]\n",
    "        if 'The' in j.split(): # this will split each of the catogory based on space \"Math & Science\"=> \"Math\",\"&\", \"Science\"\n",
    "            j=j.replace('The','') # if we have the words \"The\" we are going to replace it with ''(i.e removing 'The')\n",
    "        j = j.replace(' ','') # we are placeing all the ' '(space) with ''(empty) ex:\"Math & Science\"=>\"Math&Science\"\n",
    "        temp+=j.strip()+\" \" #\" abc \".strip() will return \"abc\", remove the trailing spaces\n",
    "        temp = temp.replace('&','_') # we are replacing the & value into \n",
    "    cat_list.append(temp.strip())"
   ]
  },
  {
   "cell_type": "code",
   "execution_count": 5,
   "metadata": {},
   "outputs": [
    {
     "data": {
      "text/html": [
       "<div>\n",
       "<style scoped>\n",
       "    .dataframe tbody tr th:only-of-type {\n",
       "        vertical-align: middle;\n",
       "    }\n",
       "\n",
       "    .dataframe tbody tr th {\n",
       "        vertical-align: top;\n",
       "    }\n",
       "\n",
       "    .dataframe thead th {\n",
       "        text-align: right;\n",
       "    }\n",
       "</style>\n",
       "<table border=\"1\" class=\"dataframe\">\n",
       "  <thead>\n",
       "    <tr style=\"text-align: right;\">\n",
       "      <th></th>\n",
       "      <th>Unnamed: 0</th>\n",
       "      <th>id</th>\n",
       "      <th>teacher_id</th>\n",
       "      <th>teacher_prefix</th>\n",
       "      <th>school_state</th>\n",
       "      <th>Date</th>\n",
       "      <th>project_grade_category</th>\n",
       "      <th>project_subject_subcategories</th>\n",
       "      <th>project_title</th>\n",
       "      <th>project_essay_1</th>\n",
       "      <th>project_essay_2</th>\n",
       "      <th>project_essay_3</th>\n",
       "      <th>project_essay_4</th>\n",
       "      <th>project_resource_summary</th>\n",
       "      <th>teacher_number_of_previously_posted_projects</th>\n",
       "      <th>project_is_approved</th>\n",
       "      <th>clean_categories</th>\n",
       "    </tr>\n",
       "  </thead>\n",
       "  <tbody>\n",
       "    <tr>\n",
       "      <th>55660</th>\n",
       "      <td>8393</td>\n",
       "      <td>p205479</td>\n",
       "      <td>2bf07ba08945e5d8b2a3f269b2b3cfe5</td>\n",
       "      <td>Mrs.</td>\n",
       "      <td>CA</td>\n",
       "      <td>2016-04-27 00:27:36</td>\n",
       "      <td>Grades PreK-2</td>\n",
       "      <td>Applied Sciences, Health &amp; Life Science</td>\n",
       "      <td>Engineering STEAM into the Primary Classroom</td>\n",
       "      <td>I have been fortunate enough to use the Fairy ...</td>\n",
       "      <td>My students come from a variety of backgrounds...</td>\n",
       "      <td>Each month I try to do several science or STEM...</td>\n",
       "      <td>It is challenging to develop high quality scie...</td>\n",
       "      <td>My students need STEM kits to learn critical s...</td>\n",
       "      <td>53</td>\n",
       "      <td>1</td>\n",
       "      <td>Math_Science</td>\n",
       "    </tr>\n",
       "    <tr>\n",
       "      <th>76127</th>\n",
       "      <td>37728</td>\n",
       "      <td>p043609</td>\n",
       "      <td>3f60494c61921b3b43ab61bdde2904df</td>\n",
       "      <td>Ms.</td>\n",
       "      <td>UT</td>\n",
       "      <td>2016-04-27 00:31:25</td>\n",
       "      <td>Grades 3-5</td>\n",
       "      <td>Special Needs</td>\n",
       "      <td>Sensory Tools for Focus</td>\n",
       "      <td>Imagine being 8-9 years old. You're in your th...</td>\n",
       "      <td>Most of my students have autism, anxiety, anot...</td>\n",
       "      <td>It is tough to do more than one thing at a tim...</td>\n",
       "      <td>When my students are able to calm themselves d...</td>\n",
       "      <td>My students need Boogie Boards for quiet senso...</td>\n",
       "      <td>4</td>\n",
       "      <td>1</td>\n",
       "      <td>SpecialNeeds</td>\n",
       "    </tr>\n",
       "  </tbody>\n",
       "</table>\n",
       "</div>"
      ],
      "text/plain": [
       "       Unnamed: 0       id                        teacher_id teacher_prefix  \\\n",
       "55660        8393  p205479  2bf07ba08945e5d8b2a3f269b2b3cfe5           Mrs.   \n",
       "76127       37728  p043609  3f60494c61921b3b43ab61bdde2904df            Ms.   \n",
       "\n",
       "      school_state                Date project_grade_category  \\\n",
       "55660           CA 2016-04-27 00:27:36          Grades PreK-2   \n",
       "76127           UT 2016-04-27 00:31:25             Grades 3-5   \n",
       "\n",
       "                 project_subject_subcategories  \\\n",
       "55660  Applied Sciences, Health & Life Science   \n",
       "76127                            Special Needs   \n",
       "\n",
       "                                      project_title  \\\n",
       "55660  Engineering STEAM into the Primary Classroom   \n",
       "76127                       Sensory Tools for Focus   \n",
       "\n",
       "                                         project_essay_1  \\\n",
       "55660  I have been fortunate enough to use the Fairy ...   \n",
       "76127  Imagine being 8-9 years old. You're in your th...   \n",
       "\n",
       "                                         project_essay_2  \\\n",
       "55660  My students come from a variety of backgrounds...   \n",
       "76127  Most of my students have autism, anxiety, anot...   \n",
       "\n",
       "                                         project_essay_3  \\\n",
       "55660  Each month I try to do several science or STEM...   \n",
       "76127  It is tough to do more than one thing at a tim...   \n",
       "\n",
       "                                         project_essay_4  \\\n",
       "55660  It is challenging to develop high quality scie...   \n",
       "76127  When my students are able to calm themselves d...   \n",
       "\n",
       "                                project_resource_summary  \\\n",
       "55660  My students need STEM kits to learn critical s...   \n",
       "76127  My students need Boogie Boards for quiet senso...   \n",
       "\n",
       "       teacher_number_of_previously_posted_projects  project_is_approved  \\\n",
       "55660                                            53                    1   \n",
       "76127                                             4                    1   \n",
       "\n",
       "      clean_categories  \n",
       "55660     Math_Science  \n",
       "76127     SpecialNeeds  "
      ]
     },
     "execution_count": 5,
     "metadata": {},
     "output_type": "execute_result"
    }
   ],
   "source": [
    "project_data['clean_categories'] = cat_list\n",
    "project_data.drop(['project_subject_categories'], axis=1, inplace=True)\n",
    "project_data.head(2)"
   ]
  },
  {
   "cell_type": "code",
   "execution_count": 6,
   "metadata": {},
   "outputs": [],
   "source": [
    "# count of all the words in corpus python: https://stackoverflow.com/a/22898595/4084039\n",
    "from collections import Counter\n",
    "my_counter = Counter()\n",
    "for word in project_data['clean_categories'].values:\n",
    "    my_counter.update(word.split())"
   ]
  },
  {
   "cell_type": "code",
   "execution_count": 7,
   "metadata": {},
   "outputs": [
    {
     "data": {
      "text/plain": [
       "{'Warmth': 1388,\n",
       " 'Care_Hunger': 1388,\n",
       " 'History_Civics': 5914,\n",
       " 'Music_Arts': 10293,\n",
       " 'AppliedLearning': 12135,\n",
       " 'SpecialNeeds': 13642,\n",
       " 'Health_Sports': 14223,\n",
       " 'Math_Science': 41421,\n",
       " 'Literacy_Language': 52239}"
      ]
     },
     "execution_count": 7,
     "metadata": {},
     "output_type": "execute_result"
    }
   ],
   "source": [
    "# dict sort by value python: https://stackoverflow.com/a/613218/4084039\n",
    "cat_dict = dict(my_counter)\n",
    "sorted_cat_dict = dict(sorted(cat_dict.items(), key=lambda kv: kv[1]))\n",
    "sorted_cat_dict"
   ]
  },
  {
   "cell_type": "code",
   "execution_count": 8,
   "metadata": {},
   "outputs": [],
   "source": [
    "sub_catogories = list(project_data['project_subject_subcategories'].values)\n",
    "# remove special characters from list of strings python: https://stackoverflow.com/a/47301924/4084039\n",
    "\n",
    "# https://www.geeksforgeeks.org/removing-stop-words-nltk-python/\n",
    "# https://stackoverflow.com/questions/23669024/how-to-strip-a-specific-word-from-a-string\n",
    "# https://stackoverflow.com/questions/8270092/remove-all-whitespace-in-a-string-in-python\n",
    "\n",
    "sub_cat_list = []\n",
    "for i in sub_catogories:\n",
    "    temp = \"\"\n",
    "    # consider we have text like this \"Math & Science, Warmth, Care & Hunger\"\n",
    "    for j in i.split(','): # it will split it in three parts [\"Math & Science\", \"Warmth\", \"Care & Hunger\"]\n",
    "        if 'The' in j.split(): # this will split each of the catogory based on space \"Math & Science\"=> \"Math\",\"&\", \"Science\"\n",
    "            j=j.replace('The','') # if we have the words \"The\" we are going to replace it with ''(i.e removing 'The')\n",
    "        j = j.replace(' ','') # we are placeing all the ' '(space) with ''(empty) ex:\"Math & Science\"=>\"Math&Science\"\n",
    "        temp +=j.strip()+\" \"#\" abc \".strip() will return \"abc\", remove the trailing spaces\n",
    "        temp = temp.replace('&','_')\n",
    "    sub_cat_list.append(temp.strip())"
   ]
  },
  {
   "cell_type": "code",
   "execution_count": 9,
   "metadata": {},
   "outputs": [
    {
     "data": {
      "text/html": [
       "<div>\n",
       "<style scoped>\n",
       "    .dataframe tbody tr th:only-of-type {\n",
       "        vertical-align: middle;\n",
       "    }\n",
       "\n",
       "    .dataframe tbody tr th {\n",
       "        vertical-align: top;\n",
       "    }\n",
       "\n",
       "    .dataframe thead th {\n",
       "        text-align: right;\n",
       "    }\n",
       "</style>\n",
       "<table border=\"1\" class=\"dataframe\">\n",
       "  <thead>\n",
       "    <tr style=\"text-align: right;\">\n",
       "      <th></th>\n",
       "      <th>Unnamed: 0</th>\n",
       "      <th>id</th>\n",
       "      <th>teacher_id</th>\n",
       "      <th>teacher_prefix</th>\n",
       "      <th>school_state</th>\n",
       "      <th>Date</th>\n",
       "      <th>project_grade_category</th>\n",
       "      <th>project_title</th>\n",
       "      <th>project_essay_1</th>\n",
       "      <th>project_essay_2</th>\n",
       "      <th>project_essay_3</th>\n",
       "      <th>project_essay_4</th>\n",
       "      <th>project_resource_summary</th>\n",
       "      <th>teacher_number_of_previously_posted_projects</th>\n",
       "      <th>project_is_approved</th>\n",
       "      <th>clean_categories</th>\n",
       "      <th>clean_subcategories</th>\n",
       "    </tr>\n",
       "  </thead>\n",
       "  <tbody>\n",
       "    <tr>\n",
       "      <th>55660</th>\n",
       "      <td>8393</td>\n",
       "      <td>p205479</td>\n",
       "      <td>2bf07ba08945e5d8b2a3f269b2b3cfe5</td>\n",
       "      <td>Mrs.</td>\n",
       "      <td>CA</td>\n",
       "      <td>2016-04-27 00:27:36</td>\n",
       "      <td>Grades PreK-2</td>\n",
       "      <td>Engineering STEAM into the Primary Classroom</td>\n",
       "      <td>I have been fortunate enough to use the Fairy ...</td>\n",
       "      <td>My students come from a variety of backgrounds...</td>\n",
       "      <td>Each month I try to do several science or STEM...</td>\n",
       "      <td>It is challenging to develop high quality scie...</td>\n",
       "      <td>My students need STEM kits to learn critical s...</td>\n",
       "      <td>53</td>\n",
       "      <td>1</td>\n",
       "      <td>Math_Science</td>\n",
       "      <td>AppliedSciences Health_LifeScience</td>\n",
       "    </tr>\n",
       "    <tr>\n",
       "      <th>76127</th>\n",
       "      <td>37728</td>\n",
       "      <td>p043609</td>\n",
       "      <td>3f60494c61921b3b43ab61bdde2904df</td>\n",
       "      <td>Ms.</td>\n",
       "      <td>UT</td>\n",
       "      <td>2016-04-27 00:31:25</td>\n",
       "      <td>Grades 3-5</td>\n",
       "      <td>Sensory Tools for Focus</td>\n",
       "      <td>Imagine being 8-9 years old. You're in your th...</td>\n",
       "      <td>Most of my students have autism, anxiety, anot...</td>\n",
       "      <td>It is tough to do more than one thing at a tim...</td>\n",
       "      <td>When my students are able to calm themselves d...</td>\n",
       "      <td>My students need Boogie Boards for quiet senso...</td>\n",
       "      <td>4</td>\n",
       "      <td>1</td>\n",
       "      <td>SpecialNeeds</td>\n",
       "      <td>SpecialNeeds</td>\n",
       "    </tr>\n",
       "  </tbody>\n",
       "</table>\n",
       "</div>"
      ],
      "text/plain": [
       "       Unnamed: 0       id                        teacher_id teacher_prefix  \\\n",
       "55660        8393  p205479  2bf07ba08945e5d8b2a3f269b2b3cfe5           Mrs.   \n",
       "76127       37728  p043609  3f60494c61921b3b43ab61bdde2904df            Ms.   \n",
       "\n",
       "      school_state                Date project_grade_category  \\\n",
       "55660           CA 2016-04-27 00:27:36          Grades PreK-2   \n",
       "76127           UT 2016-04-27 00:31:25             Grades 3-5   \n",
       "\n",
       "                                      project_title  \\\n",
       "55660  Engineering STEAM into the Primary Classroom   \n",
       "76127                       Sensory Tools for Focus   \n",
       "\n",
       "                                         project_essay_1  \\\n",
       "55660  I have been fortunate enough to use the Fairy ...   \n",
       "76127  Imagine being 8-9 years old. You're in your th...   \n",
       "\n",
       "                                         project_essay_2  \\\n",
       "55660  My students come from a variety of backgrounds...   \n",
       "76127  Most of my students have autism, anxiety, anot...   \n",
       "\n",
       "                                         project_essay_3  \\\n",
       "55660  Each month I try to do several science or STEM...   \n",
       "76127  It is tough to do more than one thing at a tim...   \n",
       "\n",
       "                                         project_essay_4  \\\n",
       "55660  It is challenging to develop high quality scie...   \n",
       "76127  When my students are able to calm themselves d...   \n",
       "\n",
       "                                project_resource_summary  \\\n",
       "55660  My students need STEM kits to learn critical s...   \n",
       "76127  My students need Boogie Boards for quiet senso...   \n",
       "\n",
       "       teacher_number_of_previously_posted_projects  project_is_approved  \\\n",
       "55660                                            53                    1   \n",
       "76127                                             4                    1   \n",
       "\n",
       "      clean_categories                 clean_subcategories  \n",
       "55660     Math_Science  AppliedSciences Health_LifeScience  \n",
       "76127     SpecialNeeds                        SpecialNeeds  "
      ]
     },
     "execution_count": 9,
     "metadata": {},
     "output_type": "execute_result"
    }
   ],
   "source": [
    "project_data['clean_subcategories'] = sub_cat_list\n",
    "project_data.drop(['project_subject_subcategories'], axis=1, inplace=True)\n",
    "project_data.head(2)"
   ]
  },
  {
   "cell_type": "code",
   "execution_count": 10,
   "metadata": {},
   "outputs": [],
   "source": [
    "# count of all the words in corpus python: https://stackoverflow.com/a/22898595/4084039\n",
    "from collections import Counter\n",
    "my_counter = Counter()\n",
    "for word in project_data['clean_subcategories'].values:\n",
    "    my_counter.update(word.split())"
   ]
  },
  {
   "cell_type": "code",
   "execution_count": 11,
   "metadata": {},
   "outputs": [
    {
     "data": {
      "text/plain": [
       "{'Economics': 269,\n",
       " 'CommunityService': 441,\n",
       " 'FinancialLiteracy': 568,\n",
       " 'ParentInvolvement': 677,\n",
       " 'Extracurricular': 810,\n",
       " 'Civics_Government': 815,\n",
       " 'ForeignLanguages': 890,\n",
       " 'NutritionEducation': 1355,\n",
       " 'Warmth': 1388,\n",
       " 'Care_Hunger': 1388,\n",
       " 'SocialSciences': 1920,\n",
       " 'PerformingArts': 1961,\n",
       " 'CharacterEducation': 2065,\n",
       " 'TeamSports': 2192,\n",
       " 'Other': 2372,\n",
       " 'College_CareerPrep': 2568,\n",
       " 'Music': 3145,\n",
       " 'History_Geography': 3171,\n",
       " 'Health_LifeScience': 4235,\n",
       " 'EarlyDevelopment': 4254,\n",
       " 'ESL': 4367,\n",
       " 'Gym_Fitness': 4509,\n",
       " 'EnvironmentalScience': 5591,\n",
       " 'VisualArts': 6278,\n",
       " 'Health_Wellness': 10234,\n",
       " 'AppliedSciences': 10816,\n",
       " 'SpecialNeeds': 13642,\n",
       " 'Literature_Writing': 22179,\n",
       " 'Mathematics': 28074,\n",
       " 'Literacy': 33700}"
      ]
     },
     "execution_count": 11,
     "metadata": {},
     "output_type": "execute_result"
    }
   ],
   "source": [
    "# dict sort by value python: https://stackoverflow.com/a/613218/4084039\n",
    "sub_cat_dict = dict(my_counter)\n",
    "sorted_sub_cat_dict = dict(sorted(sub_cat_dict.items(), key=lambda kv: kv[1]))\n",
    "sorted_sub_cat_dict"
   ]
  },
  {
   "cell_type": "code",
   "execution_count": 12,
   "metadata": {},
   "outputs": [
    {
     "name": "stdout",
     "output_type": "stream",
     "text": [
      "<bound method IndexOpsMixin.value_counts of 55660     I have been fortunate enough to use the Fairy ...\n",
      "76127     Imagine being 8-9 years old. You're in your th...\n",
      "51140     Having a class of 24 students comes with diver...\n",
      "473       I recently read an article about giving studen...\n",
      "41558     My students crave challenge, they eat obstacle...\n",
      "29891     It's the end of the school year. Routines have...\n",
      "81565     \\\"Sitting still is overrated. It makes sense f...\n",
      "79026     It’s not enough to read a book and write an es...\n",
      "23374     Never has society so rapidly changed. Technolo...\n",
      "86551     Do you remember the first time you saw Star Wa...\n",
      "49228     My students yearn for a classroom environment ...\n",
      "72638     Media and cinematography has been an extremely...\n",
      "7176      Computer coding and robotics, my second grader...\n",
      "70898     I teach 4th grade math, writing, social studie...\n",
      "102755    In my classroom we explore and delve into real...\n",
      "72593     A typical day in my classroom starts 30 minute...\n",
      "35006     We LOVE technology! In our classroom, technolo...\n",
      "100222    \\\"Teachers who love teaching teach children to...\n",
      "5145      Do you remember the book you read that made yo...\n",
      "48237     My students are learning to become lovers of r...\n",
      "64637     Throughout this school year, I hope to enable ...\n",
      "98973     Children spend much too much time connected to...\n",
      "52282     Education is about nurturing justice, engaging...\n",
      "46375     Everyday my students interact with each other ...\n",
      "83528     I teach six amazing children with autism. Each...\n",
      "36468     Everyday students are so excited to come to me...\n",
      "36358     I am half day pre-k. I have two sets of studen...\n",
      "39438     Our school is an urban public school that serv...\n",
      "72117     Each day I teach a class from every grade. I'm...\n",
      "2521      My students are all struggling readers. I supp...\n",
      "                                ...                        \n",
      "65527     I work in a school of approximately 800 studen...\n",
      "24226     As a new teacher working in a high poverty dis...\n",
      "35609     Love to sing, create, move and learn? You've c...\n",
      "57692     Our school is 95 percent free and reduced lunc...\n",
      "96905     My students live in Oklahoma City.  Oklahoma g...\n",
      "27437     My 6th period class consist of 36 students wit...\n",
      "86437     I work with a wonderful group of second grader...\n",
      "64442     As a teacher-librarian, I get to share my love...\n",
      "60130     I am so incredibly lucky to spend my days with...\n",
      "61773     I teach fifth graders in a low income, high po...\n",
      "83452     \\\"Every child deserves a champion: an adult wh...\n",
      "78852     My students are from low income families aroun...\n",
      "62763     Our school encountered a great loss due to a d...\n",
      "98383     Motivated to learn, my students never cease to...\n",
      "108896    Although physical education is mandated for on...\n",
      "5403      My students are excited, happy, frustrated, sa...\n",
      "18892     My first graders are creative, innovative, and...\n",
      "56589     My classroom is a revolving door. They are eag...\n",
      "21335     My school will work with Microsoft's TEALS pro...\n",
      "41604     Each day my students eagerly anticipate our re...\n",
      "11368     I teach 17 amazing students in a Title One sch...\n",
      "32881     My students often have to worry about things o...\n",
      "84022     Our students come from multiple different back...\n",
      "106793    My students this year love science and enginee...\n",
      "27376     I teach first grade in a Title I school. Altho...\n",
      "87154     Our day starts with about 100 students athlete...\n",
      "14678     My students range from age four to five years ...\n",
      "39096     We are a Title 1 school  650 total students. O...\n",
      "87881     I teach many different types of students.  My ...\n",
      "78306     My first graders are eager to learn about the ...\n",
      "Name: essay, Length: 109248, dtype: object>\n"
     ]
    },
    {
     "data": {
      "text/html": [
       "<div>\n",
       "<style scoped>\n",
       "    .dataframe tbody tr th:only-of-type {\n",
       "        vertical-align: middle;\n",
       "    }\n",
       "\n",
       "    .dataframe tbody tr th {\n",
       "        vertical-align: top;\n",
       "    }\n",
       "\n",
       "    .dataframe thead th {\n",
       "        text-align: right;\n",
       "    }\n",
       "</style>\n",
       "<table border=\"1\" class=\"dataframe\">\n",
       "  <thead>\n",
       "    <tr style=\"text-align: right;\">\n",
       "      <th></th>\n",
       "      <th>Unnamed: 0</th>\n",
       "      <th>id</th>\n",
       "      <th>teacher_id</th>\n",
       "      <th>teacher_prefix</th>\n",
       "      <th>school_state</th>\n",
       "      <th>Date</th>\n",
       "      <th>project_grade_category</th>\n",
       "      <th>project_title</th>\n",
       "      <th>project_essay_1</th>\n",
       "      <th>project_essay_2</th>\n",
       "      <th>project_essay_3</th>\n",
       "      <th>project_essay_4</th>\n",
       "      <th>project_resource_summary</th>\n",
       "      <th>teacher_number_of_previously_posted_projects</th>\n",
       "      <th>project_is_approved</th>\n",
       "      <th>clean_categories</th>\n",
       "      <th>clean_subcategories</th>\n",
       "      <th>essay</th>\n",
       "    </tr>\n",
       "  </thead>\n",
       "  <tbody>\n",
       "    <tr>\n",
       "      <th>55660</th>\n",
       "      <td>8393</td>\n",
       "      <td>p205479</td>\n",
       "      <td>2bf07ba08945e5d8b2a3f269b2b3cfe5</td>\n",
       "      <td>Mrs.</td>\n",
       "      <td>CA</td>\n",
       "      <td>2016-04-27 00:27:36</td>\n",
       "      <td>Grades PreK-2</td>\n",
       "      <td>Engineering STEAM into the Primary Classroom</td>\n",
       "      <td>I have been fortunate enough to use the Fairy ...</td>\n",
       "      <td>My students come from a variety of backgrounds...</td>\n",
       "      <td>Each month I try to do several science or STEM...</td>\n",
       "      <td>It is challenging to develop high quality scie...</td>\n",
       "      <td>My students need STEM kits to learn critical s...</td>\n",
       "      <td>53</td>\n",
       "      <td>1</td>\n",
       "      <td>Math_Science</td>\n",
       "      <td>AppliedSciences Health_LifeScience</td>\n",
       "      <td>I have been fortunate enough to use the Fairy ...</td>\n",
       "    </tr>\n",
       "    <tr>\n",
       "      <th>76127</th>\n",
       "      <td>37728</td>\n",
       "      <td>p043609</td>\n",
       "      <td>3f60494c61921b3b43ab61bdde2904df</td>\n",
       "      <td>Ms.</td>\n",
       "      <td>UT</td>\n",
       "      <td>2016-04-27 00:31:25</td>\n",
       "      <td>Grades 3-5</td>\n",
       "      <td>Sensory Tools for Focus</td>\n",
       "      <td>Imagine being 8-9 years old. You're in your th...</td>\n",
       "      <td>Most of my students have autism, anxiety, anot...</td>\n",
       "      <td>It is tough to do more than one thing at a tim...</td>\n",
       "      <td>When my students are able to calm themselves d...</td>\n",
       "      <td>My students need Boogie Boards for quiet senso...</td>\n",
       "      <td>4</td>\n",
       "      <td>1</td>\n",
       "      <td>SpecialNeeds</td>\n",
       "      <td>SpecialNeeds</td>\n",
       "      <td>Imagine being 8-9 years old. You're in your th...</td>\n",
       "    </tr>\n",
       "  </tbody>\n",
       "</table>\n",
       "</div>"
      ],
      "text/plain": [
       "       Unnamed: 0       id                        teacher_id teacher_prefix  \\\n",
       "55660        8393  p205479  2bf07ba08945e5d8b2a3f269b2b3cfe5           Mrs.   \n",
       "76127       37728  p043609  3f60494c61921b3b43ab61bdde2904df            Ms.   \n",
       "\n",
       "      school_state                Date project_grade_category  \\\n",
       "55660           CA 2016-04-27 00:27:36          Grades PreK-2   \n",
       "76127           UT 2016-04-27 00:31:25             Grades 3-5   \n",
       "\n",
       "                                      project_title  \\\n",
       "55660  Engineering STEAM into the Primary Classroom   \n",
       "76127                       Sensory Tools for Focus   \n",
       "\n",
       "                                         project_essay_1  \\\n",
       "55660  I have been fortunate enough to use the Fairy ...   \n",
       "76127  Imagine being 8-9 years old. You're in your th...   \n",
       "\n",
       "                                         project_essay_2  \\\n",
       "55660  My students come from a variety of backgrounds...   \n",
       "76127  Most of my students have autism, anxiety, anot...   \n",
       "\n",
       "                                         project_essay_3  \\\n",
       "55660  Each month I try to do several science or STEM...   \n",
       "76127  It is tough to do more than one thing at a tim...   \n",
       "\n",
       "                                         project_essay_4  \\\n",
       "55660  It is challenging to develop high quality scie...   \n",
       "76127  When my students are able to calm themselves d...   \n",
       "\n",
       "                                project_resource_summary  \\\n",
       "55660  My students need STEM kits to learn critical s...   \n",
       "76127  My students need Boogie Boards for quiet senso...   \n",
       "\n",
       "       teacher_number_of_previously_posted_projects  project_is_approved  \\\n",
       "55660                                            53                    1   \n",
       "76127                                             4                    1   \n",
       "\n",
       "      clean_categories                 clean_subcategories  \\\n",
       "55660     Math_Science  AppliedSciences Health_LifeScience   \n",
       "76127     SpecialNeeds                        SpecialNeeds   \n",
       "\n",
       "                                                   essay  \n",
       "55660  I have been fortunate enough to use the Fairy ...  \n",
       "76127  Imagine being 8-9 years old. You're in your th...  "
      ]
     },
     "execution_count": 12,
     "metadata": {},
     "output_type": "execute_result"
    }
   ],
   "source": [
    "# merge two column text dataframe: \n",
    "project_data[\"essay\"] = project_data[\"project_essay_1\"].map(str) +\\\n",
    "                        project_data[\"project_essay_2\"].map(str) + \\\n",
    "                        project_data[\"project_essay_3\"].map(str) + \\\n",
    "                        project_data[\"project_essay_4\"].map(str)\n",
    "print(project_data[\"essay\"].value_counts)\n",
    "project_data.head(2)\n"
   ]
  },
  {
   "cell_type": "code",
   "execution_count": 13,
   "metadata": {},
   "outputs": [
    {
     "data": {
      "text/html": [
       "<div>\n",
       "<style scoped>\n",
       "    .dataframe tbody tr th:only-of-type {\n",
       "        vertical-align: middle;\n",
       "    }\n",
       "\n",
       "    .dataframe tbody tr th {\n",
       "        vertical-align: top;\n",
       "    }\n",
       "\n",
       "    .dataframe thead th {\n",
       "        text-align: right;\n",
       "    }\n",
       "</style>\n",
       "<table border=\"1\" class=\"dataframe\">\n",
       "  <thead>\n",
       "    <tr style=\"text-align: right;\">\n",
       "      <th></th>\n",
       "      <th>id</th>\n",
       "      <th>description</th>\n",
       "      <th>quantity</th>\n",
       "      <th>price</th>\n",
       "    </tr>\n",
       "  </thead>\n",
       "  <tbody>\n",
       "    <tr>\n",
       "      <th>0</th>\n",
       "      <td>p233245</td>\n",
       "      <td>LC652 - Lakeshore Double-Space Mobile Drying Rack</td>\n",
       "      <td>1</td>\n",
       "      <td>149.00</td>\n",
       "    </tr>\n",
       "    <tr>\n",
       "      <th>1</th>\n",
       "      <td>p069063</td>\n",
       "      <td>Bouncy Bands for Desks (Blue support pipes)</td>\n",
       "      <td>3</td>\n",
       "      <td>14.95</td>\n",
       "    </tr>\n",
       "  </tbody>\n",
       "</table>\n",
       "</div>"
      ],
      "text/plain": [
       "        id                                        description  quantity  \\\n",
       "0  p233245  LC652 - Lakeshore Double-Space Mobile Drying Rack         1   \n",
       "1  p069063        Bouncy Bands for Desks (Blue support pipes)         3   \n",
       "\n",
       "    price  \n",
       "0  149.00  \n",
       "1   14.95  "
      ]
     },
     "execution_count": 13,
     "metadata": {},
     "output_type": "execute_result"
    }
   ],
   "source": [
    "# we get the cost of the project using resource.csv file\n",
    "resource_data.head(2)"
   ]
  },
  {
   "cell_type": "code",
   "execution_count": 14,
   "metadata": {},
   "outputs": [
    {
     "data": {
      "text/html": [
       "<div>\n",
       "<style scoped>\n",
       "    .dataframe tbody tr th:only-of-type {\n",
       "        vertical-align: middle;\n",
       "    }\n",
       "\n",
       "    .dataframe tbody tr th {\n",
       "        vertical-align: top;\n",
       "    }\n",
       "\n",
       "    .dataframe thead th {\n",
       "        text-align: right;\n",
       "    }\n",
       "</style>\n",
       "<table border=\"1\" class=\"dataframe\">\n",
       "  <thead>\n",
       "    <tr style=\"text-align: right;\">\n",
       "      <th></th>\n",
       "      <th>id</th>\n",
       "      <th>price</th>\n",
       "      <th>quantity</th>\n",
       "    </tr>\n",
       "  </thead>\n",
       "  <tbody>\n",
       "    <tr>\n",
       "      <th>0</th>\n",
       "      <td>p000001</td>\n",
       "      <td>459.56</td>\n",
       "      <td>7</td>\n",
       "    </tr>\n",
       "    <tr>\n",
       "      <th>1</th>\n",
       "      <td>p000002</td>\n",
       "      <td>515.89</td>\n",
       "      <td>21</td>\n",
       "    </tr>\n",
       "  </tbody>\n",
       "</table>\n",
       "</div>"
      ],
      "text/plain": [
       "        id   price  quantity\n",
       "0  p000001  459.56         7\n",
       "1  p000002  515.89        21"
      ]
     },
     "execution_count": 14,
     "metadata": {},
     "output_type": "execute_result"
    }
   ],
   "source": [
    "price_data = resource_data.groupby('id').agg({'price':'sum', 'quantity':'sum'}).reset_index()\n",
    "price_data.head(2)"
   ]
  },
  {
   "cell_type": "code",
   "execution_count": 15,
   "metadata": {},
   "outputs": [],
   "source": [
    "# join two dataframes in python: \n",
    "project_data = pd.merge(project_data, price_data, on='id', how='left')"
   ]
  },
  {
   "cell_type": "code",
   "execution_count": 16,
   "metadata": {},
   "outputs": [],
   "source": [
    "approved_price = project_data[project_data['project_is_approved']==1]['price'].values\n",
    "\n",
    "rejected_price = project_data[project_data['project_is_approved']==0]['price'].values"
   ]
  },
  {
   "cell_type": "code",
   "execution_count": 17,
   "metadata": {},
   "outputs": [
    {
     "name": "stdout",
     "output_type": "stream",
     "text": [
      "+------------+-------------------+-----------------------+\n",
      "| Percentile | Approved Projects | Not Approved Projects |\n",
      "+------------+-------------------+-----------------------+\n",
      "|     0      |        0.66       |          1.97         |\n",
      "|     5      |       13.59       |          41.9         |\n",
      "|     10     |       33.88       |         73.67         |\n",
      "|     15     |        58.0       |         99.109        |\n",
      "|     20     |       77.38       |         118.56        |\n",
      "|     25     |       99.95       |        140.892        |\n",
      "|     30     |       116.68      |         162.23        |\n",
      "|     35     |      137.232      |        184.014        |\n",
      "|     40     |       157.0       |        208.632        |\n",
      "|     45     |      178.265      |        235.106        |\n",
      "|     50     |       198.99      |        263.145        |\n",
      "|     55     |       223.99      |         292.61        |\n",
      "|     60     |       255.63      |        325.144        |\n",
      "|     65     |      285.412      |         362.39        |\n",
      "|     70     |      321.225      |         399.99        |\n",
      "|     75     |      366.075      |        449.945        |\n",
      "|     80     |       411.67      |        519.282        |\n",
      "|     85     |       479.0       |        618.276        |\n",
      "|     90     |       593.11      |        739.356        |\n",
      "|     95     |      801.598      |        992.486        |\n",
      "|    100     |       9999.0      |         9999.0        |\n",
      "+------------+-------------------+-----------------------+\n"
     ]
    }
   ],
   "source": [
    "# http://zetcode.com/python/prettytable/\n",
    "from prettytable import PrettyTable\n",
    "import numpy as np\n",
    "\n",
    "\n",
    "t = PrettyTable()\n",
    "t.field_names = [\"Percentile\", \"Approved Projects\", \"Not Approved Projects\"]\n",
    "\n",
    "for i in range(0,101,5):\n",
    "    t.add_row([i,np.round(np.percentile(approved_price,i), 3), np.round(np.percentile(rejected_price,i), 3)])\n",
    "print(t)"
   ]
  },
  {
   "cell_type": "code",
   "execution_count": 18,
   "metadata": {},
   "outputs": [
    {
     "data": {
      "text/html": [
       "<div>\n",
       "<style scoped>\n",
       "    .dataframe tbody tr th:only-of-type {\n",
       "        vertical-align: middle;\n",
       "    }\n",
       "\n",
       "    .dataframe tbody tr th {\n",
       "        vertical-align: top;\n",
       "    }\n",
       "\n",
       "    .dataframe thead th {\n",
       "        text-align: right;\n",
       "    }\n",
       "</style>\n",
       "<table border=\"1\" class=\"dataframe\">\n",
       "  <thead>\n",
       "    <tr style=\"text-align: right;\">\n",
       "      <th></th>\n",
       "      <th>Unnamed: 0</th>\n",
       "      <th>id</th>\n",
       "      <th>teacher_id</th>\n",
       "      <th>teacher_prefix</th>\n",
       "      <th>school_state</th>\n",
       "      <th>Date</th>\n",
       "      <th>project_grade_category</th>\n",
       "      <th>project_title</th>\n",
       "      <th>project_essay_1</th>\n",
       "      <th>project_essay_2</th>\n",
       "      <th>project_essay_3</th>\n",
       "      <th>project_essay_4</th>\n",
       "      <th>project_resource_summary</th>\n",
       "      <th>teacher_number_of_previously_posted_projects</th>\n",
       "      <th>project_is_approved</th>\n",
       "      <th>clean_categories</th>\n",
       "      <th>clean_subcategories</th>\n",
       "      <th>essay</th>\n",
       "      <th>price</th>\n",
       "      <th>quantity</th>\n",
       "    </tr>\n",
       "  </thead>\n",
       "  <tbody>\n",
       "    <tr>\n",
       "      <th>0</th>\n",
       "      <td>8393</td>\n",
       "      <td>p205479</td>\n",
       "      <td>2bf07ba08945e5d8b2a3f269b2b3cfe5</td>\n",
       "      <td>Mrs.</td>\n",
       "      <td>CA</td>\n",
       "      <td>2016-04-27 00:27:36</td>\n",
       "      <td>Grades PreK-2</td>\n",
       "      <td>Engineering STEAM into the Primary Classroom</td>\n",
       "      <td>I have been fortunate enough to use the Fairy ...</td>\n",
       "      <td>My students come from a variety of backgrounds...</td>\n",
       "      <td>Each month I try to do several science or STEM...</td>\n",
       "      <td>It is challenging to develop high quality scie...</td>\n",
       "      <td>My students need STEM kits to learn critical s...</td>\n",
       "      <td>53</td>\n",
       "      <td>1</td>\n",
       "      <td>Math_Science</td>\n",
       "      <td>AppliedSciences Health_LifeScience</td>\n",
       "      <td>I have been fortunate enough to use the Fairy ...</td>\n",
       "      <td>725.05</td>\n",
       "      <td>4</td>\n",
       "    </tr>\n",
       "    <tr>\n",
       "      <th>1</th>\n",
       "      <td>37728</td>\n",
       "      <td>p043609</td>\n",
       "      <td>3f60494c61921b3b43ab61bdde2904df</td>\n",
       "      <td>Ms.</td>\n",
       "      <td>UT</td>\n",
       "      <td>2016-04-27 00:31:25</td>\n",
       "      <td>Grades 3-5</td>\n",
       "      <td>Sensory Tools for Focus</td>\n",
       "      <td>Imagine being 8-9 years old. You're in your th...</td>\n",
       "      <td>Most of my students have autism, anxiety, anot...</td>\n",
       "      <td>It is tough to do more than one thing at a tim...</td>\n",
       "      <td>When my students are able to calm themselves d...</td>\n",
       "      <td>My students need Boogie Boards for quiet senso...</td>\n",
       "      <td>4</td>\n",
       "      <td>1</td>\n",
       "      <td>SpecialNeeds</td>\n",
       "      <td>SpecialNeeds</td>\n",
       "      <td>Imagine being 8-9 years old. You're in your th...</td>\n",
       "      <td>213.03</td>\n",
       "      <td>8</td>\n",
       "    </tr>\n",
       "  </tbody>\n",
       "</table>\n",
       "</div>"
      ],
      "text/plain": [
       "   Unnamed: 0       id                        teacher_id teacher_prefix  \\\n",
       "0        8393  p205479  2bf07ba08945e5d8b2a3f269b2b3cfe5           Mrs.   \n",
       "1       37728  p043609  3f60494c61921b3b43ab61bdde2904df            Ms.   \n",
       "\n",
       "  school_state                Date project_grade_category  \\\n",
       "0           CA 2016-04-27 00:27:36          Grades PreK-2   \n",
       "1           UT 2016-04-27 00:31:25             Grades 3-5   \n",
       "\n",
       "                                  project_title  \\\n",
       "0  Engineering STEAM into the Primary Classroom   \n",
       "1                       Sensory Tools for Focus   \n",
       "\n",
       "                                     project_essay_1  \\\n",
       "0  I have been fortunate enough to use the Fairy ...   \n",
       "1  Imagine being 8-9 years old. You're in your th...   \n",
       "\n",
       "                                     project_essay_2  \\\n",
       "0  My students come from a variety of backgrounds...   \n",
       "1  Most of my students have autism, anxiety, anot...   \n",
       "\n",
       "                                     project_essay_3  \\\n",
       "0  Each month I try to do several science or STEM...   \n",
       "1  It is tough to do more than one thing at a tim...   \n",
       "\n",
       "                                     project_essay_4  \\\n",
       "0  It is challenging to develop high quality scie...   \n",
       "1  When my students are able to calm themselves d...   \n",
       "\n",
       "                            project_resource_summary  \\\n",
       "0  My students need STEM kits to learn critical s...   \n",
       "1  My students need Boogie Boards for quiet senso...   \n",
       "\n",
       "   teacher_number_of_previously_posted_projects  project_is_approved  \\\n",
       "0                                            53                    1   \n",
       "1                                             4                    1   \n",
       "\n",
       "  clean_categories                 clean_subcategories  \\\n",
       "0     Math_Science  AppliedSciences Health_LifeScience   \n",
       "1     SpecialNeeds                        SpecialNeeds   \n",
       "\n",
       "                                               essay   price  quantity  \n",
       "0  I have been fortunate enough to use the Fairy ...  725.05         4  \n",
       "1  Imagine being 8-9 years old. You're in your th...  213.03         8  "
      ]
     },
     "execution_count": 18,
     "metadata": {},
     "output_type": "execute_result"
    }
   ],
   "source": [
    "project_data.head(2)"
   ]
  },
  {
   "cell_type": "code",
   "execution_count": 19,
   "metadata": {},
   "outputs": [],
   "source": [
    "# https://stackoverflow.com/a/47091490/4084039\n",
    "import re\n",
    "\n",
    "def decontracted(phrase):\n",
    "    # specific\n",
    "    phrase = re.sub(r\"won't\", \"will not\", phrase)\n",
    "    phrase = re.sub(r\"can\\'t\", \"can not\", phrase)\n",
    "\n",
    "    # general\n",
    "    phrase = re.sub(r\"n\\'t\", \" not\", phrase)\n",
    "    phrase = re.sub(r\"\\'re\", \" are\", phrase)\n",
    "    phrase = re.sub(r\"\\'s\", \" is\", phrase)\n",
    "    phrase = re.sub(r\"\\'d\", \" would\", phrase)\n",
    "    phrase = re.sub(r\"\\'ll\", \" will\", phrase)\n",
    "    phrase = re.sub(r\"\\'t\", \" not\", phrase)\n",
    "    phrase = re.sub(r\"\\'ve\", \" have\", phrase)\n",
    "    phrase = re.sub(r\"\\'m\", \" am\", phrase)\n",
    "    return phrase"
   ]
  },
  {
   "cell_type": "code",
   "execution_count": 20,
   "metadata": {},
   "outputs": [
    {
     "name": "stdout",
     "output_type": "stream",
     "text": [
      "{'hasn', 'there', 'weren', 'between', 'then', 'if', 'wouldn', \"that'll\", 'as', 'ours', 'is', 'theirs', 'it', 'until', 'again', 'no', 'didn', 'do', 'over', 'a', 'up', 'myself', 'having', \"should've\", 'will', 'i', 'its', \"you're\", 'yours', 'm', 'couldn', 'both', 'which', 'has', 'his', 'because', 'was', 'them', 'who', 'we', 'he', 'what', 've', 'on', 'during', 'the', 'were', 'very', 's', 'some', 'y', 'can', 'won', \"isn't\", 're', 'she', 'all', 'once', 'to', 'him', 'being', 'off', 'out', 'your', 'with', 'whom', 'o', 'don', 'other', 'more', \"haven't\", \"weren't\", 'those', 'such', 'while', \"mightn't\", 'here', 'hadn', 'of', 'needn', \"hasn't\", 'this', 'about', 'they', 'further', 't', \"you'll\", 'doing', 'just', 'that', 'aren', 'after', 'me', \"won't\", 'above', 'most', \"hadn't\", 'haven', 'ourselves', 'yourself', 'at', 'themselves', 'why', 'own', 'how', 'herself', 'where', 'doesn', 'shouldn', \"couldn't\", 'be', 'by', 'had', 'each', 'd', 'does', 'did', 'before', \"you've\", 'mustn', 'been', 'nor', 'against', 'through', 'than', 'ma', \"it's\", 'now', 'these', 'and', \"aren't\", 'yourselves', 'you', 'wasn', 'below', \"shouldn't\", 'not', 'for', 'an', 'so', 'should', \"doesn't\", \"wouldn't\", 'll', 'mightn', \"you'd\", \"didn't\", \"mustn't\", 'himself', 'same', 'their', 'our', \"wasn't\", 'hers', 'but', 'are', 'down', 'too', 'few', 'ain', 'her', \"she's\", 'am', 'have', 'any', 'in', 'only', 'my', 'itself', 'or', 'under', \"don't\", 'shan', 'when', \"needn't\", \"shan't\", 'into', 'isn', 'from'}\n",
      "amaz\n"
     ]
    }
   ],
   "source": [
    "import nltk\n",
    "from nltk.corpus import stopwords\n",
    "from nltk.stem import PorterStemmer\n",
    "from nltk.stem.wordnet import WordNetLemmatizer\n",
    "stopWords = set(stopwords.words('english'))\n",
    "print(stopWords)\n",
    "\n",
    "sno=nltk.stem.SnowballStemmer('english')\n",
    "print(sno.stem('amazing'))\n"
   ]
  },
  {
   "cell_type": "code",
   "execution_count": 21,
   "metadata": {},
   "outputs": [
    {
     "name": "stderr",
     "output_type": "stream",
     "text": [
      "100%|████████████████████████████████████████████████████████████████████████| 109248/109248 [00:29<00:00, 3686.82it/s]\n"
     ]
    }
   ],
   "source": [
    "# PREPROCESSING FOR ESSAYS\n",
    "from tqdm import tqdm\n",
    "import re\n",
    "import string\n",
    "from bs4 import BeautifulSoup\n",
    "preprocessed_essays = []\n",
    "# tqdm is for printing the status bar\n",
    "for sentance in tqdm(project_data['essay'].values):\n",
    "    sent = decontracted(sentance)\n",
    "    sent = sent.replace('\\\\r', ' ')\n",
    "    sent = sent.replace('\\\\\"', ' ')\n",
    "    sent = sent.replace('\\\\n', ' ')\n",
    "    sent = re.sub('[^A-Za-z0-9]+', ' ', sent)\n",
    "    sent = re.sub(\"\\S*\\d\\S*\", \"\", sent).strip()\n",
    "    # https://gist.github.com/sebleier/554280\n",
    "    sent = ' '.join(e for e in sent.split() if e not in stopWords)\n",
    "    preprocessed_essays.append(sent.lower().strip())"
   ]
  },
  {
   "cell_type": "code",
   "execution_count": 22,
   "metadata": {},
   "outputs": [
    {
     "data": {
      "text/plain": [
       "'creativity intelligence fun albert einstein our elementary library greenville elementary anything quiet hushed space it place collaboration research it place incorporating technology it place innovation and place creating our school serves third fourth graders primarily live rural poverty stricken areas community being title i school approximately receive free reduced lunch but inquisitive creative eager learn they love visiting library check books hear stories create digital stories use computer lab learning fun we want build library makerspace activities revolving around art literacy provide engaging hands activities we want begin makerspace fridays our school recently received grant books arts integrated makerspace we received titles origami everyone how make stuff ducktape cool engineering activities girls we need supplies correlate new informational texts by adding art craft supplies students able design create masterpieces related coursework for example studying native americans students use looms yarn recreate navajo pueblo weaving weaving also integrated literacy greek mythology story arachne creating art perler beads many possibilities students design animals studying characteristics they use symmetry patterning create one kind originals origami reinforces geometry thinking skills fractions problem solving fun science our students need able apply read learn if read book apply reading hands art activity actually create product this crucial skill real world by creating designing masterpieces using many critical thinking skills students become analytical thinkers'"
      ]
     },
     "execution_count": 22,
     "metadata": {},
     "output_type": "execute_result"
    }
   ],
   "source": [
    "# After preprocessing\n",
    "preprocessed_essays[2000]"
   ]
  },
  {
   "cell_type": "code",
   "execution_count": 23,
   "metadata": {},
   "outputs": [],
   "source": [
    "\n",
    "project_data = pd.DataFrame(project_data)"
   ]
  },
  {
   "cell_type": "code",
   "execution_count": 24,
   "metadata": {},
   "outputs": [],
   "source": [
    "project_data['cleaned_essays'] = preprocessed_essays"
   ]
  },
  {
   "cell_type": "code",
   "execution_count": 25,
   "metadata": {},
   "outputs": [
    {
     "data": {
      "text/html": [
       "<div>\n",
       "<style scoped>\n",
       "    .dataframe tbody tr th:only-of-type {\n",
       "        vertical-align: middle;\n",
       "    }\n",
       "\n",
       "    .dataframe tbody tr th {\n",
       "        vertical-align: top;\n",
       "    }\n",
       "\n",
       "    .dataframe thead th {\n",
       "        text-align: right;\n",
       "    }\n",
       "</style>\n",
       "<table border=\"1\" class=\"dataframe\">\n",
       "  <thead>\n",
       "    <tr style=\"text-align: right;\">\n",
       "      <th></th>\n",
       "      <th>Unnamed: 0</th>\n",
       "      <th>id</th>\n",
       "      <th>teacher_id</th>\n",
       "      <th>teacher_prefix</th>\n",
       "      <th>school_state</th>\n",
       "      <th>Date</th>\n",
       "      <th>project_grade_category</th>\n",
       "      <th>project_title</th>\n",
       "      <th>project_essay_1</th>\n",
       "      <th>project_essay_2</th>\n",
       "      <th>...</th>\n",
       "      <th>project_essay_4</th>\n",
       "      <th>project_resource_summary</th>\n",
       "      <th>teacher_number_of_previously_posted_projects</th>\n",
       "      <th>project_is_approved</th>\n",
       "      <th>clean_categories</th>\n",
       "      <th>clean_subcategories</th>\n",
       "      <th>essay</th>\n",
       "      <th>price</th>\n",
       "      <th>quantity</th>\n",
       "      <th>cleaned_essays</th>\n",
       "    </tr>\n",
       "  </thead>\n",
       "  <tbody>\n",
       "    <tr>\n",
       "      <th>0</th>\n",
       "      <td>8393</td>\n",
       "      <td>p205479</td>\n",
       "      <td>2bf07ba08945e5d8b2a3f269b2b3cfe5</td>\n",
       "      <td>Mrs.</td>\n",
       "      <td>CA</td>\n",
       "      <td>2016-04-27 00:27:36</td>\n",
       "      <td>Grades PreK-2</td>\n",
       "      <td>Engineering STEAM into the Primary Classroom</td>\n",
       "      <td>I have been fortunate enough to use the Fairy ...</td>\n",
       "      <td>My students come from a variety of backgrounds...</td>\n",
       "      <td>...</td>\n",
       "      <td>It is challenging to develop high quality scie...</td>\n",
       "      <td>My students need STEM kits to learn critical s...</td>\n",
       "      <td>53</td>\n",
       "      <td>1</td>\n",
       "      <td>Math_Science</td>\n",
       "      <td>AppliedSciences Health_LifeScience</td>\n",
       "      <td>I have been fortunate enough to use the Fairy ...</td>\n",
       "      <td>725.05</td>\n",
       "      <td>4</td>\n",
       "      <td>i fortunate enough use fairy tale stem kits cl...</td>\n",
       "    </tr>\n",
       "    <tr>\n",
       "      <th>1</th>\n",
       "      <td>37728</td>\n",
       "      <td>p043609</td>\n",
       "      <td>3f60494c61921b3b43ab61bdde2904df</td>\n",
       "      <td>Ms.</td>\n",
       "      <td>UT</td>\n",
       "      <td>2016-04-27 00:31:25</td>\n",
       "      <td>Grades 3-5</td>\n",
       "      <td>Sensory Tools for Focus</td>\n",
       "      <td>Imagine being 8-9 years old. You're in your th...</td>\n",
       "      <td>Most of my students have autism, anxiety, anot...</td>\n",
       "      <td>...</td>\n",
       "      <td>When my students are able to calm themselves d...</td>\n",
       "      <td>My students need Boogie Boards for quiet senso...</td>\n",
       "      <td>4</td>\n",
       "      <td>1</td>\n",
       "      <td>SpecialNeeds</td>\n",
       "      <td>SpecialNeeds</td>\n",
       "      <td>Imagine being 8-9 years old. You're in your th...</td>\n",
       "      <td>213.03</td>\n",
       "      <td>8</td>\n",
       "      <td>imagine years old you third grade classroom yo...</td>\n",
       "    </tr>\n",
       "  </tbody>\n",
       "</table>\n",
       "<p>2 rows × 21 columns</p>\n",
       "</div>"
      ],
      "text/plain": [
       "   Unnamed: 0       id                        teacher_id teacher_prefix  \\\n",
       "0        8393  p205479  2bf07ba08945e5d8b2a3f269b2b3cfe5           Mrs.   \n",
       "1       37728  p043609  3f60494c61921b3b43ab61bdde2904df            Ms.   \n",
       "\n",
       "  school_state                Date project_grade_category  \\\n",
       "0           CA 2016-04-27 00:27:36          Grades PreK-2   \n",
       "1           UT 2016-04-27 00:31:25             Grades 3-5   \n",
       "\n",
       "                                  project_title  \\\n",
       "0  Engineering STEAM into the Primary Classroom   \n",
       "1                       Sensory Tools for Focus   \n",
       "\n",
       "                                     project_essay_1  \\\n",
       "0  I have been fortunate enough to use the Fairy ...   \n",
       "1  Imagine being 8-9 years old. You're in your th...   \n",
       "\n",
       "                                     project_essay_2  ...  \\\n",
       "0  My students come from a variety of backgrounds...  ...   \n",
       "1  Most of my students have autism, anxiety, anot...  ...   \n",
       "\n",
       "                                     project_essay_4  \\\n",
       "0  It is challenging to develop high quality scie...   \n",
       "1  When my students are able to calm themselves d...   \n",
       "\n",
       "                            project_resource_summary  \\\n",
       "0  My students need STEM kits to learn critical s...   \n",
       "1  My students need Boogie Boards for quiet senso...   \n",
       "\n",
       "  teacher_number_of_previously_posted_projects  project_is_approved  \\\n",
       "0                                           53                    1   \n",
       "1                                            4                    1   \n",
       "\n",
       "   clean_categories                 clean_subcategories  \\\n",
       "0      Math_Science  AppliedSciences Health_LifeScience   \n",
       "1      SpecialNeeds                        SpecialNeeds   \n",
       "\n",
       "                                               essay   price  quantity  \\\n",
       "0  I have been fortunate enough to use the Fairy ...  725.05         4   \n",
       "1  Imagine being 8-9 years old. You're in your th...  213.03         8   \n",
       "\n",
       "                                      cleaned_essays  \n",
       "0  i fortunate enough use fairy tale stem kits cl...  \n",
       "1  imagine years old you third grade classroom yo...  \n",
       "\n",
       "[2 rows x 21 columns]"
      ]
     },
     "execution_count": 25,
     "metadata": {},
     "output_type": "execute_result"
    }
   ],
   "source": [
    "project_data.head(2)"
   ]
  },
  {
   "cell_type": "code",
   "execution_count": 26,
   "metadata": {},
   "outputs": [
    {
     "name": "stderr",
     "output_type": "stream",
     "text": [
      "100%|███████████████████████████████████████████████████████████████████████| 109248/109248 [00:01<00:00, 60943.23it/s]\n"
     ]
    }
   ],
   "source": [
    "\n",
    "# Data preprocessing on title text\n",
    "from tqdm import tqdm\n",
    "import re\n",
    "import string\n",
    "from bs4 import BeautifulSoup\n",
    "preprocessed_title_text = []\n",
    "# tqdm is for printing the status bar\n",
    "for sentance in tqdm(project_data['project_title'].values):\n",
    "    sent = decontracted(sentance)\n",
    "    sent = sent.replace('\\\\r', ' ')\n",
    "    sent = sent.replace('\\\\\"', ' ')\n",
    "    sent = sent.replace('\\\\n', ' ')\n",
    "    sent = re.sub('[^A-Za-z0-9]+', ' ', sent)\n",
    "    sent = re.sub(\"\\S*\\d\\S*\", \"\", sent).strip()\n",
    "    # https://gist.github.com/sebleier/554280\n",
    "    sent = ' '.join(e for e in sent.split() if e not in stopWords)\n",
    "    preprocessed_title_text.append(sent.lower().strip())"
   ]
  },
  {
   "cell_type": "code",
   "execution_count": 27,
   "metadata": {},
   "outputs": [],
   "source": [
    "project_data = pd.DataFrame(project_data)\n",
    "project_data['cleaned_title_text'] = preprocessed_title_text\n"
   ]
  },
  {
   "cell_type": "code",
   "execution_count": 28,
   "metadata": {},
   "outputs": [
    {
     "data": {
      "text/html": [
       "<div>\n",
       "<style scoped>\n",
       "    .dataframe tbody tr th:only-of-type {\n",
       "        vertical-align: middle;\n",
       "    }\n",
       "\n",
       "    .dataframe tbody tr th {\n",
       "        vertical-align: top;\n",
       "    }\n",
       "\n",
       "    .dataframe thead th {\n",
       "        text-align: right;\n",
       "    }\n",
       "</style>\n",
       "<table border=\"1\" class=\"dataframe\">\n",
       "  <thead>\n",
       "    <tr style=\"text-align: right;\">\n",
       "      <th></th>\n",
       "      <th>Unnamed: 0</th>\n",
       "      <th>id</th>\n",
       "      <th>teacher_id</th>\n",
       "      <th>teacher_prefix</th>\n",
       "      <th>school_state</th>\n",
       "      <th>Date</th>\n",
       "      <th>project_grade_category</th>\n",
       "      <th>project_title</th>\n",
       "      <th>project_essay_1</th>\n",
       "      <th>project_essay_2</th>\n",
       "      <th>...</th>\n",
       "      <th>project_resource_summary</th>\n",
       "      <th>teacher_number_of_previously_posted_projects</th>\n",
       "      <th>project_is_approved</th>\n",
       "      <th>clean_categories</th>\n",
       "      <th>clean_subcategories</th>\n",
       "      <th>essay</th>\n",
       "      <th>price</th>\n",
       "      <th>quantity</th>\n",
       "      <th>cleaned_essays</th>\n",
       "      <th>cleaned_title_text</th>\n",
       "    </tr>\n",
       "  </thead>\n",
       "  <tbody>\n",
       "    <tr>\n",
       "      <th>0</th>\n",
       "      <td>8393</td>\n",
       "      <td>p205479</td>\n",
       "      <td>2bf07ba08945e5d8b2a3f269b2b3cfe5</td>\n",
       "      <td>Mrs.</td>\n",
       "      <td>CA</td>\n",
       "      <td>2016-04-27 00:27:36</td>\n",
       "      <td>Grades PreK-2</td>\n",
       "      <td>Engineering STEAM into the Primary Classroom</td>\n",
       "      <td>I have been fortunate enough to use the Fairy ...</td>\n",
       "      <td>My students come from a variety of backgrounds...</td>\n",
       "      <td>...</td>\n",
       "      <td>My students need STEM kits to learn critical s...</td>\n",
       "      <td>53</td>\n",
       "      <td>1</td>\n",
       "      <td>Math_Science</td>\n",
       "      <td>AppliedSciences Health_LifeScience</td>\n",
       "      <td>I have been fortunate enough to use the Fairy ...</td>\n",
       "      <td>725.05</td>\n",
       "      <td>4</td>\n",
       "      <td>i fortunate enough use fairy tale stem kits cl...</td>\n",
       "      <td>engineering steam primary classroom</td>\n",
       "    </tr>\n",
       "    <tr>\n",
       "      <th>1</th>\n",
       "      <td>37728</td>\n",
       "      <td>p043609</td>\n",
       "      <td>3f60494c61921b3b43ab61bdde2904df</td>\n",
       "      <td>Ms.</td>\n",
       "      <td>UT</td>\n",
       "      <td>2016-04-27 00:31:25</td>\n",
       "      <td>Grades 3-5</td>\n",
       "      <td>Sensory Tools for Focus</td>\n",
       "      <td>Imagine being 8-9 years old. You're in your th...</td>\n",
       "      <td>Most of my students have autism, anxiety, anot...</td>\n",
       "      <td>...</td>\n",
       "      <td>My students need Boogie Boards for quiet senso...</td>\n",
       "      <td>4</td>\n",
       "      <td>1</td>\n",
       "      <td>SpecialNeeds</td>\n",
       "      <td>SpecialNeeds</td>\n",
       "      <td>Imagine being 8-9 years old. You're in your th...</td>\n",
       "      <td>213.03</td>\n",
       "      <td>8</td>\n",
       "      <td>imagine years old you third grade classroom yo...</td>\n",
       "      <td>sensory tools focus</td>\n",
       "    </tr>\n",
       "  </tbody>\n",
       "</table>\n",
       "<p>2 rows × 22 columns</p>\n",
       "</div>"
      ],
      "text/plain": [
       "   Unnamed: 0       id                        teacher_id teacher_prefix  \\\n",
       "0        8393  p205479  2bf07ba08945e5d8b2a3f269b2b3cfe5           Mrs.   \n",
       "1       37728  p043609  3f60494c61921b3b43ab61bdde2904df            Ms.   \n",
       "\n",
       "  school_state                Date project_grade_category  \\\n",
       "0           CA 2016-04-27 00:27:36          Grades PreK-2   \n",
       "1           UT 2016-04-27 00:31:25             Grades 3-5   \n",
       "\n",
       "                                  project_title  \\\n",
       "0  Engineering STEAM into the Primary Classroom   \n",
       "1                       Sensory Tools for Focus   \n",
       "\n",
       "                                     project_essay_1  \\\n",
       "0  I have been fortunate enough to use the Fairy ...   \n",
       "1  Imagine being 8-9 years old. You're in your th...   \n",
       "\n",
       "                                     project_essay_2  ...  \\\n",
       "0  My students come from a variety of backgrounds...  ...   \n",
       "1  Most of my students have autism, anxiety, anot...  ...   \n",
       "\n",
       "                            project_resource_summary  \\\n",
       "0  My students need STEM kits to learn critical s...   \n",
       "1  My students need Boogie Boards for quiet senso...   \n",
       "\n",
       "  teacher_number_of_previously_posted_projects project_is_approved  \\\n",
       "0                                           53                   1   \n",
       "1                                            4                   1   \n",
       "\n",
       "   clean_categories                 clean_subcategories  \\\n",
       "0      Math_Science  AppliedSciences Health_LifeScience   \n",
       "1      SpecialNeeds                        SpecialNeeds   \n",
       "\n",
       "                                               essay   price quantity  \\\n",
       "0  I have been fortunate enough to use the Fairy ...  725.05        4   \n",
       "1  Imagine being 8-9 years old. You're in your th...  213.03        8   \n",
       "\n",
       "                                      cleaned_essays  \\\n",
       "0  i fortunate enough use fairy tale stem kits cl...   \n",
       "1  imagine years old you third grade classroom yo...   \n",
       "\n",
       "                    cleaned_title_text  \n",
       "0  engineering steam primary classroom  \n",
       "1                  sensory tools focus  \n",
       "\n",
       "[2 rows x 22 columns]"
      ]
     },
     "execution_count": 28,
     "metadata": {},
     "output_type": "execute_result"
    }
   ],
   "source": [
    "project_data.head(2)"
   ]
  },
  {
   "cell_type": "code",
   "execution_count": 29,
   "metadata": {},
   "outputs": [
    {
     "name": "stdout",
     "output_type": "stream",
     "text": [
      "(109248, 22)\n",
      "Index(['Unnamed: 0', 'id', 'teacher_id', 'teacher_prefix', 'school_state',\n",
      "       'Date', 'project_grade_category', 'project_title', 'project_essay_1',\n",
      "       'project_essay_2', 'project_essay_3', 'project_essay_4',\n",
      "       'project_resource_summary',\n",
      "       'teacher_number_of_previously_posted_projects', 'project_is_approved',\n",
      "       'clean_categories', 'clean_subcategories', 'essay', 'price', 'quantity',\n",
      "       'cleaned_essays', 'cleaned_title_text'],\n",
      "      dtype='object')\n"
     ]
    }
   ],
   "source": [
    "print(project_data.shape)\n",
    "print(project_data.columns)"
   ]
  },
  {
   "cell_type": "code",
   "execution_count": 30,
   "metadata": {},
   "outputs": [
    {
     "data": {
      "text/html": [
       "<div>\n",
       "<style scoped>\n",
       "    .dataframe tbody tr th:only-of-type {\n",
       "        vertical-align: middle;\n",
       "    }\n",
       "\n",
       "    .dataframe tbody tr th {\n",
       "        vertical-align: top;\n",
       "    }\n",
       "\n",
       "    .dataframe thead th {\n",
       "        text-align: right;\n",
       "    }\n",
       "</style>\n",
       "<table border=\"1\" class=\"dataframe\">\n",
       "  <thead>\n",
       "    <tr style=\"text-align: right;\">\n",
       "      <th></th>\n",
       "      <th>Unnamed: 0</th>\n",
       "      <th>id</th>\n",
       "      <th>teacher_id</th>\n",
       "      <th>teacher_prefix</th>\n",
       "      <th>school_state</th>\n",
       "      <th>Date</th>\n",
       "      <th>project_grade_category</th>\n",
       "      <th>project_title</th>\n",
       "      <th>project_essay_1</th>\n",
       "      <th>project_essay_2</th>\n",
       "      <th>...</th>\n",
       "      <th>project_resource_summary</th>\n",
       "      <th>teacher_number_of_previously_posted_projects</th>\n",
       "      <th>project_is_approved</th>\n",
       "      <th>clean_categories</th>\n",
       "      <th>clean_subcategories</th>\n",
       "      <th>essay</th>\n",
       "      <th>price</th>\n",
       "      <th>quantity</th>\n",
       "      <th>cleaned_essays</th>\n",
       "      <th>cleaned_title_text</th>\n",
       "    </tr>\n",
       "  </thead>\n",
       "  <tbody>\n",
       "    <tr>\n",
       "      <th>0</th>\n",
       "      <td>8393</td>\n",
       "      <td>p205479</td>\n",
       "      <td>2bf07ba08945e5d8b2a3f269b2b3cfe5</td>\n",
       "      <td>Mrs.</td>\n",
       "      <td>CA</td>\n",
       "      <td>2016-04-27 00:27:36</td>\n",
       "      <td>Grades PreK-2</td>\n",
       "      <td>Engineering STEAM into the Primary Classroom</td>\n",
       "      <td>I have been fortunate enough to use the Fairy ...</td>\n",
       "      <td>My students come from a variety of backgrounds...</td>\n",
       "      <td>...</td>\n",
       "      <td>My students need STEM kits to learn critical s...</td>\n",
       "      <td>53</td>\n",
       "      <td>1</td>\n",
       "      <td>Math_Science</td>\n",
       "      <td>AppliedSciences Health_LifeScience</td>\n",
       "      <td>I have been fortunate enough to use the Fairy ...</td>\n",
       "      <td>725.05</td>\n",
       "      <td>4</td>\n",
       "      <td>i fortunate enough use fairy tale stem kits cl...</td>\n",
       "      <td>engineering steam primary classroom</td>\n",
       "    </tr>\n",
       "    <tr>\n",
       "      <th>1</th>\n",
       "      <td>37728</td>\n",
       "      <td>p043609</td>\n",
       "      <td>3f60494c61921b3b43ab61bdde2904df</td>\n",
       "      <td>Ms.</td>\n",
       "      <td>UT</td>\n",
       "      <td>2016-04-27 00:31:25</td>\n",
       "      <td>Grades 3-5</td>\n",
       "      <td>Sensory Tools for Focus</td>\n",
       "      <td>Imagine being 8-9 years old. You're in your th...</td>\n",
       "      <td>Most of my students have autism, anxiety, anot...</td>\n",
       "      <td>...</td>\n",
       "      <td>My students need Boogie Boards for quiet senso...</td>\n",
       "      <td>4</td>\n",
       "      <td>1</td>\n",
       "      <td>SpecialNeeds</td>\n",
       "      <td>SpecialNeeds</td>\n",
       "      <td>Imagine being 8-9 years old. You're in your th...</td>\n",
       "      <td>213.03</td>\n",
       "      <td>8</td>\n",
       "      <td>imagine years old you third grade classroom yo...</td>\n",
       "      <td>sensory tools focus</td>\n",
       "    </tr>\n",
       "  </tbody>\n",
       "</table>\n",
       "<p>2 rows × 22 columns</p>\n",
       "</div>"
      ],
      "text/plain": [
       "   Unnamed: 0       id                        teacher_id teacher_prefix  \\\n",
       "0        8393  p205479  2bf07ba08945e5d8b2a3f269b2b3cfe5           Mrs.   \n",
       "1       37728  p043609  3f60494c61921b3b43ab61bdde2904df            Ms.   \n",
       "\n",
       "  school_state                Date project_grade_category  \\\n",
       "0           CA 2016-04-27 00:27:36          Grades PreK-2   \n",
       "1           UT 2016-04-27 00:31:25             Grades 3-5   \n",
       "\n",
       "                                  project_title  \\\n",
       "0  Engineering STEAM into the Primary Classroom   \n",
       "1                       Sensory Tools for Focus   \n",
       "\n",
       "                                     project_essay_1  \\\n",
       "0  I have been fortunate enough to use the Fairy ...   \n",
       "1  Imagine being 8-9 years old. You're in your th...   \n",
       "\n",
       "                                     project_essay_2  ...  \\\n",
       "0  My students come from a variety of backgrounds...  ...   \n",
       "1  Most of my students have autism, anxiety, anot...  ...   \n",
       "\n",
       "                            project_resource_summary  \\\n",
       "0  My students need STEM kits to learn critical s...   \n",
       "1  My students need Boogie Boards for quiet senso...   \n",
       "\n",
       "  teacher_number_of_previously_posted_projects project_is_approved  \\\n",
       "0                                           53                   1   \n",
       "1                                            4                   1   \n",
       "\n",
       "   clean_categories                 clean_subcategories  \\\n",
       "0      Math_Science  AppliedSciences Health_LifeScience   \n",
       "1      SpecialNeeds                        SpecialNeeds   \n",
       "\n",
       "                                               essay   price quantity  \\\n",
       "0  I have been fortunate enough to use the Fairy ...  725.05        4   \n",
       "1  Imagine being 8-9 years old. You're in your th...  213.03        8   \n",
       "\n",
       "                                      cleaned_essays  \\\n",
       "0  i fortunate enough use fairy tale stem kits cl...   \n",
       "1  imagine years old you third grade classroom yo...   \n",
       "\n",
       "                    cleaned_title_text  \n",
       "0  engineering steam primary classroom  \n",
       "1                  sensory tools focus  \n",
       "\n",
       "[2 rows x 22 columns]"
      ]
     },
     "execution_count": 30,
     "metadata": {},
     "output_type": "execute_result"
    }
   ],
   "source": [
    "# Fill blank spaces of teacher_prefix with nan\n",
    "\n",
    "#https://stackoverflow.com/questions/42224700/attributeerror-float-object-has-no-attribute-split\n",
    "project_data['teacher_prefix'] = project_data['teacher_prefix'].fillna('null')\n",
    " \n",
    "project_data.head(2)\n"
   ]
  },
  {
   "cell_type": "code",
   "execution_count": 31,
   "metadata": {},
   "outputs": [],
   "source": [
    "# count of all the words in corpus python: https://stackoverflow.com/a/22898595/4084039\n",
    "from collections import Counter\n",
    "my_counter = Counter()\n",
    "for word in project_data['project_grade_category'].values:\n",
    "    my_counter.update(word.split())"
   ]
  },
  {
   "cell_type": "code",
   "execution_count": 32,
   "metadata": {},
   "outputs": [],
   "source": [
    "project_grade_category_dict = dict(my_counter)\n",
    "project_grade_category_dict = dict(sorted(project_grade_category_dict.items(), key=lambda kv: kv[1]))\n"
   ]
  },
  {
   "cell_type": "markdown",
   "metadata": {},
   "source": [
    "<h1> Train Test split</h1>"
   ]
  },
  {
   "cell_type": "code",
   "execution_count": 33,
   "metadata": {},
   "outputs": [
    {
     "data": {
      "text/plain": [
       "(109248, 22)"
      ]
     },
     "execution_count": 33,
     "metadata": {},
     "output_type": "execute_result"
    }
   ],
   "source": [
    "project_data.shape"
   ]
  },
  {
   "cell_type": "code",
   "execution_count": 34,
   "metadata": {},
   "outputs": [
    {
     "data": {
      "text/plain": [
       "1    92706\n",
       "0    16542\n",
       "Name: project_is_approved, dtype: int64"
      ]
     },
     "execution_count": 34,
     "metadata": {},
     "output_type": "execute_result"
    }
   ],
   "source": [
    "project_data[\"project_is_approved\"].value_counts()"
   ]
  },
  {
   "cell_type": "code",
   "execution_count": 35,
   "metadata": {},
   "outputs": [
    {
     "data": {
      "text/plain": [
       "(50000, 22)"
      ]
     },
     "execution_count": 35,
     "metadata": {},
     "output_type": "execute_result"
    }
   ],
   "source": [
    "# Randomly sample 50k points\n",
    "\n",
    "project_data = project_data.sample(n=50000)\n",
    "project_data.shape"
   ]
  },
  {
   "cell_type": "code",
   "execution_count": 36,
   "metadata": {},
   "outputs": [],
   "source": [
    "# Define x & y for splitting\n",
    "\n",
    "y=project_data['project_is_approved'].values\n",
    "project_data.drop(['project_is_approved'], axis=1, inplace=True)      # drop project is approved columns  \n",
    "x=project_data"
   ]
  },
  {
   "cell_type": "code",
   "execution_count": 37,
   "metadata": {},
   "outputs": [
    {
     "name": "stdout",
     "output_type": "stream",
     "text": [
      "(50000,)\n",
      "(50000, 21)\n"
     ]
    }
   ],
   "source": [
    "print(y.shape)\n",
    "print(x.shape)"
   ]
  },
  {
   "cell_type": "code",
   "execution_count": 38,
   "metadata": {},
   "outputs": [
    {
     "data": {
      "text/html": [
       "<div>\n",
       "<style scoped>\n",
       "    .dataframe tbody tr th:only-of-type {\n",
       "        vertical-align: middle;\n",
       "    }\n",
       "\n",
       "    .dataframe tbody tr th {\n",
       "        vertical-align: top;\n",
       "    }\n",
       "\n",
       "    .dataframe thead th {\n",
       "        text-align: right;\n",
       "    }\n",
       "</style>\n",
       "<table border=\"1\" class=\"dataframe\">\n",
       "  <thead>\n",
       "    <tr style=\"text-align: right;\">\n",
       "      <th></th>\n",
       "      <th>Unnamed: 0</th>\n",
       "      <th>id</th>\n",
       "      <th>teacher_id</th>\n",
       "      <th>teacher_prefix</th>\n",
       "      <th>school_state</th>\n",
       "      <th>Date</th>\n",
       "      <th>project_grade_category</th>\n",
       "      <th>project_title</th>\n",
       "      <th>project_essay_1</th>\n",
       "      <th>project_essay_2</th>\n",
       "      <th>...</th>\n",
       "      <th>project_essay_4</th>\n",
       "      <th>project_resource_summary</th>\n",
       "      <th>teacher_number_of_previously_posted_projects</th>\n",
       "      <th>clean_categories</th>\n",
       "      <th>clean_subcategories</th>\n",
       "      <th>essay</th>\n",
       "      <th>price</th>\n",
       "      <th>quantity</th>\n",
       "      <th>cleaned_essays</th>\n",
       "      <th>cleaned_title_text</th>\n",
       "    </tr>\n",
       "  </thead>\n",
       "  <tbody>\n",
       "    <tr>\n",
       "      <th>77625</th>\n",
       "      <td>83475</td>\n",
       "      <td>p210432</td>\n",
       "      <td>02925c70cfaaf02c50a818333a0e0c72</td>\n",
       "      <td>Mrs.</td>\n",
       "      <td>KY</td>\n",
       "      <td>2016-12-24 15:26:02</td>\n",
       "      <td>Grades PreK-2</td>\n",
       "      <td>\\\"Ear-Resistible\\\" Listening Center!</td>\n",
       "      <td>Our future...\\r\\nMy students are simply amazin...</td>\n",
       "      <td>This space saving listening center will be a g...</td>\n",
       "      <td>...</td>\n",
       "      <td>NaN</td>\n",
       "      <td>My students need a listening center with a cd ...</td>\n",
       "      <td>2</td>\n",
       "      <td>Literacy_Language</td>\n",
       "      <td>Literacy</td>\n",
       "      <td>Our future...\\r\\nMy students are simply amazin...</td>\n",
       "      <td>251.05</td>\n",
       "      <td>1</td>\n",
       "      <td>our future my students simply amazing there en...</td>\n",
       "      <td>ear resistible listening center</td>\n",
       "    </tr>\n",
       "    <tr>\n",
       "      <th>20897</th>\n",
       "      <td>17991</td>\n",
       "      <td>p052636</td>\n",
       "      <td>cb2410db949de9b02e1ec55ab98cf0d7</td>\n",
       "      <td>Mrs.</td>\n",
       "      <td>CA</td>\n",
       "      <td>2016-08-01 22:59:39</td>\n",
       "      <td>Grades 3-5</td>\n",
       "      <td>Rug to the Rescue</td>\n",
       "      <td>My fourth grade students are curious boys and ...</td>\n",
       "      <td>Although my students are fourth graders, they ...</td>\n",
       "      <td>...</td>\n",
       "      <td>NaN</td>\n",
       "      <td>My students need a bright, new classroom rug a...</td>\n",
       "      <td>44</td>\n",
       "      <td>Math_Science Literacy_Language</td>\n",
       "      <td>Health_LifeScience Literacy</td>\n",
       "      <td>My fourth grade students are curious boys and ...</td>\n",
       "      <td>405.92</td>\n",
       "      <td>2</td>\n",
       "      <td>my fourth grade students curious boys girls at...</td>\n",
       "      <td>rug rescue</td>\n",
       "    </tr>\n",
       "  </tbody>\n",
       "</table>\n",
       "<p>2 rows × 21 columns</p>\n",
       "</div>"
      ],
      "text/plain": [
       "       Unnamed: 0       id                        teacher_id teacher_prefix  \\\n",
       "77625       83475  p210432  02925c70cfaaf02c50a818333a0e0c72           Mrs.   \n",
       "20897       17991  p052636  cb2410db949de9b02e1ec55ab98cf0d7           Mrs.   \n",
       "\n",
       "      school_state                Date project_grade_category  \\\n",
       "77625           KY 2016-12-24 15:26:02          Grades PreK-2   \n",
       "20897           CA 2016-08-01 22:59:39             Grades 3-5   \n",
       "\n",
       "                              project_title  \\\n",
       "77625  \\\"Ear-Resistible\\\" Listening Center!   \n",
       "20897                     Rug to the Rescue   \n",
       "\n",
       "                                         project_essay_1  \\\n",
       "77625  Our future...\\r\\nMy students are simply amazin...   \n",
       "20897  My fourth grade students are curious boys and ...   \n",
       "\n",
       "                                         project_essay_2  ... project_essay_4  \\\n",
       "77625  This space saving listening center will be a g...  ...             NaN   \n",
       "20897  Although my students are fourth graders, they ...  ...             NaN   \n",
       "\n",
       "                                project_resource_summary  \\\n",
       "77625  My students need a listening center with a cd ...   \n",
       "20897  My students need a bright, new classroom rug a...   \n",
       "\n",
       "      teacher_number_of_previously_posted_projects  \\\n",
       "77625                                            2   \n",
       "20897                                           44   \n",
       "\n",
       "                     clean_categories          clean_subcategories  \\\n",
       "77625               Literacy_Language                     Literacy   \n",
       "20897  Math_Science Literacy_Language  Health_LifeScience Literacy   \n",
       "\n",
       "                                                   essay   price  quantity  \\\n",
       "77625  Our future...\\r\\nMy students are simply amazin...  251.05         1   \n",
       "20897  My fourth grade students are curious boys and ...  405.92         2   \n",
       "\n",
       "                                          cleaned_essays  \\\n",
       "77625  our future my students simply amazing there en...   \n",
       "20897  my fourth grade students curious boys girls at...   \n",
       "\n",
       "                    cleaned_title_text  \n",
       "77625  ear resistible listening center  \n",
       "20897                       rug rescue  \n",
       "\n",
       "[2 rows x 21 columns]"
      ]
     },
     "execution_count": 38,
     "metadata": {},
     "output_type": "execute_result"
    }
   ],
   "source": [
    "x.head(2)"
   ]
  },
  {
   "cell_type": "code",
   "execution_count": 39,
   "metadata": {},
   "outputs": [],
   "source": [
    "# break in train test\n",
    "\n",
    "from sklearn.model_selection import train_test_split\n",
    "\n",
    "x_train,x_test,y_train,y_test= train_test_split(x,y,test_size=0.3,random_state=2,shuffle=False)\n",
    "\n",
    "# now break trainig data further in train and cv\n",
    "#x_train,x_cv,y_train,y_cv= train_test_split(x_train, y_train, test_size=0.3 ,random_state=2,stratify=y_train)"
   ]
  },
  {
   "cell_type": "code",
   "execution_count": 40,
   "metadata": {},
   "outputs": [
    {
     "name": "stdout",
     "output_type": "stream",
     "text": [
      "(35000, 21) (35000,)\n",
      "(15000, 21) (15000,)\n",
      "====================================================================================================\n"
     ]
    }
   ],
   "source": [
    "print(x_train.shape, y_train.shape)\n",
    "#print(x_cv.shape, y_cv.shape)\n",
    "print(x_test.shape, y_test.shape)\n",
    "\n",
    "print(\"=\"*100)"
   ]
  },
  {
   "cell_type": "code",
   "execution_count": 41,
   "metadata": {},
   "outputs": [
    {
     "name": "stdout",
     "output_type": "stream",
     "text": [
      "2303\n",
      "12697\n"
     ]
    }
   ],
   "source": [
    "x=np.count_nonzero(y_test)\n",
    "# count no. of project app or not on test data set\n",
    "print(len(y_test)-x)\n",
    "print(x)\n"
   ]
  },
  {
   "cell_type": "code",
   "execution_count": 42,
   "metadata": {},
   "outputs": [
    {
     "data": {
      "text/html": [
       "<div>\n",
       "<style scoped>\n",
       "    .dataframe tbody tr th:only-of-type {\n",
       "        vertical-align: middle;\n",
       "    }\n",
       "\n",
       "    .dataframe tbody tr th {\n",
       "        vertical-align: top;\n",
       "    }\n",
       "\n",
       "    .dataframe thead th {\n",
       "        text-align: right;\n",
       "    }\n",
       "</style>\n",
       "<table border=\"1\" class=\"dataframe\">\n",
       "  <thead>\n",
       "    <tr style=\"text-align: right;\">\n",
       "      <th></th>\n",
       "      <th>Unnamed: 0</th>\n",
       "      <th>id</th>\n",
       "      <th>teacher_id</th>\n",
       "      <th>teacher_prefix</th>\n",
       "      <th>school_state</th>\n",
       "      <th>Date</th>\n",
       "      <th>project_grade_category</th>\n",
       "      <th>project_title</th>\n",
       "      <th>project_essay_1</th>\n",
       "      <th>project_essay_2</th>\n",
       "      <th>...</th>\n",
       "      <th>project_essay_4</th>\n",
       "      <th>project_resource_summary</th>\n",
       "      <th>teacher_number_of_previously_posted_projects</th>\n",
       "      <th>clean_categories</th>\n",
       "      <th>clean_subcategories</th>\n",
       "      <th>essay</th>\n",
       "      <th>price</th>\n",
       "      <th>quantity</th>\n",
       "      <th>cleaned_essays</th>\n",
       "      <th>cleaned_title_text</th>\n",
       "    </tr>\n",
       "  </thead>\n",
       "  <tbody>\n",
       "    <tr>\n",
       "      <th>77625</th>\n",
       "      <td>83475</td>\n",
       "      <td>p210432</td>\n",
       "      <td>02925c70cfaaf02c50a818333a0e0c72</td>\n",
       "      <td>Mrs.</td>\n",
       "      <td>KY</td>\n",
       "      <td>2016-12-24 15:26:02</td>\n",
       "      <td>Grades PreK-2</td>\n",
       "      <td>\\\"Ear-Resistible\\\" Listening Center!</td>\n",
       "      <td>Our future...\\r\\nMy students are simply amazin...</td>\n",
       "      <td>This space saving listening center will be a g...</td>\n",
       "      <td>...</td>\n",
       "      <td>NaN</td>\n",
       "      <td>My students need a listening center with a cd ...</td>\n",
       "      <td>2</td>\n",
       "      <td>Literacy_Language</td>\n",
       "      <td>Literacy</td>\n",
       "      <td>Our future...\\r\\nMy students are simply amazin...</td>\n",
       "      <td>251.05</td>\n",
       "      <td>1</td>\n",
       "      <td>our future my students simply amazing there en...</td>\n",
       "      <td>ear resistible listening center</td>\n",
       "    </tr>\n",
       "    <tr>\n",
       "      <th>20897</th>\n",
       "      <td>17991</td>\n",
       "      <td>p052636</td>\n",
       "      <td>cb2410db949de9b02e1ec55ab98cf0d7</td>\n",
       "      <td>Mrs.</td>\n",
       "      <td>CA</td>\n",
       "      <td>2016-08-01 22:59:39</td>\n",
       "      <td>Grades 3-5</td>\n",
       "      <td>Rug to the Rescue</td>\n",
       "      <td>My fourth grade students are curious boys and ...</td>\n",
       "      <td>Although my students are fourth graders, they ...</td>\n",
       "      <td>...</td>\n",
       "      <td>NaN</td>\n",
       "      <td>My students need a bright, new classroom rug a...</td>\n",
       "      <td>44</td>\n",
       "      <td>Math_Science Literacy_Language</td>\n",
       "      <td>Health_LifeScience Literacy</td>\n",
       "      <td>My fourth grade students are curious boys and ...</td>\n",
       "      <td>405.92</td>\n",
       "      <td>2</td>\n",
       "      <td>my fourth grade students curious boys girls at...</td>\n",
       "      <td>rug rescue</td>\n",
       "    </tr>\n",
       "  </tbody>\n",
       "</table>\n",
       "<p>2 rows × 21 columns</p>\n",
       "</div>"
      ],
      "text/plain": [
       "       Unnamed: 0       id                        teacher_id teacher_prefix  \\\n",
       "77625       83475  p210432  02925c70cfaaf02c50a818333a0e0c72           Mrs.   \n",
       "20897       17991  p052636  cb2410db949de9b02e1ec55ab98cf0d7           Mrs.   \n",
       "\n",
       "      school_state                Date project_grade_category  \\\n",
       "77625           KY 2016-12-24 15:26:02          Grades PreK-2   \n",
       "20897           CA 2016-08-01 22:59:39             Grades 3-5   \n",
       "\n",
       "                              project_title  \\\n",
       "77625  \\\"Ear-Resistible\\\" Listening Center!   \n",
       "20897                     Rug to the Rescue   \n",
       "\n",
       "                                         project_essay_1  \\\n",
       "77625  Our future...\\r\\nMy students are simply amazin...   \n",
       "20897  My fourth grade students are curious boys and ...   \n",
       "\n",
       "                                         project_essay_2  ... project_essay_4  \\\n",
       "77625  This space saving listening center will be a g...  ...             NaN   \n",
       "20897  Although my students are fourth graders, they ...  ...             NaN   \n",
       "\n",
       "                                project_resource_summary  \\\n",
       "77625  My students need a listening center with a cd ...   \n",
       "20897  My students need a bright, new classroom rug a...   \n",
       "\n",
       "      teacher_number_of_previously_posted_projects  \\\n",
       "77625                                            2   \n",
       "20897                                           44   \n",
       "\n",
       "                     clean_categories          clean_subcategories  \\\n",
       "77625               Literacy_Language                     Literacy   \n",
       "20897  Math_Science Literacy_Language  Health_LifeScience Literacy   \n",
       "\n",
       "                                                   essay   price  quantity  \\\n",
       "77625  Our future...\\r\\nMy students are simply amazin...  251.05         1   \n",
       "20897  My fourth grade students are curious boys and ...  405.92         2   \n",
       "\n",
       "                                          cleaned_essays  \\\n",
       "77625  our future my students simply amazing there en...   \n",
       "20897  my fourth grade students curious boys girls at...   \n",
       "\n",
       "                    cleaned_title_text  \n",
       "77625  ear resistible listening center  \n",
       "20897                       rug rescue  \n",
       "\n",
       "[2 rows x 21 columns]"
      ]
     },
     "execution_count": 42,
     "metadata": {},
     "output_type": "execute_result"
    }
   ],
   "source": [
    "x_train.head(2)\n"
   ]
  },
  {
   "cell_type": "markdown",
   "metadata": {},
   "source": [
    "<h1> Apply BOW and OHE </h1>"
   ]
  },
  {
   "cell_type": "code",
   "execution_count": 43,
   "metadata": {},
   "outputs": [
    {
     "name": "stdout",
     "output_type": "stream",
     "text": [
      "After vectorizations\n",
      "(35000, 74447) (35000,)\n",
      "(15000, 74447) (15000,)\n",
      "====================================================================================================\n"
     ]
    }
   ],
   "source": [
    "from sklearn.feature_extraction.text import CountVectorizer\n",
    "# Vectorizing text data\n",
    "# We are considering only the words which appeared in at least 10 documents(rows or projects).\n",
    "vectorizer = CountVectorizer(min_df=10,ngram_range=(1,2))\n",
    "vectorizer.fit_transform(x_train[\"cleaned_essays\"].values)\n",
    "\n",
    "x_train_essay_bow = vectorizer.transform(x_train['cleaned_essays'].values)\n",
    "#x_cv_essay_bow = vectorizer.transform(x_cv['cleaned_essays'].values)\n",
    "x_test_essay_bow = vectorizer.transform(x_test['cleaned_essays'].values)\n",
    "\n",
    "print(\"After vectorizations\")\n",
    "print(x_train_essay_bow.shape, y_train.shape)\n",
    "#print(x_cv_essay_bow.shape, y_cv.shape)\n",
    "print(x_test_essay_bow.shape, y_test.shape)\n",
    "print(\"=\"*100)"
   ]
  },
  {
   "cell_type": "code",
   "execution_count": 44,
   "metadata": {},
   "outputs": [
    {
     "name": "stdout",
     "output_type": "stream",
     "text": [
      "After vectorizations\n",
      "(35000, 2786) (35000,)\n",
      "(15000, 2786) (15000,)\n",
      "====================================================================================================\n"
     ]
    }
   ],
   "source": [
    "# BOW on clean_titles\n",
    "\n",
    "from sklearn.feature_extraction.text import CountVectorizer\n",
    "vectorizer = CountVectorizer(min_df=10,ngram_range=(1,2))\n",
    "vectorizer.fit(x_train['cleaned_title_text'].values) # fit has to happen only on train data\n",
    "\n",
    "# we use the fitted CountVectorizer to convert the text to vector\n",
    "x_train_titles_bow = vectorizer.transform(x_train['cleaned_title_text'].values)\n",
    "#x_cv_titles_bow = vectorizer.transform(x_cv['cleaned_title_text'].values)\n",
    "x_test_titles_bow = vectorizer.transform(x_test['cleaned_title_text'].values)\n",
    "\n",
    "print(\"After vectorizations\")\n",
    "print(x_train_titles_bow.shape, y_train.shape)\n",
    "#print(x_cv_titles_bow.shape, y_cv.shape)\n",
    "print(x_test_titles_bow.shape, y_test.shape)\n",
    "print(\"=\"*100)"
   ]
  },
  {
   "cell_type": "code",
   "execution_count": 45,
   "metadata": {},
   "outputs": [
    {
     "name": "stdout",
     "output_type": "stream",
     "text": [
      "After vectorizations\n",
      "(35000, 9) (35000,)\n",
      "(15000, 9) (15000,)\n",
      "['appliedlearning', 'care_hunger', 'health_sports', 'history_civics', 'literacy_language', 'math_science', 'music_arts', 'specialneeds', 'warmth']\n",
      "====================================================================================================\n"
     ]
    }
   ],
   "source": [
    "# ONE of subject category\n",
    "from sklearn.feature_extraction.text import CountVectorizer\n",
    "vectorizer = CountVectorizer()\n",
    "vectorizer.fit(x_train['clean_categories'].values) # fit has to happen only on train data\n",
    "\n",
    "\n",
    "# we use the fitted CountVectorizer to convert the text to vector\n",
    "x_train_clean_cat_ohe = vectorizer.transform(x_train['clean_categories'].values)\n",
    "#x_cv_clean_cat_ohe = vectorizer.transform(x_cv['clean_categories'].values)\n",
    "x_test_clean_cat_ohe = vectorizer.transform(x_test['clean_categories'].values)\n",
    "\n",
    "print(\"After vectorizations\")\n",
    "print(x_train_clean_cat_ohe.shape, y_train.shape)\n",
    "#print(x_cv_clean_cat_ohe.shape, y_cv.shape)\n",
    "print(x_test_clean_cat_ohe.shape, y_test.shape)\n",
    "print(vectorizer.get_feature_names())\n",
    "print(\"=\"*100)"
   ]
  },
  {
   "cell_type": "code",
   "execution_count": 46,
   "metadata": {},
   "outputs": [
    {
     "name": "stdout",
     "output_type": "stream",
     "text": [
      "After vectorizations\n",
      "(35000, 9) (35000,)\n",
      "(15000, 9) (15000,)\n",
      "['appliedsciences', 'care_hunger', 'charactereducation', 'civics_government', 'college_careerprep', 'communityservice', 'earlydevelopment', 'economics', 'environmentalscience', 'esl', 'extracurricular', 'financialliteracy', 'foreignlanguages', 'gym_fitness', 'health_lifescience', 'health_wellness', 'history_geography', 'literacy', 'literature_writing', 'mathematics', 'music', 'nutritioneducation', 'other', 'parentinvolvement', 'performingarts', 'socialsciences', 'specialneeds', 'teamsports', 'visualarts', 'warmth']\n",
      "====================================================================================================\n"
     ]
    }
   ],
   "source": [
    "# ONE of subject subcategory\n",
    "\n",
    "vectorizer = CountVectorizer()\n",
    "vectorizer.fit(x_train['clean_subcategories'].values) # fit has to happen only on train data\n",
    "\n",
    "\n",
    "# we use the fitted CountVectorizer to convert the text to vector\n",
    "x_train_clean_subcat_ohe = vectorizer.transform(x_train['clean_subcategories'].values)\n",
    "#x_cv_clean_subcat_ohe = vectorizer.transform(x_cv['clean_subcategories'].values)\n",
    "x_test_clean_subcat_ohe = vectorizer.transform(x_test['clean_subcategories'].values)\n",
    "\n",
    "print(\"After vectorizations\")\n",
    "print(x_train_clean_cat_ohe.shape, y_train.shape)\n",
    "#print(x_cv_clean_cat_ohe.shape, y_cv.shape)\n",
    "print(x_test_clean_cat_ohe.shape, y_test.shape)\n",
    "print(vectorizer.get_feature_names())\n",
    "print(\"=\"*100)"
   ]
  },
  {
   "cell_type": "code",
   "execution_count": 47,
   "metadata": {},
   "outputs": [
    {
     "name": "stdout",
     "output_type": "stream",
     "text": [
      "After vectorizations\n",
      "(35000, 6) (35000,)\n",
      "(15000, 6) (15000,)\n",
      "['dr', 'mr', 'mrs', 'ms', 'null', 'teacher']\n",
      "====================================================================================================\n"
     ]
    }
   ],
   "source": [
    "# one hot encoding the catogorical features: categorical_categories\n",
    "# teacher_prefix\n",
    "\n",
    "vectorizer = CountVectorizer()\n",
    "vectorizer.fit(x_train['teacher_prefix'].values) # fit has to happen only on train data\n",
    "\n",
    "# we use the fitted CountVectorizer to convert the text to vector\n",
    "x_train_teacher_pre = vectorizer.transform(x_train['teacher_prefix'].values)\n",
    "#x_cv_teacher_pre = vectorizer.transform(x_cv['teacher_prefix'].values)\n",
    "x_test_teacher_pre = vectorizer.transform(x_test['teacher_prefix'].values)\n",
    "\n",
    "print(\"After vectorizations\")\n",
    "print(x_train_teacher_pre.shape, y_train.shape)\n",
    "#print(x_cv_teacher_pre.shape, y_cv.shape)\n",
    "print(x_test_teacher_pre.shape, y_test.shape)\n",
    "print(vectorizer.get_feature_names())\n",
    "print(\"=\"*100)\n"
   ]
  },
  {
   "cell_type": "code",
   "execution_count": 48,
   "metadata": {},
   "outputs": [
    {
     "name": "stdout",
     "output_type": "stream",
     "text": [
      "After vectorizations\n",
      "(35000, 51) (35000,)\n",
      "(15000, 51) (15000,)\n",
      "['ak', 'al', 'ar', 'az', 'ca', 'co', 'ct', 'dc', 'de', 'fl', 'ga', 'hi', 'ia', 'id', 'il', 'in', 'ks', 'ky', 'la', 'ma', 'md', 'me', 'mi', 'mn', 'mo', 'ms', 'mt', 'nc', 'nd', 'ne', 'nh', 'nj', 'nm', 'nv', 'ny', 'oh', 'ok', 'or', 'pa', 'ri', 'sc', 'sd', 'tn', 'tx', 'ut', 'va', 'vt', 'wa', 'wi', 'wv', 'wy']\n",
      "====================================================================================================\n"
     ]
    }
   ],
   "source": [
    "# school_state\n",
    "\n",
    "vectorizer = CountVectorizer()\n",
    "vectorizer.fit(x_train['school_state'].values) # fit has to happen only on train data\n",
    "\n",
    "# we use the fitted CountVectorizer to convert the text to vector\n",
    "x_train_state_ohe = vectorizer.transform(x_train['school_state'].values)\n",
    "#x_cv_state_ohe = vectorizer.transform(x_cv['school_state'].values)\n",
    "x_test_state_ohe = vectorizer.transform(x_test['school_state'].values)\n",
    "\n",
    "print(\"After vectorizations\")\n",
    "print(x_train_state_ohe.shape, y_train.shape)\n",
    "#print(x_cv_state_ohe.shape, y_cv.shape)\n",
    "print(x_test_state_ohe.shape, y_test.shape)\n",
    "print(vectorizer.get_feature_names())\n",
    "print(\"=\"*100)"
   ]
  },
  {
   "cell_type": "code",
   "execution_count": 49,
   "metadata": {},
   "outputs": [],
   "source": [
    "project_grade_category= x_train['project_grade_category'].unique()"
   ]
  },
  {
   "cell_type": "code",
   "execution_count": 50,
   "metadata": {},
   "outputs": [
    {
     "name": "stdout",
     "output_type": "stream",
     "text": [
      "After vectorizations\n",
      "(35000, 4) (35000,)\n",
      "(15000, 4) (15000,)\n",
      "['Grades PreK-2', 'Grades 3-5', 'Grades 6-8', 'Grades 9-12']\n",
      "====================================================================================================\n"
     ]
    }
   ],
   "source": [
    "vectorizer5 = CountVectorizer(vocabulary=list(project_grade_category), lowercase=False, binary=True)\n",
    "vectorizer5.fit(x_train['project_grade_category'].values) # fit has to happen only on train data\n",
    "\n",
    "# we use the fitted CountVectorizer to convert the text to vector\n",
    "x_train_grade_ohe = vectorizer5.transform(x_train['project_grade_category'].values)\n",
    "#x_cv_grade_ohe = vectorizer.transform(x_cv['project_grade_category'].values)\n",
    "x_test_grade_ohe = vectorizer5.transform(x_test['project_grade_category'].values)\n",
    "\n",
    "print(\"After vectorizations\")\n",
    "print(x_train_grade_ohe.shape, y_train.shape)\n",
    "#print(x_cv_grade_ohe.shape, y_cv.shape)\n",
    "print(x_test_grade_ohe.shape, y_test.shape)\n",
    "print(vectorizer5.get_feature_names())\n",
    "print(\"=\"*100)\n"
   ]
  },
  {
   "cell_type": "code",
   "execution_count": 51,
   "metadata": {},
   "outputs": [
    {
     "name": "stdout",
     "output_type": "stream",
     "text": [
      "After vectorizations\n",
      "(35000, 1) (35000,)\n",
      "(15000, 1) (15000,)\n",
      "====================================================================================================\n",
      "Mean : 297.5980302857143, Standard deviation : 356.70522540667776\n"
     ]
    }
   ],
   "source": [
    "# Standarized the numerical features: Price\n",
    "\n",
    "from sklearn.preprocessing import StandardScaler\n",
    "price_scalar = StandardScaler()\n",
    "price_scalar.fit(x_train['price'].values.reshape(-1,1)) # finding the mean and standard deviation of this data\n",
    "\n",
    "x_train_price_std = price_scalar.transform(x_train['price'].values.reshape(-1,1))\n",
    "#x_cv_price_std = price_scalar.transform(x_cv['price'].values.reshape(-1,1))\n",
    "x_test_price_std = price_scalar.transform(x_test['price'].values.reshape(-1,1))\n",
    "\n",
    "print(\"After vectorizations\")\n",
    "print(x_train_price_std.shape, y_train.shape)\n",
    "#print(x_cv_price_std.shape, y_cv.shape)\n",
    "print(x_test_price_std.shape, y_test.shape)\n",
    "print(\"=\"*100)\n",
    "print(f\"Mean : {price_scalar.mean_[0]}, Standard deviation : {np.sqrt(price_scalar.var_[0])}\")"
   ]
  },
  {
   "cell_type": "code",
   "execution_count": 52,
   "metadata": {},
   "outputs": [
    {
     "data": {
      "text/plain": [
       "array([[-0.13049439],\n",
       "       [ 0.30367363],\n",
       "       [ 0.78042582],\n",
       "       ...,\n",
       "       [-0.29794358],\n",
       "       [-0.75622113],\n",
       "       [-0.53603933]])"
      ]
     },
     "execution_count": 52,
     "metadata": {},
     "output_type": "execute_result"
    }
   ],
   "source": [
    "x_train_price_std"
   ]
  },
  {
   "cell_type": "code",
   "execution_count": 53,
   "metadata": {},
   "outputs": [
    {
     "name": "stderr",
     "output_type": "stream",
     "text": [
      "C:\\Users\\Tarun Makkar\\Anaconda3\\lib\\site-packages\\sklearn\\utils\\validation.py:595: DataConversionWarning: Data with input dtype int64 was converted to float64 by StandardScaler.\n",
      "  warnings.warn(msg, DataConversionWarning)\n",
      "C:\\Users\\Tarun Makkar\\Anaconda3\\lib\\site-packages\\sklearn\\utils\\validation.py:595: DataConversionWarning: Data with input dtype int64 was converted to float64 by StandardScaler.\n",
      "  warnings.warn(msg, DataConversionWarning)\n",
      "C:\\Users\\Tarun Makkar\\Anaconda3\\lib\\site-packages\\sklearn\\utils\\validation.py:595: DataConversionWarning: Data with input dtype int64 was converted to float64 by StandardScaler.\n",
      "  warnings.warn(msg, DataConversionWarning)\n"
     ]
    },
    {
     "name": "stdout",
     "output_type": "stream",
     "text": [
      "After vectorizations\n",
      "(35000, 1) (35000,)\n",
      "(15000, 1) (15000,)\n",
      "====================================================================================================\n",
      "Mean : 11.310028571428571, Standard deviation : 28.152185847624402\n"
     ]
    }
   ],
   "source": [
    "# Standarized the numerical features: teacher_previously\n",
    "\n",
    "from sklearn.preprocessing import StandardScaler\n",
    "teacher_previously_scalar = StandardScaler()\n",
    "teacher_previously_scalar.fit(x_train['teacher_number_of_previously_posted_projects'].values.reshape(-1,1)) # finding the mean and standard deviation of this data\n",
    "\n",
    "x_train_teacher_previously_std = teacher_previously_scalar.transform(x_train['teacher_number_of_previously_posted_projects'].values.reshape(-1,1))\n",
    "#x_cv_teacher_previously_std = teacher_previously_scalar.transform(x_cv['teacher_number_of_previously_posted_projects'].values.reshape(-1,1))\n",
    "x_test_teacher_previously_std = teacher_previously_scalar.transform(x_test['teacher_number_of_previously_posted_projects'].values.reshape(-1,1))\n",
    "\n",
    "print(\"After vectorizations\")\n",
    "print(x_train_teacher_previously_std.shape, y_train.shape)\n",
    "#print(x_cv_teacher_previously_std.shape, y_cv.shape)\n",
    "print(x_test_teacher_previously_std.shape, y_test.shape)\n",
    "print(\"=\"*100)\n",
    "print(f\"Mean : {teacher_previously_scalar.mean_[0]}, Standard deviation : {np.sqrt(teacher_previously_scalar.var_[0])}\")"
   ]
  },
  {
   "cell_type": "code",
   "execution_count": 54,
   "metadata": {},
   "outputs": [
    {
     "name": "stderr",
     "output_type": "stream",
     "text": [
      "C:\\Users\\Tarun Makkar\\Anaconda3\\lib\\site-packages\\sklearn\\utils\\validation.py:595: DataConversionWarning: Data with input dtype int64 was converted to float64 by StandardScaler.\n",
      "  warnings.warn(msg, DataConversionWarning)\n",
      "C:\\Users\\Tarun Makkar\\Anaconda3\\lib\\site-packages\\sklearn\\utils\\validation.py:595: DataConversionWarning: Data with input dtype int64 was converted to float64 by StandardScaler.\n",
      "  warnings.warn(msg, DataConversionWarning)\n",
      "C:\\Users\\Tarun Makkar\\Anaconda3\\lib\\site-packages\\sklearn\\utils\\validation.py:595: DataConversionWarning: Data with input dtype int64 was converted to float64 by StandardScaler.\n",
      "  warnings.warn(msg, DataConversionWarning)\n"
     ]
    },
    {
     "name": "stdout",
     "output_type": "stream",
     "text": [
      "After vectorizations\n",
      "(35000, 1) (35000,)\n",
      "(15000, 1) (15000,)\n",
      "====================================================================================================\n",
      "Mean : 17.0862, Standard deviation : 26.59960307684523\n"
     ]
    }
   ],
   "source": [
    "# Standarized the numerical features:quantity\n",
    "\n",
    "from sklearn.preprocessing import StandardScaler\n",
    "quantity_scalar = StandardScaler()\n",
    "quantity_scalar.fit(x_train['quantity'].values.reshape(-1,1)) # finding the mean and standard deviation of this data\n",
    "\n",
    "x_train_quantity_std = quantity_scalar.transform(x_train['quantity'].values.reshape(-1,1))\n",
    "#x_cv_teacher_previously_std = teacher_previously_scalar.transform(x_cv['teacher_number_of_previously_posted_projects'].values.reshape(-1,1))\n",
    "x_test_quantity_std = quantity_scalar.transform(x_test['quantity'].values.reshape(-1,1))\n",
    "\n",
    "print(\"After vectorizations\")\n",
    "print(x_train_quantity_std.shape, y_train.shape)\n",
    "#print(x_cv_teacher_previously_std.shape, y_cv.shape)\n",
    "print(x_test_quantity_std.shape, y_test.shape)\n",
    "print(\"=\"*100)\n",
    "print(f\"Mean : {quantity_scalar.mean_[0]}, Standard deviation : {np.sqrt(quantity_scalar.var_[0])}\")"
   ]
  },
  {
   "cell_type": "code",
   "execution_count": 55,
   "metadata": {},
   "outputs": [
    {
     "name": "stdout",
     "output_type": "stream",
     "text": [
      "Final Data matrix\n",
      "(35000, 77335) (35000,)\n",
      "(15000, 77335) (15000,)\n",
      "====================================================================================================\n"
     ]
    }
   ],
   "source": [
    "# CONCATINATE all features\n",
    "\n",
    "# merge two sparse matrices: https://stackoverflow.com/a/19710648/4084039\n",
    "from scipy.sparse import hstack\n",
    "X_train = hstack((x_train_essay_bow,x_train_titles_bow,x_train_clean_cat_ohe,x_train_clean_subcat_ohe, x_train_state_ohe, x_train_teacher_pre, x_train_grade_ohe, x_train_price_std,x_train_teacher_previously_std)).tocsr()\n",
    "#X_cv = hstack((x_cv_essay_bow,x_cv_titles_bow,x_cv_clean_cat_ohe,x_cv_clean_subcat_ohe, x_cv_state_ohe, x_cv_teacher_pre, x_cv_grade_ohe, x_cv_price_std,x_cv_teacher_previously_std)).tocsr()\n",
    "X_test = hstack((x_test_essay_bow,x_test_titles_bow,x_test_clean_cat_ohe,x_test_clean_subcat_ohe, x_test_state_ohe, x_test_teacher_pre, x_test_grade_ohe, x_test_price_std,x_test_teacher_previously_std)).tocsr()\n",
    "\n",
    "print(\"Final Data matrix\")\n",
    "print(X_train.shape, y_train.shape)\n",
    "#print(X_cv.shape, y_cv.shape)\n",
    "print(X_test.shape, y_test.shape)\n",
    "print(\"=\"*100)"
   ]
  },
  {
   "cell_type": "code",
   "execution_count": 56,
   "metadata": {},
   "outputs": [
    {
     "data": {
      "text/plain": [
       "scipy.sparse.csr.csr_matrix"
      ]
     },
     "execution_count": 56,
     "metadata": {},
     "output_type": "execute_result"
    }
   ],
   "source": [
    "type(X_train)"
   ]
  },
  {
   "cell_type": "code",
   "execution_count": null,
   "metadata": {},
   "outputs": [],
   "source": []
  },
  {
   "cell_type": "markdown",
   "metadata": {},
   "source": [
    "<h1> <font color = \"red\">SET : 1 [BOW}"
   ]
  },
  {
   "cell_type": "code",
   "execution_count": 57,
   "metadata": {
    "scrolled": true
   },
   "outputs": [
    {
     "name": "stdout",
     "output_type": "stream",
     "text": [
      "Fitting 10 folds for each of 18 candidates, totalling 180 fits\n"
     ]
    },
    {
     "name": "stderr",
     "output_type": "stream",
     "text": [
      "[Parallel(n_jobs=-1)]: Using backend LokyBackend with 12 concurrent workers.\n",
      "[Parallel(n_jobs=-1)]: Done  26 tasks      | elapsed:   10.7s\n",
      "[Parallel(n_jobs=-1)]: Done 180 out of 180 | elapsed:   49.6s finished\n",
      "C:\\Users\\Tarun Makkar\\Anaconda3\\lib\\site-packages\\sklearn\\linear_model\\stochastic_gradient.py:166: FutureWarning: max_iter and tol parameters have been added in SGDClassifier in 0.19. If both are left unset, they default to max_iter=5 and tol=None. If tol is not None, max_iter defaults to max_iter=1000. From 0.21, default max_iter will be 1000, and default tol will be 1e-3.\n",
      "  FutureWarning)\n"
     ]
    },
    {
     "name": "stdout",
     "output_type": "stream",
     "text": [
      "{'alpha': 0.1, 'penalty': 'l2'}\n"
     ]
    }
   ],
   "source": [
    "from sklearn.model_selection import GridSearchCV\n",
    "from sklearn.linear_model import SGDClassifier\n",
    "\n",
    "\n",
    "\n",
    "clf_param_grid = {\n",
    "    'alpha' : [10**-x for x in range(-4,5)],\n",
    "    'penalty' : ['l1','l2']\n",
    "}\n",
    "SGD1 = SGDClassifier(class_weight='balanced')\n",
    "\n",
    "estimator = GridSearchCV(SGD1, param_grid=clf_param_grid ,cv=10, verbose=1, scoring=\"roc_auc\",n_jobs=-1)\n",
    "estimator.fit(X_train,y_train)\n",
    "\n",
    "print(estimator.best_params_)\n",
    "\n",
    "\n"
   ]
  },
  {
   "cell_type": "code",
   "execution_count": 58,
   "metadata": {},
   "outputs": [],
   "source": [
    "import warnings\n",
    "warnings.filterwarnings(\"ignore\")"
   ]
  },
  {
   "cell_type": "code",
   "execution_count": 59,
   "metadata": {},
   "outputs": [],
   "source": [
    "b1=estimator.best_params_[\"alpha\"]\n",
    "p1=estimator.best_params_[\"penalty\"]"
   ]
  },
  {
   "cell_type": "code",
   "execution_count": 60,
   "metadata": {},
   "outputs": [],
   "source": [
    "import matplotlib.pyplot as plt\n",
    "import math"
   ]
  },
  {
   "cell_type": "code",
   "execution_count": 61,
   "metadata": {},
   "outputs": [
    {
     "data": {
      "image/png": "[encoded data removed]",
      "text/plain": [
       "<Figure size 432x288 with 1 Axes>"
      ]
     },
     "metadata": {
      "needs_background": "light"
     },
     "output_type": "display_data"
    }
   ],
   "source": [
    "train_auc1= estimator.cv_results_['mean_train_score'][estimator.cv_results_['param_penalty']==p1]\n",
    "train_auc_std1= estimator.cv_results_['std_train_score'][estimator.cv_results_['param_penalty']==p1]\n",
    "cv_auc1 = estimator.cv_results_['mean_test_score'][estimator.cv_results_['param_penalty']==p1]\n",
    "cv_auc_std1= estimator.cv_results_['std_test_score'][estimator.cv_results_['param_penalty']==p1]\n",
    "\n",
    "ax=plt.subplot()\n",
    "plt.plot(clf_param_grid['alpha'], train_auc1, label='Train AUC')\n",
    "\n",
    "# this code is copied from here: https://stackoverflow.com/a/48803361/4084039\n",
    "plt.gca().fill_between(clf_param_grid['alpha'],train_auc1 - train_auc_std1,train_auc1 + train_auc_std1,alpha=0.2,color='darkblue')\n",
    "# create a shaded area between [mean - std, mean + std]\n",
    "\n",
    "plt.plot(clf_param_grid['alpha'], cv_auc1, label='CV AUC')\n",
    "# this code is copied from here: https://stackoverflow.com/a/48803361/4084039\n",
    "plt.gca().fill_between(clf_param_grid['alpha'],cv_auc1 - cv_auc_std1,cv_auc1 + cv_auc_std1,alpha=0.2,color='darkorange')\n",
    "\n",
    "plt.scatter(clf_param_grid['alpha'], train_auc1, label='Train AUC points')\n",
    "plt.scatter(clf_param_grid['alpha'], cv_auc1, label='CV AUC points')\n",
    "\n",
    "plt.xscale('log')\n",
    "plt.axis('tight')\n",
    "plt.legend()\n",
    "plt.xlabel(\"alpha: hyperparameter\")\n",
    "plt.ylabel(\"AUC\")\n",
    "plt.title(\"ERROR PLOTS\")\n",
    "plt.grid()\n",
    "plt.show()"
   ]
  },
  {
   "cell_type": "code",
   "execution_count": 62,
   "metadata": {
    "scrolled": true
   },
   "outputs": [
    {
     "data": {
      "text/plain": [
       "SGDClassifier(alpha=0.1, average=False, class_weight='balanced',\n",
       "       early_stopping=False, epsilon=0.1, eta0=0.0, fit_intercept=True,\n",
       "       l1_ratio=0.15, learning_rate='optimal', loss='hinge', max_iter=None,\n",
       "       n_iter=None, n_iter_no_change=5, n_jobs=None, penalty='l2',\n",
       "       power_t=0.5, random_state=1, shuffle=True, tol=None,\n",
       "       validation_fraction=0.1, verbose=0, warm_start=False)"
      ]
     },
     "execution_count": 62,
     "metadata": {},
     "output_type": "execute_result"
    }
   ],
   "source": [
    "model_new1=SGDClassifier(penalty=p1, alpha= b1,class_weight='balanced',random_state=1)\n",
    "model_new1.fit(X_train,y_train)"
   ]
  },
  {
   "cell_type": "code",
   "execution_count": 169,
   "metadata": {},
   "outputs": [
    {
     "name": "stdout",
     "output_type": "stream",
     "text": [
      "[0.36641822 0.99999996 0.99231327]\n"
     ]
    }
   ],
   "source": [
    "import numpy as np\n",
    "import math\n",
    "\n",
    "# custom function\n",
    "def sigmoid(x):\n",
    "    return 1 / (1 + math.exp(-x))\n",
    "\n",
    "# define vectorized sigmoid\n",
    "sigmoid_v = np.vectorize(sigmoid)\n",
    "\n",
    "# test\n",
    "scores = np.array([ -0.54761371,  17.04850603,   4.86054302])\n",
    "print (sigmoid_v(scores))"
   ]
  },
  {
   "cell_type": "code",
   "execution_count": 170,
   "metadata": {},
   "outputs": [
    {
     "data": {
      "image/png": "[encoded data removed]",
      "text/plain": [
       "<Figure size 432x288 with 1 Axes>"
      ]
     },
     "metadata": {
      "needs_background": "light"
     },
     "output_type": "display_data"
    }
   ],
   "source": [
    "from  sklearn.metrics import roc_curve\n",
    "from sklearn.metrics import auc\n",
    "import matplotlib.pyplot as plt\n",
    "\n",
    "\n",
    "score_roc_train = model_new1.decision_function(X_train)\n",
    "fpr_train, tpr_train, threshold_train = roc_curve(y_train, sigmoid_v(score_roc_train))\n",
    "roc_auc_train = auc(fpr_train, tpr_train)\n",
    "\n",
    "score_roc_test = model_new1.decision_function(X_test)\n",
    "fpr_test, tpr_test, threshold_test = roc_curve(y_test,sigmoid_v( score_roc_test))\n",
    "roc_auc_test = auc(fpr_test, tpr_test)\n",
    "\n",
    "\n",
    "plt.plot(fpr_train, tpr_train, label = \"Train_AUC\"+str(auc(fpr_train, tpr_train)))\n",
    "plt.plot(fpr_test, tpr_test, label = \"Test_AUC\"+str(auc(fpr_test, tpr_test)))\n",
    "plt.legend(loc = 'lower right')\n",
    "\n",
    "plt.plot([0, 1], [0, 1],'r--')\n",
    "plt.xlim([0, 1])\n",
    "plt.ylim([0, 1])\n",
    "\n",
    "plt.ylabel('True Positive Rate')\n",
    "plt.xlabel('False Positive Rate')\n",
    "plt.title('ROC Curve of SVM ')\n",
    "plt.show()"
   ]
  },
  {
   "cell_type": "code",
   "execution_count": 171,
   "metadata": {},
   "outputs": [],
   "source": [
    "y_train_pred = model_new1.predict(X_train)\n",
    "y_test_pred = model_new1.predict(X_test)"
   ]
  },
  {
   "cell_type": "code",
   "execution_count": 172,
   "metadata": {},
   "outputs": [],
   "source": [
    "# we are defining are own function for use probabilities to plot confusion matrix\n",
    "# we have to plot confusion matrix at least fpr and high tpr values\n",
    "\n",
    "def predict(proba,threshold,fpr,tpr):\n",
    "    \n",
    "    t = threshold[np.argmax(tpr*(1-fpr))]\n",
    "    # (tpr*(1-fpr)) will be maximum if your fpr is very low and tpr is very high\n",
    "     \n",
    "    print(\"the maximum value of tpr*(1-fpr)\", max(tpr*(1-fpr)), \"for threshold\", np.round(t,3))\n",
    "    \n",
    "\n",
    "    predictions = []\n",
    "    for i in proba:\n",
    "        if i>=t:\n",
    "            predictions.append(1)\n",
    "        else:\n",
    "            predictions.append(0)\n",
    "    return predictions\n",
    "    "
   ]
  },
  {
   "cell_type": "code",
   "execution_count": 173,
   "metadata": {},
   "outputs": [
    {
     "name": "stdout",
     "output_type": "stream",
     "text": [
      "Train confusion matrix\n",
      "the maximum value of tpr*(1-fpr) 0.5088269083815256 for threshold 0.536\n"
     ]
    },
    {
     "data": {
      "text/plain": [
       "Text(0.5, 1.0, 'Confusion Matrix\\n')"
      ]
     },
     "execution_count": 173,
     "metadata": {},
     "output_type": "execute_result"
    },
    {
     "data": {
      "image/png": "[encoded data removed]",
      "text/plain": [
       "<Figure size 432x288 with 2 Axes>"
      ]
     },
     "metadata": {
      "needs_background": "light"
     },
     "output_type": "display_data"
    }
   ],
   "source": [
    "from sklearn.metrics import confusion_matrix\n",
    "\n",
    "import seaborn as sns\n",
    "ax = plt.subplot()\n",
    "\n",
    "print(\"Train confusion matrix\")\n",
    "cnn_train = confusion_matrix(y_train, predict(y_train_pred, threshold_train, fpr_train, tpr_train))\n",
    "sns.heatmap(cnn_train,annot = True,ax=ax,fmt='d')\n",
    "ax.set_xlabel('Predicted label')\n",
    "ax.set_ylabel('True label')\n",
    "ax.xaxis.set_ticklabels(['negative','positive'])\n",
    "ax.yaxis.set_ticklabels(['negative','positive'])\n",
    "plt.title('Confusion Matrix\\n')"
   ]
  },
  {
   "cell_type": "code",
   "execution_count": 174,
   "metadata": {},
   "outputs": [
    {
     "name": "stdout",
     "output_type": "stream",
     "text": [
      "Test confusion matrix\n",
      "the maximum value of tpr*(1-fpr) 0.4515797595248429 for threshold 0.557\n"
     ]
    },
    {
     "data": {
      "text/plain": [
       "Text(0.5, 1.0, 'Confusion Matrix\\n')"
      ]
     },
     "execution_count": 174,
     "metadata": {},
     "output_type": "execute_result"
    },
    {
     "data": {
      "image/png": "[encoded data removed]",
      "text/plain": [
       "<Figure size 432x288 with 2 Axes>"
      ]
     },
     "metadata": {
      "needs_background": "light"
     },
     "output_type": "display_data"
    }
   ],
   "source": [
    "ax = plt.subplot()\n",
    "\n",
    "print(\"Test confusion matrix\")\n",
    "cnn_test = confusion_matrix(y_test, predict(y_test_pred, threshold_test, fpr_test, tpr_test))\n",
    "sns.heatmap(cnn_test,annot = True,ax=ax,fmt='d')\n",
    "\n",
    "ax.set_xlabel('Predicted label')\n",
    "ax.set_ylabel('True label')\n",
    "ax.xaxis.set_ticklabels(['negative','positive'])\n",
    "ax.yaxis.set_ticklabels(['negative','positive'])\n",
    "plt.title('Confusion Matrix\\n')"
   ]
  },
  {
   "cell_type": "code",
   "execution_count": 68,
   "metadata": {},
   "outputs": [
    {
     "name": "stdout",
     "output_type": "stream",
     "text": [
      "_____________________________________________________________________________________________________\n",
      "Classification Report: \n",
      "\n",
      "              precision    recall  f1-score   support\n",
      "\n",
      "           0       0.30      0.53      0.39      2303\n",
      "           1       0.90      0.78      0.83     12697\n",
      "\n",
      "   micro avg       0.74      0.74      0.74     15000\n",
      "   macro avg       0.60      0.65      0.61     15000\n",
      "weighted avg       0.81      0.74      0.77     15000\n",
      "\n",
      "_____________________________________________________________________________________________________\n"
     ]
    }
   ],
   "source": [
    "from sklearn.metrics import classification_report\n",
    "print(\"_\" * 101)\n",
    "print(\"Classification Report: \\n\")\n",
    "print(classification_report(y_test,y_test_pred))\n",
    "print(\"_\" * 101)\n"
   ]
  },
  {
   "cell_type": "markdown",
   "metadata": {},
   "source": [
    "<h1>SET : 2 ()tf-idf"
   ]
  },
  {
   "cell_type": "markdown",
   "metadata": {},
   "source": [
    "<h2> TFIDF VECTORIZER"
   ]
  },
  {
   "cell_type": "code",
   "execution_count": 69,
   "metadata": {},
   "outputs": [
    {
     "name": "stdout",
     "output_type": "stream",
     "text": [
      "Shape of matrix after one hot encodig  (35000, 10483)\n"
     ]
    }
   ],
   "source": [
    "from sklearn.feature_extraction.text import TfidfVectorizer\n",
    "vectorizer8 = TfidfVectorizer(min_df=10)\n",
    "preprocessed_essays_xtr_tfidf = vectorizer8.fit_transform(x_train['cleaned_essays'])\n",
    "print(\"Shape of matrix after one hot encodig \",preprocessed_essays_xtr_tfidf.shape)"
   ]
  },
  {
   "cell_type": "code",
   "execution_count": 70,
   "metadata": {},
   "outputs": [
    {
     "name": "stdout",
     "output_type": "stream",
     "text": [
      "Shape of matrix after one hot encodig  (15000, 10483)\n"
     ]
    }
   ],
   "source": [
    "preprocessed_essays_xtest_tfidf = vectorizer8.transform(x_test['cleaned_essays'])\n",
    "print(\"Shape of matrix after one hot encodig \",preprocessed_essays_xtest_tfidf.shape)"
   ]
  },
  {
   "cell_type": "code",
   "execution_count": 71,
   "metadata": {},
   "outputs": [
    {
     "name": "stdout",
     "output_type": "stream",
     "text": [
      "Shape of matrix after one hot encodig  (35000, 1680)\n"
     ]
    }
   ],
   "source": [
    "vectorizer9 = TfidfVectorizer(min_df=10)\n",
    "preprocessed_title_xtr_tfidf = vectorizer9.fit_transform(x_train['cleaned_title_text'])\n",
    "print(\"Shape of matrix after one hot encodig \",preprocessed_title_xtr_tfidf.shape)"
   ]
  },
  {
   "cell_type": "code",
   "execution_count": 72,
   "metadata": {},
   "outputs": [
    {
     "name": "stdout",
     "output_type": "stream",
     "text": [
      "Shape of matrix after one hot encodig  (15000, 1680)\n"
     ]
    }
   ],
   "source": [
    "preprocessed_title_xtest_tfidf = vectorizer9.transform(x_test['cleaned_title_text'])\n",
    "print(\"Shape of matrix after one hot encodig \",preprocessed_title_xtest_tfidf.shape)"
   ]
  },
  {
   "cell_type": "code",
   "execution_count": 73,
   "metadata": {},
   "outputs": [],
   "source": [
    "X_train_tfidf=hstack((preprocessed_essays_xtr_tfidf,preprocessed_title_xtr_tfidf,x_train_clean_cat_ohe,x_train_clean_subcat_ohe,x_train_state_ohe,x_train_teacher_pre,x_train_grade_ohe,x_train_price_std,x_train_teacher_previously_std\n",
    "                   ,x_train_quantity_std ))\n",
    "#X_cv_tfidf=hstack((preprocessed_essays_xcv_tfidf,preprocessed_title_xcv_tfidf,x_cv_clean_cat_ohe,x_cv_clean_subcat_ohe, x_cv_state_ohe, x_cv_teacher_pre, x_cv_grade_ohe, x_cv_price_std,x_cv_teacher_previously_std))\n",
    "                 \n",
    "X_test_tfidf=hstack((preprocessed_essays_xtest_tfidf,preprocessed_title_xtest_tfidf,x_test_clean_cat_ohe,x_test_clean_subcat_ohe, x_test_state_ohe, x_test_teacher_pre, x_test_grade_ohe, x_test_price_std,x_test_teacher_previously_std\n",
    "                    \n",
    "                  ,x_test_quantity_std ))"
   ]
  },
  {
   "cell_type": "code",
   "execution_count": 74,
   "metadata": {
    "scrolled": true
   },
   "outputs": [
    {
     "name": "stdout",
     "output_type": "stream",
     "text": [
      "Fitting 10 folds for each of 22 candidates, totalling 220 fits\n"
     ]
    },
    {
     "name": "stderr",
     "output_type": "stream",
     "text": [
      "[Parallel(n_jobs=-1)]: Using backend LokyBackend with 12 concurrent workers.\n",
      "[Parallel(n_jobs=-1)]: Done  17 tasks      | elapsed:    1.5s\n",
      "[Parallel(n_jobs=-1)]: Done 138 tasks      | elapsed:    9.8s\n",
      "[Parallel(n_jobs=-1)]: Done 220 out of 220 | elapsed:   15.0s finished\n"
     ]
    },
    {
     "name": "stdout",
     "output_type": "stream",
     "text": [
      "{'alpha': 0.001, 'penalty': 'l2'}\n"
     ]
    }
   ],
   "source": [
    "from sklearn.model_selection import GridSearchCV\n",
    "from sklearn.linear_model import SGDClassifier\n",
    "\n",
    "\n",
    "clf_param_grid = {\n",
    "    'alpha' : [10**-x for x in range(-6,5)],\n",
    "    'penalty' : ['l1','l2']\n",
    "}\n",
    "SGD2 = SGDClassifier(class_weight='balanced')\n",
    "\n",
    "estimator2 = GridSearchCV(SGD2, param_grid=clf_param_grid ,cv=10, verbose=2, scoring=\"roc_auc\",n_jobs=-1)\n",
    "estimator2.fit(X_train_tfidf,y_train)\n",
    "\n",
    "print(estimator2.best_params_)"
   ]
  },
  {
   "cell_type": "code",
   "execution_count": 75,
   "metadata": {},
   "outputs": [],
   "source": [
    "b2=estimator2.best_params_[\"alpha\"]\n",
    "p2=estimator2.best_params_[\"penalty\"]"
   ]
  },
  {
   "cell_type": "code",
   "execution_count": 76,
   "metadata": {},
   "outputs": [
    {
     "data": {
      "image/png": "[encoded data removed]",
      "text/plain": [
       "<Figure size 432x288 with 1 Axes>"
      ]
     },
     "metadata": {
      "needs_background": "light"
     },
     "output_type": "display_data"
    }
   ],
   "source": [
    "train_auc2= estimator2.cv_results_['mean_train_score'][estimator2.cv_results_['param_penalty']==p2]\n",
    "train_auc_std2= estimator2.cv_results_['std_train_score'][estimator2.cv_results_['param_penalty']==p2]\n",
    "cv_auc2 = estimator2.cv_results_['mean_test_score'][estimator2.cv_results_['param_penalty']==p2]\n",
    "cv_auc_std2= estimator2.cv_results_['std_test_score'][estimator2.cv_results_['param_penalty']==p2]\n",
    "\n",
    "ax=plt.subplot()\n",
    "plt.plot(clf_param_grid['alpha'], train_auc2, label='Train AUC')\n",
    "\n",
    "# this code is copied from here: https://stackoverflow.com/a/48803362/4084039\n",
    "plt.gca().fill_between(clf_param_grid['alpha'],train_auc2 - train_auc_std2,train_auc2 + train_auc_std2,alpha=0.2,color='darkblue')\n",
    "# create a shaded area between [mean - std, mean + std]\n",
    "\n",
    "plt.plot(clf_param_grid['alpha'], cv_auc2, label='CV AUC')\n",
    "# this code is copied from here: https://stackoverflow.com/a/48803362/4084039\n",
    "plt.gca().fill_between(clf_param_grid['alpha'],cv_auc2 - cv_auc_std2,cv_auc2 + cv_auc_std2,alpha=0.2,color='darkorange')\n",
    "\n",
    "plt.scatter(clf_param_grid['alpha'], train_auc2, label='Train AUC points')\n",
    "plt.scatter(clf_param_grid['alpha'], cv_auc2, label='CV AUC points')\n",
    "\n",
    "plt.xscale('log')\n",
    "plt.axis('tight')\n",
    "plt.legend()\n",
    "plt.xlabel(\"alpha: hyperparameter\")\n",
    "plt.ylabel(\"AUC\")\n",
    "plt.title(\"ERROR PLOTS\")\n",
    "plt.grid()\n",
    "plt.show()"
   ]
  },
  {
   "cell_type": "code",
   "execution_count": 77,
   "metadata": {
    "scrolled": true
   },
   "outputs": [
    {
     "data": {
      "text/plain": [
       "SGDClassifier(alpha=0.001, average=False, class_weight='balanced',\n",
       "       early_stopping=False, epsilon=0.1, eta0=0.0, fit_intercept=True,\n",
       "       l1_ratio=0.15, learning_rate='optimal', loss='hinge', max_iter=None,\n",
       "       n_iter=None, n_iter_no_change=5, n_jobs=None, penalty='l2',\n",
       "       power_t=0.5, random_state=None, shuffle=True, tol=None,\n",
       "       validation_fraction=0.1, verbose=0, warm_start=False)"
      ]
     },
     "execution_count": 77,
     "metadata": {},
     "output_type": "execute_result"
    }
   ],
   "source": [
    "model_new2=SGDClassifier( penalty=p2, alpha= b2,class_weight='balanced')\n",
    "model_new2.fit(X_train_tfidf,y_train)"
   ]
  },
  {
   "cell_type": "code",
   "execution_count": 166,
   "metadata": {},
   "outputs": [
    {
     "data": {
      "image/png": "[encoded data removed]",
      "text/plain": [
       "<Figure size 432x288 with 1 Axes>"
      ]
     },
     "metadata": {
      "needs_background": "light"
     },
     "output_type": "display_data"
    }
   ],
   "source": [
    "score_roc_train = model_new2.decision_function(X_train_tfidf)\n",
    "fpr_train, tpr_train, threshold_train = roc_curve(y_train, sigmoid_v(score_roc_train))\n",
    "roc_auc_train = auc(fpr_train, tpr_train)\n",
    "\n",
    "score_roc_test = model_new2.decision_function(X_test_tfidf)\n",
    "fpr_test, tpr_test, threshold_test = roc_curve(y_test,sigmoid_v (score_roc_test))\n",
    "roc_auc_test = auc(fpr_test, tpr_test)\n",
    "\n",
    "\n",
    "plt.plot(fpr_train, tpr_train, label = \"Train_AUC\"+str(auc(fpr_train, tpr_train)))\n",
    "plt.plot(fpr_test, tpr_test, label = \"Test_AUC\"+str(auc(fpr_test, tpr_test)))\n",
    "plt.legend(loc = 'lower right')\n",
    "\n",
    "plt.plot([0, 1], [0, 1],'r--')\n",
    "plt.xlim([0, 1])\n",
    "plt.ylim([0, 1])\n",
    "\n",
    "plt.ylabel('True Positive Rate')\n",
    "plt.xlabel('False Positive Rate')\n",
    "plt.title('ROC Curve of SVM ')\n",
    "plt.show()"
   ]
  },
  {
   "cell_type": "code",
   "execution_count": 167,
   "metadata": {},
   "outputs": [],
   "source": [
    "y_train_pred = model_new2.predict(X_train_tfidf)\n",
    "y_test_pred = model_new2.predict(X_test_tfidf)"
   ]
  },
  {
   "cell_type": "code",
   "execution_count": 168,
   "metadata": {},
   "outputs": [
    {
     "name": "stdout",
     "output_type": "stream",
     "text": [
      "Train confusion matrix\n",
      "the maximum value of tpr*(1-fpr) 0.4614392180492079 for threshold 0.486\n"
     ]
    },
    {
     "data": {
      "text/plain": [
       "Text(0.5, 1.0, 'Confusion Matrix\\n')"
      ]
     },
     "execution_count": 168,
     "metadata": {},
     "output_type": "execute_result"
    },
    {
     "data": {
      "image/png": "[encoded data removed]",
      "text/plain": [
       "<Figure size 432x288 with 2 Axes>"
      ]
     },
     "metadata": {
      "needs_background": "light"
     },
     "output_type": "display_data"
    }
   ],
   "source": [
    "from sklearn.metrics import confusion_matrix\n",
    "\n",
    "ax = plt.subplot()\n",
    "\n",
    "print(\"Train confusion matrix\")\n",
    "cnn_train = confusion_matrix(y_train, predict(y_train_pred, threshold_train, fpr_train, tpr_train))\n",
    "sns.heatmap(cnn_train,annot = True,ax=ax,fmt='d')\n",
    "ax.set_xlabel('Predicted label')\n",
    "ax.set_ylabel('True label')\n",
    "ax.xaxis.set_ticklabels(['negative','positive'])\n",
    "ax.yaxis.set_ticklabels(['negative','positive'])\n",
    "plt.title('Confusion Matrix\\n')"
   ]
  },
  {
   "cell_type": "code",
   "execution_count": 81,
   "metadata": {},
   "outputs": [
    {
     "name": "stdout",
     "output_type": "stream",
     "text": [
      "test confusion matrix\n",
      "the maximum value of tpr*(1-fpr) 0.41708355860060553 for threshold 0.103\n"
     ]
    },
    {
     "data": {
      "text/plain": [
       "Text(0.5, 1.0, 'Confusion Matrix\\n')"
      ]
     },
     "execution_count": 81,
     "metadata": {},
     "output_type": "execute_result"
    },
    {
     "data": {
      "image/png": "[encoded data removed]",
      "text/plain": [
       "<Figure size 432x288 with 2 Axes>"
      ]
     },
     "metadata": {
      "needs_background": "light"
     },
     "output_type": "display_data"
    }
   ],
   "source": [
    "from sklearn.metrics import confusion_matrix\n",
    "\n",
    "ax = plt.subplot()\n",
    "\n",
    "print(\"test confusion matrix\")\n",
    "cnn_test = confusion_matrix(y_test, predict(y_test_pred, threshold_test, fpr_test, tpr_test))\n",
    "sns.heatmap(cnn_test,annot = True,ax=ax,fmt='d')\n",
    "ax.set_xlabel('Predicted label')\n",
    "ax.set_ylabel('True label')\n",
    "ax.xaxis.set_ticklabels(['negative','positive'])\n",
    "ax.yaxis.set_ticklabels(['negative','positive'])\n",
    "plt.title('Confusion Matrix\\n')"
   ]
  },
  {
   "cell_type": "code",
   "execution_count": 82,
   "metadata": {},
   "outputs": [
    {
     "name": "stdout",
     "output_type": "stream",
     "text": [
      "_____________________________________________________________________________________________________\n",
      "Classification Report: \n",
      "\n",
      "              precision    recall  f1-score   support\n",
      "\n",
      "           0       0.24      0.66      0.35      2303\n",
      "           1       0.91      0.63      0.74     12697\n",
      "\n",
      "   micro avg       0.63      0.63      0.63     15000\n",
      "   macro avg       0.58      0.64      0.55     15000\n",
      "weighted avg       0.81      0.63      0.68     15000\n",
      "\n",
      "_____________________________________________________________________________________________________\n"
     ]
    }
   ],
   "source": [
    "from sklearn.metrics import classification_report\n",
    "print(\"_\" * 101)\n",
    "print(\"Classification Report: \\n\")\n",
    "print(classification_report(y_test,y_test_pred))\n",
    "print(\"_\" * 101)\n"
   ]
  },
  {
   "cell_type": "markdown",
   "metadata": {},
   "source": [
    "<h1>SET 3 [AVG-W2V]"
   ]
  },
  {
   "cell_type": "code",
   "execution_count": 83,
   "metadata": {},
   "outputs": [],
   "source": [
    "list_preprocessed_essays_xtr = []\n",
    "for e in x_train['cleaned_essays'].values:\n",
    "    list_preprocessed_essays_xtr.append(e.split())"
   ]
  },
  {
   "cell_type": "code",
   "execution_count": 84,
   "metadata": {},
   "outputs": [
    {
     "name": "stderr",
     "output_type": "stream",
     "text": [
      "C:\\Users\\Tarun Makkar\\Anaconda3\\lib\\site-packages\\smart_open\\ssh.py:34: UserWarning: paramiko missing, opening SSH/SCP/SFTP paths will be disabled.  `pip install paramiko` to suppress\n",
      "  warnings.warn('paramiko missing, opening SSH/SCP/SFTP paths will be disabled.  `pip install paramiko` to suppress')\n",
      "C:\\Users\\Tarun Makkar\\Anaconda3\\lib\\site-packages\\gensim\\utils.py:1197: UserWarning: detected Windows; aliasing chunkize to chunkize_serial\n",
      "  warnings.warn(\"detected Windows; aliasing chunkize to chunkize_serial\")\n"
     ]
    }
   ],
   "source": [
    "from gensim.models import Word2Vec\n",
    "from gensim.models import KeyedVectors\n",
    "preprocessed_essays_xtr_w2v=Word2Vec(list_preprocessed_essays_xtr,min_count=10,size=100,workers =12 )"
   ]
  },
  {
   "cell_type": "code",
   "execution_count": 85,
   "metadata": {
    "scrolled": true
   },
   "outputs": [
    {
     "name": "stderr",
     "output_type": "stream",
     "text": [
      "100%|██████████████████████████████████████████████████████████████████████████| 35000/35000 [00:31<00:00, 1127.99it/s]\n"
     ]
    },
    {
     "name": "stdout",
     "output_type": "stream",
     "text": [
      "35000\n",
      "100\n"
     ]
    }
   ],
   "source": [
    "# average Word2Vec\n",
    "# compute average word2vec for each review.\n",
    "preprocessed_essays_xtr_avg_w2v_vectors = []; # the avg-w2v for each sentence/review is stored in this list\n",
    "for sentence in tqdm(x_train['cleaned_essays']): # for each review/sentence\n",
    "    vector = np.zeros(100) # as word vectors are of zero length\n",
    "    cnt_words =0; # num of words with a valid vector in the sentence/review\n",
    "    for word in sentence.split(): # for each word in a review/sentence\n",
    "        if word in preprocessed_essays_xtr_w2v.wv.vocab:\n",
    "            vector += preprocessed_essays_xtr_w2v[word]\n",
    "            cnt_words += 1\n",
    "    if cnt_words != 0:\n",
    "        vector /= cnt_words\n",
    "    preprocessed_essays_xtr_avg_w2v_vectors.append(vector)\n",
    "\n",
    "print(len(preprocessed_essays_xtr_avg_w2v_vectors))\n",
    "print(len(preprocessed_essays_xtr_avg_w2v_vectors[0]))"
   ]
  },
  {
   "cell_type": "code",
   "execution_count": 86,
   "metadata": {},
   "outputs": [
    {
     "name": "stderr",
     "output_type": "stream",
     "text": [
      "100%|██████████████████████████████████████████████████████████████████████████| 15000/15000 [00:13<00:00, 1076.57it/s]\n"
     ]
    },
    {
     "name": "stdout",
     "output_type": "stream",
     "text": [
      "15000\n",
      "100\n"
     ]
    }
   ],
   "source": [
    "preprocessed_essays_xtest_avg_w2v_vectors = []; # the avg-w2v for each sentence/review is stored in this list\n",
    "for sentence in tqdm(x_test['cleaned_essays']): # for each review/sentence\n",
    "    vector = np.zeros(100) # as word vectors are of zero length\n",
    "    cnt_words =0; # num of words with a valid vector in the sentence/review\n",
    "    for word in sentence.split(): # for each word in a review/sentence\n",
    "        if word in preprocessed_essays_xtr_w2v.wv.vocab:\n",
    "            vector += preprocessed_essays_xtr_w2v[word]\n",
    "            cnt_words += 1\n",
    "    if cnt_words != 0:\n",
    "        vector /= cnt_words\n",
    "    preprocessed_essays_xtest_avg_w2v_vectors.append(vector)\n",
    "\n",
    "print(len(preprocessed_essays_xtest_avg_w2v_vectors))\n",
    "print(len(preprocessed_essays_xtest_avg_w2v_vectors[0]))"
   ]
  },
  {
   "cell_type": "code",
   "execution_count": 87,
   "metadata": {},
   "outputs": [],
   "source": [
    "list_preprocessed_title_xtr = []\n",
    "for e in x_train['cleaned_title_text'].values:\n",
    "    list_preprocessed_title_xtr.append(e.split())"
   ]
  },
  {
   "cell_type": "code",
   "execution_count": 88,
   "metadata": {},
   "outputs": [],
   "source": [
    "preprocessed_title_xtr_w2v=Word2Vec(list_preprocessed_title_xtr,min_count=10,size=100,workers = 8)"
   ]
  },
  {
   "cell_type": "code",
   "execution_count": 89,
   "metadata": {},
   "outputs": [
    {
     "name": "stderr",
     "output_type": "stream",
     "text": [
      "100%|█████████████████████████████████████████████████████████████████████████| 35000/35000 [00:01<00:00, 31160.73it/s]\n"
     ]
    },
    {
     "name": "stdout",
     "output_type": "stream",
     "text": [
      "35000\n",
      "100\n"
     ]
    }
   ],
   "source": [
    "preprocessed_title_xtr_avg_w2v_vectors = []; # the avg-w2v for each sentence/review is stored in this list\n",
    "for sentence in tqdm(x_train['cleaned_title_text']): # for each review/sentence\n",
    "    vector = np.zeros(100) # as word vectors are of zero length\n",
    "    cnt_words =0; # num of words with a valid vector in the sentence/review\n",
    "    for word in sentence.split(): # for each word in a review/sentence\n",
    "        if word in preprocessed_title_xtr_w2v.wv.vocab:\n",
    "            vector += preprocessed_title_xtr_w2v[word]\n",
    "            cnt_words += 1\n",
    "    if cnt_words != 0:\n",
    "        vector /= cnt_words\n",
    "    preprocessed_title_xtr_avg_w2v_vectors.append(vector)\n",
    "\n",
    "print(len(preprocessed_title_xtr_avg_w2v_vectors))\n",
    "print(len(preprocessed_title_xtr_avg_w2v_vectors[0]))"
   ]
  },
  {
   "cell_type": "code",
   "execution_count": 90,
   "metadata": {},
   "outputs": [
    {
     "name": "stderr",
     "output_type": "stream",
     "text": [
      "100%|█████████████████████████████████████████████████████████████████████████| 15000/15000 [00:00<00:00, 31998.27it/s]\n"
     ]
    },
    {
     "name": "stdout",
     "output_type": "stream",
     "text": [
      "15000\n",
      "100\n"
     ]
    }
   ],
   "source": [
    "preprocessed_title_xtest_avg_w2v_vectors = []; # the avg-w2v for each sentence/review is stored in this list\n",
    "for sentence in tqdm(x_test['cleaned_title_text']): # for each review/sentence\n",
    "    vector = np.zeros(100) # as word vectors are of zero length\n",
    "    cnt_words =0; # num of words with a valid vector in the sentence/review\n",
    "    for word in sentence.split(): # for each word in a review/sentence\n",
    "        if word in preprocessed_title_xtr_w2v.wv.vocab:\n",
    "            vector += preprocessed_title_xtr_w2v[word]\n",
    "            cnt_words += 1\n",
    "    if cnt_words != 0:\n",
    "        vector /= cnt_words\n",
    "    preprocessed_title_xtest_avg_w2v_vectors.append(vector)\n",
    "\n",
    "print(len(preprocessed_title_xtest_avg_w2v_vectors))\n",
    "print(len(preprocessed_title_xtest_avg_w2v_vectors[0]))"
   ]
  },
  {
   "cell_type": "code",
   "execution_count": 91,
   "metadata": {},
   "outputs": [],
   "source": [
    "from scipy.sparse import hstack\n",
    "X_train_w2v=hstack((preprocessed_essays_xtr_avg_w2v_vectors,preprocessed_title_xtr_avg_w2v_vectors,x_train_clean_cat_ohe,x_train_clean_subcat_ohe,x_train_state_ohe,x_train_teacher_pre,x_train_grade_ohe,x_train_price_std,x_train_teacher_previously_std\n",
    "                    ,x_train_quantity_std))\n",
    "#X_cv_tfidf=hstack((preprocessed_essays_xcv_tfidf,preprocessed_title_xcv_tfidf,x_cv_clean_cat_ohe,x_cv_clean_subcat_ohe, x_cv_state_ohe, x_cv_teacher_pre, x_cv_grade_ohe, x_cv_price_std,x_cv_teacher_previously_std))\n",
    "                 \n",
    "X_test_w2v=hstack((preprocessed_essays_xtest_avg_w2v_vectors,preprocessed_essays_xtest_avg_w2v_vectors,x_test_clean_cat_ohe,x_test_clean_subcat_ohe, x_test_state_ohe, x_test_teacher_pre, x_test_grade_ohe, x_test_price_std,x_test_teacher_previously_std\n",
    "                    \n",
    "                   ,x_test_quantity_std))"
   ]
  },
  {
   "cell_type": "code",
   "execution_count": 92,
   "metadata": {},
   "outputs": [
    {
     "name": "stdout",
     "output_type": "stream",
     "text": [
      "(35000, 303)\n",
      "(15000, 303)\n"
     ]
    }
   ],
   "source": [
    "print(X_train_w2v.shape)\n",
    "print(X_test_w2v.shape)"
   ]
  },
  {
   "cell_type": "code",
   "execution_count": 93,
   "metadata": {
    "scrolled": true
   },
   "outputs": [
    {
     "name": "stdout",
     "output_type": "stream",
     "text": [
      "Fitting 10 folds for each of 10 candidates, totalling 100 fits\n"
     ]
    },
    {
     "name": "stderr",
     "output_type": "stream",
     "text": [
      "[Parallel(n_jobs=6)]: Using backend LokyBackend with 6 concurrent workers.\n",
      "[Parallel(n_jobs=6)]: Done  29 tasks      | elapsed:    3.3s\n",
      "[Parallel(n_jobs=6)]: Done 100 out of 100 | elapsed:   10.3s finished\n"
     ]
    },
    {
     "name": "stdout",
     "output_type": "stream",
     "text": [
      "{'penalty': 'l2', 'alpha': 0.001}\n"
     ]
    }
   ],
   "source": [
    "from sklearn.model_selection import RandomizedSearchCV\n",
    "from sklearn.linear_model import SGDClassifier\n",
    "\n",
    "\n",
    "clf_param_grid = {\n",
    "    'alpha' : [10**-x for x in range(-6,5)],\n",
    "    'penalty' : ['l1','l2']\n",
    "}\n",
    "SGD3 = SGDClassifier(class_weight='balanced')\n",
    "\n",
    "estimator3 = RandomizedSearchCV(SGD3, param_distributions=clf_param_grid ,cv=10, verbose=2,scoring=\"roc_auc\",n_jobs=6)\n",
    "estimator3.fit(X_train_w2v,y_train)\n",
    "\n",
    "print(estimator3.best_params_)"
   ]
  },
  {
   "cell_type": "code",
   "execution_count": 94,
   "metadata": {},
   "outputs": [],
   "source": [
    "b3=estimator3.best_params_[\"alpha\"]\n",
    "p3=estimator3.best_params_[\"penalty\"]"
   ]
  },
  {
   "cell_type": "code",
   "execution_count": 188,
   "metadata": {
    "scrolled": false
   },
   "outputs": [
    {
     "data": {
      "image/png": "[encoded data removed]",
      "text/plain": [
       "<Figure size 432x288 with 1 Axes>"
      ]
     },
     "metadata": {
      "needs_background": "light"
     },
     "output_type": "display_data"
    }
   ],
   "source": [
    "train_auc3= estimator3.cv_results_['mean_train_score'][estimator3.cv_results_['param_penalty']==p3]\n",
    "train_auc_std3= estimator3.cv_results_['std_train_score'][estimator3.cv_results_['param_penalty']==p3]\n",
    "cv_auc3 = estimator3.cv_results_['mean_test_score'][estimator3.cv_results_['param_penalty']==p3]\n",
    "cv_auc_std3= estimator3.cv_results_['std_test_score'][estimator3.cv_results_['param_penalty']==p3]\n",
    "\n",
    "plt.plot(clf_param_grid['alpha'][:4], train_auc3, label='Train AUC')\n",
    "\n",
    "# this code is copied from here: https://stackoverflow.com/a/48803363/4084039\n",
    "#plt.gca().fill_between(clf_param_grid['alpha'][:4],train_auc3 - train_auc_std3,train_auc3 + train_auc_std3,alpha=0.3,color='darkblue')\n",
    "# create a shaded area between [mean - std, mean + std]\n",
    "\n",
    "plt.plot(clf_param_grid['alpha'][:4], cv_auc3, label='CV AUC')\n",
    "# this code is copied from here: https://stackoverflow.com/a/48803363/4084039\n",
    "#plt.gca().fill_between(clf_param_grid['alpha'][:4],cv_auc3 - cv_auc_std3,cv_auc3 + cv_auc_std3,alpha=0.3,color='darkorange')\n",
    "\n",
    "plt.scatter(clf_param_grid['alpha'][:4], train_auc3, label='Train AUC points')\n",
    "plt.scatter(clf_param_grid['alpha'][:4], cv_auc3, label='CV AUC points')\n",
    "plt.xscale('log')\n",
    "plt.legend()\n",
    "plt.xlabel(\"alpha: hyperparameter\")\n",
    "plt.ylabel(\"AUC\")\n",
    "plt.title(\"ERROR PLOTS\")\n",
    "plt.grid()\n",
    "plt.show()"
   ]
  },
  {
   "cell_type": "code",
   "execution_count": 97,
   "metadata": {},
   "outputs": [
    {
     "data": {
      "text/plain": [
       "SGDClassifier(alpha=0.001, average=False, class_weight='balanced',\n",
       "       early_stopping=False, epsilon=0.1, eta0=0.0, fit_intercept=True,\n",
       "       l1_ratio=0.15, learning_rate='optimal', loss='hinge', max_iter=None,\n",
       "       n_iter=None, n_iter_no_change=5, n_jobs=None, penalty='l2',\n",
       "       power_t=0.5, random_state=None, shuffle=True, tol=None,\n",
       "       validation_fraction=0.1, verbose=0, warm_start=False)"
      ]
     },
     "execution_count": 97,
     "metadata": {},
     "output_type": "execute_result"
    }
   ],
   "source": [
    "model_new3=SGDClassifier( penalty=p3, alpha= b3,class_weight='balanced')\n",
    "model_new3.fit(X_train_w2v,y_train)"
   ]
  },
  {
   "cell_type": "code",
   "execution_count": 175,
   "metadata": {},
   "outputs": [
    {
     "data": {
      "image/png": "[encoded data removed]",
      "text/plain": [
       "<Figure size 432x288 with 1 Axes>"
      ]
     },
     "metadata": {
      "needs_background": "light"
     },
     "output_type": "display_data"
    }
   ],
   "source": [
    "score_roc_train = model_new3.decision_function(X_train_w2v)\n",
    "fpr_train, tpr_train, threshold_train = roc_curve(y_train, sigmoid_v(score_roc_train))\n",
    "roc_auc_train = auc(fpr_train, tpr_train)\n",
    "\n",
    "score_roc_test = model_new3.decision_function(X_test_w2v)\n",
    "fpr_test, tpr_test, threshold_test = roc_curve(y_test, sigmoid_v(score_roc_test))\n",
    "roc_auc_test = auc(fpr_test, tpr_test)\n",
    "\n",
    "\n",
    "plt.plot(fpr_train, tpr_train, label = \"Train_AUC\"+str(auc(fpr_train, tpr_train)))\n",
    "plt.plot(fpr_test, tpr_test, label = \"Test_AUC\"+str(auc(fpr_test, tpr_test)))\n",
    "plt.legend(loc = 'lower right')\n",
    "\n",
    "plt.plot([0, 1], [0, 1],'r--')\n",
    "plt.xlim([0, 1])\n",
    "plt.ylim([0, 1])\n",
    "\n",
    "plt.ylabel('True Positive Rate')\n",
    "plt.xlabel('False Positive Rate')\n",
    "plt.title('ROC Curve of SVM ')\n",
    "plt.show()"
   ]
  },
  {
   "cell_type": "code",
   "execution_count": 176,
   "metadata": {},
   "outputs": [],
   "source": [
    "y_train_pred = model_new3.predict(X_train_w2v)\n",
    "y_test_pred = model_new3.predict(X_test_w2v)"
   ]
  },
  {
   "cell_type": "code",
   "execution_count": 177,
   "metadata": {
    "scrolled": false
   },
   "outputs": [
    {
     "name": "stdout",
     "output_type": "stream",
     "text": [
      "Train confusion matrix\n",
      "the maximum value of tpr*(1-fpr) 0.42251539297010354 for threshold 0.418\n"
     ]
    },
    {
     "data": {
      "text/plain": [
       "Text(0.5, 1.0, 'Confusion Matrix\\n')"
      ]
     },
     "execution_count": 177,
     "metadata": {},
     "output_type": "execute_result"
    },
    {
     "data": {
      "image/png": "[encoded data removed]",
      "text/plain": [
       "<Figure size 432x288 with 2 Axes>"
      ]
     },
     "metadata": {
      "needs_background": "light"
     },
     "output_type": "display_data"
    }
   ],
   "source": [
    "from sklearn.metrics import confusion_matrix\n",
    "\n",
    "ax = plt.subplot()\n",
    "\n",
    "print(\"Train confusion matrix\")\n",
    "cnn_train = confusion_matrix(y_train, predict(y_train_pred, threshold_train, fpr_train, tpr_train))\n",
    "sns.heatmap(cnn_train,annot = True,ax=ax,fmt='d')\n",
    "ax.set_xlabel('Predicted label')\n",
    "ax.set_ylabel('True label')\n",
    "ax.xaxis.set_ticklabels(['negative','positive'])\n",
    "ax.yaxis.set_ticklabels(['negative','positive'])\n",
    "plt.title('Confusion Matrix\\n')"
   ]
  },
  {
   "cell_type": "code",
   "execution_count": 178,
   "metadata": {},
   "outputs": [
    {
     "name": "stdout",
     "output_type": "stream",
     "text": [
      "test confusion matrix\n",
      "the maximum value of tpr*(1-fpr) 0.4061383135864746 for threshold 0.628\n"
     ]
    },
    {
     "data": {
      "text/plain": [
       "Text(0.5, 1.0, 'Confusion Matrix\\n')"
      ]
     },
     "execution_count": 178,
     "metadata": {},
     "output_type": "execute_result"
    },
    {
     "data": {
      "image/png": "[encoded data removed]",
      "text/plain": [
       "<Figure size 432x288 with 2 Axes>"
      ]
     },
     "metadata": {
      "needs_background": "light"
     },
     "output_type": "display_data"
    }
   ],
   "source": [
    "ax = plt.subplot()\n",
    "\n",
    "print(\"test confusion matrix\")\n",
    "cnn_test = confusion_matrix(y_test, predict(y_test_pred, threshold_test, fpr_test, tpr_test))\n",
    "sns.heatmap(cnn_test,annot = True,ax=ax,fmt='d')\n",
    "ax.set_xlabel('Predicted label')\n",
    "ax.set_ylabel('True label')\n",
    "ax.xaxis.set_ticklabels(['negative','positive'])\n",
    "ax.yaxis.set_ticklabels(['negative','positive'])\n",
    "plt.title('Confusion Matrix\\n')"
   ]
  },
  {
   "cell_type": "code",
   "execution_count": 179,
   "metadata": {},
   "outputs": [
    {
     "name": "stdout",
     "output_type": "stream",
     "text": [
      "_____________________________________________________________________________________________________\n",
      "Classification Report: \n",
      "\n",
      "              precision    recall  f1-score   support\n",
      "\n",
      "           0       0.29      0.40      0.33      2303\n",
      "           1       0.88      0.82      0.85     12697\n",
      "\n",
      "   micro avg       0.76      0.76      0.76     15000\n",
      "   macro avg       0.58      0.61      0.59     15000\n",
      "weighted avg       0.79      0.76      0.77     15000\n",
      "\n",
      "_____________________________________________________________________________________________________\n"
     ]
    }
   ],
   "source": [
    "from sklearn.metrics import classification_report\n",
    "print(\"_\" * 101)\n",
    "print(\"Classification Report: \\n\")\n",
    "print(classification_report(y_test,y_test_pred))\n",
    "print(\"_\" * 101)"
   ]
  },
  {
   "cell_type": "markdown",
   "metadata": {},
   "source": [
    "<h1>SET : 4 [TFIDF-W2V]"
   ]
  },
  {
   "cell_type": "code",
   "execution_count": 103,
   "metadata": {},
   "outputs": [],
   "source": [
    "from sklearn.feature_extraction.text import TfidfVectorizer\n",
    "\n",
    "tfidf_model1 = TfidfVectorizer()\n",
    "tfidf_model1.fit(x_train['cleaned_essays'])\n",
    "# we are converting a dictionary with word as a key, and the idf as a value\n",
    "dictionary = dict(zip(tfidf_model1.get_feature_names(), list(tfidf_model1.idf_)))\n",
    "tfidf_words = set(tfidf_model1.get_feature_names())"
   ]
  },
  {
   "cell_type": "code",
   "execution_count": 104,
   "metadata": {
    "scrolled": true
   },
   "outputs": [
    {
     "name": "stderr",
     "output_type": "stream",
     "text": [
      "100%|████████████████████████████████████████████████████████████████████████████| 35000/35000 [14:38<00:00, 39.86it/s]\n"
     ]
    },
    {
     "name": "stdout",
     "output_type": "stream",
     "text": [
      "35000\n",
      "100\n"
     ]
    }
   ],
   "source": [
    "# average Word2Vec\n",
    "# compute average word2vec for each review.\n",
    "preprocessed_essays_xtr_tfidf_w2v_vectors = []; # the avg-w2v for each sentence/review is stored in this list\n",
    "for sentence in tqdm(x_train['cleaned_essays']): # for each review/sentence\n",
    "    vector = np.zeros(100) # as word vectors are of zero length\n",
    "    tf_idf_weight =0; # num of words with a valid vector in the sentence/review\n",
    "    for word in sentence.split(): # for each word in a review/sentence\n",
    "        if (word in list(preprocessed_essays_xtr_w2v.wv.vocab)) and (word in tfidf_words):\n",
    "            vec = preprocessed_essays_xtr_w2v[word] # getting the vector for each word\n",
    "            # here we are multiplying idf value(dictionary[word]) and the tf value((sentence.count(word)/len(sentence.split())))\n",
    "            tf_idf = dictionary[word]*(sentence.count(word)/len(sentence.split())) # getting the tfidf value for each word\n",
    "            vector += (vec * tf_idf) # calculating tfidf weighted w2v\n",
    "            tf_idf_weight += tf_idf\n",
    "    if tf_idf_weight != 0:\n",
    "        vector /= tf_idf_weight\n",
    "    preprocessed_essays_xtr_tfidf_w2v_vectors.append(vector)\n",
    "\n",
    "print(len(preprocessed_essays_xtr_tfidf_w2v_vectors))\n",
    "print(len(preprocessed_essays_xtr_tfidf_w2v_vectors[0]))"
   ]
  },
  {
   "cell_type": "code",
   "execution_count": 105,
   "metadata": {
    "scrolled": true
   },
   "outputs": [
    {
     "name": "stderr",
     "output_type": "stream",
     "text": [
      "100%|████████████████████████████████████████████████████████████████████████████| 15000/15000 [06:15<00:00, 39.95it/s]\n"
     ]
    },
    {
     "name": "stdout",
     "output_type": "stream",
     "text": [
      "15000\n",
      "100\n"
     ]
    }
   ],
   "source": [
    "preprocessed_essays_xtest_tfidf_w2v_vectors = []; # the avg-w2v for each sentence/review is stored in this list\n",
    "for sentence in tqdm(x_test['cleaned_essays']): # for each review/sentence\n",
    "    vector = np.zeros(100) # as word vectors are of zero length\n",
    "    tf_idf_weight =0; # num of words with a valid vector in the sentence/review\n",
    "    for word in sentence.split(): # for each word in a review/sentence\n",
    "        if (word in list(preprocessed_essays_xtr_w2v.wv.vocab)) and (word in tfidf_words):\n",
    "            vec = preprocessed_essays_xtr_w2v[word] # getting the vector for each word\n",
    "            # here we are multiplying idf value(dictionary[word]) and the tf value((sentence.count(word)/len(sentence.split())))\n",
    "            tf_idf = dictionary[word]*(sentence.count(word)/len(sentence.split())) # getting the tfidf value for each word\n",
    "            vector += (vec * tf_idf) # calculating tfidf weighted w2v\n",
    "            tf_idf_weight += tf_idf\n",
    "    if tf_idf_weight != 0:\n",
    "        vector /= tf_idf_weight\n",
    "    preprocessed_essays_xtest_tfidf_w2v_vectors.append(vector)\n",
    "\n",
    "print(len(preprocessed_essays_xtest_tfidf_w2v_vectors))\n",
    "print(len(preprocessed_essays_xtest_tfidf_w2v_vectors[0]))"
   ]
  },
  {
   "cell_type": "code",
   "execution_count": 106,
   "metadata": {},
   "outputs": [],
   "source": [
    "# Similarly you can vectorize for title also\n",
    "tfidf_model2 = TfidfVectorizer()\n",
    "tfidf_model2.fit(x_train['cleaned_title_text'])\n",
    "# we are converting a dictionary with word as a key, and the idf as a value\n",
    "dictionary = dict(zip(tfidf_model2.get_feature_names(), list(tfidf_model1.idf_)))\n",
    "tfidf_words = set(tfidf_model2.get_feature_names())"
   ]
  },
  {
   "cell_type": "code",
   "execution_count": 107,
   "metadata": {},
   "outputs": [
    {
     "name": "stderr",
     "output_type": "stream",
     "text": [
      "100%|██████████████████████████████████████████████████████████████████████████| 35000/35000 [00:05<00:00, 6750.53it/s]\n"
     ]
    },
    {
     "name": "stdout",
     "output_type": "stream",
     "text": [
      "35000\n",
      "100\n"
     ]
    }
   ],
   "source": [
    "preprocessed_title_xtr_tfidf_w2v_vectors = []; # the avg-w2v for each sentence/review is stored in this list\n",
    "for sentence in tqdm(x_train['cleaned_title_text']): # for each review/sentence\n",
    "    vector = np.zeros(100) # as word vectors are of zero length\n",
    "    tf_idf_weight =0; # num of words with a valid vector in the sentence/review\n",
    "    for word in sentence.split(): # for each word in a review/sentence\n",
    "        if (word in list(preprocessed_title_xtr_w2v.wv.vocab)) and (word in tfidf_words):\n",
    "            vec = preprocessed_title_xtr_w2v[word] # getting the vector for each word\n",
    "            # here we are multiplying idf value(dictionary[word]) and the tf value((sentence.count(word)/len(sentence.split())))\n",
    "            tf_idf = dictionary[word]*(sentence.count(word)/len(sentence.split())) # getting the tfidf value for each word\n",
    "            vector += (vec * tf_idf) # calculating tfidf weighted w2v\n",
    "            tf_idf_weight += tf_idf\n",
    "    if tf_idf_weight != 0:\n",
    "        vector /= tf_idf_weight\n",
    "    preprocessed_title_xtr_tfidf_w2v_vectors.append(vector)\n",
    "\n",
    "print(len(preprocessed_title_xtr_tfidf_w2v_vectors))\n",
    "print(len(preprocessed_title_xtr_tfidf_w2v_vectors[0]))"
   ]
  },
  {
   "cell_type": "code",
   "execution_count": 108,
   "metadata": {},
   "outputs": [
    {
     "name": "stderr",
     "output_type": "stream",
     "text": [
      "100%|██████████████████████████████████████████████████████████████████████████| 15000/15000 [00:02<00:00, 6379.80it/s]\n"
     ]
    },
    {
     "name": "stdout",
     "output_type": "stream",
     "text": [
      "15000\n",
      "100\n"
     ]
    }
   ],
   "source": [
    "preprocessed_title_xtest_tfidf_w2v_vectors = []; # the avg-w2v for each sentence/review is stored in this list\n",
    "for sentence in tqdm(x_test['cleaned_title_text']): # for each review/sentence\n",
    "    vector = np.zeros(100) # as word vectors are of zero length\n",
    "    tf_idf_weight =0; # num of words with a valid vector in the sentence/review\n",
    "    for word in sentence.split(): # for each word in a review/sentence\n",
    "        if (word in list(preprocessed_title_xtr_w2v.wv.vocab)) and (word in tfidf_words):\n",
    "            vec = preprocessed_title_xtr_w2v[word] # getting the vector for each word\n",
    "            # here we are multiplying idf value(dictionary[word]) and the tf value((sentence.count(word)/len(sentence.split())))\n",
    "            tf_idf = dictionary[word]*(sentence.count(word)/len(sentence.split())) # getting the tfidf value for each word\n",
    "            vector += (vec * tf_idf) # calculating tfidf weighted w2v\n",
    "            tf_idf_weight += tf_idf\n",
    "    if tf_idf_weight != 0:\n",
    "        vector /= tf_idf_weight\n",
    "    preprocessed_title_xtest_tfidf_w2v_vectors.append(vector)\n",
    "\n",
    "print(len(preprocessed_title_xtest_tfidf_w2v_vectors))\n",
    "print(len(preprocessed_title_xtest_tfidf_w2v_vectors[0]))"
   ]
  },
  {
   "cell_type": "code",
   "execution_count": 109,
   "metadata": {},
   "outputs": [],
   "source": [
    "\n",
    "X_train_tfidf_w2v=hstack((preprocessed_essays_xtr_tfidf_w2v_vectors,preprocessed_title_xtr_tfidf_w2v_vectors,x_train_clean_cat_ohe,x_train_clean_subcat_ohe,x_train_state_ohe,x_train_teacher_pre,x_train_grade_ohe,x_train_price_std,x_train_teacher_previously_std\n",
    "                 ,x_train_quantity_std   ))\n",
    "#X_cv_tfidf=hstack((preprocessed_essays_xcv_tfidf,preprocessed_title_xcv_tfidf,x_cv_clean_cat_ohe,x_cv_clean_subcat_ohe, x_cv_state_ohe, x_cv_teacher_pre, x_cv_grade_ohe, x_cv_price_std,x_cv_teacher_previously_std))\n",
    "                 \n",
    "X_test_tfidf_w2v=hstack((preprocessed_essays_xtest_tfidf_w2v_vectors,preprocessed_essays_xtest_tfidf_w2v_vectors,x_test_clean_cat_ohe,x_test_clean_subcat_ohe, x_test_state_ohe, x_test_teacher_pre, x_test_grade_ohe, x_test_price_std,x_test_teacher_previously_std\n",
    "                    \n",
    "                   ,x_test_quantity_std))"
   ]
  },
  {
   "cell_type": "code",
   "execution_count": 110,
   "metadata": {},
   "outputs": [
    {
     "name": "stdout",
     "output_type": "stream",
     "text": [
      "(35000, 303)\n",
      "(15000, 303)\n"
     ]
    }
   ],
   "source": [
    "print(X_train_tfidf_w2v.shape)\n",
    "print(X_test_tfidf_w2v.shape)"
   ]
  },
  {
   "cell_type": "code",
   "execution_count": 111,
   "metadata": {
    "scrolled": true
   },
   "outputs": [
    {
     "name": "stdout",
     "output_type": "stream",
     "text": [
      "Fitting 10 folds for each of 10 candidates, totalling 100 fits\n"
     ]
    },
    {
     "name": "stderr",
     "output_type": "stream",
     "text": [
      "[Parallel(n_jobs=4)]: Using backend LokyBackend with 4 concurrent workers.\n",
      "[Parallel(n_jobs=4)]: Done  33 tasks      | elapsed:    6.0s\n",
      "[Parallel(n_jobs=4)]: Done 100 out of 100 | elapsed:   13.8s finished\n"
     ]
    },
    {
     "name": "stdout",
     "output_type": "stream",
     "text": [
      "{'penalty': 'l2', 'alpha': 0.01}\n"
     ]
    }
   ],
   "source": [
    "from sklearn.model_selection import RandomizedSearchCV\n",
    "from sklearn.linear_model import SGDClassifier\n",
    "\n",
    "\n",
    "clf_param_grid = {\n",
    "    'alpha' : [10**-x for x in range(-6,6)],\n",
    "    'penalty' : ['l1','l2']\n",
    "}\n",
    "SGD4 = SGDClassifier(class_weight='balanced')\n",
    "\n",
    "estimator4 = RandomizedSearchCV(SGD4, param_distributions=clf_param_grid ,cv=10, verbose=2,scoring=\"roc_auc\",n_jobs=4)\n",
    "estimator4.fit(X_train_tfidf_w2v,y_train)\n",
    "\n",
    "print(estimator4.best_params_)"
   ]
  },
  {
   "cell_type": "code",
   "execution_count": 112,
   "metadata": {},
   "outputs": [],
   "source": [
    "b4=estimator4.best_params_[\"alpha\"]\n",
    "p4=estimator4.best_params_[\"penalty\"]"
   ]
  },
  {
   "cell_type": "code",
   "execution_count": 147,
   "metadata": {
    "scrolled": false
   },
   "outputs": [
    {
     "data": {
      "image/png": "[encoded data removed]",
      "text/plain": [
       "<Figure size 432x288 with 1 Axes>"
      ]
     },
     "metadata": {
      "needs_background": "light"
     },
     "output_type": "display_data"
    }
   ],
   "source": [
    "train_auc4= estimator4.cv_results_['mean_train_score'][estimator4.cv_results_['param_penalty']==p4]\n",
    "train_auc_std4= estimator4.cv_results_['std_train_score'][estimator4.cv_results_['param_penalty']==p4]\n",
    "cv_auc4 = estimator4.cv_results_['mean_test_score'][estimator4.cv_results_['param_penalty']==p4]\n",
    "cv_auc_std4= estimator4.cv_results_['std_test_score'][estimator4.cv_results_['param_penalty']==p4]\n",
    "\n",
    "ax=plt.subplot()\n",
    "plt.plot(clf_param_grid['alpha'][:6], train_auc4, label='Train AUC')\n",
    "\n",
    "# this code is copied from here: https://stackoverflow.com/a/48804464/4084049\n",
    "#plt.gca().fill_between(clf_param_grid['alpha'][:6],train_auc4 - train_auc_std4,train_auc4 + train_auc_std4,alpha=0.4,color='darkblue')\n",
    "# create a shaded area between [mean - std, mean + std]\n",
    "\n",
    "plt.plot(clf_param_grid['alpha'][:6], cv_auc4, label='CV AUC')\n",
    "# this code is copied from here: https://stackoverflow.com/a/48804464/4084049\n",
    "#plt.gca().fill_between(clf_param_grid['alpha'][:6],cv_auc4 - cv_auc_std4,cv_auc4 + cv_auc_std4,alpha=0.4,color='darkorange')\n",
    "\n",
    "plt.scatter(clf_param_grid['alpha'][:6], train_auc4, label='Train AUC points')\n",
    "plt.scatter(clf_param_grid['alpha'][:6], cv_auc4, label='CV AUC points')\n",
    "plt.axis([10**-1,10**5,0.675,0.710])\n",
    "plt.xscale('log')\n",
    "plt.axis('tight')\n",
    "plt.legend()\n",
    "plt.xlabel(\"alpha: hyperparameter\")\n",
    "plt.ylabel(\"AUC\")\n",
    "plt.title(\"ERROR PLOTS\")\n",
    "plt.grid()\n",
    "plt.show()"
   ]
  },
  {
   "cell_type": "code",
   "execution_count": 120,
   "metadata": {},
   "outputs": [
    {
     "data": {
      "text/plain": [
       "SGDClassifier(alpha=0.01, average=False, class_weight='balanced',\n",
       "       early_stopping=False, epsilon=0.1, eta0=0.0, fit_intercept=True,\n",
       "       l1_ratio=0.15, learning_rate='optimal', loss='hinge', max_iter=None,\n",
       "       n_iter=None, n_iter_no_change=5, n_jobs=None, penalty='l2',\n",
       "       power_t=0.5, random_state=None, shuffle=True, tol=None,\n",
       "       validation_fraction=0.1, verbose=0, warm_start=False)"
      ]
     },
     "execution_count": 120,
     "metadata": {},
     "output_type": "execute_result"
    }
   ],
   "source": [
    "model_new4 = SGDClassifier( penalty=p4, alpha=b4,class_weight='balanced')\n",
    "model_new4.fit(X_train_tfidf_w2v,y_train)"
   ]
  },
  {
   "cell_type": "code",
   "execution_count": 180,
   "metadata": {},
   "outputs": [
    {
     "data": {
      "image/png": "[encoded data removed]",
      "text/plain": [
       "<Figure size 432x288 with 1 Axes>"
      ]
     },
     "metadata": {
      "needs_background": "light"
     },
     "output_type": "display_data"
    }
   ],
   "source": [
    "score_roc_train = model_new4.decision_function(X_train_tfidf_w2v)\n",
    "fpr_train, tpr_train, threshold_train = roc_curve(y_train, sigmoid_v(score_roc_train))\n",
    "roc_auc_train = auc(fpr_train, tpr_train)\n",
    "\n",
    "score_roc_test = model_new4.decision_function(X_test_tfidf_w2v)\n",
    "fpr_test, tpr_test, threshold_test = roc_curve(y_test, sigmoid_v(score_roc_test))\n",
    "roc_auc_test = auc(fpr_test, tpr_test)\n",
    "\n",
    "\n",
    "plt.plot(fpr_train, tpr_train, label = \"Train_AUC\"+str(auc(fpr_train, tpr_train)))\n",
    "plt.plot(fpr_test, tpr_test, label = \"Test_AUC\"+str(auc(fpr_test, tpr_test)))\n",
    "plt.legend(loc = 'lower right')\n",
    "\n",
    "plt.plot([0, 1], [0, 1],'r--')\n",
    "plt.xlim([0, 1])\n",
    "plt.ylim([0, 1])\n",
    "\n",
    "plt.ylabel('True Positive Rate')\n",
    "plt.xlabel('False Positive Rate')\n",
    "plt.title('ROC Curve of KNN ')\n",
    "plt.show()"
   ]
  },
  {
   "cell_type": "code",
   "execution_count": 181,
   "metadata": {},
   "outputs": [],
   "source": [
    "y_train_pred = model_new4.predict(X_train_tfidf_w2v)\n",
    "y_test_pred = model_new4.predict(X_test_tfidf_w2v)"
   ]
  },
  {
   "cell_type": "code",
   "execution_count": 182,
   "metadata": {},
   "outputs": [
    {
     "name": "stdout",
     "output_type": "stream",
     "text": [
      "Train confusion matrix\n",
      "the maximum value of tpr*(1-fpr) 0.43533277892978056 for threshold 0.44\n"
     ]
    },
    {
     "data": {
      "text/plain": [
       "Text(0.5, 1.0, 'Confusion Matrix\\n')"
      ]
     },
     "execution_count": 182,
     "metadata": {},
     "output_type": "execute_result"
    },
    {
     "data": {
      "image/png": "[encoded data removed]",
      "text/plain": [
       "<Figure size 432x288 with 2 Axes>"
      ]
     },
     "metadata": {
      "needs_background": "light"
     },
     "output_type": "display_data"
    }
   ],
   "source": [
    "from sklearn.metrics import confusion_matrix\n",
    "\n",
    "ax = plt.subplot()\n",
    "\n",
    "print(\"Train confusion matrix\")\n",
    "cnn_train = confusion_matrix(y_train, predict(y_train_pred, threshold_train, fpr_train, tpr_train))\n",
    "sns.heatmap(cnn_train,annot = True,ax=ax,fmt='d')\n",
    "ax.set_xlabel('Predicted label')\n",
    "ax.set_ylabel('True label')\n",
    "ax.xaxis.set_ticklabels(['negative','positive'])\n",
    "ax.yaxis.set_ticklabels(['negative','positive'])\n",
    "plt.title('Confusion Matrix\\n')"
   ]
  },
  {
   "cell_type": "code",
   "execution_count": 183,
   "metadata": {},
   "outputs": [
    {
     "name": "stdout",
     "output_type": "stream",
     "text": [
      "test confusion matrix\n",
      "the maximum value of tpr*(1-fpr) 0.4292029349967312 for threshold 0.481\n"
     ]
    },
    {
     "data": {
      "text/plain": [
       "Text(0.5, 1.0, 'Confusion Matrix\\n')"
      ]
     },
     "execution_count": 183,
     "metadata": {},
     "output_type": "execute_result"
    },
    {
     "data": {
      "image/png": "[encoded data removed]",
      "text/plain": [
       "<Figure size 432x288 with 2 Axes>"
      ]
     },
     "metadata": {
      "needs_background": "light"
     },
     "output_type": "display_data"
    }
   ],
   "source": [
    "from sklearn.metrics import confusion_matrix\n",
    "\n",
    "ax = plt.subplot()\n",
    "\n",
    "print(\"test confusion matrix\")\n",
    "cnn_test = confusion_matrix(y_test, predict(y_test_pred, threshold_test, fpr_test, tpr_test))\n",
    "sns.heatmap(cnn_test,annot = True,ax=ax,fmt='d')\n",
    "ax.set_xlabel('Predicted label')\n",
    "ax.set_ylabel('True label')\n",
    "ax.xaxis.set_ticklabels(['negative','positive'])\n",
    "ax.yaxis.set_ticklabels(['negative','positive'])\n",
    "plt.title('Confusion Matrix\\n')"
   ]
  },
  {
   "cell_type": "code",
   "execution_count": 125,
   "metadata": {},
   "outputs": [
    {
     "name": "stdout",
     "output_type": "stream",
     "text": [
      "_____________________________________________________________________________________________________\n",
      "Classification Report: \n",
      "\n",
      "              precision    recall  f1-score   support\n",
      "\n",
      "           0       0.24      0.71      0.36      2303\n",
      "           1       0.92      0.60      0.73     12697\n",
      "\n",
      "   micro avg       0.62      0.62      0.62     15000\n",
      "   macro avg       0.58      0.66      0.54     15000\n",
      "weighted avg       0.82      0.62      0.67     15000\n",
      "\n",
      "_____________________________________________________________________________________________________\n"
     ]
    }
   ],
   "source": [
    "from sklearn.metrics import classification_report\n",
    "print(\"_\" * 101)\n",
    "print(\"Classification Report: \\n\")\n",
    "print(classification_report(y_test,y_test_pred))\n",
    "print(\"_\" * 101)"
   ]
  },
  {
   "cell_type": "markdown",
   "metadata": {},
   "source": [
    "<h1>SET : 5 [Truncated SVD]"
   ]
  },
  {
   "cell_type": "code",
   "execution_count": 126,
   "metadata": {},
   "outputs": [
    {
     "name": "stdout",
     "output_type": "stream",
     "text": [
      "Shape of matrix after one hot encodig  (35000, 10483)\n",
      "Shape of matrix after one hot encodig  (15000, 10483)\n"
     ]
    }
   ],
   "source": [
    "from sklearn.feature_extraction.text import TfidfVectorizer\n",
    "vectorizer8 = TfidfVectorizer(min_df=10)\n",
    "preprocessed_essays_xtr_tfidf = vectorizer8.fit_transform(x_train['cleaned_essays'])\n",
    "print(\"Shape of matrix after one hot encodig \",preprocessed_essays_xtr_tfidf.shape)\n",
    "\n",
    "preprocessed_essays_xtest_tfidf = vectorizer8.transform(x_test['cleaned_essays'])\n",
    "print(\"Shape of matrix after one hot encodig \",preprocessed_essays_xtest_tfidf.shape)"
   ]
  },
  {
   "cell_type": "markdown",
   "metadata": {},
   "source": [
    "<h1>CHECK FOR VARIANCE EXPLAINED BY n_components and find best no. of component"
   ]
  },
  {
   "cell_type": "code",
   "execution_count": 127,
   "metadata": {},
   "outputs": [
    {
     "data": {
      "text/plain": [
       "TruncatedSVD(algorithm='randomized', n_components=6000, n_iter=5,\n",
       "       random_state=None, tol=0.0001)"
      ]
     },
     "execution_count": 127,
     "metadata": {},
     "output_type": "execute_result"
    }
   ],
   "source": [
    "from sklearn.decomposition import TruncatedSVD\n",
    "\n",
    "svd = TruncatedSVD(n_components=6000, algorithm='randomized', n_iter=5, random_state=None, tol=0.0001)\n",
    "svd.fit(preprocessed_essays_xtr_tfidf)\n"
   ]
  },
  {
   "cell_type": "code",
   "execution_count": 128,
   "metadata": {},
   "outputs": [
    {
     "data": {
      "text/plain": [
       "array([0.00398695, 0.01444983, 0.02338521, ..., 0.95587842, 0.95589644,\n",
       "       0.95591441])"
      ]
     },
     "execution_count": 128,
     "metadata": {},
     "output_type": "execute_result"
    }
   ],
   "source": [
    "# List of explained variances\n",
    "tsvd_var_ratios = svd.explained_variance_ratio_\n",
    "np.cumsum(tsvd_var_ratios)"
   ]
  },
  {
   "cell_type": "code",
   "execution_count": 129,
   "metadata": {},
   "outputs": [],
   "source": [
    "# Create a function for find best no. of components\n",
    "def select_n_components(var_ratio, goal_var: float):\n",
    "    # Set initial variance explained so far\n",
    "    total_variance = 0.0\n",
    "    \n",
    "    # Set initial number of features\n",
    "    n_components = 0\n",
    "    \n",
    "    # For the explained variance of each feature:\n",
    "    for explained_variance in var_ratio:\n",
    "        \n",
    "       \n",
    "        total_variance += explained_variance\n",
    "        \n",
    "      \n",
    "        n_components += 1\n",
    "        \n",
    "     \n",
    "        if total_variance >= goal_var:\n",
    "            \n",
    "            break\n",
    "            \n",
    "   \n",
    "    return n_components"
   ]
  },
  {
   "cell_type": "markdown",
   "metadata": {},
   "source": [
    "<h1>Find total of 95% var explained"
   ]
  },
  {
   "cell_type": "code",
   "execution_count": 130,
   "metadata": {},
   "outputs": [
    {
     "data": {
      "text/plain": [
       "5706"
      ]
     },
     "execution_count": 130,
     "metadata": {},
     "output_type": "execute_result"
    }
   ],
   "source": [
    "n_components=select_n_components(tsvd_var_ratios, 0.95)\n",
    "n_components"
   ]
  },
  {
   "cell_type": "code",
   "execution_count": 131,
   "metadata": {},
   "outputs": [],
   "source": [
    "from sklearn.decomposition import TruncatedSVD\n",
    "\n",
    "svd_tr = TruncatedSVD(n_components=5722, algorithm='randomized', n_iter=5, random_state=None, tol=0.001)\n",
    "svd_train = svd_tr.fit_transform(preprocessed_essays_xtr_tfidf)\n",
    "svd_test = svd_tr.transform(preprocessed_essays_xtest_tfidf)"
   ]
  },
  {
   "cell_type": "code",
   "execution_count": 132,
   "metadata": {},
   "outputs": [],
   "source": [
    "from scipy.sparse import hstack\n",
    "X_train_s5=hstack((svd_train,x_train_clean_cat_ohe,x_train_clean_subcat_ohe,x_train_state_ohe,x_train_teacher_pre,x_train_grade_ohe,x_train_price_std,x_train_teacher_previously_std\n",
    "                   ,x_train_quantity_std )).tocsr()\n",
    "                 \n",
    "X_test_s5=hstack((svd_test,x_test_clean_cat_ohe,x_test_clean_subcat_ohe, x_test_state_ohe, x_test_teacher_pre, x_test_grade_ohe, x_test_price_std,x_test_teacher_previously_std\n",
    "                    \n",
    "                   ,x_test_quantity_std)).tocsr()"
   ]
  },
  {
   "cell_type": "code",
   "execution_count": 133,
   "metadata": {
    "scrolled": true
   },
   "outputs": [
    {
     "name": "stdout",
     "output_type": "stream",
     "text": [
      "Fitting 5 folds for each of 18 candidates, totalling 90 fits\n"
     ]
    },
    {
     "name": "stderr",
     "output_type": "stream",
     "text": [
      "[Parallel(n_jobs=3)]: Using backend LokyBackend with 3 concurrent workers.\n",
      "[Parallel(n_jobs=3)]: Done   1 tasks      | elapsed:  2.0min\n",
      "[Parallel(n_jobs=3)]: Done   2 tasks      | elapsed:  2.0min\n",
      "[Parallel(n_jobs=3)]: Done   3 tasks      | elapsed:  2.1min\n",
      "[Parallel(n_jobs=3)]: Done   4 tasks      | elapsed:  3.0min\n",
      "[Parallel(n_jobs=3)]: Done   5 tasks      | elapsed:  3.1min\n",
      "[Parallel(n_jobs=3)]: Done   6 tasks      | elapsed:  3.1min\n",
      "[Parallel(n_jobs=3)]: Done   7 tasks      | elapsed:  3.5min\n",
      "[Parallel(n_jobs=3)]: Done   8 tasks      | elapsed:  4.0min\n",
      "[Parallel(n_jobs=3)]: Done   9 tasks      | elapsed:  4.4min\n",
      "[Parallel(n_jobs=3)]: Done  10 tasks      | elapsed:  5.2min\n",
      "[Parallel(n_jobs=3)]: Done  11 tasks      | elapsed:  5.4min\n",
      "[Parallel(n_jobs=3)]: Done  12 tasks      | elapsed:  5.4min\n",
      "[Parallel(n_jobs=3)]: Done  13 tasks      | elapsed:  6.6min\n",
      "[Parallel(n_jobs=3)]: Done  14 tasks      | elapsed:  6.7min\n",
      "[Parallel(n_jobs=3)]: Done  15 tasks      | elapsed:  6.7min\n",
      "[Parallel(n_jobs=3)]: Done  16 tasks      | elapsed:  7.0min\n",
      "[Parallel(n_jobs=3)]: Done  17 tasks      | elapsed:  7.6min\n",
      "[Parallel(n_jobs=3)]: Done  18 tasks      | elapsed:  7.6min\n",
      "[Parallel(n_jobs=3)]: Done  19 tasks      | elapsed:  8.1min\n",
      "[Parallel(n_jobs=3)]: Done  20 tasks      | elapsed:  8.2min\n",
      "[Parallel(n_jobs=3)]: Done  21 tasks      | elapsed:  8.5min\n",
      "[Parallel(n_jobs=3)]: Done  22 tasks      | elapsed:  9.1min\n",
      "[Parallel(n_jobs=3)]: Done  23 tasks      | elapsed:  9.5min\n",
      "[Parallel(n_jobs=3)]: Done  24 tasks      | elapsed:  9.5min\n",
      "[Parallel(n_jobs=3)]: Done  25 tasks      | elapsed:  9.9min\n",
      "[Parallel(n_jobs=3)]: Done  26 tasks      | elapsed: 10.0min\n",
      "[Parallel(n_jobs=3)]: Done  27 tasks      | elapsed: 10.1min\n",
      "[Parallel(n_jobs=3)]: Done  28 tasks      | elapsed: 10.4min\n",
      "[Parallel(n_jobs=3)]: Done  29 tasks      | elapsed: 10.6min\n",
      "[Parallel(n_jobs=3)]: Done  30 tasks      | elapsed: 10.6min\n",
      "[Parallel(n_jobs=3)]: Done  31 tasks      | elapsed: 11.0min\n",
      "[Parallel(n_jobs=3)]: Done  32 tasks      | elapsed: 11.5min\n",
      "[Parallel(n_jobs=3)]: Done  33 tasks      | elapsed: 11.6min\n",
      "[Parallel(n_jobs=3)]: Done  34 tasks      | elapsed: 11.8min\n",
      "[Parallel(n_jobs=3)]: Done  35 tasks      | elapsed: 12.0min\n",
      "[Parallel(n_jobs=3)]: Done  36 tasks      | elapsed: 12.0min\n",
      "[Parallel(n_jobs=3)]: Done  37 tasks      | elapsed: 12.2min\n",
      "[Parallel(n_jobs=3)]: Done  38 tasks      | elapsed: 12.3min\n",
      "[Parallel(n_jobs=3)]: Done  39 tasks      | elapsed: 12.3min\n",
      "[Parallel(n_jobs=3)]: Done  40 tasks      | elapsed: 12.5min\n",
      "[Parallel(n_jobs=3)]: Done  41 tasks      | elapsed: 12.6min\n",
      "[Parallel(n_jobs=3)]: Done  42 tasks      | elapsed: 12.8min\n",
      "[Parallel(n_jobs=3)]: Done  43 tasks      | elapsed: 13.6min\n",
      "[Parallel(n_jobs=3)]: Done  44 tasks      | elapsed: 14.0min\n",
      "[Parallel(n_jobs=3)]: Done  45 tasks      | elapsed: 14.2min\n",
      "[Parallel(n_jobs=3)]: Done  46 tasks      | elapsed: 14.5min\n",
      "[Parallel(n_jobs=3)]: Done  47 tasks      | elapsed: 14.5min\n",
      "[Parallel(n_jobs=3)]: Done  48 tasks      | elapsed: 14.8min\n",
      "[Parallel(n_jobs=3)]: Done  49 tasks      | elapsed: 15.3min\n",
      "[Parallel(n_jobs=3)]: Done  50 tasks      | elapsed: 15.6min\n",
      "[Parallel(n_jobs=3)]: Done  51 tasks      | elapsed: 15.7min\n",
      "[Parallel(n_jobs=3)]: Done  52 tasks      | elapsed: 16.1min\n",
      "[Parallel(n_jobs=3)]: Done  53 tasks      | elapsed: 16.6min\n",
      "[Parallel(n_jobs=3)]: Done  54 tasks      | elapsed: 16.9min\n",
      "[Parallel(n_jobs=3)]: Done  55 tasks      | elapsed: 16.9min\n",
      "[Parallel(n_jobs=3)]: Done  56 tasks      | elapsed: 17.2min\n",
      "[Parallel(n_jobs=3)]: Done  57 tasks      | elapsed: 17.2min\n",
      "[Parallel(n_jobs=3)]: Done  58 tasks      | elapsed: 17.4min\n",
      "[Parallel(n_jobs=3)]: Done  59 tasks      | elapsed: 17.5min\n",
      "[Parallel(n_jobs=3)]: Done  60 tasks      | elapsed: 17.5min\n",
      "[Parallel(n_jobs=3)]: Done  61 tasks      | elapsed: 17.7min\n",
      "[Parallel(n_jobs=3)]: Done  62 tasks      | elapsed: 18.5min\n",
      "[Parallel(n_jobs=3)]: Done  63 tasks      | elapsed: 18.6min\n",
      "[Parallel(n_jobs=3)]: Done  64 tasks      | elapsed: 18.8min\n",
      "[Parallel(n_jobs=3)]: Done  65 tasks      | elapsed: 19.0min\n",
      "[Parallel(n_jobs=3)]: Done  66 tasks      | elapsed: 19.1min\n",
      "[Parallel(n_jobs=3)]: Done  67 tasks      | elapsed: 19.1min\n",
      "[Parallel(n_jobs=3)]: Done  68 tasks      | elapsed: 19.6min\n",
      "[Parallel(n_jobs=3)]: Done  69 tasks      | elapsed: 19.9min\n",
      "[Parallel(n_jobs=3)]: Done  70 tasks      | elapsed: 20.0min\n",
      "[Parallel(n_jobs=3)]: Done  71 tasks      | elapsed: 20.3min\n",
      "[Parallel(n_jobs=3)]: Done  72 tasks      | elapsed: 20.4min\n",
      "[Parallel(n_jobs=3)]: Done  73 tasks      | elapsed: 20.6min\n",
      "[Parallel(n_jobs=3)]: Done  74 tasks      | elapsed: 20.6min\n",
      "[Parallel(n_jobs=3)]: Done  75 tasks      | elapsed: 21.0min\n",
      "[Parallel(n_jobs=3)]: Done  76 tasks      | elapsed: 21.4min\n",
      "[Parallel(n_jobs=3)]: Done  77 tasks      | elapsed: 21.7min\n",
      "[Parallel(n_jobs=3)]: Done  78 tasks      | elapsed: 21.8min\n",
      "[Parallel(n_jobs=3)]: Done  79 tasks      | elapsed: 22.2min\n",
      "[Parallel(n_jobs=3)]: Done  80 tasks      | elapsed: 22.7min\n",
      "[Parallel(n_jobs=3)]: Done  81 tasks      | elapsed: 22.8min\n",
      "[Parallel(n_jobs=3)]: Done  82 tasks      | elapsed: 23.0min\n",
      "[Parallel(n_jobs=3)]: Done  83 tasks      | elapsed: 23.2min\n",
      "[Parallel(n_jobs=3)]: Done  84 tasks      | elapsed: 23.2min\n",
      "[Parallel(n_jobs=3)]: Done  85 tasks      | elapsed: 24.0min\n",
      "[Parallel(n_jobs=3)]: Done  90 out of  90 | elapsed: 24.5min remaining:    0.0s\n",
      "[Parallel(n_jobs=3)]: Done  90 out of  90 | elapsed: 24.5min finished\n"
     ]
    },
    {
     "name": "stdout",
     "output_type": "stream",
     "text": [
      "{'alpha': 0.0001, 'penalty': 'l1'}\n"
     ]
    }
   ],
   "source": [
    "from sklearn.model_selection import GridSearchCV\n",
    "from sklearn.linear_model import SGDClassifier\n",
    "\n",
    "\n",
    "clf_param_grid = {\n",
    "    'alpha' : [10**-x for x in range(-4,5)],\n",
    "    'penalty' : ['l1','l2']\n",
    "}\n",
    "SGD5 = SGDClassifier(class_weight='balanced')\n",
    "\n",
    "estimator5 = GridSearchCV(SGD5, param_grid=clf_param_grid ,cv=5, verbose=21, scoring=\"roc_auc\",n_jobs=3)\n",
    "estimator5.fit(X_train_s5,y_train)\n",
    "\n",
    "print(estimator5.best_params_)"
   ]
  },
  {
   "cell_type": "code",
   "execution_count": 134,
   "metadata": {},
   "outputs": [],
   "source": [
    "b5=estimator5.best_params_[\"alpha\"]\n",
    "p5=estimator5.best_params_[\"penalty\"]"
   ]
  },
  {
   "cell_type": "code",
   "execution_count": 137,
   "metadata": {},
   "outputs": [
    {
     "data": {
      "image/png": "[encoded data removed]",
      "text/plain": [
       "<Figure size 432x288 with 1 Axes>"
      ]
     },
     "metadata": {
      "needs_background": "light"
     },
     "output_type": "display_data"
    }
   ],
   "source": [
    "train_auc5= estimator5.cv_results_['mean_train_score'][estimator5.cv_results_['param_penalty']==p5]\n",
    "train_auc_std5= estimator5.cv_results_['std_train_score'][estimator5.cv_results_['param_penalty']==p5]\n",
    "cv_auc5 = estimator5.cv_results_['mean_test_score'][estimator5.cv_results_['param_penalty']==p5]\n",
    "cv_auc_std5= estimator5.cv_results_['std_test_score'][estimator5.cv_results_['param_penalty']==p5]\n",
    "\n",
    "ax=plt.subplot()\n",
    "plt.plot(clf_param_grid['alpha'][:9], train_auc5, label='Train AUC')\n",
    "\n",
    "# this code is copied from here: https://stackoverflow.com/a/58805565/5085059\n",
    "#plt.gca().fill_between(clf_param_grid['alpha'][:9],train_auc5 - train_auc_std5,train_auc5 + train_auc_std5,alpha=0.5,color='darkblue')\n",
    "# create a shaded area between [mean - std, mean + std]\n",
    "\n",
    "plt.plot(clf_param_grid['alpha'][:9], cv_auc5, label='CV AUC')\n",
    "# this code is copied from here: https://stackoverflow.com/a/58805565/5085059\n",
    "#plt.gca().fill_between(clf_param_grid['alpha'][:9],cv_auc5 - cv_auc_std5,cv_auc5 + cv_auc_std5,alpha=0.5,color='darkorange')\n",
    "\n",
    "plt.scatter(clf_param_grid['alpha'][:9], train_auc5, label='Train AUC points')\n",
    "plt.scatter(clf_param_grid['alpha'][:9], cv_auc5, label='CV AUC points')\n",
    "plt.axis([10**-2,10**5,0.675,0.710])\n",
    "plt.xscale('log')\n",
    "plt.axis('tight')\n",
    "plt.legend()\n",
    "plt.xlabel(\"alpha: hyperparameter\")\n",
    "plt.ylabel(\"AUC\")\n",
    "plt.title(\"ERROR PLOTS\")\n",
    "plt.grid()\n",
    "plt.show()"
   ]
  },
  {
   "cell_type": "code",
   "execution_count": 138,
   "metadata": {
    "scrolled": true
   },
   "outputs": [
    {
     "data": {
      "text/plain": [
       "SGDClassifier(alpha=0.0001, average=False, class_weight='balanced',\n",
       "       early_stopping=False, epsilon=0.1, eta0=0.0, fit_intercept=True,\n",
       "       l1_ratio=0.15, learning_rate='optimal', loss='hinge', max_iter=None,\n",
       "       n_iter=None, n_iter_no_change=5, n_jobs=None, penalty='l1',\n",
       "       power_t=0.5, random_state=None, shuffle=True, tol=None,\n",
       "       validation_fraction=0.1, verbose=0, warm_start=False)"
      ]
     },
     "execution_count": 138,
     "metadata": {},
     "output_type": "execute_result"
    }
   ],
   "source": [
    "model_new5=SGDClassifier( penalty=p5, alpha=b5,class_weight='balanced')\n",
    "model_new5.fit(X_train_s5,y_train)"
   ]
  },
  {
   "cell_type": "code",
   "execution_count": 184,
   "metadata": {},
   "outputs": [
    {
     "data": {
      "image/png": "[encoded data removed]",
      "text/plain": [
       "<Figure size 432x288 with 1 Axes>"
      ]
     },
     "metadata": {
      "needs_background": "light"
     },
     "output_type": "display_data"
    }
   ],
   "source": [
    "score_roc_train = model_new5.decision_function(X_train_s5)\n",
    "fpr_train, tpr_train, threshold_train = roc_curve(y_train, sigmoid_v(score_roc_train))\n",
    "roc_auc_train = auc(fpr_train, tpr_train)\n",
    "\n",
    "score_roc_test = model_new5.decision_function(X_test_s5)\n",
    "fpr_test, tpr_test, threshold_test = roc_curve(y_test, sigmoid_v(score_roc_test))\n",
    "roc_auc_test = auc(fpr_test, tpr_test)\n",
    "\n",
    "\n",
    "plt.plot(fpr_train, tpr_train, label = \"Train_AUC\"+str(auc(fpr_train, tpr_train)))\n",
    "plt.plot(fpr_test, tpr_test, label = \"Test_AUC\"+str(auc(fpr_test, tpr_test)))\n",
    "plt.legend(loc = 'lower right')\n",
    "\n",
    "plt.plot([0, 1], [0, 1],'r--')\n",
    "plt.xlim([0, 1])\n",
    "plt.ylim([0, 1])\n",
    "\n",
    "plt.ylabel('True Positive Rate')\n",
    "plt.xlabel('False Positive Rate')\n",
    "plt.title('ROC Curve of SVM ')\n",
    "plt.show()"
   ]
  },
  {
   "cell_type": "code",
   "execution_count": 185,
   "metadata": {},
   "outputs": [],
   "source": [
    "y_train_pred = model_new5.predict(X_train_s5)\n",
    "y_test_pred = model_new5.predict(X_test_s5)"
   ]
  },
  {
   "cell_type": "code",
   "execution_count": 186,
   "metadata": {},
   "outputs": [
    {
     "name": "stdout",
     "output_type": "stream",
     "text": [
      "Train confusion matrix\n",
      "the maximum value of tpr*(1-fpr) 0.484920253057438 for threshold 0.482\n"
     ]
    },
    {
     "data": {
      "text/plain": [
       "Text(0.5, 1.0, 'Confusion Matrix\\n')"
      ]
     },
     "execution_count": 186,
     "metadata": {},
     "output_type": "execute_result"
    },
    {
     "data": {
      "image/png": "[encoded data removed]",
      "text/plain": [
       "<Figure size 432x288 with 2 Axes>"
      ]
     },
     "metadata": {
      "needs_background": "light"
     },
     "output_type": "display_data"
    }
   ],
   "source": [
    "from sklearn.metrics import confusion_matrix\n",
    "\n",
    "ax = plt.subplot()\n",
    "\n",
    "print(\"Train confusion matrix\")\n",
    "cnn_train = confusion_matrix(y_train, predict(y_train_pred, threshold_train, fpr_train, tpr_train))\n",
    "sns.heatmap(cnn_train,annot = True,ax=ax,fmt='d')\n",
    "ax.set_xlabel('Predicted label')\n",
    "ax.set_ylabel('True label')\n",
    "ax.xaxis.set_ticklabels(['negative','positive'])\n",
    "ax.yaxis.set_ticklabels(['negative','positive'])\n",
    "plt.title('Confusion Matrix\\n')"
   ]
  },
  {
   "cell_type": "code",
   "execution_count": 187,
   "metadata": {},
   "outputs": [
    {
     "name": "stdout",
     "output_type": "stream",
     "text": [
      "test confusion matrix\n",
      "the maximum value of tpr*(1-fpr) 0.42276687703999477 for threshold 0.514\n"
     ]
    },
    {
     "data": {
      "text/plain": [
       "Text(0.5, 1.0, 'Confusion Matrix\\n')"
      ]
     },
     "execution_count": 187,
     "metadata": {},
     "output_type": "execute_result"
    },
    {
     "data": {
      "image/png": "[encoded data removed]",
      "text/plain": [
       "<Figure size 432x288 with 2 Axes>"
      ]
     },
     "metadata": {
      "needs_background": "light"
     },
     "output_type": "display_data"
    }
   ],
   "source": [
    "from sklearn.metrics import confusion_matrix\n",
    "\n",
    "ax = plt.subplot()\n",
    "\n",
    "print(\"test confusion matrix\")\n",
    "cnn_test = confusion_matrix(y_test, predict(y_test_pred, threshold_test, fpr_test, tpr_test))\n",
    "sns.heatmap(cnn_test,annot = True,ax=ax,fmt='d')\n",
    "ax.set_xlabel('Predicted label')\n",
    "ax.set_ylabel('True label')\n",
    "ax.xaxis.set_ticklabels(['negative','positive'])\n",
    "ax.yaxis.set_ticklabels(['negative','positive'])\n",
    "plt.title('Confusion Matrix\\n')"
   ]
  },
  {
   "cell_type": "code",
   "execution_count": 146,
   "metadata": {},
   "outputs": [
    {
     "name": "stdout",
     "output_type": "stream",
     "text": [
      "_____________________________________________________________________________________________________\n",
      "Classification Report: \n",
      "\n",
      "              precision    recall  f1-score   support\n",
      "\n",
      "           0       0.25      0.66      0.36      2303\n",
      "           1       0.91      0.64      0.75     12697\n",
      "\n",
      "   micro avg       0.64      0.64      0.64     15000\n",
      "   macro avg       0.58      0.65      0.56     15000\n",
      "weighted avg       0.81      0.64      0.69     15000\n",
      "\n",
      "_____________________________________________________________________________________________________\n"
     ]
    }
   ],
   "source": [
    "from sklearn.metrics import classification_report\n",
    "print(\"_\" * 101)\n",
    "print(\"Classification Report: \\n\")\n",
    "print(classification_report(y_test,y_test_pred))\n",
    "print(\"_\" * 101)\n"
   ]
  },
  {
   "cell_type": "code",
   "execution_count": 151,
   "metadata": {},
   "outputs": [],
   "source": [
    "from prettytable import PrettyTable\n",
    "\n",
    "pretty = PrettyTable()\n",
    "\n",
    "pretty.field_names = ['Vectorizer','Model','Hyperparameter_alpha','Hyperparameter_penalty','AUC']\n",
    "\n",
    "pretty.add_row(['BOW','BRUTE',b1,p1,'0.71'])\n",
    "pretty.add_row(['TF-IDF','BRUTE',b2,p2,'0.69'])\n",
    "pretty.add_row(['AVG W2V','BRUTE',b3,p3,'0.68'])\n",
    "pretty.add_row(['TFIDF WEIGHTED','BRUTE',b4,p4,'0.69'])\n",
    "pretty.add_row(['TRUNCATED SVD','BRUTE',b5,p5,'0.69'])"
   ]
  },
  {
   "cell_type": "code",
   "execution_count": 152,
   "metadata": {},
   "outputs": [
    {
     "name": "stdout",
     "output_type": "stream",
     "text": [
      "+----------------+-------+----------------------+------------------------+------+\n",
      "|   Vectorizer   | Model | Hyperparameter_alpha | Hyperparameter_penalty | AUC  |\n",
      "+----------------+-------+----------------------+------------------------+------+\n",
      "|      BOW       | BRUTE |         0.1          |           l2           | 0.71 |\n",
      "|     TF-IDF     | BRUTE |        0.001         |           l2           | 0.69 |\n",
      "|    AVG W2V     | BRUTE |        0.001         |           l2           | 0.68 |\n",
      "| TFIDF WEIGHTED | BRUTE |         0.01         |           l2           | 0.69 |\n",
      "| TRUNCATED SVD  | BRUTE |        0.0001        |           l1           | 0.69 |\n",
      "+----------------+-------+----------------------+------------------------+------+\n"
     ]
    }
   ],
   "source": [
    "print(pretty)"
   ]
  }
 ],
 "metadata": {
  "kernelspec": {
   "display_name": "Python 3",
   "language": "python",
   "name": "python3"
  },
  "language_info": {
   "codemirror_mode": {
    "name": "ipython",
    "version": 3
   },
   "file_extension": ".py",
   "mimetype": "text/x-python",
   "name": "python",
   "nbconvert_exporter": "python",
   "pygments_lexer": "ipython3",
   "version": "3.7.3"
  }
 },
 "nbformat": 4,
 "nbformat_minor": 1
}

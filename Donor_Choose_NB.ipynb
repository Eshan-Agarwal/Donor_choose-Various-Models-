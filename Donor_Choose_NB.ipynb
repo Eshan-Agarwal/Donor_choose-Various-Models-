{
 "cells": [
  {
   "cell_type": "markdown",
   "metadata": {},
   "source": [
    "# DonorsChoose"
   ]
  },
  {
   "cell_type": "markdown",
   "metadata": {},
   "source": [
    "<p>\n",
    "DonorsChoose.org receives hundreds of thousands of project proposals each year for classroom projects in need of funding. Right now, a large number of volunteers is needed to manually screen each submission before it's approved to be posted on the DonorsChoose.org website.\n",
    "</p>\n",
    "<p>\n",
    "    Next year, DonorsChoose.org expects to receive close to 500,000 project proposals. As a result, there are three main problems they need to solve:\n",
    "<ul>\n",
    "<li>\n",
    "    How to scale current manual processes and resources to screen 500,000 projects so that they can be posted as quickly and as efficiently as possible</li>\n",
    "    <li>How to increase the consistency of project vetting across different volunteers to improve the experience for teachers</li>\n",
    "    <li>How to focus volunteer time on the applications that need the most assistance</li>\n",
    "    </ul>\n",
    "</p>    \n",
    "<p>\n",
    "The goal of the competition is to predict whether or not a DonorsChoose.org project proposal submitted by a teacher will be approved, using the text of project descriptions as well as additional metadata about the project, teacher, and school. DonorsChoose.org can then use this information to identify projects most likely to need further review before approval.\n",
    "</p>"
   ]
  },
  {
   "cell_type": "markdown",
   "metadata": {},
   "source": [
    "## About the DonorsChoose Data Set\n",
    "\n",
    "The `train.csv` data set provided by DonorsChoose contains the following features:\n",
    "\n",
    "Feature | Description \n",
    "----------|---------------\n",
    "**`project_id`** | A unique identifier for the proposed project. **Example:** `p036502`   \n",
    "**`project_title`**    | Title of the project. **Examples:**<br><ul><li><code>Art Will Make You Happy!</code></li><li><code>First Grade Fun</code></li></ul> \n",
    "**`project_grade_category`** | Grade level of students for which the project is targeted. One of the following enumerated values: <br/><ul><li><code>Grades PreK-2</code></li><li><code>Grades 3-5</code></li><li><code>Grades 6-8</code></li><li><code>Grades 9-12</code></li></ul>  \n",
    " **`project_subject_categories`** | One or more (comma-separated) subject categories for the project from the following enumerated list of values:  <br/><ul><li><code>Applied Learning</code></li><li><code>Care &amp; Hunger</code></li><li><code>Health &amp; Sports</code></li><li><code>History &amp; Civics</code></li><li><code>Literacy &amp; Language</code></li><li><code>Math &amp; Science</code></li><li><code>Music &amp; The Arts</code></li><li><code>Special Needs</code></li><li><code>Warmth</code></li></ul><br/> **Examples:** <br/><ul><li><code>Music &amp; The Arts</code></li><li><code>Literacy &amp; Language, Math &amp; Science</code></li>  \n",
    "  **`school_state`** | State where school is located ([Two-letter U.S. postal code](https://en.wikipedia.org/wiki/List_of_U.S._state_abbreviations#Postal_codes)). **Example:** `WY`\n",
    "**`project_subject_subcategories`** | One or more (comma-separated) subject subcategories for the project. **Examples:** <br/><ul><li><code>Literacy</code></li><li><code>Literature &amp; Writing, Social Sciences</code></li></ul> \n",
    "**`project_resource_summary`** | An explanation of the resources needed for the project. **Example:** <br/><ul><li><code>My students need hands on literacy materials to manage sensory needs!</code</li></ul> \n",
    "**`project_essay_1`**    | First application essay<sup>*</sup>  \n",
    "**`project_essay_2`**    | Second application essay<sup>*</sup> \n",
    "**`project_essay_3`**    | Third application essay<sup>*</sup> \n",
    "**`project_essay_4`**    | Fourth application essay<sup>*</sup> \n",
    "**`project_submitted_datetime`** | Datetime when project application was submitted. **Example:** `2016-04-28 12:43:56.245`   \n",
    "**`teacher_id`** | A unique identifier for the teacher of the proposed project. **Example:** `bdf8baa8fedef6bfeec7ae4ff1c15c56`  \n",
    "**`teacher_prefix`** | Teacher's title. One of the following enumerated values: <br/><ul><li><code>nan</code></li><li><code>Dr.</code></li><li><code>Mr.</code></li><li><code>Mrs.</code></li><li><code>Ms.</code></li><li><code>Teacher.</code></li></ul>  \n",
    "**`teacher_number_of_previously_posted_projects`** | Number of project applications previously submitted by the same teacher. **Example:** `2` \n",
    "\n",
    "<sup>*</sup> See the section <b>Notes on the Essay Data</b> for more details about these features.\n",
    "\n",
    "Additionally, the `resources.csv` data set provides more data about the resources required for each project. Each line in this file represents a resource required by a project:\n",
    "\n",
    "Feature | Description \n",
    "----------|---------------\n",
    "**`id`** | A `project_id` value from the `train.csv` file.  **Example:** `p036502`   \n",
    "**`description`** | Desciption of the resource. **Example:** `Tenor Saxophone Reeds, Box of 25`   \n",
    "**`quantity`** | Quantity of the resource required. **Example:** `3`   \n",
    "**`price`** | Price of the resource required. **Example:** `9.95`   \n",
    "\n",
    "**Note:** Many projects require multiple resources. The `id` value corresponds to a `project_id` in train.csv, so you use it as a key to retrieve all resources needed for a project:\n",
    "\n",
    "The data set contains the following label (the value you will attempt to predict):\n",
    "\n",
    "Label | Description\n",
    "----------|---------------\n",
    "`project_is_approved` | A binary flag indicating whether DonorsChoose approved the project. A value of `0` indicates the project was not approved, and a value of `1` indicates the project was approve"
   ]
  },
  {
   "cell_type": "markdown",
   "metadata": {},
   "source": [
    "### Notes on the Essay Data\n",
    "\n",
    "<ul>\n",
    "Prior to May 17, 2016, the prompts for the essays were as follows:\n",
    "<li>__project_essay_1:__ \"Introduce us to your classroom\"</li>\n",
    "<li>__project_essay_2:__ \"Tell us more about your students\"</li>\n",
    "<li>__project_essay_3:__ \"Describe how your students will use the materials you're requesting\"</li>\n",
    "<li>__project_essay_3:__ \"Close by sharing why your project will make a difference\"</li>\n",
    "</ul>\n",
    "\n",
    "\n",
    "<ul>\n",
    "Starting on May 17, 2016, the number of essays was reduced from 4 to 2, and the prompts for the first 2 essays were changed to the following:<br>\n",
    "<li>__project_essay_1:__ \"Describe your students: What makes your students special? Specific details about their background, your neighborhood, and your school are all helpful.\"</li>\n",
    "<li>__project_essay_2:__ \"About your project: How will these materials make a difference in your students' learning and improve their school lives?\"</li>\n",
    "<br>For all projects with project_submitted_datetime of 2016-05-17 and later, the values of project_essay_3 and project_essay_4 will be NaN.\n",
    "</ul>\n"
   ]
  },
  {
   "cell_type": "markdown",
   "metadata": {},
   "source": [
    "# Import some useful Libraries"
   ]
  },
  {
   "cell_type": "code",
   "execution_count": 1,
   "metadata": {},
   "outputs": [],
   "source": [
    "%matplotlib inline\n",
    "import warnings\n",
    "warnings.filterwarnings(\"ignore\")\n",
    "\n",
    "\n",
    "\n",
    "import sqlite3\n",
    "import pandas as pd\n",
    "import numpy as np\n",
    "import nltk\n",
    "import string\n",
    "import matplotlib.pyplot as plt\n",
    "import seaborn as sns\n",
    "from sklearn.feature_extraction.text import TfidfTransformer\n",
    "from sklearn.feature_extraction.text import TfidfVectorizer\n",
    "\n",
    "from sklearn.feature_extraction.text import CountVectorizer\n",
    "from sklearn.metrics import confusion_matrix\n",
    "from sklearn import metrics\n",
    "from sklearn.metrics import roc_curve, auc\n",
    "from nltk.stem.porter import PorterStemmer\n",
    "\n",
    "import re\n",
    "# Tutorial about Python regular expressions: https://pymotw.com/2/re/\n",
    "import string\n",
    "from nltk.corpus import stopwords\n",
    "from nltk.stem import PorterStemmer\n",
    "from nltk.stem.wordnet import WordNetLemmatizer\n",
    "\n",
    "from gensim.models import Word2Vec\n",
    "from gensim.models import KeyedVectors\n",
    "import pickle\n",
    "\n",
    "from tqdm import tqdm\n",
    "import os"
   ]
  },
  {
   "cell_type": "markdown",
   "metadata": {},
   "source": [
    "## 1.1 Reading Data"
   ]
  },
  {
   "cell_type": "code",
   "execution_count": 2,
   "metadata": {},
   "outputs": [],
   "source": [
    "import pandas as pd\n",
    "\n",
    "project_data=pd.read_csv(\"train_data.csv\")\n",
    "resource_data=pd.read_csv(\"resources.csv\")"
   ]
  },
  {
   "cell_type": "code",
   "execution_count": 3,
   "metadata": {},
   "outputs": [
    {
     "data": {
      "text/html": [
       "<div>\n",
       "<style scoped>\n",
       "    .dataframe tbody tr th:only-of-type {\n",
       "        vertical-align: middle;\n",
       "    }\n",
       "\n",
       "    .dataframe tbody tr th {\n",
       "        vertical-align: top;\n",
       "    }\n",
       "\n",
       "    .dataframe thead th {\n",
       "        text-align: right;\n",
       "    }\n",
       "</style>\n",
       "<table border=\"1\" class=\"dataframe\">\n",
       "  <thead>\n",
       "    <tr style=\"text-align: right;\">\n",
       "      <th></th>\n",
       "      <th>Unnamed: 0</th>\n",
       "      <th>id</th>\n",
       "      <th>teacher_id</th>\n",
       "      <th>teacher_prefix</th>\n",
       "      <th>school_state</th>\n",
       "      <th>project_submitted_datetime</th>\n",
       "      <th>project_grade_category</th>\n",
       "      <th>project_subject_categories</th>\n",
       "      <th>project_subject_subcategories</th>\n",
       "      <th>project_title</th>\n",
       "      <th>project_essay_1</th>\n",
       "      <th>project_essay_2</th>\n",
       "      <th>project_essay_3</th>\n",
       "      <th>project_essay_4</th>\n",
       "      <th>project_resource_summary</th>\n",
       "      <th>teacher_number_of_previously_posted_projects</th>\n",
       "      <th>project_is_approved</th>\n",
       "    </tr>\n",
       "  </thead>\n",
       "  <tbody>\n",
       "    <tr>\n",
       "      <th>0</th>\n",
       "      <td>160221</td>\n",
       "      <td>p253737</td>\n",
       "      <td>c90749f5d961ff158d4b4d1e7dc665fc</td>\n",
       "      <td>Mrs.</td>\n",
       "      <td>IN</td>\n",
       "      <td>2016-12-05 13:43:57</td>\n",
       "      <td>Grades PreK-2</td>\n",
       "      <td>Literacy &amp; Language</td>\n",
       "      <td>ESL, Literacy</td>\n",
       "      <td>Educational Support for English Learners at Home</td>\n",
       "      <td>My students are English learners that are work...</td>\n",
       "      <td>\\\"The limits of your language are the limits o...</td>\n",
       "      <td>NaN</td>\n",
       "      <td>NaN</td>\n",
       "      <td>My students need opportunities to practice beg...</td>\n",
       "      <td>0</td>\n",
       "      <td>0</td>\n",
       "    </tr>\n",
       "    <tr>\n",
       "      <th>1</th>\n",
       "      <td>140945</td>\n",
       "      <td>p258326</td>\n",
       "      <td>897464ce9ddc600bced1151f324dd63a</td>\n",
       "      <td>Mr.</td>\n",
       "      <td>FL</td>\n",
       "      <td>2016-10-25 09:22:10</td>\n",
       "      <td>Grades 6-8</td>\n",
       "      <td>History &amp; Civics, Health &amp; Sports</td>\n",
       "      <td>Civics &amp; Government, Team Sports</td>\n",
       "      <td>Wanted: Projector for Hungry Learners</td>\n",
       "      <td>Our students arrive to our school eager to lea...</td>\n",
       "      <td>The projector we need for our school is very c...</td>\n",
       "      <td>NaN</td>\n",
       "      <td>NaN</td>\n",
       "      <td>My students need a projector to help with view...</td>\n",
       "      <td>7</td>\n",
       "      <td>1</td>\n",
       "    </tr>\n",
       "    <tr>\n",
       "      <th>2</th>\n",
       "      <td>21895</td>\n",
       "      <td>p182444</td>\n",
       "      <td>3465aaf82da834c0582ebd0ef8040ca0</td>\n",
       "      <td>Ms.</td>\n",
       "      <td>AZ</td>\n",
       "      <td>2016-08-31 12:03:56</td>\n",
       "      <td>Grades 6-8</td>\n",
       "      <td>Health &amp; Sports</td>\n",
       "      <td>Health &amp; Wellness, Team Sports</td>\n",
       "      <td>Soccer Equipment for AWESOME Middle School Stu...</td>\n",
       "      <td>\\r\\n\\\"True champions aren't always the ones th...</td>\n",
       "      <td>The students on the campus come to school know...</td>\n",
       "      <td>NaN</td>\n",
       "      <td>NaN</td>\n",
       "      <td>My students need shine guards, athletic socks,...</td>\n",
       "      <td>1</td>\n",
       "      <td>0</td>\n",
       "    </tr>\n",
       "  </tbody>\n",
       "</table>\n",
       "</div>"
      ],
      "text/plain": [
       "   Unnamed: 0       id                        teacher_id teacher_prefix  \\\n",
       "0      160221  p253737  c90749f5d961ff158d4b4d1e7dc665fc           Mrs.   \n",
       "1      140945  p258326  897464ce9ddc600bced1151f324dd63a            Mr.   \n",
       "2       21895  p182444  3465aaf82da834c0582ebd0ef8040ca0            Ms.   \n",
       "\n",
       "  school_state project_submitted_datetime project_grade_category  \\\n",
       "0           IN        2016-12-05 13:43:57          Grades PreK-2   \n",
       "1           FL        2016-10-25 09:22:10             Grades 6-8   \n",
       "2           AZ        2016-08-31 12:03:56             Grades 6-8   \n",
       "\n",
       "          project_subject_categories     project_subject_subcategories  \\\n",
       "0                Literacy & Language                     ESL, Literacy   \n",
       "1  History & Civics, Health & Sports  Civics & Government, Team Sports   \n",
       "2                    Health & Sports    Health & Wellness, Team Sports   \n",
       "\n",
       "                                       project_title  \\\n",
       "0   Educational Support for English Learners at Home   \n",
       "1              Wanted: Projector for Hungry Learners   \n",
       "2  Soccer Equipment for AWESOME Middle School Stu...   \n",
       "\n",
       "                                     project_essay_1  \\\n",
       "0  My students are English learners that are work...   \n",
       "1  Our students arrive to our school eager to lea...   \n",
       "2  \\r\\n\\\"True champions aren't always the ones th...   \n",
       "\n",
       "                                     project_essay_2 project_essay_3  \\\n",
       "0  \\\"The limits of your language are the limits o...             NaN   \n",
       "1  The projector we need for our school is very c...             NaN   \n",
       "2  The students on the campus come to school know...             NaN   \n",
       "\n",
       "  project_essay_4                           project_resource_summary  \\\n",
       "0             NaN  My students need opportunities to practice beg...   \n",
       "1             NaN  My students need a projector to help with view...   \n",
       "2             NaN  My students need shine guards, athletic socks,...   \n",
       "\n",
       "   teacher_number_of_previously_posted_projects  project_is_approved  \n",
       "0                                             0                    0  \n",
       "1                                             7                    1  \n",
       "2                                             1                    0  "
      ]
     },
     "execution_count": 3,
     "metadata": {},
     "output_type": "execute_result"
    }
   ],
   "source": [
    "project_data.head(3)"
   ]
  },
  {
   "cell_type": "code",
   "execution_count": 4,
   "metadata": {},
   "outputs": [
    {
     "name": "stdout",
     "output_type": "stream",
     "text": [
      "Number of data points in train data (109248, 17)\n",
      "--------------------------------------------------\n",
      "The attributes of data : ['Unnamed: 0' 'id' 'teacher_id' 'teacher_prefix' 'school_state'\n",
      " 'project_submitted_datetime' 'project_grade_category'\n",
      " 'project_subject_categories' 'project_subject_subcategories'\n",
      " 'project_title' 'project_essay_1' 'project_essay_2' 'project_essay_3'\n",
      " 'project_essay_4' 'project_resource_summary'\n",
      " 'teacher_number_of_previously_posted_projects' 'project_is_approved']\n"
     ]
    }
   ],
   "source": [
    "print(\"Number of data points in train data\", project_data.shape)\n",
    "print('-'*50)\n",
    "print(\"The attributes of data :\", project_data.columns.values)"
   ]
  },
  {
   "cell_type": "code",
   "execution_count": 5,
   "metadata": {},
   "outputs": [
    {
     "name": "stdout",
     "output_type": "stream",
     "text": [
      "Number of data points in resources data (1541272, 4)\n",
      "['id' 'description' 'quantity' 'price']\n"
     ]
    },
    {
     "data": {
      "text/html": [
       "<div>\n",
       "<style scoped>\n",
       "    .dataframe tbody tr th:only-of-type {\n",
       "        vertical-align: middle;\n",
       "    }\n",
       "\n",
       "    .dataframe tbody tr th {\n",
       "        vertical-align: top;\n",
       "    }\n",
       "\n",
       "    .dataframe thead th {\n",
       "        text-align: right;\n",
       "    }\n",
       "</style>\n",
       "<table border=\"1\" class=\"dataframe\">\n",
       "  <thead>\n",
       "    <tr style=\"text-align: right;\">\n",
       "      <th></th>\n",
       "      <th>id</th>\n",
       "      <th>description</th>\n",
       "      <th>quantity</th>\n",
       "      <th>price</th>\n",
       "    </tr>\n",
       "  </thead>\n",
       "  <tbody>\n",
       "    <tr>\n",
       "      <th>0</th>\n",
       "      <td>p233245</td>\n",
       "      <td>LC652 - Lakeshore Double-Space Mobile Drying Rack</td>\n",
       "      <td>1</td>\n",
       "      <td>149.00</td>\n",
       "    </tr>\n",
       "    <tr>\n",
       "      <th>1</th>\n",
       "      <td>p069063</td>\n",
       "      <td>Bouncy Bands for Desks (Blue support pipes)</td>\n",
       "      <td>3</td>\n",
       "      <td>14.95</td>\n",
       "    </tr>\n",
       "  </tbody>\n",
       "</table>\n",
       "</div>"
      ],
      "text/plain": [
       "        id                                        description  quantity  \\\n",
       "0  p233245  LC652 - Lakeshore Double-Space Mobile Drying Rack         1   \n",
       "1  p069063        Bouncy Bands for Desks (Blue support pipes)         3   \n",
       "\n",
       "    price  \n",
       "0  149.00  \n",
       "1   14.95  "
      ]
     },
     "execution_count": 5,
     "metadata": {},
     "output_type": "execute_result"
    }
   ],
   "source": [
    "print(\"Number of data points in resources data\", resource_data.shape)\n",
    "print(resource_data.columns.values)\n",
    "resource_data.head(2)"
   ]
  },
  {
   "cell_type": "code",
   "execution_count": 6,
   "metadata": {},
   "outputs": [
    {
     "data": {
      "text/html": [
       "<div>\n",
       "<style scoped>\n",
       "    .dataframe tbody tr th:only-of-type {\n",
       "        vertical-align: middle;\n",
       "    }\n",
       "\n",
       "    .dataframe tbody tr th {\n",
       "        vertical-align: top;\n",
       "    }\n",
       "\n",
       "    .dataframe thead th {\n",
       "        text-align: right;\n",
       "    }\n",
       "</style>\n",
       "<table border=\"1\" class=\"dataframe\">\n",
       "  <thead>\n",
       "    <tr style=\"text-align: right;\">\n",
       "      <th></th>\n",
       "      <th>Unnamed: 0</th>\n",
       "      <th>id</th>\n",
       "      <th>teacher_id</th>\n",
       "      <th>teacher_prefix</th>\n",
       "      <th>school_state</th>\n",
       "      <th>project_submitted_datetime</th>\n",
       "      <th>project_grade_category</th>\n",
       "      <th>project_subject_categories</th>\n",
       "      <th>project_subject_subcategories</th>\n",
       "      <th>project_title</th>\n",
       "      <th>project_essay_1</th>\n",
       "      <th>project_essay_2</th>\n",
       "      <th>project_essay_3</th>\n",
       "      <th>project_essay_4</th>\n",
       "      <th>project_resource_summary</th>\n",
       "      <th>teacher_number_of_previously_posted_projects</th>\n",
       "      <th>project_is_approved</th>\n",
       "    </tr>\n",
       "  </thead>\n",
       "  <tbody>\n",
       "    <tr>\n",
       "      <th>0</th>\n",
       "      <td>160221</td>\n",
       "      <td>p253737</td>\n",
       "      <td>c90749f5d961ff158d4b4d1e7dc665fc</td>\n",
       "      <td>Mrs.</td>\n",
       "      <td>IN</td>\n",
       "      <td>2016-12-05 13:43:57</td>\n",
       "      <td>Grades PreK-2</td>\n",
       "      <td>Literacy &amp; Language</td>\n",
       "      <td>ESL, Literacy</td>\n",
       "      <td>Educational Support for English Learners at Home</td>\n",
       "      <td>My students are English learners that are work...</td>\n",
       "      <td>\\\"The limits of your language are the limits o...</td>\n",
       "      <td>NaN</td>\n",
       "      <td>NaN</td>\n",
       "      <td>My students need opportunities to practice beg...</td>\n",
       "      <td>0</td>\n",
       "      <td>0</td>\n",
       "    </tr>\n",
       "    <tr>\n",
       "      <th>1</th>\n",
       "      <td>140945</td>\n",
       "      <td>p258326</td>\n",
       "      <td>897464ce9ddc600bced1151f324dd63a</td>\n",
       "      <td>Mr.</td>\n",
       "      <td>FL</td>\n",
       "      <td>2016-10-25 09:22:10</td>\n",
       "      <td>Grades 6-8</td>\n",
       "      <td>History &amp; Civics, Health &amp; Sports</td>\n",
       "      <td>Civics &amp; Government, Team Sports</td>\n",
       "      <td>Wanted: Projector for Hungry Learners</td>\n",
       "      <td>Our students arrive to our school eager to lea...</td>\n",
       "      <td>The projector we need for our school is very c...</td>\n",
       "      <td>NaN</td>\n",
       "      <td>NaN</td>\n",
       "      <td>My students need a projector to help with view...</td>\n",
       "      <td>7</td>\n",
       "      <td>1</td>\n",
       "    </tr>\n",
       "    <tr>\n",
       "      <th>2</th>\n",
       "      <td>21895</td>\n",
       "      <td>p182444</td>\n",
       "      <td>3465aaf82da834c0582ebd0ef8040ca0</td>\n",
       "      <td>Ms.</td>\n",
       "      <td>AZ</td>\n",
       "      <td>2016-08-31 12:03:56</td>\n",
       "      <td>Grades 6-8</td>\n",
       "      <td>Health &amp; Sports</td>\n",
       "      <td>Health &amp; Wellness, Team Sports</td>\n",
       "      <td>Soccer Equipment for AWESOME Middle School Stu...</td>\n",
       "      <td>\\r\\n\\\"True champions aren't always the ones th...</td>\n",
       "      <td>The students on the campus come to school know...</td>\n",
       "      <td>NaN</td>\n",
       "      <td>NaN</td>\n",
       "      <td>My students need shine guards, athletic socks,...</td>\n",
       "      <td>1</td>\n",
       "      <td>0</td>\n",
       "    </tr>\n",
       "  </tbody>\n",
       "</table>\n",
       "</div>"
      ],
      "text/plain": [
       "   Unnamed: 0       id                        teacher_id teacher_prefix  \\\n",
       "0      160221  p253737  c90749f5d961ff158d4b4d1e7dc665fc           Mrs.   \n",
       "1      140945  p258326  897464ce9ddc600bced1151f324dd63a            Mr.   \n",
       "2       21895  p182444  3465aaf82da834c0582ebd0ef8040ca0            Ms.   \n",
       "\n",
       "  school_state project_submitted_datetime project_grade_category  \\\n",
       "0           IN        2016-12-05 13:43:57          Grades PreK-2   \n",
       "1           FL        2016-10-25 09:22:10             Grades 6-8   \n",
       "2           AZ        2016-08-31 12:03:56             Grades 6-8   \n",
       "\n",
       "          project_subject_categories     project_subject_subcategories  \\\n",
       "0                Literacy & Language                     ESL, Literacy   \n",
       "1  History & Civics, Health & Sports  Civics & Government, Team Sports   \n",
       "2                    Health & Sports    Health & Wellness, Team Sports   \n",
       "\n",
       "                                       project_title  \\\n",
       "0   Educational Support for English Learners at Home   \n",
       "1              Wanted: Projector for Hungry Learners   \n",
       "2  Soccer Equipment for AWESOME Middle School Stu...   \n",
       "\n",
       "                                     project_essay_1  \\\n",
       "0  My students are English learners that are work...   \n",
       "1  Our students arrive to our school eager to lea...   \n",
       "2  \\r\\n\\\"True champions aren't always the ones th...   \n",
       "\n",
       "                                     project_essay_2 project_essay_3  \\\n",
       "0  \\\"The limits of your language are the limits o...             NaN   \n",
       "1  The projector we need for our school is very c...             NaN   \n",
       "2  The students on the campus come to school know...             NaN   \n",
       "\n",
       "  project_essay_4                           project_resource_summary  \\\n",
       "0             NaN  My students need opportunities to practice beg...   \n",
       "1             NaN  My students need a projector to help with view...   \n",
       "2             NaN  My students need shine guards, athletic socks,...   \n",
       "\n",
       "   teacher_number_of_previously_posted_projects  project_is_approved  \n",
       "0                                             0                    0  \n",
       "1                                             7                    1  \n",
       "2                                             1                    0  "
      ]
     },
     "execution_count": 6,
     "metadata": {},
     "output_type": "execute_result"
    }
   ],
   "source": [
    "# Print some train dataframe\n",
    "\n",
    "project_data.head(3)"
   ]
  },
  {
   "cell_type": "markdown",
   "metadata": {},
   "source": [
    "## 1.2 preprocessing of `project_subject_categories`"
   ]
  },
  {
   "cell_type": "code",
   "execution_count": 7,
   "metadata": {},
   "outputs": [
    {
     "name": "stdout",
     "output_type": "stream",
     "text": [
      "{'Warmth': 1388, 'Care_Hunger': 1388, 'History_Civics': 5914, 'Music_Arts': 10293, 'AppliedLearning': 12135, 'SpecialNeeds': 13642, 'Health_Sports': 14223, 'Math_Science': 41421, 'Literacy_Language': 52239}\n"
     ]
    },
    {
     "data": {
      "text/html": [
       "<div>\n",
       "<style scoped>\n",
       "    .dataframe tbody tr th:only-of-type {\n",
       "        vertical-align: middle;\n",
       "    }\n",
       "\n",
       "    .dataframe tbody tr th {\n",
       "        vertical-align: top;\n",
       "    }\n",
       "\n",
       "    .dataframe thead th {\n",
       "        text-align: right;\n",
       "    }\n",
       "</style>\n",
       "<table border=\"1\" class=\"dataframe\">\n",
       "  <thead>\n",
       "    <tr style=\"text-align: right;\">\n",
       "      <th></th>\n",
       "      <th>Unnamed: 0</th>\n",
       "      <th>id</th>\n",
       "      <th>teacher_id</th>\n",
       "      <th>teacher_prefix</th>\n",
       "      <th>school_state</th>\n",
       "      <th>project_submitted_datetime</th>\n",
       "      <th>project_grade_category</th>\n",
       "      <th>project_subject_subcategories</th>\n",
       "      <th>project_title</th>\n",
       "      <th>project_essay_1</th>\n",
       "      <th>project_essay_2</th>\n",
       "      <th>project_essay_3</th>\n",
       "      <th>project_essay_4</th>\n",
       "      <th>project_resource_summary</th>\n",
       "      <th>teacher_number_of_previously_posted_projects</th>\n",
       "      <th>project_is_approved</th>\n",
       "      <th>clean_categories</th>\n",
       "    </tr>\n",
       "  </thead>\n",
       "  <tbody>\n",
       "    <tr>\n",
       "      <th>0</th>\n",
       "      <td>160221</td>\n",
       "      <td>p253737</td>\n",
       "      <td>c90749f5d961ff158d4b4d1e7dc665fc</td>\n",
       "      <td>Mrs.</td>\n",
       "      <td>IN</td>\n",
       "      <td>2016-12-05 13:43:57</td>\n",
       "      <td>Grades PreK-2</td>\n",
       "      <td>ESL, Literacy</td>\n",
       "      <td>Educational Support for English Learners at Home</td>\n",
       "      <td>My students are English learners that are work...</td>\n",
       "      <td>\\\"The limits of your language are the limits o...</td>\n",
       "      <td>NaN</td>\n",
       "      <td>NaN</td>\n",
       "      <td>My students need opportunities to practice beg...</td>\n",
       "      <td>0</td>\n",
       "      <td>0</td>\n",
       "      <td>Literacy_Language</td>\n",
       "    </tr>\n",
       "    <tr>\n",
       "      <th>1</th>\n",
       "      <td>140945</td>\n",
       "      <td>p258326</td>\n",
       "      <td>897464ce9ddc600bced1151f324dd63a</td>\n",
       "      <td>Mr.</td>\n",
       "      <td>FL</td>\n",
       "      <td>2016-10-25 09:22:10</td>\n",
       "      <td>Grades 6-8</td>\n",
       "      <td>Civics &amp; Government, Team Sports</td>\n",
       "      <td>Wanted: Projector for Hungry Learners</td>\n",
       "      <td>Our students arrive to our school eager to lea...</td>\n",
       "      <td>The projector we need for our school is very c...</td>\n",
       "      <td>NaN</td>\n",
       "      <td>NaN</td>\n",
       "      <td>My students need a projector to help with view...</td>\n",
       "      <td>7</td>\n",
       "      <td>1</td>\n",
       "      <td>History_Civics Health_Sports</td>\n",
       "    </tr>\n",
       "    <tr>\n",
       "      <th>2</th>\n",
       "      <td>21895</td>\n",
       "      <td>p182444</td>\n",
       "      <td>3465aaf82da834c0582ebd0ef8040ca0</td>\n",
       "      <td>Ms.</td>\n",
       "      <td>AZ</td>\n",
       "      <td>2016-08-31 12:03:56</td>\n",
       "      <td>Grades 6-8</td>\n",
       "      <td>Health &amp; Wellness, Team Sports</td>\n",
       "      <td>Soccer Equipment for AWESOME Middle School Stu...</td>\n",
       "      <td>\\r\\n\\\"True champions aren't always the ones th...</td>\n",
       "      <td>The students on the campus come to school know...</td>\n",
       "      <td>NaN</td>\n",
       "      <td>NaN</td>\n",
       "      <td>My students need shine guards, athletic socks,...</td>\n",
       "      <td>1</td>\n",
       "      <td>0</td>\n",
       "      <td>Health_Sports</td>\n",
       "    </tr>\n",
       "    <tr>\n",
       "      <th>3</th>\n",
       "      <td>45</td>\n",
       "      <td>p246581</td>\n",
       "      <td>f3cb9bffbba169bef1a77b243e620b60</td>\n",
       "      <td>Mrs.</td>\n",
       "      <td>KY</td>\n",
       "      <td>2016-10-06 21:16:17</td>\n",
       "      <td>Grades PreK-2</td>\n",
       "      <td>Literacy, Mathematics</td>\n",
       "      <td>Techie Kindergarteners</td>\n",
       "      <td>I work at a unique school filled with both ESL...</td>\n",
       "      <td>My students live in high poverty conditions wi...</td>\n",
       "      <td>NaN</td>\n",
       "      <td>NaN</td>\n",
       "      <td>My students need to engage in Reading and Math...</td>\n",
       "      <td>4</td>\n",
       "      <td>1</td>\n",
       "      <td>Literacy_Language Math_Science</td>\n",
       "    </tr>\n",
       "    <tr>\n",
       "      <th>4</th>\n",
       "      <td>172407</td>\n",
       "      <td>p104768</td>\n",
       "      <td>be1f7507a41f8479dc06f047086a39ec</td>\n",
       "      <td>Mrs.</td>\n",
       "      <td>TX</td>\n",
       "      <td>2016-07-11 01:10:09</td>\n",
       "      <td>Grades PreK-2</td>\n",
       "      <td>Mathematics</td>\n",
       "      <td>Interactive Math Tools</td>\n",
       "      <td>Our second grade classroom next year will be m...</td>\n",
       "      <td>For many students, math is a subject that does...</td>\n",
       "      <td>NaN</td>\n",
       "      <td>NaN</td>\n",
       "      <td>My students need hands on practice in mathemat...</td>\n",
       "      <td>1</td>\n",
       "      <td>1</td>\n",
       "      <td>Math_Science</td>\n",
       "    </tr>\n",
       "  </tbody>\n",
       "</table>\n",
       "</div>"
      ],
      "text/plain": [
       "   Unnamed: 0       id                        teacher_id teacher_prefix  \\\n",
       "0      160221  p253737  c90749f5d961ff158d4b4d1e7dc665fc           Mrs.   \n",
       "1      140945  p258326  897464ce9ddc600bced1151f324dd63a            Mr.   \n",
       "2       21895  p182444  3465aaf82da834c0582ebd0ef8040ca0            Ms.   \n",
       "3          45  p246581  f3cb9bffbba169bef1a77b243e620b60           Mrs.   \n",
       "4      172407  p104768  be1f7507a41f8479dc06f047086a39ec           Mrs.   \n",
       "\n",
       "  school_state project_submitted_datetime project_grade_category  \\\n",
       "0           IN        2016-12-05 13:43:57          Grades PreK-2   \n",
       "1           FL        2016-10-25 09:22:10             Grades 6-8   \n",
       "2           AZ        2016-08-31 12:03:56             Grades 6-8   \n",
       "3           KY        2016-10-06 21:16:17          Grades PreK-2   \n",
       "4           TX        2016-07-11 01:10:09          Grades PreK-2   \n",
       "\n",
       "      project_subject_subcategories  \\\n",
       "0                     ESL, Literacy   \n",
       "1  Civics & Government, Team Sports   \n",
       "2    Health & Wellness, Team Sports   \n",
       "3             Literacy, Mathematics   \n",
       "4                       Mathematics   \n",
       "\n",
       "                                       project_title  \\\n",
       "0   Educational Support for English Learners at Home   \n",
       "1              Wanted: Projector for Hungry Learners   \n",
       "2  Soccer Equipment for AWESOME Middle School Stu...   \n",
       "3                             Techie Kindergarteners   \n",
       "4                             Interactive Math Tools   \n",
       "\n",
       "                                     project_essay_1  \\\n",
       "0  My students are English learners that are work...   \n",
       "1  Our students arrive to our school eager to lea...   \n",
       "2  \\r\\n\\\"True champions aren't always the ones th...   \n",
       "3  I work at a unique school filled with both ESL...   \n",
       "4  Our second grade classroom next year will be m...   \n",
       "\n",
       "                                     project_essay_2 project_essay_3  \\\n",
       "0  \\\"The limits of your language are the limits o...             NaN   \n",
       "1  The projector we need for our school is very c...             NaN   \n",
       "2  The students on the campus come to school know...             NaN   \n",
       "3  My students live in high poverty conditions wi...             NaN   \n",
       "4  For many students, math is a subject that does...             NaN   \n",
       "\n",
       "  project_essay_4                           project_resource_summary  \\\n",
       "0             NaN  My students need opportunities to practice beg...   \n",
       "1             NaN  My students need a projector to help with view...   \n",
       "2             NaN  My students need shine guards, athletic socks,...   \n",
       "3             NaN  My students need to engage in Reading and Math...   \n",
       "4             NaN  My students need hands on practice in mathemat...   \n",
       "\n",
       "   teacher_number_of_previously_posted_projects  project_is_approved  \\\n",
       "0                                             0                    0   \n",
       "1                                             7                    1   \n",
       "2                                             1                    0   \n",
       "3                                             4                    1   \n",
       "4                                             1                    1   \n",
       "\n",
       "                 clean_categories  \n",
       "0               Literacy_Language  \n",
       "1    History_Civics Health_Sports  \n",
       "2                   Health_Sports  \n",
       "3  Literacy_Language Math_Science  \n",
       "4                    Math_Science  "
      ]
     },
     "execution_count": 7,
     "metadata": {},
     "output_type": "execute_result"
    }
   ],
   "source": [
    "catogories = list(project_data[\"project_subject_categories\"].values)\n",
    "\n",
    "# remove special characters from list of strings\n",
    "\n",
    "cat_list = []\n",
    "for i in catogories:\n",
    "    temp = \"\"\n",
    "    # consider we have text like this \"Math & Science, Warmth, Care & Hunger\"\n",
    "    for j in i.split(','): # it will split it in three parts [\"Math & Science\", \"Warmth\", \"Care & Hunger\"]\n",
    "        if 'The' in j.split(): # this will split each of the catogory based on space \"Math & Science\"=> \"Math\",\"&\", \"Science\"\n",
    "            j=j.replace('The','') # if we have the words \"The\" we are going to replace it with ''(i.e removing 'The')\n",
    "        j = j.replace(' ','') # we are placeing all the ' '(space) with ''(empty) ex:\"Math & Science\"=>\"Math&Science\"\n",
    "        temp+=j.strip()+\" \" #\" abc \".strip() will return \"abc\", remove the trailing spaces\n",
    "        temp = temp.replace('&','_') # we are replacing the & value into \n",
    "    cat_list.append(temp.strip())\n",
    "    \n",
    "project_data['clean_categories'] = cat_list\n",
    "project_data.drop(['project_subject_categories'], axis=1, inplace=True)\n",
    "\n",
    "from collections import Counter\n",
    "my_counter = Counter()\n",
    "for word in project_data['clean_categories'].values:\n",
    "    my_counter.update(word.split())\n",
    "\n",
    "cat_dict = dict(my_counter)\n",
    "sorted_cat_dict = dict(sorted(cat_dict.items(), key=lambda kv: kv[1]))\n",
    "print(sorted_cat_dict)\n",
    "\n",
    "project_data.head()"
   ]
  },
  {
   "cell_type": "markdown",
   "metadata": {},
   "source": [
    "## 1.3 preprocessing of `project_subject_subcategories`"
   ]
  },
  {
   "cell_type": "code",
   "execution_count": 8,
   "metadata": {},
   "outputs": [
    {
     "name": "stdout",
     "output_type": "stream",
     "text": [
      "{'Economics': 269, 'CommunityService': 441, 'FinancialLiteracy': 568, 'ParentInvolvement': 677, 'Extracurricular': 810, 'Civics_Government': 815, 'ForeignLanguages': 890, 'NutritionEducation': 1355, 'Warmth': 1388, 'Care_Hunger': 1388, 'SocialSciences': 1920, 'PerformingArts': 1961, 'CharacterEducation': 2065, 'TeamSports': 2192, 'Other': 2372, 'College_CareerPrep': 2568, 'Music': 3145, 'History_Geography': 3171, 'Health_LifeScience': 4235, 'EarlyDevelopment': 4254, 'ESL': 4367, 'Gym_Fitness': 4509, 'EnvironmentalScience': 5591, 'VisualArts': 6278, 'Health_Wellness': 10234, 'AppliedSciences': 10816, 'SpecialNeeds': 13642, 'Literature_Writing': 22179, 'Mathematics': 28074, 'Literacy': 33700}\n"
     ]
    },
    {
     "data": {
      "text/html": [
       "<div>\n",
       "<style scoped>\n",
       "    .dataframe tbody tr th:only-of-type {\n",
       "        vertical-align: middle;\n",
       "    }\n",
       "\n",
       "    .dataframe tbody tr th {\n",
       "        vertical-align: top;\n",
       "    }\n",
       "\n",
       "    .dataframe thead th {\n",
       "        text-align: right;\n",
       "    }\n",
       "</style>\n",
       "<table border=\"1\" class=\"dataframe\">\n",
       "  <thead>\n",
       "    <tr style=\"text-align: right;\">\n",
       "      <th></th>\n",
       "      <th>Unnamed: 0</th>\n",
       "      <th>id</th>\n",
       "      <th>teacher_id</th>\n",
       "      <th>teacher_prefix</th>\n",
       "      <th>school_state</th>\n",
       "      <th>project_submitted_datetime</th>\n",
       "      <th>project_grade_category</th>\n",
       "      <th>project_title</th>\n",
       "      <th>project_essay_1</th>\n",
       "      <th>project_essay_2</th>\n",
       "      <th>project_essay_3</th>\n",
       "      <th>project_essay_4</th>\n",
       "      <th>project_resource_summary</th>\n",
       "      <th>teacher_number_of_previously_posted_projects</th>\n",
       "      <th>project_is_approved</th>\n",
       "      <th>clean_categories</th>\n",
       "      <th>clean_subcategories</th>\n",
       "    </tr>\n",
       "  </thead>\n",
       "  <tbody>\n",
       "    <tr>\n",
       "      <th>0</th>\n",
       "      <td>160221</td>\n",
       "      <td>p253737</td>\n",
       "      <td>c90749f5d961ff158d4b4d1e7dc665fc</td>\n",
       "      <td>Mrs.</td>\n",
       "      <td>IN</td>\n",
       "      <td>2016-12-05 13:43:57</td>\n",
       "      <td>Grades PreK-2</td>\n",
       "      <td>Educational Support for English Learners at Home</td>\n",
       "      <td>My students are English learners that are work...</td>\n",
       "      <td>\\\"The limits of your language are the limits o...</td>\n",
       "      <td>NaN</td>\n",
       "      <td>NaN</td>\n",
       "      <td>My students need opportunities to practice beg...</td>\n",
       "      <td>0</td>\n",
       "      <td>0</td>\n",
       "      <td>Literacy_Language</td>\n",
       "      <td>ESL Literacy</td>\n",
       "    </tr>\n",
       "    <tr>\n",
       "      <th>1</th>\n",
       "      <td>140945</td>\n",
       "      <td>p258326</td>\n",
       "      <td>897464ce9ddc600bced1151f324dd63a</td>\n",
       "      <td>Mr.</td>\n",
       "      <td>FL</td>\n",
       "      <td>2016-10-25 09:22:10</td>\n",
       "      <td>Grades 6-8</td>\n",
       "      <td>Wanted: Projector for Hungry Learners</td>\n",
       "      <td>Our students arrive to our school eager to lea...</td>\n",
       "      <td>The projector we need for our school is very c...</td>\n",
       "      <td>NaN</td>\n",
       "      <td>NaN</td>\n",
       "      <td>My students need a projector to help with view...</td>\n",
       "      <td>7</td>\n",
       "      <td>1</td>\n",
       "      <td>History_Civics Health_Sports</td>\n",
       "      <td>Civics_Government TeamSports</td>\n",
       "    </tr>\n",
       "    <tr>\n",
       "      <th>2</th>\n",
       "      <td>21895</td>\n",
       "      <td>p182444</td>\n",
       "      <td>3465aaf82da834c0582ebd0ef8040ca0</td>\n",
       "      <td>Ms.</td>\n",
       "      <td>AZ</td>\n",
       "      <td>2016-08-31 12:03:56</td>\n",
       "      <td>Grades 6-8</td>\n",
       "      <td>Soccer Equipment for AWESOME Middle School Stu...</td>\n",
       "      <td>\\r\\n\\\"True champions aren't always the ones th...</td>\n",
       "      <td>The students on the campus come to school know...</td>\n",
       "      <td>NaN</td>\n",
       "      <td>NaN</td>\n",
       "      <td>My students need shine guards, athletic socks,...</td>\n",
       "      <td>1</td>\n",
       "      <td>0</td>\n",
       "      <td>Health_Sports</td>\n",
       "      <td>Health_Wellness TeamSports</td>\n",
       "    </tr>\n",
       "    <tr>\n",
       "      <th>3</th>\n",
       "      <td>45</td>\n",
       "      <td>p246581</td>\n",
       "      <td>f3cb9bffbba169bef1a77b243e620b60</td>\n",
       "      <td>Mrs.</td>\n",
       "      <td>KY</td>\n",
       "      <td>2016-10-06 21:16:17</td>\n",
       "      <td>Grades PreK-2</td>\n",
       "      <td>Techie Kindergarteners</td>\n",
       "      <td>I work at a unique school filled with both ESL...</td>\n",
       "      <td>My students live in high poverty conditions wi...</td>\n",
       "      <td>NaN</td>\n",
       "      <td>NaN</td>\n",
       "      <td>My students need to engage in Reading and Math...</td>\n",
       "      <td>4</td>\n",
       "      <td>1</td>\n",
       "      <td>Literacy_Language Math_Science</td>\n",
       "      <td>Literacy Mathematics</td>\n",
       "    </tr>\n",
       "    <tr>\n",
       "      <th>4</th>\n",
       "      <td>172407</td>\n",
       "      <td>p104768</td>\n",
       "      <td>be1f7507a41f8479dc06f047086a39ec</td>\n",
       "      <td>Mrs.</td>\n",
       "      <td>TX</td>\n",
       "      <td>2016-07-11 01:10:09</td>\n",
       "      <td>Grades PreK-2</td>\n",
       "      <td>Interactive Math Tools</td>\n",
       "      <td>Our second grade classroom next year will be m...</td>\n",
       "      <td>For many students, math is a subject that does...</td>\n",
       "      <td>NaN</td>\n",
       "      <td>NaN</td>\n",
       "      <td>My students need hands on practice in mathemat...</td>\n",
       "      <td>1</td>\n",
       "      <td>1</td>\n",
       "      <td>Math_Science</td>\n",
       "      <td>Mathematics</td>\n",
       "    </tr>\n",
       "  </tbody>\n",
       "</table>\n",
       "</div>"
      ],
      "text/plain": [
       "   Unnamed: 0       id                        teacher_id teacher_prefix  \\\n",
       "0      160221  p253737  c90749f5d961ff158d4b4d1e7dc665fc           Mrs.   \n",
       "1      140945  p258326  897464ce9ddc600bced1151f324dd63a            Mr.   \n",
       "2       21895  p182444  3465aaf82da834c0582ebd0ef8040ca0            Ms.   \n",
       "3          45  p246581  f3cb9bffbba169bef1a77b243e620b60           Mrs.   \n",
       "4      172407  p104768  be1f7507a41f8479dc06f047086a39ec           Mrs.   \n",
       "\n",
       "  school_state project_submitted_datetime project_grade_category  \\\n",
       "0           IN        2016-12-05 13:43:57          Grades PreK-2   \n",
       "1           FL        2016-10-25 09:22:10             Grades 6-8   \n",
       "2           AZ        2016-08-31 12:03:56             Grades 6-8   \n",
       "3           KY        2016-10-06 21:16:17          Grades PreK-2   \n",
       "4           TX        2016-07-11 01:10:09          Grades PreK-2   \n",
       "\n",
       "                                       project_title  \\\n",
       "0   Educational Support for English Learners at Home   \n",
       "1              Wanted: Projector for Hungry Learners   \n",
       "2  Soccer Equipment for AWESOME Middle School Stu...   \n",
       "3                             Techie Kindergarteners   \n",
       "4                             Interactive Math Tools   \n",
       "\n",
       "                                     project_essay_1  \\\n",
       "0  My students are English learners that are work...   \n",
       "1  Our students arrive to our school eager to lea...   \n",
       "2  \\r\\n\\\"True champions aren't always the ones th...   \n",
       "3  I work at a unique school filled with both ESL...   \n",
       "4  Our second grade classroom next year will be m...   \n",
       "\n",
       "                                     project_essay_2 project_essay_3  \\\n",
       "0  \\\"The limits of your language are the limits o...             NaN   \n",
       "1  The projector we need for our school is very c...             NaN   \n",
       "2  The students on the campus come to school know...             NaN   \n",
       "3  My students live in high poverty conditions wi...             NaN   \n",
       "4  For many students, math is a subject that does...             NaN   \n",
       "\n",
       "  project_essay_4                           project_resource_summary  \\\n",
       "0             NaN  My students need opportunities to practice beg...   \n",
       "1             NaN  My students need a projector to help with view...   \n",
       "2             NaN  My students need shine guards, athletic socks,...   \n",
       "3             NaN  My students need to engage in Reading and Math...   \n",
       "4             NaN  My students need hands on practice in mathemat...   \n",
       "\n",
       "   teacher_number_of_previously_posted_projects  project_is_approved  \\\n",
       "0                                             0                    0   \n",
       "1                                             7                    1   \n",
       "2                                             1                    0   \n",
       "3                                             4                    1   \n",
       "4                                             1                    1   \n",
       "\n",
       "                 clean_categories           clean_subcategories  \n",
       "0               Literacy_Language                  ESL Literacy  \n",
       "1    History_Civics Health_Sports  Civics_Government TeamSports  \n",
       "2                   Health_Sports    Health_Wellness TeamSports  \n",
       "3  Literacy_Language Math_Science          Literacy Mathematics  \n",
       "4                    Math_Science                   Mathematics  "
      ]
     },
     "execution_count": 8,
     "metadata": {},
     "output_type": "execute_result"
    }
   ],
   "source": [
    "sub_catogories = list(project_data['project_subject_subcategories'].values)\n",
    "# remove special characters from list of strings python: https://stackoverflow.com/a/47301924/4084039\n",
    "\n",
    "# https://www.geeksforgeeks.org/removing-stop-words-nltk-python/\n",
    "# https://stackoverflow.com/questions/23669024/how-to-strip-a-specific-word-from-a-string\n",
    "# https://stackoverflow.com/questions/8270092/remove-all-whitespace-in-a-string-in-python\n",
    "\n",
    "sub_cat_list = []\n",
    "for i in sub_catogories:\n",
    "    temp = \"\"\n",
    "    # consider we have text like this \"Math & Science, Warmth, Care & Hunger\"\n",
    "    for j in i.split(','): # it will split it in three parts [\"Math & Science\", \"Warmth\", \"Care & Hunger\"]\n",
    "        if 'The' in j.split(): # this will split each of the catogory based on space \"Math & Science\"=> \"Math\",\"&\", \"Science\"\n",
    "            j=j.replace('The','') # if we have the words \"The\" we are going to replace it with ''(i.e removing 'The')\n",
    "        j = j.replace(' ','') # we are placeing all the ' '(space) with ''(empty) ex:\"Math & Science\"=>\"Math&Science\"\n",
    "        temp +=j.strip()+\" \"#\" abc \".strip() will return \"abc\", remove the trailing spaces\n",
    "        temp = temp.replace('&','_')\n",
    "    sub_cat_list.append(temp.strip())\n",
    "\n",
    "project_data['clean_subcategories'] = sub_cat_list\n",
    "project_data.drop(['project_subject_subcategories'], axis=1, inplace=True)\n",
    "\n",
    "# count of all the words in corpus python: https://stackoverflow.com/a/22898595/4084039\n",
    "my_counter = Counter()\n",
    "for word in project_data['clean_subcategories'].values:\n",
    "    my_counter.update(word.split())\n",
    "    \n",
    "sub_cat_dict = dict(my_counter)\n",
    "sorted_sub_cat_dict = dict(sorted(sub_cat_dict.items(), key=lambda kv: kv[1]))\n",
    "\n",
    "print(sorted_sub_cat_dict)\n",
    "\n",
    "project_data.head()"
   ]
  },
  {
   "cell_type": "markdown",
   "metadata": {},
   "source": [
    "## 1.3 Text preprocessing"
   ]
  },
  {
   "cell_type": "markdown",
   "metadata": {},
   "source": [
    "# [1.3.1] Essays"
   ]
  },
  {
   "cell_type": "code",
   "execution_count": 9,
   "metadata": {},
   "outputs": [],
   "source": [
    "# merge two column text dataframe: \n",
    "project_data[\"essay\"] = project_data[\"project_essay_1\"].map(str) +\\\n",
    "                        project_data[\"project_essay_2\"].map(str) + \\\n",
    "                        project_data[\"project_essay_3\"].map(str) + \\\n",
    "                        project_data[\"project_essay_4\"].map(str)"
   ]
  },
  {
   "cell_type": "code",
   "execution_count": 10,
   "metadata": {},
   "outputs": [
    {
     "data": {
      "text/html": [
       "<div>\n",
       "<style scoped>\n",
       "    .dataframe tbody tr th:only-of-type {\n",
       "        vertical-align: middle;\n",
       "    }\n",
       "\n",
       "    .dataframe tbody tr th {\n",
       "        vertical-align: top;\n",
       "    }\n",
       "\n",
       "    .dataframe thead th {\n",
       "        text-align: right;\n",
       "    }\n",
       "</style>\n",
       "<table border=\"1\" class=\"dataframe\">\n",
       "  <thead>\n",
       "    <tr style=\"text-align: right;\">\n",
       "      <th></th>\n",
       "      <th>Unnamed: 0</th>\n",
       "      <th>id</th>\n",
       "      <th>teacher_id</th>\n",
       "      <th>teacher_prefix</th>\n",
       "      <th>school_state</th>\n",
       "      <th>project_submitted_datetime</th>\n",
       "      <th>project_grade_category</th>\n",
       "      <th>project_title</th>\n",
       "      <th>project_essay_1</th>\n",
       "      <th>project_essay_2</th>\n",
       "      <th>project_essay_3</th>\n",
       "      <th>project_essay_4</th>\n",
       "      <th>project_resource_summary</th>\n",
       "      <th>teacher_number_of_previously_posted_projects</th>\n",
       "      <th>project_is_approved</th>\n",
       "      <th>clean_categories</th>\n",
       "      <th>clean_subcategories</th>\n",
       "      <th>essay</th>\n",
       "    </tr>\n",
       "  </thead>\n",
       "  <tbody>\n",
       "    <tr>\n",
       "      <th>0</th>\n",
       "      <td>160221</td>\n",
       "      <td>p253737</td>\n",
       "      <td>c90749f5d961ff158d4b4d1e7dc665fc</td>\n",
       "      <td>Mrs.</td>\n",
       "      <td>IN</td>\n",
       "      <td>2016-12-05 13:43:57</td>\n",
       "      <td>Grades PreK-2</td>\n",
       "      <td>Educational Support for English Learners at Home</td>\n",
       "      <td>My students are English learners that are work...</td>\n",
       "      <td>\\\"The limits of your language are the limits o...</td>\n",
       "      <td>NaN</td>\n",
       "      <td>NaN</td>\n",
       "      <td>My students need opportunities to practice beg...</td>\n",
       "      <td>0</td>\n",
       "      <td>0</td>\n",
       "      <td>Literacy_Language</td>\n",
       "      <td>ESL Literacy</td>\n",
       "      <td>My students are English learners that are work...</td>\n",
       "    </tr>\n",
       "    <tr>\n",
       "      <th>1</th>\n",
       "      <td>140945</td>\n",
       "      <td>p258326</td>\n",
       "      <td>897464ce9ddc600bced1151f324dd63a</td>\n",
       "      <td>Mr.</td>\n",
       "      <td>FL</td>\n",
       "      <td>2016-10-25 09:22:10</td>\n",
       "      <td>Grades 6-8</td>\n",
       "      <td>Wanted: Projector for Hungry Learners</td>\n",
       "      <td>Our students arrive to our school eager to lea...</td>\n",
       "      <td>The projector we need for our school is very c...</td>\n",
       "      <td>NaN</td>\n",
       "      <td>NaN</td>\n",
       "      <td>My students need a projector to help with view...</td>\n",
       "      <td>7</td>\n",
       "      <td>1</td>\n",
       "      <td>History_Civics Health_Sports</td>\n",
       "      <td>Civics_Government TeamSports</td>\n",
       "      <td>Our students arrive to our school eager to lea...</td>\n",
       "    </tr>\n",
       "  </tbody>\n",
       "</table>\n",
       "</div>"
      ],
      "text/plain": [
       "   Unnamed: 0       id                        teacher_id teacher_prefix  \\\n",
       "0      160221  p253737  c90749f5d961ff158d4b4d1e7dc665fc           Mrs.   \n",
       "1      140945  p258326  897464ce9ddc600bced1151f324dd63a            Mr.   \n",
       "\n",
       "  school_state project_submitted_datetime project_grade_category  \\\n",
       "0           IN        2016-12-05 13:43:57          Grades PreK-2   \n",
       "1           FL        2016-10-25 09:22:10             Grades 6-8   \n",
       "\n",
       "                                      project_title  \\\n",
       "0  Educational Support for English Learners at Home   \n",
       "1             Wanted: Projector for Hungry Learners   \n",
       "\n",
       "                                     project_essay_1  \\\n",
       "0  My students are English learners that are work...   \n",
       "1  Our students arrive to our school eager to lea...   \n",
       "\n",
       "                                     project_essay_2 project_essay_3  \\\n",
       "0  \\\"The limits of your language are the limits o...             NaN   \n",
       "1  The projector we need for our school is very c...             NaN   \n",
       "\n",
       "  project_essay_4                           project_resource_summary  \\\n",
       "0             NaN  My students need opportunities to practice beg...   \n",
       "1             NaN  My students need a projector to help with view...   \n",
       "\n",
       "   teacher_number_of_previously_posted_projects  project_is_approved  \\\n",
       "0                                             0                    0   \n",
       "1                                             7                    1   \n",
       "\n",
       "               clean_categories           clean_subcategories  \\\n",
       "0             Literacy_Language                  ESL Literacy   \n",
       "1  History_Civics Health_Sports  Civics_Government TeamSports   \n",
       "\n",
       "                                               essay  \n",
       "0  My students are English learners that are work...  \n",
       "1  Our students arrive to our school eager to lea...  "
      ]
     },
     "execution_count": 10,
     "metadata": {},
     "output_type": "execute_result"
    }
   ],
   "source": [
    "project_data.head(2)"
   ]
  },
  {
   "cell_type": "code",
   "execution_count": 11,
   "metadata": {},
   "outputs": [
    {
     "name": "stdout",
     "output_type": "stream",
     "text": [
      "My students are English learners that are working on English as their second or third languages. We are a melting pot of refugees, immigrants, and native-born Americans bringing the gift of language to our school. \\r\\n\\r\\n We have over 24 languages represented in our English Learner program with students at every level of mastery.  We also have over 40 countries represented with the families within our school.  Each student brings a wealth of knowledge and experiences to us that open our eyes to new cultures, beliefs, and respect.\\\"The limits of your language are the limits of your world.\\\"-Ludwig Wittgenstein  Our English learner's have a strong support system at home that begs for more resources.  Many times our parents are learning to read and speak English along side of their children.  Sometimes this creates barriers for parents to be able to help their child learn phonetics, letter recognition, and other reading skills.\\r\\n\\r\\nBy providing these dvd's and players, students are able to continue their mastery of the English language even if no one at home is able to assist.  All families with students within the Level 1 proficiency status, will be a offered to be a part of this program.  These educational videos will be specially chosen by the English Learner Teacher and will be sent home regularly to watch.  The videos are to help the child develop early reading skills.\\r\\n\\r\\nParents that do not have access to a dvd player will have the opportunity to check out a dvd player to use for the year.  The plan is to use these videos and educational dvd's for the years to come for other EL students.\\r\\nnannan\n",
      "==================================================\n",
      "The 51 fifth grade students that will cycle through my classroom this year all love learning, at least most of the time. At our school, 97.3% of the students receive free or reduced price lunch. Of the 560 students, 97.3% are minority students. \\r\\nThe school has a vibrant community that loves to get together and celebrate. Around Halloween there is a whole school parade to show off the beautiful costumes that students wear. On Cinco de Mayo we put on a big festival with crafts made by the students, dances, and games. At the end of the year the school hosts a carnival to celebrate the hard work put in during the school year, with a dunk tank being the most popular activity.My students will use these five brightly colored Hokki stools in place of regular, stationary, 4-legged chairs. As I will only have a total of ten in the classroom and not enough for each student to have an individual one, they will be used in a variety of ways. During independent reading time they will be used as special chairs students will each use on occasion. I will utilize them in place of chairs at my small group tables during math and reading times. The rest of the day they will be used by the students who need the highest amount of movement in their life in order to stay focused on school.\\r\\n\\r\\nWhenever asked what the classroom is missing, my students always say more Hokki Stools. They can't get their fill of the 5 stools we already have. When the students are sitting in group with me on the Hokki Stools, they are always moving, but at the same time doing their work. Anytime the students get to pick where they can sit, the Hokki Stools are the first to be taken. There are always students who head over to the kidney table to get one of the stools who are disappointed as there are not enough of them. \\r\\n\\r\\nWe ask a lot of students to sit for 7 hours a day. The Hokki stools will be a compromise that allow my students to do desk work and move at the same time. These stools will help students to meet their 60 minutes a day of movement by allowing them to activate their core muscles for balance while they sit. For many of my students, these chairs will take away the barrier that exists in schools for a child who can't sit still.nannan\n",
      "==================================================\n",
      "How do you remember your days of school? Was it in a sterile environment with plain walls, rows of desks, and a teacher in front of the room? A typical day in our room is nothing like that. I work hard to create a warm inviting themed room for my students look forward to coming to each day.\\r\\n\\r\\nMy class is made up of 28 wonderfully unique boys and girls of mixed races in Arkansas.\\r\\nThey attend a Title I school, which means there is a high enough percentage of free and reduced-price lunch to qualify. Our school is an \\\"open classroom\\\" concept, which is very unique as there are no walls separating the classrooms. These 9 and 10 year-old students are very eager learners; they are like sponges, absorbing all the information and experiences and keep on wanting more.With these resources such as the comfy red throw pillows and the whimsical nautical hanging decor and the blue fish nets, I will be able to help create the mood in our classroom setting to be one of a themed nautical environment. Creating a classroom environment is very important in the success in each and every child's education. The nautical photo props will be used with each child as they step foot into our classroom for the first time on Meet the Teacher evening. I'll take pictures of each child with them, have them developed, and then hung in our classroom ready for their first day of 4th grade.  This kind gesture will set the tone before even the first day of school! The nautical thank you cards will be used throughout the year by the students as they create thank you cards to their team groups.\\r\\n\\r\\nYour generous donations will help me to help make our classroom a fun, inviting, learning environment from day one.\\r\\n\\r\\nIt costs lost of money out of my own pocket on resources to get our classroom ready. Please consider helping with this project to make our new school year a very successful one. Thank you!nannan\n",
      "==================================================\n",
      "My kindergarten students have varied disabilities ranging from speech and language delays, cognitive delays, gross/fine motor delays, to autism. They are eager beavers and always strive to work their hardest working past their limitations. \\r\\n\\r\\nThe materials we have are the ones I seek out for my students. I teach in a Title I school where most of the students receive free or reduced price lunch.  Despite their disabilities and limitations, my students love coming to school and come eager to learn and explore.Have you ever felt like you had ants in your pants and you needed to groove and move as you were in a meeting? This is how my kids feel all the time. The want to be able to move as they learn or so they say.Wobble chairs are the answer and I love then because they develop their core, which enhances gross motor and in Turn fine motor skills. \\r\\nThey also want to learn through games, my kids don't want to sit and do worksheets. They want to learn to count by jumping and playing. Physical engagement is the key to our success. The number toss and color and shape mats can make that happen. My students will forget they are doing work and just have the fun a 6 year old deserves.nannan\n",
      "==================================================\n"
     ]
    },
    {
     "name": "stdout",
     "output_type": "stream",
     "text": [
      "The mediocre teacher tells. The good teacher explains. The superior teacher demonstrates. The great teacher inspires. -William A. Ward\\r\\n\\r\\nMy school has 803 students which is makeup is 97.6% African-American, making up the largest segment of the student body. A typical school in Dallas is made up of 23.2% African-American students. Most of the students are on free or reduced lunch. We aren't receiving doctors, lawyers, or engineers children from rich backgrounds or neighborhoods. As an educator I am inspiring minds of young children and we focus not only on academics but one smart, effective, efficient, and disciplined students with good character.In our classroom we can utilize the Bluetooth for swift transitions during class. I use a speaker which doesn't amplify the sound enough to receive the message. Due to the volume of my speaker my students can't hear videos or books clearly and it isn't making the lessons as meaningful. But with the bluetooth speaker my students will be able to hear and I can stop, pause and replay it at any time.\\r\\nThe cart will allow me to have more room for storage of things that are needed for the day and has an extra part to it I can use.  The table top chart has all of the letter, words and pictures for students to learn about different letters and it is more accessible.nannan\n",
      "==================================================\n"
     ]
    }
   ],
   "source": [
    "# printing some random reviews\n",
    "print(project_data['essay'].values[0])\n",
    "print(\"=\"*50)\n",
    "print(project_data['essay'].values[150])\n",
    "print(\"=\"*50)\n",
    "print(project_data['essay'].values[1000])\n",
    "print(\"=\"*50)\n",
    "print(project_data['essay'].values[20000])\n",
    "print(\"=\"*50)\n",
    "print(project_data['essay'].values[99999])\n",
    "print(\"=\"*50)"
   ]
  },
  {
   "cell_type": "code",
   "execution_count": 12,
   "metadata": {},
   "outputs": [],
   "source": [
    "# https://stackoverflow.com/a/47091490/4084039\n",
    "import re\n",
    "\n",
    "def decontracted(phrase):\n",
    "    # specific\n",
    "    phrase = re.sub(r\"won't\", \"will not\", phrase)\n",
    "    phrase = re.sub(r\"can\\'t\", \"can not\", phrase)\n",
    "\n",
    "    # general\n",
    "    phrase = re.sub(r\"n\\'t\", \" not\", phrase)\n",
    "    phrase = re.sub(r\"\\'re\", \" are\", phrase)\n",
    "    phrase = re.sub(r\"\\'s\", \" is\", phrase)\n",
    "    phrase = re.sub(r\"\\'d\", \" would\", phrase)\n",
    "    phrase = re.sub(r\"\\'ll\", \" will\", phrase)\n",
    "    phrase = re.sub(r\"\\'t\", \" not\", phrase)\n",
    "    phrase = re.sub(r\"\\'ve\", \" have\", phrase)\n",
    "    phrase = re.sub(r\"\\'m\", \" am\", phrase)\n",
    "    return phrase"
   ]
  },
  {
   "cell_type": "code",
   "execution_count": 13,
   "metadata": {},
   "outputs": [
    {
     "name": "stdout",
     "output_type": "stream",
     "text": [
      "My kindergarten students have varied disabilities ranging from speech and language delays, cognitive delays, gross/fine motor delays, to autism. They are eager beavers and always strive to work their hardest working past their limitations. \\r\\n\\r\\nThe materials we have are the ones I seek out for my students. I teach in a Title I school where most of the students receive free or reduced price lunch.  Despite their disabilities and limitations, my students love coming to school and come eager to learn and explore.Have you ever felt like you had ants in your pants and you needed to groove and move as you were in a meeting? This is how my kids feel all the time. The want to be able to move as they learn or so they say.Wobble chairs are the answer and I love then because they develop their core, which enhances gross motor and in Turn fine motor skills. \\r\\nThey also want to learn through games, my kids do not want to sit and do worksheets. They want to learn to count by jumping and playing. Physical engagement is the key to our success. The number toss and color and shape mats can make that happen. My students will forget they are doing work and just have the fun a 6 year old deserves.nannan\n",
      "==================================================\n"
     ]
    }
   ],
   "source": [
    "sent = decontracted(project_data['essay'].values[20000])\n",
    "print(sent)\n",
    "print(\"=\"*50)"
   ]
  },
  {
   "cell_type": "code",
   "execution_count": 14,
   "metadata": {},
   "outputs": [
    {
     "name": "stdout",
     "output_type": "stream",
     "text": [
      "My kindergarten students have varied disabilities ranging from speech and language delays, cognitive delays, gross/fine motor delays, to autism. They are eager beavers and always strive to work their hardest working past their limitations.     The materials we have are the ones I seek out for my students. I teach in a Title I school where most of the students receive free or reduced price lunch.  Despite their disabilities and limitations, my students love coming to school and come eager to learn and explore.Have you ever felt like you had ants in your pants and you needed to groove and move as you were in a meeting? This is how my kids feel all the time. The want to be able to move as they learn or so they say.Wobble chairs are the answer and I love then because they develop their core, which enhances gross motor and in Turn fine motor skills.   They also want to learn through games, my kids do not want to sit and do worksheets. They want to learn to count by jumping and playing. Physical engagement is the key to our success. The number toss and color and shape mats can make that happen. My students will forget they are doing work and just have the fun a 6 year old deserves.nannan\n"
     ]
    }
   ],
   "source": [
    "# \\r \\n \\t remove from string python: http://texthandler.com/info/remove-line-breaks-python/\n",
    "sent = sent.replace('\\\\r', ' ')\n",
    "sent = sent.replace('\\\\\"', ' ')\n",
    "sent = sent.replace('\\\\n', ' ')\n",
    "print(sent)"
   ]
  },
  {
   "cell_type": "code",
   "execution_count": 15,
   "metadata": {},
   "outputs": [
    {
     "name": "stdout",
     "output_type": "stream",
     "text": [
      "My kindergarten students have varied disabilities ranging from speech and language delays cognitive delays gross fine motor delays to autism They are eager beavers and always strive to work their hardest working past their limitations The materials we have are the ones I seek out for my students I teach in a Title I school where most of the students receive free or reduced price lunch Despite their disabilities and limitations my students love coming to school and come eager to learn and explore Have you ever felt like you had ants in your pants and you needed to groove and move as you were in a meeting This is how my kids feel all the time The want to be able to move as they learn or so they say Wobble chairs are the answer and I love then because they develop their core which enhances gross motor and in Turn fine motor skills They also want to learn through games my kids do not want to sit and do worksheets They want to learn to count by jumping and playing Physical engagement is the key to our success The number toss and color and shape mats can make that happen My students will forget they are doing work and just have the fun a 6 year old deserves nannan\n"
     ]
    }
   ],
   "source": [
    "#remove spacial character: https://stackoverflow.com/a/5843547/4084039\n",
    "sent = re.sub('[^A-Za-z0-9]+', ' ', sent)\n",
    "print(sent)"
   ]
  },
  {
   "cell_type": "code",
   "execution_count": 16,
   "metadata": {},
   "outputs": [],
   "source": [
    "# https://gist.github.com/sebleier/554280\n",
    "# we are removing the words from the stop words list: 'no', 'nor', 'not'\n",
    "stopwords= ['i', 'me', 'my', 'myself', 'we', 'our', 'ours', 'ourselves', 'you', \"you're\", \"you've\",\\\n",
    "            \"you'll\", \"you'd\", 'your', 'yours', 'yourself', 'yourselves', 'he', 'him', 'his', 'himself', \\\n",
    "            'she', \"she's\", 'her', 'hers', 'herself', 'it', \"it's\", 'its', 'itself', 'they', 'them', 'their',\\\n",
    "            'theirs', 'themselves', 'what', 'which', 'who', 'whom', 'this', 'that', \"that'll\", 'these', 'those', \\\n",
    "            'am', 'is', 'are', 'was', 'were', 'be', 'been', 'being', 'have', 'has', 'had', 'having', 'do', 'does', \\\n",
    "            'did', 'doing', 'a', 'an', 'the', 'and', 'but', 'if', 'or', 'because', 'as', 'until', 'while', 'of', \\\n",
    "            'at', 'by', 'for', 'with', 'about', 'against', 'between', 'into', 'through', 'during', 'before', 'after',\\\n",
    "            'above', 'below', 'to', 'from', 'up', 'down', 'in', 'out', 'on', 'off', 'over', 'under', 'again', 'further',\\\n",
    "            'then', 'once', 'here', 'there', 'when', 'where', 'why', 'how', 'all', 'any', 'both', 'each', 'few', 'more',\\\n",
    "            'most', 'other', 'some', 'such', 'only', 'own', 'same', 'so', 'than', 'too', 'very', \\\n",
    "            's', 't', 'can', 'will', 'just', 'don', \"don't\", 'should', \"should've\", 'now', 'd', 'll', 'm', 'o', 're', \\\n",
    "            've', 'y', 'ain', 'aren', \"aren't\", 'couldn', \"couldn't\", 'didn', \"didn't\", 'doesn', \"doesn't\", 'hadn',\\\n",
    "            \"hadn't\", 'hasn', \"hasn't\", 'haven', \"haven't\", 'isn', \"isn't\", 'ma', 'mightn', \"mightn't\", 'mustn',\\\n",
    "            \"mustn't\", 'needn', \"needn't\", 'shan', \"shan't\", 'shouldn', \"shouldn't\", 'wasn', \"wasn't\", 'weren', \"weren't\", \\\n",
    "            'won', \"won't\", 'wouldn', \"wouldn't\"]"
   ]
  },
  {
   "cell_type": "code",
   "execution_count": 17,
   "metadata": {},
   "outputs": [
    {
     "name": "stderr",
     "output_type": "stream",
     "text": [
      "100%|██████████| 109248/109248 [00:53<00:00, 2033.94it/s]\n"
     ]
    }
   ],
   "source": [
    "# Combining all the above stundents \n",
    "from tqdm import tqdm\n",
    "preprocessed_essays = []\n",
    "# tqdm is for printing the status bar\n",
    "for sentance in tqdm(project_data['essay'].values):\n",
    "    sent = decontracted(sentance)\n",
    "    sent = sent.replace('\\\\r', ' ')\n",
    "    sent = sent.replace('\\\\\"', ' ')\n",
    "    sent = sent.replace('\\\\n', ' ')\n",
    "    sent = re.sub('[^A-Za-z0-9]+', ' ', sent)\n",
    "    # https://gist.github.com/sebleier/554280\n",
    "    sent = ' '.join(e for e in sent.split() if e not in stopwords)\n",
    "    preprocessed_essays.append(sent.lower().strip())"
   ]
  },
  {
   "cell_type": "code",
   "execution_count": 18,
   "metadata": {},
   "outputs": [
    {
     "data": {
      "text/html": [
       "<div>\n",
       "<style scoped>\n",
       "    .dataframe tbody tr th:only-of-type {\n",
       "        vertical-align: middle;\n",
       "    }\n",
       "\n",
       "    .dataframe tbody tr th {\n",
       "        vertical-align: top;\n",
       "    }\n",
       "\n",
       "    .dataframe thead th {\n",
       "        text-align: right;\n",
       "    }\n",
       "</style>\n",
       "<table border=\"1\" class=\"dataframe\">\n",
       "  <thead>\n",
       "    <tr style=\"text-align: right;\">\n",
       "      <th></th>\n",
       "      <th>Unnamed: 0</th>\n",
       "      <th>id</th>\n",
       "      <th>teacher_id</th>\n",
       "      <th>teacher_prefix</th>\n",
       "      <th>school_state</th>\n",
       "      <th>project_submitted_datetime</th>\n",
       "      <th>project_grade_category</th>\n",
       "      <th>project_title</th>\n",
       "      <th>project_essay_1</th>\n",
       "      <th>project_essay_2</th>\n",
       "      <th>project_essay_3</th>\n",
       "      <th>project_essay_4</th>\n",
       "      <th>project_resource_summary</th>\n",
       "      <th>teacher_number_of_previously_posted_projects</th>\n",
       "      <th>project_is_approved</th>\n",
       "      <th>clean_categories</th>\n",
       "      <th>clean_subcategories</th>\n",
       "      <th>essay</th>\n",
       "      <th>cleaned_essays</th>\n",
       "    </tr>\n",
       "  </thead>\n",
       "  <tbody>\n",
       "    <tr>\n",
       "      <th>0</th>\n",
       "      <td>160221</td>\n",
       "      <td>p253737</td>\n",
       "      <td>c90749f5d961ff158d4b4d1e7dc665fc</td>\n",
       "      <td>Mrs.</td>\n",
       "      <td>IN</td>\n",
       "      <td>2016-12-05 13:43:57</td>\n",
       "      <td>Grades PreK-2</td>\n",
       "      <td>Educational Support for English Learners at Home</td>\n",
       "      <td>My students are English learners that are work...</td>\n",
       "      <td>\\\"The limits of your language are the limits o...</td>\n",
       "      <td>NaN</td>\n",
       "      <td>NaN</td>\n",
       "      <td>My students need opportunities to practice beg...</td>\n",
       "      <td>0</td>\n",
       "      <td>0</td>\n",
       "      <td>Literacy_Language</td>\n",
       "      <td>ESL Literacy</td>\n",
       "      <td>My students are English learners that are work...</td>\n",
       "      <td>my students english learners working english s...</td>\n",
       "    </tr>\n",
       "    <tr>\n",
       "      <th>1</th>\n",
       "      <td>140945</td>\n",
       "      <td>p258326</td>\n",
       "      <td>897464ce9ddc600bced1151f324dd63a</td>\n",
       "      <td>Mr.</td>\n",
       "      <td>FL</td>\n",
       "      <td>2016-10-25 09:22:10</td>\n",
       "      <td>Grades 6-8</td>\n",
       "      <td>Wanted: Projector for Hungry Learners</td>\n",
       "      <td>Our students arrive to our school eager to lea...</td>\n",
       "      <td>The projector we need for our school is very c...</td>\n",
       "      <td>NaN</td>\n",
       "      <td>NaN</td>\n",
       "      <td>My students need a projector to help with view...</td>\n",
       "      <td>7</td>\n",
       "      <td>1</td>\n",
       "      <td>History_Civics Health_Sports</td>\n",
       "      <td>Civics_Government TeamSports</td>\n",
       "      <td>Our students arrive to our school eager to lea...</td>\n",
       "      <td>our students arrive school eager learn they po...</td>\n",
       "    </tr>\n",
       "    <tr>\n",
       "      <th>2</th>\n",
       "      <td>21895</td>\n",
       "      <td>p182444</td>\n",
       "      <td>3465aaf82da834c0582ebd0ef8040ca0</td>\n",
       "      <td>Ms.</td>\n",
       "      <td>AZ</td>\n",
       "      <td>2016-08-31 12:03:56</td>\n",
       "      <td>Grades 6-8</td>\n",
       "      <td>Soccer Equipment for AWESOME Middle School Stu...</td>\n",
       "      <td>\\r\\n\\\"True champions aren't always the ones th...</td>\n",
       "      <td>The students on the campus come to school know...</td>\n",
       "      <td>NaN</td>\n",
       "      <td>NaN</td>\n",
       "      <td>My students need shine guards, athletic socks,...</td>\n",
       "      <td>1</td>\n",
       "      <td>0</td>\n",
       "      <td>Health_Sports</td>\n",
       "      <td>Health_Wellness TeamSports</td>\n",
       "      <td>\\r\\n\\\"True champions aren't always the ones th...</td>\n",
       "      <td>true champions not always ones win guts by mia...</td>\n",
       "    </tr>\n",
       "  </tbody>\n",
       "</table>\n",
       "</div>"
      ],
      "text/plain": [
       "   Unnamed: 0       id                        teacher_id teacher_prefix  \\\n",
       "0      160221  p253737  c90749f5d961ff158d4b4d1e7dc665fc           Mrs.   \n",
       "1      140945  p258326  897464ce9ddc600bced1151f324dd63a            Mr.   \n",
       "2       21895  p182444  3465aaf82da834c0582ebd0ef8040ca0            Ms.   \n",
       "\n",
       "  school_state project_submitted_datetime project_grade_category  \\\n",
       "0           IN        2016-12-05 13:43:57          Grades PreK-2   \n",
       "1           FL        2016-10-25 09:22:10             Grades 6-8   \n",
       "2           AZ        2016-08-31 12:03:56             Grades 6-8   \n",
       "\n",
       "                                       project_title  \\\n",
       "0   Educational Support for English Learners at Home   \n",
       "1              Wanted: Projector for Hungry Learners   \n",
       "2  Soccer Equipment for AWESOME Middle School Stu...   \n",
       "\n",
       "                                     project_essay_1  \\\n",
       "0  My students are English learners that are work...   \n",
       "1  Our students arrive to our school eager to lea...   \n",
       "2  \\r\\n\\\"True champions aren't always the ones th...   \n",
       "\n",
       "                                     project_essay_2 project_essay_3  \\\n",
       "0  \\\"The limits of your language are the limits o...             NaN   \n",
       "1  The projector we need for our school is very c...             NaN   \n",
       "2  The students on the campus come to school know...             NaN   \n",
       "\n",
       "  project_essay_4                           project_resource_summary  \\\n",
       "0             NaN  My students need opportunities to practice beg...   \n",
       "1             NaN  My students need a projector to help with view...   \n",
       "2             NaN  My students need shine guards, athletic socks,...   \n",
       "\n",
       "   teacher_number_of_previously_posted_projects  project_is_approved  \\\n",
       "0                                             0                    0   \n",
       "1                                             7                    1   \n",
       "2                                             1                    0   \n",
       "\n",
       "               clean_categories           clean_subcategories  \\\n",
       "0             Literacy_Language                  ESL Literacy   \n",
       "1  History_Civics Health_Sports  Civics_Government TeamSports   \n",
       "2                 Health_Sports    Health_Wellness TeamSports   \n",
       "\n",
       "                                               essay  \\\n",
       "0  My students are English learners that are work...   \n",
       "1  Our students arrive to our school eager to lea...   \n",
       "2  \\r\\n\\\"True champions aren't always the ones th...   \n",
       "\n",
       "                                      cleaned_essays  \n",
       "0  my students english learners working english s...  \n",
       "1  our students arrive school eager learn they po...  \n",
       "2  true champions not always ones win guts by mia...  "
      ]
     },
     "execution_count": 18,
     "metadata": {},
     "output_type": "execute_result"
    }
   ],
   "source": [
    "# Merging preprocessed_essays in project_data\n",
    "\n",
    "project_data['cleaned_essays'] = preprocessed_essays\n",
    "\n",
    "project_data.head(3)"
   ]
  },
  {
   "cell_type": "markdown",
   "metadata": {},
   "source": [
    "# [1.3.2] Title"
   ]
  },
  {
   "cell_type": "code",
   "execution_count": 19,
   "metadata": {},
   "outputs": [
    {
     "name": "stderr",
     "output_type": "stream",
     "text": [
      "100%|██████████| 109248/109248 [00:03<00:00, 36212.55it/s]\n"
     ]
    }
   ],
   "source": [
    "\n",
    "\n",
    "# Data preprocessing on title text\n",
    "from tqdm import tqdm\n",
    "import re\n",
    "import string\n",
    "from bs4 import BeautifulSoup\n",
    "preprocessed_title_text = []\n",
    "# tqdm is for printing the status bar\n",
    "for sentance in tqdm(project_data['project_title'].values):\n",
    "    sent = decontracted(sentance)\n",
    "    sent = sent.replace('\\\\r', ' ')\n",
    "    sent = sent.replace('\\\\\"', ' ')\n",
    "    sent = sent.replace('\\\\n', ' ')\n",
    "    sent = re.sub('[^A-Za-z0-9]+', ' ', sent)\n",
    "    sent = re.sub(\"\\S*\\d\\S*\", \"\", sent).strip()\n",
    "    # https://gist.github.com/sebleier/554280\n",
    "    sent = ' '.join(e for e in sent.split() if e not in stopwords)\n",
    "    preprocessed_title_text.append(sent.lower().strip())"
   ]
  },
  {
   "cell_type": "code",
   "execution_count": 20,
   "metadata": {},
   "outputs": [
    {
     "data": {
      "text/html": [
       "<div>\n",
       "<style scoped>\n",
       "    .dataframe tbody tr th:only-of-type {\n",
       "        vertical-align: middle;\n",
       "    }\n",
       "\n",
       "    .dataframe tbody tr th {\n",
       "        vertical-align: top;\n",
       "    }\n",
       "\n",
       "    .dataframe thead th {\n",
       "        text-align: right;\n",
       "    }\n",
       "</style>\n",
       "<table border=\"1\" class=\"dataframe\">\n",
       "  <thead>\n",
       "    <tr style=\"text-align: right;\">\n",
       "      <th></th>\n",
       "      <th>Unnamed: 0</th>\n",
       "      <th>id</th>\n",
       "      <th>teacher_id</th>\n",
       "      <th>teacher_prefix</th>\n",
       "      <th>school_state</th>\n",
       "      <th>project_submitted_datetime</th>\n",
       "      <th>project_grade_category</th>\n",
       "      <th>project_title</th>\n",
       "      <th>project_essay_1</th>\n",
       "      <th>project_essay_2</th>\n",
       "      <th>project_essay_3</th>\n",
       "      <th>project_essay_4</th>\n",
       "      <th>project_resource_summary</th>\n",
       "      <th>teacher_number_of_previously_posted_projects</th>\n",
       "      <th>project_is_approved</th>\n",
       "      <th>clean_categories</th>\n",
       "      <th>clean_subcategories</th>\n",
       "      <th>essay</th>\n",
       "      <th>cleaned_essays</th>\n",
       "      <th>cleaned_title_text</th>\n",
       "    </tr>\n",
       "  </thead>\n",
       "  <tbody>\n",
       "    <tr>\n",
       "      <th>0</th>\n",
       "      <td>160221</td>\n",
       "      <td>p253737</td>\n",
       "      <td>c90749f5d961ff158d4b4d1e7dc665fc</td>\n",
       "      <td>Mrs.</td>\n",
       "      <td>IN</td>\n",
       "      <td>2016-12-05 13:43:57</td>\n",
       "      <td>Grades PreK-2</td>\n",
       "      <td>Educational Support for English Learners at Home</td>\n",
       "      <td>My students are English learners that are work...</td>\n",
       "      <td>\\\"The limits of your language are the limits o...</td>\n",
       "      <td>NaN</td>\n",
       "      <td>NaN</td>\n",
       "      <td>My students need opportunities to practice beg...</td>\n",
       "      <td>0</td>\n",
       "      <td>0</td>\n",
       "      <td>Literacy_Language</td>\n",
       "      <td>ESL Literacy</td>\n",
       "      <td>My students are English learners that are work...</td>\n",
       "      <td>my students english learners working english s...</td>\n",
       "      <td>educational support english learners home</td>\n",
       "    </tr>\n",
       "    <tr>\n",
       "      <th>1</th>\n",
       "      <td>140945</td>\n",
       "      <td>p258326</td>\n",
       "      <td>897464ce9ddc600bced1151f324dd63a</td>\n",
       "      <td>Mr.</td>\n",
       "      <td>FL</td>\n",
       "      <td>2016-10-25 09:22:10</td>\n",
       "      <td>Grades 6-8</td>\n",
       "      <td>Wanted: Projector for Hungry Learners</td>\n",
       "      <td>Our students arrive to our school eager to lea...</td>\n",
       "      <td>The projector we need for our school is very c...</td>\n",
       "      <td>NaN</td>\n",
       "      <td>NaN</td>\n",
       "      <td>My students need a projector to help with view...</td>\n",
       "      <td>7</td>\n",
       "      <td>1</td>\n",
       "      <td>History_Civics Health_Sports</td>\n",
       "      <td>Civics_Government TeamSports</td>\n",
       "      <td>Our students arrive to our school eager to lea...</td>\n",
       "      <td>our students arrive school eager learn they po...</td>\n",
       "      <td>wanted projector hungry learners</td>\n",
       "    </tr>\n",
       "  </tbody>\n",
       "</table>\n",
       "</div>"
      ],
      "text/plain": [
       "   Unnamed: 0       id                        teacher_id teacher_prefix  \\\n",
       "0      160221  p253737  c90749f5d961ff158d4b4d1e7dc665fc           Mrs.   \n",
       "1      140945  p258326  897464ce9ddc600bced1151f324dd63a            Mr.   \n",
       "\n",
       "  school_state project_submitted_datetime project_grade_category  \\\n",
       "0           IN        2016-12-05 13:43:57          Grades PreK-2   \n",
       "1           FL        2016-10-25 09:22:10             Grades 6-8   \n",
       "\n",
       "                                      project_title  \\\n",
       "0  Educational Support for English Learners at Home   \n",
       "1             Wanted: Projector for Hungry Learners   \n",
       "\n",
       "                                     project_essay_1  \\\n",
       "0  My students are English learners that are work...   \n",
       "1  Our students arrive to our school eager to lea...   \n",
       "\n",
       "                                     project_essay_2 project_essay_3  \\\n",
       "0  \\\"The limits of your language are the limits o...             NaN   \n",
       "1  The projector we need for our school is very c...             NaN   \n",
       "\n",
       "  project_essay_4                           project_resource_summary  \\\n",
       "0             NaN  My students need opportunities to practice beg...   \n",
       "1             NaN  My students need a projector to help with view...   \n",
       "\n",
       "   teacher_number_of_previously_posted_projects  project_is_approved  \\\n",
       "0                                             0                    0   \n",
       "1                                             7                    1   \n",
       "\n",
       "               clean_categories           clean_subcategories  \\\n",
       "0             Literacy_Language                  ESL Literacy   \n",
       "1  History_Civics Health_Sports  Civics_Government TeamSports   \n",
       "\n",
       "                                               essay  \\\n",
       "0  My students are English learners that are work...   \n",
       "1  Our students arrive to our school eager to lea...   \n",
       "\n",
       "                                      cleaned_essays  \\\n",
       "0  my students english learners working english s...   \n",
       "1  our students arrive school eager learn they po...   \n",
       "\n",
       "                          cleaned_title_text  \n",
       "0  educational support english learners home  \n",
       "1           wanted projector hungry learners  "
      ]
     },
     "execution_count": 20,
     "metadata": {},
     "output_type": "execute_result"
    }
   ],
   "source": [
    "project_data = pd.DataFrame(project_data)\n",
    "project_data['cleaned_title_text'] = preprocessed_title_text\n",
    "\n",
    "project_data.head(2)"
   ]
  },
  {
   "cell_type": "markdown",
   "metadata": {},
   "source": [
    "# [1.4] Process Resource Data"
   ]
  },
  {
   "cell_type": "code",
   "execution_count": 21,
   "metadata": {},
   "outputs": [
    {
     "data": {
      "text/html": [
       "<div>\n",
       "<style scoped>\n",
       "    .dataframe tbody tr th:only-of-type {\n",
       "        vertical-align: middle;\n",
       "    }\n",
       "\n",
       "    .dataframe tbody tr th {\n",
       "        vertical-align: top;\n",
       "    }\n",
       "\n",
       "    .dataframe thead th {\n",
       "        text-align: right;\n",
       "    }\n",
       "</style>\n",
       "<table border=\"1\" class=\"dataframe\">\n",
       "  <thead>\n",
       "    <tr style=\"text-align: right;\">\n",
       "      <th></th>\n",
       "      <th>id</th>\n",
       "      <th>description</th>\n",
       "      <th>quantity</th>\n",
       "      <th>price</th>\n",
       "    </tr>\n",
       "  </thead>\n",
       "  <tbody>\n",
       "    <tr>\n",
       "      <th>0</th>\n",
       "      <td>p233245</td>\n",
       "      <td>LC652 - Lakeshore Double-Space Mobile Drying Rack</td>\n",
       "      <td>1</td>\n",
       "      <td>149.00</td>\n",
       "    </tr>\n",
       "    <tr>\n",
       "      <th>1</th>\n",
       "      <td>p069063</td>\n",
       "      <td>Bouncy Bands for Desks (Blue support pipes)</td>\n",
       "      <td>3</td>\n",
       "      <td>14.95</td>\n",
       "    </tr>\n",
       "  </tbody>\n",
       "</table>\n",
       "</div>"
      ],
      "text/plain": [
       "        id                                        description  quantity  \\\n",
       "0  p233245  LC652 - Lakeshore Double-Space Mobile Drying Rack         1   \n",
       "1  p069063        Bouncy Bands for Desks (Blue support pipes)         3   \n",
       "\n",
       "    price  \n",
       "0  149.00  \n",
       "1   14.95  "
      ]
     },
     "execution_count": 21,
     "metadata": {},
     "output_type": "execute_result"
    }
   ],
   "source": [
    "# we get the cost of the project using resource.csv file\n",
    "resource_data.head(2)"
   ]
  },
  {
   "cell_type": "code",
   "execution_count": 22,
   "metadata": {},
   "outputs": [
    {
     "data": {
      "text/html": [
       "<div>\n",
       "<style scoped>\n",
       "    .dataframe tbody tr th:only-of-type {\n",
       "        vertical-align: middle;\n",
       "    }\n",
       "\n",
       "    .dataframe tbody tr th {\n",
       "        vertical-align: top;\n",
       "    }\n",
       "\n",
       "    .dataframe thead th {\n",
       "        text-align: right;\n",
       "    }\n",
       "</style>\n",
       "<table border=\"1\" class=\"dataframe\">\n",
       "  <thead>\n",
       "    <tr style=\"text-align: right;\">\n",
       "      <th></th>\n",
       "      <th>id</th>\n",
       "      <th>price</th>\n",
       "      <th>quantity</th>\n",
       "    </tr>\n",
       "  </thead>\n",
       "  <tbody>\n",
       "    <tr>\n",
       "      <th>0</th>\n",
       "      <td>p000001</td>\n",
       "      <td>459.56</td>\n",
       "      <td>7</td>\n",
       "    </tr>\n",
       "    <tr>\n",
       "      <th>1</th>\n",
       "      <td>p000002</td>\n",
       "      <td>515.89</td>\n",
       "      <td>21</td>\n",
       "    </tr>\n",
       "  </tbody>\n",
       "</table>\n",
       "</div>"
      ],
      "text/plain": [
       "        id   price  quantity\n",
       "0  p000001  459.56         7\n",
       "1  p000002  515.89        21"
      ]
     },
     "execution_count": 22,
     "metadata": {},
     "output_type": "execute_result"
    }
   ],
   "source": [
    "price_data = resource_data.groupby('id').agg({'price':'sum', 'quantity':'sum'}).reset_index()\n",
    "price_data.head(2)"
   ]
  },
  {
   "cell_type": "code",
   "execution_count": 23,
   "metadata": {},
   "outputs": [
    {
     "data": {
      "text/plain": [
       "False"
      ]
     },
     "execution_count": 23,
     "metadata": {},
     "output_type": "execute_result"
    }
   ],
   "source": [
    "# Check for Null values in price data\n",
    "price_data.isnull().any().any()"
   ]
  },
  {
   "cell_type": "code",
   "execution_count": 24,
   "metadata": {},
   "outputs": [
    {
     "data": {
      "text/html": [
       "<div>\n",
       "<style scoped>\n",
       "    .dataframe tbody tr th:only-of-type {\n",
       "        vertical-align: middle;\n",
       "    }\n",
       "\n",
       "    .dataframe tbody tr th {\n",
       "        vertical-align: top;\n",
       "    }\n",
       "\n",
       "    .dataframe thead th {\n",
       "        text-align: right;\n",
       "    }\n",
       "</style>\n",
       "<table border=\"1\" class=\"dataframe\">\n",
       "  <thead>\n",
       "    <tr style=\"text-align: right;\">\n",
       "      <th></th>\n",
       "      <th>Unnamed: 0</th>\n",
       "      <th>id</th>\n",
       "      <th>teacher_id</th>\n",
       "      <th>teacher_prefix</th>\n",
       "      <th>school_state</th>\n",
       "      <th>project_submitted_datetime</th>\n",
       "      <th>project_grade_category</th>\n",
       "      <th>project_title</th>\n",
       "      <th>project_essay_1</th>\n",
       "      <th>project_essay_2</th>\n",
       "      <th>project_essay_3</th>\n",
       "      <th>project_essay_4</th>\n",
       "      <th>project_resource_summary</th>\n",
       "      <th>teacher_number_of_previously_posted_projects</th>\n",
       "      <th>project_is_approved</th>\n",
       "      <th>clean_categories</th>\n",
       "      <th>clean_subcategories</th>\n",
       "      <th>essay</th>\n",
       "      <th>cleaned_essays</th>\n",
       "      <th>cleaned_title_text</th>\n",
       "    </tr>\n",
       "  </thead>\n",
       "  <tbody>\n",
       "    <tr>\n",
       "      <th>0</th>\n",
       "      <td>160221</td>\n",
       "      <td>p253737</td>\n",
       "      <td>c90749f5d961ff158d4b4d1e7dc665fc</td>\n",
       "      <td>Mrs.</td>\n",
       "      <td>IN</td>\n",
       "      <td>2016-12-05 13:43:57</td>\n",
       "      <td>Grades PreK-2</td>\n",
       "      <td>Educational Support for English Learners at Home</td>\n",
       "      <td>My students are English learners that are work...</td>\n",
       "      <td>\\\"The limits of your language are the limits o...</td>\n",
       "      <td>NaN</td>\n",
       "      <td>NaN</td>\n",
       "      <td>My students need opportunities to practice beg...</td>\n",
       "      <td>0</td>\n",
       "      <td>0</td>\n",
       "      <td>Literacy_Language</td>\n",
       "      <td>ESL Literacy</td>\n",
       "      <td>My students are English learners that are work...</td>\n",
       "      <td>my students english learners working english s...</td>\n",
       "      <td>educational support english learners home</td>\n",
       "    </tr>\n",
       "    <tr>\n",
       "      <th>1</th>\n",
       "      <td>140945</td>\n",
       "      <td>p258326</td>\n",
       "      <td>897464ce9ddc600bced1151f324dd63a</td>\n",
       "      <td>Mr.</td>\n",
       "      <td>FL</td>\n",
       "      <td>2016-10-25 09:22:10</td>\n",
       "      <td>Grades 6-8</td>\n",
       "      <td>Wanted: Projector for Hungry Learners</td>\n",
       "      <td>Our students arrive to our school eager to lea...</td>\n",
       "      <td>The projector we need for our school is very c...</td>\n",
       "      <td>NaN</td>\n",
       "      <td>NaN</td>\n",
       "      <td>My students need a projector to help with view...</td>\n",
       "      <td>7</td>\n",
       "      <td>1</td>\n",
       "      <td>History_Civics Health_Sports</td>\n",
       "      <td>Civics_Government TeamSports</td>\n",
       "      <td>Our students arrive to our school eager to lea...</td>\n",
       "      <td>our students arrive school eager learn they po...</td>\n",
       "      <td>wanted projector hungry learners</td>\n",
       "    </tr>\n",
       "  </tbody>\n",
       "</table>\n",
       "</div>"
      ],
      "text/plain": [
       "   Unnamed: 0       id                        teacher_id teacher_prefix  \\\n",
       "0      160221  p253737  c90749f5d961ff158d4b4d1e7dc665fc           Mrs.   \n",
       "1      140945  p258326  897464ce9ddc600bced1151f324dd63a            Mr.   \n",
       "\n",
       "  school_state project_submitted_datetime project_grade_category  \\\n",
       "0           IN        2016-12-05 13:43:57          Grades PreK-2   \n",
       "1           FL        2016-10-25 09:22:10             Grades 6-8   \n",
       "\n",
       "                                      project_title  \\\n",
       "0  Educational Support for English Learners at Home   \n",
       "1             Wanted: Projector for Hungry Learners   \n",
       "\n",
       "                                     project_essay_1  \\\n",
       "0  My students are English learners that are work...   \n",
       "1  Our students arrive to our school eager to lea...   \n",
       "\n",
       "                                     project_essay_2 project_essay_3  \\\n",
       "0  \\\"The limits of your language are the limits o...             NaN   \n",
       "1  The projector we need for our school is very c...             NaN   \n",
       "\n",
       "  project_essay_4                           project_resource_summary  \\\n",
       "0             NaN  My students need opportunities to practice beg...   \n",
       "1             NaN  My students need a projector to help with view...   \n",
       "\n",
       "   teacher_number_of_previously_posted_projects  project_is_approved  \\\n",
       "0                                             0                    0   \n",
       "1                                             7                    1   \n",
       "\n",
       "               clean_categories           clean_subcategories  \\\n",
       "0             Literacy_Language                  ESL Literacy   \n",
       "1  History_Civics Health_Sports  Civics_Government TeamSports   \n",
       "\n",
       "                                               essay  \\\n",
       "0  My students are English learners that are work...   \n",
       "1  Our students arrive to our school eager to lea...   \n",
       "\n",
       "                                      cleaned_essays  \\\n",
       "0  my students english learners working english s...   \n",
       "1  our students arrive school eager learn they po...   \n",
       "\n",
       "                          cleaned_title_text  \n",
       "0  educational support english learners home  \n",
       "1           wanted projector hungry learners  "
      ]
     },
     "execution_count": 24,
     "metadata": {},
     "output_type": "execute_result"
    }
   ],
   "source": [
    "project_data['teacher_prefix'] = project_data['teacher_prefix'].fillna('null')\n",
    " \n",
    "project_data.head(2)\n"
   ]
  },
  {
   "cell_type": "markdown",
   "metadata": {},
   "source": [
    "# Join train & Resource dataset"
   ]
  },
  {
   "cell_type": "code",
   "execution_count": 25,
   "metadata": {},
   "outputs": [],
   "source": [
    "# join two dataframes in python: \n",
    "data = pd.merge(project_data, price_data, on='id', how='left')"
   ]
  },
  {
   "cell_type": "code",
   "execution_count": 26,
   "metadata": {},
   "outputs": [],
   "source": [
    "approved_price = data[data['project_is_approved']==1]['price'].values\n",
    "\n",
    "rejected_price = data[data['project_is_approved']==0]['price'].values"
   ]
  },
  {
   "cell_type": "code",
   "execution_count": 27,
   "metadata": {},
   "outputs": [
    {
     "name": "stdout",
     "output_type": "stream",
     "text": [
      "+------------+-------------------+-----------------------+\n",
      "| Percentile | Approved Projects | Not Approved Projects |\n",
      "+------------+-------------------+-----------------------+\n",
      "|     0      |        0.66       |          1.97         |\n",
      "|     5      |       13.59       |          41.9         |\n",
      "|     10     |       33.88       |         73.67         |\n",
      "|     15     |        58.0       |         99.109        |\n",
      "|     20     |       77.38       |         118.56        |\n",
      "|     25     |       99.95       |        140.892        |\n",
      "|     30     |       116.68      |         162.23        |\n",
      "|     35     |      137.232      |        184.014        |\n",
      "|     40     |       157.0       |        208.632        |\n",
      "|     45     |      178.265      |        235.106        |\n",
      "|     50     |       198.99      |        263.145        |\n",
      "|     55     |       223.99      |         292.61        |\n",
      "|     60     |       255.63      |        325.144        |\n",
      "|     65     |      285.412      |         362.39        |\n",
      "|     70     |      321.225      |         399.99        |\n",
      "|     75     |      366.075      |        449.945        |\n",
      "|     80     |       411.67      |        519.282        |\n",
      "|     85     |       479.0       |        618.276        |\n",
      "|     90     |       593.11      |        739.356        |\n",
      "|     95     |      801.598      |        992.486        |\n",
      "|    100     |       9999.0      |         9999.0        |\n",
      "+------------+-------------------+-----------------------+\n"
     ]
    }
   ],
   "source": [
    "# http://zetcode.com/python/prettytable/\n",
    "from prettytable import PrettyTable\n",
    "import numpy as np\n",
    "\n",
    "\n",
    "t = PrettyTable()\n",
    "t.field_names = [\"Percentile\", \"Approved Projects\", \"Not Approved Projects\"]\n",
    "\n",
    "for i in range(0,101,5):\n",
    "    t.add_row([i,np.round(np.percentile(approved_price,i), 3), np.round(np.percentile(rejected_price,i), 3)])\n",
    "print(t)"
   ]
  },
  {
   "cell_type": "code",
   "execution_count": 28,
   "metadata": {},
   "outputs": [
    {
     "data": {
      "text/html": [
       "<div>\n",
       "<style scoped>\n",
       "    .dataframe tbody tr th:only-of-type {\n",
       "        vertical-align: middle;\n",
       "    }\n",
       "\n",
       "    .dataframe tbody tr th {\n",
       "        vertical-align: top;\n",
       "    }\n",
       "\n",
       "    .dataframe thead th {\n",
       "        text-align: right;\n",
       "    }\n",
       "</style>\n",
       "<table border=\"1\" class=\"dataframe\">\n",
       "  <thead>\n",
       "    <tr style=\"text-align: right;\">\n",
       "      <th></th>\n",
       "      <th>Unnamed: 0</th>\n",
       "      <th>id</th>\n",
       "      <th>teacher_id</th>\n",
       "      <th>teacher_prefix</th>\n",
       "      <th>school_state</th>\n",
       "      <th>project_submitted_datetime</th>\n",
       "      <th>project_grade_category</th>\n",
       "      <th>project_title</th>\n",
       "      <th>project_essay_1</th>\n",
       "      <th>project_essay_2</th>\n",
       "      <th>...</th>\n",
       "      <th>project_resource_summary</th>\n",
       "      <th>teacher_number_of_previously_posted_projects</th>\n",
       "      <th>project_is_approved</th>\n",
       "      <th>clean_categories</th>\n",
       "      <th>clean_subcategories</th>\n",
       "      <th>essay</th>\n",
       "      <th>cleaned_essays</th>\n",
       "      <th>cleaned_title_text</th>\n",
       "      <th>price</th>\n",
       "      <th>quantity</th>\n",
       "    </tr>\n",
       "  </thead>\n",
       "  <tbody>\n",
       "    <tr>\n",
       "      <th>0</th>\n",
       "      <td>160221</td>\n",
       "      <td>p253737</td>\n",
       "      <td>c90749f5d961ff158d4b4d1e7dc665fc</td>\n",
       "      <td>Mrs.</td>\n",
       "      <td>IN</td>\n",
       "      <td>2016-12-05 13:43:57</td>\n",
       "      <td>Grades PreK-2</td>\n",
       "      <td>Educational Support for English Learners at Home</td>\n",
       "      <td>My students are English learners that are work...</td>\n",
       "      <td>\\\"The limits of your language are the limits o...</td>\n",
       "      <td>...</td>\n",
       "      <td>My students need opportunities to practice beg...</td>\n",
       "      <td>0</td>\n",
       "      <td>0</td>\n",
       "      <td>Literacy_Language</td>\n",
       "      <td>ESL Literacy</td>\n",
       "      <td>My students are English learners that are work...</td>\n",
       "      <td>my students english learners working english s...</td>\n",
       "      <td>educational support english learners home</td>\n",
       "      <td>154.6</td>\n",
       "      <td>23</td>\n",
       "    </tr>\n",
       "    <tr>\n",
       "      <th>1</th>\n",
       "      <td>140945</td>\n",
       "      <td>p258326</td>\n",
       "      <td>897464ce9ddc600bced1151f324dd63a</td>\n",
       "      <td>Mr.</td>\n",
       "      <td>FL</td>\n",
       "      <td>2016-10-25 09:22:10</td>\n",
       "      <td>Grades 6-8</td>\n",
       "      <td>Wanted: Projector for Hungry Learners</td>\n",
       "      <td>Our students arrive to our school eager to lea...</td>\n",
       "      <td>The projector we need for our school is very c...</td>\n",
       "      <td>...</td>\n",
       "      <td>My students need a projector to help with view...</td>\n",
       "      <td>7</td>\n",
       "      <td>1</td>\n",
       "      <td>History_Civics Health_Sports</td>\n",
       "      <td>Civics_Government TeamSports</td>\n",
       "      <td>Our students arrive to our school eager to lea...</td>\n",
       "      <td>our students arrive school eager learn they po...</td>\n",
       "      <td>wanted projector hungry learners</td>\n",
       "      <td>299.0</td>\n",
       "      <td>1</td>\n",
       "    </tr>\n",
       "  </tbody>\n",
       "</table>\n",
       "<p>2 rows × 22 columns</p>\n",
       "</div>"
      ],
      "text/plain": [
       "   Unnamed: 0       id                        teacher_id teacher_prefix  \\\n",
       "0      160221  p253737  c90749f5d961ff158d4b4d1e7dc665fc           Mrs.   \n",
       "1      140945  p258326  897464ce9ddc600bced1151f324dd63a            Mr.   \n",
       "\n",
       "  school_state project_submitted_datetime project_grade_category  \\\n",
       "0           IN        2016-12-05 13:43:57          Grades PreK-2   \n",
       "1           FL        2016-10-25 09:22:10             Grades 6-8   \n",
       "\n",
       "                                      project_title  \\\n",
       "0  Educational Support for English Learners at Home   \n",
       "1             Wanted: Projector for Hungry Learners   \n",
       "\n",
       "                                     project_essay_1  \\\n",
       "0  My students are English learners that are work...   \n",
       "1  Our students arrive to our school eager to lea...   \n",
       "\n",
       "                                     project_essay_2  ...  \\\n",
       "0  \\\"The limits of your language are the limits o...  ...   \n",
       "1  The projector we need for our school is very c...  ...   \n",
       "\n",
       "                            project_resource_summary  \\\n",
       "0  My students need opportunities to practice beg...   \n",
       "1  My students need a projector to help with view...   \n",
       "\n",
       "  teacher_number_of_previously_posted_projects project_is_approved  \\\n",
       "0                                            0                   0   \n",
       "1                                            7                   1   \n",
       "\n",
       "               clean_categories           clean_subcategories  \\\n",
       "0             Literacy_Language                  ESL Literacy   \n",
       "1  History_Civics Health_Sports  Civics_Government TeamSports   \n",
       "\n",
       "                                               essay  \\\n",
       "0  My students are English learners that are work...   \n",
       "1  Our students arrive to our school eager to lea...   \n",
       "\n",
       "                                      cleaned_essays  \\\n",
       "0  my students english learners working english s...   \n",
       "1  our students arrive school eager learn they po...   \n",
       "\n",
       "                          cleaned_title_text  price quantity  \n",
       "0  educational support english learners home  154.6       23  \n",
       "1           wanted projector hungry learners  299.0        1  \n",
       "\n",
       "[2 rows x 22 columns]"
      ]
     },
     "execution_count": 28,
     "metadata": {},
     "output_type": "execute_result"
    }
   ],
   "source": [
    "data.head(2)"
   ]
  },
  {
   "cell_type": "markdown",
   "metadata": {},
   "source": [
    "# <h1> Train Test split</h1>"
   ]
  },
  {
   "cell_type": "code",
   "execution_count": 29,
   "metadata": {},
   "outputs": [
    {
     "name": "stdout",
     "output_type": "stream",
     "text": [
      "Shape of data is :  (109248, 22)\n"
     ]
    },
    {
     "data": {
      "text/plain": [
       "1    92706\n",
       "0    16542\n",
       "Name: project_is_approved, dtype: int64"
      ]
     },
     "execution_count": 29,
     "metadata": {},
     "output_type": "execute_result"
    }
   ],
   "source": [
    "print(\"Shape of data is : \",data.shape)\n",
    "project_data[\"project_is_approved\"].value_counts()"
   ]
  },
  {
   "cell_type": "code",
   "execution_count": 30,
   "metadata": {},
   "outputs": [],
   "source": [
    "# Define x & y for splitting\n",
    "\n",
    "y=data['project_is_approved'].values\n",
    "data.drop(['project_is_approved'], axis=1, inplace=True)      # drop project is approved columns  \n",
    "\n",
    "x=data"
   ]
  },
  {
   "cell_type": "code",
   "execution_count": 31,
   "metadata": {},
   "outputs": [],
   "source": [
    "# break in train test\n",
    "\n",
    "from sklearn.model_selection import train_test_split\n",
    "\n",
    "x_train,x_test,y_train,y_test= train_test_split(x,y,test_size=0.2,random_state=2,stratify = y)\n",
    "\n",
    "# now break trainig data further in train and cv\n",
    "#x_train,x_cv,y_train,y_cv= train_test_split(x_train, y_train, test_size=0.3 ,random_state=2,stratify=y_train)"
   ]
  },
  {
   "cell_type": "markdown",
   "metadata": {},
   "source": [
    "# One Hot Encoding of Categorical Data"
   ]
  },
  {
   "cell_type": "code",
   "execution_count": 32,
   "metadata": {},
   "outputs": [
    {
     "name": "stdout",
     "output_type": "stream",
     "text": [
      "After vectorizations\n",
      "(87398, 9) (87398,)\n",
      "(21850, 9) (21850,)\n",
      "['appliedlearning', 'care_hunger', 'health_sports', 'history_civics', 'literacy_language', 'math_science', 'music_arts', 'specialneeds', 'warmth']\n",
      "====================================================================================================\n"
     ]
    }
   ],
   "source": [
    "# OHE of subject category\n",
    "from sklearn.feature_extraction.text import CountVectorizer\n",
    "from sklearn.preprocessing import normalize\n",
    "\n",
    "\n",
    "vectorizer1 = CountVectorizer()\n",
    "vectorizer1.fit(x_train['clean_categories'].values) # fit has to happen only on train data\n",
    "\n",
    "\n",
    "# we use the fitted CountVectorizer to convert the text to vector\n",
    "x_train_clean_cat_ohe = vectorizer1.transform(x_train['clean_categories'].values)\n",
    "#x_train_clean_cat_ohe = normalize(x_train_clean_cat_ohe,axis=0)\n",
    "#x_cv_clean_cat_ohe = vectorizer.transform(x_cv['clean_categories'].values)\n",
    "x_test_clean_cat_ohe = vectorizer1.transform(x_test['clean_categories'].values)\n",
    "#x_test_clean_cat_ohe = normalize(x_test_clean_cat_ohe,axis=0)\n",
    "\n",
    "print(\"After vectorizations\")\n",
    "print(x_train_clean_cat_ohe.shape, y_train.shape)\n",
    "#print(x_cv_clean_cat_ohe.shape, y_cv.shape)\n",
    "print(x_test_clean_cat_ohe.shape, y_test.shape)\n",
    "print(vectorizer1.get_feature_names())\n",
    "print(\"=\"*100)"
   ]
  },
  {
   "cell_type": "code",
   "execution_count": 33,
   "metadata": {},
   "outputs": [
    {
     "name": "stdout",
     "output_type": "stream",
     "text": [
      "After vectorizations\n",
      "(87398, 9) (87398,)\n",
      "(21850, 9) (21850,)\n",
      "['appliedsciences', 'care_hunger', 'charactereducation', 'civics_government', 'college_careerprep', 'communityservice', 'earlydevelopment', 'economics', 'environmentalscience', 'esl', 'extracurricular', 'financialliteracy', 'foreignlanguages', 'gym_fitness', 'health_lifescience', 'health_wellness', 'history_geography', 'literacy', 'literature_writing', 'mathematics', 'music', 'nutritioneducation', 'other', 'parentinvolvement', 'performingarts', 'socialsciences', 'specialneeds', 'teamsports', 'visualarts', 'warmth']\n",
      "====================================================================================================\n"
     ]
    }
   ],
   "source": [
    "# ONE of subject subcategory\n",
    "\n",
    "vectorizer2 = CountVectorizer()\n",
    "vectorizer2.fit(x_train['clean_subcategories'].values) # fit has to happen only on train data\n",
    "\n",
    "\n",
    "# we use the fitted CountVectorizer to convert the text to vector\n",
    "x_train_clean_subcat_ohe = vectorizer2.transform(x_train['clean_subcategories'].values)\n",
    "#x_train_clean_subcat_ohe = normalize(x_train_clean_subcat_ohe,axis=0)\n",
    "#x_cv_clean_subcat_ohe = vectorizer.transform(x_cv['clean_subcategories'].values)\n",
    "x_test_clean_subcat_ohe = vectorizer2.transform(x_test['clean_subcategories'].values)\n",
    "#x_test_clean_subcat_ohe = normalize(x_test_clean_subcat_ohe,axis=0)\n",
    "print(\"After vectorizations\")\n",
    "print(x_train_clean_cat_ohe.shape, y_train.shape)\n",
    "#print(x_cv_clean_cat_ohe.shape, y_cv.shape)\n",
    "print(x_test_clean_cat_ohe.shape, y_test.shape)\n",
    "print(vectorizer2.get_feature_names())\n",
    "print(\"=\"*100)"
   ]
  },
  {
   "cell_type": "code",
   "execution_count": 34,
   "metadata": {},
   "outputs": [
    {
     "name": "stdout",
     "output_type": "stream",
     "text": [
      "After vectorizations\n",
      "(87398, 6) (87398,)\n",
      "(21850, 6) (21850,)\n",
      "['dr', 'mr', 'mrs', 'ms', 'null', 'teacher']\n",
      "====================================================================================================\n"
     ]
    }
   ],
   "source": [
    "# one hot encoding the catogorical features: categorical_categories\n",
    "# teacher_prefix\n",
    "\n",
    "vectorizer3 = CountVectorizer()\n",
    "vectorizer3.fit(x_train['teacher_prefix'].values) # fit has to happen only on train data\n",
    "\n",
    "# we use the fitted CountVectorizer to convert the text to vector\n",
    "x_train_teacher_pre = vectorizer3.transform(x_train['teacher_prefix'].values)\n",
    "#x_train_teacher_pre = normalize(x_train_teacher_pre,axis=0)\n",
    "#x_cv_teacher_pre = vectorizer.transform(x_cv['teacher_prefix'].values)\n",
    "x_test_teacher_pre = vectorizer3.transform(x_test['teacher_prefix'].values)\n",
    "#x_test_teacher_pre = normalize(x_test_teacher_pre,axis=0)\n",
    "\n",
    "print(\"After vectorizations\")\n",
    "print(x_train_teacher_pre.shape, y_train.shape)\n",
    "#print(x_cv_teacher_pre.shape, y_cv.shape)\n",
    "print(x_test_teacher_pre.shape, y_test.shape)\n",
    "print(vectorizer3.get_feature_names())\n",
    "print(\"=\"*100)\n"
   ]
  },
  {
   "cell_type": "code",
   "execution_count": 35,
   "metadata": {},
   "outputs": [
    {
     "name": "stdout",
     "output_type": "stream",
     "text": [
      "After vectorizations\n",
      "(87398, 51) (87398,)\n",
      "(21850, 51) (21850,)\n",
      "['ak', 'al', 'ar', 'az', 'ca', 'co', 'ct', 'dc', 'de', 'fl', 'ga', 'hi', 'ia', 'id', 'il', 'in', 'ks', 'ky', 'la', 'ma', 'md', 'me', 'mi', 'mn', 'mo', 'ms', 'mt', 'nc', 'nd', 'ne', 'nh', 'nj', 'nm', 'nv', 'ny', 'oh', 'ok', 'or', 'pa', 'ri', 'sc', 'sd', 'tn', 'tx', 'ut', 'va', 'vt', 'wa', 'wi', 'wv', 'wy']\n",
      "====================================================================================================\n"
     ]
    }
   ],
   "source": [
    "# school_state\n",
    "\n",
    "vectorizer4 = CountVectorizer()\n",
    "vectorizer4.fit(x_train['school_state'].values) # fit has to happen only on train data\n",
    "\n",
    "# we use the fitted CountVectorizer to convert the text to vector\n",
    "x_train_state_ohe = vectorizer4.transform(x_train['school_state'].values)\n",
    "#x_train_state_ohe = normalize(x_train_state_ohe,axis=0)\n",
    "\n",
    "#x_cv_state_ohe = vectorizer.transform(x_cv['school_state'].values)\n",
    "x_test_state_ohe = vectorizer4.transform(x_test['school_state'].values)\n",
    "#x_test_state_ohe = normalize(x_test_state_ohe,axis=0)\n",
    "\n",
    "\n",
    "print(\"After vectorizations\")\n",
    "print(x_train_state_ohe.shape, y_train.shape)\n",
    "#print(x_cv_state_ohe.shape, y_cv.shape)\n",
    "print(x_test_state_ohe.shape, y_test.shape)\n",
    "print(vectorizer4.get_feature_names())\n",
    "print(\"=\"*100)"
   ]
  },
  {
   "cell_type": "code",
   "execution_count": 36,
   "metadata": {},
   "outputs": [
    {
     "name": "stdout",
     "output_type": "stream",
     "text": [
      "After vectorizations\n",
      "(87398, 4) (87398,)\n",
      "(21850, 4) (21850,)\n",
      "['Grades 6-8', 'Grades PreK-2', 'Grades 3-5', 'Grades 9-12']\n",
      "====================================================================================================\n"
     ]
    }
   ],
   "source": [
    "project_grade_category= x_train['project_grade_category'].unique()\n",
    "\n",
    "vectorizer5 = CountVectorizer(vocabulary=project_grade_category)\n",
    "vectorizer5.fit(x_train['project_grade_category'].unique()) # fit has to happen only on train data\n",
    "\n",
    "# we use the fitted CountVectorizer to convert the text to vector\n",
    "x_train_grade_ohe = vectorizer5.transform(x_train['project_grade_category'].values)\n",
    "#x_train_grade_ohe = normalize(x_train_grade_ohe,axis=0)\n",
    "#x_cv_grade_ohe = vectorizer.transform(x_cv['project_grade_category'].values)\n",
    "x_test_grade_ohe = vectorizer5.transform(x_test['project_grade_category'].values)\n",
    "#x_test_grade_ohe = normalize(x_test_grade_ohe,axis=0)\n",
    "print(\"After vectorizations\")\n",
    "print(x_train_grade_ohe.shape, y_train.shape)\n",
    "#print(x_cv_grade_ohe.shape, y_cv.shape)\n",
    "print(x_test_grade_ohe.shape, y_test.shape)\n",
    "print(vectorizer5.get_feature_names())\n",
    "print(\"=\"*100)\n"
   ]
  },
  {
   "cell_type": "markdown",
   "metadata": {},
   "source": [
    "# Standardize Numerical data"
   ]
  },
  {
   "cell_type": "code",
   "execution_count": 37,
   "metadata": {},
   "outputs": [
    {
     "name": "stdout",
     "output_type": "stream",
     "text": [
      "After vectorizations\n",
      "(87398, 1) (87398,)\n",
      "(21850, 1) (21850,)\n"
     ]
    }
   ],
   "source": [
    "# Standarized the numerical features: Price\n",
    "\n",
    "from sklearn.preprocessing import Normalizer\n",
    "price_scalar = Normalizer()\n",
    "price_scalar.fit(x_train['price'].values.reshape(-1,1)) # finding the mean and standard deviation of this data\n",
    "\n",
    "x_train_price_std = price_scalar.transform(x_train['price'].values.reshape(-1,1))\n",
    "#x_cv_price_std = price_scalar.transform(x_cv['price'].values.reshape(-1,1))\n",
    "x_test_price_std = price_scalar.transform(x_test['price'].values.reshape(-1,1))\n",
    "\n",
    "print(\"After vectorizations\")\n",
    "print(x_train_price_std.shape, y_train.shape)\n",
    "#print(x_cv_price_std.shape, y_cv.shape)\n",
    "print(x_test_price_std.shape, y_test.shape)\n"
   ]
  },
  {
   "cell_type": "code",
   "execution_count": 38,
   "metadata": {},
   "outputs": [
    {
     "name": "stdout",
     "output_type": "stream",
     "text": [
      "After vectorizations\n",
      "(87398, 1) (87398,)\n",
      "(21850, 1) (21850,)\n"
     ]
    }
   ],
   "source": [
    "# Standarized the numerical features: teacher_previously\n",
    "\n",
    "from sklearn.preprocessing import Normalizer\n",
    "teacher_previously_scalar = Normalizer()\n",
    "teacher_previously_scalar.fit(x_train['teacher_number_of_previously_posted_projects'].values.reshape(-1,1)) # finding the mean and standard deviation of this data\n",
    "\n",
    "x_train_teacher_previously_std = teacher_previously_scalar.transform(x_train['teacher_number_of_previously_posted_projects'].values.reshape(-1,1))\n",
    "#x_cv_teacher_previously_std = teacher_previously_scalar.transform(x_cv['teacher_number_of_previously_posted_projects'].values.reshape(-1,1))\n",
    "x_test_teacher_previously_std = teacher_previously_scalar.transform(x_test['teacher_number_of_previously_posted_projects'].values.reshape(-1,1))\n",
    "\n",
    "print(\"After vectorizations\")\n",
    "print(x_train_teacher_previously_std.shape, y_train.shape)\n",
    "#print(x_cv_teacher_previously_std.shape, y_cv.shape)\n",
    "print(x_test_teacher_previously_std.shape, y_test.shape)\n"
   ]
  },
  {
   "cell_type": "code",
   "execution_count": 39,
   "metadata": {},
   "outputs": [
    {
     "name": "stdout",
     "output_type": "stream",
     "text": [
      "After vectorizations\n",
      "(87398, 1) (87398,)\n",
      "(21850, 1) (21850,)\n"
     ]
    }
   ],
   "source": [
    "# Standarized the numerical features:quantity\n",
    "\n",
    "from sklearn.preprocessing import Normalizer\n",
    "quantity_scalar = Normalizer()\n",
    "quantity_scalar.fit(x_train['quantity'].values.reshape(-1,1)) # finding the mean and standard deviation of this data\n",
    "\n",
    "x_train_quantity_std = quantity_scalar.transform(x_train['quantity'].values.reshape(-1,1))\n",
    "#x_cv_teacher_previously_std = teacher_previously_scalar.transform(x_cv['teacher_number_of_previously_posted_projects'].values.reshape(-1,1))\n",
    "x_test_quantity_std = quantity_scalar.transform(x_test['quantity'].values.reshape(-1,1))\n",
    "\n",
    "print(\"After vectorizations\")\n",
    "print(x_train_quantity_std.shape, y_train.shape)\n",
    "#print(x_cv_teacher_previously_std.shape, y_cv.shape)\n",
    "print(x_test_quantity_std.shape, y_test.shape)\n"
   ]
  },
  {
   "cell_type": "markdown",
   "metadata": {},
   "source": [
    "# Set 1 : Apply BOW "
   ]
  },
  {
   "cell_type": "code",
   "execution_count": 40,
   "metadata": {},
   "outputs": [
    {
     "name": "stdout",
     "output_type": "stream",
     "text": [
      "After vectorizations\n",
      "(87398, 5000) (87398,)\n",
      "(21850, 5000) (21850,)\n",
      "====================================================================================================\n"
     ]
    },
    {
     "name": "stdout",
     "output_type": "stream",
     "text": [
      "['000', '10', '100', '100 free', '100 percent', '100 students', '100 students receive', '100 students receive free', '11', '12', '12th', '13', '14', '15', '16', '17', '18', '19', '1st', '1st grade', '20', '2016', '2017', '21', '21st', '21st century', '21st century learners', '21st century learning', '21st century skills', '22', '23', '24', '25', '25 students', '26', '28', '2nd', '2nd grade', '2nd graders', '30', '30 students', '3d', '3d printer', '3rd', '3rd grade', '3rd graders', '40', '400', '45', '4th', '4th 5th', '4th grade', '4th graders', '50', '50 students', '500', '5th', '5th grade', '5th grade students', '5th graders', '60', '60 minutes', '60 students', '600', '6th', '6th grade', '6th graders', '70', '75', '7th', '7th 8th', '7th grade', '80', '80 students', '85', '8th', '8th grade', '8th graders', '90', '90 students', '95', '98', '99', '9th', 'abilities', 'ability', 'ability learn', 'ability levels', 'able', 'able access', 'able choose', 'able control', 'able control home', 'able control home lives', 'able create', 'able explore', 'able focus', 'able get', 'able give', 'able learn', 'able make', 'able move', 'able practice', 'able provide', 'able read', 'able see', 'able share', 'able sit', 'able take', 'able use', 'able work', 'about', 'absolutely', 'absolutely love', 'abstract', 'academic', 'academic achievement', 'academic excellence', 'academic performance', 'academic skills', 'academic social', 'academic success', 'academically', 'academics', 'academy', 'accelerated', 'access', 'access books', 'access computers', 'access internet', 'access materials', 'access technology', 'access technology home', 'accessible', 'accommodate', 'accomplish', 'accomplishments', 'according', 'achieve', 'achieve goals', 'achievement', 'achievement gap', 'achieving', 'acquire', 'across', 'act', 'action', 'active', 'active learners', 'active learning', 'actively', 'actively engaged', 'activities', 'activities help', 'activities my', 'activities students', 'activities the', 'activities they', 'activity', 'actual', 'actually', 'add', 'added', 'adding', 'addition', 'addition classroom', 'addition students', 'addition subtraction', 'additional', 'additionally', 'address', 'adequate', 'adhd', 'adult', 'adults', 'advance', 'advanced', 'advantage', 'adventure', 'adventures', 'affect', 'affluent', 'afford', 'african', 'african american', 'after', 'afternoon', 'age', 'age appropriate', 'ages', 'ago', 'ahead', 'aid', 'aids', 'aim', 'air', 'algebra', 'alive', 'all', 'all students', 'all students receive', 'all students receive free', 'allow', 'allow children', 'allow student', 'allow students', 'allow students access', 'allow students learn', 'allow students move', 'allow students work', 'allow us', 'allowed', 'allowing', 'allowing students', 'allows', 'allows students', 'almost', 'alone', 'along', 'aloud', 'alouds', 'alphabet', 'already', 'also', 'also able', 'also allow', 'also allow students', 'also give', 'also help', 'also help students', 'also learn', 'also like', 'also love', 'also need', 'also provide', 'also students', 'also use', 'also used', 'also want', 'alternative', 'alternative seating', 'although', 'although students', 'always', 'always eager', 'always excited', 'always looking', 'always ready', 'amaze', 'amazed', 'amazing', 'amazing group', 'amazing students', 'amazing they', 'america', 'american', 'americans', 'among', 'among students', 'amount', 'amount time', 'an', 'analysis', 'analyze', 'anchor', 'and', 'angeles', 'animal', 'animals', 'another', 'answer', 'answers', 'anxiety', 'anxious', 'any', 'anyone', 'anything', 'anywhere', 'ap', 'apart', 'app', 'apple', 'application', 'applications', 'apply', 'applying', 'appreciate', 'appreciated', 'appreciation', 'appreciative', 'approach', 'appropriate', 'approximately', 'apps', 'area', 'area many', 'area students', 'areas', 'around', 'around classroom', 'around room', 'around they', 'around us', 'around world', 'array', 'arrive', 'art', 'art class', 'art projects', 'art room', 'art supplies', 'articles', 'artist', 'artistic', 'artists', 'arts', 'artwork', 'as', 'as result', 'as school', 'as students', 'as teacher', 'as teacher low', 'as teacher low income', 'asian', 'ask', 'ask questions', 'asked', 'asking', 'aspect', 'aspects', 'assess', 'assessment', 'assessments', 'assigned', 'assignment', 'assignments', 'assist', 'assist students', 'assistance', 'at', 'at end', 'at school', 'athletes', 'athletic', 'atmosphere', 'attend', 'attend school', 'attend title', 'attend title school', 'attendance', 'attended', 'attending', 'attention', 'attitude', 'attitudes', 'audio', 'auditory', 'authentic', 'author', 'authors', 'autism', 'autism spectrum', 'autistic', 'available', 'available students', 'average', 'avid', 'award', 'aware', 'awareness', 'away', 'awesome', 'back', 'background', 'background knowledge', 'backgrounds', 'backgrounds many', 'backgrounds they', 'backgrounds we', 'backpack', 'backpacks', 'bad', 'bag', 'bag chairs', 'bags', 'balance', 'balance balls', 'ball', 'ball chairs', 'balls', 'band', 'bands', 'barriers', 'base', 'based', 'based learning', 'based socioeconomic', 'based socioeconomic status', 'basic', 'basic needs', 'basic school', 'basic school supplies', 'basic supplies', 'basics', 'basis', 'basketball', 'bean', 'bean bag', 'bean bag chairs', 'bean bags', 'beautiful', 'because', 'become', 'become better', 'become better readers', 'become independent', 'become successful', 'becomes', 'becoming', 'began', 'begin', 'beginning', 'beginning year', 'begins', 'behavior', 'behavioral', 'behaviors', 'behind', 'being', 'being able', 'believe', 'believe students', 'beneficial', 'benefit', 'benefit greatly', 'benefit students', 'benefits', 'best', 'best education', 'best learning', 'best my', 'best students', 'best they', 'best way', 'best work', 'better', 'better readers', 'better understand', 'better understanding', 'better way', 'beyond', 'big', 'bigger', 'biggest', 'bilingual', 'binders', 'bins', 'biology', 'bit', 'black', 'blended', 'blessed', 'block', 'blocks', 'blood', 'blue', 'board', 'boards', 'bodies', 'body', 'book', 'book read', 'books', 'books allow', 'books classroom', 'books help', 'books home', 'books not', 'books read', 'books reading', 'books students', 'books the', 'books used', 'books would', 'boost', 'boring', 'born', 'borrow', 'both', 'bottles', 'bounce', 'bouncy', 'bouncy bands', 'bound', 'box', 'boxes', 'boys', 'boys girls', 'brain', 'brain breaks', 'brains', 'brand', 'brand new', 'break', 'breakfast', 'breakfast lunch', 'breakfast lunch many', 'breaks', 'bridge', 'bright', 'brilliant', 'bring', 'bringing', 'brings', 'broaden', 'broken', 'bronx', 'brought', 'budget', 'budget cuts', 'build', 'build confidence', 'building', 'builds', 'built', 'bunch', 'bus', 'business', 'busy', 'but', 'buy', 'by', 'by creative', 'by creative positive', 'by creative positive way', 'by donating', 'by donating project', 'by providing', 'by using', 'calculators', 'california', 'call', 'called', 'calm', 'calming', 'came', 'camera', 'cameras', 'campus', 'can', 'cannot', 'cannot afford', 'capabilities', 'capable', 'capacity', 'capture', 'card', 'cards', 'care', 'career', 'career ready', 'careers', 'caring', 'carolina', 'carpet', 'carry', 'cart', 'case', 'cases', 'catch', 'caucasian', 'cause', 'cd', 'celebrate', 'cell', 'center', 'center students', 'center time', 'centered', 'centers', 'central', 'century', 'century learners', 'century learning', 'century skills', 'certain', 'certainly', 'certainly control', 'certainly control experience', 'certainly control experience school', 'chair', 'chairs', 'chairs allow', 'chairs help', 'challenge', 'challenge students', 'challenged', 'challenges', 'challenges classroom', 'challenges classroom despite', 'challenges classroom despite many', 'challenges face', 'challenges face looking', 'challenges face looking keep', 'challenges students', 'challenging', 'chance', 'chances', 'change', 'change students', 'change world', 'changed', 'changes', 'changing', 'chapter', 'chapter books', 'character', 'characters', 'charge', 'charging', 'chart', 'charter', 'charter school', 'charts', 'check', 'chemistry', 'chicago', 'child', 'childhood', 'children', 'children come', 'children learn', 'children love', 'children need', 'children not', 'choice', 'choices', 'choose', 'choosing', 'chose', 'chosen', 'chrome', 'chrome books', 'chromebook', 'chromebooks', 'chromebooks allow', 'chromebooks classroom', 'chromebooks students', 'chromebooks would', 'circle', 'circuits', 'circumstances', 'citizens', 'city', 'city school', 'class', 'class consists', 'class full', 'class made', 'class my', 'class my students', 'class nannan', 'class not', 'class set', 'class students', 'class the', 'class they', 'class this', 'class time', 'class we', 'class would', 'classes', 'classic', 'classified', 'classmates', 'classroom', 'classroom allow', 'classroom allow students', 'classroom also', 'classroom come', 'classroom community', 'classroom consists', 'classroom despite', 'classroom despite many', 'classroom despite many challenges', 'classroom environment', 'classroom every', 'classroom every day', 'classroom filled', 'classroom focus', 'classroom focus potential', 'classroom focus potential growth', 'classroom full', 'classroom help', 'classroom in', 'classroom it', 'classroom learning', 'classroom library', 'classroom many', 'classroom my', 'classroom my students', 'classroom nannan', 'classroom need', 'classroom not', 'classroom one', 'classroom our', 'classroom place', 'classroom safe', 'classroom school', 'classroom set', 'classroom setting', 'classroom students', 'classroom students able', 'classroom supplies', 'classroom the', 'classroom these', 'classroom they', 'classroom this', 'classroom use', 'classroom want', 'classroom we', 'classroom well', 'classroom with', 'classroom work', 'classroom would', 'classrooms', 'classwork', 'clay', 'clean', 'clear', 'clearly', 'clever', 'clipboards', 'close', 'closer', 'clothes', 'clothing', 'club', 'clubs', 'co', 'coach', 'code', 'coding', 'cognitive', 'cold', 'collaborate', 'collaborating', 'collaboration', 'collaborative', 'collaboratively', 'collect', 'collection', 'college', 'college career', 'color', 'color printer', 'colored', 'colored pencils', 'colorful', 'colors', 'com', 'combination', 'come', 'come alive', 'come class', 'come classroom', 'come different', 'come different backgrounds', 'come diverse', 'come diverse backgrounds', 'come families', 'come high', 'come high poverty', 'come homes', 'come life', 'come low', 'come low income', 'come low income families', 'come low income homes', 'come low socioeconomic', 'come many', 'come many different', 'come nannan', 'come school', 'come school day', 'come school eager', 'come school eager learn', 'come school every', 'come school every day', 'come school everyday', 'come school excited', 'come school ready', 'come school ready learn', 'come single', 'come single parent', 'come together', 'come variety', 'come variety backgrounds', 'come variety different', 'come various', 'come wide', 'comes', 'comfort', 'comfortable', 'comfortable learning', 'comfortable place', 'comfortably', 'comfy', 'coming', 'coming school', 'committed', 'common', 'common core', 'common core standards', 'communicate', 'communication', 'communication skills', 'communities', 'community', 'community learners', 'community my', 'community our', 'community school', 'community students', 'community the', 'community they', 'community we', 'compare', 'compassion', 'compassionate', 'compete', 'competition', 'competitions', 'competitive', 'complete', 'complete assignments', 'complete work', 'completed', 'completely', 'completing', 'complex', 'component', 'components', 'composition', 'comprehend', 'comprehension', 'comprehension skills', 'comprised', 'computer', 'computer lab', 'computer science', 'computers', 'computers classroom', 'concentrate', 'concentration', 'concept', 'concepts', 'concrete', 'conditions', 'conducive', 'conduct', 'confidence', 'confident', 'connect', 'connected', 'connecting', 'connection', 'connections', 'consider', 'consideration', 'considered', 'considering', 'consist', 'consistent', 'consistently', 'consists', 'constant', 'constantly', 'construct', 'construction', 'contained', 'content', 'content areas', 'continually', 'continue', 'continue path', 'continue path academic', 'continue path academic excellence', 'continues', 'continuing', 'contribute', 'control', 'control experience', 'control experience school', 'control experience school day', 'control home', 'control home lives', 'control home lives however', 'conversation', 'conversations', 'cooking', 'cool', 'cooperation', 'cooperative', 'cooperative learning', 'cooperatively', 'coordination', 'copies', 'copy', 'core', 'core muscles', 'core standards', 'core strength', 'corner', 'correct', 'correctly', 'cost', 'could', 'could not', 'could use', 'count', 'counting', 'countries', 'country', 'county', 'couple', 'course', 'courses', 'cover', 'covers', 'cozy', 'craft', 'crave', 'crayons', 'create', 'create classroom', 'create environment', 'create projects', 'created', 'creates', 'creating', 'creation', 'creations', 'creative', 'creative meaningful', 'creative meaningful learning', 'creative meaningful learning experiences', 'creative positive', 'creative positive way', 'creative positive way hopeful', 'creative ways', 'creatively', 'creativity', 'crime', 'critical', 'critical thinkers', 'critical thinking', 'critical thinking skills', 'critically', 'cross', 'crucial', 'cultural', 'cultural backgrounds', 'culturally', 'culturally diverse', 'culture', 'cultures', 'curiosity', 'curious', 'current', 'current events', 'currently', 'currently not', 'currently students', 'curricular', 'curriculum', 'cushions', 'cut', 'cuts', 'cutting', 'cycle', 'daily', 'daily basis', 'daily lives', 'dance', 'dancing', 'dash', 'data', 'date', 'day', 'day by', 'day classroom', 'day day', 'day eager', 'day excited', 'day full', 'day learning', 'day long', 'day many', 'day my', 'day my students', 'day nannan', 'day not', 'day our', 'day ready', 'day ready learn', 'day school', 'day students', 'day the', 'day these', 'day they', 'day this', 'day want', 'day we', 'days', 'deal', 'decided', 'decisions', 'dedicated', 'dedication', 'deep', 'deeper', 'deeply', 'definitely', 'delays', 'demand', 'demands', 'demonstrate', 'department', 'depth', 'describe', 'deserve', 'deserve best', 'deserves', 'deserving', 'design', 'designated', 'designed', 'designing', 'designs', 'desire', 'desire learn', 'desk', 'desks', 'desktop', 'desperate', 'desperately', 'desperately need', 'despite', 'despite challenges', 'despite many', 'despite many challenges', 'despite many challenges face', 'despite many hardships', 'details', 'determination', 'determine', 'determined', 'develop', 'develop love', 'develop skills', 'developed', 'developing', 'development', 'developmental', 'developmentally', 'device', 'devices', 'diagnosed', 'difference', 'difference lives', 'difference students', 'differences', 'different', 'different backgrounds', 'different countries', 'different cultures', 'different languages', 'different learning', 'different learning styles', 'different levels', 'different types', 'different ways', 'differentiate', 'differentiated', 'differentiated instruction', 'differentiation', 'differently', 'difficult', 'difficult students', 'difficult time', 'difficulties', 'difficulty', 'digital', 'direct', 'directed', 'direction', 'directions', 'directly', 'disabilities', 'disability', 'disabled', 'disadvantage', 'disadvantaged', 'discover', 'discovered', 'discoveries', 'discovering', 'discovery', 'discuss', 'discussing', 'discussion', 'discussions', 'disorder', 'disorders', 'display', 'displayed', 'distracted', 'distracting', 'distraction', 'distractions', 'district', 'district students', 'district students faced', 'district students faced several', 'districts', 'dive', 'diverse', 'diverse backgrounds', 'diverse group', 'diverse group students', 'diverse learners', 'diverse population', 'diverse school', 'diverse students', 'diversity', 'do', 'do remember', 'doctors', 'document', 'document camera', 'documents', 'donate', 'donated', 'donating', 'donating project', 'donation', 'donation help', 'donation project', 'donations', 'donations project', 'done', 'donors', 'donors choose', 'donorschoose', 'door', 'door classroom', 'door classroom focus', 'door classroom focus potential', 'doors', 'dot', 'dr', 'dr seuss', 'drama', 'dramatic', 'dramatic play', 'draw', 'drawing', 'dream', 'dreamers', 'dreams', 'drive', 'driven', 'drum', 'drums', 'dry', 'dry erase', 'dry erase boards', 'dry erase markers', 'dual', 'dual language', 'due', 'due lack', 'durable', 'during', 'dynamic', 'each', 'each child', 'each day', 'each student', 'each year', 'eager', 'eager learn', 'eager learn best', 'eager learn new', 'eager learn they', 'eager learners', 'eagerness', 'eagerness learn', 'earliest', 'earliest learners', 'earliest learners continue', 'early', 'early age', 'early childhood', 'early life', 'earn', 'earth', 'ease', 'easel', 'easier', 'easily', 'east', 'easy', 'easy access', 'eat', 'eating', 'economic', 'economic backgrounds', 'economic status', 'economically', 'economically disadvantaged', 'ed', 'edit', 'editing', 'educate', 'education', 'education class', 'education classroom', 'education my', 'education possible', 'education students', 'education teacher', 'educational', 'educational apps', 'educational experience', 'educational games', 'educator', 'educators', 'effect', 'effective', 'effectively', 'effects', 'efficient', 'efficiently', 'effort', 'efforts', 'eight', 'eighth', 'either', 'ela', 'electronic', 'elementary', 'elementary school', 'elementary students', 'elements', 'eligible', 'eligible free', 'eliminate', 'ell', 'ell students', 'else', 'embrace', 'emotional', 'emotionally', 'emotions', 'empathy', 'emphasis', 'empower', 'empower students', 'empowered', 'empowering', 'enable', 'enable students', 'encounter', 'encourage', 'encourage students', 'encouraged', 'encouragement', 'encourages', 'encouraging', 'end', 'end day', 'end school', 'end school year', 'end year', 'endless', 'ends', 'ends meet', 'energetic', 'energy', 'engage', 'engage learning', 'engage students', 'engaged', 'engaged learning', 'engagement', 'engaging', 'engaging activities', 'engaging learning', 'engaging students', 'engaging way', 'engineering', 'engineering math', 'engineers', 'english', 'english language', 'english language arts', 'english language learners', 'english learners', 'english second', 'english second language', 'english spanish', 'enhance', 'enhance learning', 'enhance students', 'enjoy', 'enjoy coming', 'enjoy learning', 'enjoy reading', 'enjoyable', 'enjoyed', 'enjoying', 'enjoyment', 'enough', 'enrich', 'enriching', 'enrichment', 'enrolled', 'ensure', 'ensure students', 'enter', 'enter classroom', 'entering', 'enthusiasm', 'enthusiastic', 'enthusiastic learners', 'entire', 'entire school', 'environment', 'environment my', 'environment nannan', 'environment students', 'environment the', 'environmental', 'environments', 'equal', 'equipment', 'equipped', 'erase', 'erase boards', 'erase markers', 'erasers', 'escape', 'esl', 'esl students', 'esol', 'especially', 'essays', 'essential', 'essentials', 'esteem', 'etc', 'ethnic', 'ethnic backgrounds', 'ethnically', 'even', 'even earliest', 'even earliest learners', 'even though', 'event', 'events', 'eventually', 'ever', 'ever changing', 'every', 'every child', 'every day', 'every day full', 'every day my', 'every day my students', 'every day ready', 'every day students', 'every day they', 'every morning', 'every one', 'every opportunity', 'every single', 'every single day', 'every student', 'every year', 'everyday', 'everyone', 'everything', 'everything need', 'evidence', 'exactly', 'example', 'examples', 'excel', 'excellence', 'excellent', 'exceptional', 'excess', 'excess energy', 'excite', 'excited', 'excited come', 'excited come school', 'excited learn', 'excited learning', 'excited reading', 'excited ready', 'excited school', 'excited see', 'excited store', 'excitement', 'excitement learning', 'exciting', 'exercise', 'exercise balls', 'exercises', 'expand', 'expanding', 'expect', 'expectations', 'expected', 'expensive', 'experience', 'experience school', 'experience school day', 'experience students', 'experienced', 'experiences', 'experiences many', 'experiences many us', 'experiences many us see', 'experiences my', 'experiences my students', 'experiences students', 'experiencing', 'experiment', 'experiments', 'explain', 'exploration', 'explore', 'explore learn', 'explore new', 'explore world', 'exploring', 'expose', 'expose students', 'exposed', 'exposing', 'exposure', 'express', 'expression', 'extend', 'extended', 'extra', 'extra help', 'extra support', 'extreme', 'extremely', 'eye', 'eyes', 'fabulous', 'face', 'face challenges', 'face looking', 'face looking keep', 'face looking keep things', 'face many', 'face many challenges', 'faced', 'faced many', 'faced several', 'faced several challenges', 'faced several challenges classroom', 'faces', 'facilitate', 'facing', 'fact', 'factors', 'facts', 'fair', 'fall', 'falling', 'familiar', 'families', 'families many', 'families not', 'family', 'family members', 'fantastic', 'far', 'farm', 'fast', 'faster', 'favorite', 'fear', 'features', 'feed', 'feedback', 'feel', 'feel comfortable', 'feel like', 'feel safe', 'feel successful', 'feeling', 'feelings', 'feels', 'feet', 'felt', 'fiction', 'fidget', 'field', 'field trips', 'fields', 'fifth', 'fifth grade', 'fifth grade students', 'fifth graders', 'figure', 'fill', 'filled', 'film', 'final', 'finally', 'financial', 'financially', 'find', 'find ways', 'finding', 'findings', 'fine', 'fine motor', 'fine motor skills', 'fingertips', 'finish', 'finished', 'fire', 'first', 'first day', 'first generation', 'first grade', 'first grade classroom', 'first grade students', 'first graders', 'first hand', 'first language', 'first time', 'first year', 'first year teacher', 'fish', 'fit', 'fitness', 'fits', 'five', 'five year', 'flexibility', 'flexible', 'flexible seating', 'flexible seating classroom', 'flexible seating options', 'flood', 'floor', 'florida', 'flow', 'fluency', 'fluent', 'focus', 'focus learning', 'focus potential', 'focus potential growth', 'focus work', 'focused', 'focuses', 'focusing', 'folders', 'follow', 'follow along', 'following', 'food', 'foods', 'foot', 'football', 'for', 'for example', 'for many', 'for many students', 'for students', 'force', 'forever', 'forget', 'form', 'format', 'forms', 'forth', 'fortunate', 'fortunate enough', 'forward', 'foster', 'foster love', 'fosters', 'found', 'foundation', 'foundational', 'four', 'fourth', 'fourth grade', 'fourth grade students', 'fourth graders', 'fractions', 'free', 'free breakfast', 'free breakfast lunch', 'free breakfast lunch many', 'free lunch', 'free lunch based', 'free lunch based socioeconomic', 'free reduced', 'free reduced lunch', 'free reduced lunch many', 'free reduced lunch my', 'free reduced lunches', 'free reduced price', 'free reduced price lunch', 'freedom', 'freely', 'frequently', 'fresh', 'friday', 'friend', 'friendly', 'friends', 'from', 'from minute', 'from minute walk', 'from minute walk door', 'front', 'frustrated', 'frustration', 'fulfill', 'full', 'full energy', 'full life', 'full life ready', 'full life ready learn', 'full potential', 'fullest', 'fully', 'fun', 'fun engaging', 'fun exciting', 'fun learning', 'fun loving', 'fun nannan', 'fun way', 'function', 'functional', 'functioning', 'functions', 'fund', 'fundamental', 'funded', 'funding', 'funding project', 'funds', 'funny', 'furniture', 'furthermore', 'future', 'future leaders', 'future my', 'future nannan', 'future students', 'futures', 'gain', 'gaining', 'gains', 'game', 'games', 'games activities', 'gap', 'gaps', 'garden', 'gather', 'general', 'general education', 'generation', 'generosity', 'generous', 'generous donation', 'genres', 'geometry', 'get', 'get chance', 'get excited', 'get hands', 'get opportunity', 'get school', 'get students', 'get wiggles', 'get work', 'gets', 'getting', 'getting ahead', 'gift', 'gifted', 'gifted students', 'gifted talented', 'girls', 'give', 'give best', 'give opportunity', 'give students', 'give students chance', 'give students opportunity', 'give us', 'given', 'given opportunity', 'gives', 'gives students', 'giving', 'giving students', 'global', 'glue', 'go', 'go beyond', 'go college', 'go home', 'goal', 'goal create', 'goal help', 'goal make', 'goal provide', 'goal students', 'goals', 'goes', 'going', 'gone', 'good', 'good book', 'google', 'google classroom', 'got', 'government', 'grab', 'grade', 'grade class', 'grade classroom', 'grade level', 'grade levels', 'grade math', 'grade my', 'grade reading', 'grade students', 'grade teacher', 'graders', 'graders come', 'graders love', 'graders they', 'grades', 'graduate', 'graduation', 'grammar', 'grandparents', 'grant', 'granted', 'graphic', 'graphic novels', 'graphing', 'grasp', 'grateful', 'great', 'great deal', 'great group', 'great things', 'great way', 'greater', 'greatest', 'greatly', 'greatly appreciated', 'greatly benefit', 'green', 'greet', 'gross', 'gross motor', 'ground', 'group', 'group activities', 'group children', 'group instruction', 'group kids', 'group learners', 'group students', 'group time', 'group work', 'groups', 'groups students', 'grow', 'grow learn', 'growing', 'grown', 'growth', 'growth mindset', 'guidance', 'guide', 'guided', 'guided reading', 'gym', 'habits', 'half', 'half students', 'hand', 'handle', 'hands', 'hands activities', 'hands experience', 'hands experiences', 'hands learning', 'hands materials', 'hands projects', 'happen', 'happening', 'happens', 'happy', 'hard', 'hard every', 'hard every day', 'hard time', 'hard work', 'hard workers', 'hard working', 'harder', 'hardest', 'hardships', 'hardships students', 'hardworking', 'have', 'having', 'having access', 'head', 'headphones', 'health', 'healthier', 'healthy', 'healthy snacks', 'hear', 'heard', 'hearing', 'heart', 'hearts', 'heavy', 'held', 'help', 'help achieve', 'help become', 'help bring', 'help build', 'help children', 'help classroom', 'help create', 'help develop', 'help focus', 'help get', 'help give', 'help grow', 'help improve', 'help increase', 'help keep', 'help kids', 'help learn', 'help make', 'help meet', 'help nannan', 'help prepare', 'help provide', 'help reach', 'help stay', 'help student', 'help students', 'help students become', 'help students develop', 'help students get', 'help students learn', 'help students stay', 'help succeed', 'help successful', 'help support', 'help teach', 'help us', 'helped', 'helpful', 'helping', 'helping students', 'helps', 'helps students', 'here', 'high', 'high energy', 'high expectations', 'high interest', 'high level', 'high needs', 'high percentage', 'high poverty', 'high poverty area', 'high poverty school', 'high poverty school district', 'high quality', 'high school', 'high school students', 'higher', 'higher level', 'highest', 'highlight', 'highly', 'highly motivated', 'hispanic', 'historical', 'history', 'hit', 'hokki', 'hokki stools', 'hold', 'home', 'home life', 'home lives', 'home lives however', 'home lives however certainly', 'home my', 'home school', 'home students', 'home the', 'home they', 'homeless', 'homes', 'homework', 'honor', 'hope', 'hope students', 'hopeful', 'hopeful inspire', 'hopeful inspire even', 'hopefully', 'hopes', 'hoping', 'hot', 'hour', 'hours', 'hours day', 'house', 'household', 'households', 'households receive', 'households receive free', 'houses', 'housing', 'how', 'however', 'however certainly', 'however certainly control', 'however certainly control experience', 'however many', 'however not', 'however students', 'huge', 'huge difference', 'human', 'hundred', 'hunger', 'hungry', 'idea', 'ideal', 'ideas', 'identified', 'identify', 'iep', 'if', 'if students', 'illustrations', 'images', 'imagination', 'imaginations', 'imaginative', 'imagine', 'immediate', 'immediately', 'immersion', 'immigrant', 'immigrants', 'impact', 'impact students', 'impairments', 'imperative', 'implement', 'implementing', 'importance', 'important', 'important part', 'important students', 'importantly', 'impossible', 'impoverished', 'improve', 'improve classroom', 'improve reading', 'improve students', 'improved', 'improvement', 'improves', 'improving', 'in', 'in addition', 'in class', 'in classroom', 'in order', 'in school', 'include', 'included', 'includes', 'including', 'inclusion', 'inclusive', 'income', 'income area', 'income families', 'income high', 'income high poverty', 'income high poverty school', 'income homes', 'income households', 'income school', 'income students', 'incorporate', 'incorporating', 'increase', 'increase reading', 'increase student', 'increase students', 'increased', 'increases', 'increasing', 'increasingly', 'incredible', 'incredibly', 'independence', 'independent', 'independent reading', 'independent work', 'independently', 'individual', 'individual needs', 'individualized', 'individually', 'individuals', 'indoor', 'industry', 'information', 'informational', 'initiative', 'ink', 'inner', 'inner city', 'inner city school', 'innovation', 'innovative', 'input', 'inquiry', 'inquiry based', 'inquisitive', 'inside', 'inside classroom', 'inside outside', 'inspiration', 'inspire', 'inspire even', 'inspire even earliest', 'inspire even earliest learners', 'inspire students', 'inspired', 'inspires', 'inspiring', 'instant', 'instead', 'instill', 'instill love', 'instruction', 'instruction students', 'instructional', 'instrument', 'instruments', 'integral', 'integrate', 'integrated', 'integrating', 'integration', 'intellectual', 'intellectual disabilities', 'intelligent', 'interact', 'interacting', 'interaction', 'interactions', 'interactive', 'interactive notebooks', 'interest', 'interested', 'interesting', 'interests', 'international', 'internet', 'intervention', 'interventions', 'introduce', 'introduced', 'introducing', 'investigate', 'investigations', 'inviting', 'involve', 'involved', 'involvement', 'involves', 'ipad', 'ipad mini', 'ipad minis', 'ipads', 'ipads classroom', 'issue', 'issues', 'it', 'it allow', 'it also', 'it amazing', 'it difficult', 'it goal', 'it hard', 'it help', 'it hope', 'it important', 'it important students', 'it job', 'it not', 'it would', 'item', 'items', 'items help', 'job', 'jobs', 'join', 'journal', 'journals', 'journey', 'joy', 'jump', 'junior', 'just', 'keep', 'keep engaged', 'keep students', 'keep students engaged', 'keep things', 'keep things simple', 'keep things simple provide', 'keeping', 'keeps', 'key', 'keyboard', 'kid', 'kid inspired', 'kiddos', 'kids', 'kids come', 'kids learn', 'kids love', 'kids need', 'kids not', 'kids they', 'kind', 'kindergarten', 'kindergarten class', 'kindergarten classroom', 'kindergarten first', 'kindergarten students', 'kindergarteners', 'kindergartners', 'kindle', 'kindles', 'kindness', 'kinds', 'kinesthetic', 'kit', 'kitchen', 'kits', 'knew', 'knit', 'know', 'know students', 'knowing', 'knowledge', 'known', 'knows', 'lab', 'labs', 'lack', 'lack resources', 'lacking', 'lacks', 'language', 'language arts', 'language learners', 'language skills', 'languages', 'languages spoken', 'lap', 'laptop', 'laptops', 'large', 'larger', 'largest', 'last', 'last year', 'lasting', 'lastly', 'later', 'latest', 'latino', 'laugh', 'lay', 'lead', 'leader', 'leaders', 'leadership', 'leading', 'leads', 'learn', 'learn best', 'learn better', 'learn different', 'learn english', 'learn every', 'learn every day', 'learn excited', 'learn explore', 'learn fun', 'learn grow', 'learn love', 'learn many', 'learn math', 'learn much', 'learn my', 'learn my students', 'learn nannan', 'learn new', 'learn new things', 'learn not', 'learn our', 'learn play', 'learn read', 'learn skills', 'learn something', 'learn something new', 'learn students', 'learn successful', 'learn the', 'learn these', 'learn they', 'learn this', 'learn use', 'learn want', 'learn way', 'learn we', 'learn work', 'learn world', 'learn world around', 'learned', 'learner', 'learners', 'learners continue', 'learners continue path', 'learners continue path academic', 'learners many', 'learners my', 'learners my students', 'learners nannan', 'learners need', 'learners our', 'learners students', 'learners the', 'learners they', 'learners we', 'learning', 'learning activities', 'learning center', 'learning centers', 'learning classroom', 'learning community', 'learning disabilities', 'learning english', 'learning english second', 'learning english second language', 'learning environment', 'learning environment students', 'learning experience', 'learning experiences', 'learning experiences my', 'learning experiences my students', 'learning fun', 'learning hands', 'learning in', 'learning it', 'learning love', 'learning many', 'learning materials', 'learning math', 'learning my', 'learning my students', 'learning nannan', 'learning needs', 'learning new', 'learning new things', 'learning not', 'learning opportunities', 'learning our', 'learning play', 'learning process', 'learning read', 'learning school', 'learning skills', 'learning space', 'learning students', 'learning style', 'learning styles', 'learning technology', 'learning the', 'learning these', 'learning they', 'learning this', 'learning time', 'learning tools', 'learning use', 'learning want', 'learning we', 'learns', 'least', 'leave', 'leaving', 'led', 'left', 'lego', 'legos', 'legs', 'less', 'lesson', 'lessons', 'lessons students', 'let', 'letter', 'letters', 'letters sounds', 'level', 'level my', 'level reading', 'level students', 'leveled', 'leveled books', 'levels', 'library', 'library students', 'life', 'life experiences', 'life experiences many', 'life long', 'life long learners', 'life may', 'life my', 'life nannan', 'life ready', 'life ready learn', 'life skills', 'life they', 'lifelong', 'lifelong learners', 'lifestyle', 'lifetime', 'light', 'lights', 'like', 'like move', 'like provide', 'like students', 'like use', 'likely', 'limit', 'limited', 'limited access', 'limited resources', 'limits', 'line', 'lines', 'list', 'listen', 'listen stories', 'listening', 'listening center', 'literacy', 'literacy centers', 'literacy math', 'literacy skills', 'literally', 'literary', 'literate', 'literature', 'little', 'little bit', 'little learners', 'little no', 'little ones', 'live', 'live high', 'live low', 'live poverty', 'lively', 'lives', 'lives however', 'lives however certainly', 'lives however certainly control', 'lives nannan', 'lives students', 'living', 'living poverty', 'local', 'located', 'located rural', 'location', 'long', 'long learners', 'long periods', 'long way', 'longer', 'look', 'look forward', 'looking', 'looking forward', 'looking keep', 'looking keep things', 'looking keep things simple', 'looking ways', 'looks', 'los', 'los angeles', 'lose', 'lost', 'lot', 'lot students', 'lot time', 'lots', 'lots positive', 'lots positive attention', 'loud', 'love', 'love able', 'love books', 'love coming', 'love coming school', 'love explore', 'love hands', 'love learn', 'love learning', 'love move', 'love play', 'love read', 'love reading', 'love school', 'love science', 'love see', 'love students', 'love technology', 'love use', 'love using', 'love work', 'love working', 'loved', 'loves', 'loving', 'low', 'low income', 'low income area', 'low income families', 'low income high', 'low income high poverty', 'low income homes', 'low income households', 'low income school', 'low income students', 'low socio', 'low socio economic', 'low socioeconomic', 'lower', 'lucky', 'lucky enough', 'lunch', 'lunch based', 'lunch based socioeconomic', 'lunch based socioeconomic status', 'lunch breakfast', 'lunch many', 'lunch many students', 'lunch my', 'lunch my students', 'lunch our', 'lunch our school', 'lunch program', 'lunch school', 'lunch students', 'lunch the', 'lunch they', 'lunch we', 'lunches', 'machine', 'machines', 'made', 'magazine', 'magazines', 'magic', 'magnet', 'magnet school', 'magnetic', 'main', 'mainly', 'maintain', 'maintaining', 'major', 'majority', 'majority students', 'majority students come', 'make', 'make classroom', 'make connections', 'make difference', 'make difference students', 'make happen', 'make huge', 'make huge difference', 'make learning', 'make learning fun', 'make possible', 'make school', 'make students', 'make sure', 'make sure students', 'make world', 'maker', 'makerspace', 'makes', 'making', 'making sure', 'manage', 'management', 'manipulate', 'manipulative', 'manipulatives', 'manner', 'many', 'many books', 'many challenges', 'many challenges face', 'many challenges face looking', 'many children', 'many come', 'many different', 'many different backgrounds', 'many families', 'many hardships', 'many kids', 'many not', 'many obstacles', 'many opportunities', 'many parents', 'many raised', 'many raised single', 'many raised single parent', 'many resources', 'many students', 'many students come', 'many students come low', 'many students live', 'many students not', 'many students not access', 'many students receive', 'many students school', 'many students struggle', 'many things', 'many times', 'many us', 'many us see', 'many ways', 'many years', 'maps', 'markers', 'master', 'mastery', 'match', 'material', 'materials', 'materials allow', 'materials allow students', 'materials classroom', 'materials help', 'materials help students', 'materials make', 'materials need', 'materials needed', 'materials requested', 'materials requesting', 'materials students', 'materials used', 'materials would', 'math', 'math centers', 'math class', 'math concepts', 'math facts', 'math games', 'math literacy', 'math manipulatives', 'math problems', 'math reading', 'math science', 'math science social', 'math skills', 'math students', 'mathematical', 'mathematicians', 'mathematics', 'mats', 'matter', 'maximize', 'may', 'may not', 'may not able', 'may not able control', 'may prevent', 'may prevent getting', 'maybe', 'meal', 'meals', 'mean', 'meaning', 'meaningful', 'meaningful learning', 'meaningful learning experiences', 'means', 'means students', 'measure', 'media', 'media center', 'medical', 'meet', 'meet needs', 'meet needs students', 'meet students', 'meeting', 'meetings', 'meets', 'member', 'members', 'memorable', 'memories', 'memory', 'men', 'mental', 'mentor', 'met', 'method', 'methods', 'mexico', 'middle', 'middle class', 'middle school', 'middle school students', 'might', 'might not', 'military', 'mind', 'minds', 'mindset', 'mine', 'mini', 'minimal', 'minis', 'minority', 'minute', 'minute walk', 'minute walk door', 'minute walk door classroom', 'minutes', 'minutes day', 'miss', 'missing', 'mission', 'mistakes', 'mix', 'mixed', 'mobile', 'model', 'modeling', 'models', 'moderate', 'modern', 'moment', 'moments', 'money', 'monitor', 'month', 'months', 'more', 'morning', 'most', 'most students', 'most students come', 'most students not', 'mostly', 'motion', 'motivate', 'motivate students', 'motivated', 'motivated learn', 'motivating', 'motivation', 'motor', 'motor skills', 'motto', 'mouse', 'move', 'move around', 'move love', 'moved', 'movement', 'movements', 'movie', 'movies', 'moving', 'moving around', 'mrs', 'much', 'much fun', 'much needed', 'much possible', 'much time', 'multi', 'multicultural', 'multiple', 'multiplication', 'multitude', 'muscles', 'music', 'music class', 'musical', 'musicians', 'must', 'my', 'my children', 'my class', 'my classroom', 'my first', 'my first grade', 'my first graders', 'my goal', 'my hope', 'my job', 'my kids', 'my kindergarten', 'my kindergarten students', 'my project', 'my scholars', 'my school', 'my school located', 'my school title', 'my school title school', 'my second', 'my student', 'my students', 'my students able', 'my students active', 'my students also', 'my students always', 'my students amazing', 'my students attend', 'my students bright', 'my students come', 'my students come diverse', 'my students come low', 'my students come school', 'my students come variety', 'my students creative', 'my students curious', 'my students deserve', 'my students diverse', 'my students eager', 'my students eager learn', 'my students energetic', 'my students enjoy', 'my students enthusiastic', 'my students excited', 'my students face', 'my students hard', 'my students hard working', 'my students learn', 'my students learning', 'my students live', 'my students love', 'my students love learn', 'my students love read', 'my students need', 'my students not', 'my students range', 'my students special', 'my students use', 'my students walk', 'my students walk classroom', 'my students want', 'my students wonderful', 'my students work', 'my students work hard', 'my students would', 'my third', 'name', 'names', 'nannan', 'nation', 'national', 'native', 'natural', 'naturally', 'nature', 'navigate', 'near', 'nearly', 'necessary', 'necessary materials', 'necessities', 'need', 'need able', 'need access', 'need additional', 'need books', 'need extra', 'need hands', 'need help', 'need know', 'need learn', 'need little', 'need many', 'need materials', 'need move', 'need movement', 'need new', 'need order', 'need succeed', 'need successful', 'need supplies', 'need support', 'need technology', 'need tools', 'needed', 'needing', 'needs', 'needs met', 'needs my', 'needs my students', 'needs students', 'needs the', 'needs they', 'negative', 'neighborhood', 'neighborhood school', 'neighborhoods', 'never', 'new', 'new books', 'new classroom', 'new concepts', 'new exciting', 'new experiences', 'new ideas', 'new information', 'new language', 'new learning', 'new materials', 'new school', 'new school year', 'new skills', 'new students', 'new technology', 'new things', 'new way', 'new ways', 'new york', 'news', 'next', 'next generation', 'next level', 'next year', 'nice', 'night', 'nine', 'no', 'no longer', 'no matter', 'no one', 'noise', 'non', 'non fiction', 'non verbal', 'nonfiction', 'normal', 'normally', 'north', 'north carolina', 'not', 'not able', 'not able control', 'not able control home', 'not access', 'not access technology', 'not afford', 'not allow', 'not always', 'not available', 'not books', 'not come', 'not enough', 'not even', 'not get', 'not help', 'not know', 'not learn', 'not let', 'not like', 'not lot', 'not many', 'not much', 'not opportunity', 'not provide', 'not resources', 'not speak', 'not speak english', 'not stop', 'not students', 'not wait', 'not wait see', 'not want', 'not work', 'not yet', 'note', 'notebook', 'notebooks', 'notes', 'nothing', 'noticed', 'novel', 'novels', 'now', 'number', 'number sense', 'number students', 'numbers', 'numerous', 'nurturing', 'nutrition', 'objects', 'observe', 'obstacle', 'obstacles', 'obtain', 'odds', 'of', 'offer', 'offer students', 'offered', 'offering', 'offers', 'office', 'often', 'often not', 'often times', 'old', 'old students', 'older', 'olds', 'on', 'once', 'one', 'one another', 'one best', 'one day', 'one favorite', 'one one', 'one school', 'one student', 'one students', 'one thing', 'one thing common', 'one way', 'ones', 'online', 'onto', 'open', 'opened', 'opening', 'opens', 'opportunities', 'opportunities learn', 'opportunities students', 'opportunity', 'opportunity explore', 'opportunity learn', 'opportunity move', 'opportunity students', 'opportunity use', 'opportunity work', 'option', 'options', 'options students', 'oral', 'orchestra', 'order', 'order help', 'order students', 'order successful', 'org', 'organization', 'organizational', 'organize', 'organized', 'original', 'osmo', 'other', 'others', 'otherwise', 'our', 'our class', 'our classroom', 'our community', 'our district', 'our goal', 'our school', 'our school located', 'our school serves', 'our school title', 'our school title school', 'our student', 'our students', 'our students come', 'our students need', 'outdated', 'outdoor', 'outdoors', 'outlet', 'outside', 'outside box', 'outside classroom', 'outside school', 'over', 'overall', 'overcome', 'ownership', 'ownership learning', 'pace', 'pad', 'pads', 'page', 'pages', 'paint', 'painting', 'paper', 'paper pencil', 'papers', 'parent', 'parent homes', 'parent households', 'parent households receive', 'parent households receive free', 'parental', 'parents', 'parents not', 'parents work', 'park', 'part', 'part day', 'participate', 'participating', 'participation', 'particular', 'particularly', 'partner', 'partners', 'parts', 'pass', 'passion', 'passion learning', 'passionate', 'past', 'past years', 'path', 'path academic', 'path academic excellence', 'patterns', 'pay', 'pe', 'peer', 'peers', 'pen', 'pencil', 'pencil sharpener', 'pencils', 'pens', 'people', 'per', 'percent', 'percent students', 'percent students receive', 'percent students receive free', 'percentage', 'percentage students', 'perfect', 'perform', 'performance', 'performances', 'performing', 'period', 'periods', 'periods time', 'perseverance', 'persevere', 'person', 'personal', 'personalities', 'personalized', 'personally', 'perspective', 'philadelphia', 'phones', 'phonics', 'photography', 'photos', 'physical', 'physical activity', 'physical education', 'physically', 'physics', 'pick', 'picture', 'pictures', 'piece', 'pieces', 'pillows', 'place', 'place learn', 'place students', 'placed', 'places', 'plan', 'plan use', 'planning', 'plans', 'plant', 'plants', 'plastic', 'play', 'play games', 'played', 'player', 'players', 'playground', 'playing', 'playing field', 'plays', 'please', 'please consider', 'please help', 'please help students', 'please help us', 'pleasure', 'plus', 'pocket', 'pockets', 'poetry', 'point', 'points', 'poor', 'popular', 'population', 'population students', 'portable', 'portfolios', 'portion', 'position', 'positive', 'positive attention', 'positive attitude', 'positive learning', 'positive way', 'positive way hopeful', 'positive way hopeful inspire', 'positively', 'possibilities', 'possibilities endless', 'possible', 'possible students', 'possibly', 'post', 'posters', 'posture', 'potential', 'potential growth', 'poverty', 'poverty area', 'poverty level', 'poverty line', 'poverty school', 'poverty school district', 'poverty school district students', 'poverty stricken', 'power', 'powerful', 'practice', 'practice math', 'practice reading', 'practice skills', 'practices', 'practicing', 'pre', 'pre kindergarten', 'precious', 'prefer', 'prek', 'prep', 'prepare', 'prepare future', 'prepare students', 'prepared', 'preparing', 'preschool', 'preschoolers', 'present', 'presentation', 'presentations', 'presented', 'pretty', 'prevent', 'prevent getting', 'previous', 'previously', 'price', 'price lunch', 'priced', 'pride', 'primarily', 'primary', 'print', 'printed', 'printer', 'printing', 'prior', 'priority', 'privilege', 'pro', 'problem', 'problem solve', 'problem solvers', 'problem solving', 'problem solving skills', 'problems', 'process', 'processes', 'processing', 'produce', 'product', 'production', 'productive', 'products', 'professional', 'proficiency', 'proficient', 'program', 'program students', 'programming', 'programs', 'progress', 'project', 'project allow', 'project allow students', 'project based', 'project based learning', 'project funded', 'project give', 'project help', 'project help students', 'project improve', 'project make', 'project make difference', 'project nannan', 'project not', 'project provide', 'project students', 'project would', 'projector', 'projects', 'projects students', 'promote', 'promotes', 'promoting', 'proper', 'properly', 'protect', 'proud', 'prove', 'proven', 'provide', 'provide best', 'provide many', 'provide opportunities', 'provide opportunity', 'provide students', 'provide students creative', 'provide students creative meaningful', 'provide students opportunity', 'provided', 'provides', 'provides students', 'providing', 'providing students', 'public', 'public school', 'publish', 'pull', 'purchase', 'purchased', 'purchasing', 'purpose', 'purposes', 'pursue', 'push', 'put', 'putting', 'puzzles', 'qualify', 'qualify free', 'qualify free reduced', 'qualify free reduced lunch', 'qualify free reduced price', 'quality', 'quality education', 'question', 'questions', 'quick', 'quickly', 'quiet', 'quite', 'quote', 'race', 'raise', 'raised', 'raised single', 'raised single parent', 'raised single parent households', 'range', 'ranging', 'rarely', 'rate', 'rates', 'rather', 'reach', 'reach full', 'reach full potential', 'reach goals', 'reach students', 'reaching', 'read', 'read aloud', 'read alouds', 'read book', 'read books', 'read independently', 'read love', 'read the', 'read they', 'read write', 'reader', 'readers', 'readers nannan', 'readers writers', 'readily', 'readily available', 'readiness', 'reading', 'reading book', 'reading books', 'reading comprehension', 'reading fluency', 'reading grade', 'reading grade level', 'reading groups', 'reading level', 'reading levels', 'reading material', 'reading materials', 'reading math', 'reading my', 'reading nannan', 'reading program', 'reading skills', 'reading students', 'reading the', 'reading they', 'reading time', 'reading writing', 'reading writing math', 'ready', 'ready learn', 'ready learn excited', 'ready learn they', 'real', 'real life', 'real world', 'real world problems', 'reality', 'realize', 'realized', 'really', 'really enjoy', 'reason', 'reasons', 'receive', 'receive free', 'receive free breakfast', 'receive free breakfast lunch', 'receive free lunch', 'receive free lunch based', 'receive free reduced', 'receive free reduced lunch', 'receive free reduced price', 'received', 'receives', 'receives free', 'receiving', 'receiving free', 'receiving free reduced', 'receiving free reduced lunch', 'recent', 'recently', 'recess', 'recognition', 'recognize', 'record', 'recording', 'reduce', 'reduced', 'reduced lunch', 'reduced lunch many', 'reduced lunch my', 'reduced lunches', 'reduced price', 'reduced price lunch', 'reference', 'reflect', 'regardless', 'regular', 'regular education', 'regularly', 'reinforce', 'relate', 'related', 'relationships', 'relax', 'release', 'relevant', 'reluctant', 'reluctant readers', 'rely', 'remain', 'remember', 'replace', 'reports', 'represent', 'represented', 'request', 'requested', 'requesting', 'require', 'required', 'requires', 'research', 'research projects', 'research shown', 'research shows', 'researching', 'resilient', 'resource', 'resources', 'resources available', 'resources help', 'resources home', 'resources need', 'resources students', 'respect', 'respectful', 'respond', 'response', 'responsibility', 'responsible', 'rest', 'result', 'results', 'retain', 'return', 'review', 'reward', 'rewarding', 'rewards', 'rhythm', 'rich', 'right', 'right tools', 'rigor', 'rigorous', 'rise', 'risk', 'risks', 'robot', 'robotics', 'robots', 'rock', 'role', 'roll', 'room', 'room students', 'rotate', 'rotations', 'rough', 'round', 'rounded', 'routine', 'routines', 'rug', 'rules', 'run', 'running', 'rural', 'rural area', 'rural community', 'rural school', 'safe', 'safe environment', 'safe learning', 'safe learning environment', 'safe place', 'safely', 'safety', 'said', 'san', 'sand', 'save', 'savvy', 'saw', 'say', 'saying', 'schedule', 'scholars', 'scholastic', 'scholastic news', 'school', 'school 100', 'school 100 students', 'school also', 'school classroom', 'school come', 'school community', 'school day', 'school day by', 'school district', 'school district students', 'school district students faced', 'school diverse', 'school eager', 'school eager learn', 'school environment', 'school every', 'school every day', 'school everyday', 'school excited', 'school experience', 'school first', 'school high', 'school high poverty', 'school home', 'school it', 'school large', 'school learn', 'school learning', 'school library', 'school limited', 'school located', 'school love', 'school low', 'school low income', 'school majority', 'school many', 'school many students', 'school means', 'school my', 'school my students', 'school nannan', 'school not', 'school one', 'school our', 'school our school', 'school place', 'school population', 'school provides', 'school ready', 'school ready learn', 'school receive', 'school receive free', 'school rural', 'school safe', 'school school', 'school serves', 'school serves students', 'school setting', 'school small', 'school students', 'school supplies', 'school system', 'school teach', 'school the', 'school these', 'school they', 'school this', 'school title', 'school title school', 'school urban', 'school want', 'school we', 'school wide', 'school without', 'school work', 'school would', 'school year', 'schools', 'science', 'science class', 'science concepts', 'science math', 'science social', 'science social studies', 'science standards', 'science students', 'science technology', 'science technology engineering', 'science technology engineering math', 'scientific', 'scientists', 'scissors', 'scores', 'screen', 'search', 'season', 'seat', 'seated', 'seating', 'seating choices', 'seating classroom', 'seating option', 'seating options', 'seating students', 'seats', 'second', 'second grade', 'second grade students', 'second graders', 'second language', 'second language learners', 'second year', 'section', 'secure', 'see', 'see students', 'seeing', 'seek', 'seeking', 'seem', 'seems', 'seen', 'select', 'selected', 'selection', 'self', 'self confidence', 'self contained', 'self esteem', 'send', 'sense', 'sense community', 'senses', 'sensory', 'sensory input', 'sensory needs', 'sentence', 'sentences', 'series', 'serious', 'serve', 'serve students', 'serves', 'serves students', 'service', 'services', 'serving', 'sessions', 'set', 'sets', 'setting', 'settings', 'seuss', 'seven', 'seventh', 'several', 'several challenges', 'several challenges classroom', 'several challenges classroom despite', 'several students', 'severe', 'shape', 'shapes', 'share', 'shared', 'sharing', 'sharpener', 'shelves', 'shine', 'shoes', 'short', 'show', 'show students', 'showcase', 'showing', 'shown', 'shows', 'siblings', 'side', 'sight', 'sight word', 'sight words', 'sign', 'significant', 'significantly', 'similar', 'simple', 'simple provide', 'simple provide students', 'simple provide students creative', 'simply', 'since', 'since students', 'sing', 'singing', 'single', 'single day', 'single parent', 'single parent homes', 'single parent households', 'single parent households receive', 'sit', 'sit floor', 'sit still', 'site', 'sites', 'sitting', 'sitting still', 'situation', 'situations', 'six', 'sixth', 'sixth grade', 'size', 'sizes', 'skill', 'skills', 'skills also', 'skills help', 'skills learning', 'skills my', 'skills my students', 'skills nannan', 'skills necessary', 'skills need', 'skills needed', 'skills students', 'skills the', 'skills these', 'skills they', 'skills we', 'skills well', 'small', 'small community', 'small group', 'small group instruction', 'small groups', 'small rural', 'small school', 'small town', 'smaller', 'smart', 'smart board', 'smile', 'smile face', 'smiles', 'smiles faces', 'smiling', 'snack', 'snacks', 'so', 'soak', 'soar', 'soccer', 'social', 'social emotional', 'social skills', 'social studies', 'socially', 'society', 'socio', 'socio economic', 'socio economic backgrounds', 'socioeconomic', 'socioeconomic backgrounds', 'socioeconomic status', 'soft', 'software', 'solar', 'solid', 'solution', 'solutions', 'solve', 'solve problems', 'solvers', 'solving', 'solving skills', 'some', 'some students', 'someone', 'something', 'something new', 'sometimes', 'song', 'songs', 'soon', 'sort', 'sound', 'sounds', 'source', 'sources', 'south', 'southern', 'space', 'space students', 'spaces', 'spanish', 'spark', 'speak', 'speak english', 'speaker', 'speakers', 'speaking', 'special', 'special education', 'special education students', 'special education teacher', 'special needs', 'special needs students', 'specific', 'specific learning', 'specifically', 'spectrum', 'speech', 'speech language', 'speed', 'spelling', 'spend', 'spend time', 'spending', 'spent', 'spirit', 'spoken', 'sponges', 'sport', 'sports', 'spot', 'spots', 'spread', 'spring', 'stability', 'stability balls', 'staff', 'stage', 'stamina', 'stand', 'standard', 'standardized', 'standards', 'standing', 'standing desks', 'stands', 'stars', 'start', 'start day', 'start school', 'started', 'starting', 'starts', 'state', 'state standards', 'states', 'station', 'stations', 'status', 'stay', 'stay active', 'stay engaged', 'stay focused', 'staying', 'steam', 'stem', 'stem activities', 'step', 'steps', 'sticks', 'still', 'stimulate', 'stimulation', 'stock', 'stool', 'stools', 'stools allow', 'stop', 'storage', 'store', 'store day', 'stories', 'story', 'strategies', 'strategy', 'strength', 'strengthen', 'strengths', 'stress', 'stretch', 'stricken', 'strive', 'strive best', 'strive make', 'strive provide', 'strives', 'striving', 'strong', 'stronger', 'structure', 'structured', 'structures', 'struggle', 'struggle reading', 'struggles', 'struggling', 'struggling readers', 'struggling students', 'student', 'student able', 'student body', 'student centered', 'student class', 'student engagement', 'student learning', 'student needs', 'student population', 'student success', 'student work', 'students', 'students ability', 'students able', 'students able access', 'students able learn', 'students able use', 'students able work', 'students access', 'students access technology', 'students achieve', 'students active', 'students actively', 'students already', 'students also', 'students also able', 'students always', 'students amazing', 'students asked', 'students attend', 'students attend school', 'students attend title', 'students autism', 'students become', 'students begin', 'students benefit', 'students best', 'students better', 'students bright', 'students bring', 'students build', 'students cannot', 'students chance', 'students choice', 'students choose', 'students class', 'students classroom', 'students come', 'students come different', 'students come diverse', 'students come diverse backgrounds', 'students come homes', 'students come low', 'students come low income', 'students come many', 'students come school', 'students come variety', 'students come variety backgrounds', 'students come various', 'students comfortable', 'students coming', 'students complete', 'students constantly', 'students continue', 'students could', 'students create', 'students creative', 'students creative meaningful', 'students creative meaningful learning', 'students curious', 'students currently', 'students daily', 'students deserve', 'students develop', 'students different', 'students disabilities', 'students diverse', 'students diverse group', 'students eager', 'students eager learn', 'students energetic', 'students engage', 'students engaged', 'students english', 'students english language', 'students english language learners', 'students enjoy', 'students enter', 'students enthusiastic', 'students especially', 'students even', 'students every', 'students excited', 'students expected', 'students experience', 'students explore', 'students exposed', 'students extremely', 'students face', 'students face many', 'students faced', 'students faced several', 'students faced several challenges', 'students families', 'students feel', 'students find', 'students first', 'students focus', 'students free', 'students free reduced', 'students free reduced lunch', 'students full', 'students fun', 'students future', 'students gain', 'students get', 'students given', 'students go', 'students grade', 'students grades', 'students great', 'students group', 'students grow', 'students hands', 'students hard', 'students hard working', 'students help', 'students high', 'students highly', 'students improve', 'students in', 'students increase', 'students inquisitive', 'students interested', 'students it', 'students keep', 'students kindergarten', 'students know', 'students lack', 'students learn', 'students learn best', 'students learning', 'students like', 'students limited', 'students listen', 'students live', 'students lives', 'students living', 'students look', 'students look forward', 'students love', 'students love learn', 'students love learning', 'students love read', 'students love reading', 'students low', 'students low income', 'students make', 'students many', 'students many students', 'students materials', 'students may', 'students meet', 'students motivated', 'students move', 'students moving', 'students much', 'students must', 'students my', 'students my students', 'students nannan', 'students need', 'students need able', 'students needs', 'students never', 'students new', 'students no', 'students not', 'students not able', 'students not access', 'students often', 'students one', 'students opportunities', 'students opportunity', 'students opportunity learn', 'students our', 'students our school', 'students parents', 'students part', 'students participate', 'students play', 'students practice', 'students qualify', 'students qualify free', 'students qualify free reduced', 'students range', 'students reach', 'students read', 'students reading', 'students ready', 'students really', 'students receive', 'students receive free', 'students receive free breakfast', 'students receive free lunch', 'students receive free reduced', 'students receiving', 'students receiving free', 'students receiving free reduced', 'students require', 'students research', 'students school', 'students school come', 'students school receive', 'students school receive free', 'students second', 'students see', 'students share', 'students show', 'students sit', 'students small', 'students speak', 'students special', 'students special needs', 'students spend', 'students start', 'students stay', 'students still', 'students strive', 'students struggle', 'students struggling', 'students students', 'students succeed', 'students success', 'students successful', 'students take', 'students teach', 'students teachers', 'students technology', 'students the', 'students these', 'students they', 'students think', 'students this', 'students thrive', 'students time', 'students title', 'students tools', 'students truly', 'students understand', 'students unique', 'students use', 'students use materials', 'students using', 'students utilize', 'students variety', 'students various', 'students walk', 'students walk classroom', 'students walk classroom every', 'students want', 'students want learn', 'students we', 'students well', 'students wide', 'students with', 'students wonderful', 'students work', 'students work hard', 'students work together', 'students working', 'students world', 'students would', 'students would able', 'students would benefit', 'students would love', 'students write', 'students year', 'students years', 'studies', 'study', 'studying', 'sturdy', 'style', 'styles', 'subject', 'subject areas', 'subjects', 'subscription', 'subtraction', 'suburban', 'succeed', 'success', 'success my', 'success nannan', 'success students', 'successes', 'successful', 'successful classroom', 'successful my', 'successful school', 'successfully', 'summer', 'super', 'supplement', 'supplies', 'supplies help', 'supplies need', 'supplies needed', 'supplies students', 'supply', 'support', 'support learning', 'support students', 'supported', 'supporting', 'supportive', 'supports', 'sure', 'sure students', 'surface', 'surrounded', 'surrounding', 'sweet', 'system', 'systems', 'table', 'tables', 'tablet', 'tablets', 'tackle', 'tactile', 'take', 'take care', 'take granted', 'take home', 'take ownership', 'take ownership learning', 'take place', 'take pride', 'take turns', 'taken', 'takes', 'taking', 'talented', 'talents', 'talk', 'talking', 'tape', 'target', 'task', 'tasks', 'taught', 'teach', 'teach low', 'teach school', 'teach students', 'teach title', 'teach title school', 'teacher', 'teacher low', 'teacher low income', 'teacher low income high', 'teacher students', 'teacher want', 'teachers', 'teachers students', 'teaches', 'teaching', 'teaching students', 'team', 'teams', 'teamwork', 'tech', 'techniques', 'technological', 'technologically', 'technologies', 'technology', 'technology available', 'technology classroom', 'technology daily', 'technology engineering', 'technology engineering math', 'technology help', 'technology home', 'technology my', 'technology my students', 'technology nannan', 'technology not', 'technology school', 'technology skills', 'technology students', 'technology the', 'technology they', 'technology we', 'technology would', 'tell', 'telling', 'ten', 'tend', 'term', 'terms', 'test', 'test scores', 'testing', 'tests', 'texas', 'text', 'textbook', 'textbooks', 'texts', 'thank', 'thank advance', 'thank considering', 'thank much', 'thank nannan', 'thanks', 'that', 'the', 'the addition', 'the best', 'the books', 'the children', 'the chromebooks', 'the classroom', 'the donations', 'the donations project', 'the goal', 'the headphones', 'the ipad', 'the ipads', 'the items', 'the kids', 'the majority', 'the majority students', 'the materials', 'the new', 'the possibilities', 'the school', 'the student', 'the students', 'the students able', 'the students class', 'the students classroom', 'the students come', 'the students love', 'the students school', 'the students use', 'the students work', 'the supplies', 'the use', 'the wobble', 'theater', 'their', 'theme', 'themes', 'then', 'therapy', 'there', 'there many', 'there no', 'therefore', 'these', 'these activities', 'these books', 'these chairs', 'these children', 'these chromebooks', 'these items', 'these kids', 'these materials', 'these materials allow', 'these materials help', 'these resources', 'these stools', 'these students', 'these students come', 'these supplies', 'these things', 'these tools', 'they', 'they able', 'they also', 'they also able', 'they always', 'they attend', 'they come', 'they come school', 'they curious', 'they deserve', 'they eager', 'they eager learn', 'they enjoy', 'they excited', 'they get', 'they great', 'they hard', 'they know', 'they learn', 'they learning', 'they like', 'they like move', 'they live', 'they love', 'they love learn', 'they love learning', 'they make', 'they need', 'they not', 'they often', 'they take', 'they use', 'they want', 'they work', 'they work hard', 'they would', 'thing', 'thing common', 'things', 'things like', 'things may', 'things simple', 'things simple provide', 'things simple provide students', 'things they', 'think', 'think critically', 'thinkers', 'thinking', 'thinking skills', 'third', 'third grade', 'third grade students', 'third graders', 'thirst', 'thirst knowledge', 'thirty', 'this', 'this allow', 'this allows', 'this also', 'this first', 'this first year', 'this help', 'this makes', 'this means', 'this not', 'this project', 'this project allow', 'this project help', 'this school', 'this technology', 'this would', 'this year', 'though', 'though students', 'thought', 'thoughtful', 'thoughts', 'three', 'thrilled', 'thrive', 'through', 'throughout', 'throughout day', 'throughout school', 'throughout school day', 'throughout school year', 'throughout year', 'thus', 'tight', 'tiles', 'time', 'time day', 'time kids', 'time learning', 'time my', 'time my students', 'time nannan', 'time school', 'time sitting', 'time students', 'time the', 'time they', 'time this', 'time we', 'times', 'times students', 'tired', 'title', 'title one', 'title one school', 'title school', 'title school many', 'title school students', 'titles', 'to', 'today', 'today world', 'together', 'told', 'tomorrow', 'took', 'tool', 'tools', 'tools help', 'tools need', 'top', 'topic', 'topics', 'total', 'touch', 'tough', 'toward', 'towards', 'town', 'toys', 'track', 'traditional', 'traditional classroom', 'training', 'transfer', 'transform', 'transition', 'transitional', 'trauma', 'travel', 'treat', 'tremendous', 'tremendously', 'tried', 'trip', 'trips', 'trouble', 'true', 'truly', 'truly believe', 'try', 'try best', 'try make', 'try new', 'try new things', 'trying', 'turn', 'turns', 'tv', 'twenty', 'twice', 'two', 'two years', 'type', 'types', 'typical', 'typical day', 'typical day classroom', 'typically', 'typing', 'ultimate', 'ultimately', 'unable', 'uncomfortable', 'understand', 'understanding', 'unfortunately', 'unfortunately not', 'unique', 'unit', 'united', 'united states', 'units', 'university', 'upcoming', 'updated', 'upon', 'upper', 'urban', 'urban area', 'urban school', 'us', 'us get', 'us see', 'use', 'use books', 'use chromebooks', 'use classroom', 'use computer', 'use computers', 'use daily', 'use ipad', 'use ipads', 'use materials', 'use new', 'use tablets', 'use technology', 'used', 'used daily', 'used help', 'used students', 'useful', 'uses', 'using', 'using technology', 'usually', 'utilize', 'utilized', 'utilizing', 'valuable', 'value', 'valued', 'values', 'varied', 'variety', 'variety backgrounds', 'variety books', 'variety different', 'variety learning', 'variety ways', 'various', 'various backgrounds', 'vary', 'varying', 'vast', 'vegetables', 'verbal', 'via', 'vibrant', 'video', 'videos', 'view', 'violence', 'virtual', 'vision', 'visit', 'visual', 'visual learners', 'visualize', 'visually', 'visuals', 'vital', 'vocabulary', 'voice', 'voices', 'volleyball', 'wait', 'wait see', 'waiting', 'walk', 'walk classroom', 'walk classroom every', 'walk classroom every day', 'walk door', 'walk door classroom', 'walk door classroom focus', 'walking', 'walks', 'walks life', 'wall', 'walls', 'want', 'want able', 'want best', 'want create', 'want give', 'want give students', 'want help', 'want know', 'want learn', 'want make', 'want make sure', 'want provide', 'want provide students', 'want read', 'want school', 'want students', 'want students able', 'want use', 'wanted', 'wanting', 'wants', 'warm', 'washington', 'waste', 'watch', 'watching', 'water', 'way', 'way get', 'way help', 'way hopeful', 'way hopeful inspire', 'way learn', 'way my', 'way nannan', 'way students', 'way teach', 'ways', 'ways help', 'ways learn', 'ways students', 'we', 'we able', 'we also', 'we also need', 'we believe', 'we currently', 'we diverse', 'we high', 'we know', 'we learn', 'we live', 'we located', 'we love', 'we many', 'we need', 'we not', 'we school', 'we small', 'we spend', 'we strive', 'we students', 'we title', 'we title school', 'we use', 'we want', 'we work', 'we work hard', 'we working', 'we would', 'we would like', 'wear', 'weather', 'web', 'website', 'websites', 'week', 'weekend', 'weekends', 'weekly', 'weeks', 'weight', 'welcome', 'welcoming', 'well', 'well nannan', 'well rounded', 'well students', 'wellness', 'went', 'west', 'what', 'whatever', 'when', 'when students', 'whenever', 'whether', 'while', 'while students', 'white', 'white board', 'white boards', 'whiteboard', 'whiteboards', 'who', 'whole', 'whole class', 'whole group', 'whole new', 'whose', 'why', 'wide', 'wide range', 'wide variety', 'wiggle', 'wiggles', 'wiggly', 'willing', 'willingness', 'win', 'winter', 'wireless', 'wish', 'with', 'with help', 'with materials', 'with new', 'within', 'within classroom', 'within school', 'without', 'wobble', 'wobble chairs', 'wobble stools', 'women', 'wonder', 'wonderful', 'wonderful group', 'wonderful students', 'word', 'words', 'work', 'work best', 'work collaboratively', 'work groups', 'work hard', 'work hard every', 'work independently', 'work my', 'work nannan', 'work school', 'work small', 'work small groups', 'work students', 'work the', 'work they', 'work time', 'work title', 'work title school', 'work together', 'work well', 'worked', 'workers', 'working', 'working hard', 'working small', 'working students', 'working together', 'works', 'works best', 'worksheets', 'workshop', 'world', 'world around', 'world live', 'world my', 'world my students', 'world nannan', 'world problems', 'world students', 'world technology', 'world they', 'worlds', 'worn', 'worry', 'worth', 'would', 'would able', 'would allow', 'would allow students', 'would also', 'would benefit', 'would give', 'would great', 'would greatly', 'would help', 'would help students', 'would like', 'would like provide', 'would like students', 'would love', 'would love able', 'would make', 'would not', 'would provide', 'would really', 'would use', 'would used', 'write', 'writer', 'writers', 'writing', 'writing math', 'writing skills', 'written', 'year', 'year many', 'year my', 'year my students', 'year nannan', 'year old', 'year old students', 'year olds', 'year school', 'year students', 'year teacher', 'year teaching', 'year the', 'year they', 'year this', 'year want', 'year we', 'year year', 'yearbook', 'years', 'years ago', 'years come', 'years come nannan', 'years old', 'yes', 'yet', 'yoga', 'yoga balls', 'york', 'you', 'young', 'young age', 'young children', 'young learners', 'young minds', 'young people', 'young students', 'younger', 'your', 'your donation', 'your donations', 'your generous', 'your generous donation', 'youth']\n"
     ]
    }
   ],
   "source": [
    "from sklearn.feature_extraction.text import CountVectorizer\n",
    "# Vectorizing text data\n",
    "# We are considering only the words which appeared in at least 10 documents(rows or projects).\n",
    "vectorizer7 = CountVectorizer(min_df=10,ngram_range=(1,4),max_features=5000)\n",
    "vectorizer7.fit(x_train[\"cleaned_essays\"].values)\n",
    "\n",
    "features_name7 = vectorizer7.get_feature_names()\n",
    "\n",
    "\n",
    "x_train_essay_bow = vectorizer7.transform(x_train['cleaned_essays'].values)\n",
    "#x_train_essay_bow = normalize(x_train_essay_bow,axis=0)\n",
    "#x_cv_essay_bow = vectorizer.transform(x_cv['cleaned_essays'].values)\n",
    "x_test_essay_bow = vectorizer7.transform(x_test['cleaned_essays'].values)\n",
    "#x_test_essay_bow = normalize(x_test_essay_bow,axis=0)\n",
    "\n",
    "print(\"After vectorizations\")\n",
    "print(x_train_essay_bow.shape, y_train.shape)\n",
    "#print(x_cv_essay_bow.shape, y_cv.shape)\n",
    "print(x_test_essay_bow.shape, y_test.shape)\n",
    "print(\"=\"*100)\n",
    "print(vectorizer7.get_feature_names())"
   ]
  },
  {
   "cell_type": "code",
   "execution_count": 41,
   "metadata": {},
   "outputs": [
    {
     "name": "stdout",
     "output_type": "stream",
     "text": [
      "After vectorizations\n",
      "(87398, 5000) (87398,)\n",
      "(21850, 5000) (21850,)\n",
      "====================================================================================================\n"
     ]
    },
    {
     "name": "stdout",
     "output_type": "stream",
     "text": [
      "['abc', 'abcs', 'abilities', 'ability', 'able', 'aboard', 'about', 'about books', 'about it', 'about our', 'about our world', 'about reading', 'about science', 'about that', 'about the', 'about world', 'above', 'academic', 'academic success', 'academics', 'academy', 'access', 'access technology', 'accessible', 'accessible all', 'accessing', 'accessories', 'achieve', 'achievement', 'achievement gap', 'achieving', 'acquisition', 'across', 'across curriculum', 'act', 'action', 'active', 'active bodies', 'active bodies active', 'active bodies active minds', 'active classroom', 'active healthy', 'active kids', 'active learners', 'active learners need', 'active learning', 'active minds', 'active play', 'active recess', 'active seating', 'active seating active', 'active students', 'actively', 'activities', 'activity', 'adaptive', 'add', 'adding', 'addition', 'additional', 'adds', 'adhd', 'advanced', 'advancing', 'adventure', 'adventures', 'after', 'after flood', 'after school', 'again', 'age', 'ahead', 'ahead with', 'aid', 'aids', 'air', 'alexa', 'algebra', 'alive', 'alive with', 'all', 'all aboard', 'all about', 'all about it', 'all about that', 'all around', 'all day', 'all day long', 'all ears', 'all hands', 'all hands deck', 'all kids', 'all learners', 'all readers', 'all students', 'all the', 'all we', 'all we need', 'all year', 'allow', 'allows', 'along', 'aloud', 'alouds', 'alphabet', 'alternative', 'alternative seating', 'alternative seating options', 'always', 'am', 'amazing', 'amazing students', 'amazon', 'america', 'american', 'an', 'an active', 'an app', 'an apple', 'an apple day', 'an apple day keeps', 'an apple today', 'an ear', 'an ear resistable', 'an easel', 'an ipad', 'an organized', 'analysis', 'anchor', 'anchor charts', 'ancient', 'and', 'and learn', 'animal', 'animals', 'animation', 'another', 'answer', 'answers', 'ants', 'any', 'any seat', 'anyone', 'anything', 'anywhere', 'ap', 'app', 'apple', 'apple day', 'apple day keeps', 'apple ipad', 'apple today', 'apple tv', 'apples', 'applications', 'approach', 'appropriate', 'apps', 'archery', 'architects', 'are', 'are all', 'are leaders', 'are learning', 'are not', 'are on', 'are our', 'are ready', 'are the', 'are what', 'are you', 'area', 'areas', 'around', 'around us', 'around world', 'art', 'art class', 'art classroom', 'art history', 'art materials', 'art math', 'art room', 'art science', 'art supplies', 'art technology', 'artist', 'artistic', 'artists', 'artists need', 'arts', 'arts integration', 'artwork', 'as', 'asd', 'aspiring', 'assistive', 'assistive technology', 'at', 'at home', 'at our', 'at risk', 'at time', 'athletes', 'atpe', 'atpe member', 'attack', 'attention', 'audio', 'audio books', 'authentic', 'author', 'authors', 'autism', 'autism classroom', 'autistic', 'avid', 'award', 'award winning', 'awareness', 'away', 'away from', 'awesome', 'awesome students', 'baby', 'baby wobble', 'back', 'back basics', 'back school', 'back school supplies', 'back to', 'backpack', 'backpacks', 'bad', 'bag', 'bags', 'balance', 'balance balls', 'balanced', 'balancing', 'balancing act', 'ball', 'ball chairs', 'balls', 'band', 'bands', 'bare', 'bare necessities', 'barriers', 'baseball', 'based', 'based learning', 'basic', 'basic classroom', 'basic classroom supplies', 'basic needs', 'basic school', 'basic school supplies', 'basic supplies', 'basics', 'basketball', 'basketball team', 'basketballs', 'baskets', 'bass', 'battle', 'battle books', 'bay', 'be', 'be active', 'be fit', 'be fun', 'be healthy', 'be heard', 'be successful', 'bean', 'bean bag', 'bean bags', 'beat', 'beats', 'beautiful', 'beauty', 'because', 'become', 'become better', 'become leaders', 'becoming', 'becoming better', 'bee', 'bee bots', 'bees', 'before', 'begin', 'beginning', 'beginnings', 'begins', 'behavior', 'behind', 'being', 'being active', 'believe', 'believing', 'bellies', 'best', 'best learning', 'better', 'better future', 'better learning', 'better readers', 'better than', 'between', 'beyond', 'beyond classroom', 'big', 'big book', 'big books', 'big ideas', 'big learning', 'big screen', 'bigger', 'biking', 'bilingual', 'bilingual learners', 'bin', 'binders', 'bins', 'biographies', 'biology', 'bird', 'birds', 'bit', 'bits', 'black', 'blast', 'blast off', 'blended', 'blended learning', 'block', 'blocks', 'bloom', 'blue', 'blues', 'board', 'board games', 'boards', 'bodies', 'bodies active', 'bodies active minds', 'bodies healthy', 'bodies healthy minds', 'bodies minds', 'body', 'body mind', 'bonanza', 'boogie', 'boogie boards', 'book', 'book bags', 'book bins', 'book boxes', 'book club', 'book clubs', 'book day', 'book lovers', 'book nook', 'book series', 'book sets', 'book time', 'book worms', 'books', 'books about', 'books all', 'books are', 'books books', 'books books books', 'books books more', 'books books more books', 'books build', 'books cd', 'books classroom', 'books for', 'books galore', 'books grade', 'books help', 'books inspire', 'books kids', 'books library', 'books little', 'books make', 'books more', 'books more books', 'books need', 'books needed', 'books our', 'books please', 'books read', 'books supplies', 'books that', 'books to', 'books we', 'bookshelf', 'bookshelves', 'bookworms', 'boom', 'boost', 'boosting', 'bored', 'boredom', 'boring', 'bot', 'bots', 'bottles', 'bottoms', 'bounce', 'bounce learn', 'bouncing', 'bouncing into', 'bouncing our', 'bouncing our way', 'bouncy', 'bouncy bands', 'bound', 'box', 'boxes', 'boys', 'brag', 'brain', 'brain body', 'brain breaks', 'brain food', 'brain power', 'brainpop', 'brains', 'brains bodies', 'brand', 'brand new', 'break', 'breaking', 'breaking out', 'breakout', 'breakout edu', 'breaks', 'breathe', 'brick', 'bridge', 'bridges', 'bridging', 'bridging gap', 'bright', 'bright future', 'brighten', 'brighter', 'brighter future', 'brilliant', 'bring', 'bring learning', 'bring our', 'bring technology', 'bring world', 'bringing', 'bringing science', 'bringing technology', 'bringing world', 'brings', 'broken', 'bronx', 'bucket', 'buddies', 'budding', 'buddy', 'budget', 'bug', 'bugs', 'build', 'build classroom', 'build it', 'build it they', 'build it they will', 'build our', 'builders', 'building', 'building better', 'building blocks', 'building brain', 'building brain power', 'building classroom', 'building classroom library', 'building community', 'building future', 'building literacy', 'building love', 'building our', 'building reading', 'building steam', 'building strong', 'builds', 'bump', 'bundle', 'business', 'busy', 'busy bodies', 'but', 'butterflies', 'butterfly', 'buy', 'buzz', 'buzzing', 'by', 'bye', 'ca', 'ca not', 'ca not hear', 'ca not hear you', 'ca not sit', 'cafe', 'calculate', 'calculating', 'calculator', 'calculators', 'calculus', 'call', 'calling', 'calling all', 'calm', 'calming', 'calming corner', 'camera', 'camera action', 'cameras', 'camp', 'can', 'can be', 'can be fun', 'can code', 'can do', 'can do it', 'can go', 'can hear', 'can help', 'can learn', 'can make', 'can read', 'can read write', 'can see', 'can sit', 'can take', 'can we', 'can you', 'can you hear', 'can you hear me', 'can you see', 'cannot', 'canvas', 'captivating', 'capture', 'capturing', 'card', 'cardboard', 'cards', 'care', 'career', 'careers', 'caring', 'carpet', 'carpet ride', 'carpet time', 'carpets', 'carry', 'cars', 'cart', 'case', 'cases', 'catch', 'catching', 'cause', 'caution', 'cd', 'celebrate', 'celebrating', 'celebration', 'cells', 'center', 'center activities', 'center supplies', 'center time', 'centered', 'centered classroom', 'centered learning', 'centers', 'central', 'century', 'century classroom', 'century learners', 'century learning', 'century skills', 'century students', 'century technology', 'ceramics', 'chair', 'chair pockets', 'chairs', 'chairs active', 'chairs for', 'chairs help', 'chairs wiggly', 'chalk', 'challenge', 'challenges', 'challenging', 'champions', 'chance', 'change', 'change lives', 'change world', 'changes', 'changing', 'changing world', 'chaos', 'chapter', 'chapter books', 'character', 'characters', 'charge', 'charged', 'charged up', 'charging', 'charging station', 'chart', 'charts', 'check', 'cheer', 'cheese', 'chefs', 'chemistry', 'chess', 'chevron', 'chevron fuel', 'chicken', 'chicks', 'child', 'childhood', 'children', 'chill', 'choice', 'choice seating', 'choices', 'choir', 'choose', 'choose your', 'christmas', 'chrome', 'chrome book', 'chrome books', 'chromebook', 'chromebook classroom', 'chromebook technology', 'chromebooks', 'chromebooks all', 'chromebooks century', 'chromebooks classroom', 'chromebooks create', 'chromebooks creative', 'chromebooks for', 'chromebooks grade', 'chromebooks help', 'chromebooks kids', 'chromebooks learning', 'chromebooks math', 'chromebooks needed', 'chromebooks our', 'chromebooks part', 'chromebooks rescue', 'chromebooks special', 'chromebooks special education', 'chromebooks to', 'chromes', 'chroming', 'circle', 'circle time', 'circles', 'circuit', 'circuits', 'citizens', 'citizenship', 'city', 'civil', 'class', 'class library', 'class need', 'class needs', 'class set', 'class supplies', 'classes', 'classic', 'classics', 'classroom', 'classroom carpet', 'classroom chromebooks', 'classroom community', 'classroom environment', 'classroom essentials', 'classroom flexible', 'classroom learning', 'classroom library', 'classroom materials', 'classroom needs', 'classroom organization', 'classroom part', 'classroom printer', 'classroom project', 'classroom redesign', 'classroom rug', 'classroom seating', 'classroom supplies', 'classroom technology', 'classroom with', 'classrooms', 'clay', 'clean', 'clean classroom', 'cleaning', 'clear', 'clearly', 'clearly now', 'click', 'click away', 'climate', 'clipboards', 'close', 'close reading', 'closer', 'closing', 'clothes', 'clothing', 'club', 'clubs', 'clutter', 'coats', 'code', 'coders', 'codes', 'coding', 'coding our', 'coding with', 'coffee', 'coffee shop', 'cold', 'collaborate', 'collaborate listen', 'collaborating', 'collaboration', 'collaborative', 'collaborative classroom', 'collaborative learning', 'collection', 'college', 'college bound', 'college career', 'college culture', 'college culture classroom', 'college ready', 'college signing', 'college signing day', 'color', 'color our', 'color our world', 'color printer', 'colored', 'colorful', 'colorful classroom', 'coloring', 'colors', 'come', 'come alive', 'come life', 'come to', 'come true', 'comes', 'comes alive', 'comes life', 'comfort', 'comfortable', 'comfortable classroom', 'comfortable learning', 'comfortable place', 'comfortable reading', 'comfortable seating', 'comfortably', 'comfy', 'comfy carpet', 'comfy classroom', 'comfy cozy', 'comfy cozy reading', 'comfy reading', 'comfy seating', 'comic', 'comic books', 'comics', 'coming', 'common', 'common core', 'communicate', 'communicating', 'communication', 'communities', 'community', 'community carpet', 'community learners', 'competition', 'complete', 'completing', 'complex', 'composition', 'composting', 'comprehension', 'computer', 'computer lab', 'computer programming', 'computer science', 'computers', 'computing', 'concentrate', 'concentration', 'concepts', 'confidence', 'confident', 'connect', 'connected', 'connecting', 'connection', 'connections', 'conquering', 'constructing', 'construction', 'content', 'continued', 'continuing', 'control', 'cook', 'cooking', 'cooking up', 'cool', 'cooperative', 'cooperative learning', 'copies', 'copy', 'core', 'corner', 'costumes', 'could', 'counseling', 'count', 'counting', 'country', 'counts', 'course', 'cover', 'covers', 'cozy', 'cozy carpet', 'cozy classroom', 'cozy reading', 'cozy reading corner', 'cozy up', 'craft', 'crafting', 'crafts', 'crafty', 'craving', 'crayons', 'crazy', 'crazy chromebooks', 'create', 'create art', 'create collaborate', 'created', 'creates', 'creating', 'creating art', 'creating century', 'creating classroom', 'creating comfortable', 'creating future', 'creating life', 'creating life long', 'creating love', 'creating our', 'creating student', 'creating with', 'creation', 'creations', 'creative', 'creative classroom', 'creative kids', 'creative learning', 'creative minds', 'creative seating', 'creative thinking', 'creative writers', 'creative writing', 'creatively', 'creativity', 'creativity critical', 'creativity critical thinking', 'creativity critical thinking through', 'creativity through', 'creators', 'crew', 'cricut', 'crime', 'critical', 'critical thinkers', 'critical thinking', 'critical thinking through', 'cross', 'cubbies', 'cube', 'cubes', 'culinary', 'cultivating', 'cultural', 'culturally', 'culture', 'culture classroom', 'cultures', 'curiosity', 'curious', 'curl', 'current', 'current events', 'curriculum', 'cushions', 'cut', 'cutting', 'cutting edge', 'cycle', 'cycles', 'da', 'daily', 'dance', 'dancing', 'dash', 'dash dot', 'dashing', 'data', 'data collection', 'day', 'day keeps', 'day long', 'days', 'de', 'deaf', 'dear', 'deck', 'deep', 'deeper', 'dell', 'dell chromebook', 'demand', 'deserve', 'deserving', 'design', 'designed', 'designers', 'designing', 'designs', 'desk', 'desks', 'desktop', 'desperate', 'desperately', 'desperately needed', 'desperately seeking', 'destination', 'details', 'develop', 'developing', 'development', 'devices', 'dictionaries', 'did', 'did you', 'difference', 'different', 'differentiate', 'differentiated', 'differentiated instruction', 'differentiated learning', 'differentiating', 'differentiation', 'dig', 'digging', 'digital', 'digital age', 'digital classroom', 'digital divide', 'digital learning', 'digital literacy', 'digital portfolios', 'digital storytelling', 'digital world', 'dirty', 'disabilities', 'discover', 'discovering', 'discovery', 'discussions', 'display', 'dissection', 'distractions', 'ditch', 'ditch desks', 'dive', 'diverse', 'diverse books', 'diverse learners', 'diversity', 'divide', 'diving', 'dna', 'do', 'do it', 'do not', 'do not fall', 'do not fall down', 'do we', 'do you', 'do you hear', 'do you hear what', 'doctor', 'document', 'document camera', 'documenting', 'does', 'does not', 'does your', 'does your garden', 'does your garden grow', 'dog', 'doing', 'done', 'doodle', 'doodling', 'door', 'doors', 'dot', 'dots', 'double', 'down', 'dr', 'dr seuss', 'dragon', 'drama', 'dramatic', 'dramatic play', 'draw', 'drawing', 'dream', 'dream work', 'dreaming', 'dreams', 'dress', 'drive', 'driven', 'drives', 'drone', 'drones', 'drop', 'drum', 'drumming', 'drumming up', 'drums', 'dry', 'dry erase', 'dry erase boards', 'drying', 'dual', 'dual language', 'dual language learners', 'durable', 'during', 'dynamic', 'dyslexia', 'each', 'each student', 'eager', 'eager learners', 'eager readers', 'eagle', 'eagles', 'ear', 'ear resistable', 'earbuds', 'early', 'early childhood', 'early literacy', 'ears', 'earth', 'earth day', 'earth science', 'ease', 'easel', 'easier', 'east', 'easy', 'eat', 'eating', 'echo', 'economic', 'economics', 'ecosystem', 'ecosystems', 'ed', 'edge', 'edition', 'edu', 'educate', 'educating', 'education', 'education class', 'education classroom', 'education students', 'education students need', 'educational', 'educational games', 'effective', 'effective learning', 'effectively', 'efficient', 'egg', 'el', 'ela', 'ela classroom', 'election', 'electricity', 'electrifying', 'electronic', 'electronics', 'elementary', 'elementary school', 'elementary students', 'ell', 'ells', 'elmo', 'em', 'embracing', 'emerging', 'emotional', 'emotional learning', 'emotions', 'empathy', 'empower', 'empowering', 'empowering students', 'empowering students art', 'empowering students through', 'empowering students through art', 'empowerment', 'empty', 'en', 'encourage', 'encouraging', 'end', 'endless', 'ends', 'energetic', 'energize', 'energy', 'engage', 'engage students', 'engaged', 'engaged learners', 'engaged learning', 'engagement', 'engaging', 'engaging books', 'engaging classroom', 'engaging families', 'engaging learning', 'engaging math', 'engaging minds', 'engaging students', 'engaging students through', 'engineer', 'engineering', 'engineering math', 'engineers', 'engineers need', 'english', 'english language', 'english language learners', 'english learners', 'enhance', 'enhance learning', 'enhance our', 'enhanced', 'enhancement', 'enhances', 'enhancing', 'enhancing learning', 'enjoy', 'enough', 'enrich', 'enriching', 'enrichment', 'enthusiastic', 'entrepreneurs', 'environment', 'environmental', 'environmental science', 'epic', 'equal', 'equals', 'equations', 'equipment', 'equipment for', 'equity', 'erase', 'erase boards', 'escape', 'esl', 'esl students', 'esol', 'espa', 'espa ol', 'essential', 'essentials', 'even', 'even more', 'events', 'ever', 'every', 'every child', 'every day', 'every student', 'everybody', 'everyday', 'everyone', 'everything', 'everything everything', 'everywhere', 'evidence', 'exam', 'excel', 'excellence', 'excellent', 'exceptional', 'exceptional students', 'excite', 'excited', 'excited about', 'excitement', 'exciting', 'exercise', 'exercise balls', 'exercising', 'expand', 'expand our', 'expanding', 'expanding our', 'expeditions', 'experience', 'experiences', 'experiencing', 'experiment', 'experiments', 'experts', 'exploration', 'explorations', 'explore', 'explore world', 'explorers', 'exploring', 'exploring our', 'exploring science', 'exploring world', 'express', 'expressing', 'expression', 'extending', 'extra', 'extra extra', 'extra extra read', 'extra extra read all', 'extra read', 'extra read all', 'extra read all about', 'extraordinary', 'extravaganza', 'extreme', 'eye', 'eyes', 'fabulous', 'face', 'fact', 'facts', 'fair', 'fairy', 'fairy tale', 'fairy tales', 'fake', 'fall', 'fall down', 'falling', 'families', 'family', 'family fun', 'fantastic', 'fantastic first', 'farm', 'fast', 'favorite', 'fear', 'feed', 'feed our', 'feeding', 'feel', 'feel like', 'feeling', 'feet', 'few', 'fiction', 'fiction books', 'fidget', 'fidget focus', 'fidgeting', 'fidgets', 'fidgety', 'field', 'field trips', 'fifth', 'fifth grade', 'fifth graders', 'fight', 'fill', 'fill our', 'filling', 'film', 'final', 'finally', 'financial', 'financial literacy', 'find', 'find out', 'finding', 'finding our', 'fine', 'fine motor', 'fine motor skills', 'finger', 'finger tips', 'fingers', 'fingertips', 'finish', 'fire', 'fire learning', 'fire reading', 'fire tablets', 'fire up', 'fired', 'fired up', 'fired up about', 'fires', 'firing', 'first', 'first century', 'first grade', 'first graders', 'first graders need', 'first year', 'first year teacher', 'firsties', 'fish', 'fit', 'fit life', 'fitbit', 'fitbits', 'fitness', 'fitness fun', 'five', 'flash', 'flex', 'flex seating', 'flexibility', 'flexible', 'flexible classroom', 'flexible classroom seating', 'flexible fun', 'flexible learners', 'flexible learning', 'flexible learning environment', 'flexible minds', 'flexible seating', 'flexible seating active', 'flexible seating active learners', 'flexible seating all', 'flexible seating century', 'flexible seating choices', 'flexible seating classroom', 'flexible seating engaged', 'flexible seating fantastic', 'flexible seating first', 'flexible seating first grade', 'flexible seating flexible', 'flexible seating flexible learners', 'flexible seating flexible learning', 'flexible seating flexible minds', 'flexible seating for', 'flexible seating grade', 'flexible seating kindergarten', 'flexible seating learning', 'flexible seating optimal', 'flexible seating optimal learning', 'flexible seating options', 'flexible seating paradise', 'flexible seating student', 'flexible seating student centered', 'flexible seating success', 'flexible seats', 'flexible thinking', 'flexing', 'flexing our', 'flight', 'flip', 'flipped', 'flipping', 'flood', 'flooded', 'flooding', 'floor', 'fluency', 'fluent', 'fluent readers', 'fly', 'flying', 'focus', 'focus learn', 'focus learning', 'focused', 'focused learning', 'focusing', 'folders', 'follow', 'food', 'foods', 'foot', 'football', 'for', 'for all', 'for books', 'for century', 'for everyone', 'for fitness', 'for flexible', 'for grade', 'for kids', 'for kindergarten', 'for learning', 'for life', 'for little', 'for love', 'for love reading', 'for my', 'for my students', 'for our', 'for our classroom', 'for our future', 'for reading', 'for science', 'for special', 'for students', 'for students with', 'for success', 'for the', 'for the future', 'force', 'forever', 'forget', 'forward', 'foster', 'fostering', 'fostering love', 'found', 'foundation', 'foundations', 'four', 'fourth', 'fourth grade', 'fourth graders', 'fraction', 'fractions', 'free', 'freedom', 'french', 'frenzy', 'fresh', 'fresh start', 'friday', 'friend', 'friendly', 'friendly classroom', 'friends', 'frog', 'frogs', 'from', 'fuel', 'fuel my', 'fuel our', 'fueling', 'full', 'full ahead', 'full steam', 'full steam ahead', 'full steam ahead with', 'full stem', 'full stem ahead', 'fun', 'fun again', 'fun engaging', 'fun everyone', 'fun flexible', 'fun for', 'fun games', 'fun learning', 'fun math', 'fun reading', 'fun with', 'functional', 'fund', 'fundamental', 'fundamentals', 'furniture', 'future', 'future engineers', 'future leaders', 'future readers', 'future scientist', 'future scientists', 'future with', 'futures', 'gain', 'gaining', 'galaxy', 'gallery', 'galore', 'game', 'game on', 'games', 'gaming', 'gap', 'gaps', 'garden', 'garden grow', 'gardening', 'gateway', 'gather', 'gathering', 'gear', 'generation', 'generation science', 'genius', 'genius hour', 'geniuses', 'geography', 'geometry', 'german', 'germs', 'get', 'get active', 'get comfy', 'get creative', 'get fired', 'get fit', 'get flexible', 'get healthy', 'get kids', 'get lost', 'get moving', 'get organized', 'get our', 'get our wiggles', 'get our wiggles out', 'get physical', 'get reading', 'get ready', 'get set', 'get up', 'get us', 'get wiggles', 'get wiggles out', 'get your', 'get your wiggles', 'get your wiggles out', 'gets', 'getting', 'getting active', 'getting comfy', 'getting comfy cozy', 'getting creative', 'getting fit', 'getting organized', 'getting our', 'getting ready', 'getting techy', 'getting wiggles', 'getting wiggles out', 'giant', 'gift', 'gifted', 'girl', 'girls', 'give', 'give me', 'give us', 'giver', 'gives', 'giving', 'giving students', 'glass', 'global', 'glue', 'go', 'go away', 'go green', 'go hand', 'go hand hand', 'go round', 'go with', 'goal', 'goals', 'goes', 'goggles', 'going', 'going green', 'gold', 'golden', 'golf', 'gone', 'gonna', 'good', 'good book', 'good books', 'good health', 'good readers', 'goodbye', 'google', 'google cardboard', 'google chromebooks', 'google classroom', 'gopro', 'got', 'gotta', 'government', 'grab', 'grade', 'grade class', 'grade classroom', 'grade learners', 'grade learning', 'grade math', 'grade needs', 'grade readers', 'grade reading', 'grade scholars', 'grade science', 'grade scientists', 'grade students', 'grade success', 'grade techies', 'grader', 'graders', 'graders are', 'graders love', 'graders need', 'graders want', 'grades', 'grammar', 'graphic', 'graphic novel', 'graphic novels', 'graphics', 'graphing', 'graphing calculators', 'great', 'great book', 'great books', 'great readers', 'great start', 'great students', 'greater', 'greatness', 'greek', 'green', 'green screen', 'groove', 'groovin', 'grooving', 'gross', 'ground', 'group', 'group instruction', 'group learning', 'group work', 'groups', 'grow', 'grow our', 'growing', 'growing minds', 'growing our', 'growing readers', 'grows', 'growth', 'growth mindset', 'guided', 'guided math', 'guided reading', 'guided reading books', 'guiding', 'guitar', 'guitars', 'gym', 'habits', 'had', 'hand', 'hand hand', 'hands', 'hands activities', 'hands deck', 'hands learning', 'hands math', 'hands on', 'hands on learning', 'hands on math', 'hands on science', 'hands science', 'handwriting', 'happen', 'happening', 'happens', 'happiness', 'happy', 'happy healthy', 'happy students', 'hard', 'hard work', 'harry', 'harry potter', 'has', 'hatching', 'have', 'have fun', 'have seat', 'have you', 'having', 'having ball', 'having fun', 'head', 'headphone', 'headphones', 'headphones for', 'headphones help', 'headphones learning', 'headphones needed', 'heads', 'headsets', 'health', 'health fitness', 'health wellness', 'healthier', 'healthy', 'healthy active', 'healthy bodies', 'healthy bodies healthy', 'healthy bodies healthy minds', 'healthy body', 'healthy choices', 'healthy eating', 'healthy food', 'healthy habits', 'healthy happy', 'healthy kids', 'healthy learning', 'healthy lifestyle', 'healthy lifestyles', 'healthy living', 'healthy mind', 'healthy minds', 'healthy snacks', 'healthy students', 'hear', 'hear it', 'hear me', 'hear me now', 'hear us', 'hear what', 'hear what hear', 'hear ye', 'hear ye hear', 'hear ye hear ye', 'hear you', 'heard', 'hearing', 'heart', 'hearts', 'heat', 'heights', 'hello', 'help', 'help bring', 'help build', 'help create', 'help fund', 'help get', 'help keep', 'help kids', 'help make', 'help make our', 'help me', 'help me learn', 'help my', 'help my students', 'help our', 'help our class', 'help our students', 'help special', 'help students', 'help students learn', 'help support', 'help us', 'help us be', 'help us become', 'help us bring', 'help us build', 'help us build our', 'help us create', 'help us find', 'help us focus', 'help us get', 'help us get our', 'help us grow', 'help us hear', 'help us keep', 'help us learn', 'help us make', 'help us move', 'help us organize', 'help us read', 'help us see', 'help us stay', 'help us succeed', 'help us wiggle', 'help us with', 'help we', 'help we need', 'help with', 'helping', 'helping students', 'helping us', 'helps', 'helps us', 'helps us learn', 'here', 'here we', 'here we come', 'hero', 'heroes', 'hey', 'hi', 'high', 'high interest', 'high interest books', 'high poverty', 'high school', 'high school students', 'high tech', 'higher', 'hip', 'historians', 'historical', 'historical fiction', 'history', 'history come', 'history come alive', 'history life', 'history through', 'hit', 'ho', 'hockey', 'hocus', 'hocus pocus', 'hokki', 'hokki pokey', 'hokki stools', 'hold', 'holocaust', 'home', 'home away', 'home our', 'home school', 'homework', 'hook', 'hooked', 'hoops', 'hooray', 'hop', 'hope', 'horizons', 'horseshoe', 'hot', 'hot dots', 'hour', 'house', 'how', 'how do', 'how does', 'how does your', 'how does your garden', 'how to', 'how we', 'hs', 'human', 'hunger', 'hungry', 'hydrate', 'hydrated', 'hygiene', 'ican', 'ican ipad', 'ican learn', 'icreate', 'idea', 'ideas', 'if', 'if they', 'if we', 'if you', 'if you give', 'ignite', 'igniting', 'ii', 'iii', 'ilearn', 'ilearn ipad', 'ilearn ipads', 'illiteracy', 'imagination', 'imaginations', 'imagine', 'immersion', 'impact', 'importance', 'important', 'improve', 'improve our', 'improved', 'improves', 'improving', 'in', 'in class', 'in first', 'in first grade', 'in kindergarten', 'in my', 'in need', 'in need of', 'in our', 'in our classroom', 'in the', 'in the classroom', 'incentives', 'inclusion', 'inclusive', 'income', 'income students', 'incorporating', 'increase', 'increase student', 'increased', 'increases', 'increasing', 'increasing literacy', 'incredible', 'independence', 'independent', 'independent learners', 'independent learning', 'independent readers', 'independent reading', 'individual', 'individualized', 'individualized instruction', 'individualized learning', 'indoor', 'indoor recess', 'indoors', 'ineed', 'infinity', 'infinity beyond', 'information', 'informational', 'informed', 'ing', 'initiative', 'ink', 'inner', 'inner city', 'innovate', 'innovation', 'innovative', 'innovators', 'input', 'inquiring', 'inquiring minds', 'inquiry', 'inquiry based', 'inquisitive', 'inside', 'inside outside', 'inspiration', 'inspire', 'inspired', 'inspires', 'inspiring', 'inspiring students', 'inspiring young', 'instant', 'instruction', 'instrument', 'instruments', 'integrated', 'integrating', 'integrating art', 'integrating technology', 'integration', 'interact', 'interacting', 'interaction', 'interactive', 'interactive learning', 'interactive math', 'interactive notebook', 'interactive notebooks', 'interactive science', 'interactive technology', 'interactive whiteboard', 'interest', 'interest books', 'interest reading', 'interesting', 'internet', 'intervention', 'interventions', 'into', 'into century', 'into classroom', 'into future', 'into learning', 'into new', 'into our', 'into reading', 'into the', 'introducing', 'invent', 'invention', 'inventors', 'investigating', 'investigation', 'investigations', 'inviting', 'ipad', 'ipad cases', 'ipad for', 'ipad learning', 'ipad mini', 'ipad minis', 'ipad pro', 'ipads', 'ipads classroom', 'ipads for', 'ipads learning', 'ipads make', 'ipads needed', 'ipod', 'ipods', 'iread', 'is', 'is believing', 'is fun', 'is key', 'is not', 'is our', 'is the', 'is the key', 'is worth', 'issues', 'it', 'it all', 'it all about', 'it learn', 'it learn it', 'it move', 'it move it', 'it not', 'it now', 'it out', 'it share', 'it share it', 'it takes', 'it they', 'it they will', 'it they will learn', 'it time', 'it up', 'it we', 'it with', 'iteach', 'items', 'its', 'jazz', 'jiggle', 'job', 'join', 'journal', 'journalism', 'journals', 'journey', 'joy', 'jr', 'jump', 'jump start', 'jumping', 'junior', 'just', 'just basics', 'just little', 'just right', 'just right books', 'justice', 'keep', 'keep calm', 'keep it', 'keep kids', 'keep learning', 'keep moving', 'keep our', 'keep students', 'keep them', 'keep us', 'keep us moving', 'keeping', 'keeping it', 'keeping our', 'keeping students', 'keeping up', 'keeping up with', 'keeps', 'keeps illiteracy', 'keeps us', 'key', 'key success', 'key to', 'keyboard', 'keyboards', 'keys', 'kick', 'kicking', 'kid', 'kid inspired', 'kiddos', 'kidney', 'kidney table', 'kids', 'kids are', 'kids can', 'kids can code', 'kids learn', 'kids love', 'kids need', 'kids want', 'kids with', 'kind', 'kinder', 'kinder kids', 'kindergarten', 'kindergarten class', 'kindergarten classroom', 'kindergarten kids', 'kindergarten learning', 'kindergarten needs', 'kindergarten students', 'kindergarteners', 'kindergarteners need', 'kindergartners', 'kindergartners need', 'kinders', 'kinders need', 'kindle', 'kindle fire', 'kindle fires', 'kindles', 'kindling', 'kindness', 'kinesthetic', 'kinesthetic classroom', 'king', 'kit', 'kitchen', 'kits', 'know', 'knowledge', 'kore', 'la', 'lab', 'lab supplies', 'laboratory', 'labs', 'lacrosse', 'lady', 'lakeshore', 'laminate', 'laminating', 'lamination', 'laminator', 'land', 'language', 'language arts', 'language learners', 'language learning', 'language skills', 'language through', 'languages', 'lap', 'laptop', 'laptops', 'laptops learning', 'large', 'last', 'lasting', 'launch', 'lead', 'leader', 'leaders', 'leaders tomorrow', 'leadership', 'leading', 'leads', 'league', 'leap', 'leaping', 'learn', 'learn about', 'learn best', 'learn better', 'learn english', 'learn flexible', 'learn flexible seating', 'learn grow', 'learn how', 'learn it', 'learn love', 'learn math', 'learn more', 'learn play', 'learn read', 'learn through', 'learn through play', 'learn to', 'learn together', 'learn with', 'learner', 'learners', 'learners love', 'learners need', 'learners through', 'learning', 'learning about', 'learning active', 'learning all', 'learning best', 'learning beyond', 'learning can', 'learning center', 'learning centers', 'learning century', 'learning chromebooks', 'learning classroom', 'learning code', 'learning color', 'learning come', 'learning english', 'learning environment', 'learning experience', 'learning first', 'learning flexible', 'learning flexible seating', 'learning for', 'learning fun', 'learning games', 'learning grade', 'learning history', 'learning in', 'learning ipads', 'learning is', 'learning kindergarten', 'learning language', 'learning life', 'learning listening', 'learning literacy', 'learning lounge', 'learning love', 'learning love reading', 'learning made', 'learning materials', 'learning math', 'learning more', 'learning motion', 'learning move', 'learning new', 'learning opportunities', 'learning osmo', 'learning our', 'learning part', 'learning play', 'learning read', 'learning science', 'learning space', 'learning stations', 'learning stem', 'learning styles', 'learning success', 'learning technology', 'learning through', 'learning through movement', 'learning through play', 'learning through technology', 'learning time', 'learning to', 'learning together', 'learning tools', 'learning using', 'learning while', 'learning with', 'learning with chromebooks', 'learning with technology', 'learns', 'leaving', 'led', 'leer', 'left', 'lego', 'lego wall', 'legos', 'lens', 'less', 'lesson', 'lessons', 'let', 'let be', 'let build', 'let create', 'let find', 'let find out', 'let get', 'let get active', 'let get flexible', 'let get moving', 'let get organized', 'let get physical', 'let get reading', 'let go', 'let hear', 'let learn', 'let learn about', 'let make', 'let me', 'let move', 'let play', 'let read', 'let take', 'let talk', 'let target', 'let the', 'let them', 'let there', 'let there be', 'let us', 'let your', 'lets', 'lets get', 'letter', 'letters', 'level', 'leveled', 'leveled books', 'leveled library', 'leveled readers', 'leveling', 'levels', 'library', 'library books', 'library makerspace', 'library needs', 'life', 'life cycle', 'life cycles', 'life essentials', 'life long', 'life long learners', 'life long readers', 'life science', 'life skills', 'life through', 'life with', 'lifelong', 'lifelong learners', 'lifelong readers', 'lifestyle', 'lifestyles', 'lifetime', 'lift', 'light', 'light fire', 'light up', 'light up our', 'lighting', 'lights', 'lights camera', 'lights camera action', 'like', 'like home', 'like move', 'like move it', 'like move it move', 'like move move', 'like to', 'like to move', 'like to move it', 'like wiggle', 'limit', 'line', 'lions', 'list', 'listen', 'listen learn', 'listen read', 'listen up', 'listeners', 'listening', 'listening center', 'listening centers', 'listening ears', 'listening learn', 'listening learning', 'listening library', 'listening reading', 'listening station', 'lit', 'literacy', 'literacy center', 'literacy centers', 'literacy kindergarten', 'literacy learning', 'literacy math', 'literacy skills', 'literacy stations', 'literacy technology', 'literacy through', 'literacy with', 'literally', 'literary', 'literate', 'literature', 'literature circles', 'little', 'little bit', 'little bits', 'little ears', 'little hands', 'little learners', 'little minds', 'little ones', 'little readers', 'little scientists', 'little things', 'littlebits', 'live', 'lives', 'living', 'long', 'long learners', 'long readers', 'long way', 'longer', 'look', 'looking', 'lost', 'lot', 'lots', 'loud', 'louisiana', 'lounge', 'love', 'love books', 'love learn', 'love learning', 'love literacy', 'love literature', 'love of', 'love our', 'love read', 'love reading', 'love science', 'love technology', 'love to', 'love to read', 'lovers', 'loves', 'loving', 'loving literacy', 'low', 'low income', 'low income students', 'lunch', 'mac', 'macbook', 'macbook air', 'macbook pro', 'machine', 'machines', 'mad', 'made', 'made easy', 'made fun', 'madness', 'magazine', 'magazines', 'magic', 'magic carpet', 'magic carpet ride', 'magical', 'magna', 'magnetic', 'magnets', 'magnificent', 'magnificent math', 'mail', 'make', 'make art', 'make difference', 'make great', 'make it', 'make learning', 'make learning fun', 'make math', 'make music', 'make my', 'make our', 'make our classroom', 'make reading', 'make reading fun', 'make science', 'make us', 'makeover', 'maker', 'maker space', 'makers', 'makerspace', 'makes', 'makes learning', 'makes learning fun', 'makes perfect', 'makes us', 'makey', 'makey makey', 'making', 'making connections', 'making history', 'making learning', 'making learning fun', 'making math', 'making math fun', 'making math meaningful', 'making music', 'making our', 'making reading', 'making reading fun', 'making science', 'making sense', 'making technology', 'man', 'management', 'manga', 'mania', 'manipulating', 'manipulating math', 'manipulative', 'manipulatives', 'many', 'maps', 'march', 'marching', 'mark', 'marker', 'markers', 'market', 'marvelous', 'marvelous math', 'master', 'mastering', 'mastering math', 'masterpiece', 'masterpieces', 'masters', 'mastery', 'mat', 'material', 'materials', 'materials for', 'materials needed', 'math', 'math all', 'math art', 'math center', 'math centers', 'math class', 'math classroom', 'math facts', 'math fun', 'math games', 'math is', 'math learning', 'math literacy', 'math mania', 'math manipulatives', 'math materials', 'math matters', 'math meaningful', 'math reading', 'math science', 'math skills', 'math stations', 'math students', 'math success', 'math supplies', 'math technology', 'math through', 'math tools', 'math with', 'mathematical', 'mathematicians', 'mathematicians need', 'mathematics', 'mats', 'matter', 'matters', 'maximize', 'maximize learning', 'maximizing', 'maximum', 'may', 'me', 'me learn', 'me now', 'me read', 'me up', 'mean', 'meaning', 'meaningful', 'means', 'measuring', 'media', 'media center', 'media literacy', 'meditation', 'meet', 'meeting', 'meeting needs', 'meets', 'member', 'memorable', 'memories', 'memory', 'mental', 'mentor', 'mentor texts', 'mice', 'microphones', 'microscope', 'microscopes', 'microscopic', 'middle', 'middle school', 'middle school students', 'middle schoolers', 'mighty', 'military', 'mind', 'mind body', 'mindful', 'mindfulness', 'minds', 'minds bodies', 'minds need', 'minds on', 'minds through', 'minds with', 'mindset', 'mini', 'mini ipads', 'minis', 'minutes', 'miss', 'missing', 'mission', 'mistakes', 'mixing', 'mo', 'mo willems', 'mobile', 'model', 'modeling', 'models', 'modern', 'molding', 'moment', 'moments', 'money', 'monitoring', 'monster', 'moon', 'more', 'more books', 'more fun', 'more learning', 'more movement', 'more technology', 'more than', 'more than just', 'more you', 'more you know', 'more you read', 'more you read more', 'morning', 'most', 'motion', 'motivate', 'motivated', 'motivates', 'motivating', 'motivation', 'motivational', 'motor', 'motor skills', 'mouse', 'move', 'move groove', 'move it', 'move it move', 'move it move it', 'move learn', 'move move', 'move while', 'move your', 'movement', 'movement learning', 'movers', 'movers shakers', 'moves', 'movie', 'movies', 'movin', 'movin groovin', 'moving', 'moving bodies', 'moving forward', 'moving grooving', 'moving learn', 'moving learning', 'moving minds', 'moving our', 'moving while', 'moving while we', 'mr', 'mrs', 'ms', 'much', 'much needed', 'multi', 'multi sensory', 'multicultural', 'multimedia', 'multiple', 'multiplication', 'mural', 'muscles', 'museum', 'music', 'music class', 'music classroom', 'music program', 'music room', 'music stands', 'musical', 'musicians', 'must', 'mustangs', 'my', 'my class', 'my classroom', 'my first', 'my first graders', 'my kids', 'my kinders', 'my learning', 'my little', 'my own', 'my scholars', 'my school', 'my special', 'my students', 'my students need', 'my way', 'my world', 'myself', 'mystery', 'namaste', 'name', 'nanakuli', 'nation', 'national', 'native', 'natural', 'nature', 'neat', 'necessary', 'necessities', 'need', 'need art', 'need basic', 'need basic supplies', 'need book', 'need books', 'need chromebook', 'need chromebooks', 'need classroom', 'need diverse', 'need flexible', 'need flexible seating', 'need headphones', 'need help', 'need home', 'need ink', 'need ipad', 'need ipads', 'need listening', 'need listening center', 'need materials', 'need math', 'need more', 'need move', 'need move it', 'need move it move', 'need new', 'need of', 'need paper', 'need place', 'need printer', 'need read', 'need rug', 'need some', 'need stem', 'need supplies', 'need technology', 'need to', 'need wiggle', 'need wobble', 'need your', 'need your help', 'needed', 'needed for', 'needed grade', 'needed help', 'needed to', 'needing', 'needs', 'needs books', 'needs classroom', 'needs help', 'needs new', 'needs students', 'needs students need', 'needs supplies', 'needs technology', 'never', 'new', 'new book', 'new books', 'new classroom', 'new grade', 'new heights', 'new rug', 'new school', 'new school year', 'new supplies', 'new teacher', 'new technology', 'new way', 'new world', 'new year', 'new year new', 'news', 'newspaper', 'nex', 'next', 'next generation', 'next generation science', 'next level', 'nice', 'night', 'no', 'no more', 'no place', 'no place like', 'noise', 'non', 'non fiction', 'non fiction books', 'nonfiction', 'nonfiction books', 'nook', 'north', 'not', 'not be', 'not fall', 'not fall down', 'not have', 'not hear', 'not hear you', 'not just', 'not sit', 'not sit still', 'not so', 'not stop', 'not wait', 'note', 'notebook', 'notebooks', 'notes', 'nothing', 'novel', 'novel studies', 'novel study', 'novels', 'now', 'now we', 'number', 'number sense', 'numbers', 'nurturing', 'nutrition', 'nutritious', 'odds', 'of', 'of the', 'off', 'off right', 'office', 'oh', 'oh my', 'oh places', 'oh places we', 'oh places you', 'oh the', 'oh the places', 'oh the places you', 'ol', 'old', 'old school', 'olds', 'olympics', 'on', 'on fire', 'on learning', 'on math', 'on our', 'on science', 'on target', 'on the', 'on the move', 'on your', 'once', 'once upon', 'once upon time', 'one', 'one book', 'one book time', 'one chromebook', 'one easel', 'one one', 'one step', 'one step time', 'one student', 'ones', 'online', 'online learning', 'only', 'open', 'opening', 'opens', 'operation', 'opportunities', 'opportunity', 'optimal', 'optimal learning', 'options', 'or', 'oral', 'orchestra', 'order', 'ordinary', 'orff', 'organization', 'organization is', 'organization key', 'organization key success', 'organizational', 'organize', 'organize our', 'organized', 'organized classroom', 'organizers', 'organizing', 'organizing our', 'osmo', 'osmo learning', 'osmos', 'other', 'others', 'our', 'our art', 'our bodies', 'our books', 'our brain', 'our brains', 'our chromebooks', 'our class', 'our classroom', 'our classroom library', 'our community', 'our day', 'our ears', 'our environment', 'our favorite', 'our fingertips', 'our first', 'our future', 'our future leaders', 'our futures', 'our garden', 'our goal', 'our goals', 'our hands', 'our health', 'our hearts', 'our ipads', 'our kids', 'our knowledge', 'our learning', 'our library', 'our listening', 'our literacy', 'our little', 'our lives', 'our love', 'our makerspace', 'our math', 'our minds', 'our music', 'our new', 'our own', 'our reading', 'our room', 'our school', 'our science', 'our seats', 'our space', 'our special', 'our students', 'our success', 'our supplies', 'our target', 'our technology', 'our way', 'our way into', 'our way success', 'our way through', 'our way to', 'our wiggles', 'our wiggles out', 'our work', 'our world', 'our writing', 'ourselves', 'out', 'out of', 'out our', 'out with', 'outdoor', 'outdoor classroom', 'outdoors', 'outside', 'outside box', 'outside classroom', 'outstanding', 'over', 'owl', 'owl pellets', 'owls', 'own', 'ozobot', 'ozobots', 'pack', 'packs', 'pad', 'pads', 'page', 'paint', 'painting', 'pair', 'pants', 'paper', 'paper paper', 'paper pencils', 'paper please', 'paperless', 'paperless classroom', 'papers', 'paradise', 'parent', 'parents', 'park', 'part', 'part ii', 'part two', 'participation', 'partner', 'party', 'pass', 'passion', 'passion reading', 'passionate', 'past', 'path', 'pe', 'pe equipment', 'peace', 'pedal', 'pedaling', 'pedometers', 'pellet', 'pellets', 'pen', 'pencil', 'pencil sharpener', 'pencils', 'pens', 'people', 'percussion', 'perfect', 'performance', 'personal', 'personal space', 'personalized', 'personalized learning', 'perspective', 'pet', 'phase', 'phonemic', 'phones', 'phonics', 'phonics fun', 'photo', 'photography', 'physical', 'physical activity', 'physical education', 'physical fitness', 'physically', 'physics', 'pi', 'piano', 'picasso', 'picassos', 'pick', 'pick seat', 'picture', 'picture books', 'picture this', 'picture worth', 'picture worth thousand', 'picture worth thousand words', 'pictures', 'piece', 'pieces', 'pillows', 'place', 'place call', 'place everyone', 'place everything', 'place everything everything', 'place for', 'place learn', 'place like', 'place read', 'place sit', 'place to', 'places', 'places we', 'places we go', 'places we will', 'places you', 'places you go', 'plan', 'planet', 'plant', 'planting', 'plants', 'play', 'play ball', 'play learn', 'play time', 'play with', 'players', 'playground', 'playing', 'playing field', 'please', 'please help', 'please help my', 'please help us', 'plugged', 'plus', 'pocket', 'pockets', 'pocus', 'poetry', 'point', 'pokey', 'pop', 'popping', 'portable', 'portfolio', 'portfolios', 'positive', 'positive behavior', 'possibilities', 'possible', 'post', 'posters', 'posture', 'potential', 'potter', 'poverty', 'power', 'power choice', 'powered', 'powerful', 'practice', 'practice makes', 'practice makes perfect', 'practicing', 'pre', 'pre students', 'prek', 'prep', 'prepare', 'prepared', 'preparing', 'preparing students', 'preschool', 'preschoolers', 'present', 'presentation', 'presentations', 'presenting', 'press', 'pretend', 'pretty', 'pride', 'primary', 'print', 'print it', 'printed', 'printer', 'printer ink', 'printers', 'printing', 'printmaking', 'prints', 'privacy', 'prize', 'prize winning', 'prize winning toon', 'prize winning toon graphics', 'prizes', 'pro', 'problem', 'problem solvers', 'problem solving', 'problems', 'process', 'production', 'productive', 'products', 'professional', 'proficiency', 'program', 'programmers', 'programming', 'programs', 'progress', 'project', 'project based', 'project based learning', 'projecting', 'projecting our', 'projection', 'projector', 'projects', 'promote', 'promotes', 'promoting', 'proper', 'props', 'pros', 'protect', 'protect our', 'protecting', 'protecting our', 'protection', 'proud', 'provide', 'providing', 'pt', 'public', 'publish', 'publishing', 'pull', 'pump', 'pupils', 'puppet', 'puppets', 'purpose', 'purposeful', 'put', 'putting', 'puzzles', 'qr', 'quality', 'quest', 'questions', 'quiet', 'quill', 'quill you', 'race', 'racing', 'rack', 'rad', 'radical', 'rain', 'rainbow', 'rainy', 'rainy day', 'raise', 'raising', 'raspberry', 'raspberry pi', 'rate', 're', 'reach', 'reach stars', 'reaching', 'read', 'read about', 'read all', 'read all about', 'read all about it', 'read along', 'read aloud', 'read alouds', 'read book', 'read books', 'read it', 'read learn', 'read me', 'read more', 'read more you', 'read read', 'read read read', 'read succeed', 'read the', 'read to', 'read together', 'read we', 'read with', 'read write', 'read write share', 'reader', 'reader tomorrow', 'reader tomorrow leader', 'reader workshop', 'readers', 'readers are', 'readers are leaders', 'readers become', 'readers leaders', 'readers need', 'readers need books', 'readers one', 'readers through', 'readers with', 'readers writers', 'readiness', 'reading', 'reading about', 'reading adventure', 'reading adventures', 'reading area', 'reading books', 'reading center', 'reading centers', 'reading comprehension', 'reading corner', 'reading fluency', 'reading fun', 'reading fundamental', 'reading intervention', 'reading is', 'reading learn', 'reading learning', 'reading life', 'reading materials', 'reading math', 'reading nook', 'reading our', 'reading our way', 'reading resources', 'reading rocks', 'reading rug', 'reading science', 'reading skills', 'reading success', 'reading table', 'reading takes', 'reading technology', 'reading through', 'reading time', 'reading with', 'reading writing', 'reads', 'ready', 'ready learn', 'ready read', 'ready readers', 'ready set', 'ready set learn', 'ready set read', 'ready to', 'real', 'real life', 'real world', 'reality', 'really', 'rebuilding', 'recess', 'recess equipment', 'recess fun', 'record', 'recorders', 'recording', 'recovery', 'recycle', 'recycling', 'red', 'redesign', 'reduce', 'reduce reuse', 'reeds', 'refugees', 'regulation', 'relationships', 'relax', 'relaxing', 'relevant', 'relief', 'reluctant', 'reluctant readers', 'remember', 'repeat', 'replace', 'replacement', 'replacing', 'request', 'rescue', 'research', 'researchers', 'researching', 'resistable', 'resource', 'resource room', 'resources', 'responsibility', 'rest', 'restock', 'reuse', 'review', 'revolution', 'reward', 'rewarding', 'rewards', 'rhythm', 'rich', 'ride', 'riding', 'right', 'right books', 'rights', 'rigorous', 'rise', 'rising', 'risk', 'river', 'road', 'robot', 'robotic', 'robotics', 'robotics classroom', 'robotics club', 'robotics coding', 'robotics team', 'robots', 'robots coding', 'rock', 'rock roll', 'rock stars', 'rocket', 'rockets', 'rockin', 'rocking', 'rocks', 'rockstars', 'roll', 'rolling', 'room', 'round', 'rug', 'rugs', 'rule', 'rules', 'run', 'running', 'rural', 'sacks', 'safe', 'safe place', 'safety', 'safety first', 'same', 'sand', 'save', 'save our', 'saving', 'savvy', 'savvy students', 'savy', 'say', 'say cheese', 'says', 'scholars', 'scholars need', 'scholastic', 'scholastic magazines', 'scholastic news', 'school', 'school band', 'school classroom', 'school garden', 'school home', 'school library', 'school store', 'school students', 'school supplies', 'school supplies needed', 'school year', 'schoolers', 'schools', 'science', 'science art', 'science books', 'science class', 'science classroom', 'science exploration', 'science fair', 'science fun', 'science lab', 'science learning', 'science life', 'science literacy', 'science materials', 'science math', 'science reading', 'science social', 'science social studies', 'science stem', 'science students', 'science supplies', 'science technology', 'science technology engineering', 'science technology engineering math', 'science through', 'science with', 'scientific', 'scientist', 'scientists', 'scientists need', 'scissors', 'scope', 'score', 'scream', 'screen', 'sea', 'search', 'searching', 'season', 'seat', 'seat any', 'seat any seat', 'seat sacks', 'seating', 'seating active', 'seating active learners', 'seating all', 'seating busy', 'seating century', 'seating choices', 'seating classroom', 'seating engaged', 'seating fantastic', 'seating first', 'seating first grade', 'seating flexible', 'seating flexible learners', 'seating flexible learning', 'seating flexible minds', 'seating for', 'seating fun', 'seating grade', 'seating graders', 'seating help', 'seating kindergarten', 'seating learning', 'seating makes', 'seating mrs', 'seating needed', 'seating optimal', 'seating optimal learning', 'seating options', 'seating our', 'seating paradise', 'seating part', 'seating project', 'seating second', 'seating special', 'seating student', 'seating student centered', 'seating student centered classroom', 'seating students', 'seating success', 'seating the', 'seating wiggly', 'seats', 'second', 'second grade', 'second graders', 'second graders need', 'secret', 'secure', 'see', 'see it', 'see me', 'see what', 'seed', 'seeds', 'seeing', 'seeing believing', 'seeing is', 'seeing is believing', 'seek', 'seeking', 'self', 'send', 'seniors', 'sensational', 'sensational sensory', 'sense', 'senses', 'sensory', 'sensory items', 'sensory learning', 'sensory materials', 'sensory needs', 'sensory play', 'sensory room', 'sensory seating', 'sensory tools', 'series', 'serious', 'set', 'set go', 'set learn', 'set read', 'sets', 'setting', 'seuss', 'severe', 'sew', 'sewing', 'shake', 'shakers', 'shakespeare', 'shaking', 'shape', 'shapes', 'shaping', 'share', 'share it', 'shared', 'sharing', 'sharp', 'sharp pencils', 'sharpen', 'sharpener', 'sharpening', 'shelf', 'shelves', 'shine', 'shining', 'shirts', 'shoes', 'shoot', 'shooting', 'shop', 'short', 'should', 'should not', 'show', 'show it', 'show me', 'show what', 'show what you', 'showing', 'side', 'sight', 'sight word', 'sight words', 'signing', 'signing day', 'silence', 'simple', 'simple machines', 'simply', 'sims', 'sing', 'singing', 'sis', 'sit', 'sit down', 'sit learn', 'sit stand', 'sit still', 'sitting', 'sitting pretty', 'sitting still', 'sixth', 'sixth grade', 'size', 'sketchbooks', 'skill', 'skills', 'skills through', 'skills with', 'sky', 'small', 'small group', 'small group instruction', 'small group learning', 'small groups', 'smart', 'smart board', 'smart students', 'smartboard', 'smarter', 'smile', 'smiles', 'snack', 'snacks', 'snacks healthy', 'snap', 'snap circuits', 'snow', 'snug', 'so', 'so many', 'so much', 'so we', 'so we can', 'soar', 'soaring', 'soccer', 'soccer team', 'social', 'social emotional', 'social emotional learning', 'social justice', 'social skills', 'social studies', 'society', 'socks', 'soft', 'softball', 'soil', 'solar', 'solutions', 'solve', 'solvers', 'solving', 'some', 'some more', 'something', 'sometimes', 'song', 'soon', 'soul', 'sound', 'sounds', 'south', 'south bronx', 'space', 'spaces', 'spanish', 'spanish books', 'spanish class', 'spark', 'sparking', 'speak', 'speaker', 'speakers', 'speaking', 'special', 'special ed', 'special education', 'special education class', 'special education classroom', 'special education students', 'special kids', 'special learners', 'special needs', 'special needs classroom', 'special needs students', 'special needs students need', 'special students', 'spectacular', 'spectrum', 'sped', 'speech', 'speech language', 'speech therapy', 'speed', 'spell', 'spelling', 'sphero', 'spike', 'spin', 'spirit', 'sport', 'sports', 'sports equipment', 'spot', 'spots', 'spreading', 'spring', 'stability', 'stability balls', 'stage', 'stamina', 'stand', 'stand up', 'stand up for', 'stand up learning', 'standards', 'standing', 'standing desks', 'standing up', 'stands', 'star', 'starbucks', 'stars', 'start', 'start our', 'start school', 'start up', 'start year', 'started', 'starter', 'starting', 'starting year', 'starts', 'starts with', 'state', 'station', 'stations', 'stay', 'stay active', 'stay focused', 'stay healthy', 'stay organized', 'staying', 'staying active', 'staying fit', 'staying healthy', 'staying organized', 'steam', 'steam activities', 'steam ahead', 'steam ahead with', 'steam classroom', 'steam lab', 'steam learning', 'steam projects', 'steaming', 'stellar', 'stem', 'stem activities', 'stem ahead', 'stem classroom', 'stem education', 'stem kindergarten', 'stem kits', 'stem learning', 'stem materials', 'stem project', 'stem projects', 'stem science', 'stem steam', 'stem students', 'steming', 'stems', 'stemulating', 'step', 'step time', 'stepping', 'steps', 'stick', 'sticks', 'sticky', 'still', 'stimulate', 'stimulating', 'stock', 'stocking', 'stool', 'stools', 'stools active', 'stop', 'stop collaborate', 'stop collaborate listen', 'storage', 'store', 'stories', 'story', 'story time', 'storytelling', 'storyworks', 'strategies', 'strength', 'strengthen', 'strengthening', 'stress', 'stretch', 'strike', 'strings', 'striving', 'strong', 'strong minds', 'strong readers', 'stronger', 'structured', 'struggling', 'struggling readers', 'strumming', 'student', 'student achievement', 'student centered', 'student centered classroom', 'student centered learning', 'student choice', 'student engagement', 'student inspired', 'student learning', 'student led', 'student success', 'student work', 'students', 'students access', 'students are', 'students art', 'students autism', 'students become', 'students can', 'students disabilities', 'students focus', 'students get', 'students have', 'students in', 'students learn', 'students learning', 'students love', 'students make', 'students need', 'students need supplies', 'students need technology', 'students needs', 'students read', 'students reading', 'students special', 'students special needs', 'students succeed', 'students success', 'students technology', 'students through', 'students through art', 'students through technology', 'students to', 'students want', 'students with', 'students with autism', 'students with special', 'students with special needs', 'studies', 'studio', 'study', 'studying', 'stuff', 'sturdy', 'style', 'styles', 'subjects', 'subscription', 'succeed', 'succeeding', 'success', 'success through', 'success with', 'successful', 'successful learning', 'successful students', 'summer', 'summer reading', 'sun', 'sunshine', 'super', 'super readers', 'super science', 'super scientists', 'super second', 'super students', 'super supplies', 'superhero', 'superheroes', 'superstar', 'superstars', 'supplies', 'supplies for', 'supplies grade', 'supplies help', 'supplies needed', 'supplies new', 'supplies oh', 'supplies special', 'supplies students', 'supplies success', 'supplies successful', 'supplies super', 'supplies supplies', 'supplies supplies supplies', 'supplies to', 'supply', 'supply us', 'supplying', 'support', 'support learning', 'support our', 'supporting', 'supports', 'surface', 'surfing', 'surprise', 'survival', 'sustainability', 'sustainable', 'sweet', 'swing', 'system', 'systems', 'table', 'tables', 'tablet', 'tablets', 'tablets for', 'tablets learning', 'tablets needed', 'take', 'take home', 'take look', 'take me', 'take seat', 'take stand', 'take us', 'takes', 'taking', 'taking stand', 'tale', 'talented', 'tales', 'talk', 'talking', 'talks', 'tall', 'tangled', 'tap', 'tape', 'target', 'target healthy', 'targeting', 'targets', 'task', 'tastic', 'teach', 'teach me', 'teacher', 'teacher needs', 'teachers', 'teaches', 'teaching', 'teaching students', 'teaching technology', 'teaching through', 'teaching through technology', 'teaching with', 'teaching with technology', 'team', 'team building', 'team needs', 'team sports', 'team work', 'teams', 'teamwork', 'tech', 'tech savvy', 'tech savvy students', 'tech savy', 'tech tools', 'techie', 'techies', 'technical', 'techno', 'technological', 'technologically', 'technology', 'technology all', 'technology art', 'technology center', 'technology century', 'technology classroom', 'technology driven', 'technology engineering', 'technology engineering math', 'technology enhance', 'technology first', 'technology first grade', 'technology for', 'technology future', 'technology grade', 'technology hands', 'technology help', 'technology helps', 'technology in', 'technology integration', 'technology into', 'technology is', 'technology key', 'technology kindergarten', 'technology learning', 'technology makes', 'technology math', 'technology needed', 'technology our', 'technology part', 'technology please', 'technology rocks', 'technology science', 'technology special', 'technology students', 'technology success', 'technology support', 'technology the', 'technology to', 'technology today', 'technology tools', 'technology we', 'techy', 'teen', 'teenagers', 'teens', 'tell', 'telling', 'ten', 'tennis', 'terrific', 'terrific technology', 'test', 'testing', 'text', 'textbook', 'textbooks', 'texts', 'than', 'than just', 'that', 'that is', 'the', 'the art', 'the bare', 'the basics', 'the best', 'the book', 'the century', 'the classroom', 'the day', 'the future', 'the gift', 'the great', 'the key', 'the key to', 'the learning', 'the love', 'the magic', 'the more', 'the more you', 'the more you read', 'the move', 'the music', 'the need', 'the new', 'the next', 'the perfect', 'the places', 'the places we', 'the places you', 'the power', 'the power choice', 'the reading', 'the rescue', 'the right', 'the science', 'the sound', 'the students', 'the way', 'the wiggles', 'the world', 'the write', 'the write stuff', 'the year', 'theater', 'theatre', 'their', 'their fingertips', 'their hands', 'their learning', 'their own', 'their way', 'their world', 'them', 'themselves', 'then', 'therapy', 'there', 'there app', 'there be', 'there no', 'there no place', 'there no place like', 'these', 'these books', 'they', 'they can', 'they do', 'they do not', 'they do not fall', 'they learn', 'they need', 'they will', 'they will learn', 'they work', 'thing', 'things', 'think', 'thinkers', 'thinking', 'thinking outside', 'thinking skills', 'thinking through', 'thinking with', 'third', 'third grade', 'third graders', 'third graders need', 'thirst', 'this', 'this is', 'those', 'those who', 'thought', 'thoughts', 'thousand', 'thousand words', 'three', 'thrive', 'thriving', 'through', 'through art', 'through arts', 'through books', 'through eyes', 'through flexible', 'through flexible seating', 'through games', 'through hands', 'through interactive', 'through kindergarten', 'through learning', 'through listening', 'through literacy', 'through literature', 'through math', 'through movement', 'through music', 'through our', 'through play', 'through reading', 'through science', 'through stem', 'through technology', 'through the', 'throw', 'thumbs', 'ti', 'tidy', 'tie', 'tiger', 'tigers', 'tiggly', 'tiles', 'time', 'time for', 'time for kids', 'time get', 'time kids', 'time learn', 'time play', 'time to', 'times', 'tinkering', 'tiny', 'tips', 'title', 'titles', 'tk', 'to', 'to be', 'to build', 'to get', 'to go', 'to help', 'to help us', 'to infinity', 'to infinity beyond', 'to keep', 'to learn', 'to learning', 'to life', 'to make', 'to move', 'to move it', 'to move it move', 'to our', 'to read', 'to see', 'to sit', 'to succeed', 'to success', 'to the', 'to the rescue', 'today', 'today keeps', 'today reader', 'today reader tomorrow', 'today reader tomorrow leader', 'together', 'tomorrow', 'tomorrow leader', 'tomorrow leaders', 'toner', 'too', 'tool', 'tools', 'tools for', 'tools help', 'tools learning', 'tools success', 'tools to', 'toon', 'toon books', 'toon graphics', 'top', 'totally', 'tots', 'touch', 'touching', 'toward', 'towards', 'towards success', 'town', 'toys', 'track', 'tracking', 'traditional', 'train', 'training', 'transform', 'transformation', 'transforming', 'transition', 'transitional', 'trauma', 'travel', 'traveling', 'treasure', 'treasures', 'treats', 'tree', 'trees', 'trip', 'trips', 'true', 'try', 'trying', 'tuba', 'tubs', 'tummies', 'tune', 'turn', 'turn up', 'turning', 'tv', 'twenty', 'twenty first', 'twenty first century', 'twist', 'two', 'type', 'typing', 'uke', 'uke can', 'ukulele', 'ukuleles', 'ultimate', 'under', 'understand', 'understanding', 'uniforms', 'unique', 'unit', 'unite', 'united', 'universal', 'unlocking', 'up', 'up about', 'up close', 'up for', 'up in', 'up learn', 'up learning', 'up math', 'up our', 'up our learning', 'up reading', 'up some', 'up steam', 'up success', 'up the', 'up to', 'up up', 'up with', 'up with good', 'up with good book', 'update', 'updated', 'upgrade', 'upon', 'upon time', 'urban', 'us', 'us be', 'us become', 'us bring', 'us build', 'us build our', 'us create', 'us find', 'us focus', 'us get', 'us get our', 'us grow', 'us hear', 'us keep', 'us learn', 'us make', 'us move', 'us moving', 'us organize', 'us play', 'us read', 'us see', 'us some', 'us start', 'us stay', 'us succeed', 'us to', 'us up', 'us wiggle', 'us with', 'use', 'use technology', 'using', 'using chromebooks', 'using ipads', 'using our', 'using stem', 'using technology', 'utilizing', 'value', 'variety', 'very', 'very own', 'via', 'vibrant', 'video', 'videos', 'view', 'village', 'violins', 'virtual', 'virtual reality', 'visible', 'vision', 'visual', 'visual arts', 'visual learners', 'visual learning', 'visualize', 'visualizing', 'visually', 'visuals', 'vocabulary', 'voice', 'voices', 'volleyball', 'volleyballs', 'volume', 'voracious', 'voracious readers', 'vs', 'wait', 'walk', 'walking', 'wall', 'walls', 'wanna', 'want', 'want be', 'want know', 'want learn', 'want move', 'want read', 'want to', 'wanted', 'wants', 'war', 'warm', 'warriors', 'wars', 'was', 'waste', 'watch', 'watch me', 'watch us', 'watching', 'water', 'watercolor', 'waves', 'way', 'way into', 'way learn', 'way learning', 'way success', 'way through', 'way to', 'way to success', 'ways', 'we', 'we all', 'we are', 'we are ready', 'we ca', 'we ca not', 'we can', 'we can do', 'we can learn', 'we can read', 'we can read write', 'we come', 'we do', 'we do not', 'we get', 'we go', 'we got', 'we have', 'we just', 'we learn', 'we like', 'we like move', 'we like move it', 'we like move move', 'we like to', 'we like to move', 'we like wiggle', 'we love', 'we love books', 'we love read', 'we love reading', 'we love to', 'we move', 'we need', 'we need books', 'we need classroom', 'we need headphones', 'we need ink', 'we need more', 'we need move', 'we need new', 'we need some', 'we need supplies', 'we need technology', 'we need to', 'we not', 'we read', 'we see', 'we want', 'we want read', 'we want to', 'we will', 'we will go', 'we work', 'we would', 'we would love', 'weather', 'web', 'weekly', 'weight', 'welcome', 'welcoming', 'well', 'wellness', 'were', 'what', 'what can', 'what do', 'what hear', 'what we', 'what we need', 'what you', 'what you know', 'what your', 'wheels', 'when', 'when we', 'when you', 'where', 'where do', 'while', 'while learning', 'while moving', 'while reading', 'while they', 'while they work', 'while we', 'while we learn', 'while we work', 'while you', 'while you learn', 'while you work', 'whisper', 'white', 'white board', 'white boards', 'whiteboard', 'whiteboards', 'who', 'who needs', 'whole', 'whole group', 'whole new', 'whole new world', 'why', 'wibble', 'wide', 'wiggle', 'wiggle it', 'wiggle learn', 'wiggle move', 'wiggle room', 'wiggle seats', 'wiggle while', 'wiggle while they', 'wiggle while they work', 'wiggle while we', 'wiggle while we learn', 'wiggle while we work', 'wiggle while you', 'wiggle while you work', 'wiggle wiggle', 'wiggle wiggle wiggle', 'wiggle wobble', 'wiggle wobble learn', 'wiggle work', 'wiggle worms', 'wigglers', 'wiggles', 'wiggles out', 'wiggling', 'wiggling our', 'wiggling our way', 'wiggling while', 'wiggling wobbling', 'wiggly', 'wiggly bodies', 'wiggly learners', 'wiggly students', 'wii', 'wild', 'wild about', 'wildcat', 'wildcats', 'will', 'will be', 'will go', 'will help', 'will help us', 'will learn', 'will make', 'will you', 'willems', 'win', 'window', 'window world', 'windows', 'winners', 'winning', 'winning toon', 'winning toon graphics', 'winter', 'wipe', 'wireless', 'wise', 'wish', 'with', 'with art', 'with autism', 'with books', 'with chrome', 'with chromebooks', 'with flexible', 'with flexible seating', 'with good', 'with good book', 'with hands', 'with hokki', 'with hokki stools', 'with ipad', 'with ipads', 'with it', 'with kindle', 'with learning', 'with legos', 'with math', 'with me', 'with movement', 'with my', 'with new', 'with one', 'with one easel', 'with osmo', 'with our', 'with purpose', 'with reading', 'with science', 'with special', 'with special needs', 'with stem', 'with supplies', 'with tablets', 'with technology', 'with the', 'with us', 'with your', 'within', 'without', 'wizards', 'wo', 'wo not', 'wobble', 'wobble baby', 'wobble baby wobble', 'wobble but', 'wobble chairs', 'wobble learn', 'wobble seats', 'wobble stools', 'wobble while', 'wobble while we', 'wobble while we learn', 'wobble while we work', 'wobble while you', 'wobble while you work', 'wobble wiggle', 'wobble wobble', 'wobble work', 'wobbles', 'wobbling', 'wobbling our', 'wobbling our way', 'wobbly', 'women', 'wonder', 'wonderful', 'wonderful world', 'wonders', 'wood', 'word', 'word work', 'words', 'work', 'work part', 'work space', 'work together', 'workers', 'working', 'working together', 'workout', 'works', 'worksheets', 'workshop', 'world', 'world around', 'world around us', 'world go', 'world history', 'world math', 'world music', 'world one', 'world our', 'world technology', 'world through', 'world with', 'worlds', 'worms', 'worth', 'worth thousand', 'worth thousand words', 'would', 'would love', 'wow', 'wrestling', 'write', 'write it', 'write on', 'write share', 'write stuff', 'writer', 'writer workshop', 'writers', 'writers need', 'writing', 'writing center', 'writing fun', 'writing our', 'writing skills', 'writing supplies', 'writing through', 'writing with', 'writing workshop', 'written', 'xylophone', 'xylophones', 'ye', 'ye hear', 'ye hear ye', 'year', 'year new', 'year off', 'year off right', 'year olds', 'year right', 'year teacher', 'yearbook', 'years', 'yes', 'yes please', 'yes we', 'yet', 'yoga', 'yoga balls', 'yoga mats', 'yogis', 'you', 'you are', 'you ca', 'you ca not', 'you can', 'you get', 'you give', 'you go', 'you got', 'you have', 'you hear', 'you hear me', 'you hear me now', 'you hear what', 'you hear what hear', 'you help', 'you help us', 'you know', 'you learn', 'you read', 'you read more', 'you read more you', 'you see', 'you will', 'you work', 'young', 'young artists', 'young authors', 'young engineers', 'young learners', 'young minds', 'young musicians', 'young readers', 'young scientists', 'youngest', 'your', 'your body', 'your brain', 'your feet', 'your garden', 'your garden grow', 'your heart', 'your help', 'your mind', 'your own', 'your seat', 'your way', 'your wiggles', 'your wiggles out', 'yourself', 'youth', 'zen', 'zone', 'zoom']\n"
     ]
    }
   ],
   "source": [
    "# BOW on clean_titles\n",
    "\n",
    "from sklearn.feature_extraction.text import CountVectorizer\n",
    "vectorizer8 = CountVectorizer(min_df=10,ngram_range=(1,4),max_features=5000)\n",
    "vectorizer8.fit(x_train['cleaned_title_text'].values) # fit has to happen only on train data\n",
    "\n",
    "features_name8 = vectorizer8.get_feature_names()\n",
    "\n",
    "\n",
    "# we use the fitted CountVectorizer to convert the text to vector\n",
    "x_train_titles_bow = vectorizer8.transform(x_train['cleaned_title_text'].values)\n",
    "#x_train_titles_bow = normalize(x_train_titles_bow,axis=0)\n",
    "#x_cv_titles_bow = vectorizer.transform(x_cv['cleaned_title_text'].values)\n",
    "x_test_titles_bow = vectorizer8.transform(x_test['cleaned_title_text'].values)\n",
    "#x_test_titles_bow = normalize(x_test_titles_bow,axis=0)\n",
    "\n",
    "print(\"After vectorizations\")\n",
    "print(x_train_titles_bow.shape, y_train.shape)\n",
    "#print(x_cv_titles_bow.shape, y_cv.shape)\n",
    "print(x_test_titles_bow.shape, y_test.shape)\n",
    "print(\"=\"*100)\n",
    "print(vectorizer8.get_feature_names())"
   ]
  },
  {
   "cell_type": "code",
   "execution_count": 42,
   "metadata": {},
   "outputs": [
    {
     "name": "stdout",
     "output_type": "stream",
     "text": [
      "Final Data matrix\n",
      "(87398, 10103) (87398,)\n",
      "(21850, 10103) (21850,)\n",
      "====================================================================================================\n"
     ]
    }
   ],
   "source": [
    "# CONCATINATE all features of BOW\n",
    "\n",
    "\n",
    "from scipy.sparse import hstack\n",
    "X_train_bow = hstack((x_train_essay_bow,x_train_titles_bow,x_train_clean_cat_ohe,x_train_clean_subcat_ohe, x_train_state_ohe, x_train_teacher_pre, x_train_grade_ohe, x_train_price_std,x_train_teacher_previously_std,x_train_quantity_std)).tocsr()\n",
    "\n",
    "X_test_bow = hstack((x_test_essay_bow,x_test_titles_bow,x_test_clean_cat_ohe,x_test_clean_subcat_ohe, x_test_state_ohe, x_test_teacher_pre, x_test_grade_ohe, x_test_price_std,x_test_teacher_previously_std,x_test_quantity_std)).tocsr()\n",
    "\n",
    "print(\"Final Data matrix\")\n",
    "print(X_train_bow.shape, y_train.shape)\n",
    "#print(X_cv.shape, y_cv.shape)\n",
    "print(X_test_bow.shape, y_test.shape)\n",
    "print(\"=\"*100)"
   ]
  },
  {
   "cell_type": "code",
   "execution_count": 43,
   "metadata": {
    "scrolled": true
   },
   "outputs": [
    {
     "name": "stdout",
     "output_type": "stream",
     "text": [
      "Fitting 10 folds for each of 11 candidates, totalling 110 fits\n"
     ]
    },
    {
     "name": "stderr",
     "output_type": "stream",
     "text": [
      "[Parallel(n_jobs=6)]: Using backend LokyBackend with 6 concurrent workers.\n",
      "[Parallel(n_jobs=6)]: Done   1 tasks      | elapsed:    4.7s\n",
      "[Parallel(n_jobs=6)]: Done   2 tasks      | elapsed:    4.8s\n",
      "[Parallel(n_jobs=6)]: Done   3 tasks      | elapsed:    4.8s\n",
      "[Parallel(n_jobs=6)]: Done   4 tasks      | elapsed:    4.8s\n",
      "[Parallel(n_jobs=6)]: Done   5 tasks      | elapsed:    4.8s\n",
      "[Parallel(n_jobs=6)]: Done   6 tasks      | elapsed:    4.8s\n",
      "[Parallel(n_jobs=6)]: Done   7 tasks      | elapsed:    5.9s\n",
      "[Parallel(n_jobs=6)]: Done   8 tasks      | elapsed:    5.9s\n",
      "[Parallel(n_jobs=6)]: Done   9 tasks      | elapsed:    5.9s\n",
      "[Parallel(n_jobs=6)]: Done  10 tasks      | elapsed:    6.0s\n",
      "[Parallel(n_jobs=6)]: Done  11 tasks      | elapsed:    6.0s\n",
      "[Parallel(n_jobs=6)]: Done  12 tasks      | elapsed:    6.0s\n",
      "[Parallel(n_jobs=6)]: Done  13 tasks      | elapsed:    7.0s\n",
      "[Parallel(n_jobs=6)]: Done  14 tasks      | elapsed:    7.0s\n",
      "[Parallel(n_jobs=6)]: Done  15 tasks      | elapsed:    7.1s\n",
      "[Parallel(n_jobs=6)]: Done  16 tasks      | elapsed:    7.1s\n",
      "[Parallel(n_jobs=6)]: Done  17 tasks      | elapsed:    7.1s\n",
      "[Parallel(n_jobs=6)]: Done  18 tasks      | elapsed:    7.1s\n",
      "[Parallel(n_jobs=6)]: Done  19 tasks      | elapsed:    8.1s\n",
      "[Parallel(n_jobs=6)]: Done  20 tasks      | elapsed:    8.1s\n",
      "[Parallel(n_jobs=6)]: Done  21 tasks      | elapsed:    8.1s\n",
      "[Parallel(n_jobs=6)]: Done  22 tasks      | elapsed:    8.1s\n",
      "[Parallel(n_jobs=6)]: Done  23 tasks      | elapsed:    8.2s\n",
      "[Parallel(n_jobs=6)]: Done  24 tasks      | elapsed:    8.2s\n",
      "[Parallel(n_jobs=6)]: Done  25 tasks      | elapsed:    9.3s\n",
      "[Parallel(n_jobs=6)]: Done  26 tasks      | elapsed:    9.3s\n",
      "[Parallel(n_jobs=6)]: Done  27 tasks      | elapsed:    9.3s\n",
      "[Parallel(n_jobs=6)]: Done  28 tasks      | elapsed:    9.3s\n",
      "[Parallel(n_jobs=6)]: Done  29 tasks      | elapsed:    9.4s\n",
      "[Parallel(n_jobs=6)]: Done  30 tasks      | elapsed:    9.4s\n",
      "[Parallel(n_jobs=6)]: Done  31 tasks      | elapsed:   10.6s\n",
      "[Parallel(n_jobs=6)]: Done  32 tasks      | elapsed:   10.6s\n",
      "[Parallel(n_jobs=6)]: Done  33 tasks      | elapsed:   10.6s\n",
      "[Parallel(n_jobs=6)]: Done  34 tasks      | elapsed:   10.7s\n",
      "[Parallel(n_jobs=6)]: Done  35 tasks      | elapsed:   10.7s\n",
      "[Parallel(n_jobs=6)]: Done  36 tasks      | elapsed:   10.7s\n",
      "[Parallel(n_jobs=6)]: Done  37 tasks      | elapsed:   12.0s\n",
      "[Parallel(n_jobs=6)]: Done  38 tasks      | elapsed:   12.0s\n",
      "[Parallel(n_jobs=6)]: Done  39 tasks      | elapsed:   12.0s\n",
      "[Parallel(n_jobs=6)]: Done  40 tasks      | elapsed:   12.0s\n",
      "[Parallel(n_jobs=6)]: Done  41 tasks      | elapsed:   12.0s\n",
      "[Parallel(n_jobs=6)]: Done  42 tasks      | elapsed:   12.1s\n",
      "[Parallel(n_jobs=6)]: Done  43 tasks      | elapsed:   13.3s\n",
      "[Parallel(n_jobs=6)]: Done  44 tasks      | elapsed:   13.3s\n",
      "[Parallel(n_jobs=6)]: Done  45 tasks      | elapsed:   13.3s\n",
      "[Parallel(n_jobs=6)]: Done  46 tasks      | elapsed:   13.3s\n",
      "[Parallel(n_jobs=6)]: Done  47 tasks      | elapsed:   13.3s\n",
      "[Parallel(n_jobs=6)]: Done  48 tasks      | elapsed:   13.4s\n",
      "[Parallel(n_jobs=6)]: Done  49 tasks      | elapsed:   14.5s\n",
      "[Parallel(n_jobs=6)]: Done  50 tasks      | elapsed:   14.5s\n",
      "[Parallel(n_jobs=6)]: Done  51 tasks      | elapsed:   14.5s\n",
      "[Parallel(n_jobs=6)]: Done  52 tasks      | elapsed:   14.5s\n",
      "[Parallel(n_jobs=6)]: Done  53 tasks      | elapsed:   14.6s\n",
      "[Parallel(n_jobs=6)]: Done  54 tasks      | elapsed:   14.6s\n",
      "[Parallel(n_jobs=6)]: Done  55 tasks      | elapsed:   15.7s\n",
      "[Parallel(n_jobs=6)]: Done  56 tasks      | elapsed:   15.7s\n",
      "[Parallel(n_jobs=6)]: Done  57 tasks      | elapsed:   15.7s\n",
      "[Parallel(n_jobs=6)]: Done  58 tasks      | elapsed:   15.7s\n",
      "[Parallel(n_jobs=6)]: Done  59 tasks      | elapsed:   15.8s\n",
      "[Parallel(n_jobs=6)]: Done  60 tasks      | elapsed:   15.9s\n",
      "[Parallel(n_jobs=6)]: Done  61 tasks      | elapsed:   16.6s\n",
      "[Parallel(n_jobs=6)]: Done  62 tasks      | elapsed:   16.6s\n",
      "[Parallel(n_jobs=6)]: Done  63 tasks      | elapsed:   16.6s\n",
      "[Parallel(n_jobs=6)]: Done  64 tasks      | elapsed:   16.6s\n",
      "[Parallel(n_jobs=6)]: Done  65 tasks      | elapsed:   16.6s\n",
      "[Parallel(n_jobs=6)]: Done  66 tasks      | elapsed:   16.6s\n",
      "[Parallel(n_jobs=6)]: Done  67 tasks      | elapsed:   17.3s\n",
      "[Parallel(n_jobs=6)]: Done  68 tasks      | elapsed:   17.3s\n",
      "[Parallel(n_jobs=6)]: Done  69 tasks      | elapsed:   17.3s\n",
      "[Parallel(n_jobs=6)]: Done  70 tasks      | elapsed:   17.3s\n",
      "[Parallel(n_jobs=6)]: Done  71 tasks      | elapsed:   17.4s\n",
      "[Parallel(n_jobs=6)]: Done  72 tasks      | elapsed:   17.4s\n",
      "[Parallel(n_jobs=6)]: Done  73 tasks      | elapsed:   18.3s\n",
      "[Parallel(n_jobs=6)]: Done  74 tasks      | elapsed:   18.4s\n",
      "[Parallel(n_jobs=6)]: Done  75 tasks      | elapsed:   18.4s\n",
      "[Parallel(n_jobs=6)]: Done  76 tasks      | elapsed:   18.4s\n",
      "[Parallel(n_jobs=6)]: Done  77 tasks      | elapsed:   18.4s\n",
      "[Parallel(n_jobs=6)]: Done  78 tasks      | elapsed:   18.4s\n",
      "[Parallel(n_jobs=6)]: Done  79 tasks      | elapsed:   19.4s\n",
      "[Parallel(n_jobs=6)]: Done  80 tasks      | elapsed:   19.5s\n",
      "[Parallel(n_jobs=6)]: Done  81 tasks      | elapsed:   19.5s\n",
      "[Parallel(n_jobs=6)]: Done  82 tasks      | elapsed:   19.5s\n",
      "[Parallel(n_jobs=6)]: Done  83 tasks      | elapsed:   19.5s\n",
      "[Parallel(n_jobs=6)]: Done  84 tasks      | elapsed:   19.5s\n",
      "[Parallel(n_jobs=6)]: Done  85 tasks      | elapsed:   20.6s\n",
      "[Parallel(n_jobs=6)]: Done  86 tasks      | elapsed:   20.6s\n",
      "[Parallel(n_jobs=6)]: Done  87 tasks      | elapsed:   20.6s\n",
      "[Parallel(n_jobs=6)]: Done  88 tasks      | elapsed:   20.7s\n",
      "[Parallel(n_jobs=6)]: Done  89 tasks      | elapsed:   20.7s\n",
      "[Parallel(n_jobs=6)]: Done  90 tasks      | elapsed:   20.7s\n",
      "[Parallel(n_jobs=6)]: Done  91 tasks      | elapsed:   21.7s\n",
      "[Parallel(n_jobs=6)]: Done  92 tasks      | elapsed:   21.7s\n",
      "[Parallel(n_jobs=6)]: Done  93 tasks      | elapsed:   21.7s\n",
      "[Parallel(n_jobs=6)]: Done  94 tasks      | elapsed:   21.7s\n",
      "[Parallel(n_jobs=6)]: Done  95 tasks      | elapsed:   21.8s\n",
      "[Parallel(n_jobs=6)]: Done  96 tasks      | elapsed:   21.8s\n",
      "[Parallel(n_jobs=6)]: Done  97 tasks      | elapsed:   22.7s\n",
      "[Parallel(n_jobs=6)]: Done  98 tasks      | elapsed:   22.7s\n",
      "[Parallel(n_jobs=6)]: Done  99 tasks      | elapsed:   22.8s\n",
      "[Parallel(n_jobs=6)]: Done 110 out of 110 | elapsed:   24.2s finished\n"
     ]
    },
    {
     "data": {
      "text/plain": [
       "({'alpha': 1},\n",
       " MultinomialNB(alpha=1, class_prior=None, fit_prior=False),\n",
       " 0.6945885760790599)"
      ]
     },
     "execution_count": 43,
     "metadata": {},
     "output_type": "execute_result"
    }
   ],
   "source": [
    "from sklearn.naive_bayes import MultinomialNB\n",
    "from sklearn.model_selection import GridSearchCV\n",
    "\n",
    "params={'alpha' : [10**i for i in range(-6,5)]}\n",
    "\n",
    "clf_bow = MultinomialNB(alpha = 'alpha',fit_prior = False)\n",
    "\n",
    "clf1=GridSearchCV(clf_bow ,param_grid = params, scoring=\"roc_auc\", cv=10, verbose=12, n_jobs=6)\n",
    "clf1.fit(X_train_bow,y_train)\n",
    "clf1.best_params_,clf1.best_estimator_,clf1.best_score_"
   ]
  },
  {
   "cell_type": "code",
   "execution_count": 44,
   "metadata": {},
   "outputs": [
    {
     "name": "stdout",
     "output_type": "stream",
     "text": [
      "1\n"
     ]
    }
   ],
   "source": [
    "a = clf1.best_params_[\"alpha\"]\n",
    "\n",
    "print(a)\n"
   ]
  },
  {
   "cell_type": "markdown",
   "metadata": {},
   "source": [
    "# Performance Plot"
   ]
  },
  {
   "cell_type": "code",
   "execution_count": 45,
   "metadata": {},
   "outputs": [
    {
     "data": {
      "image/png": "[encoded data removed]",
      "text/plain": [
       "<Figure size 432x288 with 1 Axes>"
      ]
     },
     "metadata": {
      "needs_background": "light"
     },
     "output_type": "display_data"
    }
   ],
   "source": [
    "train_auc1= clf1.cv_results_['mean_train_score']\n",
    "train_auc_std1= clf1.cv_results_['std_train_score']\n",
    "cv_auc1 = clf1.cv_results_['mean_test_score'] \n",
    "cv_auc_std1= clf1.cv_results_['std_test_score']\n",
    "\n",
    "plt.plot(params['alpha'], train_auc1, label='Train AUC')\n",
    "\n",
    "# this code is copied from here: https://stackoverflow.com/a/48803361/4084039\n",
    "plt.gca().fill_between(params['alpha'],train_auc1 - train_auc_std1,train_auc1 + train_auc_std1,alpha=0.2,color='darkblue')\n",
    "# create a shaded area between [mean - std, mean + std]\n",
    "\n",
    "plt.plot(params['alpha'], cv_auc1, label='CV AUC')\n",
    "# this code is copied from here: https://stackoverflow.com/a/48803361/4084039\n",
    "plt.gca().fill_between(params['alpha'],cv_auc1 - cv_auc_std1,cv_auc1 + cv_auc_std1,alpha=0.2,color='darkorange')\n",
    "\n",
    "plt.scatter(params['alpha'], train_auc1, label='Train AUC points')\n",
    "plt.scatter(params['alpha'], cv_auc1, label='CV AUC points')\n",
    "\n",
    "\n",
    "plt.legend()\n",
    "plt.xlabel(\"alpha: hyperparameter\")\n",
    "plt.ylabel(\"AUC\")\n",
    "plt.title(\"ERROR PLOTS\")\n",
    "plt.grid()\n",
    "plt.show()"
   ]
  },
  {
   "cell_type": "markdown",
   "metadata": {},
   "source": [
    "<h1>Train new model on best params"
   ]
  },
  {
   "cell_type": "code",
   "execution_count": 46,
   "metadata": {},
   "outputs": [
    {
     "data": {
      "text/plain": [
       "MultinomialNB(alpha=1, class_prior=None, fit_prior=False)"
      ]
     },
     "execution_count": 46,
     "metadata": {},
     "output_type": "execute_result"
    }
   ],
   "source": [
    "model_new1 = MultinomialNB(alpha = a,fit_prior = False)\n",
    "model_new1.fit(X_train_bow,y_train)"
   ]
  },
  {
   "cell_type": "markdown",
   "metadata": {},
   "source": [
    "# ROC Curve"
   ]
  },
  {
   "cell_type": "code",
   "execution_count": 47,
   "metadata": {},
   "outputs": [
    {
     "data": {
      "image/png": "[encoded data removed]",
      "text/plain": [
       "<Figure size 432x288 with 1 Axes>"
      ]
     },
     "metadata": {
      "needs_background": "light"
     },
     "output_type": "display_data"
    }
   ],
   "source": [
    "from  sklearn.metrics import roc_curve\n",
    "from sklearn.metrics import auc\n",
    "import matplotlib.pyplot as plt\n",
    "\n",
    "\n",
    "score_roc_train = model_new1.predict_proba(X_train_bow)\n",
    "fpr_train, tpr_train, threshold_train = roc_curve(y_train, score_roc_train[:,1])\n",
    "roc_auc_train = auc(fpr_train, tpr_train)\n",
    "\n",
    "score_roc_test = model_new1.predict_proba(X_test_bow)\n",
    "fpr_test, tpr_test, threshold_test = roc_curve(y_test, score_roc_test[:,1])\n",
    "roc_auc_test = auc(fpr_test, tpr_test)\n",
    "\n",
    "\n",
    "plt.plot(fpr_train, tpr_train, label = \"Train_AUC\"+str(auc(fpr_train, tpr_train)))\n",
    "plt.plot(fpr_test, tpr_test, label = \"Test_AUC\"+str(auc(fpr_test, tpr_test)))\n",
    "plt.legend(loc = 'lower right')\n",
    "\n",
    "plt.plot([0, 1], [0, 1],'r--')\n",
    "plt.xlim([0, 1])\n",
    "plt.ylim([0, 1])\n",
    "\n",
    "plt.ylabel('True Positive Rate')\n",
    "plt.xlabel('False Positive Rate')\n",
    "plt.title('ROC Curve of NB ')\n",
    "plt.show()\n"
   ]
  },
  {
   "cell_type": "markdown",
   "metadata": {},
   "source": [
    "<h1>Confusion_Matrix"
   ]
  },
  {
   "cell_type": "code",
   "execution_count": 48,
   "metadata": {},
   "outputs": [],
   "source": [
    "# This function plots the confusion matrices given y_i, y_i_hat.\n",
    "def plot_confusion_matrix(test_y, predict_y):\n",
    "    C = confusion_matrix(test_y, predict_y)\n",
    "    # C = 9,9 matrix, each cell (i,j) represents number of points of class i are predicted class j\n",
    "    \n",
    "    A =(((C.T)/(C.sum(axis=1))).T)\n",
    "    #divid each element of the confusion matrix with the sum of elements in that column\n",
    "    \n",
    "    # C = [[1, 2],\n",
    "    #     [3, 4]]\n",
    "    # C.T = [[1, 3],\n",
    "    #        [2, 4]]\n",
    "    # C.sum(axis = 1)  axis=0 corresonds to columns and axis=1 corresponds to rows in two diamensional array\n",
    "    # C.sum(axix =1) = [[3, 7]]\n",
    "    # ((C.T)/(C.sum(axis=1))) = [[1/3, 3/7]\n",
    "    #                           [2/3, 4/7]]\n",
    "\n",
    "    # ((C.T)/(C.sum(axis=1))).T = [[1/3, 2/3]\n",
    "    #                           [3/7, 4/7]]\n",
    "    # sum of row elements = 1\n",
    "    \n",
    "    B =(C/C.sum(axis=0))\n",
    "    #divid each element of the confusion matrix with the sum of elements in that row\n",
    "    # C = [[1, 2],\n",
    "    #     [3, 4]]\n",
    "    # C.sum(axis = 0)  axis=0 corresonds to columns and axis=1 corresponds to rows in two diamensional array\n",
    "    # C.sum(axix =0) = [[4, 6]]\n",
    "    # (C/C.sum(axis=0)) = [[1/4, 2/6],\n",
    "    #                      [3/4, 4/6]] \n",
    "    plt.figure(figsize=(20,4))\n",
    "    \n",
    "    labels = [0,1]\n",
    "    # representing A in heatmap format\n",
    "    cmap=sns.light_palette(\"blue\")\n",
    "    plt.subplot(1, 3, 1)\n",
    "    sns.heatmap(C, annot=True, cmap=cmap, fmt=\".3f\", xticklabels=labels, yticklabels=labels)\n",
    "    plt.xlabel('Predicted Class')\n",
    "    plt.ylabel('Original Class')\n",
    "    plt.title(\"Confusion matrix\")\n",
    "    \n",
    "    plt.subplot(1, 3, 2)\n",
    "    sns.heatmap(B, annot=True, cmap=cmap, fmt=\".3f\", xticklabels=labels, yticklabels=labels)\n",
    "    plt.xlabel('Predicted Class')\n",
    "    plt.ylabel('Original Class')\n",
    "    plt.title(\"Precision matrix\")\n",
    "    \n",
    "    plt.subplot(1, 3, 3)\n",
    "    # representing B in heatmap format\n",
    "    sns.heatmap(A, annot=True, cmap=cmap, fmt=\".3f\", xticklabels=labels, yticklabels=labels)\n",
    "    plt.xlabel('Predicted Class')\n",
    "    plt.ylabel('Original Class')\n",
    "    plt.title(\"Recall matrix\")\n",
    "    \n",
    "    plt.show()"
   ]
  },
  {
   "cell_type": "code",
   "execution_count": 49,
   "metadata": {},
   "outputs": [
    {
     "data": {
      "image/png": "[encoded data removed]",
      "text/plain": [
       "<Figure size 1440x288 with 6 Axes>"
      ]
     },
     "metadata": {
      "needs_background": "light"
     },
     "output_type": "display_data"
    }
   ],
   "source": [
    "predicted_y = model_new1.predict(X_test_bow)\n",
    "plot_confusion_matrix(y_test, predicted_y)"
   ]
  },
  {
   "cell_type": "markdown",
   "metadata": {},
   "source": [
    "<h1>Classification Report"
   ]
  },
  {
   "cell_type": "code",
   "execution_count": 50,
   "metadata": {},
   "outputs": [
    {
     "name": "stdout",
     "output_type": "stream",
     "text": [
      "_____________________________________________________________________________________________________\n",
      "Classification Report: \n",
      "\n",
      "              precision    recall  f1-score   support\n",
      "\n",
      "           0       0.25      0.63      0.35      3308\n",
      "           1       0.91      0.65      0.76     18542\n",
      "\n",
      "   micro avg       0.65      0.65      0.65     21850\n",
      "   macro avg       0.58      0.64      0.56     21850\n",
      "weighted avg       0.81      0.65      0.70     21850\n",
      "\n",
      "_____________________________________________________________________________________________________\n"
     ]
    }
   ],
   "source": [
    "from sklearn.metrics import classification_report\n",
    "print(\"_\" * 101)\n",
    "print(\"Classification Report: \\n\")\n",
    "print(classification_report(y_test,predicted_y))\n",
    "print(\"_\" * 101)\n"
   ]
  },
  {
   "cell_type": "markdown",
   "metadata": {},
   "source": [
    " # The top 10 features of positive class and top 10 features of negative class "
   ]
  },
  {
   "cell_type": "code",
   "execution_count": 51,
   "metadata": {},
   "outputs": [
    {
     "name": "stdout",
     "output_type": "stream",
     "text": [
      "('nannan', -5.233167718945333)\n",
      "('also', -5.841520291691973)\n",
      "('many students', -6.477896617761845)\n",
      "('students come', -6.485061156537331)\n",
      "('used', -6.828861060008838)\n",
      "('receive', -6.8945442818281455)\n",
      "('backgrounds', -6.963061274417293)\n",
      "('students able', -6.981972238702991)\n",
      "('often', -7.005426981406888)\n",
      "('allow students', -7.0569897152395535)\n"
     ]
    }
   ],
   "source": [
    "# for class 0\n",
    "\n",
    "import operator\n",
    "\n",
    "y_pedict_log_prob = model_new1.feature_log_prob_[0,:]\n",
    "feature_name = features_name7+features_name8\n",
    "name = {}\n",
    "for i in range(len(feature_name)):\n",
    "    name[feature_name[i]] = y_pedict_log_prob[i]\n",
    "\n",
    "name_sorted = sorted(name.items(), key = operator.itemgetter(1), reverse = True)\n",
    "for i in range(10):\n",
    "    print(name_sorted[i])\n",
    " "
   ]
  },
  {
   "cell_type": "code",
   "execution_count": 52,
   "metadata": {},
   "outputs": [
    {
     "name": "stdout",
     "output_type": "stream",
     "text": [
      "('nannan', -5.282350504240176)\n",
      "('also', -5.737273441709023)\n",
      "('many students', -6.452058269222292)\n",
      "('students come', -6.532430381981868)\n",
      "('used', -6.61345816583219)\n",
      "('allow students', -6.842330244202072)\n",
      "('students able', -6.861779913660969)\n",
      "('receive', -6.883921550226507)\n",
      "('backgrounds', -6.940853634533807)\n",
      "('often', -6.982672892066782)\n"
     ]
    }
   ],
   "source": [
    "# for class 1\n",
    "\n",
    "# for class 0\n",
    "\n",
    "import operator\n",
    "\n",
    "y_pedict_log_prob = model_new1.feature_log_prob_[1,:]\n",
    "feature_name = features_name7+features_name8\n",
    "name = {}\n",
    "for i in range(len(feature_name)):\n",
    "    name[feature_name[i]] = y_pedict_log_prob[i]\n",
    "\n",
    "name_sorted = sorted(name.items(), key = operator.itemgetter(1), reverse = True)\n",
    "for i in range(10):\n",
    "    print(name_sorted[i])\n",
    " "
   ]
  },
  {
   "cell_type": "markdown",
   "metadata": {},
   "source": [
    "# SET 2 : TF-IDF"
   ]
  },
  {
   "cell_type": "code",
   "execution_count": 53,
   "metadata": {},
   "outputs": [
    {
     "name": "stdout",
     "output_type": "stream",
     "text": [
      "Shape of matrix after one hot encodig  (87398, 1000)\n",
      "Shape of matrix after one hot encodig  (21850, 1000)\n"
     ]
    }
   ],
   "source": [
    "# On Clean Essay\n",
    "\n",
    "from sklearn.feature_extraction.text import TfidfVectorizer\n",
    "vectorizer8 = TfidfVectorizer(min_df=10,ngram_range = (1,4),max_features = 1000)\n",
    "preprocessed_essays_xtr_tfidf = vectorizer8.fit_transform(x_train['cleaned_essays'])\n",
    "print(\"Shape of matrix after one hot encodig \",preprocessed_essays_xtr_tfidf.shape)\n",
    "\n",
    "preprocessed_essays_xtest_tfidf = vectorizer8.transform(x_test['cleaned_essays'])\n",
    "print(\"Shape of matrix after one hot encodig \",preprocessed_essays_xtest_tfidf.shape)"
   ]
  },
  {
   "cell_type": "code",
   "execution_count": 54,
   "metadata": {},
   "outputs": [
    {
     "name": "stdout",
     "output_type": "stream",
     "text": [
      "Shape of matrix after one hot encodig  (87398, 1000)\n",
      "Shape of matrix after one hot encodig  (21850, 1000)\n"
     ]
    }
   ],
   "source": [
    "# On Clean_title \n",
    "\n",
    "vectorizer9 = TfidfVectorizer(min_df=10,ngram_range = (1,4),max_features = 1000)\n",
    "preprocessed_title_xtr_tfidf = vectorizer9.fit_transform(x_train['cleaned_title_text'])\n",
    "print(\"Shape of matrix after one hot encodig \",preprocessed_title_xtr_tfidf.shape)\n",
    "\n",
    "preprocessed_title_xtest_tfidf = vectorizer9.transform(x_test['cleaned_title_text'])\n",
    "print(\"Shape of matrix after one hot encodig \",preprocessed_title_xtest_tfidf.shape)"
   ]
  },
  {
   "cell_type": "code",
   "execution_count": 55,
   "metadata": {},
   "outputs": [],
   "source": [
    "# Concatenate TFIDF\n",
    "from scipy.sparse import hstack\n",
    "X_train_tfidf=hstack((preprocessed_essays_xtr_tfidf,preprocessed_title_xtr_tfidf,x_train_clean_cat_ohe,x_train_clean_subcat_ohe,x_train_state_ohe,x_train_teacher_pre,x_train_grade_ohe,x_train_price_std,x_train_teacher_previously_std\n",
    "                   ,x_train_quantity_std )).tocsr()\n",
    "#X_cv_tfidf=hstack((preprocessed_essays_xcv_tfidf,preprocessed_title_xcv_tfidf,x_cv_clean_cat_ohe,x_cv_clean_subcat_ohe, x_cv_state_ohe, x_cv_teacher_pre, x_cv_grade_ohe, x_cv_price_std,x_cv_teacher_previously_std))\n",
    "                 \n",
    "X_test_tfidf=hstack((preprocessed_essays_xtest_tfidf,preprocessed_title_xtest_tfidf,x_test_clean_cat_ohe,x_test_clean_subcat_ohe, x_test_state_ohe, x_test_teacher_pre, x_test_grade_ohe, x_test_price_std,x_test_teacher_previously_std\n",
    "                    \n",
    "                ,x_test_quantity_std   )).tocsr()"
   ]
  },
  {
   "cell_type": "code",
   "execution_count": 57,
   "metadata": {
    "scrolled": true
   },
   "outputs": [
    {
     "name": "stdout",
     "output_type": "stream",
     "text": [
      "Fitting 10 folds for each of 11 candidates, totalling 110 fits\n"
     ]
    },
    {
     "name": "stderr",
     "output_type": "stream",
     "text": [
      "[Parallel(n_jobs=6)]: Using backend LokyBackend with 6 concurrent workers.\n",
      "[Parallel(n_jobs=6)]: Done   1 tasks      | elapsed:    0.5s\n",
      "[Parallel(n_jobs=6)]: Done   2 tasks      | elapsed:    0.5s\n",
      "[Parallel(n_jobs=6)]: Done   3 tasks      | elapsed:    0.5s\n",
      "[Parallel(n_jobs=6)]: Done   4 tasks      | elapsed:    0.5s\n",
      "[Parallel(n_jobs=6)]: Done   5 tasks      | elapsed:    0.6s\n",
      "[Parallel(n_jobs=6)]: Done   6 tasks      | elapsed:    0.7s\n",
      "[Parallel(n_jobs=6)]: Done   7 tasks      | elapsed:    1.1s\n",
      "[Parallel(n_jobs=6)]: Done   8 tasks      | elapsed:    1.1s\n",
      "[Parallel(n_jobs=6)]: Done   9 tasks      | elapsed:    1.1s\n",
      "[Parallel(n_jobs=6)]: Done  10 tasks      | elapsed:    1.2s\n",
      "[Parallel(n_jobs=6)]: Done  11 tasks      | elapsed:    1.2s\n",
      "[Parallel(n_jobs=6)]: Done  12 tasks      | elapsed:    1.2s\n",
      "[Parallel(n_jobs=6)]: Done  13 tasks      | elapsed:    1.7s\n",
      "[Parallel(n_jobs=6)]: Done  14 tasks      | elapsed:    1.7s\n",
      "[Parallel(n_jobs=6)]: Done  15 tasks      | elapsed:    1.7s\n",
      "[Parallel(n_jobs=6)]: Done  16 tasks      | elapsed:    1.7s\n",
      "[Parallel(n_jobs=6)]: Done  17 tasks      | elapsed:    1.8s\n",
      "[Parallel(n_jobs=6)]: Done  18 tasks      | elapsed:    1.8s\n",
      "[Parallel(n_jobs=6)]: Done  19 tasks      | elapsed:    2.3s\n",
      "[Parallel(n_jobs=6)]: Done  20 tasks      | elapsed:    2.3s\n",
      "[Parallel(n_jobs=6)]: Done  21 tasks      | elapsed:    2.4s\n",
      "[Parallel(n_jobs=6)]: Done  22 tasks      | elapsed:    2.4s\n",
      "[Parallel(n_jobs=6)]: Done  23 tasks      | elapsed:    2.4s\n",
      "[Parallel(n_jobs=6)]: Done  24 tasks      | elapsed:    2.4s\n",
      "[Parallel(n_jobs=6)]: Done  25 tasks      | elapsed:    2.8s\n",
      "[Parallel(n_jobs=6)]: Done  26 tasks      | elapsed:    2.8s\n",
      "[Parallel(n_jobs=6)]: Done  27 tasks      | elapsed:    2.9s\n",
      "[Parallel(n_jobs=6)]: Done  28 tasks      | elapsed:    2.9s\n",
      "[Parallel(n_jobs=6)]: Done  29 tasks      | elapsed:    2.9s\n",
      "[Parallel(n_jobs=6)]: Done  30 tasks      | elapsed:    2.9s\n",
      "[Parallel(n_jobs=6)]: Done  31 tasks      | elapsed:    3.4s\n",
      "[Parallel(n_jobs=6)]: Done  32 tasks      | elapsed:    3.4s\n",
      "[Parallel(n_jobs=6)]: Done  33 tasks      | elapsed:    3.5s\n",
      "[Parallel(n_jobs=6)]: Done  34 tasks      | elapsed:    3.5s\n",
      "[Parallel(n_jobs=6)]: Done  35 tasks      | elapsed:    3.5s\n",
      "[Parallel(n_jobs=6)]: Done  36 tasks      | elapsed:    3.6s\n",
      "[Parallel(n_jobs=6)]: Done  37 tasks      | elapsed:    4.0s\n",
      "[Parallel(n_jobs=6)]: Done  38 tasks      | elapsed:    4.0s\n",
      "[Parallel(n_jobs=6)]: Done  39 tasks      | elapsed:    4.1s\n",
      "[Parallel(n_jobs=6)]: Done  40 tasks      | elapsed:    4.1s\n",
      "[Parallel(n_jobs=6)]: Done  41 tasks      | elapsed:    4.1s\n",
      "[Parallel(n_jobs=6)]: Done  42 tasks      | elapsed:    4.1s\n",
      "[Parallel(n_jobs=6)]: Done  43 tasks      | elapsed:    4.6s\n",
      "[Parallel(n_jobs=6)]: Done  44 tasks      | elapsed:    4.6s\n",
      "[Parallel(n_jobs=6)]: Done  45 tasks      | elapsed:    4.6s\n",
      "[Parallel(n_jobs=6)]: Done  46 tasks      | elapsed:    4.6s\n",
      "[Parallel(n_jobs=6)]: Done  47 tasks      | elapsed:    4.7s\n",
      "[Parallel(n_jobs=6)]: Done  48 tasks      | elapsed:    4.7s\n",
      "[Parallel(n_jobs=6)]: Done  49 tasks      | elapsed:    5.1s\n",
      "[Parallel(n_jobs=6)]: Done  50 tasks      | elapsed:    5.1s\n",
      "[Parallel(n_jobs=6)]: Done  51 tasks      | elapsed:    5.1s\n",
      "[Parallel(n_jobs=6)]: Done  52 tasks      | elapsed:    5.2s\n",
      "[Parallel(n_jobs=6)]: Done  53 tasks      | elapsed:    5.2s\n",
      "[Parallel(n_jobs=6)]: Done  54 tasks      | elapsed:    5.2s\n",
      "[Parallel(n_jobs=6)]: Done  55 tasks      | elapsed:    5.6s\n",
      "[Parallel(n_jobs=6)]: Done  56 tasks      | elapsed:    5.6s\n",
      "[Parallel(n_jobs=6)]: Done  57 tasks      | elapsed:    5.6s\n",
      "[Parallel(n_jobs=6)]: Done  58 tasks      | elapsed:    5.7s\n",
      "[Parallel(n_jobs=6)]: Done  59 tasks      | elapsed:    5.7s\n",
      "[Parallel(n_jobs=6)]: Done  60 tasks      | elapsed:    5.7s\n",
      "[Parallel(n_jobs=6)]: Done  61 tasks      | elapsed:    6.2s\n",
      "[Parallel(n_jobs=6)]: Done  62 tasks      | elapsed:    6.2s\n",
      "[Parallel(n_jobs=6)]: Done  63 tasks      | elapsed:    6.2s\n",
      "[Parallel(n_jobs=6)]: Done  64 tasks      | elapsed:    6.2s\n",
      "[Parallel(n_jobs=6)]: Done  65 tasks      | elapsed:    6.2s\n",
      "[Parallel(n_jobs=6)]: Done  66 tasks      | elapsed:    6.3s\n",
      "[Parallel(n_jobs=6)]: Done  67 tasks      | elapsed:    6.7s\n",
      "[Parallel(n_jobs=6)]: Done  68 tasks      | elapsed:    6.7s\n",
      "[Parallel(n_jobs=6)]: Done  69 tasks      | elapsed:    6.7s\n",
      "[Parallel(n_jobs=6)]: Done  70 tasks      | elapsed:    6.7s\n",
      "[Parallel(n_jobs=6)]: Done  71 tasks      | elapsed:    6.8s\n",
      "[Parallel(n_jobs=6)]: Done  72 tasks      | elapsed:    6.8s\n",
      "[Parallel(n_jobs=6)]: Done  73 tasks      | elapsed:    7.4s\n",
      "[Parallel(n_jobs=6)]: Done  74 tasks      | elapsed:    7.4s\n",
      "[Parallel(n_jobs=6)]: Done  75 tasks      | elapsed:    7.4s\n",
      "[Parallel(n_jobs=6)]: Done  76 tasks      | elapsed:    7.4s\n",
      "[Parallel(n_jobs=6)]: Done  77 tasks      | elapsed:    7.5s\n",
      "[Parallel(n_jobs=6)]: Done  78 tasks      | elapsed:    7.5s\n",
      "[Parallel(n_jobs=6)]: Done  79 tasks      | elapsed:    8.0s\n",
      "[Parallel(n_jobs=6)]: Done  80 tasks      | elapsed:    8.0s\n",
      "[Parallel(n_jobs=6)]: Done  81 tasks      | elapsed:    8.1s\n",
      "[Parallel(n_jobs=6)]: Done  82 tasks      | elapsed:    8.1s\n",
      "[Parallel(n_jobs=6)]: Done  83 tasks      | elapsed:    8.1s\n",
      "[Parallel(n_jobs=6)]: Done  84 tasks      | elapsed:    8.2s\n",
      "[Parallel(n_jobs=6)]: Done  85 tasks      | elapsed:    8.6s\n",
      "[Parallel(n_jobs=6)]: Done  86 tasks      | elapsed:    8.6s\n",
      "[Parallel(n_jobs=6)]: Done  87 tasks      | elapsed:    8.6s\n",
      "[Parallel(n_jobs=6)]: Done  88 tasks      | elapsed:    8.7s\n",
      "[Parallel(n_jobs=6)]: Done  89 tasks      | elapsed:    8.7s\n",
      "[Parallel(n_jobs=6)]: Done  90 tasks      | elapsed:    8.7s\n",
      "[Parallel(n_jobs=6)]: Done  91 tasks      | elapsed:    9.2s\n",
      "[Parallel(n_jobs=6)]: Done  92 tasks      | elapsed:    9.2s\n",
      "[Parallel(n_jobs=6)]: Done  93 tasks      | elapsed:    9.2s\n",
      "[Parallel(n_jobs=6)]: Done  94 tasks      | elapsed:    9.3s\n",
      "[Parallel(n_jobs=6)]: Done  95 tasks      | elapsed:    9.3s\n",
      "[Parallel(n_jobs=6)]: Done  96 tasks      | elapsed:    9.3s\n",
      "[Parallel(n_jobs=6)]: Done  97 tasks      | elapsed:    9.8s\n",
      "[Parallel(n_jobs=6)]: Done  98 tasks      | elapsed:    9.8s\n",
      "[Parallel(n_jobs=6)]: Done  99 tasks      | elapsed:    9.8s\n",
      "[Parallel(n_jobs=6)]: Done 110 out of 110 | elapsed:   10.6s finished\n"
     ]
    },
    {
     "data": {
      "text/plain": [
       "({'alpha': 1},\n",
       " MultinomialNB(alpha=1, class_prior=None, fit_prior=True),\n",
       " 0.6579766748759429)"
      ]
     },
     "execution_count": 57,
     "metadata": {},
     "output_type": "execute_result"
    }
   ],
   "source": [
    "from sklearn.naive_bayes import MultinomialNB\n",
    "from sklearn.model_selection import GridSearchCV\n",
    "\n",
    "params={'alpha' : [10**i for i in range(-6,5)]}\n",
    "\n",
    "clf_tfidf = MultinomialNB(alpha = 'alpha')\n",
    "\n",
    "clf2=GridSearchCV(clf_tfidf ,param_grid = params, scoring=\"roc_auc\", cv=10, verbose=12, n_jobs=6)\n",
    "clf2.fit(X_train_tfidf,y_train)\n",
    "clf2.best_params_,clf2.best_estimator_,clf2.best_score_"
   ]
  },
  {
   "cell_type": "code",
   "execution_count": 58,
   "metadata": {},
   "outputs": [
    {
     "name": "stdout",
     "output_type": "stream",
     "text": [
      "1\n"
     ]
    }
   ],
   "source": [
    "a2 = clf2.best_params_[\"alpha\"]\n",
    "\n",
    "print(a2)\n"
   ]
  },
  {
   "cell_type": "markdown",
   "metadata": {},
   "source": [
    "# Performance Plot"
   ]
  },
  {
   "cell_type": "code",
   "execution_count": 59,
   "metadata": {},
   "outputs": [
    {
     "data": {
      "image/png": "[encoded data removed]",
      "text/plain": [
       "<Figure size 432x288 with 1 Axes>"
      ]
     },
     "metadata": {
      "needs_background": "light"
     },
     "output_type": "display_data"
    }
   ],
   "source": [
    "train_auc1= clf2.cv_results_['mean_train_score']\n",
    "train_auc_std1= clf2.cv_results_['std_train_score']\n",
    "cv_auc1 = clf2.cv_results_['mean_test_score'] \n",
    "cv_auc_std1= clf2.cv_results_['std_test_score']\n",
    "\n",
    "plt.plot(params['alpha'], train_auc1, label='Train AUC')\n",
    "\n",
    "# this code is copied from here: https://stackoverflow.com/a/48803361/4084039\n",
    "plt.gca().fill_between(params['alpha'],train_auc1 - train_auc_std1,train_auc1 + train_auc_std1,alpha=0.2,color='darkblue')\n",
    "# create a shaded area between [mean - std, mean + std]\n",
    "\n",
    "plt.plot(params['alpha'], cv_auc1, label='CV AUC')\n",
    "# this code is copied from here: https://stackoverflow.com/a/48803361/4084039\n",
    "plt.gca().fill_between(params['alpha'],cv_auc1 - cv_auc_std1,cv_auc1 + cv_auc_std1,alpha=0.2,color='darkorange')\n",
    "\n",
    "plt.scatter(params['alpha'], train_auc1, label='Train AUC points')\n",
    "plt.scatter(params['alpha'], cv_auc1, label='CV AUC points')\n",
    "\n",
    "\n",
    "plt.legend()\n",
    "plt.xlabel(\"alpha: hyperparameter\")\n",
    "plt.ylabel(\"AUC\")\n",
    "plt.title(\"ERROR PLOTS\")\n",
    "plt.grid()\n",
    "plt.show()"
   ]
  },
  {
   "cell_type": "markdown",
   "metadata": {},
   "source": [
    "<h1>Train new model on best params"
   ]
  },
  {
   "cell_type": "code",
   "execution_count": 62,
   "metadata": {},
   "outputs": [
    {
     "data": {
      "text/plain": [
       "MultinomialNB(alpha=1, class_prior=None, fit_prior=True)"
      ]
     },
     "execution_count": 62,
     "metadata": {},
     "output_type": "execute_result"
    }
   ],
   "source": [
    "model_new2 = MultinomialNB(alpha = a2 )\n",
    "model_new2.fit(X_train_tfidf,y_train)\n"
   ]
  },
  {
   "cell_type": "markdown",
   "metadata": {},
   "source": [
    "# ROC Curve"
   ]
  },
  {
   "cell_type": "code",
   "execution_count": 63,
   "metadata": {},
   "outputs": [
    {
     "data": {
      "image/png": "[encoded data removed]",
      "text/plain": [
       "<Figure size 432x288 with 1 Axes>"
      ]
     },
     "metadata": {
      "needs_background": "light"
     },
     "output_type": "display_data"
    }
   ],
   "source": [
    "from  sklearn.metrics import roc_curve\n",
    "from sklearn.metrics import auc\n",
    "import matplotlib.pyplot as plt\n",
    "\n",
    "\n",
    "score_roc_train = model_new2.predict_proba(X_train_tfidf)\n",
    "fpr_train, tpr_train, threshold_train = roc_curve(y_train, score_roc_train[:,1])\n",
    "roc_auc_train = auc(fpr_train, tpr_train)\n",
    "\n",
    "score_roc_test = model_new2.predict_proba(X_test_tfidf)\n",
    "fpr_test, tpr_test, threshold_test = roc_curve(y_test, score_roc_test[:,1])\n",
    "roc_auc_test = auc(fpr_test, tpr_test)\n",
    "\n",
    "\n",
    "plt.plot(fpr_train, tpr_train, label = \"Train_AUC\"+str(auc(fpr_train, tpr_train)))\n",
    "plt.plot(fpr_test, tpr_test, label = \"Test_AUC\"+str(auc(fpr_test, tpr_test)))\n",
    "plt.legend(loc = 'lower right')\n",
    "\n",
    "plt.plot([0, 1], [0, 1],'r--')\n",
    "plt.xlim([0, 1])\n",
    "plt.ylim([0, 1])\n",
    "\n",
    "plt.ylabel('True Positive Rate')\n",
    "plt.xlabel('False Positive Rate')\n",
    "plt.title('ROC Curve of KNN ')\n",
    "plt.show()\n"
   ]
  },
  {
   "cell_type": "markdown",
   "metadata": {},
   "source": [
    "# Confusion Matrix"
   ]
  },
  {
   "cell_type": "code",
   "execution_count": 64,
   "metadata": {},
   "outputs": [
    {
     "data": {
      "image/png": "[encoded data removed]",
      "text/plain": [
       "<Figure size 1440x288 with 6 Axes>"
      ]
     },
     "metadata": {
      "needs_background": "light"
     },
     "output_type": "display_data"
    }
   ],
   "source": [
    "predicted_y2 = model_new2.predict(X_test_tfidf)\n",
    "plot_confusion_matrix(y_test, predicted_y2)"
   ]
  },
  {
   "cell_type": "markdown",
   "metadata": {},
   "source": [
    "# Classification Report"
   ]
  },
  {
   "cell_type": "code",
   "execution_count": 65,
   "metadata": {},
   "outputs": [
    {
     "name": "stdout",
     "output_type": "stream",
     "text": [
      "_____________________________________________________________________________________________________\n",
      "Classification Report: \n",
      "\n",
      "              precision    recall  f1-score   support\n",
      "\n",
      "           0       0.37      0.02      0.04      3308\n",
      "           1       0.85      0.99      0.92     18542\n",
      "\n",
      "   micro avg       0.85      0.85      0.85     21850\n",
      "   macro avg       0.61      0.51      0.48     21850\n",
      "weighted avg       0.78      0.85      0.78     21850\n",
      "\n",
      "_____________________________________________________________________________________________________\n"
     ]
    }
   ],
   "source": [
    "from sklearn.metrics import classification_report\n",
    "print(\"_\" * 101)\n",
    "print(\"Classification Report: \\n\")\n",
    "print(classification_report(y_test,predicted_y2))\n",
    "print(\"_\" * 101)\n"
   ]
  },
  {
   "cell_type": "markdown",
   "metadata": {},
   "source": [
    " # The top 10 features of positive class and top 10 features of negative class "
   ]
  },
  {
   "cell_type": "code",
   "execution_count": 66,
   "metadata": {},
   "outputs": [],
   "source": [
    "feature_name_tfidf = vectorizer9.get_feature_names() + vectorizer8.get_feature_names()"
   ]
  },
  {
   "cell_type": "code",
   "execution_count": 67,
   "metadata": {},
   "outputs": [
    {
     "name": "stdout",
     "output_type": "stream",
     "text": [
      "('chromebook', -5.913586960232041)\n",
      "('to read', -6.016957369298539)\n",
      "('kindles', -6.041128358995049)\n",
      "('through art', -6.105653117461749)\n",
      "('wiggles', -6.157351574304518)\n",
      "('workshop', -6.269589854310943)\n",
      "('pro', -6.314587696170584)\n",
      "('let', -6.320687823609011)\n",
      "('wiggle while', -6.376670540050591)\n",
      "('you hear', -6.412861703452299)\n"
     ]
    }
   ],
   "source": [
    "# for class 0\n",
    "\n",
    "import operator\n",
    "\n",
    "y_pedict_log_prob = model_new2.feature_log_prob_[0,:]\n",
    "\n",
    "name_tfidf = {}\n",
    "for i in range(len(feature_name_tfidf)):\n",
    "    name_tfidf[feature_name_tfidf[i]] = y_pedict_log_prob[i]\n",
    "\n",
    "name_tfidf_sorted = sorted(name_tfidf.items(), key = operator.itemgetter(1), reverse = True)\n",
    "for i in range(10):\n",
    "    print(name_tfidf_sorted[i])\n",
    " "
   ]
  },
  {
   "cell_type": "code",
   "execution_count": 68,
   "metadata": {},
   "outputs": [
    {
     "name": "stdout",
     "output_type": "stream",
     "text": [
      "('chromebook', -5.850299185149732)\n",
      "('through art', -6.015855988984216)\n",
      "('to read', -6.016421761708642)\n",
      "('pro', -6.071199938385796)\n",
      "('kindles', -6.101798583893006)\n",
      "('wiggles', -6.149727065314974)\n",
      "('workshop', -6.244430506611863)\n",
      "('thinkers', -6.263662060452925)\n",
      "('lights camera', -6.329844402515219)\n",
      "('ye', -6.361638715249332)\n"
     ]
    }
   ],
   "source": [
    "# for class 0\n",
    "\n",
    "import operator\n",
    "\n",
    "y_pedict_log_prob = model_new2.feature_log_prob_[1,:]\n",
    "\n",
    "name_tfidf = {}\n",
    "for i in range(len(feature_name_tfidf)):\n",
    "    name_tfidf[feature_name_tfidf[i]] = y_pedict_log_prob[i]\n",
    "\n",
    "name_tfidf_sorted = sorted(name_tfidf.items(), key = operator.itemgetter(1), reverse = True)\n",
    "for i in range(10):\n",
    "    print(name_tfidf_sorted[i])\n",
    " "
   ]
  },
  {
   "cell_type": "markdown",
   "metadata": {},
   "source": [
    "# Conclusions"
   ]
  },
  {
   "cell_type": "code",
   "execution_count": 70,
   "metadata": {},
   "outputs": [
    {
     "name": "stdout",
     "output_type": "stream",
     "text": [
      "+------------+----------------------+-----------+----------+\n",
      "| Vectorizer | Hyperparameter_alpha | AUC_train | AUC_test |\n",
      "+------------+----------------------+-----------+----------+\n",
      "|    BOW     |          1           |   0.724   |  0.686   |\n",
      "|   TF-IDF   |          1           |   0.678   |  0.654   |\n",
      "+------------+----------------------+-----------+----------+\n"
     ]
    }
   ],
   "source": [
    "from prettytable import PrettyTable\n",
    "\n",
    "pretty = PrettyTable()\n",
    "\n",
    "pretty.field_names = ['Vectorizer','Hyperparameter_alpha','AUC_train','AUC_test']\n",
    "\n",
    "pretty.add_row(['BOW',a,'0.724','0.686'])\n",
    "pretty.add_row(['TF-IDF',a2,'0.678','0.654'])\n",
    "\n",
    "print(pretty)"
   ]
  }
 ],
 "metadata": {
  "kernelspec": {
   "display_name": "Python 3",
   "language": "python",
   "name": "python3"
  },
  "language_info": {
   "codemirror_mode": {
    "name": "ipython",
    "version": 3
   },
   "file_extension": ".py",
   "mimetype": "text/x-python",
   "name": "python",
   "nbconvert_exporter": "python",
   "pygments_lexer": "ipython3",
   "version": "3.7.3"
  }
 },
 "nbformat": 4,
 "nbformat_minor": 2
}
